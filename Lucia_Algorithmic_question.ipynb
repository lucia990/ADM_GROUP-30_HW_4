{
  "nbformat": 4,
  "nbformat_minor": 0,
  "metadata": {
    "colab": {
      "provenance": [],
      "authorship_tag": "ABX9TyOt8Kk+4xhVTajxqcTRMLYD",
      "include_colab_link": true
    },
    "kernelspec": {
      "name": "python3",
      "display_name": "Python 3"
    },
    "language_info": {
      "name": "python"
    }
  },
  "cells": [
    {
      "cell_type": "markdown",
      "metadata": {
        "id": "view-in-github",
        "colab_type": "text"
      },
      "source": [
        "<a href=\"https://colab.research.google.com/github/lucia990/ADM_GROUP-30_HW_4/blob/Lucia/Lucia_Algorithmic_question.ipynb\" target=\"_parent\"><img src=\"https://colab.research.google.com/assets/colab-badge.svg\" alt=\"Open In Colab\"/></a>"
      ]
    },
    {
      "cell_type": "markdown",
      "source": [
        "An imaginary university wants to restrict its student’s entrance to the campus. Suppose that there are N entrances, M students and G guards. Due to the security measures, each student is known to be assigned a gate through which they should enter the university.\n",
        "\n",
        "The N entrances will be numbered from 1 to N. Regarding one entry, the entrance will be opened right before the first student’s arrival and closed right after the arrival of the last student that should enter through that specific entrance. We will assume that two students can not enter the university simultaneously. For an entry to be protected, a guard should be assigned to it. Notice that a guard cannot leave his post until the door he was given is closed.\n",
        "\n",
        "Assume that the university's head of the guards knows the order in which the students are coming to the university (yeah, they know you more than you know about yourself!). He wants you to help him if having only G guards is enough to address the restrictions they wish to apply (in other words, whether there will be a moment when more than G entrances should be opened or not).\n",
        "\n",
        "**Input**\n",
        "\n",
        "In the first line, you will be given the values of N, M and G, which correspond to the number of entrances to the university, the number of students in the university and the number of guards that the head of the guards intends to use to apply these restrictions respectively.\n",
        "In the second line, you will be given M integers which the ith integer corresponds to the entrance that has been assigned to the ith student to enter the university.\n",
        "\n",
        "**Output**\n",
        "\n",
        "Output “YES” if having G guards is enough to respect the restrictions, and “NO” if it is not enough.\n",
        "\n"
      ],
      "metadata": {
        "id": "-hKsFi4VRyEb"
      }
    },
    {
      "cell_type": "code",
      "execution_count": null,
      "metadata": {
        "colab": {
          "base_uri": "https://localhost:8080/"
        },
        "id": "OE4yC4pQRopZ",
        "outputId": "01e4a739-a89a-45f8-eac2-c2a5e26bd0b8"
      },
      "outputs": [
        {
          "name": "stdout",
          "output_type": "stream",
          "text": [
            "3 10 2\n",
            "1 1 2 1 2 3 1 2 1 1\n"
          ]
        }
      ],
      "source": [
        "#first input\n",
        "line1 = input()\n",
        "N, M, G = list(map(int, line1.split()))  #3 int values (e.g. 3 5 2)\n",
        "#second input\n",
        "line2 = input()\n",
        "l_line2 = line2.split()\n",
        "entrances = list(map(int, l_line2))   #list of integers (e.g. [1,2,3,3,3])"
      ]
    },
    {
      "cell_type": "markdown",
      "source": [
        "The order the entrances are assigned is not relevant in the sense that the gate 2, for instance, can be opened after the gate 3 has been closed. What is important here is to make sure that, once an entrance is closed, it is not opened anymore. \n",
        "I have to find a way to determine whenever a guard is busy or not in order to assign it to a gate. "
      ],
      "metadata": {
        "id": "jsJhBTxwYHIz"
      }
    },
    {
      "cell_type": "markdown",
      "source": [
        "We need two lists: one to keep track of the students that are entering the other one for the guards (each position of the lists is related to the gate). \n",
        "According to the input, the values of the list will be decreased. \n"
      ],
      "metadata": {
        "id": "IgyyIC1fjAsc"
      }
    },
    {
      "cell_type": "markdown",
      "source": [
        "The algorithm \"fails\" (return *NO*) in two cases: \n",
        "1. There are no free guards for the gates;\n",
        "2. A student has to enter a gate that has already been closed. \n",
        "We check for this two cases, otherwise, the algorithm returns *YES*"
      ],
      "metadata": {
        "id": "AIbe3nOWN32O"
      }
    },
    {
      "cell_type": "code",
      "source": [
        "import numpy as np"
      ],
      "metadata": {
        "id": "R8XLDggtKtw9"
      },
      "execution_count": null,
      "outputs": []
    },
    {
      "cell_type": "code",
      "source": [
        "#SECOND ATTEMPT\n",
        "#this list will have the length of the number of guards. In each position there will be the number of the gate assigned to the (i-th - 1) guard\n",
        "guards= np.zeros(G) #G = number of guards\n",
        "for i in range(len(entrances)): \n",
        "  if entrances[i] in guards:                 #if the gate is already open the student can pass\n",
        "    continue\n",
        "  else:                                      #the gate is closed. Check if it can be opened\n",
        "    if 0 in guards:                            #there is a FREE GUARD\n",
        "     free_guard = (guards==0).argmax()              #get the index of the first zero value of the guard array (it indicates the first free guard)\n",
        "     guards[free_guard] = entrances[i]              #assign the first free guard a gate\n",
        "     continue\n",
        "    else:                                   #There is NOT a FREE GUARD. Check if one of the gates assigned to the guards can be closed\n",
        "    \n",
        "      missing_guards = G - 1                    #count the guards that are missing \n",
        "      for k in range(G):\n",
        "        if guards[k] in entrances[i+1:]:         #check if the k-th gate can be closed\n",
        "          if missing_guards != 0:                #if not, check if there are missing guards\n",
        "            missing_guards -= 1\n",
        "          else: \n",
        "            print('NO')                         #there are not free guards. The schema is NOT possible!\n",
        "            break\n",
        "        else:                                   #the gate of the k-th guard array can be closed since it doesn't have to be opened again\n",
        "          guards[k] = entrances[i]              #the k-th guard can close the current gate and open the i-th gate\n",
        "if i == N-1: \n",
        "  print('YES')                                  #the algorithm has completed the cycle: the schema is possible!"
      ],
      "metadata": {
        "id": "hT6mFDXgMbrJ",
        "colab": {
          "base_uri": "https://localhost:8080/"
        },
        "outputId": "37ce67b0-c55f-4af7-903b-9ece1a57f8d4"
      },
      "execution_count": null,
      "outputs": [
        {
          "output_type": "stream",
          "name": "stdout",
          "text": [
            "NO\n"
          ]
        }
      ]
    }
  ]
}