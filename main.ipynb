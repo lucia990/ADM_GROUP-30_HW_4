{
  "cells": [
    {
      "cell_type": "markdown",
      "metadata": {
        "id": "view-in-github",
        "colab_type": "text"
      },
      "source": [
        "<a href=\"https://colab.research.google.com/github/lucia990/ADM_GROUP-30_HW_4/blob/main/main.ipynb\" target=\"_parent\"><img src=\"https://colab.research.google.com/assets/colab-badge.svg\" alt=\"Open In Colab\"/></a>"
      ]
    },
    {
      "cell_type": "markdown",
      "metadata": {
        "id": "bn1SBY7yrePE"
      },
      "source": [
        "###Data import"
      ]
    },
    {
      "cell_type": "code",
      "execution_count": 1,
      "metadata": {
        "id": "gm_ooIKYR92Z",
        "colab": {
          "base_uri": "https://localhost:8080/"
        },
        "outputId": "c50c6cbe-ddca-411e-994e-7601134b71c3"
      },
      "outputs": [
        {
          "output_type": "stream",
          "name": "stdout",
          "text": [
            "Drive already mounted at /content/drive; to attempt to forcibly remount, call drive.mount(\"/content/drive\", force_remount=True).\n"
          ]
        }
      ],
      "source": [
        "from google.colab import drive\n",
        "drive.mount('/content/drive')"
      ]
    },
    {
      "cell_type": "code",
      "execution_count": 2,
      "metadata": {
        "id": "t_kAfwtZjfJh"
      },
      "outputs": [],
      "source": [
        "import os\n",
        "os.chdir('/content/drive/MyDrive/ADM_HW_4')"
      ]
    },
    {
      "cell_type": "code",
      "execution_count": 3,
      "metadata": {
        "id": "7X4hRnzbjxyk",
        "colab": {
          "base_uri": "https://localhost:8080/"
        },
        "outputId": "b1e6ec6a-d4b3-444e-89e2-2a1a6e709fb7"
      },
      "outputs": [
        {
          "output_type": "stream",
          "name": "stdout",
          "text": [
            "/content/drive/MyDrive/ADM_HW_4\n"
          ]
        }
      ],
      "source": [
        "!pwd"
      ]
    },
    {
      "cell_type": "code",
      "execution_count": null,
      "metadata": {
        "colab": {
          "base_uri": "https://localhost:8080/"
        },
        "id": "7Fm9VikojEfY",
        "outputId": "a7eb9116-e520-43d6-d12a-3b95122355e1"
      },
      "outputs": [
        {
          "name": "stdout",
          "output_type": "stream",
          "text": [
            "Traceback (most recent call last):\n",
            "  File \"/usr/local/bin/kaggle\", line 5, in <module>\n",
            "    from kaggle.cli import main\n",
            "  File \"/usr/local/lib/python3.8/dist-packages/kaggle/__init__.py\", line 23, in <module>\n",
            "    api.authenticate()\n",
            "  File \"/usr/local/lib/python3.8/dist-packages/kaggle/api/kaggle_api_extended.py\", line 164, in authenticate\n",
            "    raise IOError('Could not find {}. Make sure it\\'s located in'\n",
            "OSError: Could not find kaggle.json. Make sure it's located in /root/.kaggle. Or use the environment method.\n"
          ]
        }
      ],
      "source": [
        "!kaggle datasets download -d shivamb/bank-customer-segmentation"
      ]
    },
    {
      "cell_type": "code",
      "execution_count": null,
      "metadata": {
        "colab": {
          "base_uri": "https://localhost:8080/"
        },
        "id": "3OXwBiYojOLD",
        "outputId": "ec65f217-26bc-48c3-8d45-e877c3c670c3"
      },
      "outputs": [
        {
          "name": "stdout",
          "output_type": "stream",
          "text": [
            "Archive:  bank-customer-segmentation.zip\n",
            "  inflating: bank_transactions.csv   \n"
          ]
        }
      ],
      "source": [
        "!unzip bank-customer-segmentation.zip"
      ]
    },
    {
      "cell_type": "markdown",
      "metadata": {
        "id": "4rLOICi6rkzb"
      },
      "source": [
        "###Inspect the dataset"
      ]
    },
    {
      "cell_type": "code",
      "execution_count": null,
      "metadata": {
        "id": "7rB3mbVojRQK"
      },
      "outputs": [],
      "source": [
        "#create the dataframe\n",
        "import pandas as pd\n",
        "data = pd.read_csv('bank_transactions.csv', usecols = ['CustomerID', 'CustomerDOB','CustGender',\t'CustLocation',\t'CustAccountBalance', 'TransactionDate', 'TransactionTime',\t'TransactionAmount (INR)'])\n",
        "#drop the columns containing transaction and customer IDs since they are not useful information for similarity detection "
      ]
    },
    {
      "cell_type": "code",
      "execution_count": null,
      "metadata": {
        "id": "2VvEDeFWj598"
      },
      "outputs": [],
      "source": [
        "#group by the customer id. For each of them we pick the last transaction\n",
        "customer_data = data.groupby('CustomerID').last()\n",
        "customer_data.reset_index(drop = True, inplace = True)"
      ]
    },
    {
      "cell_type": "code",
      "execution_count": null,
      "metadata": {
        "colab": {
          "base_uri": "https://localhost:8080/"
        },
        "id": "ivdfxmh-j7Eh",
        "outputId": "b83c0feb-f7a4-499e-faaa-e82218f57ce6"
      },
      "outputs": [
        {
          "data": {
            "text/plain": [
              "CustomerDOB                2372\n",
              "CustGender                  803\n",
              "CustLocation                114\n",
              "CustAccountBalance         1665\n",
              "TransactionDate               0\n",
              "TransactionTime               0\n",
              "TransactionAmount (INR)       0\n",
              "dtype: int64"
            ]
          },
          "execution_count": 20,
          "metadata": {},
          "output_type": "execute_result"
        }
      ],
      "source": [
        "#check how many missing values there are in the dataset\n",
        "customer_data.isna().sum()"
      ]
    },
    {
      "cell_type": "code",
      "execution_count": null,
      "metadata": {
        "id": "TymgE_sCZw1T"
      },
      "outputs": [],
      "source": [
        "customer_data.dropna(inplace= True)\n",
        "customer_data.reset_index(drop = True, inplace = True)"
      ]
    },
    {
      "cell_type": "code",
      "execution_count": null,
      "metadata": {
        "colab": {
          "base_uri": "https://localhost:8080/"
        },
        "id": "j8ralHWTowU0",
        "outputId": "1791d3ba-52d0-4fc9-a73c-e0fc8a63d97b"
      },
      "outputs": [
        {
          "data": {
            "text/plain": [
              "CustomerDOB                0\n",
              "CustGender                 0\n",
              "CustLocation               0\n",
              "CustAccountBalance         0\n",
              "TransactionDate            0\n",
              "TransactionTime            0\n",
              "TransactionAmount (INR)    0\n",
              "dtype: int64"
            ]
          },
          "execution_count": 22,
          "metadata": {},
          "output_type": "execute_result"
        }
      ],
      "source": [
        "customer_data.isna().sum()"
      ]
    },
    {
      "cell_type": "markdown",
      "metadata": {
        "id": "krPXQusAu9W6"
      },
      "source": [
        "Now we want the data in each column to be of the types we can manipulate better. \n"
      ]
    },
    {
      "cell_type": "markdown",
      "metadata": {
        "id": "QWcG0VR61L86"
      },
      "source": [
        "#### Transaction Date"
      ]
    },
    {
      "cell_type": "code",
      "execution_count": null,
      "metadata": {
        "id": "JusgdPue1Ocf"
      },
      "outputs": [],
      "source": [
        "#we want the date to be of datetime type\n",
        "customer_data['TransactionDate'] = pd.to_datetime(customer_data.TransactionDate)"
      ]
    },
    {
      "cell_type": "code",
      "execution_count": null,
      "metadata": {
        "colab": {
          "base_uri": "https://localhost:8080/"
        },
        "id": "vn9KvgHM1Y5B",
        "outputId": "cb2b7839-916b-471e-dd88-117f5c95f186"
      },
      "outputs": [
        {
          "data": {
            "text/plain": [
              "0        2016-09-08\n",
              "1        2016-08-14\n",
              "2        2016-07-08\n",
              "3        2016-09-15\n",
              "4        2016-08-18\n",
              "            ...    \n",
              "879354   2016-07-08\n",
              "879355   2016-09-15\n",
              "879356   2016-08-18\n",
              "879357   2016-08-28\n",
              "879358   2016-09-25\n",
              "Name: TransactionDate, Length: 879359, dtype: datetime64[ns]"
            ]
          },
          "execution_count": 24,
          "metadata": {},
          "output_type": "execute_result"
        }
      ],
      "source": [
        "customer_data.TransactionDate"
      ]
    },
    {
      "cell_type": "code",
      "execution_count": null,
      "metadata": {
        "colab": {
          "base_uri": "https://localhost:8080/"
        },
        "id": "HFcARKS41hHX",
        "outputId": "1e5b3eb1-9528-43cb-b6a1-e567f219016d"
      },
      "outputs": [
        {
          "data": {
            "text/plain": [
              "2016    879359\n",
              "Name: TransactionDate, dtype: int64"
            ]
          },
          "execution_count": 25,
          "metadata": {},
          "output_type": "execute_result"
        }
      ],
      "source": [
        "customer_data.TransactionDate.dt.year.value_counts()"
      ]
    },
    {
      "cell_type": "markdown",
      "metadata": {
        "id": "ckdaShus1l6m"
      },
      "source": [
        "We see that our dataset deals with transactions in 2016. "
      ]
    },
    {
      "cell_type": "markdown",
      "metadata": {
        "id": "RWvqIMdLvMgX"
      },
      "source": [
        "#### Date of Birth"
      ]
    },
    {
      "cell_type": "code",
      "execution_count": null,
      "metadata": {
        "id": "p9BkM5_yvaRY"
      },
      "outputs": [],
      "source": [
        "#we want the date to be of datetime type\n",
        "customer_data['CustomerDOB'] = pd.to_datetime(customer_data.CustomerDOB)"
      ]
    },
    {
      "cell_type": "code",
      "execution_count": null,
      "metadata": {
        "colab": {
          "base_uri": "https://localhost:8080/",
          "height": 282
        },
        "id": "ADa0Dphny1KI",
        "outputId": "0d96a00d-73b9-4ef0-d08f-7aa595709a5b"
      },
      "outputs": [
        {
          "data": {
            "text/plain": [
              "<matplotlib.axes._subplots.AxesSubplot at 0x7f2995ea1280>"
            ]
          },
          "execution_count": 27,
          "metadata": {},
          "output_type": "execute_result"
        },
        {
          "data": {
            "image/png": "[encoded data removed]",
            "text/plain": [
              "<Figure size 432x288 with 1 Axes>"
            ]
          },
          "metadata": {},
          "output_type": "display_data"
        }
      ],
      "source": [
        "customer_data.CustomerDOB.dt.year.hist(bins= 50)"
      ]
    },
    {
      "cell_type": "code",
      "execution_count": null,
      "metadata": {
        "colab": {
          "base_uri": "https://localhost:8080/"
        },
        "id": "Lk9u4JBt0UDP",
        "outputId": "5f327a60-1043-4e56-e38b-f89e8c1a0063"
      },
      "outputs": [
        {
          "data": {
            "text/plain": [
              "16       1800-01-01\n",
              "28       1800-01-01\n",
              "49       1800-01-01\n",
              "78       1800-01-01\n",
              "85       1800-01-01\n",
              "            ...    \n",
              "879309   1800-01-01\n",
              "879311   1800-01-01\n",
              "879317   1800-01-01\n",
              "879325   1800-01-01\n",
              "879328   1800-01-01\n",
              "Name: CustomerDOB, Length: 47541, dtype: datetime64[ns]"
            ]
          },
          "execution_count": 28,
          "metadata": {},
          "output_type": "execute_result"
        }
      ],
      "source": [
        "customer_data.loc[customer_data.CustomerDOB.dt.year == 1800, 'CustomerDOB']"
      ]
    },
    {
      "cell_type": "code",
      "execution_count": null,
      "metadata": {
        "colab": {
          "base_uri": "https://localhost:8080/"
        },
        "id": "Np0OGGp_1BdS",
        "outputId": "e3f06f09-47bf-45dd-a0ea-2e96cc3ee537"
      },
      "outputs": [
        {
          "data": {
            "text/plain": [
              "181206   2018-03-05\n",
              "210272   2019-12-15\n",
              "427436   2019-12-15\n",
              "4230     2019-12-15\n",
              "177641   2019-12-15\n",
              "            ...    \n",
              "872086   2071-12-30\n",
              "500052   2071-12-30\n",
              "315875   2071-12-30\n",
              "464861   2071-12-31\n",
              "334142   2071-12-31\n",
              "Name: CustomerDOB, Length: 63124, dtype: datetime64[ns]"
            ]
          },
          "execution_count": 29,
          "metadata": {},
          "output_type": "execute_result"
        }
      ],
      "source": [
        "customer_data.loc[customer_data.CustomerDOB.dt.year > 2016, 'CustomerDOB'].sort_values()"
      ]
    },
    {
      "cell_type": "markdown",
      "metadata": {
        "id": "iXExwyS7y76q"
      },
      "source": [
        "We notice something weird: according to this dataset there are customer born in 1800 and after 2016. This is very unlikely: maybe for that customer the date of birth was missing and replaced with a default one. What we can do is dropping the corresponding rows (but we see that in this way we are going to lose more than 130000 transactions) or \"fix\" the data. Since we have to hash the customer, we want the data to be fixed in a way that does not compromise the results of the hashing operation. \n",
        "\n",
        "We notice also that the DOB in 1800 have the same exact date, unlike the successive DOB, so maybe it is better to correct them with different approaches:\n",
        "- for DOB > 2016 we simply subtract 100 years in order to assign a likely date of birth. Of course this represents an issue for finding similar customers, but better than dropping all the information related to these transactions. \n",
        "- for DOB = **1800-01-01** we need to replace the date of birth with the customer resulting the most similar to the customers whos DOB is wrong. "
      ]
    },
    {
      "cell_type": "code",
      "execution_count": null,
      "metadata": {
        "id": "8WDJqSxEy0dZ"
      },
      "outputs": [],
      "source": [
        "customer_data.loc[customer_data.CustomerDOB.dt.year > 2016, 'CustomerDOB'] = customer_data.loc[customer_data.CustomerDOB.dt.year > 2016, 'CustomerDOB'] - pd.DateOffset(years = 100)"
      ]
    },
    {
      "cell_type": "code",
      "execution_count": null,
      "metadata": {
        "colab": {
          "base_uri": "https://localhost:8080/"
        },
        "id": "JxIHxx-K7zg4",
        "outputId": "2c841d70-4ffc-4023-931f-82d40e58170e"
      },
      "outputs": [
        {
          "data": {
            "text/plain": [
              "0"
            ]
          },
          "execution_count": 31,
          "metadata": {},
          "output_type": "execute_result"
        }
      ],
      "source": [
        "customer_data.loc[customer_data.CustomerDOB.dt.year > 2016, 'CustomerDOB'].count()"
      ]
    },
    {
      "cell_type": "markdown",
      "metadata": {
        "id": "ZZSOY9iI8Iha"
      },
      "source": [
        "We fixed the first problem. We want to find a way to fix the second. If we find some common feature for all those transactions with equal DOB we can deduct a solution for dealing with them. \n",
        "In this part, we create a subset of the dataframe containing only the transactions with the wrong date of birth and find common features among them. The chosen date of birth chosen for all these transactions will be the DOB of the customer having these common features.  "
      ]
    },
    {
      "cell_type": "code",
      "execution_count": null,
      "metadata": {
        "id": "eFmhPfc98S0K"
      },
      "outputs": [],
      "source": [
        "#dataframe containing only the data with the wrong date of birth\n",
        "#This dataframe will help us finding similar behaviors among the customers\n",
        "sub_data = customer_data.loc[customer_data.CustomerDOB.dt.year == 1800]"
      ]
    },
    {
      "cell_type": "markdown",
      "metadata": {
        "id": "RO7etQ4__XON"
      },
      "source": [
        "For the majority, the wrong date are related to male customers. "
      ]
    },
    {
      "cell_type": "code",
      "execution_count": null,
      "metadata": {
        "colab": {
          "base_uri": "https://localhost:8080/"
        },
        "id": "_NRd2zYh9Bx4",
        "outputId": "d133c698-8c04-4185-92cf-a1d6ccf1c8e4"
      },
      "outputs": [
        {
          "data": {
            "text/plain": [
              "268667.53402389516"
            ]
          },
          "execution_count": 90,
          "metadata": {},
          "output_type": "execute_result"
        }
      ],
      "source": [
        "sub_data.CustAccountBalance.mean()"
      ]
    },
    {
      "cell_type": "code",
      "execution_count": null,
      "metadata": {
        "colab": {
          "base_uri": "https://localhost:8080/"
        },
        "id": "UxQ1eCBSEbm2",
        "outputId": "81a0872b-9e9b-46d2-89b1-8782482a0d53"
      },
      "outputs": [
        {
          "data": {
            "text/plain": [
              "NEW DELHI                             6560\n",
              "MUMBAI                                3700\n",
              "BANGALORE                             3044\n",
              "DELHI                                 2685\n",
              "GURGAON                               2628\n",
              "                                      ... \n",
              "COLLEGE KEMPAPURA HEBBAL BANGALORE       1\n",
              "CHINCHWAD PUNE                           1\n",
              "RAMDEV TEMPLE RANGAREDDY                 1\n",
              "DARYA GANJ NEW DELHI                     1\n",
              "NARNAUL                                  1\n",
              "Name: CustLocation, Length: 1603, dtype: int64"
            ]
          },
          "execution_count": 91,
          "metadata": {},
          "output_type": "execute_result"
        }
      ],
      "source": [
        "sub_data.CustLocation.value_counts()\n"
      ]
    },
    {
      "cell_type": "code",
      "execution_count": null,
      "metadata": {
        "colab": {
          "base_uri": "https://localhost:8080/"
        },
        "id": "MrpdrGf0-eAC",
        "outputId": "9ec148be-10ab-4b4a-ef88-5849a62b6d89"
      },
      "outputs": [
        {
          "data": {
            "text/plain": [
              "1000.00    2293\n",
              "500.00     1755\n",
              "2000.00     950\n",
              "200.00      910\n",
              "100.00      845\n",
              "           ... \n",
              "5446.00       1\n",
              "9426.00       1\n",
              "1165.50       1\n",
              "7209.68       1\n",
              "9511.36       1\n",
              "Name: TransactionAmount (INR), Length: 12652, dtype: int64"
            ]
          },
          "execution_count": 106,
          "metadata": {},
          "output_type": "execute_result"
        }
      ],
      "source": [
        "sub_data['TransactionAmount (INR)'].value_counts()"
      ]
    },
    {
      "cell_type": "markdown",
      "metadata": {
        "id": "YGe1SXXW8D7f"
      },
      "source": [
        "We look for a male customer, located in New Delhi, with a transaction amount of 1000. "
      ]
    },
    {
      "cell_type": "code",
      "execution_count": null,
      "metadata": {
        "colab": {
          "base_uri": "https://localhost:8080/"
        },
        "id": "NY97yjXpFoRD",
        "outputId": "4b4c9a3c-c4b0-4d61-92dc-239ed00bbf99"
      },
      "outputs": [
        {
          "name": "stderr",
          "output_type": "stream",
          "text": [
            "<ipython-input-33-742b9d1d76d5>:2: UserWarning: Boolean Series key will be reindexed to match DataFrame index.\n",
            "  sub_data1 = customer_data[customer_data['CustAccountBalance'] >= 268667 ][customer_data['CustLocation'] == 'NEW DELHI'][customer_data['TransactionAmount (INR)'] == 1000][customer_data['CustGender'] == 'M']\n"
          ]
        }
      ],
      "source": [
        "#create the dataframe containing the info we need\n",
        "sub_data1 = customer_data[customer_data['CustAccountBalance'] >= 268667 ][customer_data['CustLocation'] == 'NEW DELHI'][customer_data['TransactionAmount (INR)'] == 1000][customer_data['CustGender'] == 'M']"
      ]
    },
    {
      "cell_type": "code",
      "execution_count": null,
      "metadata": {
        "id": "p1D5eYwXjLeY"
      },
      "outputs": [],
      "source": [
        "#we want to keep only correct data\n",
        "sub_data1 = sub_data1[sub_data1['CustomerDOB'] != '1800-01-01' ]"
      ]
    },
    {
      "cell_type": "code",
      "execution_count": null,
      "metadata": {
        "colab": {
          "base_uri": "https://localhost:8080/",
          "height": 505
        },
        "id": "qQWdG6Eqj_RL",
        "outputId": "ecb7ab26-cf9e-42df-a209-35a6504f5f5a"
      },
      "outputs": [
        {
          "data": {
            "text/html": [
              "\n",
              "  <div id=\"df-733556d9-9ff8-4e9f-a3e6-bd791b8ebca1\">\n",
              "    <div class=\"colab-df-container\">\n",
              "      <div>\n",
              "<style scoped>\n",
              "    .dataframe tbody tr th:only-of-type {\n",
              "        vertical-align: middle;\n",
              "    }\n",
              "\n",
              "    .dataframe tbody tr th {\n",
              "        vertical-align: top;\n",
              "    }\n",
              "\n",
              "    .dataframe thead th {\n",
              "        text-align: right;\n",
              "    }\n",
              "</style>\n",
              "<table border=\"1\" class=\"dataframe\">\n",
              "  <thead>\n",
              "    <tr style=\"text-align: right;\">\n",
              "      <th></th>\n",
              "      <th>CustomerDOB</th>\n",
              "      <th>CustGender</th>\n",
              "      <th>CustLocation</th>\n",
              "      <th>CustAccountBalance</th>\n",
              "      <th>TransactionDate</th>\n",
              "      <th>TransactionTime</th>\n",
              "      <th>TransactionAmount (INR)</th>\n",
              "    </tr>\n",
              "  </thead>\n",
              "  <tbody>\n",
              "    <tr>\n",
              "      <th>152571</th>\n",
              "      <td>1981-11-09</td>\n",
              "      <td>M</td>\n",
              "      <td>NEW DELHI</td>\n",
              "      <td>271640.32</td>\n",
              "      <td>2016-10-08</td>\n",
              "      <td>81147</td>\n",
              "      <td>1000.0</td>\n",
              "    </tr>\n",
              "    <tr>\n",
              "      <th>762459</th>\n",
              "      <td>1989-04-08</td>\n",
              "      <td>M</td>\n",
              "      <td>NEW DELHI</td>\n",
              "      <td>278652.44</td>\n",
              "      <td>2016-02-09</td>\n",
              "      <td>95939</td>\n",
              "      <td>1000.0</td>\n",
              "    </tr>\n",
              "    <tr>\n",
              "      <th>455370</th>\n",
              "      <td>1991-02-08</td>\n",
              "      <td>M</td>\n",
              "      <td>NEW DELHI</td>\n",
              "      <td>287095.41</td>\n",
              "      <td>2016-05-09</td>\n",
              "      <td>211627</td>\n",
              "      <td>1000.0</td>\n",
              "    </tr>\n",
              "    <tr>\n",
              "      <th>237811</th>\n",
              "      <td>1962-12-17</td>\n",
              "      <td>M</td>\n",
              "      <td>NEW DELHI</td>\n",
              "      <td>288077.41</td>\n",
              "      <td>2016-03-08</td>\n",
              "      <td>72831</td>\n",
              "      <td>1000.0</td>\n",
              "    </tr>\n",
              "    <tr>\n",
              "      <th>20736</th>\n",
              "      <td>1962-12-17</td>\n",
              "      <td>M</td>\n",
              "      <td>NEW DELHI</td>\n",
              "      <td>288077.41</td>\n",
              "      <td>2016-10-08</td>\n",
              "      <td>72658</td>\n",
              "      <td>1000.0</td>\n",
              "    </tr>\n",
              "    <tr>\n",
              "      <th>...</th>\n",
              "      <td>...</td>\n",
              "      <td>...</td>\n",
              "      <td>...</td>\n",
              "      <td>...</td>\n",
              "      <td>...</td>\n",
              "      <td>...</td>\n",
              "      <td>...</td>\n",
              "    </tr>\n",
              "    <tr>\n",
              "      <th>52547</th>\n",
              "      <td>1987-09-24</td>\n",
              "      <td>M</td>\n",
              "      <td>NEW DELHI</td>\n",
              "      <td>5554571.47</td>\n",
              "      <td>2016-08-14</td>\n",
              "      <td>182403</td>\n",
              "      <td>1000.0</td>\n",
              "    </tr>\n",
              "    <tr>\n",
              "      <th>758068</th>\n",
              "      <td>1987-09-24</td>\n",
              "      <td>M</td>\n",
              "      <td>NEW DELHI</td>\n",
              "      <td>5554571.47</td>\n",
              "      <td>2016-08-08</td>\n",
              "      <td>191104</td>\n",
              "      <td>1000.0</td>\n",
              "    </tr>\n",
              "    <tr>\n",
              "      <th>367354</th>\n",
              "      <td>1987-09-24</td>\n",
              "      <td>M</td>\n",
              "      <td>NEW DELHI</td>\n",
              "      <td>5554571.47</td>\n",
              "      <td>2016-06-08</td>\n",
              "      <td>195010</td>\n",
              "      <td>1000.0</td>\n",
              "    </tr>\n",
              "    <tr>\n",
              "      <th>226530</th>\n",
              "      <td>1968-01-13</td>\n",
              "      <td>M</td>\n",
              "      <td>NEW DELHI</td>\n",
              "      <td>6781360.50</td>\n",
              "      <td>2016-08-13</td>\n",
              "      <td>120214</td>\n",
              "      <td>1000.0</td>\n",
              "    </tr>\n",
              "    <tr>\n",
              "      <th>229325</th>\n",
              "      <td>1953-09-30</td>\n",
              "      <td>M</td>\n",
              "      <td>NEW DELHI</td>\n",
              "      <td>37254856.90</td>\n",
              "      <td>2016-01-08</td>\n",
              "      <td>103741</td>\n",
              "      <td>1000.0</td>\n",
              "    </tr>\n",
              "  </tbody>\n",
              "</table>\n",
              "<p>139 rows × 7 columns</p>\n",
              "</div>\n",
              "      <button class=\"colab-df-convert\" onclick=\"convertToInteractive('df-733556d9-9ff8-4e9f-a3e6-bd791b8ebca1')\"\n",
              "              title=\"Convert this dataframe to an interactive table.\"\n",
              "              style=\"display:none;\">\n",
              "        \n",
              "  <svg xmlns=\"http://www.w3.org/2000/svg\" height=\"24px\"viewBox=\"0 0 24 24\"\n",
              "       width=\"24px\">\n",
              "    <path d=\"M0 0h24v24H0V0z\" fill=\"none\"/>\n",
              "    <path d=\"M18.56 5.44l.94 2.06.94-2.06 2.06-.94-2.06-.94-.94-2.06-.94 2.06-2.06.94zm-11 1L8.5 8.5l.94-2.06 2.06-.94-2.06-.94L8.5 2.5l-.94 2.06-2.06.94zm10 10l.94 2.06.94-2.06 2.06-.94-2.06-.94-.94-2.06-.94 2.06-2.06.94z\"/><path d=\"M17.41 7.96l-1.37-1.37c-.4-.4-.92-.59-1.43-.59-.52 0-1.04.2-1.43.59L10.3 9.45l-7.72 7.72c-.78.78-.78 2.05 0 2.83L4 21.41c.39.39.9.59 1.41.59.51 0 1.02-.2 1.41-.59l7.78-7.78 2.81-2.81c.8-.78.8-2.07 0-2.86zM5.41 20L4 18.59l7.72-7.72 1.47 1.35L5.41 20z\"/>\n",
              "  </svg>\n",
              "      </button>\n",
              "      \n",
              "  <style>\n",
              "    .colab-df-container {\n",
              "      display:flex;\n",
              "      flex-wrap:wrap;\n",
              "      gap: 12px;\n",
              "    }\n",
              "\n",
              "    .colab-df-convert {\n",
              "      background-color: #E8F0FE;\n",
              "      border: none;\n",
              "      border-radius: 50%;\n",
              "      cursor: pointer;\n",
              "      display: none;\n",
              "      fill: #1967D2;\n",
              "      height: 32px;\n",
              "      padding: 0 0 0 0;\n",
              "      width: 32px;\n",
              "    }\n",
              "\n",
              "    .colab-df-convert:hover {\n",
              "      background-color: #E2EBFA;\n",
              "      box-shadow: 0px 1px 2px rgba(60, 64, 67, 0.3), 0px 1px 3px 1px rgba(60, 64, 67, 0.15);\n",
              "      fill: #174EA6;\n",
              "    }\n",
              "\n",
              "    [theme=dark] .colab-df-convert {\n",
              "      background-color: #3B4455;\n",
              "      fill: #D2E3FC;\n",
              "    }\n",
              "\n",
              "    [theme=dark] .colab-df-convert:hover {\n",
              "      background-color: #434B5C;\n",
              "      box-shadow: 0px 1px 3px 1px rgba(0, 0, 0, 0.15);\n",
              "      filter: drop-shadow(0px 1px 2px rgba(0, 0, 0, 0.3));\n",
              "      fill: #FFFFFF;\n",
              "    }\n",
              "  </style>\n",
              "\n",
              "      <script>\n",
              "        const buttonEl =\n",
              "          document.querySelector('#df-733556d9-9ff8-4e9f-a3e6-bd791b8ebca1 button.colab-df-convert');\n",
              "        buttonEl.style.display =\n",
              "          google.colab.kernel.accessAllowed ? 'block' : 'none';\n",
              "\n",
              "        async function convertToInteractive(key) {\n",
              "          const element = document.querySelector('#df-733556d9-9ff8-4e9f-a3e6-bd791b8ebca1');\n",
              "          const dataTable =\n",
              "            await google.colab.kernel.invokeFunction('convertToInteractive',\n",
              "                                                     [key], {});\n",
              "          if (!dataTable) return;\n",
              "\n",
              "          const docLinkHtml = 'Like what you see? Visit the ' +\n",
              "            '<a target=\"_blank\" href=https://colab.research.google.com/notebooks/data_table.ipynb>data table notebook</a>'\n",
              "            + ' to learn more about interactive tables.';\n",
              "          element.innerHTML = '';\n",
              "          dataTable['output_type'] = 'display_data';\n",
              "          await google.colab.output.renderOutput(dataTable, element);\n",
              "          const docLink = document.createElement('div');\n",
              "          docLink.innerHTML = docLinkHtml;\n",
              "          element.appendChild(docLink);\n",
              "        }\n",
              "      </script>\n",
              "    </div>\n",
              "  </div>\n",
              "  "
            ],
            "text/plain": [
              "       CustomerDOB CustGender CustLocation  CustAccountBalance  \\\n",
              "152571  1981-11-09          M    NEW DELHI           271640.32   \n",
              "762459  1989-04-08          M    NEW DELHI           278652.44   \n",
              "455370  1991-02-08          M    NEW DELHI           287095.41   \n",
              "237811  1962-12-17          M    NEW DELHI           288077.41   \n",
              "20736   1962-12-17          M    NEW DELHI           288077.41   \n",
              "...            ...        ...          ...                 ...   \n",
              "52547   1987-09-24          M    NEW DELHI          5554571.47   \n",
              "758068  1987-09-24          M    NEW DELHI          5554571.47   \n",
              "367354  1987-09-24          M    NEW DELHI          5554571.47   \n",
              "226530  1968-01-13          M    NEW DELHI          6781360.50   \n",
              "229325  1953-09-30          M    NEW DELHI         37254856.90   \n",
              "\n",
              "       TransactionDate  TransactionTime  TransactionAmount (INR)  \n",
              "152571      2016-10-08            81147                   1000.0  \n",
              "762459      2016-02-09            95939                   1000.0  \n",
              "455370      2016-05-09           211627                   1000.0  \n",
              "237811      2016-03-08            72831                   1000.0  \n",
              "20736       2016-10-08            72658                   1000.0  \n",
              "...                ...              ...                      ...  \n",
              "52547       2016-08-14           182403                   1000.0  \n",
              "758068      2016-08-08           191104                   1000.0  \n",
              "367354      2016-06-08           195010                   1000.0  \n",
              "226530      2016-08-13           120214                   1000.0  \n",
              "229325      2016-01-08           103741                   1000.0  \n",
              "\n",
              "[139 rows x 7 columns]"
            ]
          },
          "execution_count": 35,
          "metadata": {},
          "output_type": "execute_result"
        }
      ],
      "source": [
        "sub_data1.sort_values(by = 'CustAccountBalance')"
      ]
    },
    {
      "cell_type": "markdown",
      "metadata": {
        "id": "S0h-u9gfkVHs"
      },
      "source": [
        "The customer that is most similar to the mean of customers whose date of birth is wrong is the first one. We can compare, for instance, the bar plots"
      ]
    },
    {
      "cell_type": "markdown",
      "metadata": {
        "id": "TmWeMV38lDxQ"
      },
      "source": [
        "We replace the date **1800-01-01** with **1981-11-09**\t"
      ]
    },
    {
      "cell_type": "code",
      "execution_count": null,
      "metadata": {
        "id": "7_JCrZKnlDDD"
      },
      "outputs": [],
      "source": [
        "data1 = customer_data.replace(['1800-01-01'], '1981-11-09' )"
      ]
    },
    {
      "cell_type": "code",
      "execution_count": null,
      "metadata": {
        "id": "4y7O3dV9tLD2"
      },
      "outputs": [],
      "source": [
        "data1.reset_index(drop=True, inplace = True)"
      ]
    },
    {
      "cell_type": "code",
      "execution_count": null,
      "metadata": {
        "id": "cnO-zYY9op_P"
      },
      "outputs": [],
      "source": [
        "data1['CustomerDOB'] = pd.to_datetime(data1['CustomerDOB'])"
      ]
    },
    {
      "cell_type": "code",
      "execution_count": null,
      "metadata": {
        "colab": {
          "base_uri": "https://localhost:8080/",
          "height": 282
        },
        "id": "ZPR3f_NkosRr",
        "outputId": "1e233ddb-7d23-4686-a6b5-4531519f71e4"
      },
      "outputs": [
        {
          "data": {
            "text/plain": [
              "<matplotlib.axes._subplots.AxesSubplot at 0x7f2995dba6a0>"
            ]
          },
          "execution_count": 39,
          "metadata": {},
          "output_type": "execute_result"
        },
        {
          "data": {
            "image/png": "[encoded data removed]",
            "text/plain": [
              "<Figure size 432x288 with 1 Axes>"
            ]
          },
          "metadata": {},
          "output_type": "display_data"
        }
      ],
      "source": [
        "data1.CustomerDOB.hist(bins = 50)"
      ]
    },
    {
      "cell_type": "markdown",
      "metadata": {
        "id": "tjcRHnl3s4Ua"
      },
      "source": [
        "Now the distribution of birthdays makes sense. As we expected, there is a peak in 1981. However, this shouldn't compromise the hashing procedure. "
      ]
    },
    {
      "cell_type": "markdown",
      "metadata": {
        "id": "KHVTmoC7v9lL"
      },
      "source": [
        "#### Transaction Time"
      ]
    },
    {
      "cell_type": "code",
      "execution_count": null,
      "metadata": {
        "id": "KwYjIegvymnF"
      },
      "outputs": [],
      "source": [
        "from datetime import datetime"
      ]
    },
    {
      "cell_type": "code",
      "execution_count": null,
      "metadata": {
        "id": "0W5bEywcyiVU"
      },
      "outputs": [],
      "source": [
        "#Transaction time is not in the format we want\n",
        "data1['TransactionTime'] = data1.TransactionTime.apply(lambda row: datetime.strptime(str(row).zfill(6), '%H%M%S'))"
      ]
    },
    {
      "cell_type": "code",
      "execution_count": null,
      "metadata": {
        "colab": {
          "base_uri": "https://localhost:8080/"
        },
        "id": "ul9l4rR08ebo",
        "outputId": "d1bcaea4-775d-48c2-e0e3-43b6c69efbe3"
      },
      "outputs": [
        {
          "data": {
            "text/plain": [
              "0         01:12:29\n",
              "1         20:44:09\n",
              "2         22:03:05\n",
              "3         17:02:54\n",
              "4         14:11:03\n",
              "            ...   \n",
              "879354    00:51:22\n",
              "879355    12:02:55\n",
              "879356    12:25:33\n",
              "879357    21:37:22\n",
              "879358    22:57:32\n",
              "Name: TransactionTime, Length: 879359, dtype: object"
            ]
          },
          "execution_count": 42,
          "metadata": {},
          "output_type": "execute_result"
        }
      ],
      "source": [
        "data1.TransactionTime.dt.time"
      ]
    },
    {
      "cell_type": "markdown",
      "metadata": {
        "id": "NlEQmk5stmPs"
      },
      "source": [
        "#### Transaction Date"
      ]
    },
    {
      "cell_type": "code",
      "execution_count": null,
      "metadata": {
        "id": "GnZuop4itlyP"
      },
      "outputs": [],
      "source": [
        "data1['TransactionDate'] = pd.to_datetime(data1.TransactionDate)"
      ]
    },
    {
      "cell_type": "markdown",
      "metadata": {
        "id": "uWBj41V2vGfg"
      },
      "source": [
        "# 1.Finding Similar Costumers"
      ]
    },
    {
      "cell_type": "markdown",
      "metadata": {
        "id": "AzZaVHCJvKoX"
      },
      "source": [
        "Companies nowadays are implementing product suggestions to provide users with things they are likely to buy. The process often starts by **finding similar behaviours** among consumers; for this task, we will focus on this part in the specific.\n",
        "Here you will implement an algorithm to find the most similar match to a consumer given his bank account information. In particular, you will implement your version of the LSH algorithm that takes as input information about a consumer and finds people similar to the one in the study"
      ]
    },
    {
      "cell_type": "markdown",
      "metadata": {
        "id": "kEq8ZLj4vc6D"
      },
      "source": [
        "## 1.1 Set up the data"
      ]
    },
    {
      "cell_type": "code",
      "execution_count": null,
      "metadata": {
        "colab": {
          "base_uri": "https://localhost:8080/",
          "height": 679
        },
        "id": "IzMAG3L_vKRA",
        "outputId": "f5d36c14-1a9d-406a-e973-97a1ae75bd34"
      },
      "outputs": [
        {
          "data": {
            "text/html": [
              "\n",
              "  <div id=\"df-244408b3-10fb-4b44-ae10-8ceb6bd72de7\">\n",
              "    <div class=\"colab-df-container\">\n",
              "      <div>\n",
              "<style scoped>\n",
              "    .dataframe tbody tr th:only-of-type {\n",
              "        vertical-align: middle;\n",
              "    }\n",
              "\n",
              "    .dataframe tbody tr th {\n",
              "        vertical-align: top;\n",
              "    }\n",
              "\n",
              "    .dataframe thead th {\n",
              "        text-align: right;\n",
              "    }\n",
              "</style>\n",
              "<table border=\"1\" class=\"dataframe\">\n",
              "  <thead>\n",
              "    <tr style=\"text-align: right;\">\n",
              "      <th></th>\n",
              "      <th>CustomerDOB</th>\n",
              "      <th>CustGender</th>\n",
              "      <th>CustLocation</th>\n",
              "      <th>CustAccountBalance</th>\n",
              "      <th>TransactionDate</th>\n",
              "      <th>TransactionTime</th>\n",
              "      <th>TransactionAmount (INR)</th>\n",
              "    </tr>\n",
              "  </thead>\n",
              "  <tbody>\n",
              "    <tr>\n",
              "      <th>0</th>\n",
              "      <td>1983-05-08</td>\n",
              "      <td>M</td>\n",
              "      <td>NEW DELHI</td>\n",
              "      <td>120180.54</td>\n",
              "      <td>2016-09-08</td>\n",
              "      <td>1900-01-01 01:12:29</td>\n",
              "      <td>356.0</td>\n",
              "    </tr>\n",
              "    <tr>\n",
              "      <th>1</th>\n",
              "      <td>1994-07-28</td>\n",
              "      <td>M</td>\n",
              "      <td>MUMBAI</td>\n",
              "      <td>24204.49</td>\n",
              "      <td>2016-08-14</td>\n",
              "      <td>1900-01-01 20:44:09</td>\n",
              "      <td>1499.0</td>\n",
              "    </tr>\n",
              "    <tr>\n",
              "      <th>2</th>\n",
              "      <td>1984-08-19</td>\n",
              "      <td>M</td>\n",
              "      <td>MUMBAI</td>\n",
              "      <td>161848.76</td>\n",
              "      <td>2016-07-08</td>\n",
              "      <td>1900-01-01 22:03:05</td>\n",
              "      <td>250.0</td>\n",
              "    </tr>\n",
              "    <tr>\n",
              "      <th>3</th>\n",
              "      <td>1990-05-29</td>\n",
              "      <td>F</td>\n",
              "      <td>CHAMPARAN</td>\n",
              "      <td>496.18</td>\n",
              "      <td>2016-09-15</td>\n",
              "      <td>1900-01-01 17:02:54</td>\n",
              "      <td>30.0</td>\n",
              "    </tr>\n",
              "    <tr>\n",
              "      <th>4</th>\n",
              "      <td>1965-06-21</td>\n",
              "      <td>M</td>\n",
              "      <td>KOLKATA</td>\n",
              "      <td>87058.65</td>\n",
              "      <td>2016-08-18</td>\n",
              "      <td>1900-01-01 14:11:03</td>\n",
              "      <td>5000.0</td>\n",
              "    </tr>\n",
              "    <tr>\n",
              "      <th>...</th>\n",
              "      <td>...</td>\n",
              "      <td>...</td>\n",
              "      <td>...</td>\n",
              "      <td>...</td>\n",
              "      <td>...</td>\n",
              "      <td>...</td>\n",
              "      <td>...</td>\n",
              "    </tr>\n",
              "    <tr>\n",
              "      <th>879354</th>\n",
              "      <td>1990-12-24</td>\n",
              "      <td>M</td>\n",
              "      <td>BHIWANDI</td>\n",
              "      <td>133067.23</td>\n",
              "      <td>2016-07-08</td>\n",
              "      <td>1900-01-01 00:51:22</td>\n",
              "      <td>691.0</td>\n",
              "    </tr>\n",
              "    <tr>\n",
              "      <th>879355</th>\n",
              "      <td>1996-09-06</td>\n",
              "      <td>M</td>\n",
              "      <td>BANGALORE</td>\n",
              "      <td>96063.46</td>\n",
              "      <td>2016-09-15</td>\n",
              "      <td>1900-01-01 12:02:55</td>\n",
              "      <td>222.0</td>\n",
              "    </tr>\n",
              "    <tr>\n",
              "      <th>879356</th>\n",
              "      <td>1993-10-21</td>\n",
              "      <td>M</td>\n",
              "      <td>GUNTUR</td>\n",
              "      <td>5559.75</td>\n",
              "      <td>2016-08-18</td>\n",
              "      <td>1900-01-01 12:25:33</td>\n",
              "      <td>126.0</td>\n",
              "    </tr>\n",
              "    <tr>\n",
              "      <th>879357</th>\n",
              "      <td>1995-04-22</td>\n",
              "      <td>M</td>\n",
              "      <td>CHENNAI</td>\n",
              "      <td>35295.92</td>\n",
              "      <td>2016-08-28</td>\n",
              "      <td>1900-01-01 21:37:22</td>\n",
              "      <td>50.0</td>\n",
              "    </tr>\n",
              "    <tr>\n",
              "      <th>879358</th>\n",
              "      <td>1982-11-09</td>\n",
              "      <td>M</td>\n",
              "      <td>MUSSOORIE</td>\n",
              "      <td>6968.93</td>\n",
              "      <td>2016-09-25</td>\n",
              "      <td>1900-01-01 22:57:32</td>\n",
              "      <td>855.0</td>\n",
              "    </tr>\n",
              "  </tbody>\n",
              "</table>\n",
              "<p>879359 rows × 7 columns</p>\n",
              "</div>\n",
              "      <button class=\"colab-df-convert\" onclick=\"convertToInteractive('df-244408b3-10fb-4b44-ae10-8ceb6bd72de7')\"\n",
              "              title=\"Convert this dataframe to an interactive table.\"\n",
              "              style=\"display:none;\">\n",
              "        \n",
              "  <svg xmlns=\"http://www.w3.org/2000/svg\" height=\"24px\"viewBox=\"0 0 24 24\"\n",
              "       width=\"24px\">\n",
              "    <path d=\"M0 0h24v24H0V0z\" fill=\"none\"/>\n",
              "    <path d=\"M18.56 5.44l.94 2.06.94-2.06 2.06-.94-2.06-.94-.94-2.06-.94 2.06-2.06.94zm-11 1L8.5 8.5l.94-2.06 2.06-.94-2.06-.94L8.5 2.5l-.94 2.06-2.06.94zm10 10l.94 2.06.94-2.06 2.06-.94-2.06-.94-.94-2.06-.94 2.06-2.06.94z\"/><path d=\"M17.41 7.96l-1.37-1.37c-.4-.4-.92-.59-1.43-.59-.52 0-1.04.2-1.43.59L10.3 9.45l-7.72 7.72c-.78.78-.78 2.05 0 2.83L4 21.41c.39.39.9.59 1.41.59.51 0 1.02-.2 1.41-.59l7.78-7.78 2.81-2.81c.8-.78.8-2.07 0-2.86zM5.41 20L4 18.59l7.72-7.72 1.47 1.35L5.41 20z\"/>\n",
              "  </svg>\n",
              "      </button>\n",
              "      \n",
              "  <style>\n",
              "    .colab-df-container {\n",
              "      display:flex;\n",
              "      flex-wrap:wrap;\n",
              "      gap: 12px;\n",
              "    }\n",
              "\n",
              "    .colab-df-convert {\n",
              "      background-color: #E8F0FE;\n",
              "      border: none;\n",
              "      border-radius: 50%;\n",
              "      cursor: pointer;\n",
              "      display: none;\n",
              "      fill: #1967D2;\n",
              "      height: 32px;\n",
              "      padding: 0 0 0 0;\n",
              "      width: 32px;\n",
              "    }\n",
              "\n",
              "    .colab-df-convert:hover {\n",
              "      background-color: #E2EBFA;\n",
              "      box-shadow: 0px 1px 2px rgba(60, 64, 67, 0.3), 0px 1px 3px 1px rgba(60, 64, 67, 0.15);\n",
              "      fill: #174EA6;\n",
              "    }\n",
              "\n",
              "    [theme=dark] .colab-df-convert {\n",
              "      background-color: #3B4455;\n",
              "      fill: #D2E3FC;\n",
              "    }\n",
              "\n",
              "    [theme=dark] .colab-df-convert:hover {\n",
              "      background-color: #434B5C;\n",
              "      box-shadow: 0px 1px 3px 1px rgba(0, 0, 0, 0.15);\n",
              "      filter: drop-shadow(0px 1px 2px rgba(0, 0, 0, 0.3));\n",
              "      fill: #FFFFFF;\n",
              "    }\n",
              "  </style>\n",
              "\n",
              "      <script>\n",
              "        const buttonEl =\n",
              "          document.querySelector('#df-244408b3-10fb-4b44-ae10-8ceb6bd72de7 button.colab-df-convert');\n",
              "        buttonEl.style.display =\n",
              "          google.colab.kernel.accessAllowed ? 'block' : 'none';\n",
              "\n",
              "        async function convertToInteractive(key) {\n",
              "          const element = document.querySelector('#df-244408b3-10fb-4b44-ae10-8ceb6bd72de7');\n",
              "          const dataTable =\n",
              "            await google.colab.kernel.invokeFunction('convertToInteractive',\n",
              "                                                     [key], {});\n",
              "          if (!dataTable) return;\n",
              "\n",
              "          const docLinkHtml = 'Like what you see? Visit the ' +\n",
              "            '<a target=\"_blank\" href=https://colab.research.google.com/notebooks/data_table.ipynb>data table notebook</a>'\n",
              "            + ' to learn more about interactive tables.';\n",
              "          element.innerHTML = '';\n",
              "          dataTable['output_type'] = 'display_data';\n",
              "          await google.colab.output.renderOutput(dataTable, element);\n",
              "          const docLink = document.createElement('div');\n",
              "          docLink.innerHTML = docLinkHtml;\n",
              "          element.appendChild(docLink);\n",
              "        }\n",
              "      </script>\n",
              "    </div>\n",
              "  </div>\n",
              "  "
            ],
            "text/plain": [
              "       CustomerDOB CustGender CustLocation  CustAccountBalance  \\\n",
              "0       1983-05-08          M    NEW DELHI           120180.54   \n",
              "1       1994-07-28          M       MUMBAI            24204.49   \n",
              "2       1984-08-19          M       MUMBAI           161848.76   \n",
              "3       1990-05-29          F    CHAMPARAN              496.18   \n",
              "4       1965-06-21          M      KOLKATA            87058.65   \n",
              "...            ...        ...          ...                 ...   \n",
              "879354  1990-12-24          M     BHIWANDI           133067.23   \n",
              "879355  1996-09-06          M    BANGALORE            96063.46   \n",
              "879356  1993-10-21          M       GUNTUR             5559.75   \n",
              "879357  1995-04-22          M      CHENNAI            35295.92   \n",
              "879358  1982-11-09          M    MUSSOORIE             6968.93   \n",
              "\n",
              "       TransactionDate     TransactionTime  TransactionAmount (INR)  \n",
              "0           2016-09-08 1900-01-01 01:12:29                    356.0  \n",
              "1           2016-08-14 1900-01-01 20:44:09                   1499.0  \n",
              "2           2016-07-08 1900-01-01 22:03:05                    250.0  \n",
              "3           2016-09-15 1900-01-01 17:02:54                     30.0  \n",
              "4           2016-08-18 1900-01-01 14:11:03                   5000.0  \n",
              "...                ...                 ...                      ...  \n",
              "879354      2016-07-08 1900-01-01 00:51:22                    691.0  \n",
              "879355      2016-09-15 1900-01-01 12:02:55                    222.0  \n",
              "879356      2016-08-18 1900-01-01 12:25:33                    126.0  \n",
              "879357      2016-08-28 1900-01-01 21:37:22                     50.0  \n",
              "879358      2016-09-25 1900-01-01 22:57:32                    855.0  \n",
              "\n",
              "[879359 rows x 7 columns]"
            ]
          },
          "execution_count": 45,
          "metadata": {},
          "output_type": "execute_result"
        }
      ],
      "source": [
        "#the dataset we are going to use has been already prepared\n",
        "data1"
      ]
    },
    {
      "cell_type": "code",
      "execution_count": null,
      "metadata": {
        "colab": {
          "base_uri": "https://localhost:8080/"
        },
        "id": "wQOeVYwek9CF",
        "outputId": "1ab03d21-355a-48b3-c51f-e4d95ad18560"
      },
      "outputs": [
        {
          "data": {
            "text/plain": [
              "<function BufferedWriter.close>"
            ]
          },
          "execution_count": 46,
          "metadata": {},
          "output_type": "execute_result"
        }
      ],
      "source": [
        "import pickle\n",
        "with open('clean_df.pkl', 'wb') as f:\n",
        "  pickle.dump(data1, f)\n",
        "f.close"
      ]
    },
    {
      "cell_type": "markdown",
      "metadata": {
        "id": "lsXmgcnCvqRD"
      },
      "source": [
        "## 1.2 Fingerprint hashing"
      ]
    },
    {
      "cell_type": "markdown",
      "metadata": {
        "id": "FXybVBdqv6Fu"
      },
      "source": [
        "*1. Implement your minhash function from scratch*"
      ]
    },
    {
      "cell_type": "markdown",
      "metadata": {
        "id": "aWycD2slxPYT"
      },
      "source": [
        "The min-hash function has as input a set of shingles and, as output, the so-called **signature matrix**. We want to create it.The signatures we desire to construct for sets are composed of the results of a\n",
        "large number of calculations, say several hundred, each of which is a “minhash”\n",
        "of the characteristic matrix.\n",
        "Hence, the first thing we need to do is obtaining the characteristic matrix associated to our dataset. "
      ]
    },
    {
      "cell_type": "markdown",
      "source": [
        "What we have decided to do, since there is no way of obtaining k-shingles from our dataset, i.e. bank transactions, is dividing the variables in bins in a way that the features are discretized at the end.\n",
        "\\\n",
        "The characteristic matrix will have a small number of rows and as many columns as the number of customers. In each cell of the matrix there will be a one if the customer feature belongs to the bin corresponding to the row. \n"
      ],
      "metadata": {
        "id": "aGJp5BF5Vaz5"
      }
    },
    {
      "cell_type": "markdown",
      "metadata": {
        "id": "-fjI5NwP6BC-"
      },
      "source": [
        "#### STEP 1: Feature discretization"
      ]
    },
    {
      "cell_type": "markdown",
      "metadata": {
        "id": "44p3xmLjganp"
      },
      "source": [
        "The features we want to discretize are: \n",
        "- the balance of the customer\n",
        "- the period of the year (retrieved from the TransactionDate column)\n",
        "- the period of the day (retrieved from the TransactionTime column)\n",
        "- the amount of the transaction\n",
        "- the age of the customer \n"
      ]
    },
    {
      "cell_type": "markdown",
      "source": [
        "- **Customer balance**"
      ],
      "metadata": {
        "id": "8_UlG2V7YZWI"
      }
    },
    {
      "cell_type": "markdown",
      "metadata": {
        "id": "e_0utDrifHvn"
      },
      "source": [
        "Since what we want is creating a finite set of shingles (we will use unigrams), we need to discretize the features. It's the same principle of what we did in the previous cell: instead of a quantitative feature (that seems to specific for each customer) we need a set of few qualitative features. For doing it, we use a sklearn function: sklearn.preprocessing.KBinsDiscetizer"
      ]
    },
    {
      "cell_type": "code",
      "execution_count": null,
      "metadata": {
        "id": "LpLuRmbvVneN"
      },
      "outputs": [],
      "source": [
        "from sklearn.preprocessing import KBinsDiscretizer\n",
        "import pandas as pd"
      ]
    },
    {
      "cell_type": "code",
      "execution_count": null,
      "metadata": {
        "id": "ZsJU7Y1cgaVv"
      },
      "outputs": [],
      "source": [
        "#balance account\n",
        "balance = KBinsDiscretizer(n_bins = 4, encode = 'ordinal', strategy = 'quantile')"
      ]
    },
    {
      "cell_type": "code",
      "execution_count": null,
      "metadata": {
        "colab": {
          "base_uri": "https://localhost:8080/"
        },
        "id": "yUWia2ESj3qd",
        "outputId": "30286e54-a358-4177-b025-94cc5470e063"
      },
      "outputs": [
        {
          "output_type": "execute_result",
          "data": {
            "text/plain": [
              "KBinsDiscretizer(encode='ordinal', n_bins=4)"
            ]
          },
          "metadata": {},
          "execution_count": 8
        }
      ],
      "source": [
        "balance.fit(data1.CustAccountBalance.to_numpy().reshape(-1,1))"
      ]
    },
    {
      "cell_type": "code",
      "execution_count": null,
      "metadata": {
        "id": "zlCoFUwrkC6c"
      },
      "outputs": [],
      "source": [
        "data1['discrete_balance'] = balance.transform(data1.CustAccountBalance.to_numpy().reshape(-1,1))"
      ]
    },
    {
      "cell_type": "code",
      "execution_count": null,
      "metadata": {
        "colab": {
          "base_uri": "https://localhost:8080/"
        },
        "id": "6l5O-BzZknJN",
        "outputId": "6a11d94d-4f57-49f7-e358-7770631be8b9"
      },
      "outputs": [
        {
          "output_type": "execute_result",
          "data": {
            "text/plain": [
              "1.0    219851\n",
              "3.0    219844\n",
              "2.0    219836\n",
              "0.0    219828\n",
              "Name: discrete_balance, dtype: int64"
            ]
          },
          "metadata": {},
          "execution_count": 10
        }
      ],
      "source": [
        "data1.discrete_balance.value_counts()\n"
      ]
    },
    {
      "cell_type": "code",
      "execution_count": null,
      "metadata": {
        "colab": {
          "base_uri": "https://localhost:8080/"
        },
        "id": "k9k-FovKkqBo",
        "outputId": "42d2a0fa-9dff-4cd2-e65b-95cfae06b4ff"
      },
      "outputs": [
        {
          "output_type": "stream",
          "name": "stdout",
          "text": [
            "min_class 0: 0.0\n",
            "max_class 0: 4741.91\n",
            "min_class 1: 4742.35\n",
            "max_class 1: 16782.63\n",
            "min_class 2: 16783.58\n",
            "max_class 2: 57484.17\n",
            "min_class 3: 57486.74\n",
            "max_class 3: 115035495.1\n"
          ]
        }
      ],
      "source": [
        "print('min_class 0:', data1.loc[data1['discrete_balance'] == 0.0, 'CustAccountBalance'].min())\n",
        "print('max_class 0:', data1.loc[data1['discrete_balance'] == 0.0, 'CustAccountBalance'].max())\n",
        "print('min_class 1:', data1.loc[data1['discrete_balance'] == 1.0, 'CustAccountBalance'].min())\n",
        "print('max_class 1:', data1.loc[data1['discrete_balance'] == 1.0, 'CustAccountBalance'].max())\n",
        "print('min_class 2:', data1.loc[data1['discrete_balance'] == 2.0, 'CustAccountBalance'].min())\n",
        "print('max_class 2:', data1.loc[data1['discrete_balance'] == 2.0, 'CustAccountBalance'].max())\n",
        "print('min_class 3:', data1.loc[data1['discrete_balance'] == 3.0, 'CustAccountBalance'].min())\n",
        "print('max_class 3:', data1.loc[data1['discrete_balance'] == 3.0, 'CustAccountBalance'].max())\n"
      ]
    },
    {
      "cell_type": "markdown",
      "metadata": {
        "id": "33FDOL3wn_dn"
      },
      "source": [
        "We split the account balances in 4 bins 0, 1, 2 and 3, from the lowest to the greatest balances. "
      ]
    },
    {
      "cell_type": "markdown",
      "metadata": {
        "id": "KYSOmUuWodBH"
      },
      "source": [
        "The function we used is useful but in practice we can't use it for each feature. As a matter of fact, there is no way to give labels to bins. To avoid ambiguity among shingles we use another method. "
      ]
    },
    {
      "cell_type": "markdown",
      "source": [
        "- **Period of the Year**"
      ],
      "metadata": {
        "id": "Ky2DduToYoDJ"
      }
    },
    {
      "cell_type": "markdown",
      "metadata": {
        "id": "bwXhZd1vE4qg"
      },
      "source": [
        "For what concern the transaction date it is not interesting to keep all the info for finding similar customers. Two customers can be related if they do transactions in the same period of the year, so we can consider for example the month of the transaction (e.g. customers buying something during Christmas are considered similar). \n",
        "Also for the transaction time the reasoning is similar: we keep only the transaction hour. \n"
      ]
    },
    {
      "cell_type": "code",
      "execution_count": null,
      "metadata": {
        "colab": {
          "base_uri": "https://localhost:8080/"
        },
        "id": "QyZl4L1hrm2X",
        "outputId": "b53b84b7-ec16-44c7-ba8b-fe730d734990"
      },
      "outputs": [
        {
          "data": {
            "text/plain": [
              "Index(['CustomerDOB', 'CustGender', 'CustLocation', 'CustAccountBalance',\n",
              "       'TransactionDate', 'TransactionTime', 'TransactionAmount (INR)',\n",
              "       'discrete_balance'],\n",
              "      dtype='object')"
            ]
          },
          "execution_count": 127,
          "metadata": {},
          "output_type": "execute_result"
        }
      ],
      "source": [
        "data1.columns"
      ]
    },
    {
      "cell_type": "code",
      "execution_count": null,
      "metadata": {
        "id": "80uLEUNymOov"
      },
      "outputs": [],
      "source": [
        "#period of the year\n",
        "labels = ['Jan-Mar', 'Apr-Jun', 'Jul-Sept', 'Oct-Dec']\n",
        "data1['period_year'] = pd.cut(data1['TransactionDate'].dt.month,  4, labels = labels)"
      ]
    },
    {
      "cell_type": "code",
      "execution_count": null,
      "metadata": {
        "colab": {
          "base_uri": "https://localhost:8080/"
        },
        "id": "pUxzS0Ck6_je",
        "outputId": "13286cfe-b0b1-4073-a8dd-7dfbbfe27f08"
      },
      "outputs": [
        {
          "data": {
            "text/plain": [
              "Jul-Sept    537647\n",
              "Oct-Dec     122379\n",
              "Apr-Jun     111939\n",
              "Jan-Mar     107394\n",
              "Name: period_year, dtype: int64"
            ]
          },
          "execution_count": 30,
          "metadata": {},
          "output_type": "execute_result"
        }
      ],
      "source": [
        "data1.period_year.value_counts()"
      ]
    },
    {
      "cell_type": "code",
      "execution_count": null,
      "metadata": {
        "colab": {
          "base_uri": "https://localhost:8080/"
        },
        "id": "RXQ5F_DP8Xp3",
        "outputId": "11b6440c-ad8a-423a-d772-dc1da214f469"
      },
      "outputs": [
        {
          "data": {
            "text/plain": [
              "10    44195\n",
              "11    41258\n",
              "12    36926\n",
              "Name: TransactionDate, dtype: int64"
            ]
          },
          "execution_count": 31,
          "metadata": {},
          "output_type": "execute_result"
        }
      ],
      "source": [
        "data1.loc[data1['period_year']=='Oct-Dec', 'TransactionDate' ].dt.month.value_counts()"
      ]
    },
    {
      "cell_type": "markdown",
      "source": [
        "- **Period of the day**"
      ],
      "metadata": {
        "id": "IpCJm64wY4X1"
      }
    },
    {
      "cell_type": "markdown",
      "metadata": {
        "id": "fcy30MjFHLv4"
      },
      "source": [
        "For reducing the number of the shingles without losing any important information (and for avoiding ambiguous shingles) we can use as shingles the period of the day.\n",
        "For example, we replace the range of hours from 6 to 13 simply in morning (two customers are considered similar if they prefer to do trasaction during the morning. It is not important if one did it at 11 and the other at 12!). "
      ]
    },
    {
      "cell_type": "code",
      "execution_count": null,
      "metadata": {
        "id": "945TisKU4_yi"
      },
      "outputs": [],
      "source": [
        "#period of the day\n",
        "labels = ['Night','Morning', 'Afternoon', 'Late evening']\n",
        "data1['period_day'] = pd.cut(data1['TransactionTime'].dt.hour, 4, labels = labels)"
      ]
    },
    {
      "cell_type": "code",
      "execution_count": null,
      "metadata": {
        "colab": {
          "base_uri": "https://localhost:8080/"
        },
        "id": "5VCNJxSP9MvJ",
        "outputId": "de001e68-c334-4c89-f293-c35acf5bfb26"
      },
      "outputs": [
        {
          "data": {
            "text/plain": [
              "0    15240\n",
              "1     7453\n",
              "2     4647\n",
              "5     4398\n",
              "3     3883\n",
              "4     3706\n",
              "Name: TransactionTime, dtype: int64"
            ]
          },
          "execution_count": 33,
          "metadata": {},
          "output_type": "execute_result"
        }
      ],
      "source": [
        "data1.loc[data1['period_day']=='Night', 'TransactionTime' ].dt.hour.value_counts()"
      ]
    },
    {
      "cell_type": "code",
      "execution_count": null,
      "metadata": {
        "colab": {
          "base_uri": "https://localhost:8080/"
        },
        "id": "BFIFyB2-9a8-",
        "outputId": "f0aa76a5-59ec-4d92-95d8-e7b0d650e24e"
      },
      "outputs": [
        {
          "data": {
            "text/plain": [
              "Late evening    366148\n",
              "Afternoon       327389\n",
              "Morning         146495\n",
              "Night            39327\n",
              "Name: period_day, dtype: int64"
            ]
          },
          "execution_count": 133,
          "metadata": {},
          "output_type": "execute_result"
        }
      ],
      "source": [
        "data1.period_day.value_counts()"
      ]
    },
    {
      "cell_type": "markdown",
      "source": [
        "- **Amount of the transaction**"
      ],
      "metadata": {
        "id": "1lf-ZKCdZNt-"
      }
    },
    {
      "cell_type": "code",
      "execution_count": null,
      "metadata": {
        "colab": {
          "base_uri": "https://localhost:8080/"
        },
        "id": "fZCQXDV_9ucX",
        "outputId": "9afb346d-bbdf-4260-c5d2-679d74481fd3"
      },
      "outputs": [
        {
          "data": {
            "text/plain": [
              "count    8.793590e+05\n",
              "mean     1.564485e+03\n",
              "std      6.637781e+03\n",
              "min      0.000000e+00\n",
              "25%      1.600000e+02\n",
              "50%      4.560000e+02\n",
              "75%      1.200000e+03\n",
              "max      1.560035e+06\n",
              "Name: TransactionAmount (INR), dtype: float64"
            ]
          },
          "execution_count": 134,
          "metadata": {},
          "output_type": "execute_result"
        }
      ],
      "source": [
        "data1['TransactionAmount (INR)'].describe()"
      ]
    },
    {
      "cell_type": "code",
      "execution_count": null,
      "metadata": {
        "id": "qLKM1A1j-wJB"
      },
      "outputs": [],
      "source": [
        "#amount of the transaction\n",
        "labels = ['Small','Medium', 'Big']\n",
        "data1['transaction_size'] = pd.qcut(data1['TransactionAmount (INR)'], q =3, labels = labels)"
      ]
    },
    {
      "cell_type": "code",
      "execution_count": null,
      "metadata": {
        "colab": {
          "base_uri": "https://localhost:8080/"
        },
        "id": "GkUSHH-uAHAp",
        "outputId": "8929ff54-033a-48c8-d41b-39fed6980e3e"
      },
      "outputs": [
        {
          "data": {
            "text/plain": [
              "Small     294800\n",
              "Big       292901\n",
              "Medium    291658\n",
              "Name: transaction_size, dtype: int64"
            ]
          },
          "execution_count": 35,
          "metadata": {},
          "output_type": "execute_result"
        }
      ],
      "source": [
        "data1.transaction_size.value_counts()"
      ]
    },
    {
      "cell_type": "code",
      "execution_count": null,
      "metadata": {
        "colab": {
          "base_uri": "https://localhost:8080/"
        },
        "id": "33RVC_wOAQHF",
        "outputId": "57f67f86-8538-4b5e-e1bf-e2673c54dbb5"
      },
      "outputs": [
        {
          "data": {
            "text/plain": [
              "count    291658.000000\n",
              "mean        471.446172\n",
              "std         172.043970\n",
              "min         230.020000\n",
              "25%         309.000000\n",
              "50%         459.500000\n",
              "75%         600.000000\n",
              "max         860.000000\n",
              "Name: TransactionAmount (INR), dtype: float64"
            ]
          },
          "execution_count": 137,
          "metadata": {},
          "output_type": "execute_result"
        }
      ],
      "source": [
        "#Medium transactions\n",
        "data1.loc[data1['transaction_size']=='Medium', 'TransactionAmount (INR)' ].describe()"
      ]
    },
    {
      "cell_type": "code",
      "execution_count": null,
      "metadata": {
        "colab": {
          "base_uri": "https://localhost:8080/"
        },
        "id": "MxhddigSAtxt",
        "outputId": "caea3f37-12d2-4880-c4ed-6c88f9de1521"
      },
      "outputs": [
        {
          "data": {
            "text/plain": [
              "count    294800.000000\n",
              "mean        103.874653\n",
              "std          67.527207\n",
              "min           0.000000\n",
              "25%          50.000000\n",
              "50%         100.000000\n",
              "75%         164.000000\n",
              "max         230.000000\n",
              "Name: TransactionAmount (INR), dtype: float64"
            ]
          },
          "execution_count": 138,
          "metadata": {},
          "output_type": "execute_result"
        }
      ],
      "source": [
        "#Small transactions\n",
        "data1.loc[data1['transaction_size']=='Small', 'TransactionAmount (INR)' ].describe()"
      ]
    },
    {
      "cell_type": "code",
      "execution_count": null,
      "metadata": {
        "colab": {
          "base_uri": "https://localhost:8080/"
        },
        "id": "wgF9K5VVBEiD",
        "outputId": "1c268f9e-4755-4380-922f-6e7beb9d8890"
      },
      "outputs": [
        {
          "data": {
            "text/plain": [
              "count    2.929010e+05\n",
              "mean     4.122966e+03\n",
              "std      1.106176e+04\n",
              "min      8.600100e+02\n",
              "25%      1.200000e+03\n",
              "50%      1.890000e+03\n",
              "75%      3.400000e+03\n",
              "max      1.560035e+06\n",
              "Name: TransactionAmount (INR), dtype: float64"
            ]
          },
          "execution_count": 139,
          "metadata": {},
          "output_type": "execute_result"
        }
      ],
      "source": [
        "#Big transactions\n",
        "data1.loc[data1['transaction_size']=='Big', 'TransactionAmount (INR)' ].describe()"
      ]
    },
    {
      "cell_type": "markdown",
      "source": [
        "- **Customer Age**"
      ],
      "metadata": {
        "id": "tICJb5l4ZeLB"
      }
    },
    {
      "cell_type": "markdown",
      "metadata": {
        "id": "fdCRL1cGLaQ4"
      },
      "source": [
        "For what concerns the date of birth, it is not very useful to keep the whole date, but maybe the age of the customer is more useful. "
      ]
    },
    {
      "cell_type": "code",
      "execution_count": null,
      "metadata": {
        "id": "CsjM3JNPLta7"
      },
      "outputs": [],
      "source": [
        "data1['cust_age'] = 2016 - data1.CustomerDOB.dt.year "
      ]
    },
    {
      "cell_type": "code",
      "execution_count": null,
      "metadata": {
        "colab": {
          "base_uri": "https://localhost:8080/"
        },
        "id": "W5SaJrPvMB4w",
        "outputId": "a03802a3-85bb-4b4d-ec6b-2d780571c196"
      },
      "outputs": [
        {
          "data": {
            "text/plain": [
              "35    70658\n",
              "26    61325\n",
              "25    60122\n",
              "27    58292\n",
              "24    56254\n",
              "      ...  \n",
              "0         2\n",
              "96        2\n",
              "98        1\n",
              "91        1\n",
              "5         1\n",
              "Name: cust_age, Length: 99, dtype: int64"
            ]
          },
          "execution_count": 42,
          "metadata": {},
          "output_type": "execute_result"
        }
      ],
      "source": [
        "data1.cust_age.value_counts()"
      ]
    },
    {
      "cell_type": "code",
      "execution_count": null,
      "metadata": {
        "id": "IDBUfDsg7QdN"
      },
      "outputs": [],
      "source": [
        "#we divide the customer age in groups \n",
        "def age_group(age):\n",
        "  if age in range(0, 12):\n",
        "    age_group = 'child'\n",
        "  elif age in range(13, 25):\n",
        "    age_group = 'teen-ager'\n",
        "  elif age in range(25, 50):\n",
        "    age_group = 'adult'\n",
        "  else:\n",
        "    age_group = 'old'\n",
        "  return age_group"
      ]
    },
    {
      "cell_type": "code",
      "execution_count": null,
      "metadata": {
        "id": "fyPYlEM18SWQ"
      },
      "outputs": [],
      "source": [
        "data1['age_group'] = data1.cust_age.apply(lambda x: age_group(x))"
      ]
    },
    {
      "cell_type": "code",
      "execution_count": null,
      "metadata": {
        "colab": {
          "base_uri": "https://localhost:8080/"
        },
        "id": "jtEDJ2pH8n-n",
        "outputId": "4e8a426c-3308-4954-d846-c90ce8ea37b0"
      },
      "outputs": [
        {
          "output_type": "execute_result",
          "data": {
            "text/plain": [
              "adult        673818\n",
              "teen-ager    168332\n",
              "old           37009\n",
              "child           200\n",
              "Name: age_group, dtype: int64"
            ]
          },
          "metadata": {},
          "execution_count": 36
        }
      ],
      "source": [
        "data1.age_group.value_counts()"
      ]
    },
    {
      "cell_type": "markdown",
      "metadata": {
        "id": "RNEYTAVABe83"
      },
      "source": [
        "Now, for each column, the values are categorical. Keep only discrete "
      ]
    },
    {
      "cell_type": "code",
      "source": [
        "with open('custom_df.pkl', 'wb') as f: \n",
        "  pickle.dump(data1, f)\n",
        "f.close"
      ],
      "metadata": {
        "colab": {
          "base_uri": "https://localhost:8080/"
        },
        "id": "-PVgQrfEilm7",
        "outputId": "91b4561c-6775-43e2-8224-aae27238c353"
      },
      "execution_count": null,
      "outputs": [
        {
          "output_type": "execute_result",
          "data": {
            "text/plain": [
              "<function BufferedWriter.close>"
            ]
          },
          "metadata": {},
          "execution_count": 19
        }
      ]
    },
    {
      "cell_type": "code",
      "source": [
        "import pickle\n",
        "with open('custom_df.pkl', 'rb') as f:\n",
        "  data1 = pickle.load(f)\n",
        "f.close"
      ],
      "metadata": {
        "colab": {
          "base_uri": "https://localhost:8080/"
        },
        "id": "S5KU1DdYd8JL",
        "outputId": "93d1c43e-d39a-4350-92e8-14d516492a45"
      },
      "execution_count": null,
      "outputs": [
        {
          "output_type": "execute_result",
          "data": {
            "text/plain": [
              "<function BufferedReader.close>"
            ]
          },
          "metadata": {},
          "execution_count": 3
        }
      ]
    },
    {
      "cell_type": "code",
      "execution_count": null,
      "metadata": {
        "id": "S2ldjolQBRWb"
      },
      "outputs": [],
      "source": [
        "# Keep only discrete features\n",
        "discr_df = data1[['CustGender', 'CustLocation', 'discrete_balance', 'period_year', 'period_day', 'transaction_size', 'age_group' ]]"
      ]
    },
    {
      "cell_type": "code",
      "execution_count": null,
      "metadata": {
        "colab": {
          "base_uri": "https://localhost:8080/"
        },
        "id": "Yhy-AcNYwJ67",
        "outputId": "d1b5a8c9-de6a-4c0f-e201-93472002c6e5"
      },
      "outputs": [
        {
          "output_type": "execute_result",
          "data": {
            "text/plain": [
              "<function BufferedWriter.close>"
            ]
          },
          "metadata": {},
          "execution_count": 23
        }
      ],
      "source": [
        "#create a pickle file containing the modified dataset\n",
        "import pickle\n",
        "with open('modified_df.pkl', 'wb') as f:\n",
        "    pickle.dump(discr_df, f)\n",
        "f.close"
      ]
    },
    {
      "cell_type": "code",
      "execution_count": 4,
      "metadata": {
        "colab": {
          "base_uri": "https://localhost:8080/"
        },
        "id": "PYJvAd7R2RoW",
        "outputId": "c435d195-fb7d-47a5-dd12-6221dfc90ac1"
      },
      "outputs": [
        {
          "output_type": "execute_result",
          "data": {
            "text/plain": [
              "<function BufferedReader.close>"
            ]
          },
          "metadata": {},
          "execution_count": 4
        }
      ],
      "source": [
        "import pickle\n",
        "with open('modified_df.pkl', 'rb') as f:\n",
        "  modified_df = pickle.load(f)\n",
        "f.close"
      ]
    },
    {
      "cell_type": "code",
      "execution_count": null,
      "metadata": {
        "colab": {
          "base_uri": "https://localhost:8080/",
          "height": 468
        },
        "id": "Awe9AtFQCX-q",
        "outputId": "5c24d23e-e439-4e60-cc8e-aaaa92aef96e"
      },
      "outputs": [
        {
          "output_type": "execute_result",
          "data": {
            "text/plain": [
              "       CustGender CustLocation  discrete_balance period_year    period_day  \\\n",
              "0               M    NEW DELHI               3.0    Jul-Sept         Night   \n",
              "1               M       MUMBAI               2.0    Jul-Sept  Late evening   \n",
              "2               M       MUMBAI               3.0    Jul-Sept  Late evening   \n",
              "3               F    CHAMPARAN               0.0    Jul-Sept     Afternoon   \n",
              "4               M      KOLKATA               3.0    Jul-Sept     Afternoon   \n",
              "...           ...          ...               ...         ...           ...   \n",
              "879354          M     BHIWANDI               3.0    Jul-Sept         Night   \n",
              "879355          M    BANGALORE               3.0    Jul-Sept     Afternoon   \n",
              "879356          M       GUNTUR               1.0    Jul-Sept     Afternoon   \n",
              "879357          M      CHENNAI               2.0    Jul-Sept  Late evening   \n",
              "879358          M    MUSSOORIE               1.0    Jul-Sept  Late evening   \n",
              "\n",
              "       transaction_size  age_group  \n",
              "0                Medium      adult  \n",
              "1                   Big  teen-ager  \n",
              "2                Medium      adult  \n",
              "3                 Small      adult  \n",
              "4                   Big        old  \n",
              "...                 ...        ...  \n",
              "879354           Medium      adult  \n",
              "879355            Small  teen-ager  \n",
              "879356            Small  teen-ager  \n",
              "879357            Small  teen-ager  \n",
              "879358           Medium      adult  \n",
              "\n",
              "[879359 rows x 7 columns]"
            ],
            "text/html": [
              "\n",
              "  <div id=\"df-1323ce07-01d8-45fb-8c4f-8a1021d92b40\">\n",
              "    <div class=\"colab-df-container\">\n",
              "      <div>\n",
              "<style scoped>\n",
              "    .dataframe tbody tr th:only-of-type {\n",
              "        vertical-align: middle;\n",
              "    }\n",
              "\n",
              "    .dataframe tbody tr th {\n",
              "        vertical-align: top;\n",
              "    }\n",
              "\n",
              "    .dataframe thead th {\n",
              "        text-align: right;\n",
              "    }\n",
              "</style>\n",
              "<table border=\"1\" class=\"dataframe\">\n",
              "  <thead>\n",
              "    <tr style=\"text-align: right;\">\n",
              "      <th></th>\n",
              "      <th>CustGender</th>\n",
              "      <th>CustLocation</th>\n",
              "      <th>discrete_balance</th>\n",
              "      <th>period_year</th>\n",
              "      <th>period_day</th>\n",
              "      <th>transaction_size</th>\n",
              "      <th>age_group</th>\n",
              "    </tr>\n",
              "  </thead>\n",
              "  <tbody>\n",
              "    <tr>\n",
              "      <th>0</th>\n",
              "      <td>M</td>\n",
              "      <td>NEW DELHI</td>\n",
              "      <td>3.0</td>\n",
              "      <td>Jul-Sept</td>\n",
              "      <td>Night</td>\n",
              "      <td>Medium</td>\n",
              "      <td>adult</td>\n",
              "    </tr>\n",
              "    <tr>\n",
              "      <th>1</th>\n",
              "      <td>M</td>\n",
              "      <td>MUMBAI</td>\n",
              "      <td>2.0</td>\n",
              "      <td>Jul-Sept</td>\n",
              "      <td>Late evening</td>\n",
              "      <td>Big</td>\n",
              "      <td>teen-ager</td>\n",
              "    </tr>\n",
              "    <tr>\n",
              "      <th>2</th>\n",
              "      <td>M</td>\n",
              "      <td>MUMBAI</td>\n",
              "      <td>3.0</td>\n",
              "      <td>Jul-Sept</td>\n",
              "      <td>Late evening</td>\n",
              "      <td>Medium</td>\n",
              "      <td>adult</td>\n",
              "    </tr>\n",
              "    <tr>\n",
              "      <th>3</th>\n",
              "      <td>F</td>\n",
              "      <td>CHAMPARAN</td>\n",
              "      <td>0.0</td>\n",
              "      <td>Jul-Sept</td>\n",
              "      <td>Afternoon</td>\n",
              "      <td>Small</td>\n",
              "      <td>adult</td>\n",
              "    </tr>\n",
              "    <tr>\n",
              "      <th>4</th>\n",
              "      <td>M</td>\n",
              "      <td>KOLKATA</td>\n",
              "      <td>3.0</td>\n",
              "      <td>Jul-Sept</td>\n",
              "      <td>Afternoon</td>\n",
              "      <td>Big</td>\n",
              "      <td>old</td>\n",
              "    </tr>\n",
              "    <tr>\n",
              "      <th>...</th>\n",
              "      <td>...</td>\n",
              "      <td>...</td>\n",
              "      <td>...</td>\n",
              "      <td>...</td>\n",
              "      <td>...</td>\n",
              "      <td>...</td>\n",
              "      <td>...</td>\n",
              "    </tr>\n",
              "    <tr>\n",
              "      <th>879354</th>\n",
              "      <td>M</td>\n",
              "      <td>BHIWANDI</td>\n",
              "      <td>3.0</td>\n",
              "      <td>Jul-Sept</td>\n",
              "      <td>Night</td>\n",
              "      <td>Medium</td>\n",
              "      <td>adult</td>\n",
              "    </tr>\n",
              "    <tr>\n",
              "      <th>879355</th>\n",
              "      <td>M</td>\n",
              "      <td>BANGALORE</td>\n",
              "      <td>3.0</td>\n",
              "      <td>Jul-Sept</td>\n",
              "      <td>Afternoon</td>\n",
              "      <td>Small</td>\n",
              "      <td>teen-ager</td>\n",
              "    </tr>\n",
              "    <tr>\n",
              "      <th>879356</th>\n",
              "      <td>M</td>\n",
              "      <td>GUNTUR</td>\n",
              "      <td>1.0</td>\n",
              "      <td>Jul-Sept</td>\n",
              "      <td>Afternoon</td>\n",
              "      <td>Small</td>\n",
              "      <td>teen-ager</td>\n",
              "    </tr>\n",
              "    <tr>\n",
              "      <th>879357</th>\n",
              "      <td>M</td>\n",
              "      <td>CHENNAI</td>\n",
              "      <td>2.0</td>\n",
              "      <td>Jul-Sept</td>\n",
              "      <td>Late evening</td>\n",
              "      <td>Small</td>\n",
              "      <td>teen-ager</td>\n",
              "    </tr>\n",
              "    <tr>\n",
              "      <th>879358</th>\n",
              "      <td>M</td>\n",
              "      <td>MUSSOORIE</td>\n",
              "      <td>1.0</td>\n",
              "      <td>Jul-Sept</td>\n",
              "      <td>Late evening</td>\n",
              "      <td>Medium</td>\n",
              "      <td>adult</td>\n",
              "    </tr>\n",
              "  </tbody>\n",
              "</table>\n",
              "<p>879359 rows × 7 columns</p>\n",
              "</div>\n",
              "      <button class=\"colab-df-convert\" onclick=\"convertToInteractive('df-1323ce07-01d8-45fb-8c4f-8a1021d92b40')\"\n",
              "              title=\"Convert this dataframe to an interactive table.\"\n",
              "              style=\"display:none;\">\n",
              "        \n",
              "  <svg xmlns=\"http://www.w3.org/2000/svg\" height=\"24px\"viewBox=\"0 0 24 24\"\n",
              "       width=\"24px\">\n",
              "    <path d=\"M0 0h24v24H0V0z\" fill=\"none\"/>\n",
              "    <path d=\"M18.56 5.44l.94 2.06.94-2.06 2.06-.94-2.06-.94-.94-2.06-.94 2.06-2.06.94zm-11 1L8.5 8.5l.94-2.06 2.06-.94-2.06-.94L8.5 2.5l-.94 2.06-2.06.94zm10 10l.94 2.06.94-2.06 2.06-.94-2.06-.94-.94-2.06-.94 2.06-2.06.94z\"/><path d=\"M17.41 7.96l-1.37-1.37c-.4-.4-.92-.59-1.43-.59-.52 0-1.04.2-1.43.59L10.3 9.45l-7.72 7.72c-.78.78-.78 2.05 0 2.83L4 21.41c.39.39.9.59 1.41.59.51 0 1.02-.2 1.41-.59l7.78-7.78 2.81-2.81c.8-.78.8-2.07 0-2.86zM5.41 20L4 18.59l7.72-7.72 1.47 1.35L5.41 20z\"/>\n",
              "  </svg>\n",
              "      </button>\n",
              "      \n",
              "  <style>\n",
              "    .colab-df-container {\n",
              "      display:flex;\n",
              "      flex-wrap:wrap;\n",
              "      gap: 12px;\n",
              "    }\n",
              "\n",
              "    .colab-df-convert {\n",
              "      background-color: #E8F0FE;\n",
              "      border: none;\n",
              "      border-radius: 50%;\n",
              "      cursor: pointer;\n",
              "      display: none;\n",
              "      fill: #1967D2;\n",
              "      height: 32px;\n",
              "      padding: 0 0 0 0;\n",
              "      width: 32px;\n",
              "    }\n",
              "\n",
              "    .colab-df-convert:hover {\n",
              "      background-color: #E2EBFA;\n",
              "      box-shadow: 0px 1px 2px rgba(60, 64, 67, 0.3), 0px 1px 3px 1px rgba(60, 64, 67, 0.15);\n",
              "      fill: #174EA6;\n",
              "    }\n",
              "\n",
              "    [theme=dark] .colab-df-convert {\n",
              "      background-color: #3B4455;\n",
              "      fill: #D2E3FC;\n",
              "    }\n",
              "\n",
              "    [theme=dark] .colab-df-convert:hover {\n",
              "      background-color: #434B5C;\n",
              "      box-shadow: 0px 1px 3px 1px rgba(0, 0, 0, 0.15);\n",
              "      filter: drop-shadow(0px 1px 2px rgba(0, 0, 0, 0.3));\n",
              "      fill: #FFFFFF;\n",
              "    }\n",
              "  </style>\n",
              "\n",
              "      <script>\n",
              "        const buttonEl =\n",
              "          document.querySelector('#df-1323ce07-01d8-45fb-8c4f-8a1021d92b40 button.colab-df-convert');\n",
              "        buttonEl.style.display =\n",
              "          google.colab.kernel.accessAllowed ? 'block' : 'none';\n",
              "\n",
              "        async function convertToInteractive(key) {\n",
              "          const element = document.querySelector('#df-1323ce07-01d8-45fb-8c4f-8a1021d92b40');\n",
              "          const dataTable =\n",
              "            await google.colab.kernel.invokeFunction('convertToInteractive',\n",
              "                                                     [key], {});\n",
              "          if (!dataTable) return;\n",
              "\n",
              "          const docLinkHtml = 'Like what you see? Visit the ' +\n",
              "            '<a target=\"_blank\" href=https://colab.research.google.com/notebooks/data_table.ipynb>data table notebook</a>'\n",
              "            + ' to learn more about interactive tables.';\n",
              "          element.innerHTML = '';\n",
              "          dataTable['output_type'] = 'display_data';\n",
              "          await google.colab.output.renderOutput(dataTable, element);\n",
              "          const docLink = document.createElement('div');\n",
              "          docLink.innerHTML = docLinkHtml;\n",
              "          element.appendChild(docLink);\n",
              "        }\n",
              "      </script>\n",
              "    </div>\n",
              "  </div>\n",
              "  "
            ]
          },
          "metadata": {},
          "execution_count": 5
        }
      ],
      "source": [
        "modified_df"
      ]
    },
    {
      "cell_type": "markdown",
      "metadata": {
        "id": "9GXu9c4YE7XG"
      },
      "source": [
        "We have 879359 rows. Through them we have to retrieve the \"shingles\", i.e. the unique values a customer can have."
      ]
    },
    {
      "cell_type": "markdown",
      "metadata": {
        "id": "ooCAN_UpFVAg"
      },
      "source": [
        "#### STEP 2: Find unique values"
      ]
    },
    {
      "cell_type": "code",
      "execution_count": 9,
      "metadata": {
        "colab": {
          "base_uri": "https://localhost:8080/"
        },
        "id": "IQWMc31WCZiJ",
        "outputId": "35d3f6de-bed5-4f9f-8b8c-40e6d9e080b0"
      },
      "outputs": [
        {
          "output_type": "stream",
          "name": "stdout",
          "text": [
            "[['F', 'T', 'M'], ['BHAYANDER', 'PHOENIX HOSPITAL MUMBAI', 'DENAP', 'COLO MUMBAI', 'THANJAVUR DIST', 'ESTATE DAHISAR E MUMBAI', 'OJHAR MIG', 'DUMUDUMA', 'HERO HONDA SHOW ROOM HOSUR', 'BARDHAMAN AT GORAI MANSION ASANSOL', 'BARDOLI', 'MANAULI', 'RANGPO', 'WARDHA', 'TANDULWADI', 'AUNDH CAMP PUNE', 'HUTHUKUR ROAD NELLORE', 'JANGIPUR', 'KHATAULI', 'DAVANGERE (DT)', 'MANGALAGIRI', 'MOHAMADPUR', 'TARAPUR APP BOISAR', 'VISHAKAPATNAM', 'VIRAR (EAST) THANE', 'ITANGAR', 'PETROL PUMP AURANGABAD', 'EAST MUMBAI', 'MURADNAGAR', 'CHAKALA ANDHERI -E MUMBAI', 'HOTEL HYDERABAD', 'MASJID MIRA ROAD E DIST THANE', 'KATARGAM  SURAT', 'BUNK KANCHIPURAM DT', 'GHODBUNDER ROAD THANE (W) THANE', 'W MUMBAI', 'CHAK DANAPUR CANTT PATNA', 'RD GOREGAON EAST', 'MAU', 'GANESH TEMPLE PUNE', 'NO-9 BLOCK-A MAHIPALPUR NEW DELHI', 'PATTIVEERANPATTI', 'DOMBIVALI EAST', 'MUMBAI BHANDUP COMPLEX MUMBAI', 'KURLA WEST - MUMBAI', 'CHITRAKOOT MARG JAIPUR', 'N H ENGLISH SCHOO MIRA ROAD MUMBAI', 'DIST NAVSARI', 'PNEW DELHI', 'REIS MAGOS BARDEZ', 'FARRUKHABAD', 'MOGRI', 'E MOSES ROAD MAHALAXMI MUMBAI', 'MARKET NEW DELHI', 'BARSHI', 'M GARH MAHENDERGARH', 'BANK VISAKHAPATNAM', 'STAFFORD', 'BHATKAL', 'ANJAR GANDHIDHAM', 'CENTRE HADAPSAR PUNE', 'POOL ANDHERI E MUMBAI', 'BAGAHA', 'CBE LTD NIL QUEENS ROAD BANGALORE', 'KILKATA', 'BILLIMORA', 'KHAR W MUMBAI', 'VASUNDHARA GZB', 'HOSPITAL POWAI MUMBAI', 'FARM ROAD ANDHERI EAST MUMBAI', 'MANDALGARH', 'COURT BANGALORE RURAL', 'HARIYAS DRIM PARK MIRA RD E THANE', 'CHESTER', 'KATNI', 'BRIDAGE MUMBAI', 'MEHERPUR SILCHAR', 'WHITEFIELD, BANGALORE', 'VILLAGE ROAD BANGLORE', 'PATHANJALI STORE BANGALORE', 'BID', 'COURTRESS D STREET CHENNAI', 'BONASOLA', 'LALGUDI', 'ROOMFORD', 'ALLEPEY', 'M CL AMNERNATH BADLAPUR', 'FOURTH TANK KOLKATA', 'CORTALIM', 'WALSALL', 'RANGIA', 'PHABAT RD ZIRAKPUR', 'DOMBIVLI E THANE', 'HANAMANTKHEDSIM', 'STORE ROHA RAIGAD', 'KARANTH NAGAR BANGALORE', 'III BLOCK BANGALORE', 'DOHA', 'CHAURAHA KANPUR', 'DINDIGUL DT', 'PEN DIST RAIGAD', 'BADULI SAHARANPUR', 'MANDAWALI', 'BIHAEYND KANDE TABELA MUMBAI', 'KOLIWADA WORLI COLONY MUMBAI', 'MADHURANAGAR', 'HALLI BANGALORE', 'LOWR PAREL MUMBAI', 'JAKKASANDRA BANGALORE', 'MADITAKKAM KANCHEEPURAM', 'TALUKA-ANJAR GANDHIDHAM', 'EKHJAULI MADHUBANI', 'BORIVALI(E) MUMBAI', 'THIRUNELLAI', 'ANDHERI-E MUMBAI', 'BHANDUP W BOMBAY', 'SUNDARPUR', 'LUDDALORE', 'SIOLIM', 'PANVEL RAIGARH', 'BIKRAMGANJ', 'RUPEE BANK PUNE', 'STATION NA HYDERABAD', 'KALHER VILLAGE BHIWANDI THANE', 'ZELEM', 'IND ESTATE JOGESHWARI W MUMBAI', 'KASARAGOD', 'HEADQUARTER NAVI MUMBAI', 'THIRVVANNAMALAI', 'EAST AAREMILK COLONY MUMBAI', 'JACOB CIRCLE SO MUMBAI', 'KOPPARA', 'MUMBAI SUBURBAN DIST', 'TEHSIL THANE THANE', 'MIRAMAR PANAJI', 'RESIDENCY THANE', 'GHATKOPAR W MUMBAI', 'HOBLI BANGALORE', 'TADIPATRI', 'NAGPUR', 'ROAD V V PURAM BANGALORE', 'ALMOND HOUSE HYDERABAD', 'UDUPI KUNJIBETTU', 'DISTT SAS NAGAR', 'DIST THANE', 'CHOOLAIMEDU CHENNAI', 'RANNY', 'CHIKKKABALLAPUR', 'MAKRANA', 'DARJEELING', 'RICHMOND TOWN', 'SUNABEDA', 'OPP GULSHAN CLOTH STORE MUMBAI', 'RD BANGALORE', 'THANE W KOLSHET ROAD', 'AVINASHI', 'OFF NO 26 27 AND 28 PAUD ROAD PUNE', 'RUPNARAYANPUR', 'DAHISHAR E MUMBAI', 'DILSUKHNAGAR HYDERABAD', 'NR ANY TIME WATER COMPANY BANGALORE', 'BOKO', 'MAHARASHTRA NAGAR MUMBAI', 'DIST UKHR UL', 'KURLA', 'TRI NAGER DELHI', 'JASPUR KHURD JASPUR', 'CHAMRAJNAGAR', 'KOLKATTA', 'OPP GOPIKA STORE HOSUR', 'SAMBA', 'CHAKALA MIDC MUMBAI', 'GAVIOPURAM EXTENSION BANGALORE', 'BALRAMPUR', 'NR ARJYA PATTY ITKHOLA SILCHAR', 'ROYAPETTAH', 'NR SANI MANDIR NAVI MUMBAI', 'BALOD', '(INDIA ) NAGPUR', 'NAGUNERI TK', 'VASAI EAST', 'BURDWAN', 'MEHATVAS', 'JIRANIA', 'C C PUR', 'OFF BKC MUMBAI', 'THUTHIPET AMBUR', 'SIKANDAR SOLAPUR', 'MERIDEAN GUINDY ALANDHUR CHENNAI', 'UNION BANK OF INDIA NAGPUR', 'SOUTH EAST DELHI', 'VASAI PALGHAR', 'OPP ALLAHABAD BANK MUMBAI', 'JAJPUR(DISTRICT)', 'BANTWALA', 'MUMBAI SUBURBAN DIST (MH) MUMBAI', 'EAST CHAKALA MIDC MUMBAI', 'FARIDKOT', 'SUNDER NAGAR', 'PEN RAIGAD', 'HIGHWAY AHMEDABAD', 'DIMA HASAO', 'TRIPURA AGARTALA', 'BEDFORD', 'KALYAN THANE KALYAN', 'SAHARANPUR', 'DEVANAHALLI BANGALORE', 'ROAD TIRUPUR', 'VIRUPAKSHAPURA', 'RAURKELA', 'AAKASH WINE SHOP MUMBAI', 'EXCOM HOUSE MUMBAI', 'CALANGUTE', 'STATION PUNE', 'CITY SEMBATTU AIRPORT TRICHY', 'JAITARAN', 'GARSHANKAR', 'PHASE 1 HINJEWADI PUNE', 'MANIGACHHI', 'RAJAHMUNDRY E G DIST', 'TIRUPATHI CHITTOOR', 'DOMBIVALI WEST', 'GAZIABAD', 'NIT FARIDABAD', 'TENALI', 'TEMPLE PUNE', 'TAL DIST BHIND', 'TRIVANDRAUM', 'RAIGARH SUDHAGAD RAIGARH', 'TO BOWRING HOSPITAL BANGALORE', 'NR LAMBODAR BLD MUMBAI', 'MULUND', 'CENTRAL MUMBAI', '2ND STAGE BANGALORE', 'PALGHAR BOISAR', 'WEST MIDNAPORE KHARAGPUR', 'JAHANGIRABAD BHOPAL', 'DISTT-WEST MIDNAPORE P O KHARAGPUR', 'KARUR DI', 'DOMBIVILI EAST THANE', 'PITAMPURA DELHI', 'MUNCIPALCORPORATIONVIRARVASAI THANE', 'THANE HANUMAN NAGAR', 'SANGVI PUNE', 'BARIATU ROAD RANCHI', 'COVENTRY', 'DOMLUR BANGALORE', 'NR JAGAT FARM GREATER NOIDA', 'ROAD ANAND', 'GIRIDIH', 'EAST VASAI THANE', 'HIGHWAY GOREGAON E MUMBAI', 'THANI', 'SHAKARPUR', 'ANANTAPUR DIST', 'MUKTSAR', 'VASAI ROAD WEST', 'DIST KOTA', 'VADASSERIKKARA', 'TOWER HYDERABAD', 'MUKTSAR SAHIB', 'KALWA KALWA THANE', 'OPPOSIT-CITY MALL KOLKATA', 'SAMASTIPUR SAMASTIPUR', 'AMGRON', 'THANE VIDYASHRAM THANE', 'ITARSI', 'SHIVAMANDIR BANGALORE', 'JAMUI', 'SANTA CLARA', 'PANTIM', 'DEBAI', 'DEGREE COLLGE NELLORE', 'HYEDERABAD', 'BEHIND RYTHU BAZAR HYDERABAD', 'GULMANDI ROAD AURANGABAD', 'ULHASNAGAR 3 THANE', 'TA AND DIST-ANAND', 'DEPOT MUMBAI', 'TANJAVORE', 'SUPRE STORE BANGALORE', 'NORTH TWENTY FOUR PARGANAS', 'SUDAMA CHOWK SURAT', 'TUMKUR DISTRICT', 'CHOWRASTA HAORA', 'YADAVA STRT ATMAKURU NELLORE', 'GARDEN NAVI MUMBAI THANE', 'ELECTRONIC CITY P O BANGALORE', 'NR ICICI BANK ANDHERI W MUMBAI', 'VILL K R PURAM HOBLI BANGALORE', 'ALDONA', 'NANI DAMAN', 'MIRAROAD THANE THANE', 'ROAD AUNDH PUNE', 'SAWAI MADHOPUR', 'TALAV PADRA VADODARA', 'MUNGELI', 'DIST PUNE DHAKALE', 'SIWAN', 'ROSHANBAGH', 'VYTTILA KOCHI', 'GRTR MUMBAI MUMBAI', 'AGASHI THANE', 'AGENCY GREATER NOIDA', 'SHAHIBAUG AHMEDABAD', 'PURI DISTRICT', 'MALKAJGIRI RANGAREDDY HYDERABAD', 'RAMAN MADI', 'INFINITY BENCHMARK KOLKATA', 'MEERUT', 'PUNE', 'DIST BURDWAN', 'AIROLI TEHSIL THANE THANE', 'KUTTAMPZHA', 'SULTANPUR LODHI', 'VASAI BASEEIN ROAD VASAI THANE', 'SHIBIRA JAVAL MUMBAI', 'KOPAR KHAIRANE NAVI MUMBAI', 'JHALAWAR', 'MITHAKHALI ELLISBRIDGE AHMEDABAD', 'PALMS HOTEL MUMBAI', 'ROAD BANGALORE KONANAKUNTE', 'JUINAGAR', 'SUPER MARKET BANGALORE', 'UMED SWEETS PUNE CITY SWARGATE PUNE', 'TAMLUK TAMLUK', 'KATEMANIVALI THANE KALYAN', 'JODHPUR', 'NALASOPARA-THANE', 'POST BANGALORE', 'KALYAN THANE', 'FALNA', 'DOMBIVLI EAST', 'HOTEL GREATER NODIA', 'NIKETAN BUILDING NAVI MUMBAI', 'CHUNGI SYANA', 'CHINCHINIM', 'TOKYO', 'MAHA RAJA HOTEL HYDERABAD', 'NOAPARA 24 PGS N', 'TEHSIL ANDHERI MUMBAI', 'TAGORE ROAD CIVIL LINES NAGPUR', 'SREERAM PORE', 'CLUB ASANSOL', 'CITY MIRA BHAYANDER THANE', 'ANAND BHAVAN CHENNAI', 'STN RD NALLASOPARA EAST PALGHAR', 'KUKATPALLY BESIDE LEE PHARMA', 'SHAMSHABAD RANGAREDDY', 'MAHATMA TEMPLE BANGALORE', 'PALANWA', 'SUBARNAPUR', 'ASSOCIATES SALEM', 'PO NONGTHYMAI', 'ABU DHABI', 'PO BOX 250310 RIYADH', 'TIVIM', 'THERKU VENGANALLUR', 'SO MUMBAI', 'MAPUSA BARDEZ', 'QUEPEM GOA', 'PO BHADRAKALI', 'EDAPUZA', 'BHUSAWAL', 'SCHOOL NASHIK', 'BUDRUK PUNE', 'MARIHAN', 'BANAGALORE', 'CENTER INDIRANAGAR BANGALORE', 'BANDIPORA', 'IFC MUMBAI', 'JANDALI', 'KALA HANUMAN TEMPLE MUMBAI', 'NA HYDARABAD', 'BHIWANDI DISTT ALWAR BHIWADI', 'JUICE CENTER ANDHERI W MUMBAI', 'DADARI', 'CHIRALA', 'GODDA', 'ALIGANJ', 'KHARGONE', 'GANTOK', 'MANDAPESHWAR MUMBAI', 'ROAD VISHRANTWADI PUNE', 'CENTRAL  DELHI NEW DELHI', 'INDIA', 'HASANPUR', 'RING RD DEMLUR AREA BANGALORE', 'KALYANPUR DIST HARIDWAR ROORKEE', 'SIRMOUR', 'HILLS THANE', 'CBE', 'VISAKHAPATNAM (URBAN)', 'SANCOALE', 'NALLASOPARA E', 'MUNNAR', 'NR NIMH SECUNDERABAD', 'MIRABHAYANDER THANE MIRA ROAD', 'KURUKSHETA', 'DELHI DLEHI', 'PIMPRI CHINCHWAD M CORP HAVELI PUNE', 'RD THANE', 'OSHIWARA ANDHERI(W) MUMBAI', 'DINAJPUR', 'PARLE EAST BAMANWADA MUMBAI', 'KHANDAGIRI', 'THANE KALYAN D C THANE', 'RAMANGARAM', 'SHEOGANJ', 'VILLA BUNGALOWS ANAND', 'AND 15/738 HAJI ALI MUMBAI', 'JVPD VILE PARLE W MUMBAI', 'JYOTI PHULE NAGAR', 'STORES JANIGANJ SILCHAR', 'KANDIVALI  WEST', 'DOMBIVILI', 'TIRUKOILUR', 'NIMBAHERA', 'KURMANNAPAL VISKHAPATNAM', 'STAND KOLKATA', 'CHAKALA MUMBAI', 'SHAHABAD MARKANDA', 'JANDIALAGURU', 'DISTRICT GHAZIABAD GHAZIABAD', 'JASWAN KOTLA', '(E) MUMBAI', 'CHATTERPUR', 'SERAIKELA KHARSAWAN', 'MOHANIA', 'STATION ELPHINSTONE ROAD MUMBAI', 'JALNDHAR', 'OFF CUBBON ROAD BANGALORE', 'GANGTOK', 'HENDERSON', 'BALURGHAT', 'VITTHAL UDYOG NAGAR', 'HOSPET', 'LINE ROAD HYDERABAD', 'BANASHANKARI BANGALORE', 'VASAI THANE', 'LALA TEMPLE HYDERABAD', 'MEENACHIL', 'PRIMARY SCHOOL HYDERABAD', 'SIRIFORT ROAD NEW DELHI', 'DHAHRAN', 'DARRANG', 'SOCIETY HYDERABAD', 'THE ACRCE CLUB CHEMBUR MUMBAI', 'NO 1 BANJARA HILLS HYDERABAD', 'NEAR DLF CHENNAI', 'BARAI', 'SANTACRUZ (EAST) MUMBAI', 'SENAPATI DIST', '9A MALLESHWARAM BANGALORE', 'SECUNDRABAD', 'BARAN', 'MUMBAI (SUB URBAN)', 'DESAI RD ANDHERI EAST MUMBAI', 'PATIALA PATIALA', 'RAISEN', 'BHIWADI, HARCHANDPUR', 'TANSHIPUR TEHSIL ROORKEE NR SCHL', 'DAREWADI', 'TECH WEB CENTER MUMBAI', 'BADLAPUR(E)', 'VIJAYANAGAR INDORE', 'CENTER MUMBAI', 'E G DIST (EAST GODAVARI)', 'JAIPUR HIGHWAY GURGAON', 'JEHANABAD', 'SHERGHATI', 'TIRUCHIRAPALLI', 'PANCHUKULA', 'MUMBAI GOREGAON EAST', 'KOPARKHAIRANE', 'MANDIGOBINDGARH', 'HOSPITAL VISAKHAPATNAM', 'KHERLI', 'MIRA RD EAST  MUMBAI', 'RATIA', 'NEVILLEHOUSE MUMBAI', 'ROHILLA NEW DELHI', 'SRIPERUMBUDUR', 'AUROVILLE', 'GOVERNORATE MANAMA', 'OPP MODERN HIGH SCHOOL PUNE', 'NR FORUM MALL SIGNAL BANGALORE', 'NORTH 24 PARAGANAS', 'OFFICE KHORDHA', 'NERUL NODE-3 THANE NAVI MUMBAI', 'BALIA', 'BIDAR', 'FEROZEPUR CITY', 'NEAR WATER TANK GHAZIABAD', 'USHAGRAM BARDHAMAN ASANSOL', 'KHOWAI', 'BUILDING GUWAHATI', 'TODAMPARA', 'RAJASTHAN COLLEGE JAIPUR', 'SALIGAO', 'CHANDRAGIRI', 'SHAHAR PUNE', 'BANGKOK', 'SANATH NAGAR', '1601944 BANGALORE', 'WAGLE ESTATE THANE WEST THANE', 'SUPERMARKET HYDERABAD', 'DONALD JAWAHAR NAGAR NEW DELHI', 'TALUKA PUNE PUNE', 'KURLA ROAD ANDHERI (E) MUMBAI', 'PATNA SADAR PATNA', 'PANVEL DIST RAIGAD', 'MARG LOWER PAREL WORLI MUMBAI', 'BUILDING PUNE', 'PANVEL RAIGAD', 'NIMAR', 'GUNTUR MANGALAGIRI', 'PUTHUR', 'RAMDEV TEMPLE RANGAREDDY', 'SECTOR 21 KHARGHAR NAVI MUMBAI', 'CUDDALORE', 'COLONY MUMBAI', 'ABHISHEK VEG PUNE', 'SOUTH GOA', 'CHEMBUR GHATKOPAR MAHUL RD MUMBAI', 'HIJNEWADI PUNE', 'PAPUMPARE', 'HOSPITAL SAFIDON', 'JAGATSINGHAPUR', 'COIMBATORE', 'CHAMARAJANAGAR', 'ROAD MALAD (W) MUMBAI', 'KANCHEEPURAM TK AND DT', 'COPENHAGEN', 'VIMAN NAGAR PUNE', 'GARDENS NAVI MUMBAI', 'JALENDHAR', 'PILKHI', 'YAMUNA NAGAR', 'KOTTANGAL', 'OKHLA INDUSTRIAL ESTATE NEW DELHI', 'VASHI NAKA CHEMBUR FCI MUMBAI', 'MUKUNDAPUR KOLKATA', 'ULHASNAGAR', 'SUPAUL DARBHANGA', 'ERUMATHALA', 'STANDARD CHARTERED BANK HYDERABAD', 'STATUE PUNE', 'NGR MAIN RD HAL3RD STAGE BANGALORE', 'AHMEDABAD G P O AHMEDABAD', 'JAGADHRI DIST-YAMUNANAGAR', 'KOLASIB', 'KUSHALNAGAR', 'MALDA', 'NAGAR GOREGAON (EAST) MUMBAI', 'PUMP OPP RAKESH TRA CO JODHPUR', 'VADTHAL', 'DELHI-96', 'BANGALOORU', 'JIZAN', 'DAKSHINA KANNADA', 'PETROL PUMP THANE', 'TARAMANI CHENNAI', 'CASTLE PANCHAVATI NASHIK', 'CHINCHWAD  PUNE', 'BUSINESS PARK BANGALORE', 'MASHACHA PADA DIST -THANE', 'DHULE', 'GOREGAON(W) MUMBAI', 'KURUM PADA', 'BEAVERTON', 'MAHENDERGARH', 'KRISHNA HIGH SCHOOL HYDERABAD', 'DIST WEST SINGHBHUM', 'CROSS ROAD AHMEDABAD', 'HANAMKONDA,WARANGAL', 'KALYANINAGAR KALYANI NAGAR PUNE', 'FOUNDATION BANGALORE', 'YAMUNANAGAR', 'TILLAKNAGAR', 'SWAMI SAMARTH NGR ANDHERI W MUMBAI', 'THIRUNINRAVAR', 'ANDRWARI', 'PURAM HOBLI BANGALORE', 'PHARMACY THANE WEST THANE', 'GULBARGA', 'ABOVE REDWOOD FURNITURES BANGALORE', 'PLUS2/PLUS3 WADGAON SHERE PUNE', 'DORAHA', 'COCKEYSVILLE', 'RD ANDHERI W MUMBAI', 'RAIGARH (MH) PANVEL', 'SRIPRUMBUDUR TK KANCHEEPURAM DIST', 'WEST THANE THANE', 'ANTWERPEN', 'GOVT SCHOOL BENGALURU', 'DIST. THANE', 'GHATKOPAR E MUMBAI', 'KATTUPAKKAM', 'DISTT GURGAON', 'TRICHY (DT)', 'KUMARGHAT', 'EXTN GURGAON', 'NARSAPUR', 'HOTEL NAVI MUMBAI', 'NAGRI VASAI E THANE', 'DUNGRA', 'RANGAREDDI', 'NR ABHYUDAYA BANK MUMBAI', 'SUPER MARKET UPPAL HYDERABAD', 'MIRA RD E THANE', 'RAGHOBHA TALIM JAVALIL KOLHAPUR', 'VILL TOWN CITY KALYAN THANE', 'GREATOR NOIDA', 'LAWNS NASHIK', 'GANJAN', 'CHOWK GURGAON', 'MANPURA', 'VALLABH VIDHYANAGAR', 'JWALAPUR TEH HARIDWAR HARIDWAR', 'GAUTAMBUDHNAGAR', 'ZUARINAGAR', 'CHAKRADHARPUR', 'KHAND 2 INDIRAPURAM GHAZIABAD', 'NAGPUR GPO NAGPUR', 'SATARA SATARA', '24 PGS N', 'DINDIGUL DISTRICT', 'SISA STORE BANGALORE', 'SHARJAH MAIN CITY', 'KATGHORA', 'NALASOPARA E MUMBAI', 'LINE SCHOOL HYDERABAD', 'HAARLEM', 'PHASE-01 HINJEWADI PUNE', 'EYE HOSPITAL SECUNDERABAD', 'LAWNGTLAI', 'RANGAREDDY DT', 'ELPHINSTONE MUMBAI', 'MOTOR HYDERABAD', 'SHAHAPUR', 'VILLUPURAM', 'BLDG ANDHERI EAST MUMBAI', 'SALEEM DS', 'BAKROL (PART)', 'GANDHIDHAM', 'DONA PAULA', 'RAJENDRA NAGAR HYDERABAD', 'MIRAROAD EAST THANE', 'KARTIKULAM', 'AYODHYA NGR NAGPURAYODHYANGR NAGPUR', 'DHARUHERA, REWARI', 'PARVATI PUNE', 'NAMDEV WADI JOGILA MARKET THANE', 'PUMP CHAKALA ANDHERI EAST MUMBAI', 'CHOWK MOTA VARACHHA SURAT', 'NATHADVARA', 'ASSOLNA SALCETE', 'GANAPARTHI', 'VISNAGAR', 'OPP EB OFFICE COIMBATORE', 'VILAMPUR', 'BHANDUP', 'VISHNUNAGAR KALYAN THANE THANE', 'TARAN', 'SAHIB MUKTSAR', 'KAJORA', 'AMBAK', 'DHARMANAGAR HOSPITAL NORTH TRIPURA', 'PARAVOOR', 'GHAZIABAD DIST', 'SAHARSA', 'PERUNGUDI CHENNAI', 'POST VASNA-IYAVA TA SANAND SANAND', 'THOOTHUKUDI', 'SHOP HYDERABAD', 'METRO STATION DELHI', 'KATALAB UTTAR PRADESH LUCKNOW', 'MADANPURI MUMBAI', 'THIRUMALA P O TRIVANDRUM', 'NARESHWARI NGR NASARAHALLI BANGALOR', 'MANAPAKKAM', 'PUNE BALEWADI', 'SENAPATI', 'BOISAR TAL PALGHAR', 'VYTILLA ERNAKULAM', 'SOUTH TWENTY FOUR PARAGANAS', 'DEWAS', 'KHARODI MUMBAI', 'KARIMGANJ', 'GATE DARIYAPUR AHMEDABAD', 'CITY  GURGAON', 'DOMBIVALI EAST THANE', 'MARG LOWER PAREL MUMBAI', 'WINES MIRJALGUDA HYDERABAD', 'PASCHIM CHAMPARAN', 'SULTANPUR', 'SAKI NAKA S O MUMBAI', 'NAGAI', 'WEST DELHI VASANT KUNJ DELHI', 'GUHLA', 'SOCIETY SURAT', 'MARG WORLI MUMBAI', 'SECTOR 2 BANGALORE', 'V MUMBAI AGRA ROAD NASHIK TEHSIL', 'PINDWARA', 'HAJIPUR', 'UMARGAM', 'JAYABHEVI KAMAN HYDERABAD', 'BANSWARA', 'THANE VASAI', 'ANIMOOR', 'DHURI SANGRUR', 'THRIUVALLUR', 'DUBLIN', 'BHOGPUR', 'SEWNDERABAD OPP SK GUPTHA HYDERABAD', 'MULTIPLEX PUNE', 'SHEBOYGAN', 'SITHAURA', 'SOLAPUR', 'KANDHAMAL', 'MAHIM (W) MUMBAI', 'GUWAHATI', 'VINAYAGAR KOIL SALEM', 'HALL YAPRAL JAWAHANGR KV RANGAREDDY', 'DHARAMSHALA', 'SANGVI FAMOUS CHOWK PUNE', 'MIDC MUMBAI', 'BADDI', 'NEAR BHAYANDER FLYOVE THANE', 'BAUG CIRLCE SURAT', 'RORKEE', 'KALAMBOLI NR MTNL OFF NAVIMUMBAI', 'PUMP PUNE', 'NETIVALI KALYAN (E) THANE', 'BUTTAREDDY GUDEM', 'AIRTEL BLDG GURGAON', 'GOLD 1 AND 2 MUMBAI', 'CAMPS HYDERABAD', 'PASCHIM VIHAR DELHI', 'PRANTIJ', 'NIZAMABAD', 'RATNAGIRI', 'SCHOOL CRESCENT HOUSE PUNE', 'BHETESWAR', 'JHUNJHUNU', 'NEGARA', 'KATTUR', 'KANDIWALI  MUMBAI', 'DEOLALI CAMP NASIK', 'TOHANA FATEHABAD', 'FEROZEPUR CANTT', 'SOUTH WEST DELHI DELHI', 'ANJAR', 'MIRA ROAD E', 'KHOBAR', 'TIRUVAURR', 'ATTAPUR HYDERABAD', 'TEMPLE RAJKOT', 'KAMOTE', 'BAIGUINIM', 'WAYS PANCHKUVA AHMEDABAD', 'DHURI DISTT SANGRUR', 'EYE CARE HOSPITAL COIMBATORE', 'PAREL (W) MUMBAI', 'ROAD HYDERABAD', 'MAHASAMUND', 'PATPARGANJ DELHI', 'KOCHI CORPORATION', 'DHARAMSHALA AMBALA', 'SURVEY PARK KALIMANDIR KOLKATA', 'EXPRESS HIGHWAY MUMBAI', 'SUKHPAR', 'BANALORE', 'TIRUMALAGIRI BOWENPALLY HYDERABAD', 'GOMEWADI', 'MANDAPETA', 'SCHOOL WEST TRIPURA', 'BANKURA', 'RD NR DURGA CHOWK NEW DELHI', 'SAMAYPUR DELHI', 'NR BALBIR KARTANA STORE AMRITSAR', 'ANNANAGAR WEST EXTN', 'KATHOLI', 'NANDURABAR', 'MADHAPAR', 'NEYVELI TOWNSHIP', 'HONGKONG', 'MASJID MAAKHIWALA CMPD AHMEDABAD', 'NEAR BATA MORE KOLKATA', 'GOTAM NAGAR', 'BANGALORE SOUTH BANGALORE', 'KODERMA', 'EASTERN EXPS HIGHWAY SION E MUMBAI', 'BALLABGARH', 'HINDAUN', 'MILAN INDUSTRIES KALACHOWKI MUMBAI', 'T V MALAI DIST', 'MUMBAI M CORP THANE VASHI', 'DIST RAJKOT', 'BENGALORE', 'DISTT MEWAT', 'HAMIDIYA ROAD BHOPAL', 'CENTRE BANKURA', 'SEEPZ ANDHERI E MUMBAI', 'VILLA BUNGLOWS ANAND', 'STAND OJHAR (MIG)', 'JOGESHWARI (E) MUMBAI', 'DMUMBAI', 'JALLANDHAR', 'DENKANIKOTTAI', 'LALIT PUR', 'KINWAT NANDED', 'SAS NAGAR MOHALI', 'THE DANGS', 'JHARIA', 'ERNAKULAM KOCHI', 'ORLIM SALCETE', 'NADALA', 'TRIVANDRUM DT', 'PRAKASAM (DT)', 'KALYAN DC THANE', 'THIRUPUR', 'MATA ROAD KALYAN WEST KALYAN', 'SURYAPETNALGONDA(DIST)', 'VAISHALI VAISHALI', 'SASNAGAR', 'DONGARGAON', 'KALYAN E MUMBAI', 'NEW GAJUWAKA VISAKHAPATNAM', 'GATE PUNE', 'CHIRANG', 'KANNADA MANGALORE', 'ROAD EMP ID P11581 BANGALORE', 'PITAMPURA NEW DELHI', 'TAL DIST PALGHAR', 'NALASOPARA W', 'JAUNPUR DISTRICT', 'RESTARENT PUNE', 'DAMAN', 'HOSPITAL PUNE', 'SECUNDERABAD HYDERABAD SECUNDERABAD', 'HOSUR ROAD BANGALORE', 'CINEMA MAHIM MUMBAI', 'SELAI', 'KHARSWAN JAMSHEDPUR', 'KAILASH NEW DELHI', 'BALASORE', 'ROAD HADAPSAR PUNE', 'THIRUVALLUR DIST', 'KUNDLI SONEPAT', 'SANGHA CLUB HOOGHLY', 'RESTAURENT BANGALORE', 'D MART BANGALORE', 'APT NR SAVE BAZAR BANGALORE', 'STATION THANE', 'BARDHAMAN', 'PORT BLAIR', 'MANER', 'MIRA-BHAYANDAR THANE', 'JAFRABAD', 'BALAGHAT', 'SOPARA  MUMBAI', 'KAIKINI', 'BANDRA W MUMBAI', 'OFFICE SALEM', 'OPP SBI NELLORE', 'ANDAMANS', 'RENTON', 'CHIKBALLAPUR', 'DAUSA', 'BHARATI AGARTALA', 'MAIN ROAD BANGALORE', 'DAUND', 'RD AMROLI NR GAUTAM TRADING SURAT', 'VIDISHA', 'MAHALAKSHMI PURAM BANGALORE', 'HOUSE KALOOR ERNAKULAM', 'BBSR', 'CR OFFICE BANGALORE', 'MAHIM', 'HINJEWADI -PUNE', 'CHAKAN ROAD PUNE', 'PALWAL', 'HAJI ALI WORLI MUMBAI', 'BANTWAL', 'TIRUPUR', 'HINGANGHAT DIST WARDHA', 'SION(E)', 'BAHADUR GARH', 'MANI STORE MUMBAI', 'NR AMRITSARIAN DI FACTORY GORAYA', 'MUMBAI PAREL MUMBAI', 'POLE I HYDERABAD', 'MIRA ROAD EAST MUMBAI', 'BABA TEMPLE BANGALORE', 'DIVA THANE E', 'KAKKANADU ERNAKULAM', 'COLONY COIMBATORE', 'PERNEM', 'BARMER', 'CITY CENTRE 2 NORTH 24 PARGANAS', 'NORTH 24 PARGANA', 'YASHASHRI HOSPITAL PUNE', 'BORSAD', 'PRATHIBHA MDTS) BANGALORE', 'SANTACRUZ MUMBAI', '43 SEC 11 CBD BELAPUR NAVI MUMBAI', 'INDUSTRIAL AREA HOSUR RD BANGALORE', 'MAHESHWARI BHAWAN ITARSI', 'BOLANGIR', 'ASPATAL ASHOK NAGAR MORADABAD', 'LAKHIMPUR KHERI', 'TEMPLE BHUBANESWAR', 'PITHORAGARH', 'ADITYAPUR', 'BAUPUR', 'BROOKLYN', 'MIRZA', 'HANUMAN JUNCTION', 'ANDHERI MUMBAI', 'PARK MIRA BHAYANDER ROAD THANE', 'WILLOUGHBY', 'JEHANGIR HOSP, PUNE', 'DISTRICT KHURDA', 'PANDALAM', 'GR NOIDA', 'HERNDON', '(W) S V RD MUMBAI', 'KADUR', 'MORADABAD', 'LUDHIANA', 'TENKASI', 'BYPASS HADAPSAR PUNE', 'MANDIR NASHIK', 'VILLAGE MALAD (WEST) MUMBAI', 'SASARAM', 'WHITEFIELD ROAD BANGALORE', 'SHOWROOM CAMP PUNE PUNE', 'THIROVANANTHA PURAM', 'GB NAGAR', 'MANGALURU', 'FARM GREATER NOIDA', 'KALYANI NAGAR PUNE', 'RAOTA', 'USGAO', 'WANKANER', '24 PARGANAS', 'NAVI MUMABI', 'MARG LOWER PAREL  MUMBAI', 'NERUL NODE III THANE', 'HODEL', 'KARVE ROAD THANE', 'THANJAVUR DT', 'PORTBLAIR', 'VASAI E THANE', 'THEATER BANGALORE', 'RANGAREDDY (DIST)', 'HOSHANGABAD', 'PANIAPT', 'ICHALKARANJI', 'ASHOKA MARG NASHIK', 'NAGARI THANE', 'BHARAT PETROLEUM CHENNAI', 'PALAKKAD DT', 'SHERI TALUKA HAVELI VIMAN NGR PUNE', 'TITWALA EAST', 'SHIRALA', 'RIBANDAR', 'JAMNER', 'CHUNAR', 'SAHIBZADA AJIT SINGH NAGAR', 'NARWANA', 'MAHAPE NAVI MUMBAI', 'KORMANGALA 1ST BLOCK BANGALORE', 'VASANTHNAGAR', 'SCHOOL HYDERABAD', 'KANDIVALI MUMBAI', 'SILIGURU', 'MB ROAD NEW DELHI', 'DISTT-HOSHIARPUR', 'COOCHBEHAR', 'KANNIYA KUMARI', 'VIDYANJALI SCHOOL BANGALORE', 'JAYAKONDAM', 'RAIGARH C G RAIGARH', 'VELOOR', 'KOCHIIN', 'ASKAGANJAM', 'KANUBARI', 'OPP ALANKAR CINEMA MUMBAI', 'TEGHARIA KOLKATA', 'AMALAPURAM', 'MUVATTUPUZHA ERNAKULAM', 'OKHALDHUNGA', 'VASAI (WEST)', 'COTTAGE ADHERI W', 'BOMMANAHALLI BEGUR HOBALI BANGALORE', 'CHEMMUMIAPET', 'BAPATMARG LOWER PAREL MUMBAI', 'DAHISAR EAST MUMBAI', 'RD AIROLI NAVIMUMBAI', 'ELECTRONICS NEW BUS STAND SALEM', 'RANGAREDDY DISTRICT', 'JOURA', 'GURDASPUR', 'TAL MULSHI PUNE', 'PARSAON', 'ROAD OPP FUN CINEMA NEW DELHI', 'HIGHWAY GOREGOAN (EAST) MUMBAI', 'VADAKARA', 'JANJGIR', 'HAILY MANDI', 'CLUB KOLKATA', 'R M NAGAR BANGALORE', 'INDIRAPURAM GHZB', 'TAMBARAM TALUK CHENNAI', 'PRODDATUR', 'MAHOBA', 'MUMABI', 'DIPPOO NEW DELHI', 'RAILWAY STN MUMBAI MUMBAI MUMBAI', 'ST JOSEDH BANGALORE', 'DODDATHAGUR BANGLORE', 'SANGOLDA', 'MARG KURLA MUMBAI', 'SARJAPUR MAIN RD BANGALORE', 'CHAPRA', 'MARGAO SOUTH GOA', 'LUDHIANA NR RAJGURU MARKET LUDHIANA', 'HIGHWAY UNAVA UNJHA UNJHA', 'TANK HYDERABAD', 'DEPO BORIVALI (E) MUMBAI', 'CHAMPHAI', 'DISTT ALWAR BHIWADI', 'KALOOR POST KOCHI', 'CARDIAC RING ROAD SURAT', 'ROAD GUNJAN VAPI VAPI', 'PUDUKOTTAI', 'GOVERNMENT TIN SCHOOL BANGALORE', 'MALEGANV KHURD', 'KUNDAPURA', 'THANJAUR', 'KANCHIPURAM DISTT', 'MIRAMAR', 'DADRI', 'ARUSHA', 'PHAPHUNO', 'SANTHOSH SUPER MARKET CHENNAI', 'MANDI GURHARSAHI', 'DOORVANINAGAR BANGALORE NORTH', 'VIRAMGAM', 'IMMACULATE SCHOOL MUMBAI', 'UDYAN MUMBAI', 'KHAMMAM', 'MAROL ANDHERI( E)MUMBAI', 'SHAHID BHAGAT SINGH NAGAR', 'MUMBAI CITY (M H) MUMBAI', 'VILLOONNI', 'DISTRICT GWALIOR', 'GROUND NIT FARIDABAD', 'NAGO THANE', 'SHAHKOT', 'TRINITY BENGALURU', 'BEHIND PROFESSIONAL COURIER HOSUR', '(WEST) DELHI', 'R R DIST', 'KAUSHMBI', 'MHOLEL', 'WEST AZAD NAGAR MUMBAI', 'VAN BUDDHA VIHAR MUM', 'MALKANGIRI', 'M GOBINDGARH', 'MALVANI MUMBAI', 'AUTOMOBILE CENTER MUMBAI', 'RAMGARH', 'JAISALMER', 'KILKUNDAH', 'RING ROAD VARTHUR HOBLI BANGALORE', 'BHAYA SONPUR', 'NAKA PUNE', 'BEGUMPURA DENA BANK SURAT', 'PETROLEUM BUNK COIMBATORE', 'MALWANI DEPOT MUMBAI', 'SHIVAGANGA', 'INDORE NEAR ICICI BANK INDORE', 'DOUBLE RD BANGLORE', 'ETOBICOKE', 'HILL MUMBAI', 'KONDHWA KHURD PUNE', 'MUNICIPAL MARKET C G RD AHMEDABAD', 'ROORKEE HARIDWAR', 'OFFICE BANGALORE', 'GLASGOW', 'ESTATE ANDHERI(W) MUMBAI', 'BANGA', 'SHASTRI NGR ANDHERI W MUMBAI', 'GOREGAON EAST', 'STUDIO ANDHERI W MUMBAI', 'KANCHGHAR JABALPUR JABALPUR', 'VIDYABHAVAN MUMBAI', 'BANURI PALAMPUR', 'HSR LAYOUT BENGALURU', 'PO NARANPURA VISTAR AHMEDABAD', 'TIRUCHENGODE', 'SURYAPET NALGONDA (DIST)', 'BANAHATTI', 'CHICKMAGALURE', 'HUBLI', 'CENTRE BANGALORE', 'DATIA', 'JASPUR', 'AND GANAPATI MANDIR THANE', 'PANCHAYAT OFFICE RANGAREDDI', 'KOTKAPURA', 'NARMADA', 'TIRUNELVELI RURAL', 'BH THE ACRE CLUB CHEMBUR MUMBAI', 'KOLIWADA MUMBAI', 'IT/ITES SEZ NANAKRAMGUDA HYDERABAD', 'MANKAPUR NAGPUR NAGPUR', 'TIJARA DISTT ALWAR BHIWADI', 'BOKARO', 'MAWANA (MEERUT)', 'K V RANGA REDDY', 'SAS NAGAR KHARAR', 'AMIRCHAND HIGHSCHOOL MUMBAI', 'MUNDAWAR', 'NOIDA', 'CHIREMIRI', 'KAMALCHHOD', 'PHASE BANGALORE', 'THANE NEAR E W FLYOVER CBD BELAPUR', 'SEMENCHERY DEPOT CHENNAI', 'BHANDARKAR MARG LOWER PAREL MUMBAI', 'MALL MUMBAI CENTRAL MUMBAI', 'JOGESHWARI W JOGESHWARI W MUMBAI', '24 PGNS NORTH', 'MALKAJGIRI RANGAREDDY', 'AJNALA', 'KADUTHURUTHY', 'SAKET NEW DELHI', 'AURAIYA', 'SAGAR', 'THANTIKONDA', 'MUMBAI SUBURBAN', 'VASHI NR VASHI RLY STN NAVI MUMBAI', 'SHIVAJI NAGAR PUNE', 'NAROLI', 'BARIPADA', 'GOREGAON EAST MUMBAI MUMBAI', 'ATHIRAMPUZHA', 'SAKINAKA ANDHERI (E) MUMBAI', 'YEOLA DIST NASIK', 'NARSINGHPUR', 'DHANETI', 'BODEKDEV', 'AMBATHUR CHENNAI', 'KAVIYOOR', 'NAGAR DOMBIVALI WEST THANE', 'SAS NAGAR (MOHALI)', 'VASTI MALEGAON', 'BHADRA HANUMANGARH', 'MAPUSA', 'JAIL ROAD NASHIK', 'NR SANT NIRANKARI  BHAVAN MUMBAI', 'NR BANK OF BARODA MUMBAI', 'HILLSIDE VADDY SIOLIM SIOLIM', 'TALUK CHENNAI DISTRICT CHENNAI', 'MANDAWA', 'RUPNAGAR', 'SAS NAGAR', 'PITAMPURA NEAR MAX HOSPITAL DELHI', '19D VASHI NAVI MUMBAI', 'BULDANA', 'STUD FARM PUNE', 'MANDIR MUMBAI', 'SCHOOL BANGALORE', 'MANSA', 'ASSAGAO', 'SUNAM', 'THIRUVANNAMALAI (D)', 'KHURD PUNE', 'PANTALOOMS MUMBAI', 'VALPARAI', 'SHAHALAM', 'NAGAR AZAD NAGAR MUMBAI MUMBAI', 'VIJAY NAGAR', 'MASUDI COIMBATORE', 'KHARDAH', 'PARA KOLKATA', 'MAHADEVAPURA', 'ARA', 'NASHIK', 'SILIGURI SILIGURI', 'KASHGANJ', 'SARKAGHAT', 'SIRSA', 'HIGH SCHOOL NAVI MUMBAI', 'RAJPURA', 'ROAD CIRCLE ODHAV AHMEDABAD', 'ASHRAM HOOGHLY', 'NIZAM PALACE KOLKATA', 'KANIYAKUMARI DT', '7390041 BANGALORE', 'KHARAUNDHA', 'PARLE E NR KOLDONGRI BUS STP MUMBAI', 'BAGDOGRA', 'FIELD OPP IIPL GATE NO 3 BANGALORE', 'BAZAR THANE', 'NR CANTABILL SHOWROOM SONIPAT', 'TRAINING MUMBAI', 'JOHAR', 'KALAYAT', 'ANDHERI-W MUMBAI', 'DHANKAWDI PUNE', 'PALYA BANGALORE', 'ROORKEE', 'TURBE STOR VASH-23', 'MANDIR HATIARA NORTH 24 PARGANAS', 'K V RENGA REDDY', 'NEAR BARDHAMAN', 'HARITAGE MART HYDERABAD', 'EAST MUMBAI THANE', 'BADALAPUR W', 'ASHFIELD', 'SECTOR 21A FARIDABAD', 'LUNAWADA', 'SANGUEM', 'COLONY PUNE', 'TIRUVALLA', 'KURICHIKKRAR', 'HISSAR', 'MEDEK', 'KRISHNANAGAR EAST DELHI DELHI', 'EAST GODAVARI (DISTRICT)', 'TITWALA', 'BORIVALI E MUMBAI', 'VIKHROLI WEST MUMBAI', 'NEVILLE HOUSE THANE', 'MIRA ROAD (EAST) THANE', 'CHEM FACTORY THANE W', 'DIST RAIGAD', 'KHERI', 'VIHAR BUS STOP APNA BAZAR SO THANE', 'DHANBAN', 'SHREYAS CINEMA GHATKOPAR W MUMBAI', 'GORAKPUR', 'KOCHI', 'T V M DT', 'PAUD ROAD PUNE', 'LONAVALA', 'CIRCLE ST THOMAS TOWN PO BANGALORE', 'NR RANI KUTHI SOUTH 24 PARGANAS', 'EDUCATIONAL SOCIETY HYDERABAD', 'YASHRAJ FILMS STUDIO MUMBAI', 'PARGANAS NR UNIQUE HOMEOLAB KOLKATA', 'KARJAT RAIGAD', 'RD SOS POST BANGALORE', 'KOPAR W', 'PANJIM', 'FATEHPUR', 'BANSUR ALWAR', 'ZIRA', 'SANDOZBAUGH THANE', 'MALLESHPALYA MAIN RD BANGALORE', 'TOWER-C SADARAMANGALA BANGALORE', 'NALGONDA', 'MANJALPUR VADODARA', 'HYDERABAD AP', 'AUTO GUARAGE THANE', 'I BARDDHAMAN', 'KANJARI', 'SAGWARA', 'ACADEMY SAMASTIPUR', 'BORHAT', 'CHANGANASSSERY', 'BEHIND NOORI MASJID MUMBAI', 'DERA BASSI', 'CHATUA', 'BUSINESS PARK MAHAPE NAVI MUMBAI', 'RI-BHOI', 'NAMAN PLAZA MUMBAI', 'MINJUR', 'SOSUR MAIN ROAD BANGALORE', '3RD BLOCK BANGALORE', 'COLONY KHAMTARAI 2 KHAMTARAI RAIPUR', 'MEERTU', 'GAGANPAHAD', 'KAITHATHARA', 'BELLANDUR PO BANGALORE', 'BHAJAN PURA DELHI', 'APNA BAZAR THANE', 'NAL GONDA', 'KURNOOL DT', 'KHURJA', 'BAHRAIN', 'CHERTHALA', 'CUNCOLIM SALCETTE', 'CHARLOTTE', 'KAMGAR HOSPITAL MUMBAI', 'HALL WHITEFIELD BANGALORE', 'NALGONDA (DIST)', 'BANAGLORE', 'COLLEGE KEMPAPURA HEBBAL BANGALORE', 'NEAR TALAO NAVI MUMBAI', 'VIRUDHUNAGAR DT', 'TOLLYGUNJ FIRE STATION KOLKATA', 'SBI BANK KOLKATA', 'OPP SBI HYDERABAD', 'PURBA MEDINIPUR', 'EKANGARSARAI', 'DHANAPUR', 'BANSBERIA', 'SUAR', 'SIRKALI', 'DASSANIS STUDIO KOLKATA', 'CINEMAS GHATKOPAR W', 'THANE DIST', 'NAR', 'BANNERGATTA ROAD BANGALORE', 'NORBURY', 'LAXMIGANAPATHI TEMPLE RANGAREDDY', 'SUBANSIRI', 'PRATTIPADU WEST GODAVARI', 'GOLDSMITH SCHOOL SOUTH 24 PARGANAS', 'EAST MIRA BHAYANDER MIRA ROAD THANE', 'DEHAT', 'AHMADPUR', 'MUMBAI MIRA RD E', 'THARAMANGALAM BUS STAND SALEM', 'BOKARO STEEL CITY', 'PAURI GARHWAL', 'VILLAGE KR PURAM HOBLI BANGALORE', 'RAIBAREILLY', 'WEST TRIPURA AGARTALA', 'KALAWAD ROAD RAJKOT', 'PH 2 HYDERABAD', 'BHOPAL', 'CAMBRIDGE SCHOOL MUMBAI', 'GOREGAON EAST MUMBAI', 'SUDPUR', 'CLUB) SOUTH 24 PARGANAS', 'MUMBAI GIRGAON', 'ABUROAD', 'THAKUR HOUSE DAHISAR W MUMBAI', 'IMPERIA THANE WEST', 'NORT 24 PARGANAS', 'SIDDHARTHNAGAR', 'THOOTHUKUDI DIST', 'MEWAT', 'BHIWANDI THANE DIST', 'MANDIR THERGAON PUNE CITY PUNE', 'AL JUBAIL INSUDTRIAL', 'MONALI', 'PULIYOOR', 'DHIRAJ GAOURAV HEIGHT BLDG MUMBAI', 'PALDA INDORE', 'KHORDHA BHUBANESWAR', 'POLUR', 'ASHOK VIHAR PHASE 3 GURGAON', 'BHARMOUR', 'SUBBAL', 'RESTURENT SOUTH 24 PARGANAS', 'PLAZA THANE', 'STEEL CTM AMARAIWADI AHMEDABAD', 'CHINDWARA', 'BUDR PUNE', 'OPP PALAM CORPORATE PARK GURGAON', 'DIST BIKANER', 'JUNAGAOH', 'WORLI MUMBAI', 'METRO MALL DELHI', 'YANBU AL BAHAR', 'MARKET MUMBAI', 'JALANDHAR JALANDHAR', 'GAUTAM BUDDHANAGAR', 'SOUTH DINAJPUR', 'GURUVAYOOR', 'PANVEL JCI KAMOTHE RAIGARH', 'POLICE STATION BANGALORE', 'SOLAN', 'KANNAD', 'CMS IT SERVICES PUNE', 'SCHOOL PANJIM', 'HOWRAH', 'KHANAMET M HYDERABAD', 'HUGLI', '4 BUNGLOW MUMBAI', 'LACKNOW', 'NR EKTA POLICE STATION BHANDUP W', 'PAVIL THEKKCTHIL CHENGANNUR', 'DEVAS', 'DEOGARH DEOGARH RAJSAMAND', 'MAHIM W', 'RANAGHAT', 'BESIDE RANBOW VISTAS RANGAREDDY', 'BIJPUR', 'SINGTAM', 'URAN NAVI MUMBAI', 'JUNCTION GOREGAON E MUMBAI', 'IRRUNGATTUKOTTAI IRRUNGATTUKUTTAI', '6 DWARKA NEW DELHI', 'BADALAPUR W THANE', 'MADHAVAARAM NR R C APP CHENNAI', 'ASHRAM JAHANGIRPURA RANDER SURAT', 'KASGANJ', 'SAHIBJADA AJIT SINGH NAGAR MOHALI', 'BANGLORE', 'PANCHMAHAL KHUDRA', 'RANGAREDDI HYDERABAD', 'GREATOR NOIDA WEST', 'BODELI', 'CHINCHBUNDER MUMBAI', 'GURU NANAK DEV JI AMRITSAR', 'RESIDENCY HOTEL BANGALORE', 'VILLAGE MALAD EAST MUMBAI', 'CHEMBUR TILAK NAGAR MUMBAI', 'KOZHA', 'GOVANDI EKBAL AZMI HOTEL MUMBAI', 'KHONGJOM', 'JAWALAMUKHI', 'PURBO MEDINIPUR', 'PURULIYA', 'SIRHIND', 'OPP GOVT SCHOOL BANGALORE RURAL', 'ASSAM NEAR SBI JORHAT', 'MAROL METRO MAROL ANDHERI (E)MUMBAI', 'THEATRE BENGALURU', 'STAND LUCKNOW', 'KHADAKPADA KALYAN WEST THANE', 'VILUPPURAM', 'GANGUWAL', 'ROAD ANDHERI WEST MUMBAI', 'MALAPPURAM DT', 'PANCHMAHALS', 'MANDAPAM CHENNAI', 'RAJNAGAR II PALAM', 'VERTICA AHMEDABAD', 'WESTLANDS', 'KAMALGHAT', 'J V HOSPITAL CHENNAI', 'LIKABALI', 'GURU VILLA BUNGLOWS ANAND', 'HERITAGE HYDERABAD', 'ANDHERI(W) MUMBAI', 'NILGIRIS', 'PHASE-1 SOUTH DELHI', 'HOSPITAL RANCHI', 'GHAZIAHBAD', 'NANI DAMAN DAMAN', 'KAVARATTI', 'REIS MAGOS', 'KHATAV SATARA', 'BHILAI DURG', 'UTTAM NAGAR DELHI', 'LOHARDAGA', 'KADRI MANGALURU', 'JHILO', 'KUSHAL NAGAR KODAGU', 'JALOR', 'VIDYARANYAPURA BANGALORE', 'NASIK', '3 KALYANI NAGAR PUNE', 'NR CORPORATION BANK KOLKATA', 'GHAZIPUR', 'HATHRAS M M NAGAR', 'METTUPALAYAM', 'TALEGAON', 'SCHOOL CHAKALA ANDHERI E MUMBAI', 'MANNHEIM', 'SARAIKELA', 'MADINIPUR', 'KANDIVALI-E MUMBAI', 'KONDHWA KHURD, PUNE', 'RIASI', 'KURLA (EAST) MUMBAI', 'TIRUVANNAMALI (D)', 'THANE W', 'BIHARSHARIF', 'SERILINGAMPALLY MANDAL HYDERABAD', 'KURUKSHETRA', 'P S S K PURI PATNA', 'PAYYAVOOR', 'NEXT TO ASHOK AUTO GARAGE MUMBAI', 'NR ST JOSEPHS HIGH SCHOOL HYDERABAD', 'FARIDABAD FARIDABAD', 'BARAKHAMBA RD C P NEW DELHI', 'GADCHIROLI', 'HALISAHAR', '127 ANDHERI KURLA RD ANDHERI MUMBAI', 'K K NAGAR CHENNAI', 'MIRZAPUR', 'VERAVAL', 'LOWERPAREL W MUMBAI', 'PHASE 01 HINJEWADI PUNE', 'S K NAGAR', 'PILLAR NO 725 NEW DELHI', 'DOMBIVALI WEST KALYAN', 'COLLEGE KANPUR', 'WEST TRIPURA', 'MARATHAHALLI RING RD BANGALORE', 'MANIPUR', 'DHENKANAL DISTRICT', 'CHAPARA', 'PURNIA', 'NATURALS SPA TIRUAPTHI', 'STAGE BANGALORE', 'BAVDHAN KHURD PUNE', 'STORE BANGALORE', 'PANCH SHEEL SOC MUMBAI', 'MALAD  W MUMBAI', 'HIGH SCHOOL HYDERABAD', 'RAIGARH RAIGARH', 'VIDYAPITH SOUTH 24 PARGANAS', 'BARIATU ROAD RANCHI RANCHI', 'COMPLEX ANDHERI EAST MUMBAI', 'SULEMAN NAGAR', 'CHOWK PUNE-MUMBAI HIGHWAY PUNE', 'PETHAPUR GANDHI NAGAR', 'BHUVAN NALLASOPARA EAST THANE', 'HARDOI', 'GUILDERLAND', 'DHAKHOLI', 'KUPPAM KILVAYATHINANKUPPAM VELLORE', 'MHASAWAD', 'MEDAK DISTRICT', 'CHIKKAMGALURU', 'THANE BOISAR WEST', 'SIRSOD', 'LALBAUG MUMBAI', 'SUNGHBHUM JAMSHEDPUR', 'ANANTAPUR', 'KURLA W', 'KOCHI ERNAKULAM', 'SURAT KAMREJ ROAD SURAT', 'RAMANAGAR', 'BANGARPET', 'CHIRANJEEVI BLOOD BANK HYDERABAD', 'MUDICHUR CHENNAI', 'BHAINDER EAST', 'BELAUKH', 'CROSS LANE MUMBAI', 'JUHU MUMBAI', 'COSMOPOLITAN CLUB BANGALORE', 'EXCHANGE PATHANKOT', 'SOCIETY PUNE', 'MYSURU CITY', 'PURBI SINGHBHUM', 'MAUNATH BHANJAN', 'NO3 MUMBAI', 'BELAPUR RD MIDC NAVI MUMBAI', 'KUTTANADU', 'VISWANEEDAM BANGALORE NORTH', 'SCHOOL ULHASNAGAR', 'SAFED POOL A K RD ANDHERI E,MUMBAI', 'NALBARI', 'ANKLESHWAR', 'KALYAN (EAST)', 'JUHU BEACH SANTACRUZ W MUMBAI', 'ANDHERI (E ) MUMBAI', 'ST INEZ PANJIM', 'THIRUVALLUR', 'SUNDAR NAGAR', 'HILL ANTOP HILL MUMBAI MUMBAI', 'KAILASH SOUTH DELHI NEW DELHI', 'SCHOOL MADHAPUR HYDERABAD', 'AREA PHASE 1 NEW DELHI', 'TROMBAY ROAD DEONAR MUMBAI', 'ASSOCIATION KOLKATA', 'JHARSUGUDA', 'DARWANDO', 'PALAKKADI', 'EAST MIRA ROAD THANE', 'ADOOR', 'MAROL ANDHERI(E) MUMBAI', 'YAVATMAL- DISTRICT', 'GREATR MUMBAI (M CORP) MUMBAI', 'GURDASPUR GURDASPUR', 'CHENGANNUR', 'CUDDALORE DIST', 'KACHCHH', 'PARVATIPURAM', 'ISLAMPUR', 'KOTRI RAJSAMAND', 'VASCO DA GAMA', 'BHAWANIPATNA', 'JANJGIR CHAMPA', 'CHITRADURGA', 'NORTH SYDNEY', 'TELEPHONE EXCHANGE SION E MUMBAI', 'BKC MUMBAI', 'KADROLLI', 'LOTUS BUS STOP WORLI MUMBAI', 'VADODARA', 'KARPI', 'BEVERLY PARK MIRAROAD THANE', 'KAKKANAD', 'BELAPUR NAVI MUMBAI', 'RAJAWADI GHATKOPAR EAST MUMBAI', 'BAROTIWALA', 'THANE WEST WAGLE I E THANE', 'KALYANA MANTAPA ROAD BANGALORE', 'KHERI BURA', 'TRICHY DT', 'DISTT MUMBAI', 'ANDHERI RAILWAY STATION MUMBAI', 'MCDONALDS MUMBAI', 'SANGLA', 'BUILDING MUMBAI', 'BURLI', 'PH-IV GURGAON', 'SAHIBJADAAJIT SINGH NAGAR', 'KHAMBHAT', 'SWEETS BANGALORE', 'COMPANY MORADABAD', 'CHAMOLI', 'NANDAN', 'BAKERY RD HYDERABAD', 'PUMP BHANDUP W-MUMBA', 'DHANBAD', 'THIRUVANNAMALAI (DT)', 'LODZ', 'HOHIARPUR', 'SALAI PUDUCHERRY', 'STADIUM PUNE', 'GURUKUL-DRIVE IN ROAD AHMEDABAD', 'HUNG HOM', 'AMBARNATH THANE THANE', 'PONDA', 'MUTHOLY', 'RUPNAGAR NAYA NANGAL', 'JUNAGADH', 'KRISHNAGIRI(DT) HOSUR', 'DIVA E', 'KRISHNA DIST', 'BULANDSAHAR', 'LAKE CITY MALL THANE WEST THANE', 'DOMBIVALI (EAST)', 'CONVENT MUMBAI', 'KANJIRAPPALLY', 'OPP AJANTA PHARMA MUMBAI', 'PANAJI - GOA', 'PUNAGAM SURAT', 'PAPUMPARE NAHARLAGUN', 'J P NGR 3RD PHASE BANGALORE', 'HSR LAYOUT BANGALORE', 'DISTT-MUMBAI SUBURBAN MUMBAI', 'RAILWAY STATION CHENNAI', 'D P ROAD AUNDH PUNE', 'KNOWLEDGE PARK-III GREATER NOIDA', 'ROAD PUNE', 'DAIRY DEPO HAORA', 'JATNI', 'MANDIR GOHANA', 'CHUNABHATTI MUMBAI', 'BARDEZ', 'SHANSHABAD HYDERABAD', 'ROAD ANDHERI (E) MUMBAI', 'KISHANGANJ', 'PARK MAHAPE NAVI MUMBAI', 'PAMOL', 'KOTHAPUR', 'KARJAN', 'VIYYUR THRISSUR', 'STOP SECUNDERABAD', 'PHATA NASHIK', 'RINGANWADA NANI DAMAN DAMAN', 'SPAZE GURGAON', 'PHASE 1 HINJEWADI  PUNE', 'TEMPLE HYDERABAD', 'LINK RD GOREGAON W MUMBAI', 'SATTUR', 'BADARPUR DELHI', 'KHARKHARA', 'KRISHNAGIRI', '2 THAKUR VILLAGE KANDIVALI  MUMBAI', 'SRK NAGAR POST BANGALORE', 'EAST TAMBARAM', 'PHILLAUR', 'CHHIPIPURA BORISARAY E NIRMAR', 'RATNMANI SURAT', 'TOLLYGUNGE PO TOLLYGUNGE KOLKATA', 'SAKAKA', 'AMROHA', 'VILLAGE MUMBAI', 'WEST KALYAN', 'YELLADGUNDI', 'SHAMIKPET HYDERABAD', 'GARDEN MUMBAI', 'NGR SECUNDERABAD', 'WADGAON SHERI PUNE', 'DAYANATPUR', 'VILLAGE BEGUR HOBLI BANGALORE', 'KURLA ANDHERI ROAD MUMBAI', 'DIST AURANGABAD', 'THIRUNMUYUR', 'ABHUDAYA BANK NEW PANVEL', 'RAINSARY UNA', 'SABARKANTHA MEGHRAJ', 'KOLAR', 'RALEIGH', 'KARANJ SURAT', 'TIRUVALLUR CHENNAI', 'ANEKAL TALUK BANGALORE', 'MIRA RD THANE', 'B NO 3 KALYANI NAGAR PUNE', 'EXCHANGE RD ANDHERI E MUMBAI', 'SHAMSHABAD', 'K V RANGARDDEY', 'SIVAGANGAI DT', 'CHAPAD', 'VANASTALIPURAM K V RANGAREDDY', 'PONNAGAR TRICHY', 'MALAPPURAM', 'GOREGAO', 'SOUTH DELHI', 'PALOTI CHURCH MUMBAI', 'KHERI FARIDABAD', 'THODUPUZHA IDUKKI', 'VIJAYANAGARAM', 'MYLAVARAM', 'DIST THANE BOISAR', 'MUMBAI SUBARBAN DIST MUMBAI', '(NEAR AUDI SHOWROOM) BANGALORE', '(BRINDA BAN ) KOLKATA', 'COMPANY BANGALORE', 'QADIAN', 'VASANT KUNJ', 'AUSTIN', 'MARKET NASHIK', '(KH) TAL MULSHI PUNE', 'KORAMANGALA IST BLOCK BANGALORE', 'ORIKKAI', 'MADHAPUR HYDERABAD', 'NIZAMPET QUTUBULLAPUR KV RANGAREDDY', 'STOP HYDERABAD', 'HIGH SCHOOL HESAG', 'NORTH DELHI DELHI', 'SHIVSHAHI PRAKALP MUMBAI', 'KOSAMBA', 'SONIPAT', 'SADESATRANALI HADAPSAR PUNE', 'GOA VELHA', 'PHARMACY HYDERABAD', 'MANI MAJRA', 'AJMER', 'MAHENDRAGARH', 'PETROL PUMP CHIKHLI', 'DAVANAGERE', 'AMBELIM', 'NANGUNERI', 'OMAN MUSCAT', 'BADHERI CHANDIGARH', 'DEOGARH', 'GANDHI NAGAR EAST DELHI DELHI', 'NEW SHIMLA', 'HALL NEAR HYDERABAD', 'DADAR WEST MUMBAI', 'PHASE  BANGALORE', 'DHARVHERA REWARI', 'WRZESNIA', 'BUTIBORI NAGPUR', 'AMBIVALI EAST', 'TILAKNAGAR THANE', 'PAYAL', 'SV ROAD KANDIVALI WEST MUMBAI', 'JAROD', 'CAFE 1730 PUNE', 'VARACHHA SURAT', 'HOUSING SOCIETY GUWAHATI', 'MANKHURD E MUMBAI', 'BHUNA', 'ROAD EAST THANE', 'BONGAON', 'SION HOSPITAL MUMBAI', 'CITY MIRA BHAYANDAR MCL THANE', 'BALANGIR', 'BHARANG', 'MUSLMAN SONIPAT', 'STILLORGAN', 'BANDA', 'SHITAL NAGAR SOCIETY SURAT', 'GARDEN RD JOGESHWARI WEST MUMBAI', 'SHIRPUR', 'KARAD', 'CHISOPANI', 'RAJARHAT KOLKATA', 'OPP FORTUNE TOWER HYDERABAD', 'TPR', 'KATEMANIVALI THANE', 'VIHAR HOTEL MUMBAI', 'DASARAHALLI BANGALORE', 'DOMBIVLI W', 'DEPOT BANGALORE', 'ADARSH NAGAR PUNE', 'PUR NORTH WEST DELHI', 'MANDIR SAMALKHA', 'SKIEN', 'SINDHNUR', 'READING', 'PACHASIL NAGAR', 'VIKHROLI (EAST)', 'SOMAJI GUDA HYDERABAD', 'VIVEKANAND STATUE DURGAPUR', 'WHARF RESTAURNT BANGALORE', 'DATTAPADA ROAD BORIVALI-EAST MUMBAI', 'DISTT MUMBAI SUBURBAN DIST MUMBAI', 'RAJ-RAJESHWARI KARYALAY NASHIK', 'SARJAPURA MAIN RD BANGALORE', 'ANDHERI (W) MUMBAI MUMBAI', 'MANGAL KARYALAY NASHIK', 'KUNNOTHUPARAMBA', 'OPP AGARWAL HOS PUNE', 'EMP NO 61645 BANGALORE', 'SCHOOL BANGLORE', 'SHEOPUR', 'NERUL', 'UTTARA HALLI MAIN RD BANGALORE', 'POLY CLINIC BANGALORE', 'YEMLUR POST BANGALORE', 'GANGAWATI', 'VASAI RD W', 'SANPADA THANE NAVI MUMBAI', 'SONAPUKUR', 'SAHIBGANJ', 'KARVE RD ERANDWANE PUNE', 'HIGH ROAD NUNGAMBAKKAM CHENNAI', 'FOR WOMEN HYDERABAD', 'MANDIR NEEMRANA', 'TRIMULGHERRY HYDERABAD', 'MANGALORE', 'HIGH SCHOOL JOGESHWARI E SO MUMBAI', 'BANDIKUI', 'KADIRI', 'DWARKA NASHIK', 'TARAKESWAR', 'NAGAR JUHI COLONY KANPUR NAGAR', 'PRAMUKH PARK SURAT', 'TARAPORE GARDEN OSHIWARA MUMBAI', 'SIGHWAL', 'H O CHENNAI', 'BHUJ', 'ATHAL VILLAGE', 'HEIDENHEIM', 'RESIDENCY HYDERABAD', 'PERAMBALUR', 'JAGDALPUR', 'OPPOSIETE PUNE', 'BANK GWALIOR', 'SOLA AHMEDABAD', 'BERHAMPUR', 'SOUTH TWENTY FOUR PARGANAS', 'JUBILEE HILLS HYDERABAD', 'AGARTALA', 'RAI SONEPAT', 'ROHAN WINE SHOP MUMBAI', 'HALDWANI', 'THANE BHAYANDER EAST THANE', 'SANDESAR', 'KHATIMA', 'RANGAREDDY LB NAGAR K V RANGAREDDY', 'DEPOT BORIVALI(E) MUMBAI', 'MUKERIAN', 'MANDAL UDAIPUR', 'R T NAGAR BANGALORE', 'CHANDRAPUR DIST', 'SANGALI', 'ADITYA MALL GHAZIABAD', 'MUPPALLA GUNTUR', 'PANBAZAR', 'NR KONDAIDEVI MANDIR MUMBAI', 'NEHRU NAGAR HYDERABAD', 'ADSULIM SALCETE', 'NAVI KOPAR KHAIRANE', 'BANK PUNE', 'DHAYRI ROAD PUNE', 'WANAWADI PUNE', 'BHAYANDER E', 'MUZAFFARNAGAR', 'KANJIRAKODE', 'DOMBIVALI W', 'SALODARIYA', 'ANDHERI EAST MUMBAI', 'UPPER SIANG', 'RAVER', 'KUDAL', 'SOUTH BANGALORE', 'BHAGAT SINGH NAGAR NAWANSHAHR', 'PADRA', 'JALPAIGURI', 'IRAGAVARAM', 'ANDROTH', 'VADAPURI', 'ANDHERI EAST MUMBAI MUMBAI', 'STATION HYDERABAD', 'AHMED NAGAR', 'SEC-41 GURGAON', 'MURLIGANJ', 'DIST NORTH GOA BARDEZ', 'TILAK BHAVAN MUMBAI', 'ANOOPPUR', 'MUMBAI THANE', 'KHARGHAR NAVI MUMBAI', 'TAL KHED DIST PUNE', 'NAHARLAGUN', 'EXTENSION LI STAGE BANGALORE', 'DEVLALI NASHIK', 'THANJAVUR', 'KUMTA', 'GAUTTAM BUDH NAGAR', 'TIRUCHENDUR TALUK', 'POLICE STATION MUMBAI', 'UTKOOR', 'BEGU ROAD SIRSA', 'CHAMPARAN', 'RANGA REDDY SERILINGAMPALLY', '13 GORAKHPUR', 'HDFC BANK BANGALORE', 'SHANKARA EYE HOSPITAL CHENNAI', 'CHAKDAH', 'THOOTHUKUDI DISTRICT', 'KARUR', 'P O AND DIST BURDWAN', '3RD FLR HYDERABAD', 'RAJASTHAN NEEM KA THANA', 'SRIKAKUKLAM DT', 'YANAMALAKUDURU VIJAYAWADA', 'HARSOLI', 'RUDEL', 'BANNERGHATTA RD BANGALORE', 'ROAD WHITEFIELD BANGALORE', 'MANDI GOBINDGARH', 'NUMBER 8 NARWANA JIND HARYANA', 'NEAR MURLI SOMOSE WALA NEW DELHI', 'DIST EAST SINGHBHUM GOVINDPUR DIST', 'CANSAULIM', 'PATHANKOT [PB]', 'GOPALPURI TALUKA -ANJAR GANDHIDHAM', 'MUNNAR PANCHAYATH', 'ASHOK NAGAR', 'DISTT KATIHAR', 'TIRUVANNAMALAI(DT)', 'BENCHMARK KOLKATA', 'WORKOUT GYM MUMBAI', 'BHILAI I', 'MHOW', 'KURUSHETRA', 'ARNI', 'SHAMA', 'HATKANANGLE', 'HYDERABAD RANGAREDDY', 'SIGNAL MUMBAI', 'PARK PUNE', 'ISNAPUR X ROAD PATANCHERU HYDERABAD', 'SATNA', 'VIRAR E', 'ETAH', 'SENAPATI DISTRICT', 'CIRCE PAPUMPARE NAHARLAGUN', 'MADIPPAKKAM', 'BRIGADE ALTAMONT BANGALORE', 'AUTOMOBILES JHARGRAM', 'ANDHERI (W) MUMBAI', 'PADEKAR GAS NASHIK', 'BAHADORGARH', 'MOUNTVIEW PUBLIC SCHOOL ZIRAKPUR', 'SHREE RESIDENCY SURAT', 'TREES VERSOVA ANDHERI W MUMBAI', 'THRISSUR', 'RAIGAD', '24 PARGANAS N', 'PLESEANT PARK MIRA RD THANE', 'BHUANESWAR', 'L N PURAM BANGALORE', 'GORAYA', 'NORTH BANGALORE', 'PARAVUR', 'COLVALE', 'TALKIES BHIWANDI', 'PERUMBAVOOR ERNAKULAM', 'CHIKKABALLA PURA TALUK AND DIST', 'SIOLIM BARDEZ', 'VETERINARY HOSPITAL GHAZIPUR', 'TIRUCHIRAPALLY (TRICHY)', 'NAWANSHAR', 'SCHOOL GOMATI', 'HALL TIRUPATI', 'BURNPUR', 'GRANT RD EAST MUMBAI', 'BADAYOAYO', 'BHIND', 'DELHI NEW DELHI', 'RAMNAGAR NAINITAL', 'COLONY RANGAREDDI HYDERABAD', 'C P NEW DELHI', 'MAKDAVAN', 'RAYAGADA', 'ELPHISTONE ROAD MUMBAI', 'GANJAM DISTRICT', 'MUTT ROAD BENGALURU', 'UDHAM SINGHNAGAR', 'KAPASHERA', 'HUKERI', 'MAKARABA AHMEDABAD', 'BUS STOP NEAR BANGALORE', 'KARIMANNOOR', 'TAORU/MEWAT', 'HARAIRAMPUR', 'S O THANE NAVI MUMBAI', 'SCHOOL BHIWANDI', 'BEHIND THE ACRE CLUB CHEMBUR MUMBAI', 'POST OFFICE MUMBAI', 'OFF PUNE NAGAR ROAD PUNE', 'DHONE', 'MANIKAM ROAD AMINSIKARAI CHENNAI', 'STREET MANNADY CHENNAI', 'VILE PARLE EAST', 'MUZAFFARPUR', 'DIMAPUR, NAGALAND', 'STUDIO MERTA CITY', 'ULHASNAGAR 1 ULHASNAGAR', 'VEERA DESAI ROAD MUMBAI', 'SAUDI ARABIA SAUDI ARABIA', 'OMAXE GURGAON', 'GAR ALI JORHAT', 'KURKIHAR', 'ROAD BSK 3RD STAGE BANGALORE', 'MIRA BHAYANDER THANE', 'PHALTAN', 'DHARAPURAH TK', 'BONIYAR', 'CSIR RD TARAMANI CHENNAI', 'SHEORAPHULY HOOGHLY', 'NERUL BARDEZ', 'MOIRA', 'MULTAI', 'DARGA THANE WEST', 'SAIDPUR', 'BOLPUR NR RABICHAYA LODGE BOLPUR', 'ACRCE CLUB CHEMBUR MUMBAI', 'SHOP NOIDA', 'PUMP MAHAPE NAVI MUMBAI', 'KALYAN', 'MAO', 'DIST-RAE BARELI', 'CBD BELAPUR NAVI MUMBAI', 'KUALA BELAIT', 'HSP', 'OPP IIITCAMPUS HYDERABAD', 'NAGAR PATNA', 'HARYANA TOHANA', 'TANDUR RANGA REDDY', 'MUNICIPAL CORPORATION THANE', 'KOLKATA PO GARIA', 'WEST FASHION LOOK CHENNAI', 'POWAI SAKINAKA', 'COMPOUND LOWER PAREL WEST MUMBAI', 'BANK ATM BANGALORE', 'MATDAR SANGH SECTOR 3A THANE', 'GOPALGANJ', 'SULDUNG', 'MERTA CITY', 'RESIDENCY VISAKHAPATNAM', 'MALLAPUR', 'NR SPARSHA HOSPITAL BANGALORE', 'KANSHIRAM NAGAR', 'VASAI MUMBAI', 'EDOGAWA-KU', 'AZAD NAGAR MUMBAI', 'MANIMAJRA CHANDIGARH', 'SATPURA', 'JUNCTON VISAKHAPATNAM', 'MEHAM', 'RANAPRATAP NAGAR NAGPUR', 'KANCHIPURAM DIST', 'ULUNDURPETTAI', 'KOHIMA', 'DEULGAON', 'KALYANI PO-KALYANI', 'SHEIKHPURA', 'KHARAG PUR', 'SANT KABIRNAGAR', 'TANDA', 'KALYANANAGAR BANGALORE', 'MIRZAPAR', 'S A S NAGAR MOHALI', 'ROHTAK', 'VIDHYALAY KOLKATA', 'TIRUPATI CHITTOOR DIST', 'CIRCLE HYDERABAD', 'AL KHOBAR 31952', 'BALARPUR MAINPURI', 'SRIDHARNAGAR', 'CHUVACHANPUR', 'AMRAVATI DISTT AMRAVATI', 'IPOH', 'HRODYLYA HOSPITAL JAMESHEDPUR', 'GOZARIYA', 'STAND CHENNAI', 'SARDAR CHOWK SURAT', 'DIST VALSAD OPP LIC OFFICE VAPI', 'APPARTMENTS BANGALORE', 'BELTHUNGADY', 'SIDDHARTH NGR GOREGAON WEST MUMBAI', 'GHATKESAR', 'MANESAR', 'UNA', 'POST BENGALURU BENGALURU', 'UTTARSANDA', 'GREATER NOIDA', 'COMPANY THANE', 'MIRAROAD THANE', 'GOTTIGERE RD GOTTIGERE BANGALORE', 'ELPHINSTONE ROAD W MUMBAI', 'SCIENCE NAVI MUMBAI', 'COLLEGE NASHIK', 'IT SOLUTIONS BANASWADI BENGALURU', 'SANGELI', 'NEAR DELHI DARBAR HOTEL MUMBAI', 'WATER PARK-THANE W', 'CHANDAPURA BANGALORE', 'VELLORE', 'KHANPUR', 'CITY PARVATI PUNE', 'HOSPITAL ERNAKULAM', 'BARDHAMAN DURGAPUR', 'AREA BANGALORE', 'HUBLI DHARWAD', 'VELLORE DIST', 'BPCL OFFICE KOLKATA', 'KALIGIRI', 'NATIONAL HIGHWAY VIA SHIRSAD VIRAR', 'QUEPEM SOUTH GOA', 'GROUND MUMBAI', 'BULANDSHAR', 'MAHENDER GARH', 'MAHUDHA', 'BHAYANDAR (W)', 'SUKET', 'KURNOOL DIST', 'BHUJ-KUTCH', 'KULTI', 'BINA', 'NEWDELHI', 'NAKODAR', 'SONIPAT GOHANA GOHANA', 'SANPADA S O THANE', 'SOUTHWEST DELHI', 'ROAD ANDHERI E MUMBAI', '1ST STAGE MYSORE', 'BADLAPUR THANE', 'RAIGANJ', 'ROAD KARELI BAUG VADODARA', 'NAGAR PARVATI NAGAR NAGPUR NAGPUR', 'NANITAL', 'POOL BANGALORE', 'AHMEDBAD', 'VASAI (EAST)', 'ANAND NAGAR DAHISAR E MUMBAI', 'MANARCADU', 'AJMAN', '3IGI AIRPORT DELHI', 'NADIAD KHEDA', 'PICKET CIRCLE HYDERABAD', 'SIVER PLAZA MIRA ROAD EAST THANE', 'HEALTH CLUB HOSHANGABAD', 'ROAD AIROLI NAVI MUMBAI', 'CHINNAPANAICKENPALAYAM CUDDALORE', 'COMMERCE JOGESHWARI WEST MUMBAI', 'SHOP SALEM', 'PALIKA BAZAR NASHIK', 'FUNCTION HALL VAYUPURI HYDERABAD', 'KASAGANJ', 'NAVI MUMBAI PANVEL RAIGARH', 'MADURAI DIST', 'LAKHISARAY', 'CHAMARAJANAGAR (D)', 'SAMBHAL', 'BHAVANI', 'CHAKDAHA', 'VIMANAPURA BANGALORE', 'MOHAN HOTEL LUCKNOW', 'EXTENSION BANGALORE SOUTH BANGALORE', 'NAGAR AMBEDKAR NAGAR', 'PATPARGANJ', 'AMLOH', 'THODUPUZHA', 'ROAD KALOOR POST KOCHI', 'CITY AHMEDABAD', 'LUCKY RESTAURANT VAPI', 'EAST GODAVARI DISTRICT', '(THANE)', 'PURA BANGALORE', 'FLYING CLUB ADJACENT KOLKATTA', 'PANT NAGAR S O MUMBAI', 'KOPAR KHAIRNE SO NAVIMUMBAI', 'BUSINESS PARK MUMBAI', 'PANDURANGAPURAM VISAKHAPATNAM', 'LAXMANGARH', 'MORLEM', '3RD STAGE BANGALORE', 'RELIANCE SUPER MARKET HYDERABAD', 'VALAYANKULAM', 'AMRITSAR AMRITSAR', 'THIRUVARUR', 'VERSOWA MUMBAI ANDHERI (W)', 'MOHALI CHANDIGARH', 'CHINMAYA BANGALORE', 'DARABHANGA', 'HDFC BANK KOLKATA', 'BHIWADHI', 'SHIVPURI', 'NURPUR BEDI', 'KANPUR NAGAR KANPUR', 'CHURCH DADAR MUMBAI MUMBAI', 'CENTRAL DELHI', 'PALA', 'ROAD JAIPUR', 'CHENNAI', 'ERNAKULAM', 'SHANI KALI MANDIR KOLKATA', 'JARLAHI', 'ANDHERI (E) MUMBAI', 'BUNGLOWS ANAND', 'KAMAN HYDERABAD', 'BLOCK BANGALORE', 'KASOR', 'THAN MAHALUNGE INGALE PUNE', 'JABAL ALI', 'DONGRI MUMBAI', 'MULUND (E)', 'KOILAKUNTLA', 'NAROLI NAROLI', 'KURLA WEST-MUMBAI', 'JOGESHWARI E MUMBAI', 'KHAR WEST MUMBAI', 'RAIKOT', 'DIST-GANDHINAGAR', 'PALAKKAD DIST', 'BATHINDA CANTT', 'EAST MIRA BHAYANDER THANE', 'ZONE WHITEFIELD BANGALORE', 'NAGAR KATRAJ PUNE', 'SANDRA HOSUR ROAD BANGALORE', 'BABUSAPALYA BANGALORE', 'CHENKODI', 'SAMASTIPUR', 'GHATKOPAR WEST MUMBAI', 'HABRA (WB)', '(URBAN) MAHARANIPETA VISAKHAPATNAM', 'KAVANAD', 'JORABAGAN KOLKATA', 'NEHRU GARDEN COLONY KAITHAL', 'MUMBAI E', 'RAIPUR DIST', 'BAZAR KOLKATA', 'MOMBASA', 'KANKINARA', 'PRAKASH SCHOOL RAJKOT', 'RAJSAAMAND', 'ALTO ST CRUZ ILHAS', 'MAIDAN PATNA', 'GODAVARIKHANI', 'BADLAPUR (E) THANE', 'MUMBAI AZAD NAGAR MUMBAI', 'DIST-BOKARO', 'AFZALGARH', 'NAGUR', 'MUNICIPAL HOWRAH', 'PHASE-1 GURGAON', 'JANAKPURI', 'MUDURAI', 'SARAN', 'PATAN (GUJARAT)', 'KANPUR DEHAT', 'SHIRAPUR', 'INDICOM BUILDING KOLKATA', 'TAMIL SANGHAM BANGALORE', 'VPM DIST', 'BADLAPUR E', 'COLONY VARANASI', 'TRIBENI', 'BANK ANDHERI (E) MUMBAI', 'THANE BELAPUR RD NAVI MUMBAI', 'LLAYOUT BANGALORE', 'HAL 2ND STAGE INDIRANAGAR BANGALORE', 'MUKSAR', 'BHALUHI', 'SCHOOL CHAKALA ANDHERI MUMBAI', 'TOWNSHIP KOLKATA', 'RAJGARH', 'HOSPITAL MIRAROAD EAST THANE', 'KAKNPUR', 'KHANNA', 'RAHATNI PUNE', 'PERUMBAVOOR', 'HILLS HYDERBAD', 'RESTAURANT BANGALORE', 'MAZHAVANTHANGAL VILLAGE', 'NEAR SBH BANK HYDERABAD', 'VISHRANTWADI PUNE', 'ROAD SURAT', 'MUMBAI CHINCHBUNDER MUMBAI', 'SALEM DISTRICT', 'TIRUR', 'NO 2 KOLKATA', 'S NO 79-B BHIWANDI', 'TARDEO MUMBAI', 'DISTRICT RAJASMAND', 'QTR ALIMUDDIN KOLKATA', '5TH PHASE BANGALORE', 'MAMAHAJI ALI WORLI MUMBAI', 'BAHADURGARH', 'GUNDIYAL', 'KORMANGALA BANGALORE', 'SION EAST, MUMBAI', 'THANE AMBERNATH', 'BLOCK 3 BANGALORE', 'AIRPORT RD EMP IN P11875 BANGAORE', 'JALORE', 'ANDHERI W', 'BEACH CHENNAI', 'SITAPUR', 'RD ANDHERI WEST MUMBAI', 'SHAM SHABAD', 'KHAIRNE THANE NAVI MUMBAI', 'METRO STATION FARIDABAD', 'OUTRAM', 'CATHOLIC CHURCH PUNE', 'CO-OPERATIVE BANK DELHI', 'ALAPUZHA', 'SERILINGAMPALLY NR GOOGLE HYDERABAD', 'TARAPUR', 'BESIDE HYDERABAD', 'VILE PARLE MUMBAI', 'LOWER PAREL W MUMBAI', 'BAHARAICH', 'ASF INSIGNIA GWAL PAHARI GURGAON', 'CINEMA GHATKOPAR W MUMBAI', 'FARRUKHNAGAR GURGAON', 'COMPOUND MUMBAI', 'E WORLD CYBER CAFÉ IMPHAL WEST', 'GLENGOWRIE', 'NALAPPURAM', 'JALOUN', 'GHAZIABAD GHAZIBAD', 'BUDDHA NAGAR NOIDA', 'KUTTANAD', 'HOSANAGARA', 'STORES MANGALORE', 'MADHAPAR (GUJARAT)', 'ADALAJ', 'JAVAL THANE EAST DIST THANE THANE', 'TAMENGLONG', 'NXT TO APNA BAZAAR MUMBAI', 'HARYANA', 'TOWARDS ASHOK NAGAR HYDERABAD', 'GOREGAON WEST-MUMBAI', 'KANND', 'NAIHATI 24PGS NORTH', 'CENTER CUMBALLA HILL MUMBAI', 'SANTHI NAGAR', 'DISTRICT BALAGHAT', 'PURVI', 'KANCHIPURAM DISTRICT', 'SECTOR -11 NEW DELHI', 'MEDICAL CENTRE CHENNAI', 'FLORIDA', 'SOCIETY GATE MUMBAI', 'NEAR SIVAGANGAI DIST', 'NAGAR NORTH E DELHI NEW DELHI', 'INDUSTRIAL ESTATE PAREL MUMBAI', 'DHOBIGHAT JACOB CIRCLE MUMBAI', 'KHOKHARA AHMEDABAD', 'MANDIR MULUND WEST MUMBAI', 'TUTOCORIN', 'GURUJI SCHOOL KALEWADI PUNE PUNE', 'COLONY RANCHI', 'RAGHURAJANAGAR', 'SAROORNAGAR RANGAREDDI HYDERABAD', 'BUILDING MADHAPUR HYDERABAD', 'DISTRICT-RANCHI', 'JC RESIDENCY MADURAI', 'HEADQUARTERS NAVI MUMBAI', 'SWIMMING POOL BANGALORE', 'CACHAR', 'THENI', 'CENTRAL DELHI NEW DELHI', 'THANE NAVI MUMBAI', 'KAKINADA EAST GODAVARI', 'NAMAKKAL (DT)', 'HATIARA PURBACHAL HOU SOC KOLKATA', 'KARANJIA', 'CHANDIVALI POWAI MUMBAI', 'ISLAND MUNDRA', 'BAZAAR KANDIVALI WEST MUMBAI', 'UDYOG VIHAR PHASE-IV GURGAON', 'ELPHINSTONE W', 'THIRUPPUR', 'GREATER KAILASH I', 'YERWADA ABOVE IDEA SHOWROOM PUNE', 'RAJENDRANAGAR', 'PANCHKULA PINJORE', 'NEEMTAL', 'BHAYANDAR WEST THANE', 'DENHAAG', 'HEALTH CLUB OFFCE F C RD PUNE', 'KOTHIKODE', 'SIKANDRABAD', 'BORCHEM CARANZALEM', 'NALASOPARA EAST VASAI', 'RAILWAY STATION (ASSAM) DIBRUGARH', 'SCHOOL GHAZIABAD', 'HANUMAN TEMPLE RR DIST RANGAREDDY', 'VILLAGE ANDHERI E MUMBAI', 'COLONY RANGAREDDI', 'MAHIM MUMBAI', 'SCHOOL RAJKOT', 'MASA BILIMORA', 'THAKURANI KOLKATA', 'KUSHMANDI', 'MANDIR GURUKUL AHMEDABAD', 'LIMBASI', 'NEAR EVEREST WORLD THANE', 'CUNCOLIM SALCETE', 'THORAIPAKKAM CHENNAI', 'CUTTACK CUTTACK', 'MAHALAXMI MUMBAI', 'NAZAFGARD', 'GHAMBHAT', 'MARKET YARD PUNE', 'CYBER CITY GURGAON', 'NEW PANVEL MUMBAI', 'BAKSA', 'FASTNERS PUNE', 'BANK NASHIK', 'KOLLAKADAVU', 'NR COLLEGE MORE KOLKATA', 'DOMBIVALI I A THANE', 'K V RANGAREDDY', 'JALANDHAR CITY', 'ULHASNAGAR W THANE', 'VIHAR METRO STATION NEW DELHI', 'NEWAI', 'PETROL PUMP SURAT', 'LABOUR CHOWK DELHI', 'FONTENAY AUX ROSES', 'GAUTAMBUDDHA NAGAR', 'BANGALORE HSR LAYOUT', 'ZIRKPUR', 'BHADRAK', 'BAZAR AMBARNATH THANE', 'P O PANVEL RAIGARH', 'PAREL MUMBAI', 'DODDAKALLASANDRA BANGALORE', 'CHALA VAPI', 'VENNIKULAM', 'SOUTH MORANG', 'JODHPURIA 210 PO JODHPURIA SIRSA', 'PARK TIRUPATI', 'NR BEDEKAR COLLEGE THANE (W)', 'MUMBAI B/H BEAUMONDE TOWER MUMBAI', 'TIRUCHANOOR', 'BAZAR MANDVI MUMBAI', 'AERODROME POST COIMBATORE', 'P NR RAGHUNATHPUR BUS STOP PURULIA', 'LUNGLEI DISTRICT', 'RLY CROSS AHMEDABAD', 'KANDIVALI W-MUMBAI', 'JADHAV MARG LOWER PAREL WEST MUMBAI', 'MANIMANGALAM', 'PERINTHAALMANNA', 'NAGAR MUMBAI MUMBAI', 'SHAMLI', 'GANDHINAGAR  HIGHWAY AHMEDABAD', 'BRANCH KONDAPUR HYDERABAD', 'PALANPUR', 'PONNERI', 'PARK APTS HYDERABAD', 'HANUMAN MANDIR BHIWANDI', 'PORUORIM', 'MADHANANDHAPURAM CHENNAI', 'DELHI (VIKASHPURI)', 'KHEDA', 'NAGAR EAST CHENNAI', 'SOUTH WEST DELHI', 'GOVT HIGH SCHOOL HYDERABAD', 'MARG ELPHINSTONE MUMBAI', 'GROUND FLR ALLIPURAM VISAKHAPATNAM', 'MAHENDRA GARH', 'NADIA', 'HYDERABAD R R DIST', 'MALAD (W) MUMBAI', 'KOTPUTLI', 'BAHULA NASHIK', 'QURESHI ELECTRICITY WORKS NEW DELHI', 'BEGUSARA', 'MYSORE CITY', 'SATIVALI VASAI E THANE', 'STAINES', 'CMPL SURAT', 'INDL ESTATE NR BUSSTOP COIMBATORE', 'DELHI CANTT', 'TIRUPATI NGR THANE', 'DIST-THANE', 'BY PASS HADASAR PUNE', 'JACOB CIRCLE MUMBAI', 'BHAJAN PURA', 'KICHHA', 'NAGERCOIL', 'BHAYANDAR E', 'NR WESTERN EXPRESS HIGHWAY MUMBAI', 'THANE BELAPOUR RD MIDC NAVI MUMBAI', 'BHANDUP (EAST) MUMBAI', 'CINEMA KIRTI NAGAR NEW DELHI', 'CHHINDWA', 'SECTOR-14 CBD BELAPUR', 'PALAMPUR', 'FARIDABAD SECTOR-22 FARIDABAD', 'MELUR', 'DEOLI', 'CHINCHWAD PUNE', 'SULLIA', 'NAMASKAR APARTMENT MUMBAI', 'STELLA VASAI THANE BASSEIN ROAD', 'SHIKOHABAD', 'AIRPORT BANGALORE', 'AUTOMOTIVE WORKSHOP SECUNDERABAD', 'SHOP BANGALORE', 'SABARKANTHA', 'BADLAPUR (W)', 'COURIER CHENNAI', 'TEHSIL-PUNE PUNE', 'RAMAPURAM', 'MUMAI', 'SAFAT', 'CIVIL HOSPITAL PAONTA SAHIB', 'SHAKTI CHOWK PUNE MUM HIGHWAY PUNE', 'GOJHARIYA', 'BUILDING CUTTACK', 'KANCHEEPURAM DT', 'ALMORA', 'CHENNAI SALIGRAMAM', 'SINGRAULI', 'OSL TOWER II CUTTACK', 'YEDTHARE', 'PANAJI', 'THANE MIRA ROAD THANE', 'EXCHANGE MUMBAI', 'AIZAWL', 'SCHOOL KUSHAIGUDA', 'KUNDAPUR', 'CLUB BURDWAN', 'NASHIK NASHIK NASHIK NASHIK', 'BETIM BARDEZ', 'KUKATPALLY TIRUMALAGIRI HYDERABAD', 'AXIS BANK DELHI', 'SCHOOL CHAKALA ANDHERI EAST MUMBAI', 'MANALI 21/26 KULLU', 'ABUROAD SIROHI', 'SECTOR 27 NOIDA', 'MARUTI SUZUKI SHOWROOM GURGAON', 'NEAR GHODBUNDER VILLAGE  THANE', 'THAKUR COMPLEX KANDIVALI(E) MUMBAI', 'JAIL ROAD NASHIK ROAD NASHIK', 'ESTATE ANDHERI (W) MUMBAI', 'SAMRALA', 'TEHRI GARHWAL', 'BEGUSRAI', 'CHIRAG MOTORS SION E MUMBAI', 'SOLAN  BADDI', 'VITA', 'DISTT-REWARI', 'COLVALE BARDEZ', 'GUTHANISIWAN', 'QUIRLAPALE', 'SUJANPUR', 'SHANIMAHATHMA TEMPLE BANGALORE', 'CROSS BANGALORE', 'PUMP HINJEWADI PUNE', 'MUMBRA THANE', 'DISTT-GURGAON', 'DESAI RD ANDHERI (W) MUMBAI', 'BOMBAY CINEMA WEST MINDAPORE', 'JANKALYAN BANK ANDHERI (E) MUMBAI', 'PALI', 'SCHOOL THANE', 'KHAR  MUMBAI', 'GUMMIDIPOONDI', 'TASGAON', 'BERHAMPORE', '24  P G S (S)', 'EAST THANE', 'NEAR ARKERA GATE BANGALORE', 'RAEBARELY', 'UDALGURI', 'TILAKPUR', '554/4 MODERN COLLEGE RD PUNE', 'HOSPITAL SURATHKAL IDDYA SURATHKAL', 'WEST GARO HILLS', 'TEMPLE BANGALORE', 'KALYANA MANDAPAM COIMBATORE', 'BHUVAN SHIVAJINAGAR PUNE', 'SINDHUDURGA', 'KENDRAPARA', 'PAVANSERE', 'SCHOOL DOMBIVALI WEST', 'KARAMSAD', 'PORVORIM', 'MEHENDRAGARH', 'BHAGALPUR', 'BACHPALLE K V RANGAREDDY', 'EAST AAREYMILK COLONY MUMBAI', 'NAGDA', 'MUMBAI JOGESHWARI', 'MUVATTUPUZHA', 'EKSAR ROAD MUMBAI', 'COMPLEX ANDHERI WEST MUMBAI', 'SAHIB STRT BANGALORE', 'OLD FARIDABAD', 'KARIMNAGAR DT', 'TERMINAL 2 WADALA EAST MUMBAI', 'KURLA WEST- MUMBAI', 'HOTEL PUNE', 'THIRUVALLA PATHANAMTHITTA', 'PATHARDI PHATA NASIK', 'BANQUETS MUMBAI', 'WEST DELY MUMBAI', 'PUMP ADALAJ', 'UT OF DADRA AND NAGAR', 'DISTT MUMBAI MUMBAI', 'YANAM', 'PURANPUR', 'JALARAM STORES MUMBAI', 'SHERI KALYANI NAGAR PUNE', 'KODINAR', 'PANCHMAHAL', 'BUILDING BANGALORE', 'TAPIDARSHAN SOC NANAVARACHHA SURAT', 'BUS STOP VASANT VIHAR THANE', 'BACHUPALLY RANGAREDDI', 'COMPLEX SELAIYUR', 'VAPI PARDI VALSAD', 'SRI GANGANAGAR', 'CHURHAT', 'CITY LIGHT RD BHARTHANA VESU SURAT', 'VIRUDHUNAGAR', 'CHOWKY MUMBAI', 'KOPARKHAIRANE NAVI MUMBAI', 'ANNA FLYOVER CHENNAI', 'SERCHHIP', 'MATHURA', 'PANVEL OLD PANVEL DIST RAIGAD', 'NAMAKKAL (TK) (DT)', 'P AND T COLONY MUMBAI', 'VALLABH-VIDYA NAGAR', '(SAHIBABAD) GHAZIABAD', 'GITANJALI CHS LTD MUMBAI', 'CHIKHODRA', 'GORAKHPUR', 'UNIVERSITY CHENNAI', 'ASHTA', 'THA THANE', 'KARNAVATZ MOBILE MALL AHMEDABAD', 'SAMLETI', 'GOPALPURI TALUKA ANJAR GANDHIDHAM', 'WEST BENGAL', 'GOREGAON (EAST) MUMBAI', 'SOCORRO', 'KHAGUL PATNA', 'BELLANDUR POST BANGALORE', 'HYDERABAD 44', 'BORIVALI W', 'VIRAR E PALGHAR', 'BESIDE MESTRI PALYA CHURCH BANGALOR', 'STAGE BANGALORE SOUTH BANGALORE', 'AHMAD', 'PAT ANCHERU', 'DOABA', 'UDHAM SINGH NAGAR', 'PALAYAM COIMBATORE', 'TRIPURANTHAKAM', 'SARJAPUR ROAD BANGALORE', 'DHE KAHA ANSH', 'HALL GHAZIABAD', 'AGRICULTURE AGARTALA', 'GHATKESAR K V RANGAREDDY', 'DENKANIKOTTA TALUK HOSUR', 'TOTAL SUPER  STORE BANGALORE', 'JHARKHAND', 'BHUBANESHWAR', 'RAS AL KHAIMAH', 'ON KALYAN ROAD NAVI MUMBAI', 'GRAM PANCHAYTH HYDERABAD', 'JAINTA', 'RANGAREDDY DIST HYDERABAD', 'ROAD  BANGALORE', 'AIMS HOSPITAL THANE', 'SEEPZ MUMBAI', 'AMRAVATI', 'INDIRA NAGAR THANE', 'KADAMPANAD NORTH', 'NOWGAON', 'KOPAR KHAIRANE', 'BUS STOP CHENNAI', 'ANDHERI ROAD ANDHERI EAST MUMBAI', 'SANKARAGUPTAM EAST GODAVARI', 'NEW NASHIK', 'BENGALURU DAKSHIN', 'VIMANNAGAR NAGAR ROAD PUNE', 'PARRAMATTA', 'MARKET KIRIT NAGAR NEW DELHI', 'CHINCHBUNDER  MUMBAI', 'GHATKOPAR (W) MUMBAI', '1601672 BANGALOE', 'UKHRUL', 'SCHOOL CHENNAI', 'RAMANATHAPURAM (DT)', 'NAGAR LAKE HYDERABAD', 'SRIPERUMBUDUR TK KANCHEEPURAM', 'PALAJ', 'BARIGADE ROAD AREA BANGALORE', 'KANCHIPURAM (DT)', 'CUDDALORE DT', 'NAGAR TALEGAON D PUNE', 'GARDEN POWAI MUMBAI', 'NIRMAL', 'VPO WAZIRABAD', 'KUMBAKONAM', 'THANE KALYAN', 'AMRISTSAR', 'POINT PANCHKULA', 'BRIGADEMETROPOLIS BANGALORE', 'THANE (W) THANE', 'MATHRUSHREE HOTEL BANGALORE', 'VIDHALAYA NOIDA', 'JUNNAR PUNE', 'NAKA MUMBAI', 'KAITHAL KAITHAL', 'MANGALORE CITY', 'ARIYALUR DT', 'KISHANGARH', 'AMRAVATI WARUD', 'ROAD DARYAGANJ NEW DELHI', 'AJWA ROAD BARODA', 'GIDC SACHIN SURAT', 'RCHAVADY KOTTAKUPPAM VILLUPURAM', 'KACHOHALLI VILLAGE BANGALORE', 'KPM DT', 'SAFEDPOOL ANDHERI-E, MUMBAI', 'LUDHUINANA', 'UTHUKOTTAI', 'MARKET BANGALORE', 'MANDAL MUMBAI', 'MAHIPAL PUR', 'THIRUVALLA PO', 'VIMANNAGAR  NAGAR ROAD PUNE', 'ARMOOR', 'KOTAK MAHINDRA BANK ATM MUMBAI', 'CIRCLE V V PURAM BANGALORE', 'RAGA MUMBAI', '(DT) HOSUR', 'LUCKNOIW', 'E THANE', 'AGILA COMPANY BACK SIDE HOSUR', 'HADAPSAR PUNE', 'VISHWAVIHAR HOTEL MUM', 'AMRAVATI ROAD NAGPUR', 'HUSKUR CIRCEL BANGALORE', 'THOTTHUKUDI', 'DIBRUGARH', 'KACHCHH BHUJ', 'THIRUTHANI', 'SIRSI', 'KORABUT', 'KHOPOLI', 'OMKAR JEWELLERS THANE', 'VARANSI', 'PARLOUR PUNE', 'NEW BOMBAY KHARGHAR', 'AHMEDGARH', 'SO NERUL NODE-III THANE', 'AMBERNATH E THANE', 'ANDHERI(E) MUMBAI', 'FAHAHEL', 'NO 2 THANE WEST', 'MURSHIDABA', 'CHAMPA', 'NAGAR MUMBAI AGRA RD NASHIK', 'PENAMALURU VIJAYAWADA', 'HOSHIYARPUR', 'MAHBUBNAGAR DIST', 'RAJASAMAND', 'HAPUR', 'S B MARG LOWER PAREL (W) MUMBAI', 'GAMDEVI MUMBAI', 'NARAYANA TEMPLE BANGALORE', 'VIDYAMANDIR SOUTH 24 PARGANAS', 'THANE(WEST)', 'TELIBAGH', 'COMPA COLA MUMBAI', '117 GREATER MOHALI MOHALI', 'KOTHAMANGALAM ERNAKULAM', 'AXA SIGNAL BANGALORE', 'NODE NR NEW SUDHAGAD COLL RAIGARH', 'PANCHWATI APPT ASANSOL', 'FZCO DUBAI', 'NODE 3 NAVI MUMBAI', 'DEOPUR DHULE', 'CHUNABHATTI (E) MUMBAI', 'GARI CHOWK GHAZIABAD', 'W E H MUMBAI', 'VAJEDA', 'RATANGARH', 'CALCUTTA', 'WELL SHAHWADI NAROL AHMEDABAD', 'KALMEGHA', 'VASAI E', 'DELHI', 'MARG LOWER PAREL', 'NORTH 24 PARGANAS', 'PUNE PISOLI', 'HAVELI SOUTH OF MUTHA RIVER PUNE', 'NIETAN PUBLIC SCHOOL DELHI', 'GOKAK', 'HELSINKI', 'SARAN PATNA', 'NATIONAL BANK BURDWAN', 'MOROLNAKA METROSTATION MUMBAI', 'SPRINGS BANGALORE', 'SIR J J RD THANE', 'MITHANAGAR CHENNAI', 'CHANGLANG', 'KHONGOM', 'IDAR', 'POST KOCHI', 'BARDDHAMAN DURGAPUR', 'CINEMA HALL BANGALORE', 'SEATTLE', 'HARDWAR', 'ABOVE TOTAL SUPER STORE BANGALORE', 'BASDEHRA', 'DAKSHIN BURDWAN', 'CUMBALLA HILL MUMBAI', 'HOFFMAN ESTATES', 'MAHABIRSTHAN SILIGURI', 'VARTHUR HOBLI BANGALORE', 'NAVI UMBAI', 'AHAMADNAGAR', 'BANGALORE RURAL', 'BISSAR', 'MEDINIPUR', 'RAJENDRA NGR MANDAL RD-5 HYDERABAD', 'DAHOD', 'BUNGLOW ROAD BODAKDEV AHMEDABAD', 'DHARAPURAM TK', 'BADGAM', 'SARKARIRATION KI DUKAN MEERUT', 'CHITTORGARH', 'HOTEL BACK SIDE CHENNAI', 'GREATER NOIDA (WEST)', 'ARLEM', 'BAGALKOT', 'METRO STATION BANGALORE', 'SWAR', 'F N QURESHI MUMBAI', 'BALASAUR', 'SHAHPURA', 'KALYAN D C THANE', 'IMPHAEL WEST', 'ZUMARI TILAIYA', 'TIRUPUR DISTRICT', 'KAROL BAGH DELHI', 'HEBRI P KARKALA TQ UDUPI D', 'CARTERPURI GURGAON', 'OPP TO KRISHNA TEMPLE BANGALORE', 'AMBERNATH AMBERNATH THANE', 'PALLIPALAYAM', 'WATERLOO', 'COMPLEX THANE', 'PALA KOTTAYAM', 'UPPERPALLY HYDERABAD', 'KRISHNARAJPET', 'PALLAVARAM CHENNAI', 'GATE SAHAKARNAGAR BANGALORE', 'BHAYANDER THANE', 'ZIRAKHPUR', 'PEDAGANTYADA BHPV VISAKHAPATNAM', 'SCHOOL KALYAN W', 'KARVIR KOLHAPUR KOLHAPUR', 'UTTAR DINAJPUR', 'KAMRUP', 'MALLESWARAM WEST BANGALORE', 'MANDABAM OPP CHENNAI', 'OFFICE SRIKAKULAM', 'PUNE RAJGURUNAGAR', 'MUNNEKOLALA MARATHALLI BANGALORE', 'ROAD BKC BANDRA (E) MUMBAI', 'BANGARUPALEM', 'MARGO', 'CHOWK BADLAPUR', 'WEST MIDNAPORE', 'CHIKKADORNABETTA', 'JOHANNESBERG', 'U S NAGAR', 'URBAN) MUMBAI', 'LAYOUT BOGADHI MYSORE', 'CHERUVALLOOR', 'LAHUL AND SPITI', 'SWINDON', 'THOUBAL', '400012', 'THOLICODE', 'DISTT SOLAN BADDI', 'SANATORIUM', 'GOVERDHAN CHOWK RAJKOT', 'BHD GOREGAON SPORTS CLUB MUMBAI', 'HOSPITAL NEW DELHI', 'SONARPUR SPORTING KOLKATA', 'NIZAMPATNAM', 'PADA MUMBAI', 'BHILWARA', 'TINDIVANAM', 'KURUD', 'EDAICODE', 'DIST BELGAUM', 'COLONY VASHINAKA CHEMBUR MUMBAI', 'WEST MUMBAI SAKINAKA', 'NAGALAND', 'DIST BHOJPUR', 'GHODBUNDER ROAD THANE W THANE', 'SHENCOTTAI T K', 'HYDERNAGAR KUKATPALLY HYDERABAD', 'TIRPUR', 'THIRUPATHI CHITTOOR', 'CITY MANEKBAG AHMEDABAD', 'SEBASTIAN CHURCH KOCHUPALLY', 'UTRAJ', 'SHAMSHABAP RANGAREDDY', 'UTTAM NAGAR', 'NGR EXTENTION CHENNAI', 'THANE WEST THANE', 'JAODHPUR', 'OLD AIRPORT MUMBAI', 'OLD GOA', 'HOSHANGABAD SEONI MALWA', 'BEHIND CIDADEDE GOA PANJIM', 'RAJAPALAYAM', 'TIRUNELVLI', 'BANGALORE NORT', 'MAHBOULA', 'MAHIPALPUR NEW DELHI', 'CHAMPARAN MOTIHARI', 'S KOTA', 'TIGHARA', 'BALLIA', 'KOTHAMANGALAM', 'TRICHIRAPALLI', 'SRIPERUMUBUDUR', 'NERUL NAVIMUMBAI', 'CHEVAYOOR', 'CHURACH ANDPUR', 'DHAMNOD', 'CHANDAUSI', 'BALTANA', 'HSG SOC LTD MUMBAI', 'PADANAKKARA', 'TIRUVANNAMALAI (D)', 'VILLAGE K R PURAM HOBLI BANGALORE', 'KANDIVLI W MUMBAI', 'MONDETOWER MUMBAI', 'EXCHANGE POST OFFICE MUMBAI FORT', 'NADAVAYAL', 'AMETHI', 'VIKHROLI W MUMBAI', 'RAILWAY STN VIRAR WEST VASAI THANE', 'MIYAPUR', 'TIRUCHANUR', 'PUSHPAK NIBM PUNE', 'ICHALAKARANJI', 'THURAVOOR', 'ADDIS ABABD', 'RAJOURI', 'DHAKOLA', 'NEW PANVEL', 'B/H SHOPPER STOP BEGAMPET HYDERABAD', 'GORGAON', 'BALACHAUR', 'EAST SIANG', 'DHURI DT SANGRUR', 'THANE (W)', 'KOTTAYAM', 'TALUKA ANJAR GANDHIDHAM', 'GACHIBOWLI HYDERABAD', 'ANDHERI WEST MUMBAI', 'RANGA REDDY SECUNDERABAD', 'REWA', 'CHURACHANDPUR', 'JIAGANJ', 'RA PURAM', 'MIDC ANDHERI EAST MUMBAI', 'THANE (W) JEKEIRAM', 'SAUDAGAR PUNE', 'MATHABHANGA', 'STATION KAMRUP GUWAHATI', 'SECTOR 7 NARELA NORTH WEST DELHI', 'PHASE 1 GURGAON', 'AMBARNATH KALYAN EAST THANE', '(METRO) NR RAM MANDIR KAMRUP(METRO)', 'VIHAR SOUTH DELHI', 'RAMANAGARA P', 'BANK NAVIMUMBAI', 'DEHI', 'SOUTH COIMBATORE', 'AMRELI', 'PATNA PATNA', 'SOMESWARAPURAM TUMKUR', 'SHAHDARA DELHI', 'DHARAPURAM MAIN ROAD TIRUPUR', 'NABHA (PUNJAB)', 'KAMSHET PUNE', 'OLD JAIL ROAD WARD 14 VISAKHAPATNAM', 'BOISAR EAST', 'BASSI PATHANA', 'SURAT', 'MARATHALLI RING RD BANGALORE', 'NEYVELI TS', 'KADOD KALAN', 'THANE KOPRI EAST', 'THOOTHUKUDI DT', 'PART VISAKHAPATNAM', 'STOP VASHINAKA CHEMBUR MUMBAI', 'TOYATO SHOWROOM MALAD WEST MUMBAI', 'PATANCHERU', 'AGRIPADA MUMBAI', 'JAKKUR', 'ANGAMALI', 'GATE BANGALORE', 'VELACHERY CHENNAI', 'SHOWROOM LANE HYDERABAD', 'PUMP BANGALORE', 'UNCHAHAR', 'CHAKALA ANDHERI(E) MUMBAI', 'SCHOOL CHANDNI CHOWK DELHI', 'DEVERABE SANAHALLI VILL BANGALORE', '(MOHALI) KHARAR', 'SASARAN ROHTAS', 'TONK', 'GOBARDANGA', 'VISAKHAPATNAM URBAN', 'PHASE I PHINJEWADI PUNE', 'RESAPUVANIPALEM VISAKHAPATNAM', 'SOUTH DELHI DELHI', 'NEAR BOMBAY BAZAAR MUMBAI', 'PUNGANUR', 'BHAINDAR GODADEV TEHSIL THANE', 'BORIVALI MUMBAI', 'NEAR PASSPORT OFFICE PUNE', 'OPP ROOPA HOTEL MANGALORE', 'PUKHURIA', 'MUSSOORIE', 'SIVAGIRI', 'OPP JAYVIR SOCIETY SURAT', 'KORAPUT O', 'BADLAPUR KULGAON AMBARNATH THANE', 'TEHSIL-DIDIHAT PITHORAGARH', 'DESAI RD MUMBAI', 'VALLABH VIDYANAGAR', 'APT  MUMBAI', 'PIMPALI', 'TIRUPATTUR', 'BANASHANKARI III STAGE BANGALORE', 'HUGLY', 'KALYAN EAST', 'GURUKRUPA HOTEL MUMBAI', 'NAGAR NEW DELHI', 'MALAD (W) KHARODI MUMBAI', 'PERAMBAKKAM', '24 PARGANAS NORTH', 'DEALERS SHOP KAVERY NGR BANGALORE', 'VADAGAON SHERI PUNE', 'KUMBHARIYA ROAD MAGUB SURAT', 'SCHOOL PANVEL RAIGARH NAVI MUMBAI', 'RAMOL AHMEDABAD', 'MANGUESHI', 'PARK LALBAUG MUMBAI', 'TO DIAMOND HOUSE HYDERABAD', 'VARKALA', 'NURSING MANGALORE', 'CHAKLASI', 'PASSPORT OFFICE PUNE', 'CHHATTISGARH(RAIGARH)', 'MIRA ROAD EAST', 'MEHRAULLI', 'BHIVPURI ROAD KARJAT', 'NAMCHI', 'ERANAKULAM', 'SMARAK NAGPUR', 'NALLASOPARA E PALGHAR', 'KESHPUR', 'CHOWK PUNE MUMBAI HIGHWAY PUNE', 'VARANASI VARANASI', 'CHALAKKUDI', 'BHIWADI DIST ALWAR', 'AZITNAGAR', 'BEKHAMPUR', 'CENTRAL BANK KASUMPTI SHIMLA', 'METRO ANDHERI (E) MUMBAI', 'BUNGLOW MHADA ANDHERI W MUMBAI', 'KONDHWA BUDRUK PUNE', 'KUTCH GANDHIDHAM', 'NELLORE 1', 'VASANT KUNJ NEW DELHI', 'MITHAKHALI ELLIS BRIDGE AHMEDABAD', 'DIST KAMRUP (METRO)', 'AUNDHA NAGNATH', 'BALANAGAR TOWNSHIP', 'DOMBIVALI (E) DIST-THANE', 'TAL KANCHEEPURAM DIST KANCHEEPURAM', 'TALAO THANE', 'PHASE BANGLORE', 'NAGAR OKHLA NEW DELHI', 'NICOBAR ISLANDS PORT BLAIR', 'POST NAROLI', 'PALE', 'SHYAM NAGAR JAIPUR', 'GURGAON RD DUNDHERA GURGAON', '(EAST) DAHISAR MUMBAI', 'DECATHLON SPORTS AHMEDABAD', 'LLI OUTER RING RD BANGALORE', 'ARUPPUKOTTAI', 'KHANDAJ', 'KHATIMA UDHAM SINGH NAGAR', 'CEMENT STORE ROOM HYDERABAD', 'VASAI EAST THANE', 'KANGRA HP DHARAMSHALA', '21A FARIDBAD', 'MALAD WEST DELY WEST MUMBAI', 'GATE NO 1 AND 2 BASEMENT DELHI', 'SITE DELHI', 'CHANNAI', 'BANLA DIST', 'BIKANER BIKANER', 'BESIDE AKSHAR CMPL SURAT', 'PLACE PITAMPURA NEW DELHI', 'NILGONDA', 'BANGALORE NORTH', 'DISTT BUXAR', 'BETHANY PUNE', 'TIRUPATI URBAN', 'COLONY MOTI MAHAL DELUX PATNA', 'NAVSARI', 'CLINIC BHIWANDI', 'TIRUPPUR DIST', 'MOUNTAIN VIEW', 'MANNADY CHENNAI', 'DEONAR MUMBAI', 'DHANBAD NIRSA', 'AGNES WATER', 'SHAHDA W KALYAN', 'MARG MUMBAI', 'JAUNPUR', 'MORMUGAO SOUTH GOA', 'PRADESH VISAKHAPATNAM', 'KOVILANDY', 'JERSEY CITY', 'MALAD W MUMBAI', 'COLA WORLI MUMBAI', 'DHAKOLI', 'MAGRODA', 'GADARPUR', 'BABU STATUE CHENNAI', 'CHAKALA ANDHERI EAST MUMBAI', 'BLDG NO 11 MUMBAI', 'ROAD VARTHUR HOBLI BANGALORE', 'KUNDA PRATAPGARH', 'BAPAT MARG LOWER PARELWORLI MUMBAI', 'DUBLIN1', '373078374 PO BOX 48865 DUBAI', 'ALLEPPEY', 'SHRAWASTI', 'SWAMI TEMPLE VIJAYAWADA', '8 IMT MANESAR GURGAON', 'BANDRA KURLA COMPLEX KURLA W MUMBAI', 'DHARMAPURI DIST', 'VIRAR MUMBAI', 'BAGALKOT DIST', 'SHIVAMOGGA', 'KUCHAMAN CITY', 'ARAKKONAM', 'NEEM KA THANA NEEM KA THANA', 'CHAMPARAM', 'MARKET BANDRA (W) MUMBAI', 'BALLISTERNATH PAI SCHOOL MUMBAI', 'BELLANDUR BANGALORE', 'GOVT SCHOOL BANGALORE', 'BAKERY NAVI MUMBAI', 'COMPLEX KALYAN W', 'ANANDPUR SAHIB', 'SHIVAPURI', 'SINGHBHUM', 'RANGA REDDY DIST', 'SALGAON', 'KALYAN WEST THANE', 'VIRAR', 'ASHRAM SOCIETY MUMBAI', 'AMBALA CANTT', 'AMBEDKAR STATUE HYDERABAD', 'BUNDI', 'AHMEDABAD', 'DUNGARAPUR', 'ROADANDHERI WEST MUMBAI', 'PUMP MHAPE NAVI MUMBAI', 'KONE PANVEL', 'CITY PHASE III HARYANA GURGAON', 'KHORDA', 'GODHRA (GUJARAT)', 'GAS AGENCY BANGALORE', 'VARANAASI', 'DIST ANAND SANDESHAR', 'IIT MUMBAI', 'TOWER NO 6 MUMBAI', 'AMBALA', 'KOTDWARA PAURI GARHWAL', 'GURGAON GURGAON', 'CUDDALOURE(DT)', 'SILVASA', 'BODI', 'KODOM', 'NARASARAOPET GUNTUR D T', 'BSNL TELEPHONE OFFICE VAPI', 'TALUK KANCHIPURAM DIST', 'ANDHERI E MUMBAI', 'NANGAL', 'LALANGUTE', 'OLD FARIDABAD FBD', 'BORIVALI EAST MUMBAI', 'STORE KAIKONDARAHALLI BANGALORE', 'VISAKHAPATNAM URBAN VISAKHAPATNAM', 'HAORA', 'KURUNG KUMEY', 'ROAD EMP P11314 BANGALORE', 'PATAUDI', 'NGR POWAI MUMBAI SAKINAKA MUMBAI', 'AMRITSAR', 'JADAVPUR', 'ANDHERI EAST SAKINAKA MUMBAI', 'ROAD NEW DELHI', 'FAZILKA', 'BHIWANDI THANE', 'CARANZALEM', 'DERABASSI ZIRAKPURI', 'COONOOR', 'KALYANI NAGAR VADAGAON SHERI PUNE', 'JEBEL ALI', 'BELGHORIA', 'ROAD LUDHIANA', 'DHIGI PUNE', 'REDDY SWEETS RANGAREDDY HYDERABAD', 'DEVELOPERS BHIWADI', 'DINDORI', 'PATANCHERU HYDERABAD', 'MORIA', 'PETROL PUMP BHANDUP W MUMBAI', 'A THAKUR MALL THANE', 'PALI HILL BANDRA W MUMBAI', 'DAR ES SALAAM', 'GALIVEEDU', 'OPP ANTOPHILL FIRE BRIGADE MUMBAI', 'PANDAVARMANGALAM THOOTHUKKUDI', 'PURWI CHAMPARAN', 'GARDEN HYDERABAD', 'KOLLAM DISTRICT', 'MASJID MUMBAI', 'KOTAGIRI', 'PASCHIM MEDINIPUR KHARAGPUR', 'MAHABUBABAD', 'AIROLI MUMBAI', 'BUDRUK', 'CRS BANGALORE', 'SHAHADA', 'BAUG CIRCLE SURAT', 'SWAMY TEMPLE GUNTUR', 'CURCHOREM SOUTTH GOA', 'HAROHALLI', 'THANE -WEST', 'BORIVILI E MUMBAI', 'BULANDSHAHR', 'NANDED', 'THEATRE CHENNAI', 'JAYANAGAR BANGALURU', 'APPT PATNA', 'CIRCLE BANGALORE', 'MANDIR DHANBAD', 'CHIKUWADI SHIMPOLY KANDIVALI W', 'FARWANIYA', 'FUN CINEMA NEW DELHI', 'SARJAPURA MIAN RD BANGALORE', 'SIGNAL SION E MUMBAI', 'VARCA SALCETE', 'FARMINGTON HILLS', 'FIRE BRIGADE ROAD NAVI MUMBAI', 'SHASTRI NAGAR SAKINAKA MUMBAI', 'RAMANAGARA', 'PATHAYELLAPUR', 'NJEEZHOOR', 'CANARA BANK ATM NEW DELHI', 'NELLORE', 'YARI ROAD ANDHERI (W) MUMBAI', 'VALAVANNOOR', 'OLD GOA BYE PASS RD', 'DOMBIVLI EAST THANE', 'COLONY MULUND W MUMBAI', 'DELIVERY MUMBAI', 'AREATURBHE MIDC NAVI MUMBAI', 'CACORA', 'NALLASOPARE E THANE MUMBAI', 'NEAR POCHAMMA TEMPLE HYDERABAD', 'SARJAPUR OTR RING RD BANGALORE', 'PRAKASAM DIST (AP)', 'MANNUR', 'NO 7 MUMBAI SUB URBAN', 'SARBERIA', 'GHARAUNDA', 'SHYAMDHAM TEMPLE SURAT', 'NO 3 NR LALLAN HOTEL THANE', 'CHEMBURKAR RD MUMBAI', 'OPP-KALIBARI GANGTOK', 'NEW BEL ROAD BANGALORE', 'HOSPITAL INDORE', 'IMPHAL', 'RD POKASARVADAVALI THANE W THANE', 'AKSHAY MITTAL MUMBAI', 'SRINGERI', 'DAKSHINAKANNADA', 'WOKHA DIST', 'AMBERNATH-E', 'MUZZAFFAR NAGAR', 'JHANSI', 'BUR DUBAI', 'COLLAGE ROAD  NASHIK NASHIK', 'ASHOK NAGAR,MADHYA PRADESH', 'KOPERKHARINE', 'PERIYAR NAOTER', 'BARAMULLA', 'NAVRANGPURA AHMEDABAD', 'DAMDAMA', 'BRUXELLES', 'MOHADI', 'UJWAL PRINTING PRESS PUNE', 'SHAHBAD M', 'TYRES CHENNAI', 'JALALABAD WEST', 'VIJAYAWADA', 'COLLEGE DURGAPUR', 'MARKET HYDERABAD', 'TALAULIM', 'COLONY S O WORLI MUMBAI', 'INDIRANAGAR CHENNAI', 'DEPT MUMBAI', 'K R PURAM BANGALORE', 'CHURU RATANGARH', 'ROAD NUNGAMBAKKAM CHENNAI', 'CHIKKABALLAPURA', 'WALANDI', 'VASAI W', 'ELPHISTONE-W MUMBAI', 'PUBLIC SCHOOL KOLKATA', 'CHERUVATHUR', 'TARAORI', 'TRICHY', 'PAKHADI KANDIVALI WEST MUMBAI', 'VILLAGE SIRIFORT ROAD NEW DELHI', 'PASCHIM MEDNIPUR', 'SHOP KOLKATA', 'AGARA', 'KUWAIT CITY', 'KID ZEE SCHOOL SILHAR', 'BASAWESHWAR NAGAR BANGALORE', 'VAIKOM', 'BAITOONHALL SCHOOL NEW KOLKATA', 'WALLISELLEN', 'SAMALKHA', 'NXT TO JEHANGIR HOSPITAL PUNE', 'BORIVALI W MUMBAI', 'WANOWRIE PUNE', 'INDOORE', 'SEPAHIJALA', 'DOMBIVALI E THANE', 'RAJARAJESWARI NAGAR BANGALORE', 'PANCHKULA', 'DHAR', 'TEMPLE NAVI MUMBAI', 'KAVESAR THANE', 'AIROLI', 'HUZUR', 'MUMBAI CENTRAL MUMBAI', 'VIKHROLI MUMBAI', 'KESHIYA', 'NEAR SHIV SENA OFFICE THANE', 'BISWANATH CHARIALI', 'DOMBIVLI E', 'DHANBAD JHARIA', 'COLVA', 'NR MAHALAKSHMI TEMPLE BANGALORE', 'MORENA', 'DHAISAR EAST', 'YORK', 'PRESTAGE VARACHHA ROAD SURAT', 'NAGAI DT', 'KARVIR KOLHAPUR', 'CHICHWAD PUNE', 'MANALI', 'NAGAR BUSSTOP BANGALORE', 'TIRUVARUR', 'LAYOUT J P NGR 3RD PHASE BANGALORE', 'PARK, THANE W', 'AURANGABAD AURANGABAD', 'PANOHAYATH', 'WADALA EAST MUMBAI ANTOP HILL', 'CHIDAMBARANAR', 'MANDAL VISAKHAPATNAM', 'CHEENAI', 'CHANDRASEKHARPUR BHUBANESWAR', 'KODAMBAKKAM CHENNAI', 'CORPORATION VIRAR THANE', 'GURGAON DISTT GURGAON GURGAON', 'SUNDARGARH', 'HOSUR TALUK', 'ROHTAS', 'SCHOOL MOHANPUR', 'STATION SION MUMBAI', 'SAI TEMPLE ROAD BANGALORE', 'KALYANI NADIA', 'NAGAR (MOHALI) KURALI', 'PAREL W MUMBAI', 'GARDEN COIMBATORE', 'JOGESHWARI (EAST) S O MUMBAI', 'CHHATARPUR', 'BANK HYDERABAD', 'DUNDAHERA GHAZIABAD', 'SHAHDOL', 'MALLAPPALLY', 'KUKATPALLY HYDEABAD', 'NEXT TO MANASHAKTI KENDRA PUNE', 'POST OFFICE ZIRAKPUR', 'TITAGARH', 'KOTDWARA GARHWAL', '3RD BLOCK KORAMANGALA BANGALORE', 'TRISHUR', 'TAMAKARI SCHOOL WEST TRIPURA', 'TO APOLO PHARMACY BANGALORE', 'GARHWAL TEHRI', 'DOKIPARRU', 'YEDITHA', 'BAHARACHHAT TEH MARIHAN MIRZAPUR', 'AMBUR-VELLORE', 'KADANADU', 'INJARAM EAST GODAVARI', 'ANAYARA', 'LOKHANDWALA RESIDENCY WORLI MUMBAI', 'SAFED POOL MUMBAI', 'AREZZO', 'DIST VADODARA', 'DHOOL SIRAS NEW DELHI', 'PHALODI', 'SALCETE SOUTH GOA', 'NARAYANPUR', 'KRISHNA DISTRICT', 'VENKATESWARAPURAM KRISHNA', '1601530 BANGALORE', 'LINGASUGUR HQ', 'SANKARANDAMPALAYAM', '24 PGS NORTH', 'HIRPURA', 'MALL MALAD W MUMBAI', 'KURICHI', 'PURNEA', 'PONNERI TK', 'OF MYSORE PUNE', 'HIGHWAY KANDIVALI E MUMBAI', 'KAPURTHALA', 'ATMAKUR', 'SECUNDERABAD', 'VIRUDHUNAGAR DIST', 'MEGHPAR', 'VENKATA PURAM', '24 PARGANAS SOUTH 24 PARGANAS', 'VASANTKUNJ NEW DELHI', 'RUWI MUSCAT', 'BANDRA-E MUMBAI', 'KODARA', 'MAHARASHTRA PUNE', 'DHARMSHALA', 'NORTH 24 PARGANAS COLKATA', 'ILOL', 'NAGAR CHINCHWAD GAON HAVELI PUNE', 'MARG KURLA W MUMBAI', 'KARAIKAL', 'WALAJAPET', 'POWAI', 'PO ADITYAPUR 1', 'WAGLE L E THANE', 'INTERNATIONAL SCHOOL MUMBAI', 'SELANGOR', 'NAGAR A BLOCK CHENNAI', 'RAMNAGAR DISTRICT', 'DHANTURIA', 'BANGALORE NORTH MARATHAHALLI', 'ISLAMPUR NALANDA', 'PATHAPATNAM', 'BANK GURGAON', 'PHASE I DELHI', 'IDUKKI DIST', 'NR GAONDEVI TEMPLE NAVI MUMBAI', 'PO ERNAKULAM', 'PUNJAB NAVI MUMBAI', 'SALMIYA', 'BRIDGE ANDHERI W MUMBAI', 'LOWER PAREL MUMBAI', 'DIMAPUR', 'FORT MUMBAI', 'MARREDPALY WEST SECBAD', 'SECTORE 50 GURGAON', 'UPPALAPADU', 'PLAZA TRASPROT NAGAR DEHRADUN', 'SRI GOFWARA', '7390015 BANGALORE', 'BAZAAR BANGALORE', 'SION E', 'MULUND(W) MUMBAI', 'VISHAKAPATANAM', 'CALICUT', 'UPLANDS VISAKHAPATNAM', 'KAVERI PATTINAM', 'AMB', 'NELLORE-II(U) NELLORE', 'TRICHYA', 'SIRA', 'PATIALA CANTT', 'PUNALUR', 'MARSEILLE', 'BHUSAWAL JALGAON', 'CHERUPUZHA', 'DIVISION ELPHINSTONE  MUMBAI', 'TAMLUK', 'MOTA KAPRA', 'ROHINI DELHI', 'BOISAR', 'DHARUHEDA', 'MATUNGA MUMBAI', 'JUNCTION MUMBAI', 'DARYA GANJ NEW DELHI', 'PONDICHERRY', 'DISTRICT JAGATSINGHPUR', 'SHAHAJAHAYEPUR', 'MANIPUR IMPHAL WEST', 'OPP NAAZ HOTEL MUMBAI', 'ROAD NAVI MUMBAI', 'ALIGARH', 'MADANPLLI', 'DARANG', 'MANI DAMAN', 'BICHOLIM', 'DIGHA NAVI MUMBAI', 'KOLKATA', 'GANGARAMPUR', 'BUS DEPOT BORIVALI E MUMBAI', 'CHAGALLU', 'BEGAMWADI RING RD SURAT SURAT', 'CHETTY GARDENS BANGALORE', 'LAKE CITY MALL W THANE', 'COLLEGE VILE PARLE E MUMBAI', 'BARSAR', 'EAST KALYAN KATEMANIVALI THANE', 'BADLAPUR W', 'RAMABAI NAGAR', 'FLY OVER PUNE', 'MAJOR MANOJ TALWAR PARK KANPUR', 'AHMEDABAD CITY', 'ANDHERI E', 'ASHOK NAGAR MUMBAI', 'SHETTY ROAD NEAR RMO MUMBAI', 'SANDHAUSEN', 'BHAVANI TK ERODE', 'LANE ITARSI', 'ESTATE WORLI NAKA MUMBAI MUMBAI', 'KASUMPATI SHIMLA', 'VIRUDHUNAGAR (TK)', 'PO BOX 28483 DUBAI', 'GUNTUR', 'HOBBLI BANGALORE', 'MAHALAXMI(EAST) MUMBAI', 'SOMALI REGION', 'MUMBAI SUB URBAN MUMBAI', 'KALYAN (WEST) THANE', 'DUKIRKLINE PUNE', 'FATEHABAD', 'SRIPERUMBUDUR TALUK KANCHIPURAM', 'DAMTAL', '(RLY) NAGPUR', 'KARUR DT', 'AMIDHARA WADI SURAT', 'MAHUVA', 'KAZHAKUTTON', 'PETROL PUMP AHMEDABAD', 'HOSPITAL BEHIND COIMBATORE', 'THIRUVIDANTHAI', 'NDAHALLI BANGALORE SOUTH BANGALORE', 'MAHUWA', 'COLLEGE VIJAYAWADA', 'OLD ALWAL SECUNDERABAD', 'BETUL', 'BORIVALI (W) MUMBAI', 'NAGAWARA BANGALORE', 'PALIKA VAPI', 'CHICKMAGALORE', 'KOZHIKODE', 'BIETIGHEIM', 'MATHURA ROAD FARIDABAD', 'BANK BANGALORE', 'NARKATIAGANJ', 'SHAHBAD (M)', 'PS BORDUBI', 'NAGAR MUMBAI ANDHERI WEST', 'BY PASS ROAD PUNE', 'BENAULIM SALCETE', 'KHARAGPUR(M)', 'LOWERPAREL MUMBAI', 'OPP BUDH VIHAR DELHI', 'GHODBUNDER ROAD THANE WEST THANE', 'ST THANE', 'CHELGAL', 'PANTNAGAR', 'ANUPASHAHR', 'SANT RAVIDAS NAGAR', 'MARG MUMBAI ANDHERI E', 'AZAD NGR SANDOZ BAUGH THANE', 'HINJEWADI PHASE 3', 'JAGDISHPUR', 'KARNAKULAM', 'MUGHALSARAI', 'THANE E', 'HARAPANALLI', 'SOUTH ELECTRONICS CITY BANGALORE', 'PHASE-I HINJEWADI PUNE', 'MUMBAI KANDIVALI EAST MUMBAI', 'BOOKSTORE MUMBAI', 'IRANIWADI KANDIVALI (W) MUMBAI', 'MULUND E  MUMBAI', 'SWEETS CHENNAI', 'VADODARA VADODARA', 'JEHANGIR HSPTL PUNE', 'CHUMUKEDIMA', 'RAJAMUNDRY', 'KOLKATA NEAR COLLEGE MORE KOLKATA', 'AXIS BANK HYDERABAD', 'PUMP WANWADI HAVELI PUNE', 'MAYILDUTHURAI NAGAI DIST', 'BANGALORE EAST', 'PARBHANI', 'DIST RAIGARH NAVI MUMBAI', 'HAMPSHIRE', 'BROACH', 'IMPHAL EAST', 'BEHIND DLF IT PARK CHENNAI', 'MARYS SCHOOL BANGALORE', 'MITHAKHALI ELLISBRIDGE  AHMEDABAD', 'DHUBRI', 'SINNAR DISTH NASHIK', 'NAERCOIL', 'KOVILPATTI', 'CURCHOREM SOUTH GOA', 'SANTACRUZ (W) MUMBAI', 'JAKASANDRA BANGALORE', 'CHANDRAPUR', 'ARUMBAKKAM', 'ORHICD HOTEL BANGALORE', 'ROAD MANGALORE', 'RAJIPUR', 'SINGHBUM', 'YSR', 'RAILWAY STN MUMBAI', 'CITY PUNE', 'BAKERY SECUNDERABAD', 'KANDANGALI', 'BAPAT MARG LOWER PAREL WORLI MUMBAI', 'PAURI GARWAL', 'AMBEWADI ANDHERI EAST MUMBAI', 'MARYGANJ', 'VASAI W THANE', 'DISTRICT TAMILNADU HOSUR', 'GRAMMER HIGH SCHOOL HYDERABAD', 'PERAMBALUR DISTRICT', 'GANDHINAGAR', 'VENKATESHWARA TEMPLE BANGALORE', 'MARGAON', 'AMBAD NASHIK', 'MANDLA', 'NAMAKKAL', 'FEROZEPUR', 'BULANDSHAHAR', 'NOKRA', 'KODAMBAKKAM, CHENNAI', 'JEWELLER SURAT', 'NIPANI AMRAVATI', 'RANGAREDDY RANGAREDDY', 'MUMBAI SUB URBAN', 'PALASHBARI', 'NEAR BANSAL PHARMA TOHANA', 'KOPARKHAIRANE THANE', 'VILLAGE SAKINAKA MUMBAI', 'GHAZIZABAD', 'ANDHERI(EAST) MUMBAI', 'AMBEDKAR NGR POLICE STN SOUTH DELHI', 'KURLA W MUMBAI', 'CHURU', 'RD VILLAGE DUNDAHERA GURGAON', 'ABASAN KOLKATA', 'SEONI MALWA HOSHANGABAD', 'BETIM', 'ARAKUZHA', 'SEONI', 'SCHOOL NEW DELHI', 'TARAPUR APP THANE', 'VIJAYANAGAR BANGALORE', 'JAMUL', 'KHUNTI', 'COIMBATORE SOUTH', 'NAGAR ANDHERI (WEST) MUMBAI', 'NR AMITABH BUNGLOW MUMBAI', 'ABOVE YES BANK BANGALROE', 'INDRANA', 'DARES SALAAM', 'NEAR AYYAPPA MANDIR NAVI MUMBAI', 'GURAGAON', 'MADHOPUR', 'BIDHANNAGAR', 'SIRSALA', 'FACTORY ANDHERI E MUMBAI', 'LOHIT', 'ROAD BORIVALI-E MUMBAI', 'VATSALYA GUEST HOUSE HYDERABAD', 'SAI', 'NANJANGUD', 'SECTOR-21A FARIDABAD', 'BAPAT MARG LOWER PAREL MUMBAI', 'ARIYALUR', 'DHARMAPURI DT', 'NIZAMPET RD HYDERABAD', 'BANDRA (E) MUMBAI', 'HIGH SCHOOL BANGALORE', 'LATHUR', 'MUMBAI MUMBAI', 'KANIYAKUMARI DIST', 'SUPER MARKET HYDERABAD', 'SALANPUR', 'BUS STOP MALAD W MUMBAI', 'SCHOOL HABRA', 'COLLEGE GUNTUR', 'ELAMKULAM', 'BHOJ PUR', 'AMBALAL DOSHI MARG FORT MUMBAI', 'PAKARPUR', 'NEHRUNAGAR HYDERABAD', 'DUBAI', 'RADHAMADHAV PATHIA SILCHAR', 'GAON AIROLI NAVI MUMBAI', 'ATTINGAL', 'KHAJURAHO', 'VIKHARNI NASHIK', 'JAKKASANDRAKORAMANGALAIST BANGALORE', 'DANDELI', 'JHARSUGUDA-ORISSA', 'MAHALUNGE PUNE', 'LAKHISARAI', 'KOLLAM', 'MALVANI GATE 1 KHARODI MUMBAI', 'ANDHERI (WEST) MUMBAI', 'ROAD NEAR JAGAT FARM GREATER NOIDA', 'HIMACHAL PRADESH BILASPUR', 'HIRAPURA', 'ROOM ELECTRONIC CITY PO BANGALORE', 'QUPEM', 'SCHOOL BURDWAN', 'PUDUCHRRY', 'THAKURDWARA', 'DEPOT CHEMBUR MUMBAI', 'KOLLEGAL', 'AKSHAYA NAGAR', 'VISAKAPATNAM DIST', 'ELPHINSTON (W)', 'BESIDE CHUTNEYS HYDERABAD', 'K K DIST', 'JORAPUKHURI', 'PALAMU', 'TAL DIST PALGHAR BOISAR', 'PAULS HIGH SCHOOL MIRA ROAD E THANE', 'KHARAL', 'NR DIAMOND MUMBAI', 'SRINAAR COLONY HYDERABAD', 'REWARI', 'BANDRA WEST MUMBAI', 'AUNDH SANEWADI', 'NR NILESH SUPER MARKET NASHIK', 'DEPOT GOREGAON (W) MUMBAI', 'MADURAI CITY', 'DEVKHEDA', 'HOUSTON', 'ADIPUR', 'TIRUNELVELI DIST', 'KORBA', 'GREATER NOIDA WEST', 'DIST SOLPAUR', 'NERUL NAVI MUMBAI', 'TO 11TH CROSS BANGALORE', 'ESTATE LALBAUG MUMBAI', 'STORE NEXT TO RAJASTHAN DAIRY FARM', 'MODEL SCHOOL HYDERABAD', 'CHICKBALLAPUR', 'SAPROON SOLAN', 'G B ROAD THANE', 'PARASIA', 'RAILWAY STATION MUMBAI', 'TIRUHIRAPPALLI', 'MAGARPATTA CITY HADAPSAR PUNE', 'PALAKAD DT', 'PRAYER HOUSE HYDERABAD', 'NAWPARA', 'PUNIGAM', 'BISTUPUR JAMSHEDPUR', 'PO BOX 33060 DUBAI DUBAI', 'OTTERFING', 'RAIA', 'COMPLEX BORIVALI (E) MUMBAI', 'FATEHGARH SAHIB', 'LONDON', 'UDHAMSINGH NAGAR', 'MANDIGOBINGARH', 'KUZHIMATTOM', 'BANDRA E MUMBAI', 'DELISLE ROAD MUMBAI', 'SCHOOL KANDIVALI W', 'POWDIKONAM', '(VIA) SALEM', 'CHAKALA MIDC CHAKALA MIDC MUMBAI', 'TIMBANA', 'KUMBAKONAM TK', 'INDIAN OIL NGR', 'THOTHUKUDI DIST', 'YEOLA', 'ERNAKULAM KL', 'KATRA DISTT REASI', 'GAYA', 'EXTN-2 SHAKARPUR  DELHI', 'COLLEGE PUNE', 'THANJAVVR', 'DRINK BHIWANDI', 'BHIWANDI', 'PRAKASH SCHOOL BANGALORE', 'NALASOPARA WEST', 'VANUR TK', 'BAHRAICH', 'WALCHANDNAGAR', 'CLUB MIRA RD E THANE', 'MUMBAI (SUBURBAN)', 'SAMALPUR', 'OPP HDFC BANGALORE', 'PLACE NEW DELHI', 'MARG KURLA- W MUMBAI', 'CHORD ROAD BANGALORE', 'KEELKATTALAI CHENNAI', 'MAIN AJMER ROAD JAIPUR', 'HANSI', 'NEW SIDDHAPUDUR COIMBATORE', 'CHEERALA', 'KOLATHUR CHENNAI', 'APARTMENTS PATPARGANJ DELHI', 'HAZARI BAG', 'NORTH PARAVUR', 'DADAR-WEST BHAWANI SHANKAR MUMBAI', 'MANGALORE TQ', 'TALUK BANGALORE', 'SHARJAH KARAMA', 'LOHAGHAT', 'HOSUR TALUK KRISHNAGIRI DIST HOSUR', 'GUDIYATTAM', 'BILARA', 'ANGERIPALAYAM TIRUPUR RURAL C', 'MARIPEDA WARANGAL', 'USMANABAD', 'RAIGADH', 'RD TALEGAON STN TALEGAON  PUNE', 'JANDIALA GURU', 'BADLAPUR WEST', 'KALUPUR AHMEDABAD', 'UMARIA', 'DIST NASIK', 'KORIMNAGAR', 'KASARAGOD DT', 'NUH MEWAT', 'PARAMAKUDI', 'DWARKA MORH', 'PLOT NO 9/10/11/12 SURAT', 'KRISHNA VIJAYAWADA', 'STATION SOUTH 24 PARGANAS', 'NANGAL TOWNSHIP', 'GAYZING', 'DOMVIBALI E MUMBAI', 'GAUTAM BUDDHA NAGAR', 'VILLAGE VARTHUR HOBLI BANGALORE', 'KADAMBUR', 'POST TC PALYA CHURCH BANGALORE', 'BLUE DART COURIER KOLKATA', 'SHEKHPURA', 'K V RANGAREDDY VAISHALINAGAR', 'CHACKAN', 'GZB', 'GARDEN PUNE', 'BUNDAHERA GURGAON', 'SANTIAGO', 'AVANTICHOWK PANDRI RAIPUR CG RAIPUR', 'PUMP SURAT', 'PILANI', 'TULIJ SOPARA RD VASAI THANE', 'SONAPURA', 'CLUB CHEMBUR MUMBAI', 'TAPI', 'BASHEER BAGH HYDERABAD', 'BAREILLY', 'KARYALAY PUNE', 'SANGHA CLUB NORTH 24 PARGANAS', 'THANJVUR', 'CHUNABHATTI DEPO AND STN MUMBAI', 'KHANUSA', 'NEW DELH', 'BANDRA (EAST) MUMBAI', 'NR BIG BAZAR NASHIK', 'NOIDA UP', 'HUBBALLI', 'PATRAPUR', 'KRISHNARAJAPURAM HOBLI BANGALORE', 'NO 2 SECTOR 17 ROHINI NEW DELHI', 'MADHUBANI', 'NORTH EAST DELHI', 'NALASOPRA EAST', 'ITANAGAR', 'KATRA', 'SHOW ROOM LBS MARG', 'DAULATPUR', 'BANGALORE NORTH BANGALORE', 'BHAYANDAR EAST', 'GANDHIDHAM-KUTCH', 'LANE GHATKOPAR E MUMBAI', 'KHETRI', 'RANCHI RANCHI', 'GHATKOPAR', 'MARIGAON', 'KHED PUNE RAJGURUNAGAR', 'PATTAR KALAN', 'PADUKA CHOWK F C RD PUNE', 'THALAYOLAPARAMBU', 'HINGOLI', 'MANDPESHWAR MUMBAI', 'KURSEONG', 'BHORANJ', 'RAJAHYUNDRY', 'NEEM KA THANA', 'TEMPLE STREET BANGALORE', 'PHUNCHAWNG', 'HAVELI PUNE PUNE', 'PASHCHIM CHAMPARAN', 'THOUDAL', 'BOOTHGARH', 'KALYAN (WEST)', 'NAVI MUMBAI THANE', 'TO SBM BANGALORE', 'POPHALI', 'NARENDRA NAGAR TEHRI GARHWAL', 'NILOKHERI', 'DHARMAPURI', 'ADUGODI ADUGODI BANGALORE', 'ASANSOL NORTH ASANSOL', 'WANDER BEKARY KOLKATA', 'PETROL PUMP NAGPUR', 'VADGAON BUDRUK PUNE', 'PARADEEP', 'NALHAR NUH MEWAT', 'NAGAR MALAD (EAST) MUMBAI', 'STATION CHENNAI', 'NEW LINK ROAD ANDHERI WEST MUMBAI', 'MUMBAI ANTOP HILL MUMBAI', 'SRIKAKULAM', 'RAJAHMUNDRY URBAN', 'BANK ATM HYDERABAD', 'GORAMATI', 'NEW PANVEL WEST', 'SUBHASH MARG C SCHEME JAIPUR', 'TIRUMALAGIRI HMT TOWNSHIP HYDERABAD', 'AMBUR TK VLR DT', 'CHIKHLI', 'IAF AVADI CHENNAI', 'GUJARAT UDWADA', 'WAKAD PUNE', 'HYDERABAD', 'SANTACRUZ', 'BAGPAT', 'CASTLE HILL', 'FINANCE THIRUVANANTHAPURAM', 'VILLAGE PAREL MUMBAI', 'TEMPLE PRAKASAM', 'SANTOKHGARH', 'N DOLA', 'DADAR MUMBAI', 'NAGPUR NAGPUR', 'STORE ROHTAK', 'VELLAVOOR', 'RAJKOT', 'PLAZA HOTEL SURAT', 'SAROVAR PUNE', 'ERANDWANE PUNE', 'KUKATPALLY HYDERABAD HYDERABAD', 'BAGAN SILCHAR', 'AND 28 PAUD ROAD PUNE', 'BALESWAR', 'WASHIM DIST', 'SUB URBAN MUMBAI', 'BHUBANESHWAR RASULGARH', 'NAMMAKAL', 'KENDUJHAR', 'COMPLEX BANGALORE', 'RAIBAREILY', 'VIJAYNAGAR BANGALORE', 'KHAR (WEST) MUMBAI', 'TK KANCHEEPURAM DIST', 'OSHIWARA ANDHERI WEST MUMBAI', 'HOTEL BANGALORE', 'RINGROAD VARTHUR HOBLI BANGALORE', 'KOSLI', 'ANANDNAGAR AHMEDABAD', 'JAGRAON', 'DAMOH', 'KANATA', 'PLAZA BORIVALI WEST MUMBAI', 'RD SAKINAKA MUMBAI', 'URMAR TANDA', 'LAYOUT 2ND SECTOR BANGALORE', 'NAGAR SOC PUNE', 'NAGAR ADUGODI POST BANGALORE', 'MHADA MUMBAI', 'RAMAPURAM CHENNAI', 'GHAIZABAD', 'MARKS SCHOOL NEW DELHI', 'BACKSIDE LANE HYDERABAD', 'NAINITAL', 'SCHOOL K V RANGAREDDY', 'KAUSHAMBI', 'PETER S SCHOOL MAZGAON MUMBAI', 'RATLAM', 'MIRAJ', 'MAIN ROAD MAHADEVAPURA BANGALORE', 'VANIYAMBADI CIRLLE', 'NGR KEMPAPURA HEBBAL BANGALORE', 'PUMP NR YES BANK SURAT', 'SIKAR', 'TANAJI NAGAR MALAD E MUMBAI', 'SONATIKARI', 'NEELAM RESTURANT MUMBAI', 'BISHNUPUR', 'DOMBIVLI WEST', 'CHARKHI DADRI', 'HOSPITAL PAREL MUMBAI', 'NSW', 'HYDERSHAH KOTE RAJENDRA HYDERABAD', 'FRESH HYDERABAD', 'CHANDRAPUR (MH) CHANDRAPUR', 'DOYLESTOWN', 'BLDG KOLKATA', 'CHIKKAMANGALORE', 'KALEEN', 'QUEPEM SOUTH', 'MUDPAR', 'VENKURINNJI', 'VAISHALI GHAZIABAD', 'MOGAR', 'CHEMBUR POST OFFICE MUMBAI', 'BANGALORE SESHADRIPURAM', 'DRIVING SCHOOL BANGALORE', 'TRANSPORT BHIWANDI', 'MANDVI', 'PETROL PUMP NR YES BANK SURAT', 'DHAMPUR', 'WORK PIMPRI PUNE', 'SWAMYROAD RSPURAM COIMBATORE', 'RANGAREDDY', 'LUDHIANAN', 'PALWANCHA', 'SANAND', 'CURCHOREM', 'VILE PARLE EAST MUMBAI', 'KORAMANGALAM BANGALORE', 'PS ABERDEEN PORT BLAIR', 'COLOUR CITY BOISAR W', 'BACK SIDE HYDERABAD', 'PEORIA', 'KORAMANGLA 1ST BLOCK BANGALORE', 'TANK MUMBAI', 'NR COMMUNITY HALL SURAT', 'OSMANABAD', 'VIJAYAPURAM', 'MUNGER', 'NAHSIK', 'GRAETER NOIDA', 'PALGHAR THANE', 'HIRANANDANI GARDEN POWAI MUMBAI', '8TH PHASE JP NAGAR BANGALORE', 'OFFICE HYDERABAD', 'KARNAVATI PARK AHMEDABAD', 'CHINCHWAD', 'CLUB MUMBAI', 'NURPUR', 'MODASA', 'VIKARABAD', 'MORBI', 'PHULWARI SHARIF', 'OFF VEERA DESAI RD ANDHERI W', 'STATION BANGALORE', 'BAIRNSDALE', 'UNIVERSITY NEW DELHI', 'RAJPUR', 'NUAPADA', 'ROAD EMP ID P11217 BANGALORE', 'DEPOT K V RANGAREDDY', 'MUMBRA', 'WEST KAMENG', 'APT BANGALORE', 'RIFFA', 'NEAR JAIPUR GOLDEN HOSPITAL DELHI', 'GANGAPUR CITY', 'GANDHI NAGAR NASHIK', 'VAISHALI NAGAR JAIPUR', 'SINNAR DIST NASHIK', 'MAHAMAYA NAGAR', 'INFORE', 'KURLA EAST', 'BUNGLOW TELEPHONE EXCHANGE MUMBAI', 'SANGRUR', 'TEMPLE MANGALORE', 'BORIVALI WEST', 'KOLHATI MIDC WALUJ AURANGABAD', 'CHHAPRA', 'TAL-MORMUGAO', 'EAST MUMBAI(SUBURBAN)', 'BUNGLOW NASHIK', 'VIRAR EAST', 'CHOMU', 'MEERUT CITY', 'TEMPLE RAJAMUNDRY', 'GUJRAT VADODARA', 'NEAR LALAPET FLYOVER SECUNDERABAD', 'ANDHERI KURLA ROAD ANDHERI E MUMBAI', 'BONGAIGAON', 'ZAMEEN PALLAVARAM', 'VIRUDHU NAGAR', 'JAJAPUR', 'BESANI ROAD VILE PARLE W MUMBAI', 'PETLAD', 'DOMBIVLI THANE', 'CUTTAK', 'ALATHUR', 'NOKHA BIKANER', 'SIEMENS SHOWROOM BANGALORE', 'MOTA VARACHHA SURAT', 'SURAT CITY SURAT KATARGAM SURAT', 'JEWELLERS HYDERABAD', 'JODUPUR', 'SECUNDERABAD BOLARUM HYDERABAD', 'TRIMURTY', 'SURYAPET TOWN AND MANDAL', 'CANACONA', 'KANYAKUMARI VALUACHAGOSTAM', 'MOHUDA', 'STATION DELHI', 'RIVERSIDE', 'KANDIVALI (EAST) MUMBAI', 'PAOMATA', 'CORLIM', 'ROAD THANE W', 'ELANJI', 'BANASWADI BANGALORE', 'MOHINDARGARH', 'SOLIHULL', 'SILCHAR', 'KAMRUP (METRO) DIST', 'SINGH NAGAR MOHALI', 'DHANSOR', 'THANE BHIWANDI', 'DAHISAR E MUMBAI', 'THEKKUMBHAGAM', 'EAST MIDNAPORE', 'KAURTHALA', 'BELTHANGADY', 'KANYAKUMARI DIST', 'CHITTAURGARH', 'NOIDA GBN', 'HARIDWAR', 'MANDYA', 'APURA WHITE FIELD MAIN RD BANGALORE', 'RD NASHIK', 'LADNUN', 'MAHADEVAPURA BANGALORE', 'SACHIN SURAT', 'NABARANGPUR', 'CHAVARA', 'OZAR MIG', 'KASARGODE (DIST)', 'DODDAMMA MARAMMA TEMPLE BANGALORE', 'AIRPORT DEVANAHALLI BANGALORE', 'AZAMGARH', 'HIGH SCHOOL MUMBAI', 'CITY TREAT HOTEL MUMBAI', 'GZBD', 'DEOBAND SAHARANPUR', 'THRIKKAKARA KAKKANAD ERN', 'JWELLS THANE', 'DOUBLE RD BANGALORE', 'KARORA', 'MITHAPUR', 'MASJID HYDERABAD', 'TEZPUR', 'BLOCK KORAMANGALA BANGALORE', 'CYBERABAD', 'LUCKNOE', 'EXTENSION BANGALORE', 'NADIAD', 'BAPAT MARG ELEPHISTONE RD W MUMBAI', 'PHASE 1 HINJEWADI', 'EAST KHASI HILLS', 'RAGHUNATHAPUR', 'NATHDWARA', 'STATION ROAD KALYAN WEST', 'DISTT FARIDKOT', 'TIRUVANNAMAI', 'JORHAT', 'UTHUKOTTA I', 'RAJNANDGAON', 'VEDURUKUPPAM', 'MANDSAUR', 'INDIA OFFICE RANCHI', 'GURGAON ROAD GURGAON', 'BILARI', 'LILUAH', 'MAHATMA GANDHI STATUE HYDERABAD', 'HIGHWAY AKURDI PUNE', 'SIMBEGA', 'PEEDAL', 'PONDA NORTH', 'THIRUVANNAMALAI DT', 'GUDIWADA', 'NR TULSI BUNGLOWS AHMEDABAD', 'MUMBAI ANTOPHILL', 'SAFEDPOOL ANDHERI E MUMBAI', 'MANDIR JM ROAD PUNE', 'KUNDLI', 'TEMPLE U BALANKA EAST GODAVARI DT', 'BILASPUR', 'COLLAGE BANGALORE', 'MANGAF', 'GAUTAM BUDDHA NGR', 'SALCETE MARGAO', 'KANGRA KANGRA', 'ROAD VASHI NAVI MUMBAI', 'DHARAPURAM', 'OFFICE KALYAN WEST KALYAN', 'FRAMINGHAM', 'THE ACRES CLUB CHEMBUR MUMBAI', 'ANGUL - ORISSA', 'MANDIR SURAT', 'VIJAYA BANK BANGALORE', 'TORNA GARDEN PUNE', 'LOWER PAREL ( WEST ) MUMBAI', 'NEW TAIPEI CITY', 'MAHABALESHWAR HOTEL BANER PUNE', 'CHAKRAVARTHY RD KANDIVALI E MUMBAI', 'MUMBAI WORLI COLONY MUMBAI', 'POST TIRUPUR', 'MOGAPAIR EAST CHENNAI', 'GUJARAT PALANPUR', 'KHARODI KHARODI MUMBAI MUMBAI', 'MUMBAI MULUND WEST MUMBAI', 'THANE MIRA ROAD E', 'TALEGAUN DABHADE', 'DHARWAD', 'NR MAHABALESHWAR HOTEL PUNE', 'COLONY GORAKHPUR', 'ZIRAKPUR ZIRAKPUR', 'SHAHADRA', 'BANASHANKARI II STAGE BANGALORE', 'BARODA-VADODARA', 'EGMORE CHENNAI', 'GUIRIM BARDEZ', '4 DELHI', 'MANALI (21/26) KULLU', 'YAVATMAL', 'SAHAKARA NAGAR BANGALORE', 'VA 22079 3463', 'MODI NAGAR GHAZIABAD', 'LOWER PAREL-W MUMBAI', 'MAHALAXMI (W) MUMBAI', 'CMR RD BANGALORE', 'MALAD EAST MUMBAI', 'UDYOG VIHAR PH 1 GURGAON', 'CANACOWA', 'GAJAPATI', 'BUNK KANCHIPURAM-DISTRICT', 'GODAWARI RAJAHMUNDRY', 'THALAPPALLY', 'MASTEK BLDG NAVI MUMBAI', 'ADHANUR', 'KOVAIPUDUR', 'NAGAR BANGALORE', 'GURGAON BUNDAHERA GURGAON', 'BHAYANDER E THANE', 'OLDHAM', 'EVARADD NAGAR SION E MUMBAI', 'KUMATA DIST', 'COLONY DELHI', 'MYSORE PUNE', 'DEPALPUR', 'FARM OLD BOWENPALLY TIRUMALAGIRI', 'KADAVUR', 'TALEGAON DABHADE', 'NABHA DISTT  PATIALA', 'NEDUNGADAPALLY', 'XAVIERS HIGH SCHOOL SURAT', 'CONSULTANT MUMBAI', 'JUINGR RAILWAY STATION NAVI MUMBAI', 'SECTOR-3 KHARGHAR RAIGARH', 'CHUTNEYS HOTEL VISAKHAPATNAM', 'BANURH', 'VAZHUTHACAUD THYCAUD TRIVANDRUM', 'TALALA', 'SHRIMUKTSAR SAHIB', 'KHORODI MUMBAI', 'KAYLA', 'KALYAN EAST THANE', 'SUBURB BANGALORE', 'CITY NOIDA', 'VILLAS PHASE 2 HYDERABAD', 'SQUARE WO NO 22 NAGPUR', 'PATRATU', 'CONNAUGHT PLACE NEW DELHI', 'OOTY', 'ROAD ABOVE SUZUKI BANGALORE', 'NAGAL CHOUDHARY', 'NR PRIYADARSHNI BLDG MUMBAI', 'BASIRHAT', 'PAINTING AND HARDWARE MUMBAI', 'GARHSHANKAR', 'UPPER BAZAR RANCHI', 'CHINCHANI', 'NEW BOMBAY', 'KHED', 'STOP BANGALORE', 'ONGOLE', 'GAYATRI TEMPLE SURAT', 'MADHUPARK ROAD MUMBAI', 'SANTA KABEERNAGAR', 'CALANGUTE BARDEZ', 'STCRUZ', 'BHAWANI CHAWK THANE', 'SRI HARGOBINDPUR', 'BHAYANDAR W', 'KENDRAPARA KENDRAPARA', 'MANGATTIDAM', 'CHUNABHATTI EAST MUMBAI', 'YSR DISTRICT', 'GOREGAON E AREY MILK COLONY MUMBAI', 'PATPAR GUNJ DELHI SHAKARPUR E DELHI', 'MUMBAI CITY MUMBAI', 'NAGPUR (URBAN) NAGPUR', 'PRABHADEVI  KHED GULLY MUMBAI', 'MADHAPUR', 'DENKANNIKOTTAI', 'DOMBIVALI W MUMBAI', 'NILAYAM HYDERABAD', 'NAZAFGARH', 'SATELLITE AHMEDABAD', 'SIGNAL SION-E MUMBAI', 'TIRUPATI RURAL', 'KHARADI BYPASS HADAPSAR PUNE', 'ENTERPRISE KOLKATA', 'GAMDI ANAND', 'HIGHWAY NARHE PUNE', 'RETAIL INDIA LTD BANGALORE', 'TALEIGAO PANAJI', 'VASHI NAVIMUMBAI', 'GURDAS PUR', 'SURYAPET NALGONDA(DIST)', 'ICICI BANK KOLKATA', 'CHAS BOKARO', 'KANDIVALI WEST MUMBAI', 'SECTOR 30A VASHI NAVI MUMBAI', 'RWG RD BANGALORE', 'BHAVANI GEMS SURAT', 'DHURI', 'NEAR WATER TANK HYDERABAD', 'JAGATSINGHPUR', 'VAPADA', 'NEHRU NAGAR MUMBAI', 'VILE PARLE WEST', 'JHIRPANI', 'KORMANGALA 1ST BLOCK BANGLORE', 'NEW DLEHI', 'KASARWADAVALI POLICE STATION THANE', 'JAYAPURA MYSORE', 'MANTAR RD DELHI', 'HEIGHTS HYDERABAD', 'WEST KALYAN THANE', 'KOTAK MAHINDRA BANK BANGALORE', 'AMBERNATH-E THANE', 'KOVILAMBAKKAM CHENNAI', 'VASIND E', 'DARIBA RAJSAMAND', 'URAN RAIGAD', 'LIVERPOOL', 'SEVALIA', 'CHICKMAGALUR', 'NR KARISHMA SOCIETY PUNE', 'VASCO-DA-GAMA', 'BOMMASANDRA INDL AREA BANGALORE', 'DADAR EAST MUMBAI', 'SEC 49 GURGAON', 'BAPATMARG LOWER PAREL WORLI MUMBAI', 'SHAHDARA', 'PONDA SOUTH', 'BALLABGARH FARIDABAD', 'KALYANAMANDAPAM HYDERABAD', 'TIPTUR', 'DHARAPURAM TALUK', 'PERTH', 'KAMALPUR', 'VIKAS NAGAR', 'DINDIGUL', 'DURG - DISTRICT', 'BEHALA COLLAGE KOLKATA', 'SHAHDARA S O EAST DELHI', 'SHOPPING COMPLEX THIRUVANATHAPURAM', 'MUNICIPALITY KOLKATA', 'TRICHY RURAL', 'TALEIGAO', 'NARNAUL', 'GANJAM', 'ABOVE AASHWAD HOTEL MUMBAI', 'SEC-18 NOIDA', 'MINTO BRIDGE NEW DELHI', 'MAINPURI', 'DISTT PATIALA', 'VILLUPURAM DIST', 'CHEMBUR FCI MUMABI', 'KANAKAPURA RAMANAGAR', 'AMMIS BIRIYANI BANGALORE', 'AMRITASAR', 'KHAR (W) MUMBAI', 'ROPNAGAR', 'BIOSAR', 'TECH PARK BANGALORE', 'LAKSHMI MEDICALS HOSUR', 'HOTEL CHEMBUR EAST MUMBAI', 'KELIPADA KANDIVALI E MUMBAI', 'MOGA', 'VASAI VIRAR THANE', 'SHOWROOM) ELECTRONIC BANGALORE', 'GURUKUL KUMAR SCHOOL KASA NGR SURAT', 'WEST MAMBALAM', 'TEMPLE BENGALURU', 'NAKHATRANA', 'SAVEDI AHMEDNAGAR', 'MUTHAPUDHUPET', 'BELONIA', 'JHARGRAM', 'PALAMKONAM', 'BARGARH', 'NAGAR ROAD PUNE', 'GOBICHETTIPALAYAM', 'SARJAPUR MAIN ROAD BANGALORE', 'GOREGAON E MUMBAI', 'TAWANG', 'NADIAN', 'ELECTRIC OFFICE AGARTALA', 'THURUTHY', 'RAIGARH NAVI MUMBAI', 'AL SALMIYA', 'NR JEHANGIR HOSPITAL PUNE', 'PARK BORIVALI WEST MUMBAI', 'G P O AHMEDABAD', 'RAMGARH CANTT', 'GANGAWALA PETROL PUMP MUMBAI', 'MIRA RD', 'COMPLEX PUNE', 'GALLERY BORIVALI (W) MUMBAI', 'CHEMBUR (EAST) MUMBAI', 'DASUYA', 'MOSES ROAD MAHALAXMI MUMBAI', 'ENCLAVE ROAD SAKET DELHI', '5TH BLOCK KORAMANGALA BANGALORE', 'TIRUVANNAMALAI', 'NORTH MSRIT BENGALURU', 'GUNJUR', 'MC DONALDS BENGALURU', 'GOLAGHAT', 'JAWALI', 'KHERANI ROAD ANDHERI (EAST) MUMBAI', 'TIRUCHIRAPPALLI', 'WHITEFIELD BANGALORE', 'AXIS BANK DURGAPUR', 'SANPADA', 'KIGALI', 'E VASAI PALGHAR THANE', 'DISTT-FARIDABAD', 'MALAPURAM', 'GAUTAM BUDDH NAGAR', 'EAST CHAMPARAN', 'GAUTAM BUDHA NAGAR', 'NEAR BIKANER CHOICE NEW DELHI', 'UDWADA', 'ELECTRIC VASAI', 'MANIPAL', 'AMEERPET HYDERABAD', 'SRUNGAVARAPUKOTA', 'DISTRICT PURI', 'WORKS AHMEDABAD', 'RANI', 'BHAYANDAR EAST THANE', 'PALAKKAD', 'KALIKA TEMPLE BANGALORE', 'DHANORI PUNE', 'ASHOK NAGAR DHANSAR', 'NAGAR MUMBAI', 'GREATAR NOIDA', 'NAGARKURNOOL', 'STANDARD CHARTED BANK HYDERABAD', 'BASSEIN THANE', 'DADAR WEST BHAWANI SHANKAR MUMBAI', 'RAILWAY STN ELPHINSTONE ROAD MUMBAI', 'DIGUVAMASAPALLI', 'IIND STAGE BANGALORE', 'GOVT HOSPITAL HYDERABAD', 'COMISSIONER OFFICE MUMBAI', 'TALEIGAD', 'OPP CHALLA HOSPITAL HYDERABAD', 'SHOWROOM VIKHROLI (W) MUMBAI', 'KRISHNA NAGAR', 'KARMAGORA JEALGORA DHANDBAD', 'SAHARASA', 'PUMP VASHI NAKA CHEMBUR MUMBAI', 'CINEMA KOLKATA', 'CHARODA', 'MALERKOTLA', 'NAGAR RUDRAPUR', 'KOPARKHIRANE', 'PANGADA', 'SAHIB STREET BANGALORE', 'SCHOOL PAWAI MUMBAI', 'K V RANGA REDDY HYDERABAD', 'DISTT LATUR LATUR', 'RI BHOI', 'S.B MARG W MUMBAI', 'DIDWANA', 'JAIPUR', 'MULUND EAST MUMBAI', 'CLUB SOUTH 24 PARGANAS', 'FUNCTION HYDERABAD', 'SHILLLONG', 'JACOB CIRCLE MUMBAI MUMBAI', 'NORTH GOA', 'PERAMBUR CHENNAI', 'NGR 3RD PHASE BANGALORE', 'EAST THANE THANE', 'GOSSAIPUR', 'CHENNAI VEGITABLES CHENNAI', 'BARUARI', 'SHOWROOM SV RD ANDHERI (W) MUMBAI', 'CIRCLE LALBAG RD BANGALORE', 'ETAWAH', 'DAPORIJO', 'DIST SHIMLA TEHSIL SHIMLA SIMLA', 'CHEEKA', 'SRIKALAHASTI', 'MEDICAL MUMBAI', 'G R GAUR MUMBAI', 'PUDUKKOTTAI DISTRICT', '(BENAKA MDTS) BANGALORE', 'NEDUMUDY', 'PARK PHASE -01 HINJEWADI PUNE', 'GANDHI SALAI OMR CHENNAI', 'MERCES TISWADI', 'VIII (8) BHAYANDER EAST THANE', 'TIRUPPUR', 'PAHADA UDAIPUR', 'STORE NEEM KA THANA', 'UMROLI', 'PAREL (E) MUMBAI', 'MAHARAJGANJ', 'WARANGAL DISTRICT', 'SAMTRA', 'PADA DAHISAR WEST MUMBAI', 'TARN TARAN', 'NARASPUR', 'JAYANKONDAM', 'NAIHATI', 'GARDEN WEST DELHI', 'DIKSHIT RAIPUR', '.-PURAM, BANGALORE', 'WILLINGDON ISLAND', 'VASIND', 'NEAR METRO SUPER MARKET HYDERABAD', 'SANJAN', 'KARIMNAGAR', 'PUNJAB GURDASPUR', 'CHROMPET KPM', 'HOFUF', 'BALTANA ZIRAKPUR', 'SARRANG', 'LATEHAR', 'MAZGAON MUMBAI CITY', 'BANK PATASPUR BRANCH PURBOMEDINIPUR', 'MADURAI DT', 'MUNDAGOD', 'WOODSIDE', 'MEHSANA I E', 'MARATHAHALLI OUTER RING ROAD', 'PUNE CHINCHWAD', 'NATNAVL', 'ROAD CHANNASANDRA BANGALORE SOUTH', 'ROTKAR LAYOUT NAGPUR', 'MARKAPUR', 'DUNDAHERA GURGAON', 'PIMPLE SAVDAGAR PUNE', 'LANE GANDHI NGR BORING RD PATNA', 'SYANA', 'VILLAGE KANDIVALI E MUMBAI', 'RATAN MANDIR MUMBAI', 'BAER GREATER NOIDA', 'RESTAURANT MUMBAI', 'ROAD NEAR NANGLOI NEW DELHI', 'MITUANI', 'JAIPUR JAIPUR', 'ROAD BANGALORE', 'RING ROAD VADODARA', 'SEMORE', 'DHALAI', 'HOSPITAL KALANAGAR BANDRA E MUMBAI', 'BUILDER OFFICE MUMBAI', 'YEHAKANKA BANGALORE', 'ROUTA PURNEA', 'VIMANNAGAR NGR RD PUNE', 'D MART KANJURMARG (W) MUMBAI', 'BASSEIN ROAD THANE', 'NR MONGINIS CAKE FACTORY', 'LINK ROAD ANDHERI (WEST) MUMBAI', 'KRISHNA DT', 'DHAKAULI', 'MAYUR NAGAR GOREGAON EAST MUMBAI', 'ELECTRONICS CITY BANGALORE', 'DOSA RD MUMBAI', '18 CTS 65 CHEMBUR MUMBAI', 'LAGOS', 'PANVEL PANVEL RAIGAD', 'JOSHI RD ELPHINSTONE MUMBAI', 'ANDHRA PRADESH', 'CHANDIWALA ESTATE KALKAJI', 'BOWENPALLY MARKET YARD HYDERABAD', '(SUBURBAN) MUMBAI', 'MANTRI PARK MUMBAI', 'VILLIVAKKAM CHENNAI', 'BHARTIVIDYAPEETH POLICE STN PUNE', 'KALA CHOWKI MUMBAI', 'KANAYANKAVAYAL', 'TALAKAVERI BANGALORE', 'WALAJA', 'SWAAI MADHOPUR', 'MIRA ROAD THANE', 'MITHAKHALI ELLES BRIDGE AHMEDABAD', 'GHAZIABAD', 'PAVRIGARWAL', 'KOKRAJHAR', 'BHAWAN KOLKATA', 'RAMSIN', 'KAMALI', 'POINTS HOTEL VADGAON SHERI PUNE', 'JAMIA NAGAR', 'LT DEPT THANE', 'NODE NAVI MUMBAI', 'PANVEL HIGHWAY MUMBAI', 'KEGAON', 'SERVICE CENTER HYDERABAD', 'MILES MANALI', 'GODAVARI', 'JUNCTION BANGALORE', '1601203 BANGALORE', 'FARRUKH NAGAR GURGAON', 'BERI', 'ROAD EMP ID P11671 BANGALORE', 'DAMODAR HALL VASAI PALGHAR', 'HOUSE BACK SIDE NEW DELHI', 'BHABUA', 'CHIKKABALLAPUR DIST', 'KATHUA', 'ATM BANGALORE', 'BUNK PURVA VANTAGE APT BANGALORE', 'SANKARA COLONY CHEMBUR MUMBAI', 'CHEMBUR MUMBAI', 'JAYANAGAR BANGALORE', 'GORAUL', 'BOMMAHAHALLI BANGALORE', 'ROAD SATELLITE AHMEDABAD', 'BHABHUA', 'FINOLEX CABLES WORK PIMPRI PUNE', 'MARG KURLA-W MUMBAI', 'OPP VASHI RLY STN VASHI NAVI MUMBAI', 'UNION CITY', 'RAJIYAWAS', 'RAOD PUNE', 'SHIVALAYAM HYDERABAD', 'THRUVANNAMALAI', 'KAMBARASAPURAM', 'NAGDA UJJAIN', 'MURADABAD', 'KAKINADA ,AP', 'MUMBAI SUBURBAN DIST MUMBAI', 'NAHAN', 'BUDDHA NAGAR GREATER NOIDA', 'OPP CRPF BANGALORE', 'FLOOR ROOM NO 1 NAVI MUMBAI', 'MALAKAPUR', 'N T PUNE', 'KARUNAGAPPALLY', 'ABU DHABI 303', 'DISTRICT MEDAK', 'DT-UDHAM SINGH NGR RUDRAPUR', 'NR LOTUS POND HYDERABAD', 'OF INDIA ABIDS BRANCH HYDERABAD', 'NORTH TRIPURA', 'R R DISTRICT', 'OM TOWN SHIP SARTHANA SURAT', 'RATANPUR', 'PUNE CITY NIBM PUNE CITY PUNE', 'RAIGARH', 'RAJAHMUNDRY', 'KARN KARNAL', 'AMBATTUR CHENNAI', 'ALLAHABAD ALLAHABAD', 'CROSS MANGALORE', 'HOSAKEREHALLI BANGALORE', 'SRIPRUMBUDUR', 'LAKHANI KIRANA ITARSI', 'GAJRAULA', 'ANAPARTHI MANDAL', 'PHARMA BANGALORE', 'HOME MUMBAI', 'BARDDHAMAN', 'KARBI', 'KHURD tal MULSHI PUNE', 'CHANGA', 'STATION DONGRI CHINCHBUNDER MUMBAI', 'KALOL', 'SAMANA', 'GHAZIABAD DISTT GHAZIABAD', 'SATAVNAGAR HADAPSAR PUNE', 'BANGANA', 'DISTRICT GANJAM', 'SALEM (DT)', 'SAFEDPOOL ANDHERI (E) MUMBAI', 'VIDYAVIHAR (W) MUMBAI', 'SRINIVASPURI', 'MARIGOLD PREMISES KALYANI NGR PUNE', 'GORWAROAD VADODARA', 'SHYAMPUKUR', 'VJB UDYAN MUMBAI', 'DAV PUBLIC SCHOOL HYDERABAD', 'VADGAON', 'OPP SURAJ WATER PARK THANE', 'BAROTHA', 'NANDALUR', 'KOLLAM PERUMPUZHA', 'DEHGAM', 'KEDAL GUNJ ALWAR ALWAR', 'BORIVLI (WEST) MUMBAI', 'JAGADDAL', 'BELLARY', 'CHAMBER SECUNDERBAD', 'DHIRUBHAI LIFE SCIENCE NAVI MUMBAI', 'BALODA', 'SAKET', 'OLD BOWENPALLY', 'AZAD NAGAR THANE', 'BHAWANIGARH', 'KOVIL CHENNAI', 'KANPUR', 'AMBALA CITY', 'THIRUVOTTIYUR', 'JUBBAL', 'RD JALLADIANPET CHENNAI', 'BURAIDAH', 'SANTKABIR NAGAR', 'PRAKASAM DIST', 'SONITPUR', 'DHARAWAD', 'CHANDRAMULINAGAR', 'BTM 1ST STAGE BANGALORE', 'MANDAPESHWAR MUMBAI (SUBURBAN)', 'SCHOOL SILCHAR', 'ROHAN', 'VASHI  NAVI MUMBAI', 'S O NERUL NODE III THANE', 'MARG LOWER PAREL MUMABI', 'TIHIDI', 'SURYAPET NALGONDA', 'TIRUPATI', 'VIDYAVIHAR W MUMBAI', 'ENCLAVE ROAD SAKET NEW DELHI', 'WEST BARVE NAGAR MUMBAI', 'ADHARTAL JABALPUR', 'PERNEM NORTH GOA', 'AGAR', 'WATER FILLING BANGALORE', 'LINE MUNGER', 'MAIN RD NR ASTRON CHOWK RAJKOT', 'KUNNATHUNAD', 'GANESHKHIND PUNE', 'MOHINDERGARH', 'MANDIR KOLKATA', 'RATNAGIRI CHIPLUN', 'DAHANU', 'CHITTARANJAN', 'GOVT SCHOOL SHIMLA', 'PAREL WEST MUMBAI', 'ALIPURDUAR', 'MUMMALLAPALLE', 'STATION COLABA MUMBAI', 'ROAD RAJKOT', 'CHANGANASERRY', 'MAHUAR', 'GODAVARI WEST', 'NARASARAOPET GUNTUR', 'DIST ZUNHEBOTO', 'PETALING JAYA', 'SUBRAMANYAPURA POST BANGALORE', '6TH STAGE BTM LAYOUT BANGALORE', 'MARATHAHALLI SOUTH BANGALORE SOUTH', 'MANDIR PUNE', 'CEAT TYRE MUMBAI', 'CHUVANNAMANNU', 'WEST THANE MAHARASHTRA', 'B/H VIDYANJALI SCHOOL BANGALORE', 'GHATARO', 'BHATINDA', 'ZADESHWAR', 'VASNA', 'KHAMIS MUSHYAT', 'PALGHAR WEST THANE', 'JANGAREDDIGUDEM', 'NAVI MUMBAI', 'AIZWAL', 'DABHOLI ROAD SURAT', 'OPP TO VAISHNAVI THEATRE BANGALORE', 'PUNJAB NANGAL', 'SHADURG', 'BABA BAKALA', 'DIST VALSAD', 'NAKA CHARKOP KANDIVALI W MUMBAI', 'SIDHPUR', 'THANE NR RATNAKAR BANK THANE', 'DARGAMITTA', 'BANGALORE RURAL DIST', 'KR PURAM BANGALORE', 'ROHA', 'NANGAL CHOUDHARY', 'LBS MARG THANE W THANE', 'GODHRA', 'STATUE SECUNDERABAD', 'GUGAON', 'SHIMOGA', 'KOPERKHAIRANE', 'KALKA', 'CHURCH AMBATTUR CHENNAI', 'FIRE TEMPLE MUMBAI', 'STREET TEH HAVELI PUNE', 'PANDRI RAIPUR', 'MAHABUBNGAR', 'MIRA-BHAYANDER THANE', 'PUNE M CORP PUNE', 'JAM KHAMBHALIYA', 'CINEMA DELHI', 'KALAHANDI', 'HOSPITAL ANDHERI-EAST MUMBAI', 'BALONGI', 'BARNALA', 'UDAIPUR', 'VIRAR W', 'LEIDEN', 'SHOWROOM 150 FT RING ROAD RAJKOT', 'JAISINGHPUR', 'DEVALI', 'TAMIL NADU  HOSUR', 'CHARKOP KANDIVALI(W) MUMBAI', 'NEAR TO UNIVERSAL GYM BANGALORE', 'VIZAG', 'KANDIVALI EAST MUMBAI', 'COMPLEX NIDADAVOLE', 'THANE TEH THANE DISTT THANE THANE', 'CHITTOOR DIST', 'CHANDITALA', 'SECTOR 93 B NOIDA', 'KUSHINAGAR', 'KUSUNDA', 'SCHOOL LANE SECUNDERABAD', 'EVARARD NAGAR SION(E) MUMBAI', 'BASINGSTOKE', 'ANDHERI RLY STN MUMBAI', 'BACKSIDE HUBLI', 'MIRA ROAD EAST-THANE', 'GONTUVANI PALEM', 'THAKURDWAR MUMBAI', 'LUDHIANA LUDHIANA', 'RD NO 4 HYDERABAD', 'ALANDI DEVACHI PUNE', 'SIVIDAO', 'MOTILAL NAGAR MUMBAI', 'PIZZA PUNE', 'FIROZEPUR', 'MAROL MUMBAI', 'PUDUKOTTAI DT', 'DHEERA', 'CHAMPAWAT', 'GARHWA', 'AMBIKAPUR', 'AMBALA CANT', 'CHIRAG MOTORS SION MUMBAI', 'BULSAR VALSAD', 'CYPRESS', 'KOTEWSHWAR MOTTERA', 'HADAPSAR POST OFFICE PUNE', 'KAMATH HOTEL NASHIK', 'NAVIMUMBAI', 'NEAR TSIC OFFICE AGARTALA', 'FACTORY ANDHERI EAST MUMBAI', 'SRILINGAMPALLE RANGAREDDY HYDERABAD', 'EAST S O MUMBAI', 'VIHAR MORADABAD', 'NEAR RAILWAY PALTFORM NO 1 THANE', 'KANKROLI RAJSAMAND', 'KILLORGLIN', 'DHARBAR RESTAURANT SALEM', 'KOTESHWARA', 'NEW PANVEL NAVI MUMBAI', 'GANGNAPUR', 'KANGAYAM TK', 'DUBAI -UNITED ARAB EMIRATES DUBAI', 'KHARGHAR', 'SHIVAJI PARK MAHIM MUMBAI', 'NAGA PATTINAM', 'MADHUGORA', 'BUDAPEST', 'TIKRIKILLA', 'PAURI', 'SARAIDHELA DHANBAD', 'KARNAL', 'MCKINNEY', 'DIST DARBHANGA', 'SAMBALPUR', 'SHANKHWALI', 'AMBALA CANTONMENT', 'ALWAR', 'BEGOWAL', 'DIST NORTH GOA', 'SHREYAS CINEMA MUMBAI', 'TOWN HOSPITAL GUWAHATI', 'MANTAPA HALL MANGALORE', 'VIRAR THANE', 'NAVSAHYADRI PUNE', 'LINES K V RANGAREDDY', 'VILLAGE SOUTH WEST DELHI DELHI', 'BOISAR THANE', 'CHEMBUR NR GHATLA VILLAGE MUMBAI', 'NORTH WEST DELHI', 'MAPUSA BARDEI', 'OFF HAL AIRPORT BANGALORE', 'TEMPLE VASCO', 'GUDIVADA', 'SHOBHA HOSPITAL BANGALORE', 'GUDGAON', 'THANE - W', 'DHAYRI PUNE', 'KARAIKUDI', 'KANNR DIST', 'LAXMINAGAR', 'NAGAR BHIWANDI', 'ATHAL', 'KARTARPUR', 'NEAR VIJAY STORES MUMBAI', 'SAKINAKA NR GULSHAN HOTEL MUMBAI', 'BEHIND DR PANDIT CLINIC MUMBAI', 'CHINTAMANI', 'PS-WEST AGARTALA WEST TRIPURA', 'MARG LOWER PAREL (W) MUMBAI', 'SHOWROOM WAKAD PUNE', 'SERVICEMAN COLONY PUNE', 'GUNA', 'ALAPPUZHA', 'DIST. AHMEDABAD', 'SAMAYAN-AURAIYA', 'BANK OF INDIA ATM NEW DELHI', 'NORTH 24 PARGANAS AXIS MALL KOLKATA', 'GR. NOIDA', 'CHUNNABHATTI SIGNAL MUMBAI', 'TABALPUR', 'SUMERPUR', 'CIRCLE KATARGAM SURAT', 'BASMAT', 'RAIGARH PANVEL PANVEL', 'HAMPTON PARK', 'MANINAGAR', 'NALAGONDA', 'ALUVA', 'AAREYMILK COLONY MUMBAI', 'DUKIRKLINE', 'BAKERY BANGALORE', 'KUWAIT', 'CHOWK OPP INDRALOK RESI SURAT', 'SARJAPURA MAIN ROAD BANGALORE', 'AMALNER', 'FIRE BRIGDE MALAD WEST MUMBAI', 'DEVAJI AND VIPPLAZA ZIRAKPUR', 'JAGATPUR', 'BOLPUR (WEST BENGAL)', 'MILL MUMBAI', 'NEURA', 'CHEMBUR', 'JOGESHWARI PURV MUMBAI', 'BAI HOSPITAL HOSUR', 'ANCHOR POWER GYM CHENNAI', 'PHASE II GURGAON', 'BALEWADI PUNE', 'PARK PHASE-1 HINJEWADI PUNE', 'NEAR BHIWADI ALWAR', 'MAHILPUR', 'CHANDRA SEKHARAPURAM PRAKASAM', 'PILANI JHUNJHUNUN', 'OT CHENNAI', 'ROAD MANIPAL UDUPI UDUPI', 'NOWGAWAN SADAT', 'ANGADY', 'MAHALUNGE PUNE PUNE', 'MGRNAGAR CHENNAI', 'KRISHNAGIRI DT', 'KHAR STATION KHAR (W) MUMBAI', 'CHANGANACHERRY', 'BARPETA ROAD, ASSAM', 'GOREGAON W MUMBAI', 'SCHOOL GOVANDI MUMBAI', 'BUDH NAGAR NOIDA', 'RENIGUNTA', 'MUMBAI MIRA ROAD E', 'ARUVAPPULAM', 'SEWATA', 'PAKALA', 'THANE KALWA KHOREGAON', 'THISUNG GUMPA MANGAN', 'PORBANDAR', 'COMPLEX LONAVALA', 'DOUBLE ROAD BANGALORE', 'OYAN', 'BALUGAON', 'NARASINGHOME TANUKU', 'ANDHERI (WEST)  MUMBAI', 'IGST OPP MERCEDES BENZ SCHOOL PUNE', 'TRIVANDRUN', 'KOREGAON PARK PUNE', 'SIMDEGA', 'OPP LAKE CITY MALL (W) THANE', 'BAGARAPET KOLAR', 'NISRALE', 'PUNE  PUNE', 'KALYAN TILAKNAGAR KALYAN THANE', 'OPP TO RAJARATHINAM STADIUM CHENNAI', 'BANDRA EAST, MUMBAI', '80 FEET RD BANGALORE', 'THIRUVARUR DT', 'KANIYAKUMARI', 'MOKOKCHUNG', 'PABIACHERRA SCHOOL NORTH TRIPURA', 'KURNOOL', 'MANDIR NAGPUR NAGPUR', 'SHEETHAL BHIWADI', 'MEESEVA CENCER HYDERBAD', 'EAST MEDINIPUR', 'SURATGARH', 'PUDUKKOTTAI (DT)', 'THANE WEST', 'THANE AMBARNATH', 'TALEIGAO TISWADI', 'MAL JALPAIGURI', 'HOOFDDORP', 'KARWAR', 'UDUMBANCHOLA UDUMBANCHOLA', 'MANAMADURAI', 'SALVADOR DO MUNDO', 'POWAI MUMBAI', 'COURIER BHIWANDI', 'SALBONI MIDNAPORE W', 'DEVONSHIRE', 'MANGALDAI', 'HAILAKANDI', 'SIGNAL SION (E)MUMBAI', 'SALCETE', 'STORE GWALIOR', 'AKURDI PUNE', 'MUMBAI AGRA ROAD NASHIK', 'VELVI', 'BHUMI GARDEN MUMBAI', 'UNAKOTI', 'BALESHWAR', 'TRITOL', 'RAJENDRANAGAR MANDAL HYDERABAD', 'GBAD', 'KURLA RD ANDHERI EAST MUMBAI', 'GURGAON-1 TEH GURGAON GURGAON', 'EAST NALLOSAPARE E THANE', 'GLEN HUNTLY', 'BORAWAR NAGAUR', 'KHED DISTRICT PUNE PUNE', 'MIDINIPUR', 'KALYAN VISHNUNAGAR THANE', 'ACADEMY BANGALORE', 'ELPHINSTONE ROAD (W) MUMBAI', 'PATIL MARG SANTACRUZ WEST MUMBAI', 'PADHAR', 'ABOVE DR BATRA CLINIC BANGALORE', 'WADALA E MUMBAI', 'JAHANABAD', 'HINDUSTAN NAKA KANDIVALI (W) MUMBAI', 'SHAHABAD', 'VASHI NAVI MUMBAI', '10TH TO 11TH CROSS BANGALORE', '270 PLOT NO 4 RAJKOT', 'BENGUSARAI', 'SHARJAH', 'PAYAGPUR', 'COLLEGE CHENNAI', 'TIRUVALLUR DT', 'CANDOLIN BARDEZ', 'E KALYAN TILAK NGR THANE', 'KARBI ANGLONG', 'VILLAGE SAKINAKA  MUMBAI', 'RAJASTHAN', 'MORDABAD', 'BAPAT MARG LOWER PAREL', 'QUEPEM', 'FAIZABAD', 'KAPPUR PANCHAYATH', 'VASANT VIHAR DELHI', 'MAHABUBNAGAR', 'PLASSANAL', 'TEHSIL VASAI DISTT THANE', 'TIRUCHIRAPALLI DT', 'KURLA ROAD ANDHERI E MUMBAI', 'NIRMAL NAGAR BANDRA (E) S O MUMBAI', 'BIJNI', 'SUBURB 2ND STAGE BANGALORE', 'C/O VISHAL SANCHETI KOLKATA', 'AMLI SILVASSA', 'POLICE STATION GUWAHATI', 'KURLA ROAD ANDHERI EAST MUMBAI', 'PANNA', 'NALASOPARA EAST', 'CHAPRA SARAN', 'RAVINUTHALA PRAKASAM', 'BHOJPUR ANNAH', 'INDIA BANGALORE', 'OUTER RING ROAD BANGALORE', 'ALLD', 'DLAPAZHA', 'POOJA BLDG MALAD WEST MUMBAI', 'RSC 9 SERVE NO 41 MUMBAI', 'BIDADA', 'ASSAM', 'CHOMO JAIPUR', 'AIR PORT ROAD BEGUMPET HYDERABAD', 'PIMPLE SAUDAGAR PUNE', 'KAYAMKULAM', 'SRI MUKTSAR SAHIB', 'BOMBEDEM', 'BAREGARH', 'MALL KUNDALAHALLI BANGALORE', 'CHAMAPAWAT', 'DWARAKATIRUMALA', 'THANA', 'HITEX HYDERABAD', 'TURUVEKERE', 'DONAR S O T F DONAR MUMBAI', 'GOKULPUR', 'PETROL PUMP FARIDABAD', 'GUDUVANCHERRY KANCHEEPURAM', 'UMM AL QUWAIN', 'RAMANATHAPURAM', 'HALIYAL', 'BAZAR HYDERABAD', 'ENCLAVE BHOPAL', 'J B NAGAR MUMBAI', 'JOGESHWARI EAST MUMBAI', 'KARU VARAKUNDU', '24 PGR NORTH', 'SARAHAN', 'UNIVERSITY PUNE', 'GONDIYA', 'TISWADI', 'AMBERNATH  E THANE', 'ARKI', 'GADHINGLAJ', 'NISSING', 'SIVAGANGAI', 'PARASWADA DIST BALAGHAT', 'AMBIVLI WEST', 'DENKANIKOTTA', 'SALCETTE', 'BHYANDER WEST', 'GURAGON', 'AND MAHARASHTRA BANK MULUND', 'CHANDPUR', 'BSE FORT MUMBAI', 'ANJAR GANDHIDHAM KUTCH', 'SILVER SPRING', 'HANUMAN TEMPLE HYDERABAD', 'MADINA HOTEL PUNE', 'BHAWAN NEW DELHI', 'BELATHUR', 'SOHNA ROAD GURGAON', 'RD P N PALAYAM COIMBATORE', 'KATRAJ MUMBAI HIGHWAY NARHE PUNE', 'TANAKPUR CHAMPAWAT', 'BELGAVI', 'UMRED', 'BORIVALI WEST MUMBAI', 'RAYA SOUTH WEST DELHI NEW DELHI', 'NAPERVILLE', 'VARTAK NAGAR THANE', 'ORAI', 'KOLHAOUR', 'PONDA TISCA', 'CIRCLE ITANAGAR', 'ASHISH HOTEL PANCHVATI AHMEDABAD', 'KUALALUMPUR', 'HIGHWAY MUMBAI', 'BADARPUR (SOUTH DELHI) NEW DELHI', 'VERSOVA ANDHERI WEST MUMBAI', 'UDEYPUR (RAJ)', 'CANDOLIM BARDEZ', 'KAMOTHE', 'DADRA AND NAGAR HAVELI', 'BAIRIYA', 'KADLAS', 'MIDC NAGPUR', 'MAHE', 'BHAWARNA', 'MACHHAILA SAS NGR PANCHKULA MOHALI', 'SANGAM CHENNAI', 'TIRUPATI (URBAN)', 'NILUPPURAM', 'BADAGARA', 'MEERA BAI HOSPITAL HOSUR', 'V.V.NAGAR', 'BULADHANA', 'NOIDA SEC 77', 'CANDOLIM', 'CASH AND CARRY KOLKATA', 'SAHA GANG', 'UDAIPURA', 'DHANBAD DIST', 'NANDGAON', 'SARJAPURA RD BENGALURU', 'WEST MUMBAI MUMBAI', 'JAMBUDA', 'ANAND VIHAR MEDICAL SHOP MUMBAI', 'BEMETARA', 'CHANGNACHERRY', 'KOTTAYAM DIST', 'GHODAPDEV MUMBAI', 'BASAVANAGUDI BANGALORE', 'MANDIR ASANSOL', 'LAXMI NAGAR HYDERABAD', 'VANGNI W', 'CUDDALORE(DT)', 'VASAI WEST', 'ABUDHABI', 'BACKSIDE TIRUPUR', 'NERUL NR POWER HOUSE NAVI MUMBAI', 'MADURAI RURAL', 'ARIYAPPAPURAM', 'HIGHCOURTJABALPUR', 'FORTIS HOSPITAL BANDUP W MUMBAI', 'KURLA (W) MUMBAI', 'KOTHRUD PUNE (M CORP) PUNE PUNE', 'OFFICE VADODARA', 'CULCUTTA', 'SADAVALI', '1601360 BANGALORE', 'ROHINI', 'PARK MUMBAI', 'ALBION', 'AUNDH PUNE', 'HAUZ RANI', 'SEHORE', 'CHOWK AURANGABAD', 'ODDANCHATRAM', 'SENAI', 'SUBURBAN MUMBAI', 'SERVICE CENTER BANGALORE', 'SANTACRUZ EAST MUMBAI', 'ULHAS NAGAR', 'WOKHA', 'CHAMBA', 'GAUTAMBUDDHNAGAR', 'OFFICER MUMBAI', 'KOPERKAIRNE', 'BENGALOORE', 'BHADRAKALI', 'ERODE DT', 'SRIVILLIPUTTUR', 'DT HOSUR', 'ROMPICHERLA GUNTUR', 'DHAMLEY', 'PONDICHERRY TALUK', 'JABALPUR ADHARTAL JABALPUR JABALPUR', 'DAHANU ROAD W', 'TIRUVALLUR', 'DESAI ROAD ANDHERI WEST MUMBAI', 'SIRKAKULAM', 'APPA JUNCTION HYDERABAD', 'VAPI', 'PITHAMPUR', 'MANKUVA BHUJ', 'ELURU', 'GWALIOR', 'JHARKHAND RANCHI', 'PARAVADA', 'SINGHBHUM JAMSHEDPUR', 'CLERMONT FERRAND', 'MORADA', 'ROAD ANDHERI (EAST) MUMBAI', 'BARODA VADODARA', 'BAIHAR', 'GAUTAM BUDH NAGAR', 'DHARBANDORA SOUTH', 'DMART THANE', 'BLK JAKKASANDRA BANGALORE', 'CHIKUWADI SURAT', 'BAWAL', 'BENAULIM', 'LORETO COLLEGE DARJEELING', 'DIST JAUNPUR', 'SULTANATE OF OMAN', 'KALWA W THANE', 'KHAIRTAL', 'CHETNA COLLEGE BANDRA E MUMBAI', 'KESTOPUR MORE KOLKATA', 'PARK -III GREATER NOIDA', 'KHUNDIAN', 'UDUMALPET TIRUPUR (DT)', 'PARK CHURCH RD COIMBATORE', 'BAVLA  AHMEDABAD', 'KANCHEEPURAM', 'ROAD ANDHERI (W) MUMBAI', 'AMBERNATH E', 'KUALA LUMPUR', 'AMBEDKAR NAGAR', 'TRINELVELI DT', 'OFFICE PURBA MEDINIPUR', 'THANE DISTRICT', 'NEAR BALAJI TEMPLE NAVI MUMBAI', 'MALLESWARAM BANGALORE', 'KALYAN W', 'SAGARESWAR', 'SAHIBJADA AJIT SINGH NAGAR', 'TIRUCHIRAPALLY', 'PHASE III GURGAON', 'DHURWA', 'SEC-127 NOIDA', 'BHD SPLENDER HALL NASHIK', 'AGRA ROAD NASHIK', 'FOREST OFFICE SHAHAPUR', 'CHOWKI BAVDHAN PUNE', 'PERUVANTHANAM', 'KANDIVALI (E) MUMBAI', 'SOUTH TRIPURA', 'YOKOHAMA-SHI', 'BUDAUN', 'MESAIEED', 'DANGWALGAON JAKHOLI RUDRAPRAYAG', 'CAMPBELL', 'BLOCK-I POCKET-D NEW DELHI', 'AMBARNATH EAST', 'LTD ANDHERI WEST MUMBAI', 'FEDERAL BANK HYDERABAD', 'KADAVANTHRA', 'TARA VIDHYALAY SURAT', 'OSAKA', 'KOPERKHAIRNE NAVI MUMBAI', 'KHAMAM', 'NR ARCHANA SCHOOL SURAT', 'ELECTRONIC CITY PO BANGALORE', 'PHAGWARA', 'JOGESHWARI (WEST) MUMBAI', 'NAVI MUMBAI NERUL (W)', 'ELPHINSTONE WEST MUMBAI', 'KOTTAM CHENNAI', 'HOUSE NEW DELHI', 'POONAMALLI', 'JOYALUKAS LANE HYDERABAD', 'MEDAK DIST', 'HARIPAD', 'JYOTIBA PHULE NAGAR', 'BEAWAR', 'NEAR JEHANGIR HOSPITAL PUNE', 'SAMITY RANCHI', 'SCHOOL GOREGAON (E) MUMBAI', 'DIGHI PUNE', 'NR AUDI SHOWROOM ELECTRONIC CITY PO', 'SECT-24 AND 25A GURGAON', 'SHAIKPET HYDERABAD', 'OFF SRINAGAR POLICE STATION THANE', '1ST BLK JAKKASANDRA BANGALORE', '(SUB URBAN) MUMBAI', 'CHUNNABHATTI SIGNAL SION (E) MUMBAI', 'THALASSERY MUNICIPALITY', 'BADAUN BADAUN', 'TIRUPPUR DISTRICT', 'NEYYOOR POST', 'AMRITSAR- 1', 'KARIAPATTI', 'DIST BHOPAL', 'THENILGIRIS', 'AND CORPORATION BANK ATM BANGALORE', 'COTTON GREEN WEST MUMBAI', 'ROAD VASAI THANE', 'MULUND STATION MULUND MUMBAI', 'AZAWL', 'VEEYANNOOR', 'KAROLEE', 'YES BANK  BOISAR', 'HALL S V ROAD MUMBAI', 'KALNA', 'MIDNAPUR', 'DEPARTMENTAL STORES CHENNAI', 'VANBHORI', 'WADGAONIHERI PUNE', 'PAREDE MUMBAI COLABA', 'NR INDAN OVESEAS BANK MANGALORE', 'COLLEGE VASNA AHMEDABAD', 'SURYA BHAWAN BHOPAL', 'TANENGLONG', 'NORTH 24 PARGANS', 'MULUND W', 'KATEMANIVALI KALYAN THANE', 'KADUBEESANAHALLI BELLANDUR POST', 'QUTUBULLAPUR', 'CHINMAYA VIDYALAYAM HYDERABAD', 'PALGHAR VASAI', 'JALANDHAR', 'SECTOR BANGALORE', 'B LORE NORTH BANGALORE', 'ANDHER W MUMBAI', 'ESTATE ALAPKKAM CHENNAI', 'RD SANPADA NAVI MUMBAI', 'POST YELAHANKA HOBLI BANGALORE', 'DWARKA NEW DELHI', 'NALASOPARA W PALGHAR', 'IGATAPURI DIST NASHIK NASHIK', 'BORIVALI, MUMBAI', 'PATHANKOT PATHANKOT', 'VIJAYAWADA (URBAN)', 'THOMAS TOWN BANGALORE', 'JAHANGIR HOSP PUNE', 'GIDDALUR PRAKASAM DISTIC', 'ELECTRICAL SHOP MUMBAI', 'NAGPUR WARD NO 49 NAGPUR', 'NAGAPUR SHAHAR NAGPUR', 'NIIMB POST BANGALORE', 'COLLEGE HYDERABAD', 'NR FLOWER MARKET HYDERABAD', 'MARRIAGE GARDEN JAIPUR', 'SHAMSHABAD MANDAL RR DIST', 'KANDIWALI EAST', 'RAJAMANDRY', 'NEW LINK ROAD ANDHERI (W) MUMBAI', 'DURGA LODGE THANE', 'TALUK KANCHEEPURAM DIST', 'DARIBA', '2 GOREGAON (E) MUMBAI', 'BHAYANDAR WEST', 'SEONI MALWA', 'RAILWAY STN NAVI MUMBAI', 'SANJIVANI BLD MUMBAI', 'TALUKA-ANJAR  GANDHIDHAM', 'RANOLI', 'MATIHA', 'BEGUSARAI', 'JOGESHWARI (EAST) MUMBAI', 'KALYAN E', 'DEHRI ON SONE', 'RAEBARELI', 'THANE-WEST', 'MATUNGA E MUMBAI', 'VIDYAGIRI', 'GHATAMPUR', 'MUMABAI', 'BANGALORE URBAN', 'NEAR GOLOK DHAM DELHI', 'NALASOPARA (E)', 'LAKKAVARAM', 'BUILDING OUTER RING ROAD BANGALORE', 'UDAWADA', 'CHOPAL NEW DELHI', 'CENTRE MAJIWADA THANE', 'THANE VASAI THANE', 'MANDI', 'TARAPUR APP THANE THANE', 'RUDRAPUR', 'POONAM CHAMBERS WORLI MUMBAI', 'GHAZIZBAD', 'ROAD CHURCHGATE MUMBAI', 'AHMADABAD', 'DESAI RD ANDHERI (W)MUMBAI', 'MEDAVAKKAM CHENNAI', 'JARADA', 'JEKEGRAM THANE', 'MARATHAHALLI COLONY BANGALORE NORTH', 'KANDIVALI EAST MUMBAI MUMBAI', 'SHERI PUNE', 'DAHISAR (W) MUMBAI', 'SANGHOL', 'HAJO', 'GATE AGRA', 'SBS NAGAR', 'NAGEERCOIL', 'LAKHTAR', 'BICHHIWARA', 'GIURGAON', 'BHIWADI ALWAR', 'HATHIN', 'POR', 'TILAK NAGAR CHEMBUR', '13-5-431/A/1 HYDERABAD', 'MALABAR HILL MUMBAI', 'JAJPUR', 'BASTI', '21A FARIDABAD', 'KANJURMARG EAST', 'DELISLE ROAD DELISLE RD MUMBAI', 'VEREM', 'VAGATOR', 'KASARGOD', 'CHICALIM', 'HIGHWAY THANE', 'MYSORE', 'OPP HOTEL SHABRI MUMBAI', 'RAMNAD', 'UNJHA', 'SEAWOOD NERUL NAVI MUMBAI', 'POGURUPALLI', 'MUMBAI \\xa0\\xa0\\xa0\\xa0\\xa0\\xa0', 'EAST RB MARG MUMBAI', 'ATELI', 'RAJKOT MAVDI', 'BARASAT KOLKATA', 'MARKET CHENNAI', 'BHANDEWADI BAGADGANJ MAUDA NAGPUR', 'TEL EX NEXT TO GAYATRISADAN PUNE', 'BHADRWAH', 'CARINDALE', 'HILL GOREGAON (W) MUMBAI', 'DOORVANI NGR PO BANGALORE', 'REVDER', 'KRISHNA', 'COLLEGE BANGALORE', 'SONAMURA', 'ANDHERI KURLA ROAD MUMBAI', 'THANJAVUR (DT)', 'THANE VIRAR E', 'LAWSPET PONDICHERRY', 'COLLEGE JALANDHAR', 'VIKASNAGAR DEHRADUN', 'GADWAL', 'RD MUMBAI', 'KASAVANAHALLI BENGALURU', 'ANDHERI W MUMBAI', 'DOMBIVILI WEST VISHNUNAGAR THANE', 'EDAPPADI', 'EMBASSY BANGALORE', 'KOLHAPUR', 'MANDIR BHIWANDI', 'PUTPUTIA', 'BHAYANDER WEST THANE', 'CHANDEL', 'VIZIANAGARAM', 'DIVA EAST THANE', '24 PARGANAS NEW RAIPUR', 'RAI BARELI', 'KUNDANAHALLI BROOKFIELD BANGALORE', 'VIJAYAWADA RURAL', 'HE NR POCHAMMA TEMPLE MEDAK', 'RING ROAD BANGALORE', 'BHINMAL', 'ASHRAM MUMBAI', 'MADHEPURA', 'PALACE SILCHAR', 'SBI BANK MUMBAI', 'CHIPLUN', 'KALYAN WEST KALYAN', 'AHAMEDNAGAR', 'EXTENSION OSHIWARA MUMBAI', 'VERNA SALCETE GOA', 'VADAGAV SHINDE HAVELI PUNE', 'RAJAWADI MUMBAI', 'KODAMBAKKAM', 'BEAWAR D AJMER', 'OUTERRING ROAD BANGLORE', 'STATE BANK OF MYSORE PUNE', 'TATADOCOMO TOWER SAFIDON', 'PERUMBAKKAM CHENNAI', 'PURBA MIDNAPUR', 'DAKSHIN DINAJPUR', 'BRAMPTON', 'TRIRUPATI NAGAR II VIRAR W THANE', 'LAUBANJ', 'RAIPUR C G', 'ETTAYAPURAM', 'BANERGHATTA ROAD BANGALORE', 'TALAV VIRAR (EAST) THANE', 'MARIAHU', 'ASHOK NAGAR BANGALORE', 'ROAD MUMBAI', 'DASUYA PUNJAB TANDA', 'PERAMBALUR DT', 'GURGAOPN', 'INTERNATIONAL SCHOOL GOVANDI MUMBAI', 'ERLANGEN', 'BUNDER MALAD WEST MUMBAI', 'NR BHATAR TRADE CENTRE SURAT', 'PANCHASAYAR', 'DOMBIVALI E', 'GUJARAT BOTLLING CROSS RD AHMEDABAD', 'WEST CHINCHBUNDER MUMBAI', 'BALOTARA', 'WORLI COLONY MUMBAI', 'ALIAS DAULATPUR NASIRABAD63 GURGAON', 'VISKHAPATAM', 'CHIKKAMAGALUR', 'ROAD WARD NO 41 NAGPUR', 'NALLOSOPARA E THANE', 'AMRITSAR-2 DIST-AMRITSAR AMRITSAR', 'STATION CUTTACK', 'JIMBARAN', 'COUNTY HYDERABAD', 'NASIRABAD', 'SHUJALPUR', 'DARBAR GORAYA', 'NEW YORK', 'PUMP CHAKALA ANDHERI E MUMBAI', 'TROMBAY', 'WAYANAD', 'NEEMUCH', 'DUTTA MANDIR PUNE', 'HYDERABD', 'PALGHAR', 'GAITHERSBURG', 'RD BADLAPUR EAST AMBERNATH THANE', 'BUS STAND BANGALORE', 'RD SAKET NEW DELHI', 'ANTA', 'PALLAVARAM SUB POST OFFICE CHENNAI', 'SOUTH 24 PARGANS', 'JALANDHER', 'SHIVGANJ', 'SHAHADARA', 'TIRUCHENDUR', 'MALALGAON', 'EAST TEH THANE THANE', 'BHADURGARH', 'BADLAPUR', 'MARG KURLA WEST MUMBAI', 'JOGESHWARI-E-MUMBAI', 'OSHIWARA ANDHERI W MUMBAI', 'JUBAIL', 'NALLOSAPARA', 'VIRUDHUNAGAR VIRUDHUNAGAR', 'NAGAUR', 'UDUMBANCHOLA', 'KALAMBOLI NAVI MUMBAI', 'ARCHID BANGALORE', 'TIRUVANNAMALAI (DT)', 'EAST RIFFA', 'WADALA EAST MUMBAI', 'AMBUR', 'JHAJJAR', 'RAMAGUNDAM', 'SAIBABA MANDIR MUMBAI', 'ARVALLI', 'ARRAH', 'BAIE', 'SANJOSE', 'BEHIND JW MARIOTT PUNE', 'VILLAGE TUNGWA ANDHERI EAST', 'KODAGU', 'OFFICE THRISSUR', 'NAMSAI', 'PORUR CHENNAI', 'HATFIELD', 'MIRAROAD EAST', 'RAMANAGARAM', 'NR CHUNABHATTI DEPO AND STN MUMBAI', 'K V RANGAREDDY HYDERABAD', '2ND RABODI THANE', 'NAGAR PUNE', '24 PGS', 'BADALAPUR-W', '(N) 24 PGS', 'ORLANDO', 'MULUND MUMBAI', 'KRISHNAGIRI(DT)', 'G.B. NAGAR', 'HOSPITAL VIKHROLI E MUMBAI', 'HYDRARABAD', '(E) THANE SECTOR 3', 'DIST HOOGHLY', 'CHIKKMAGALUR', 'S/W UNITS LAYOUT MDHAPUR HYDERABAD', 'KHURD NASHIK', 'BHIWANI', 'SIDHI', 'YARD PUNE CITY PUNE', 'NOIDA NOIDA', 'AMBER', 'KALPAKKAM', 'HILLS MADHAPUR HYDERABAD', 'PIMPALGAON (BASWANT)', 'ICICI BANK MUMBAI', 'SHIBPUR HOWRAH', 'HOTEL MUMBAI', 'VISHAKHAPATNAM', 'WEST MEDENIPUR', 'HOTEL SIVASAGAR', 'NEAR KADAMWADI PRAGATI SCHL MUMBAI', 'PENDURTHI', 'ELAMBAL', 'VILE PARLE(E) MUMBAI', '1 GURGAON', 'LINK ROAD ANDHERI MUMBAI', 'MULUND EAST', 'AND POOR OFFICE PUNE', 'BIG BAZAR BANGALORE', 'TIRUPATHI', 'UDAYARPALAIYAM', 'MALLESHWARA BANGALORE', 'EX SERVICEMAN COLONY PUNE', 'DIST SENAPATI', 'NALLOSPARE E THANE', 'CHANDIGARH', 'MULUND WEST', 'BOISAR W', 'STATION KAUSHAMBI', 'RENAPUR', 'RESIDENCY BANGALORE', 'HAVELI NR PRIDE ASHIYANA PUNE', 'ROAD THANE THANE', 'GHATKOPAR(W) MUMBAI', 'VELLORE DT', 'URBAN VISAKHAPATNAM', 'ODISSA BHAVAN VASHI NAVI MUMBAI', 'PARGANAS', 'KHANNA DIST-LUDHIANA', 'AQUEM MARGAO', 'SAWANTWADI', 'DIST PUNE PUNE', 'BRIDGE BANGALORE', 'NO 2 SUBHASH NAGAR THANE THANE', 'BHAWN CHHINDWARA', 'CHEMBUR EAST MUMBAI', 'SWEETS PUNE', 'BANSULA', 'KORAMANGALA 1ST BLOCK BANGALORE', 'PHULBANI', 'MIRA BHAYANDER', 'KEONJHAR', 'OPP UNN JAKAT NAKA SURAT', 'BORIVALI E', 'SANGAM VIHAR', 'SONARPUR', 'THANE (WEST) THANE', 'BANK LANE MUMBAI', 'KALIKAPUR', 'NALLASOPARA EAST', 'NALLASOPARA (EAST)', 'THANE EAST', 'KYOTO', 'KOZHIKODE DT', 'ELPHINSTONE W MUMBAI', 'METRO STN HALASURU BANGALORE', 'ELPHISTONE (W) MUMBAI', 'REPUBLIC DEMOCRATIC OF CANGO', 'DOMBIVALI THANE', 'W E HIGHWAY MUMBAI', 'PUNDARI', 'HOSPITAL BANGALORE', 'POST KANDRA JAMSHEDPUR', 'HOSPITAL THANE WEST', 'PACHORE', 'OFFICE GUNTUR', 'KOTTARAKKARA', 'KANHA RESTURANT JAIPUR', 'BANASKANTHA', 'RIIHIMAKI', 'CHUNABHATTI SIGNAL SION E MUMBAI', 'ROOP NAGAR', 'SCHOOL PUNE', 'NALASOPARA E', 'WEST UMELE BASSEIN ROAD THANE', 'NEARUL (W) NAVI MUMBAI', 'BANGALROE', 'TEMPLE THANE', 'TRIPURA', 'DHURI DIST SANGRUR', 'VIJAYA NGR OPP WATER TANK BANGALORE', 'KAIMANAM THIRUVANATHAPURAM', 'MEMPHIS', 'PALPA', 'DOMBIVALI -WEST,THANE', 'UDALPUR', 'KANCHEEPURAM ALANDUR', 'PARK PHASE-01 HINJEWADI PUNE', 'STAGE INDIRANAGAR,BANGALORE', 'ZOPADPATTI TEHSIL KURLA MUMBAI', 'HILL PARK COMP JOGESHWARI W MUMBAI', 'KAIRA', 'PRATHIPADU', 'PATTUKOTTAI', 'ABOHAR', 'BADLAPUR WEST THANE', 'EXCHANGE KOLKATA', 'MAJIRDANGA', 'BIETIGHEIM BISSINGEN', 'SUSARI', 'KATARIYA MOTORS AHMEDABAD', 'VILE PARLE W MUMBAI', 'PETHE GHOKHALE ROAD THANE (W)', 'KLINE SK AHIRE MARG WORLI MUMBAI', 'NAGAR PADA NO 4 THANE WEST THANE', 'MANDIR VADODARA', 'NAGAR POST BANGALORE', 'PUMP AHMEDABAD', 'MUMBAI CITY TEHSIL MUMBAI CITY', 'IND EST ANDHERI (W) MUMBAI', 'VASUNDRI MANDA KALYAN THANE', 'ROAD VALSAD', 'HOSPITAL RAJKOT', 'GANESH TALAV PARMAR PARK PUNE', 'BANSGAON', 'NAGAR OPP ICICI BANK BANGALORE', 'THIRUVANAMALAI DT', 'DEPT SILCHAR', 'KANGRA', 'PARGANAS TWENTY FOUR PARGANAS', 'TEMPLE VISAKHAPATNAM', 'EXPRESS HIGHWAY SION E MUMBAI', 'MANDIR HALL NAVI MUMBAI', 'DEHRARUN', 'TRICHY URBAN', 'CHARKOP KANDIVALI (W) MUMBAI', 'JEWELLERS MUMBAI', 'ROAD KATARGAM SURAT', 'COLONY THANE EAST THANE', 'ANDHERI RAIL WAY STN MUMBAI', 'BHANDARA', 'POLICE STATION KOLKATA', 'EAST DELHI DELHI', 'MAUR MANDI', 'HOTEL THANE', 'NAMALGUNDU', 'SIGNAL SION (E) MUMBAI', 'GOPALAN LEGACY MALL BANGALORE', 'REDDIYUR SALEM', 'RAOD BASAVESH WARANAGAR BANGALORE', 'SULUR', 'IDUKKI', 'ARAKONAM', 'EMAKULAM', 'CHIKMAGALUR', 'KHURD TAL MULSHI  PUNE', 'MARKET VISAKHAPATANAM', 'CHITTATTUKARA', 'BHAYANDER EAST', 'GHINGHARTOLA TEH BAGESHWAR DIST', 'KHAR KHAR DELIVERY MUMBAI', 'KANDIVALI  WEST MUMBAI', 'BARABANKI', 'TIJARA', 'KANJURMARG W MUMBAI', 'SANGLI', 'RING RD DEVERABESANAHALLI BANGALORE', 'KORMANGALA 4TH BLOCK BANGALORE', 'AUBURN', 'BAMBOLIA', 'DAVORLIM SALCETE', 'DHARAMSALA DHARAMSALA', 'RADPURA', 'SOUTH WINDSOR', 'GIRGAON MUMBAI', 'SIYANA', 'TOWERS AHMEDABAD', 'GURAON', 'SHAKARPUR GANDHI NAGAR EAST DELHI', 'PARBAT', 'CHROMPET CHENNAI', 'VILLIPURAM DIST', 'OP ROAD VADODARA', 'MALIGRAM', 'STATION GURGAON', 'BAGESHWAR', 'DISTRICT RAIGARH', 'MATHERAN RD NAVI MUMBAI', 'UTHIRAMERUR', 'VADDEM', 'VVNAGAR', 'UTTARKASHI', 'KOZHENCHERRY', 'GHATKOPAR MUMBAI', 'AMBERNATH W', 'TIRUCHI', 'PANANGAD', 'LASHKAR CITY', 'MARKET SANJAY GRAM RD GURGAON', 'SALALAH', 'BESIDE AXIS BANK MARINE LINESMUMBAI', 'SURYAPET', 'KUALA LAMPUR', 'STATION VARACHHA', 'KRISHNANAGAR', 'NEAR JEHANGIR HOSPITAL  PUNE', 'ARWAL', 'A TEMPLE HYDERABAD', 'DAIMOND DIST BANGALORE', 'CUDDAPAH', 'HARI PETHE JWELLS THANE', 'GANAUR', 'DIST REWARI', 'INDIAN BANK BANGALORE', 'OPP SONAL BUILDING MUMBAI', 'GUDALUR', 'NALLAKUNTA HYDERABAD', 'SALAI CHENNAI', 'DISTT JHAJJAR', 'KUTCH', 'TOONGABBIE', 'KARKHANA HYDERABAD', 'STOP KOLKATA', 'SECUDERABAD', 'JAMSHEDPUR EAST SINGHBHUM', 'RANGA REDDY DISTRICT', 'LAKHI SARAI', 'KARKALA TALUK', 'ESTATE MUMBAI', 'BAIJNATH', 'SRIGANGANAGAR', 'UNNAO', 'STATION WOC RD RAJAJINGR BANGALORE', 'RAIGAD URAN', 'JANDIALA AMRITSAR', 'WAGHOLI PUNE', 'SURAT CITY SURAT', 'ILFORD', 'FOUNDATION BHOSARI PUNE', 'CENTRE LOWER PAREL MUMBAI', 'MARKET NAVABVADI BEGUMPURA SURAT', 'ROAD GREATER NOIDA', 'BHAYANDER (EAST) THANE', 'RAINBOW PLAZA PUNE', 'MEDAK', 'BAKROL', 'E MUMBAI', 'NARIMAN POINT  MUMBAI', 'TAURU TAORU MEWAT', 'KOTKASIM', 'KANAKAPUR TQ RAMANAGAR', 'KORATTY P O THRISSUR', 'GOLDEN AC TEMPLE MUMBAI', 'SOUTH BOPAL AHMEDABAD', 'FACTORY ANDHERI-E MUMBAI', 'VANGOAN', 'VIJAYARAI', 'VASCO', 'EMPORIUM MUMBAI', 'PADA NO 4 THANE', 'PARATWADA', 'NAGAON DIST', 'CHSL NEAR D MART THANE W', 'COFFEE DAY PUNE', 'KOTHANUR BANGALORE', 'MAHALAKSHMIPURAM BANGALORE', 'APARTMENTS CHENNAI', 'MALAD(W) MUMBAI', 'VAJAN KATA PUNE', 'DREAMS THE MALL MUMBAI', 'SION (E) MUMBAI', 'PUNE DIGHI CAMP PUNE', 'KUNNAMKULAM', 'BAHADURGAR', 'HALDIA', 'B/H ATM UNION BANK OF INDIA NASHIK', 'SANGAMNER', 'GUMLA', 'ZUNHEBOTO', 'JN ABOVE REDWOOD BANGALORE', 'H S S ALUVA ERNAKULAM', 'FIROZPUR', 'TADEPALLIGUDEM WEST GODAVARI', 'UDUPI', 'LANEMIYAPUR HYDERABAD', 'VRINDABAN', 'PHASE 3 GURGAON', 'PERIYARAMAPURAM', 'SECTOR-11 MATRO STATION NEW DELHI', 'KAITHAL', 'TEH PAURI PAURI GARHWAL', 'WEST MUMBAI WADALA MUMBAI', 'BASTAR', 'BG ROAD BANGALORE', 'RUIA HOUSE MUMBAI', 'KHED RAJGURUNAGAR', 'NAGAR THANE', 'BEHROR', 'PEDDAVADUGUR', 'SURENDRANAGAR', 'NAGAR (MOHALI) MOHALI', 'RUDRAPRAYAG', 'VAISHALI', 'SAHARANPUR DHAKDEI', 'STOP MUMBAI', 'OPPOSITE YES BANK DELHI', 'ARMUR', 'VALLABHVIDYANAGAR', 'SONEPUR', 'SECUNDERABAD HYDERABAD', 'RLY STATION ELPHISTONE ROAD MUMBAI', 'KARKUDALPATTI', 'DIST MAHESANA', 'MILTON KEYNES', 'INSTITUTE BURDWAN', 'AREA MOHALI', 'CIRCLE SURAT', 'HAZARIBAG', 'JB NAGAR CHAKALA ANDHERI E MUMBAI', 'VARANAVASI', 'RAE BARELI', 'THIRUNELVELI DIST', 'SARAIKELA KHARSAWAN', 'MYSORE BANGALORE', 'PACHALAM', 'DR E MOSES ROAD MAHALAXMI MUMBAI', 'WINES CHARLAPALLY HYDERABAD', 'JOUNK)DISTT PAURI GARHWAL RISHIKESH', 'AIZAWL, MIZORAM', 'BHIMTAL', 'VAGHASI', 'PCMC PIMPRI PUNE', 'GADAG', 'SANTACRUZ W MUMBAI', 'TARKAS CLINIC MUMBAI', 'DATTAWADI THANE KALWA W THANE', 'TO PET S SHOP KADAVANTHRA KOCHI', '(PIGEN) BANGALORE', 'VELIM SALCETE', 'GHUMARWIN', 'LANE EKSAR RD BORIVALI MUMBAI', 'MASJID BUNDER (W) MUMBAI', 'RAMNAGAR NAINITAL RAMNAGAR', 'PREMISES KALYANI NAGAR PUNE', 'SAMPANGI RAM NAGAR BANGALORE', 'BEHIND BALAJI ANDHERI (W)MUMBAI', 'KHETRI NAGAR', 'KASAULI', 'HIGHWAY SION E MUMBAI', 'VALSAD', 'EVARARD NAGAR SION (E) MUMBAI', 'CHARKOP KANDIVALI W MUMBAI', 'GOWDOWN NEW DELHI', 'COLABA', 'GARDEN RD NR JEHANGIR HOSPITAL PUNE', 'SAN JOSE', 'CHURCHANPUR', 'FURSUNGI PHURSUNGI PUNE HAVELI', 'SHOWROOM THANE', 'RANGAREDDY DIST', 'RAJASTHAN JHALAWAR', 'MURSHIDABAD', 'NEVILLE HOUSE MUMBAI', 'DIST DHANBAD', 'BURUCH', 'VANIYAMBADI', 'BEED', 'MAARSSEN', 'EXCHANGE SONIPAT', 'KOIL BACK SIDE CHENNAI', 'ABOVE CHIRAG MOTORS MUMBAI', 'BEGUMPET SECUNDERABAD', 'WEST DELHI DELHI', 'CHUNABHATTI SIGNAL MUMBAI', 'NAGAR KALYAN THANE', 'SARJAPURA', 'PETROL PUMP KHARAGPUR', 'SARITA VIHAR FIRE STATION NEW DELHI', 'MALL ANDHERI WEST MUMBAI', 'NALLASOPARA WEST', 'VIRAR EAST THANE', 'MANAMA', 'WEST THANE KASARVADAVALI', 'BAGDAH', 'SHAHBAD', 'ALAM ROZA AHMEDABAD', 'SAFDARJUNG ENCLAVE NEW DELHI', 'NR DELL OFFICE HYDERABAD', 'LALITPUR', 'GANGAPUR', 'PUNE MUMBAI HIGHWAY PUNE', 'ALMORA BHIKIYASEN', 'MIRA ROAD-E THANE', 'TULSIWADI MUMBAI MUMBAI', 'JABALPUR JABALPUR', 'NAGAR SION (E) MUMBAI', 'NR SAI MANDIR MUMBAI', 'THEATER VADGAONSHERI PUNE', 'ESTATE FARIDABAD', 'SHIMOGA- DISTRICT', 'ROAD KALOOR POST', 'TRIUPPUR', 'UTTAR PRADESH', 'THANE P O BHAYANDER (E) THANE', 'NAGANUR', 'SHOWROOM MANGALORE', 'HAUZ KHAS', 'BENGALUR', 'GANESH TEMPLE PORVORIM', 'UTTARAKHAND (PITHORAGARH)', 'JEHANGIR HOSPITAL PUNE', 'BARELLIY', 'SEKMAI', 'SHAH RESIDENCY GANGTOK', 'DHADKA', 'NEAR YESBANK OPP ROAD BANGALORE', 'UNIVERSAL PIPESS RIGH HAND MUMBAI', 'KOTTOPPADAM PO', 'DIST MOHALI', 'CHEMBUR E MUMBAI', 'BANASHANKARI2ND STAGE', 'BETWEEN 10TH TO 11TH BANGALORE', 'JHABUA', 'TAVEREKERE BANGALORE', 'CENTER DUBAI', 'DHOLPUR', 'MILLS MUMBAI', 'KATEWADI', 'VAN MIRA RD THANE', 'INTERNATIONAL SCHOOL HYDERABAD', 'BHILAI DISTT DURG', 'BILEKHALE BANGALORE', 'TAHNE', 'DASAJ', 'GARDEN GHAZIABAD', 'DISTT REWARI', 'PUNE SASWAD ROAD PUNE', 'JAMSHEDPUR', 'JAIPUR DURGAPURA', 'MEGHPAR BORICHI', 'BOMMANAHALLI BANGALORE', 'ADILABAD', 'DENTAL COLLEGE BANGALORE', 'HAWRAH', 'DARADP ROAD MUMBAI', 'BADAPARA', 'HHI BHUBANESWAR', 'SHOWROOM MUMBAI', 'BHOSALE NAGAR PUNE', 'PLATFORM MUMBAI', 'MAHESANA', 'MUNUGODE', 'ZULFA DAIRY MUMBAI', 'SILVASSA', 'SHASTRINAGAR SAKINAKA MUMBAI', 'WEST MEDINIPUR', 'PHURSUNGI PUNE', 'GUNJAN GIDC VAPI', 'PURAM BANGALORE', 'KALYAN (W)', 'JAMBUSAR', 'MUNCHEN', 'UTTARPARA', 'BULANDSHAHR GULAOTHI', 'UMBAR PADA', 'SCHOOL LANE HYDERABAD', 'DEHRADUN', 'GURUNANAK DHARMASHALA INDORE', 'SHAHIBABAD', 'RANIGANJ', 'BHIWARA', 'TEZPUR SONITAPUR', 'BHODBUNDER ROAD THANE', 'ALAIN', 'ELECTRONIC CITY BANGALORE', 'BYCULLA MUMABI (MUMBAI CENTRAL)', 'MSRIT CAMPUS BANGALORE', 'THANE WAGLE IE THANE', 'OFFICE MRA 62 H N  TRIVANDRUM', 'RATTAN RAIPUR', 'VISHALI OPP DABUR GHAZIABAD', 'NEAR RADISSON HOTEL PUNE', 'GURGAON ROAD DUNBAHERA GURGAON', 'LOKHANDWALA COMPLEX MUMBAI', 'NEXT TO NEUILLE HOUSE MUMBAI', 'RESTAURANT NEW DELHI', 'CHANDAULI', 'MALAPPURAM DIST', 'GOREGAON (W) MUMBAI', 'SRIPERUMBUDUR TALUK KANCHEEPURAM', 'KHANPUR SARAN', 'CHAPRELI', 'BHATAPARA', 'GRAMPANCHAYAT PUNE', 'SRIVILLIPUTHUR', 'PATNAGARH', 'TUTIKURIN', 'MADURAI', 'EAST VASAI', 'GOPALPURI TALUKA-ANJAR GANDHIDHAM', 'G B  NAGAR', 'THIRUVANNAMALAI DIST', 'FAMILY CHURCH CHAKALA MUMBAI', 'NEW ST BUS STAND JALGAON', 'AMBANI HIGH SCHOOL SURAT', 'TRIVANDRUM TRIVANDRUM', 'TALOJA', 'MADURAI (DT)', 'S K AHIRE MARG WORLI MUMBAI', 'SANVORDEM SOUTH', 'KALIKAMBAL KOIL PARRYS CHENNAI', 'HOSAKEREHALLI POST BANGALORE', 'VASAI VIRAR MUNICIPAL PALGHAR VIRAR', 'DELHI EAST', 'KUPWARA', 'NAMAKKAL DT', 'OPP MEGHANA BIRYANI POINT HYDERABAD', 'KALYANI DT-NADIA', 'PRATAPGARH', 'JAITALA NAGPUR', 'W G DT', 'LAL HOSPITAL NEW DELHI', 'REWARI (HARYANA)', 'ROAD FARIDABAD', 'DHERADUN', 'HOSHIARPUR PUNJAB HOSHIARPUR', 'DIST SIBSAGAR', 'GATE NO 4 MUMBAI', 'SALWA', 'FIROZABAD', 'MARG PRABHADEVI MUMBAI', 'GAUTAM BUDHNAGAR', 'BHOLATH', 'PARK PHASE 1 HINJEWADI PUNE', 'UTTAMNAGAR DWARKA WESTDELHI DELHI', 'RAMANTHALI', 'G P O RANCHI', 'PETROL PUMP MUMBAI', 'SURREY', 'UDALA', 'TEYNAMPET CHENNAI', 'BARGAON', 'LOWER DIBANG VALLEY', 'ZIRAKPUR', 'BUXI BAZAR CUTTACK', 'EDMONTON AB', 'EXTN NEW DELHI', 'NEAR MINI MART BANGALORE', 'MAIN ROAD P N PALAYAM COIMBATORE', 'HOSPITAL KOLKATA', 'W BEHIND JANGLESHWAR MANDIR MUMBAI', 'HARIOM SOCIETY VIRAR W THANE', 'KR PURAM HOBLI BANGALORE', 'DWARKA (DELHI)', 'NAGAR BALTANA', 'OSMANIYA RLY STN HYDERABAD', 'PAREL E MUMBAI', 'MONGHYR', 'NANDASAN', 'PANAGARH', 'THIRUNELVELI', 'RAKASHWADI', 'BHAYANDER (E) MUMBAI', '24 KARAT MUMBAI', 'ROAD GREATER MUMBAI', 'BALOTRA', 'BALIKUDA', '(154) BHASKOLA FARIDABAD', 'DIST DUMKA', 'BUDDHA NAGAR', 'ANDHERI-W-MUMBAI', 'NARIMAN POINT MUMBAI', 'AMLA', 'PATHANMTHITTA', 'CARMONA SALCETTE', 'SULTANATE OFOMAN', 'BIMBISAR NAGAR GUREGAON (E) MUMBAI', 'W G DISTRICT (WEST GODAVARI)', 'KARAKULAM', 'ABHANPUR', 'MAHBUBNAGAR', 'CHOURAHA PATNA', 'ALWARDAS GROUND VISAKHAPATNAM', 'JOSHI MARG LOWER PAREL W MUMBAI', 'CORPUS CHRISTI', 'BIDAR DIST KARNATAKA', 'PURAPUZHA', 'DHATRI BAR AND RESTAURANT HYDERABAD', 'DUMKA', 'MADDUR', 'AHMED AND BROTHER TIMBER MART', 'SANUORDEM', 'ROAD DADAR WEST MUMBAI', 'MAHAD', 'HANUMANGARH', 'MOHALI ZIRAKPUR', 'BANGALORE', 'SARUD', 'MOTILAL NAGAR GOREGAON WEST MUMBAI', 'VYTILA ERNAKULAM', 'AMET', 'KAKINADA', 'AL NAHDA', 'KAMOTHE MUMBAI', 'EVARARD NAGAR SION E MUMBAI', 'KANNIYAKUM', 'NAGAR GHATKOPAR EAST MUMBAI', 'KARMANGHAT RANGAREDDI', 'DISTT-THANE THANE', 'BADAUN', 'KECHINNAYYAPALEM EAST GODAVARI', 'POINT MUMBAI', 'KANDIVALI WEST', 'KHURDA', 'NAGPUR RURAL', 'JINDWARI', 'NR JAGAJOG SANGHA GAYESHPUR', '(MCORP) 1/C NR HOTEL GRANT MUMBAI', '157/4 NEELKANTH NAGAR MUMBAI', 'SOLAPUR RD HADAPSAR', 'NO 2 GOREGAON (E) MUMBAI', 'CHOWK PUNE', 'LUCKNOW', 'NAGAR MORAR', 'TAORU', 'THANJORE DT', 'THANE (WEST)', 'NR VIVEKANANDTHA COLG CHENNAI', 'SAMITY CHANDANNAGAR', 'BANDRA EAST MUMBAI', 'WAZIRGANJ', 'STN WOC ROAD RAJAJINAGAR BANGALORE', 'KUDLU PUBLIC SCHOOL BANGALORE', 'MUMBAI CITY (MH) MUMBAI', 'BELAN GANJ AGRA', 'TAL BHIWANDI', 'THIRUVALLUR DT', 'NEAR MUMBAI PUNE HAIWAY PUNE', 'HSG SOC PUNE', 'THIRUVANDRAM', 'CENTRE VIJAYAWADA', 'ROAD SAKET DELHI', 'BALLABGHAR', 'EXCHANGE PS ROAD RANGAREDDY', 'CHANDOR SOUTH', 'BALAJI MANDIR MUMBAI', 'KOLAR-DIST', 'MUMBAI SUBURBAN MUMBAI', 'MYSORE RD BANGALORE', 'DESAI ROAD EXTN ANDHERI W MUMBAI', 'NR TV9 OFFICE MUMBAI', 'ANDHERI LINK ROAD ANDHERI W MUMBAI', 'TEHRIGARHWAL', 'RAJANAGARAM', 'DHOLAR MOTI DAMAN', 'CHATRA', 'SAKLESHPUR', 'THANE W JEKE GRAM', 'BALGA', 'SARAGADA', 'NEAR GUEST HOUSE ASWAPURAM', 'ANDAL', 'WILSON GARDEN BANGALORE', 'WESTERN RLY WORKSHOP MUMBAI', 'IMPHAL WEST', 'KHORDHA', 'BELTHANGADI', 'LIFESTYLE HYDERABAD', 'SANGHA CLUB KOLKATA', 'MUMBAI AIROLI THANE', 'GAUTAMBUDDHANAGAR', 'NAGARBHAVI BANGALORE', 'NR SAI HOSPITAL PUNE', 'NEVILLEHOUSE  MUMBAI', 'SADARMANGALA BANGALORE', 'V V NAGAR', 'SHYAM DHAM MANDIR KATHODRA RD SURAT', 'KULLU', 'NASHIK NASHIK', 'KHARSWAN', 'ANANDPURI', 'GOHANA', 'SAHEBGANJ', 'DISTRICT PUNE PUNE', 'MULUND WEST MUMBAI', 'DWARKA MORE METRO STATION NEW DELHI', 'RAIGARH (CHHATTISGARH)', 'BUS DEPOT MUMBAI', 'BASAVESHWAR NAGAR BANGALORE', 'SAIPUR', 'NAVI MUMBAI PANVEL', 'KALPI', 'KIDWAI NAGAR', 'THIRUCHIRAPPALLI', 'SHAHAD', 'THIRD FLOOR GURGAON', 'RASULIYA', 'GORAKH PUR', 'DAS HOSPITAL MUMBAI', 'LATUR', 'WALUJ', 'LUDHIANA KHANNA', 'GARHSHANKER', 'SIVAKASI', 'SAMSTIPUR', 'PURAM SAROORNAGAR RANGAREDDY', 'VIKHROLI E MUMBAI', 'ELPHINSTONE RD MUMBAI', 'JOGESHWARI (W) MUMBAI', 'OPP SHREE RESIDENCY SURAT', 'EAST KHASI HILLLS', 'BEHIND ACRES CLUB CHEMBUR MUMBAI', 'TIRUMALAGIRI HYDERABAD', 'HOTEL BANER PUNE', 'DASPUR II', 'MALL INDORE', 'MATHERAN ROAD NERE PANVEL', 'NADACKAL', 'EDISON', 'NEAR BLUE RIGDE SEZ PUNE', 'GANGANAGAR', 'SHOWROOM BANGALORE', 'SHIKARPUR', 'SHINE PUBLIC SCHOOL FARIDABAD', 'TALUKA ANJAR  GANDHIDHAM', 'NAROL AHMEDABAD', 'MUMBAI ANDHERI', 'RANGAREEDI P AND T CLY RANGAREDDI', 'SAHIB MANDI GOBINDGARH', 'UTTALI SATNA', 'MUMBAI NAVI MUMBAI', 'SIVASAGAR', 'SRIKAKULAM DIST', 'AHILYABAI HOLKAR RD MUMBAI', '(EAST) MUMBAI', 'MILL COMPOUND SURAT', 'UDAYARPALAYAM', 'BAVLA AHMEDABAD', 'SIGNAL SION (E) MUMBAIL', 'MANDA KALYAN THANE', 'KANDIVLI WEST MUMBAI', 'GOKARN', 'TUENSANG', 'OPP VKS MAHAL AMBATTUR CHENNAI', 'ISLAMABAD', 'PURAM, BANGALORE', 'GOLLAPELLY', 'RANGA REDDY', 'TEMPLE KOLLAM', 'THRRUVARUR', 'VASAI', 'PATRATUR', 'COMPLEX GURGAON', 'SHIRGAON BADLAPUR', 'KIDS NURSERY MUMBAI', 'KARMANGHAT K V RANGAREDDY HYDERABAD', 'TEMPLE CHENNAI', 'GADMALA', 'THAKURLI', 'PARK HYDERABAD', 'NAGAR DADRI', 'LALLAGUDA NEAR RRB HYDERABAD', 'LUTON', 'MALLESHWARAM BANGALORE', 'ALENCODVILAI', 'IVY ESTATE WAGHOLI PUNE', 'BUBANESWAR', 'MOIRA NORTH GOA', 'THIRUVANNAMALAI', 'MIRA ROAD (E) THANE', 'ELPHINTONE ROAD WEST MUMBAI', 'ROAD EMPID P11430 BANGALORE', 'BALBADDA', 'DHANKAWADI PUNE', 'INDIA VADODARA', 'SOUTH KONANAKE BANGALORE', 'ST THOMAS TOWN POST BANGALORE', 'RESTURANT JAIPUR', 'PARK SOC SURAT', 'ANGAMALY', 'KANNAUJ', 'ASANSOL', 'TUMKUR', 'FAIDABAD', 'OLD SANGVI', 'TRIPURA TELIAMURA', 'BUVAPADA AMBERNATH W', 'KALWA THANE', 'DIST MOHALI ZIRAKPUR', 'PARWANOO', 'ADAMPUR', 'DOMBIVALI WEST THANE', 'COIMBATORE RURAL', 'KAILSA', 'LAKHIMPUR', 'COLLEGE PATNA', 'GREATER MOHALI', 'PUNJAB', 'SAMSTIPUR DIST', 'RESTAURANT JAIPUR', 'ATA CHAKKI KHARAR', 'MALOUT (PUNJAB)', 'KOLKI ROAD UPLETA RAJKOT', 'MUSIRI', 'GHODBUNDER ROAD THANE', 'LAYOUT PH 1 MALLATHAHALLI BANGALORE', 'SAHIBJADA', 'VATAKARA', 'ABU ROAD', 'FAIRLANDS BEHIND ISHA YOGA SALEM', 'SWEET JUNCTION NASHIK', 'AL WAKRA', 'OLD PANVEL', 'MANAPALYA BOMMNAHALLI BANGALORE', 'J B NGR ANDHERI E MUMBAI', 'ANIK DEPOT MUMBAI', '80 FEET RD KORAMANGALA BANGALORE', 'PAS BARMER BARMER', 'INDUSTRIES PUNE', 'TAL HAVELI DIS PUNE', 'SHAKHA BHAWAN ANDHERI W MUMBAI', 'NALASOPARA ( E ) THANE', 'ROAD AHMEDABAD', 'NEAR HONDAI SHOW ROOM MUMBAI', 'KHARAGPUR', 'MUMBAI ANDHERI EAST', 'MOGAPPAIR', 'ARACKULAM', 'TECHNO SCHOOL BANGALORE', 'BRIDGE SANTACRUZ E MUMBAI', 'JUFFAIR', 'ROPAR', 'FLYOVER KHARADI BYPASS PUNE', 'BASAVESHWARANAGAR BANGALORE', 'HOSPITAL MUMBAI', 'JABALPUR', 'ROAD ERNAKULAM', 'SINGAPORE CHENNAI', 'FOCAL POINT LUDHIANA', 'BHANDUP W MUMBAI', 'ANJUNA', 'COCHIN', 'SIBSAGAR', 'HARIVILLU APPTS KV RANGAREDDY', 'NEAR SAHAKARI BANK PUNE', 'GAYESHPUR', 'CUDDALORE (DT)', 'MSRIT POST BANGALORE', 'JANDIALA', 'STATION SECUNDERABAD', 'TRIPUNITHURA', 'BANK MUMBAI', 'ROAD EMP ID P 12002 BANGALORE', 'FATORDA', 'WASWANI ROAD PUNE', 'THANJAVVR (DT)', 'SIDDHARTH NAGAR', 'JAIPUR 13', 'BHADESAR', 'ANUPPUR', 'KAIMUR(BHABUA)', 'BANGALURU', 'DIYUN', 'ROAD DELHI', 'ROAD SAKET NEW DELHI', 'HYDERABAD PATNAM', 'DISTT AMRITSAR AMRITSAR', 'HUSSAFAH', 'SANTOSH NAGAR GOREGAON E MUMBAI', 'HOBLI NELAMANGALA BANGALORE', 'DISTT HAMIRPUR', 'ANANDAPUR BRANCH KOLKATA', 'NEW  DELHI', 'KALYAN (EAST) THANE', 'UJHANI', 'ABOHAR (FEROZEPUR)', 'SALIGAO BARDEZ', 'NALLOSAPARA E THANE THANE', 'PANTI', 'NAIGAON DADAR MUMBAI MUMBAI', 'BIKANER', 'SRIPERUMBUDUR TAL KANCHIPURAM DIST', 'HIGH STREET PHOENIX MUMBAI', 'INSTITUTE MUMBAI', 'NAVGHAR VASAI E', 'PAKUR', 'RAMBAUG 4 KALYAN W THANE', 'DIWAR', 'BAGH KALINDI KUNJ NEW DELHI', 'KOZHIKODA', 'CANACONA SOUTH GOA', 'SURYAPET NALGONDA (DT)', 'SERVEN BHAWAN DELHI', 'PATHANAMTHITTA', 'SCHOOL SOUTH 24 PARGANAS', 'STYLE BANGALORE', 'CHINSURAH', 'SONBHADRA', 'NEYYATTINKARA THIRUVANANTHAPURAM', 'MADHYA VIDYALAYA DHANBAD', 'PUNKUNNU', 'MEDCHAL', 'VIJAYAWADA KRISHNA KRISHNA', 'BANNARI AMMAN KOIL COIMBATORE', 'KATTUNGA', 'TEH GURGAON GURGAON', 'NR VIVIANA MALL THANE', 'NAWANSHAHR', 'KADMA', 'BHAVNAGAR', 'SIANA', 'THANDALAM', 'THANE BADLAPUR E', 'SUBURBAN TEHSIL BORIVALI MUMBAI', 'NEAR SWIMMING POOL AREA', 'GUWAHATI KAMRUP', 'BURHANPUR', 'BHAYANDAR ROAD THANE', 'DISTT-GHAZIABAD GHAZIABAD', 'PUNE HAVELI PUNE', 'DOMBIVLI AST', 'MADHURAI', 'KALYAN-W', 'EZHAMKULAM', 'NEAR BARODA PRISTAGE SURAT', 'SAROOR NAGAR', 'KHEKRA', 'BISHAP HOUSE RAJKOT', 'KURGAON', 'WARD 10 TALUKA-CHANDRAPUR', 'SRINAGAR', 'PRABHANI', 'KATIHAR', 'W THANE', 'NR SARADA MATH NORTH 24 PARGANAS', 'RAMANTHAPUR HYDERABAD', 'VASSI', 'MOREN CHANDEL', 'CENTRAL POST OFFICE JAVAL MUMBAI', 'STEELHOUSE HYDERABAD', 'UDALI KHURD', 'SELU', 'BHAJJU', 'HANDLOOM AHMEDABAD', 'KUDAVOOR', 'NEAR BHAKTINAGAR THANA SILIGURI', 'LINGAMGUNTLA GUNTUR', 'OLIVIA BLDG HYDERABAD', 'NAGPUR-1 NAGPUR', 'MOOSAPET HYDERABAD', 'LUCKY RESTAURANT GIDC VAPI VAPI', 'WEST TRIPURA WEST TRIPURA TRIPURA', '1601259 BANGALORE', 'INTERNATIONAL SCHOOL VIRAR', 'TIRUTHANI', 'TEMPLE SURAT', 'JODI METLA GHATKESAR', 'BHUJ KUTCH', 'PARK PHASE 01 HINJEWADI PUNE', 'CHUNCHURA HOOGHLY', 'BTM LAYOUT BANGALORE', 'BANJARA HILLS HYDERABAD', 'BHARUCH', 'SCHOOL SURAT', 'INSTA AC', 'MAKHMALI TALAO THANE WEST', 'VIRAR WEST', 'COMMERCIAL COMPLEX MUMBAI', 'GULTEKDI PUNE', 'DISA', 'SIDDAPUR', 'JAITPUR SOUT DELHI', 'SANT RAVIDASNAGAR', 'BESIDE AXIS BANK HYDERABAD', 'DISTT-PUNE PUNE', 'AHEMDABAD', 'KULITHALAI', 'BUS STAND KOLKATA', 'SEC-49 GURGAON', 'AMBARNATH THANE', 'THEATRE LBS MARG GHATKOPAR W MUMBAI', 'SHOW ROOM RAJKOT', 'RAMESWARAM', 'NODE III THANE NAVI MUMBAI', 'BUNGLOW THANE', 'SAHEED BHAGAT SINGH NAGAR', 'THE NILGIRIS', 'PURULIA', 'BHORE GOPALGANG', 'BORIVALI (WEST) MUMBAI', 'WALLERS RD CHINTARIPERT CHENNAI', 'DHARAMSALA', 'BORAS', 'JANNUSAN', 'KOVVUR WEST GODAVARI', 'NOUGAWAN', 'DAMMAM', 'RAICHUR', 'BENGAL DURGAPUR', 'ANDHERI E SAKINAKA MUMBAI', 'DL NEW DELHI', 'AHMAD NAGAR', 'NR SANTOSHI MATA MANDIR DOMBIVALI W', 'AHMADNAGAR', 'KINNAUR', 'GURGAON', 'BUDGAM', 'TIRUVANNAMALAI DT', 'NEHRU HOSPITAL BERASIA ROAD BHOPAL', '24 PARGANAS KOLKATA', 'FARM PUNE', 'MARATHAHALLI BANGALORE', '1ST BLOCK BANGALORE', 'NAWADA', 'CHILLA', 'LASHKAR GWALIOR', 'RD ANDHERI(W) MUMBAI', 'GOKUL NAGAR MUMBAI', 'TO STANDARD CHARTED BANK HYDERABAD', 'FATEHGARH', 'DOMBIVLI', 'DHARAVI EAST MUMBAI', 'MUMBAI SUB', 'MARATHALLI OUTER RING RD VARTHUR', 'JHUNJHUNUN', 'NALLASOPARA (WEST) THANE', 'YENAMALAKUDURU VIJAYAWADA', 'MIRA ROAD E THANE', 'SCHOOL JAIPUR', 'BABUPUR', 'NAYA NANGAL', 'HADAPASAR MOHAMADWADI PUNE', 'VELAHANKA BANGALORE', 'MALLAPURAM DT', 'SWARUPNAGAR', 'DOGRA SKIN CARE CLINIC LUDHIANA', 'PANCHAYATH PERINGANADU', 'PADGHA', 'SAWAIMADHOPUR', 'NEW EDLHI', 'JAMBULKARWADI ROAD PUNE PUNE', 'GURGAON WEST', 'DOCKLANDS', 'ATM MUMBAI', 'NAVI MUMBAI VASHI', 'GIDDERBAHA', 'BHAYANDER MIRA ROAD THANE', 'DIST-PUNE PUNE', 'TALEGAO', 'KUSHI NAGAR', 'T MHALAUGE TEHSIL AMBEGAV PUNE', 'KALYAN WEST', 'HANAMKONDA', 'PURBA CHAMPARAN', 'AHMEDABAD AHMEDABAD', 'GHANDHINAGAR', 'BDA COMPLEX BANGALORE', 'ELCO MARKET BANDRA (W) MUMBAI', 'ATTAPPALLAM', 'RAMAN NAGAR BANGALORE', 'HR SEC SCHOOL SALEM', 'CENTRE ANDHERI W MUMBAI', 'OFFICE MUMBAI', 'ROAD POWAI MUMBAI', 'WALTHAM', 'RUPBAS', 'SUNNYVALE', 'TIRUVANAMALAI', 'ALLAPPUZHA', 'ECOLE MONDI MUMBAI', 'COURIER OFFICE BANGALORE', 'COLLEGE VISAKHAPATNAM', 'WEST (MUMBAI)', 'MANDYA DT', 'RR DIST', 'CHILIMBI MANGALORE', 'JOGESHWARI WEST MUMBAI', 'BETTIAH', 'TRIPURA WEST', 'N DELHI', 'NAVI MUMBI', 'CHANNAPATNA', 'VILLE HOUSE MUMBAI', 'SHAMIRPET', 'KARIM NAGAR', 'KUKATPALLY HYDERABAD', 'P O GOPALPURI TAL ANJAR GANDHIDHAM', 'VIVEKANANDA BANGALORE', 'SENDHWA', 'KANNAMANGALA BANGALORE', 'MOSABANI', 'GREATER FARIDABAD', 'JAGANNATHPUR', 'RAJAPALAYAM TALUK', 'PUDUCHERY', 'PROPERTY DEALER ST NO-12 LUDHIANA', 'OPP SAI BABA TEMPLE HYDERABAD', 'GHAZIABAD GHAZIABAD', 'MARGAO GOA', 'TIRUMALGERRY SECUNDERADAD', 'NEAR MASJID GHATKOPAR EAST MUMBAI', 'BHATNI', 'LOWER PAREL WEST', 'THURKAPALLI', 'ALAPUZHA DT', 'MALEGAV KHU', 'JALPAIGURI SILIGURI', 'BOUDH', 'SRIPERUMBUDUR TALUK KANCHIPURAM DT', 'MUMBAI GIRGAON MUMBAI', 'HIRA BAZAR SURAT', 'ALTOTORDA BARDEZ', 'SECENDRABAD', 'DISTRICT KENDRAPARA', 'MAIN RD P N PALAYAM COIMBATORE', 'GOREGAON (E) MUMBAI', 'DIST-KANGRA', 'CHIKHALI PUNE', 'KUVA WALI GALI GREATER NOIDA', 'EAST SAHAR P AND T COLONY MUMBAI', 'SANGHA KOLKATA', 'GUNJAN GIDC VAPI VAPI', 'MOOSAPET MOOSAPET HYDERABAD', 'OTTAPALAM', 'RANGAREDDY HYDERABAD', 'MUNIRKA', 'LAB TRICHY', 'VALSAD VAPI', '9 HOTEL PUNE', 'K R PURAM HOBLI BANGALORE', 'MIRAROAD E THANE', 'VARCA', 'VADAR PADA KANDIVALI EAST MUMBAI', 'TO J P PARK BANGALORE', 'PURNA VILL THANE BHIWANDI RD THANE', 'PATHANKOT', 'DHEMAJI', 'VIZIANAGARAM DIST', 'PARK RAJKOT', 'VAPHGAON', 'AXIS BANK ATM HYDERABAD', 'VIDYANIKETAN HYDERABAD', 'SANGUR', 'ESTATE THANE MAHARASHTRA MUMBAI', 'SIVAGANGAI DIST', '111 BLOCK BANGALORE BANGALORE', 'PARLE (E) MUMBAI CITY MUMBAI', 'KADAVUR TALUK', 'KHAJUWALA', 'ANDHERI (EAST) MUMBAI', 'NAGAR GREATER NOIDA', 'SHILLONG', 'NUNGAMBAKKAM CHENNAI', 'KAROL BAGH', '(W) MUMBAI', 'COLLEGE KOLKATA', 'PHOENIX', 'THALASSERY', 'UMARKHED', 'RESTAURANT VIZAG', 'AIROLI NAVI MUMBAI', 'TAMILNADU MADURAI', 'UAE', 'MAHIM EAST,MUMBAI', 'NAVI MUMBAI NERUL NODE 3 THANE', 'INDORE', 'WEST CHAMPARAN', 'KATAVI TALEGAON G H PUNE', 'RPC LAYOUT HAMPINAGAR BANGALORE', 'ELAPPULLY PANCHAYATH', 'VARLA', 'KAMEPALLY MANDAL', 'AL AIN', 'LAYOUT BANGALORE NORTH', 'APPT BANGALORE NORTH BANGALORE', 'NEXT TO JEHANGIR HOSPITAL PUNE', 'DAPODI PUNE', 'MARKET SECUNDRABAD', 'PEN RAIGARH RAIGARH', 'PUDUKKOTTAI DT', 'SIMADA SURAT', 'VEMAGIRI', 'OMALUR', 'NASEERA BAD MASJID BHIWANDI', 'NALGONDA DIST', 'KATOLROAD KATOLROAD NAGPUR', 'AMBARNATH EAST THANE', 'RBI GANGTOK', 'KALYAN (W) THANE', 'REASI', 'SAWAI FACTORY RAIPUR', 'BORIVALI DISTT MUMBAI', 'NALLASOPARA EAST PALGHAR', 'KALAYAN W', 'BICHOLIM NORTH GOA', 'MANDAL K V RANGAREDDY HYDERABAD', 'BOLARUM HYDERABAD', 'ACANTT', 'THANE KALYAN WEST', 'SOCIETY NO 4 MUMBAI', 'NEAR HUSKUR GATE BANGALORE', 'SCHOOL ALIGARH', 'SARJAPURA OUTER RING RD BANGALORE', 'EXCHANGE ALLAHABAD', 'SOUTH SIKKIM', 'TIRUCHY', 'KATEMANIVALI KALYAN THANE THANE', 'RAMNAGAR', 'CITY MALL MUMBAI', 'DEORIA DISTRICT-DEORIA DEORIA', 'DGL', 'CHINCHPOKLI EAST MUMBAI', 'SHAHEED BHAGAT SINGH NGR NAWANSHAHR', 'GHANSOLI THANE', 'SARJAPUR HOBLI ANEKAR TAL BANGALORE', 'PASWADA GHAZIABAD', 'POST OFF NTR GARDENS HYDERABAD', 'SURAT B/H PATEL SAMAJ VADI SURAT', 'PATADHANA ROAD CHHINDWARA', 'SHRIRAMPUR', 'BUS STOP HYDERABAD', 'SAHUPURI', 'ANUPSHAHR', 'RAJAH RAJAHMUNDRI', 'KHOIJUMAN', 'SITAMARHI', 'MUDHICHUR CHENNAI', 'ULHASNAGAR 3', 'PAJIFOND MARGAO', 'HALOL', 'GWALIOR RESIDENCY', 'KARUVAMBARAM', 'TEAMBLE CHENNAI', 'MARATHALLI RING ROAD BANGALORE', 'INDIRAPURAM', 'RUPNAGAR NANGAL', 'TIRUNELVELI DT', 'ARCH TIRUPATI', 'KALWA WEST THANE', 'VELLORE DISTRICT', 'SOUTH BANASHANKARI 3 STG BANGALORE', 'PUNE CITY', 'BHAYANDER EAST THANE', 'MALVERN', 'JEEDI METLA  HYDERABAD', 'SAHIBABAD GHAZIABAD', 'OFF HOSUR ROAD BANGALORE', 'WEST BADLAPUR', 'SHAKA MUMBAI', 'DOMBIVALI EAST KALYAN THANE', 'HOTEL NEW DELHI', 'BHADOHI', 'HAYES', 'VASAI VIRAR CITY (M CORP) PALGHAR', 'PIMPLE GURAV PUNE', 'D C KALYAN THANE', 'DHENKANAL', 'LAKE MAHAL WARD NO 53 NAGPUR NAGPUR', 'HOSHIAR PUR', 'KANNAD AURANGABAD', 'GORWA ROAD VADODARA', 'PARAPALAYAM TIRUPUR', 'JOGESHWARI W MUMBAI', 'SINGH NAGAR SAS NAGAR', 'SAGANER JAIPUR', 'SUMBAL', 'MHAPE NAVI MUMBAI', 'RING ROAD SURAT', 'MOSQUE COCHIN', 'AHMEDABAD SANAND', 'PETER ENGLAND SHOWROOM BANGALORE', 'THENI [TAMIL NADU]', 'HINJEWADI PUNE', '3 NAVI MUMBAI', 'VAISHALI NAGAR RANGAREDDI', 'NORTH EAST DELHI NEW DELHI', 'COLONY ULGOOR  BANGALORE', 'NR  CYCLE SHOP BANKURA', 'CURTORIM', 'KATEMANJUALI', 'SCHOOL SIBSAGAR', 'JP NGR 3RD PHASE BANGALORE', 'ABAMBAJI DHAM MUMBAI', 'COURT GURGAON', 'BALANAGAR RANGAREDDY', 'ISTAGE IST BLOCK BANGALORE', 'CHHATTISGARH', 'VODAFONE STORE MUMBAI', 'NALAGONDA DISTRICT', 'BHAYANDAR', 'COMPOUND BYCULLA MUMBAI', 'MUMBAI KONKAN BHAVAN THANE', 'MANGALORE D K', 'STN WOC RD RAJAJINAGAR BANGALORE', 'HYDERABAD RANGAREDDI', 'IVERKALA', 'GOBINDAPUR', 'MODI NAGAR', 'ORR BANGALORE', 'S 24 PGS', 'JUNGPURA', 'SINGHBHUM KALI MANDIR TATANAGAR', 'BAREILLY BAREILLY', 'DISTT NASHIK NASHIK', 'MAHINDER GARH', 'SAFED POOL KURLA ANDHERI RD MUMBAI', 'PANVEL RAIGARH NAVI MUMBAI', 'KODARMA', 'NAGAR BUS STOP HYDERABAD', 'BHUBANESWAR', 'NAGAR CHENNAI', 'MAHALPAT KANGRA', 'KANPUR NAGAR', 'RAJASMAND', 'ANDHERI E  MUMBAI', 'SANTIPUR', 'MOTIHARI', 'FANGANI', 'NEAR HITEXEXBITION CENTER HYDERABAD', 'SABHAGRUH NAGPUR', 'PUZHITHIVALKAM CHENNAI', 'NEAR JOTHI THEATRE CHENNAI', 'TUNI EAST GODAVARI', 'MANESAR GURGAON', 'RAJSAMAND', 'MILL OKHLA INDL ESTATE NEW DELHI', 'GOVANDI MUMBAI', 'DADAR', 'MARINE LINES MUMBAI', 'NEVILLE HOUE MUMBAI', 'SCARBOROUGH', 'THALAVOOR', 'BEHIND CHENNAI', '24 PARGANS (S)', 'NEAR KALYANI BANGLOW PUNE', 'LAYOUT 5TH PHASE JP NGR BANGALORE', 'ESANTHIMANGALAM', 'GRTR MUM CORP TALUKA MUMBAI', 'ALIPI', 'ROAD DEONAR MUMBAI', 'TILAKNAGAR', 'VIJAYAWADA URBAN', 'MUMBAI HIGHWAY PUNE', 'SPRING HILL', 'PATAN', 'AIT', 'NAGAR GURGAON', 'ACCRA', 'RISHIKESH', 'VERNA CITY', 'JAMNAGAR', 'LANDHRAN', 'KALKAJI NEW DELHI', 'GROUNDS PUNE', 'ABOVE TOTAL SUPERSTORE BANGALORE', 'MORADABAD MORADABAD', 'SANVORDEM', 'SOMAJIGUDA HYDERABAD', 'GURUJI SCHOOL MUMBAI', 'MATUNGA (E) MUMBAI', 'VISAKHAPATNAM', 'STATION KOLKATA', 'DIVA EAST', 'CHITRAKOOT', 'NR ACCENTURE PUNE', 'DISTRICT CUTTACK', 'SIGNAL CHENNAI', 'ESSAR MUMBAI', 'MOHALI', 'MARGAO SALCETE', 'NAYAGAON MOHALI', 'WARANGAL', 'MAHADEVAPURA VILLAGE BANGALORE', 'BELGAUM', 'CHATRAPUR', 'CIRCLE MUMBAI', 'BANGLOWS RAJKOT', 'MYSORE NAZARABAD', 'ROAD MUMBAI CHAKALA MIDC MUMBAI', 'GAIGHATA', 'OTTAPIDARAM TALUK', 'ADAMBAKKAM', 'TEMPLE MARGAO', 'PIPARIYA', 'KALYAN STN RD KALYAN W KALYAN', 'MIDNAPORE', 'UXBRIDGE', 'NARSANDA', 'VENKATESHWRA TEMPLE HYDERABAD', 'KALYAN EAST KALYAN THANE', 'DABHADE TALUKA MAVAL', 'WORLD TRADE CENTRE BANGALORE', 'PAREL BHOIWADA', 'SINNAR', 'DEHRADUN DEHRADUN', 'AYANAVARAM CHENNAI', 'CHAKALA ANDHERI (E) MUMBAI', 'NEEMRANA', 'AMBERNATH EAST', 'DERGAON', 'DOMBIVLI EAST DOMBIVLI', 'TO NEVILLE HOUSE MUMBAI', 'KANYAKUMARI', 'BHOJPUR', 'PAPUM PARE', 'NEW DELHI', 'JAMMU JAMMU', 'MODINAGAR', 'CO-OPERATIVE NEW DELHI', 'DOMBVALI', 'MAHABOOBNAGAR', 'NR KEREGUDDADAHALLI BUS STOP', 'OFFICE INDRAYANINAGAR PUNE', 'ASSOSIATION KOLKATA', 'SANT KABIR NAGAR', 'PRAKASAM', 'SOCIETY BANGALORE', 'BUS STOP BANGALORE', 'HOOGHLY', 'BUS DEPOT BORIVALI (E) MUMBAI', 'GAUTAMBUDH NAGAR', 'MOREWASTI CHIKHALI PUNE', 'KHAMMAM (ANDHRA PRADESH)', 'JANKIPURAM LUCKNOW LUCKNOW', 'MAJORDA', 'ALTO PORVORIM', 'HAZARIBAGH', 'KUBER NAGAR', 'BATHINDA', 'AL KHOBAR', 'DELOITTE DRIVE HYDERABAD', 'KORAMANGALA BANGALORE', 'VILLA PUNE', 'LAYOUT BANGALORE', 'PATWARDHAN GROUND NAGPUR', 'BAGHPAT', 'SUPER MARKET CHENNAI', 'BHAVANI SHANKAR ROAD MUMBAI', 'CBD-BELAPUR', 'DARBHANGA', 'CLASSES MUMBAI', 'ARIYALUR DISTRICT', 'RUDRAVARAM', 'JIND', 'JEWELLERS VASHI NAVI MUMBAI', 'S O MUMBAI', 'ANKIESHWAR', 'MUMBAI JUHU SCHEME', 'MANANTHAVADY', 'TALUK KANCHEEPURAM', 'NEAR SRIYA SQUARE BHUBANESHWAR', 'CORPORATION BANK KOLKATA', 'MALWANI MUMBAI', 'MUZAFFARNAGAR MUZAFFARNAGAR', 'KORAJJUR CHENNAI', 'RAIBARELI', 'YERRAVARIPALEM', 'KHURDA BHUBANESWAR', 'OMAN', 'DENTAL COLLEGE BENGALURU', 'SHANIVARASANTHE', 'CHITALSAR MANPADA THANE', 'KATEMANIVALI KALYAN THANE KALYAN', 'SCHOOL SOUTH TRIPURA', 'SIHUNTA', 'NAIROBI', 'GONDA', 'HARIJ', 'THANE BADLAPUR', 'THAKURPUKUR', 'HOSPITAL SAMALKHA', 'PORE NAIHATI', 'INTERNATIONAL SCHOOL PUNE', 'VISAKHAPATMAN', 'HADAPSAR PUNE CITY PUNE', 'GANDHI NAGAR', 'ANANTNAG', 'RAMASWAMY FUNCTION HALL HYDERABAD', 'DAHISAR (E) MUMBAI', 'BHUNNA', 'MOOSAPET  HYDERABAD', 'AT ROAD AURANGABAD', 'PETROL PUMP KOLKATA', 'D D U NGR RAIPUR', 'NAVANARODA AHMEDABAD', 'MUMBAI CTY', 'KHUSKHERA BHIWADI ALWAR RD ALWAR', 'KARTHIKAPPALLY', 'WARJE PUNE', 'NABHA', 'SAHNEWAL', 'KHAIRTHAL', 'CHOWK SHIMPOLI MUMBAI', 'KANGHTALI', 'KALACHOWKI MUMBAI MUMBAI', 'SONEBHADRA', 'RIYADH', 'CHANOD VAPI', 'MANDIDEEP', 'KOOTHATTUKULAM', 'ROAD WAKAD PUNE', 'ERNAKULAM DT', 'NR E AND D OFFICE KARIMGANJ', 'ERODE', 'MORMUGAO', 'RAJASTHAN  BALOTRA', 'REENA COMPLEX MUMBAI', 'GOBI TK', 'AMBARNATH', 'DWARKA ND75', 'DOMBIVALI (W) THANE', 'CLEAR WATER', 'BAPAT ROAD PUNE', 'CROYDON', 'CUNCOLIM', 'KUNDLI SONIPAT', 'MUNDAKAYAM', 'SPOT ST THOMAS TOWN POST BANGALORE', 'HAILY HANDI', 'KORAPUT', 'HOME ALIGARH', 'KHARAR SAS NAGAR (MOHALI)', 'SANAPADA', 'ESTATE ANDHERI W MUMBAI', 'PORUR TOLL GATE CHENNAI', 'GERUGAMBAKKAM CHENNAI', 'HI BANKURA DURGAPUR', 'MORINDA MORINDA', 'CHITPUR', 'ANIKKADU', 'MANDIR CLUB KOLKATA', 'BANGLAORE', 'CHAKAN PUNE', 'TOSHAM', 'CRAWFORD MARKET MUMBAI', 'WEST HARTFORD', 'KALAMBOLI', 'KHARGHAR NAVIMUMBAI', 'RAJSAMAND RAJSAMAND', 'YADGIR', 'MONTEPADAV KEIRANGALA MANGALORE', 'GOREGAON WEST MUMBAI', 'PILLAR-335 NEW DELHI', 'BELLENDUR POST BANGALORE', 'BHUJ KACHCHH', 'BARDEZ GOA', 'VEERA DESAI ROAD ANDHERI (W) MUMBAI', 'THIRUVALLUR TK AND DT', 'CORPORATION GUWAHATI', 'HOSPITAL HYDERABAD', 'KARANTHNAGAR BANGALORE', '(SOMWARPET KODAGU)', 'BANK NAGPUR', 'POINTS HOTEL VADGAONSHERI,PUNE', 'NORTH 24 PGS', 'THANE OPP GRAMPANCHAYAT TARAPUR', 'SHEIKH ZAYED ROAD', 'TAINAN', 'DASAI', 'THEATRE AMEERPET HYDERABAD', 'POINT SILCHAR', 'NR VIDYAVIHAR RLY STN MUMBAI', 'SHAHRANPUR', 'BIKANER EAST', 'KOZHUVANAL', 'SIDE CHENNAI', 'MUMBAI PAREL', 'NIRJULI', 'DIST PALGHAR BOISAR', 'CITY CHINCHWAD EAST PUNE', 'POLLACHI', 'ARPORA', 'ALIBAG', 'MADURAI DISTRICT', 'ZION SCHOOL CHENNAI', 'BANKA', 'BIZPUR', 'DIST BAHARAICH', 'BANGALOE', 'PAWAR NAGAR THANE JEKEGRAM', 'SADAR KANPUR NAGAR', 'BUXAR', 'AUL', 'HIGH SCHOOL MAYURBHANJ', 'MULBAGAL', 'SAANTACRUZ', 'RD ABOVE SUZUKI SHOWROOM BANGALORE', 'LIPPA', 'FOOT RED LIGHT NEW DELHI', 'NAGAR ANDHERI (W) MUMBAI', 'KOIL SALEM', 'PIMPRI PUNE', 'DIST AMRITSAR AMRITSAR', 'BARDEZ BETIM', 'NAGAR NOIDA', 'SCHOOL KHARAGPUR', 'NAGAR DELHI', 'NAGAPATTINAM', 'OPP MCDONALDS MUMBAI', 'MIRA RD E', 'WARD NO 75 NAGPUR', 'TAMBHERE', 'BOISAR  PALGHAR', 'KAVALAPPARA PALAKKAD', 'KUNDALAHALLI BENGALURU', 'DEORIA', 'DHARMANAGAR', 'BLOCK JAKKASANDRA BANGALORE', 'APARTMENT BANGALORE', 'ABHIJATRI CLUB KHARAGPUR', 'CIRCLE (CHOWK) VAPI', 'E E HIGHWAY GHATKOPAR E MUMBAI', 'RESTAURANT HYDERABAD', 'VARNASI', 'TAURU', 'MIHIJAM', 'QUEPEM GA', 'MANTAPAM HOSUR', 'NORTH DELHI', 'SHOP BAGHPAT', 'CHAMKAUR SAHIB', 'CHAKALA MIDC MUMBAI MUMBAI', 'ANNAVARAM', 'ENGG COLLEGE BARTON HILL TIRVANDRUM', 'ENCLAVE HOWRAH', 'RD EMP ID P 12003 BANGALORE', 'KADAPA', 'TAL PALGHAR DIST PALGHAR', 'KANCHEEPURAM DIST', 'BANJARA HILLS', 'SCHOOL  MUMBAI', 'NORTH SIKKIM', 'ARMULA', 'SCHL SANTOSHI MATARDKALYAN (W)THANE', 'BANGALORE BANGALORE', 'KRISHNAPURAM', 'SHEOHAR', 'CHICAGO', 'FUNCTION HALL HYDERABAD', 'ROAD MAHALAXMI MUMBAI', 'CROSS SCHOOL THANE', 'TAL IGATPURI DIST NASHIK', 'KANDIVALI W MUMBAI', 'SHOWROOM GURGAON', 'KOTHRUD PUNE', 'KORAMAGALA 1ST BLOCK BANGALORE', 'NANDURBAR', 'RANIKHET', 'WASHIM', 'HASIMARA', 'MARG ELPHINSTONE WEST MUMBAI', 'MATUNGA EAST MUMBAI', 'NANGANALLUR CHENNAI', 'SINGHWARA', 'MIRA ROAD EAST THANE', 'GANJAM O', 'BRUNDABAN TAKIES CUTTACK', 'WEST MUMBAI', 'PANJIM NORTH GOA', 'HAJARIBAG HAJARIBAG', 'GARDEN CHOWK PIMPLE SAUDAGAR PUNE', 'HINDUPUR', 'SRIPERUMBVDUR', 'KANYAKUMARI DT', 'SINGH SABHA NAGPUR', 'GHODBUNDER RD THANE WEST THANE', 'PUDUKKOTTAI', 'NO 3 KALYANI NAGAR PUNE', 'SINDHUDURG', 'S A S NAGAR', 'NO 223 GATE MUMBAI', 'BAURIPADA', 'PUNE PIMPLE NILAKH', 'PUDUCHERRY', 'SHIVAJI NAGAR MUMBAI', 'KHAMANON', 'CLINIC GURGAON', 'PANCHAYATH', 'MAHARASHTRA MUMBAI', 'DUTTA LANE BIRENDRA APPT SILCHAR', 'MUMBAI THANE NAVI MUMBAI', 'EVERARD NAGAR MUMBAI', 'NR MACH FACTORY GOMATI', 'VISHNUNAGAR THANE', 'DOBIVALI', 'VAZHOOR', 'VERNA', 'ABOVE SUZUKI BANGALORE', 'LONI', 'TARAN TARAN', 'HIGH SCHOOL THANE', 'DIST-RAIGAD', 'DINHATA', 'MUMBAI GHATKOPAR WEST', 'MAIN NAJAFGARH RD NEW DELHI', 'DUBAI UAE', 'NALLASOPARA EAST THANE', 'ARCADE NAVI MUMBAI', 'PHASE-1 HINJEWADI PUNE', 'DATIYA', 'TOHANA', 'SEHORE SEHORE', 'PORT ELIZABETH', 'LOHARADAGA', 'AREA WHITE FIELD BANGALORE', 'TANUKU', 'MEHMEDABAD', 'COMPANY MUMBAI', 'ALWAR RAJ', 'DENTAL CLINIC BANGALORE', 'KUMARAKOM', 'CONGRESS GROUNDS CHENNAI', 'SION EAST-MUMBAI', 'HARSAN', 'PANIPAT', 'PARK BANGALORE', 'YELLAPUR', 'PILIBHIT', 'IRVING', 'FUJAIRAH', 'KURLA ROAD SAKINAKA MUMBAI', 'BARAKAR', 'TIRUCHIRAPPALLI DT', 'DEESA', 'MACHILIPATNAM', 'PARK PHASE 1 HINJEWADI PUNE PUNE', 'SAHAR RD ANDHERI (E) MUMBAI', 'MULUND W MUMBAI', 'MALEGAON', 'DOMBIVLI (E)', 'SANPADA NAVI MUMBAI', 'POLE SHAHPUR AHMEDABAD', 'SAJJANRAOCIRCLE V V PURAM BANGALORE', 'INTERNATIONAL BODHVIHAR DIBRUGARH', 'GOA', 'RAJGURUNAGAR', 'VELACHERY CHEENNAI', 'MUMBAI', 'AMBALACANTT', 'BRIDGE NEW DELHI', 'KALYAN WEST-THANE', 'KUMARAMANGALAM', 'PUDUSSERY', 'RUDARPUR', 'KHUTWAD NGR NASHIK', 'PERUVAYAL', 'RESTAURANT PUNE', 'BAINSI', 'CHIDAMBARAM', 'YELLUKUNTE BANGALORE', 'SAKINAKA ANDHERI E MUMBAI', 'KHURDA-ORISSA', 'CINEMA HALL ASANSOL', 'RLY ST VASHI NAVI MUMBAI', 'T-3 NEW DELHI', 'SRIPERUMPUDUR', 'BOISAR BOISAR', 'NARAYANAPUR', 'VILLAGE ATHAL', 'GAUHATI', 'OKALIPURAM PETROL BANK BANGALORE', 'SIMLA', 'GANGANAGAR BANGALORE', 'DIST-LAKHIMPUR', 'ANDHERI (W) OSHIWARA MUMBAI', 'NR RAVJIBHAI TOWER AHMEDABAD', 'LINK ROAD ANDHERI WEST MUMBAI', 'BUHANA', 'NAVI MUMBAI NAVI MUMBAI', 'TECHNO SCHOOL VISAKHAPATNAM', 'KOTTAYAM (DISTIC)', 'AL SALIMYA', 'SURYAPET NALGONDA DIST', 'RAMTIRTH NAGAR CENTRAL DELHI', 'SRIPERUMBUDUR TK', 'RD NR KRISHNA SAGAR HOTEL KALYAN E', 'PINJORE', 'BHAYANDER (WEST) THANE', 'ANDHERI GHATKOPAR LINK ROAD MUMBAI', 'HILLTOP NAGPUR', 'GREEN APARTMENT NEAR BANGALORE', 'MERCES', 'HOSPITAL GHAZIABAD', 'NAWASHAHR', 'ARCH BANGALORE', 'ROAD KHARAGPUR', 'SAMRU BAUG BHIWANDI', 'HOSTEL GOVT COLONY MUMBAI', 'THENI DT', 'KHAMMAM DT', 'KHARAGPUR RLY STN KHARAGPUR', 'COLLEGE HUBLI', 'MALLESHWARAM W BANGALORE', 'UDGIR LATUR', 'THANE MUMBRA THANE', 'INDL ESTATE ANDHERI WEST MUMBAI', 'ANUGUL', 'CHACHAK', 'RAHON', 'BENGALOORU', 'AMBERNATH', 'BADSHAPUR', 'ELPHINSTON MUMBAI', 'NR BUDHA MANDIR MUMBAI', 'MANTAPA BANGALORE', 'UPPALA KASARAGOD', 'BAZAR PRINCESS STREET MUMBAI', 'CIVIL LINES NORTH DELHI DELHI DELHI', 'KATEMANIVALI THANE KALYAN THANE', 'DISTT-GURGAON GURGAON', 'MUNDI KHARAR', 'THIRUNINDRAVUR', 'HOSUR', 'FATIMA NAGAR PUNE', 'MEZHUVELY PANCHAYATH', 'MUSICAL STORES HYDERABAD', 'VEDASANDUR', 'TO MOTHERHOOD HOSPITAL BANGALORE', 'BANK- HINJEWADI-PUNE', 'BUNGALOWS ANAND', 'STATION MUMBAI', 'DHRANGADHRA', 'GANDEED', 'NR HANUMAN TEMPLE HYDERABAD', 'SHANKAR MUMBAI', 'J P NAGAR', 'SEVA SADAN ROAD GHATKOPAR W MUMBAI', 'NODIA', 'AJIVALI PANVEL', 'NALANDA', 'THANE W MUMBAI', 'WADAPAV KHAR W MUMBAI', 'ANNAPOORNESHWARI TEMPLE BANGALORE', 'SADARI', 'JOYPUR', 'PALAKKARAI TRICHY', 'TRICHUR', 'FARRAKHABAD', 'UTTARA KANNADA', 'WARANGAL WARANGAL', 'ANGUL', 'BIJAPUR', 'BEKARY BANGALORE', 'UTTARAHALLI BANGALORE', 'DOIMUKH', 'BRIDGE MUMBAI', 'HIGH SCHOOL KOLKATA', 'BADLAPUR EAST (THANE)', 'NEARTO MANTRI MALL BANGALORE', 'BAZAAR T NAGAR CHENNAI', 'RING RD BANGALORE', 'TIRTHOL', 'IND EST THANE', 'PALGHAR DIST THANE BOISAR', 'COLONY BAGDOLA SOUTH WEST DELHI', 'RAJGURUNAGAR PUNE', 'RAMANATHAPURAM DT', 'NEELAMANGALAM', 'CHAKALA ANDHERI E MUMBAI', 'VARACHHA UTRAN ROAD SURAT SURAT', 'MARGAO SOUTH', 'OFF M G ROAD MUMBAI', 'ORPINGTON', 'VANCHIYUR THIRUVANANTHAPURAM', 'THANESAR', 'TIWRI VASAI EAST', 'BISINGHBHUM JAMSHEDPUR', 'LUNGLEI', 'MAHABUB NAGAR', 'WADKHAL', 'KHANDWA', 'NEW MARKET KOLKATA', 'JALNA', 'DENA BANK RADHANPUR ROAD MEHSANA', 'CHANANACHERRY', 'MELBOURNE', 'KHARGAPUR', 'PAKKAM CHENNAI', 'SATARA', 'STATION NEW DELHI', 'GOLMURI JAMSHEDPUR', 'M N RD SECUNDERABAD', 'RAIGARH CG RAIGARH', 'GHATKOPAR W', 'DISTT MUMBAI SUBURBAN MUMBAI', 'CHANDAN HOSPITAL MUMBAI', 'GOHARGANJ', 'CHHAPARA', 'IRVINE', 'SHIVAJI NGR PUNE', 'BENGALURU', 'TO ELLO MARKET BANDRA W MUMBAI', 'MAIN ROAD ABOVE SUZUKI BANGALORE', 'NAYAGARH', 'GODOWN TRICHY DIST', 'SCHOOL KANDIVALI E MUMBAI', 'DIST WEST TRIPURA WEST TRIPURA', 'GANGARDI', 'CIRCLE UDAIPUR', 'ALPPEY', 'EZHUMATTOOR', 'SIROHI', 'DHARAMPUR', 'SURYAPETA NALGONDA DIST', 'GOVT SCHOOL BHILAKHEDI', 'KAHIRE MARG WORLI MUMBAI', 'SIVAGANGA', 'STATION BATALA', 'NEW MUMBAI', 'JORHAT, ASSAM', 'COMMUNITY HALL HYDERABAD', 'FACTORY BANGALORE', 'TOWERS BANGALORE', 'NURMAHAL', 'RAIA SALCETE', 'KGF', 'SALAKHUA', 'COLONY GOREGAONEAST MUMBAI', 'HALL HYDERABAD', 'KOPARKAIRNE', 'MAHARASHTRA CHIPLUN', 'MOHALI MOHALI', 'RAJASTHAN BARMER', 'TAMPINES', 'PERNAMBUT', 'PASHAN', 'SHOPPING CENTER SURAT SURAT', 'TUPRAN(MANDAL) MEDAK', 'HOJAI', 'ROAD EMP ID P10514 BANGALORE', 'AMBARNATH WEST', 'ANTARJAL', 'RUDRAPUR USN', 'MUNDGOD', 'SCHOOL AHMEDABAD', 'AMRAI', 'SCHOOL KOLKATA', 'GURGOAN', 'VIDYAVIHAR WEST MUMBAI', 'MALUGRAM SILCHAR', '3 BANGALORE', 'A AND N ISLANDS', 'LINGAPURAM NELLORE', 'JHANDUTA', 'TRIVANDRUM THIRUVANANTHAPURAM', 'CENTER BANGALORE', 'TIRUCHIRAPPALLY', 'BARODA', 'BANOUR', 'SCHL JAYANAGAR 2ND BLOCK BENGALURU', 'PUNE CITY PUNE', 'BHOSARI PUNE', 'SAKOLI', 'PAURIGARHWAL', 'LOWER PAREL E MUMBAI', 'SOHANA', 'NELLORE DT', 'HOUSE MUMBAI', 'GARDEN JEOGESHWI (W) MUMBAI', 'BUILDING KOLKATA', 'MOIRANG', 'USGAON', 'NGR 3RD PHS BANGALORE', 'KARKALA', 'WEST SINGHBHUM', 'KOTA BALLABH BARI', 'ALLOOR', 'TADEPALLI', 'MALAKPET', 'TANGUTUR', 'LAKHMPUR KHIRI', 'A GHATKOPAR WEST MUMBAI', 'PARK-III GREATER NOIDA', 'MANDI DABWALI', 'NAGAVARA BANGALORE', 'NAGAR ANDHERI EAST MUMBAI', 'AMBASAMUDRAM', 'ST CRUZ', 'THILLAINAGAR TRICHY', 'FUNCINEMA NEW DELHI', 'SECTOR -21A FARIDABAD', 'ULHASNAGAR THANE', 'ROAD (E) THANE', 'BADLAPUR (E) BADLAPUR', 'MARG SANTOSH NGR GOREGAON E MUMBAI', 'BARDEZ PORVORIM', 'MUMBAI G P O', 'DI SURAT', 'KALYAN NILJE THANE', 'SAI GANGA NAGAR', 'BARVE NAGAR MUMBAI', 'BULDHANA', 'PALAVAYAL', 'APPARTMENTS NEW DELHI', 'DIST-SONIPAT GOHANA', 'SIKANDRA', 'D MART KANJURMARG W MUMBAI', 'PALAMANER', 'NEAR OM SAI APPARTMENT GURGAON', 'TALAB DHANBAD', 'EZHUPUNNA ALAPPUZHA', 'CENTRE NEW DELHI', 'GAJANAN MAHARAJ MANDIR PUNE', 'BAHADURGARH (HARYANA)', 'PANSKURA', 'NAGPUR NAGAPUR', 'SOCIETY MUMBAI', 'OF INDIA MUMBAI', 'THANE DOMBIVALI I A', 'BURWOOD EAST', 'TELANGANA HYDERABAD', 'ROOM OPP AXIS BANK BRANCH MUMBAI', 'NO 2 WAGLE I E THANE', 'ANDAL BURDWAN', 'SHAHDARI', 'PAREL BHOIWADA MUMBAI', 'HOSPITAL THANE', 'AMBERNATH AMBERNATH AMBARNATH THANE', 'BIRBHUM', 'PETROLBUNK BANGALORE', 'NAKA CHARKOP KANDIVALI (W) MUMBAI', 'SINGH NAGAR NO 2 GOREGAON W MUMBAI', 'HOSPITAL ASANSOL', 'BHEEM NAGAR', 'MARCELA', 'MANPAL UDUPI', 'SURGUJA', 'URAN', 'KHACHROD', 'MUNICH', 'ASSOSIATOIN CULTURAL PARK MUMBAI', 'BANUR', 'ABOVE ICICI BANK BANGALORE', 'VASHI', 'NR UNITY HOSPITAL BANGALORE', 'STORE  BHUBANESWAR', 'KIDNEY CENTER COIMBATORE', 'MAHADEV MANDIR  SURAT', 'SINGBHUM', 'KAPAHERA SOUTH WEST DELHI NEW DELHI', 'BALKONDA', 'UTTARAKHAND', 'BHIMPUR', 'MORAR GWALIOR', 'SHOPPING COMPLEX BHIWADI', 'CHICOLNA MORMUGAO', 'EXT NEW DELHI', 'DURG', '(PITAMPURA) NEW DELHI', 'HUDA', 'ANATAPUR', 'WHITEFIELD,BANGALORE', 'SAKHANDRA', 'DWARKA (GUJARAT)', 'JAYAPUR', 'TRIPURA NR UNAKOTI NORTH TRIPURA', 'RD AHMEDABAD', 'TO LILHOWKI HYDERABAD', 'KURALI', 'VRINDAVAN LANE TRIVANDRUM', 'SO THANE', 'TIRUNELVELI', 'AMBAWADI', 'PALLADAM', '2ND FLOOR HYDERABAD', 'EAST SINGBHUM', 'EAST IE THANE', 'MORE MKT VISAKHAPATNAM', 'SOHNA', 'PARK III GREATER NOIDA', 'SALKIA', 'P SANAMBATLA', 'BANDRA (W)', 'HALL OPP JEHANGIR HOSPITAL PUNE', 'KHERA', 'KOLAR - DISTRICT', 'BADLAPUR EAST', 'WHITEFIELD MAIN ROAD BANGALORE', 'UJJAIN', 'QUAKERS HILL', 'SOUTH HEDLAND', 'KANGAYAM', 'OPP FUN CINEMA NEW DELHI', 'BANKI', 'INSTITUTE RMD PUNE', 'PLACE CENTRE WHZIRPUR DELHI', 'LONAR', 'TALUKA KHED DIST PUNE RAJGURUNAGAR', 'MANIMAJRA', 'BANGALORE KT', 'MANKAPUR', 'HIGHWAY GOREGAON (EAST) MUMBAI', 'BISHALGARH', 'T3 NEW DELHI', 'NEW ASHOK NAGAR', 'OFFICE HUGLI', 'VIRAR EAST VIRAR (EAST) THANE', 'THERUMMAL', 'BH SRUNGERI SERVICE STATION', 'MUSCAT', 'ULHASNAGAR 4 EAST', 'PARLOUR GOREGAON EAST MUMBAI', 'VANGANI E', 'HIMALAYA BOOKS HYDERABAD', 'CITY MUMBAI', 'HAJAPSAR PUNE', 'AIROL AIROLI THANE', 'KHORDHA ORISSA BHUBANESWAR', 'PONNAMALLEE', 'BACKSIDE CHENNAI', 'MUMBAI GOREGAON WEST', 'NGR KUDLU BANGALORE', 'JANJGIR-CHAMPA', 'HASSAN', 'BARAMATI PUNE BARAMATI', 'AMRUTHA BAKERY BANGALORE', 'CAMP HILL', 'NIZAMABAD BANSWADA', 'KAYANI NAGAR PUNE', 'BAULPUR', 'ROAD NAGPUR', 'BHAT', 'RAJGANGPUR', 'PIMPRI CHINCHWAD', 'TEHRI', 'RD PUNE', 'GAURAV PLAZA MUMBAI', 'HOSHIARPUR', 'AXIS BANK ATM KOLKATA', 'GHATKOPAR (E)  MUMBAI', 'BHIWADI', 'PALAKKAD (DT)', 'PETROL BUNK VISAKHAPATNAM', 'KARNAUJ', 'RUKMINI COLONY ULSOOR BANGALORE', 'THANE (EAST)', 'SANGLI-DISTRICT', 'BORIVALI (E) MUMBAI', 'BUDDHANAGAR NOIDA', 'NAGAR BANGALORE SOUTH', 'BILHA BILASPUR', 'THANE ULHASNAGAR', 'NEW NARODA HANSPURA AHMEDABAD', 'UDUMALPET', 'VARANASI', 'THIRUVALUR DT', 'BHANDEWADI NAGPUR', 'MUMBAI ANDHERI WEST', 'KRISHNAGIRI-TK AND DT', 'SURENDRANAGAR SURENDRANAGAR', '12 DWARKA NEW DELHI', 'RISHRA', 'MAHALINGAPURAM CHENNAI', 'FLYOVER ANDHERI (E) MUMBAI', 'CO OP HOU SOCIETY KURLA EAST MUMBAI', 'SENEPATI', 'NR CHIPALE BUS STOP NEW PANVEL', 'PANDARE', 'PARDI', 'BOISAR WEST', 'MAUN', 'COMPLEX HYDERABAD', 'EAST SIKKIM GANGTOK', 'LAJPAT NAGAR DELHI', 'FATORDA MARGAO', 'DEVANAHALLI', 'DWARKA', 'PERIYAR NAGAR ERODE', 'RICHARDS TOWN BANGLORE', 'KODAIKANAL', 'KHANDESHWAR', 'ROMPICHERLA', 'RAILWAY TRACK CROSSING COIMBATORE', 'NAGAR NAGPUR', 'PEN DT RAIGAD', 'NOTTINGHAM', 'ROAD UNJHA', 'RD BHAYANDAR (E) THANE', 'VASANIYA', 'YALVATTI', 'NAGRI', 'DIST SAS NAGAR', 'RATNAGIRI PALI', 'MAHISAGAR', 'PUNE PUNE PMC AND RURAL PUNE', 'SONAPUR', 'SANTACRUZ E MUMBAI', 'NEW CANTT ALLAHBAD', 'BAPATMARG LOWERPAREL (W) MUMBAI', 'ROAD EMP ID P11246 BANGALORE', 'DIST PUNE', 'HOOGLY', 'SAHIB FATEHGARH SAHIB', 'B S CITY', 'PANCHPAKHADI THANE', 'PO JAJARDEWAL PITHORAGARH', 'DHAM MIRA ROAD E MUMBAI', 'MARIS SCHOOL WADGAONSHERI PUNE', 'DUMDUM', 'THIRUVANANTHAPURAM', 'NAGAR AGRA', 'ARPORA CHAPEL ARPORA', 'DOMBIVALI-W', 'PASCHIM MEDINIPUR', 'ROME', 'MAREPALLI', 'PALLA', 'KARPEWADI KALYAN E', 'KALYAN E THANE', 'KAPASHERA NEW DELHI', 'QUTHBULLAPUR', 'MOHALI SAS NAGAR', 'NAGTHAT', 'NEAR RAGHU NATH MANDIR SAMALKHA', 'GOTRI ROAD BARODA', 'EAST CHARALA MIDC MUMBAI', 'CAVELOSSIM SALCETE', 'APPT BANGALORE', 'AMESTERDAM', 'SAVITRI APARTMENT KALYAN', 'MUMBAI-THANE', 'RAS TANURA', 'WORLI', 'GR MOHALI MOHALI', 'BHUJKUTCH', 'MUDIGERE', 'KANNANOOR', 'TIKAMGARH', 'TIRUVARUR DT', 'SAKINAKA JUNCTION  ANDHERE E MUMBAI', 'KAROL BAGH NEW DELHI DELHI', 'PRABHADEVI MUMBAI', 'EAST SIKKIM', 'THANABHAWAN', 'USHODAYA S MKT HYDERABAD', 'NAGDA UJJAIN DIST', 'UP HANDLOOMS HYDERABAD', 'MERIDIAN SCHOOL MADHAPUR HYDERABAD', 'CHARKOP KANDIVALI WEST MUMBAI', 'APPARTMENT KOLKATA', 'LEEDS', 'RATALAM', 'MARRIEGE HOUSE GORAKHPUR', 'SARAN CHAPRA', 'MEERUT CANTT', 'KURLA RD ANDHERI (E) MUMBAI', 'DEOGHAR', 'DISTT MUMBAI SUBURBAN DIST(MH)', 'PANCHAMAHAL', 'VISHNUNAGAR KALYAN THANE', 'CHHINDWARA', 'SOUTH 24 PGS', 'PHENSONG', 'MIRA ROAD', 'INDANE GAS DEALER BANGALORE', 'THODAPUZHA', 'RESORT BANGALORE', 'PARK PHASE-I HINJEWADI PUNE', 'BANGALORE SOUTH', 'NAMAKKAL (D T)', 'KURLA ANDHERI RD MUMBAI', 'SAKI NAKA MUMBAI', 'GHATAL', 'CHANDLODIYA AHMEDABAD', 'EDOGAWA KU', 'HADPSAR I C PUNE', 'ROAD MUMBAI MUMBAI', 'NEAR DURGA CHAWK NEW DELHI', 'YARD PUNE PUNE', 'IQBALGADH', 'RT NAGAR BANGALORE', 'HOTEL BHIWANDI', 'GAHAMAR', 'CENTER SANT NAGAR PUNE', 'VIANAYAKA CIRCLE BANGALORE', 'DIGHA THANE MUMBAI', 'W SOPARA NALLASOPARA W THANE', 'SINGAPERUMAL KOIL', 'MATHOOR', 'BHAVANAGAR', 'GHAZAIBAD', 'KALAYANI', 'GARDENS MADHAPUR HYDERABAD', 'SAFIDON', 'HIGH SCHOOL SURAT SURAT', 'ARIYALUR (DT)', 'BHARATPUR', 'SHIVSENA BHAWAN MUMBAI', 'INT.SCH GOVANDI MUM', 'PAREL VILLAGE PAREL MUMBAI', '(EAST) THANE', 'COLA MUMBAI', 'BADAUT', 'CHANDANNAGAR HAVELI PUNE', 'SAS NAGAR(MOHALI)', 'TEEKOY', 'BHANDUP WEST', 'SANYUKTA NAGAR NALLASOPARA EAST', 'MAYURBHANJ', 'COLLAGE RAJKOT', 'NAGAR GOREGAON WEST MUMBAI', 'HIMATNAGAR', 'HAVELI PUNE', 'KANDIVALI E MUMBAI', 'DEHRA', 'SOPARA MUMBAI THANE', 'DUNGARPUR', 'SEEPZ ANDHERI (E) MUMBAI', 'MALLAPPURAM', 'GOREGOAN (EAST) MUMBAI', 'LIMITED BILASPUR', 'THRICKODITHANAM', 'TEMPLE ITPL MAIN RD BANGALORE', 'MULUND (W)', 'KAIMUR', 'INDIRA NAGAR BANGALORE', 'INTERNATIONAL HOTEL MUMBAI', 'VASCO DA GAMA SOUTH', 'INDUSTRIAL AREA RABALE NAVI MUMBAI', 'BREACH CANDY MUMBAI', 'SAMARKHA', 'BISALPUR', 'JAGADHRI', 'G B NAGAR', 'PATNA', 'MOBARA', 'GONDIA', 'SOUTHALL', 'MOUNT HAWTHORN', 'BEGUMPET HYDERABAD', 'SHAHJAHANPUR', 'HARINGHATA', 'COOCH BEHAR', 'CHIKKABALLAPUR', 'CHUNABATTI E MUMBAI', 'SAKINAKA MUMBAI', 'HILLS HYDERABAD', 'SATHYAMANGALAM', 'RAI', 'SALEM', 'IMT MANESAR', 'NAOPARA', 'VAN UDYAN MUMBAI', 'MATHTHIGATTI', 'DOMBIVALI', 'AK ROAD SURAT', 'SARDHANA', 'SIMURALI', 'NORTH 24 PARGANAS JYANGRA', 'WEST THANE', 'SINDRI', 'KARAULI', 'MIRAROAD', 'KONAPPANA AGRAHARA BANGALORE', 'PAPE JEANS PATNA', 'VASAI (W) THANE', 'DT-KENDRAPARA', 'TQ KHED PUNE', 'JOGESHWARI WEST', 'BLDG MUMBAI', 'TELEPHONE EXCHANGE MUMBAI', 'POOJA PARK KAROL BAGH NEW DELHI', 'RAIGAD PANVEL', 'DEVBHUMI DWARKA', 'ROAD VV PURAM BANGALORE', 'ICHAPUR', 'PURBA JADAUPUR', 'OPP LAKE CITY MALL THANE WEST THANE', 'KANKROLI', 'NAUPADA THANE(W)', 'VITTOO TIKKI WALA NEW DELHI', 'B/H SOMANI HOSPITAL JAIPUR', 'MUCHINTALA KRISHNA', 'GHAZIABAD (NCR)', 'PH III GURGAON', 'KANDIVALI (W) MUMBAI', 'LANE BOWRAMPET HYDERABAD', 'SILIGURI', 'RAIGAD NR BANSAL FARM KHALAPUR', 'HAMIRPUR', 'SUBURBAN DIST MUMBAI', 'ENMAKAJE', 'SHIVPURI BORING RD PATNA', 'RAIKULA', 'SANQUELIM', 'BELAGAVI', 'BHAYANDER E MUMBAI', 'POONITHURA', 'SURAT DUMAS ROAD', 'BIRMINGHAM', '(WEST) MUMBAI', 'CARRY SHOPPING MALL KOLKATA', 'NEKNAM', 'SAMRIDDHI PROJECT BHAYANDER E THANE', 'GANDHI STACHE NASHIK', 'COMPANY NAVI MUMBAI', 'FLOOR PUNE', 'CITY PO BANGALORE', 'IND AREA HOSUR RD BANGALORE', 'STORE HYDERABAD', 'SALEM RURAL', 'ASSOLNA', 'ROAD WAKAD PUNE PUNE', 'KOTA', 'RAMANAGARAM DIST', 'CHITTOOR', 'NEENDOOR', 'BIRIYANI POINT BANGALORE', 'DISTT-AMRITSAR AMRITSAR', 'BOYS HIGH SCHOOL THIRUVANANTHAPURAM', 'GROUND KOLKATA', 'UDHAMPUR', 'DOMBIVALI (EAST) THANE', 'KOVVUR', 'SBK IIND STAGE BANGALORE', 'PARK NR ASHOKNGR PARK KOLKATA', 'ERNAKULAM DISTRICT', 'BUNGLOWS AHMEDABAD', 'MANGAORE', 'NARSING HOME KURANGAREDDY HYDERABAD', 'VILLAGE UTTARAHALLI BANGALORE', 'VANDIPPERIYAR PANCHAYATH', '39 OPP HSBC BUILDING GURGAON', 'NARNAUL MAHENDRAGARH', 'KANNUR', 'ALORE', 'HAVERI', 'RESI WARJE PUNE', 'MUZAFFAR NAGAR', 'BELKHADU JABALPUR', 'MOTHERSON COMPANY FARIDABAD', 'DEEPAK HOSPITAL MIRA ROAD (E) THANE', 'DHARUHERA', 'NEW COLONY DHANBAD', 'RUWI', 'NAVI  MUMBAI', 'MARDOL', 'SANTA CRUZ', 'RADHAPURAM', 'SAI MANDIR BHOPAL', 'JEDDAH', 'TOTAL SUPERSTORE BANGALORE', 'DHARUHERA REWARI', 'ADYAR', 'CINEMA HAORA', 'TUTICORIN', 'OPP TO YES BANK BANGALORE', 'INTERNATIONAL SCHOOL DELHI', 'PENHA DE FRANCE', 'ANANTHAPUR', 'ASPUR', 'ULHASNAGAR-1 THANE', '.', 'GREATER MUMBAI MCOPRP MUMBAI', 'KULATHOOR', 'NAVELIM', 'DABOLIM VASCO', 'MURUGESHPALLYA BANGALORE', 'THIRUVALLORE', 'UDUPI MANIPAL', 'COLABA MUMBAI', 'CENTRE MUMBAI', 'THANE(W)', 'DONGARI GOREGAON WEST MUMBAI', 'DHABADE PUNE', 'C GURGAON', 'KALYANA MANDAPAM PALLIKARNA CHENNAI', 'JANU PADA MUMBAI', 'BAHADVR GARH', 'COURT HYDERABAD', 'PANCHAYATH PATHANAMTHITTA', 'MUMBAI BB NAKASHE RD', 'RAJAJINAGAR BANGALORE', 'SHOW ROOM SURAT', 'ALER', 'DIST RAIGAD PANVEL', 'CHORAO', 'BIJNOR', 'METRO STN NEW DELHI', 'RANGA REDDI', 'SHOWROOM ELECTRON CITY PO BANGALORE', 'COACH BUS STOP MUMBAI', 'COMPLEX MUMBAI', 'HUSHIARPUR', 'SWAIMADHOPUR', 'SHIKRAPUR', 'GARDEN NAVI MUMBAI', 'PHASE-III GURGAON', 'BRUSSEL', 'SLG DARJEELING', 'KOTDWARA', 'ZADGAON', 'SAGOOR', 'BHAYANDER ROAD THANE', 'ROAD ANDHERI EAST MUMBAI', 'CHOWK NASHIK', 'DOMBIVALI (EAST) KALYAN THANE', 'PURVA FAIRMONT APARMENTS BANGALORE', 'GAUTAM BUDDHA', 'KANCHRAPARA', 'CLARKSBURG M MD', 'NILAMANGAI NAGAR', 'RAMACHANDRAPURAM HE  MEDAK', 'GREATER NOIDA(W)', 'KAKHERI', 'SAMRUDHDHI BHAVAN RAJKOT', 'SERAMPORE', 'KANCHIPURAM', 'BUDH NAGAR', 'HOSPITAL LANE AMEERPET HYDERABAD', 'VIJAYWADA', 'SADARAMANGALA BANGALORE', 'HATHRAS', 'JWELLERS THANE', 'NAMAKKAL TK DT', 'JUBAILI IND CITY', 'NIPHAD', 'ANOOPSHAHR', 'JOGESHWARI E', 'YERPEDU', 'KHARADI BYPASS HADASPAR PUNE', 'NARDIGANJ NAWADA', 'BELAPUR ROAD NAVI MUMBAI', 'KALIMPONG', 'HIND SCHOOL BANGALORE', 'ANAND', 'EDARAPALLI', 'HOTEL OPP LOTUS PETROL PUMP MUMBAI', 'VELIYANAD', 'OFFICE PUNE', 'PUNCHKULA', 'BOLPUR', 'AND 25A GURGAON', 'KALYAN EAST KATEMANIVALI THANE', 'NAGAON', 'FACTORY ANDHERI (EAST) MUMBAI', 'PALLY HYDERABAD', 'KHARSIA', 'SION E MUMBAI', 'KARSOG', 'BHAYANDER MIRA RD E THANE', 'THASRA KHEDA', 'CHARTERED BANK SOMAJIGUDA HYDERABAD', 'KANNAPURAM', 'VIJAPUR', 'VILL KR PURAM HOBLI BANGALORE', 'HIRANAGAR', 'FRIDABAD', 'VIDYANAGARA', 'PATNA PATNA CITY PATNA', 'COURSE ROAD GURGAON', 'BUNGLOW ANDHERI W MUMBAI', 'KONDHAPURI', 'EMP ID 7390019 BANGALORE', 'TEH BALACHAUR', 'NAVIMUMBAI NERUL NODE-3 THANE', 'ACRES CLUB CHEMBUR', 'GHATKOPAR EAST MUMBAI', 'BHAVAN KOLKATA', 'RACHI', 'ASALPHA GHATKOPAR WEST MUMBAI', 'KNOWLEDGE PARK III GREATER NOIDA', 'BYCULLA E MUMBAI', 'NILAMBUR', 'THANE-W', 'KANNIYAKUMARI', 'STOCKPORT', 'KV RANGAREDDY', 'AREA TAL KHED CHAKAN PUNE PUNE', 'AJITGARH', 'SUNDARNA', 'SENAPATI BAPAT ROAD PUNE', 'VARDHAMAN NAGAR NAGPUR', 'BAUG PANT NGR GHATKOPAR E MUMBAI', 'KASHIPUR', 'STAGE NEAR VIJAYA BANK BANGALORE', 'MANKUVA KUTCH', 'JAGADHARI', 'SANGANI RAJKOT', 'ENCLAVE HYDERABAD', 'CHIKKAMAGALURU', 'BUS DEPOT BORIVALI EAST MUMBAI', 'TIRUVANNAMALAI TK', 'PRISTAGE VARACHHA ROAD SURAT', 'NAVI DAMAN', 'DINDIGUAL', 'VASHINAKA MUMBAI', 'NO 26/1 MALLESHWARAM', 'KASARAGODE', 'KERALA', 'NKD NAKODAR', 'GOBINDGARH', 'DAHISAR MUMBAI', 'MURBAD RD KALYAN WEST', 'RING RD VARTHUR HOBLI BANGALORE', 'NEXT TO HUB MALL GORGAON EAST', 'RAMPURHAT', 'DEOLALI NASHIK', 'WEST TRIPURA TRIPURA', 'PHURSUNGI PUNE HAVELI PUNE', 'CUDDALORE DISTRICT', 'OPP KPHB KUKATPALLY HYDERABAD', 'AREA RABALE NAVI MUMBAI', 'THOOTHUKUPI', 'KUTHA', 'CAMP', 'ROAD BEHIND N E S SCHOOL MUMBAI', 'TEH GURGAON DISTT GURGAON GURGAON', 'GUJARAT', 'SONEPAT', 'SANGUEM SOUTH GOA', 'ANDHERI E B/H AKRUTI STAR MUMBAI', 'PO NR AGM DENTAL CLINIC TRIVANDRUM', 'ST FRANCIS SCHOOL BANGALORE', 'SAROOP NAGAR AZAD PALACE DELHI', 'ASSONORA NORTH GOA', 'DELY MUMBAI', 'PROPERTY DEALER YAMUNANAGAR', 'KALAN NORTH WEST DELHI DELHI', 'HOSPITAL MIRA ROAD E', 'RADHANPUR', 'PARK CHENNAI', 'AFZLAPUR', 'NAGARI', 'TIRUCHIRAPALLI DISTRICT', 'SWEETS KASHIPUR', 'PUTTUR', 'TAGORE NAGAR MUMBAI', 'POINTS HOTEL VADGAONSHERI PUNE', 'NEW PANVEL W', 'MAHAKALI CAVES ROAD MUMBAI', 'DURGAPUR', 'AMBEGAON BK PUNE', 'RAJKOT HIGHWAY AHMEDABAD', 'GHATKOPAR WEST', 'ANDHERI EAST', 'LUPUNG', 'NVAI MUMBAI', '(WEST) DIST PALGHAR PALGHAR', 'CHEYYAR', 'DINGDINGA', 'MOHANPUR', 'UMARIYA', 'SHIRSUFAL', 'KANDIVALI EAST', 'PIRAVOM', 'W OPP PENINSULA CORP PARK MUMBAI', 'TRIPURA CANCER HOSPITAL AGARTALA', 'SALEM DT', 'SCHOOL DOMBIVALI EAST', 'CIRCLE GANDHINAGAR', 'SHIVAJINAGAR PUNE', 'NEAR PASSPORT OFFICE PATNA', 'OXFORD COLLEGE OF ENGG BANGALORE', 'KANDIWALI W MUMBAI', 'LINK RD MUMBAI', 'TEMPLE BANGALORE RURAL', 'LALKUAN', 'DIST NASHIK', 'SURAT SURAT', 'WATER TANK COIMBATORE', 'KRISHNA HOTEL NAVI MUMBAI', 'BRAJARAJNAGAR', 'BEHIND EXCOM HOUSE MUMBAI', 'CHAR RISTA KATARGAM SURAT', '(W) THANE', 'ETUMANOOR', 'CHAMRAJANAGAR', 'NONGSTOIN', 'CARMONA', 'ROAD ASHOKNAGAR POST MANGALORE', 'NEXT TO APNA MEDICAL MUMBAI', 'VIDYA MANDIR MUMBAI', 'WEST S O MUMBAI', 'KALYAN EAST KALYAN', 'STATION SRIRAMPURAM BANGALORE', 'TO B KAVERI TAILORS BANGALORE', 'PUNE OPP IDBI BANK PUNE', 'GAUTAM BUDH NAGAR NOIDA', 'VIJAYAWADA KRISHNA', 'SAITHARUPETA', 'LBS MARG THANE', 'CHANDIGARH CHANDIGARH', 'PIMPRI PF PUNE', 'SHORE MAHIM MUMBAI', 'BEWAR', 'DIST KANCHEEPURAM', 'NOWGONG', 'BASSEIN ROAD', 'AL JUBAIL', 'MAHINDRA TOWERS MUMBAI', 'NEAR SHRIRAM HIGHSCHOOL MUMBAI', 'BESIDE ORIENTAL BANK SECUNDERABAD', 'DERABASSI', 'TAMPA', 'BEHIND BIRLA TEXTILE BADDI', 'SECTOR-9 MIRA ROAD E THANE', 'EPIP AREA WHITEFIELD BANGALORE', 'RUDRAPUR DIST U S NAGAR RUDRAPUR', 'TIRUPATI (RURAL)', 'DEVAGHAR', 'KANGEYAM', 'BSNL OFFICE WEST TRIPURA', 'BANK CIVIL LINE NAGPUR', '(W) MUMBAI MUMBAI', 'GANDHIDHAM KUTCH', 'SEC 21 GURGAON', 'WORLI, MUMBAI', 'AGRA TUNDLA', 'BIAWAR', 'KHANDAVALLI WEST GODAVARI', 'PATTAN', 'COLONY PATNA', 'SARJAPUR MN RD BANGALORE', 'OPP ROSE GEMS SURAT', 'BOISAR (W)', 'BARAMATI BARAMATI', 'BUKSAR', 'SIRMAUR', 'GREATER MUMBAI', 'KHARAR', 'SAHIBJADA AJITSINGHNAGAR', 'NEAR WESTAND MALL NEW DELHI', '283984 DUBAI UAE DUBAI', 'CARANZALEM PANAJI', 'VIHAR THANE WEST', 'DLEHI', 'VIDHYABHAVAN SURAT', 'MERCEDES SHOWROOM MUMBAI', 'PHOENIX MALL MUMBAI', 'KANAYANNUR', 'MKT NAVI MUMBAI', 'HARI NAGAR BUS STAND DELHI', 'TAL PALGHAR DIST THANE BOISAR', 'THAKURLI EAST THANE', 'NARELA', 'MOHAN NAGAR CHINCHWAD', 'ORISSA', 'TRISSUR', 'BAGADGANJ NAGPUR', 'SCHOOL GANNAVARAM', 'CITY DELHI', 'MITAI BANDAR HYDERABAD', 'GADKHOL', 'PYDHONIE MUMBAI MUMBAI MANDVIMUMBAI', 'SAMAJ NI WADI SURAT', 'DANDENONG', 'OXFORD SCHOOL MUMBAI', 'WEST MOTILAL NAGAR MUMBAI MUMBAI', 'CHURCH MUMBAI', 'TANK TADBUND HYDERABAD', 'TANJAVUR', 'KAILAS NEW DELHI', 'VISAKHAPATNAM (URBAN) VISAKHAPATNAM', 'PAPER HYDERABAD', 'P O POLURU', 'REPUBLIC MUMBAI', 'FLYOVER KOLKATTA', 'JODHPUR JODHPUR', 'MEHSANA', 'NAGAR HYDERABAD', 'WEST WAGLE I E THANE', 'S O MUMBAI MULUND WEST', 'BHATLURU', 'KHAIR', 'EAST THANE MUMBAI', 'POWAI ANDHERI EAST MUMBAI', 'MILLERGANJ', 'PITAMPURA', 'DELHI DELHI', 'TRIVANDRUM', 'MANAVADAR', 'DHARWARD', 'BHILAI', 'MH 06 KHARAGPUR', '24 AND 25A GURGAON', 'PEDNEM', 'MADURAI ST', 'OZAR', 'SARDARSHAHAR', 'VIEW NURSING HOME SILCHAR', 'NORWICH', 'SUBHASH NAGAR II', 'KOPARKHAIRNE NAVI MUMBAI THANE', 'KOLAR DIST', 'ST JOSE DE AREAL', 'PURVICHAMPARAN', 'THIRUVANMIYUR CHENNAI', 'NALLAGONDA', 'RD MALAD EAST MUMBAI', 'PAMMAL', 'PO DHANBAD DHANBAD', 'EAST S O MUMBAI MUMBAI', 'VISAKHAPATANAM', 'HOSHANGABAD ITARSI', 'BANDRA (W) MUMBAI', 'CITY FEROZEPUR', 'INDRI', 'VIDHYALAY DAMAN', 'KANDIKUPPA EAST GODAVARI', 'INDUSTRI MUMBAI', 'NR COSH HOSPITAL CHENNAI', 'KUBRI', 'AHMADI', 'KHUSKHERA', 'NAUPADA THANE THANE', '21 A FARIDABAD', 'CHANDIGARH (UT)', 'BHAVAN GRND NEW SIDDHARTH NGR', 'RAILWAY STATION NIGDI PUNE', 'MALAD WEST MUMBAI', 'BANK MARINE LINES MUMBAI', 'BHALEJ RD ANAND', 'GANJAM-DISTRICT', 'KALYAN THANE THANE', 'GOTRI BARODA', 'EAST SINGHBHUM', 'KANCHIPURAM DT', 'SAHARANPUR SAHARANPUR', 'BEHIND SANGEETA MOBILES BANGALORE', 'KARJAT', 'BUNGALOWS RAJKOT', 'TANIYA TOWN THA THANE', 'RD NO 2 GOREGAON (E) MUMBAI', 'OPP APOLO PHARMACY THANE WEST THANE', 'NAVI MUMAI', 'PATTI', 'RBK SCHOOL GOVANDI MUMBAI', 'ANKOLA', 'KALYAN-THANE', 'ROURKELA', 'RANCHI', 'BORIAVI ANAND', 'CHHIBRAMAU', '(URBAN) KRISHNA', 'PADA MALAD (W) MUMBAI', 'ANNAPURNESHWARI TEMPLE RD BANGALORE', 'KATRIYA HOTEL HYDERABAD', 'MAHBOOBNAGAR', 'NASIRABAD 63 GURGAON', 'TELANAGANA', 'AURANGABAD', 'AHMEDNAGAR', 'KATARGAM SURAT', 'MUMBAI VILE PARLE EAST', 'BANGALORE DIST', 'NAGPURRASTRA', 'BARAMATI', 'BHIMRANA', 'BALKUM THANE THANE', 'ST THOMAS TOWN BANGALORE', 'ROAD THANE', 'KALYANI', 'NIDADAVOLE', 'PANVEL', 'WEST GODAVARI', 'THALASSERI', 'FLYOVER ROAD FARIDABAD', 'SERVICE MUMBAI', 'ANANDPURR SAHIB', 'FARIDABAD', 'TOPH SHERKHANIAN', 'TADEPALLIGUDEM', 'FARM GR NOIDA', 'VASAI WEST THANE', 'OPP RD CHENNAI', 'GHANSOLI', 'SINGAPORE', 'ULLHASNAGARTHANE ULLHASNAGAR-4THANE', 'NEAR POTTISRIRAMULU STREET GUNTUR', 'KANYAKUMARIDIST', 'MADHYA PRADESH PIPARIYA', 'MOSCOW', 'MARATHALLI OUTER RING RD BANGALORE', 'PURULIA-1 NAMOPARA PURULIA-1', 'JAMSAEDPUR', 'ST THOMAS POST BANGALORE', 'KALANAUR', 'GARHWAL', 'PANT NAGAR', 'GANDEVI', 'GOPALPUR', 'GUNTUR DIST', 'PICHHORE', 'DAYTON', 'NR HOOGHLY RIVER KOLKATA', 'MOZI SCHOOL TRIDHAL NAGAR PUNE', 'WEST SO MUMBAI', 'CHOONDAL PANCHAYATH', 'RAYAMANGALAM', 'MOTI BEGAMWADI RING RD SURAT SURAT', 'BADLAPUR KULGAON THANE', 'BANARISI PAN BHANDAR MUMBAI', 'DIST BHARUCH ANKLESHWAR', 'AL NAKHEEL', 'SIGNAL SION(E) MUMBAI', 'HARDA', 'VILLUPURAM DT', 'AIRPORT RD BANGALORE', 'GOLF VILLAGE CHENNAI', 'SION EAST MUMBAI', 'CENTRE MUMBAI SUB URBAN', 'NARIYANGANAM P O', 'BATALA', 'RAMPUR', 'NR HERITAGE FRESH HYDERABAD', 'HOSTEL VENGALRAO NGR HYDERABAD', 'ROAD GURGAON', 'THIRUVULLORE', 'OPP CALIFORNIA PIZZA BANGALORE', 'SINDHUDURG - DISTRICT', 'IMPERIAL LANE LUDHIANA', 'CENTRAL DELHI DELHI', 'LAMINGTON ROAD MUMBAI', 'NAWALPARASI', 'U J B UDYAN MUMBAI', 'DEBNAGAR', 'GHATKOPAR EAST RAJAWADI MUMBAI', 'AKANKHA KOLKATA', 'OFFICE B P LANE MUMBAI', 'NALAGARH', 'LOWERPAREL WEST MUMBAI', 'CHICKABALLAPUR', 'TINSUKIA', 'PAZHAYANNUR', 'ULSAN', 'SHRIGONDA', 'SANGAREDDY', 'CENTRAL CAMERA BUILDING MUMBAI', 'PASHUPATI MKT SURAT', 'LANE MUMBAI', 'BURAKOTA ALMORA', 'NAGAR AJMER', 'BORIAVI', 'BYCULLA', 'JAWAJA', 'HEALTHCARE BACK VISAKHAPATNAM', 'SATIVALI VASAI EAST PALGHAR', 'PAONTA SAHIB', 'HOSPITAL RR DISTRICT', 'SINGHANA', 'DISTT PANIPAT PANIPAT', 'GEORAI BEED', 'OFFICE VAPI', 'NOKHA', 'BARWANI', 'PUNE CITY WANOWARIE PUNE', 'SO MUNDWA PUNE', 'MARGAO', 'SCHOOL NAGPUR', 'SANGRUR DHURI', 'DISTT HOSHIARPUR', 'PARK VIEW BHOPAL', 'NARASARAOPET', 'OPP HERITAGE BANGALORE', 'VIKASKENDRA NAVI MUMBAI', 'EPIP AREA WHITE FIELD BANGALORE', 'FARIDABAD NIT', 'KALABURAGI', 'SYDNEY', 'THOOTHUKKUDI', 'BURARI NEAR NALA DELHI', 'FEET ROAD NEW DELHI', 'BARAJAGULI', 'ROAD NASHIK', 'SOUTH ANDAMAN', 'KURLA WEST MUMBAI', 'MANPURI', 'HIGHWAY KANDIVALI EAST MUMBAI', 'DHUPGURI', 'ANTOP HILL MUMBAI', 'LAB NIT FARIDABAD', 'MURAD NAGAR', 'KADI', 'MAVELIKKARA', 'THIRUVALLA', 'NORTH  24 PARGANAS', 'ELPHINSTONE ROAD MUMBAI', 'THANE SHRI ARIHAT COMPOUND THANE', 'SERAIKELA', 'KUNIYIL', 'NANDIA', 'MUMBAI MAHIM WEST', 'DIST JAMNAGAR JAMNAGAR', 'EAST DELHI', 'BILEKAHALLI BANGALORE', 'CHEMBIKULAM', 'NEAR TARINI TEMPLE CUTTACK', 'CITY BANGALORE', 'JALAUN', 'N M JOSHI MARG LOWER PAREL MUMBAI', 'SHAJAPUR', 'DIGHA THANE NAVI MUMBAI', 'CHOMU JAIPUR', 'GANDHINAGAR GANDHINAGAR', 'PETA VIJAYAWADA', 'SHIMLA', 'AMBERNATH WEST', 'AGRA', 'NASHIK ROAD NASHIK', 'ROAD CHEMBUR MUMBAI', 'MUNGRA BADSHAHPUR', 'BHUBANESHWAR KHURDA', 'COMBATORE', 'TIVIM BARDEZ', 'BARAKHAMBA ROAD C P NEW DELHI', 'RAIPUR', 'II STAGE BANGALORE SOUTH BANGALORE', 'JEJURI', 'NAMAKKAL TD', 'YESHWANTHPURA BANGALORE', 'CHENGALPATTU', 'MAHIPALPUR EXTENSION NEW DELHI', 'BORDA MARGAO SALCETE', 'ALWAL HYDERABAD', 'SCHOOL KALYANI', 'UDAM SINGH NAGAR', 'SCHOOL STREET RAJAHMUNDRY', 'KOTRI', 'BENGLURU', 'QUINCY', 'RAILWAY STATION NAVI MUMBAI', 'UNAMAN CHERY CHENNAI', 'SOUTH WEST DELHI NEW DELHI', 'SALEMPUR', 'RESIDENCY SECUNDERABAD', 'UTTAR DHINAJPUR', 'HINGANGHAT', 'KOVAI', 'ULHASNAGAR ULHASNAGAR', 'HOSABETTU', 'INDORA', 'PURVAVANTAGE APT BENGALURU', 'MASJID GHAZIABAD', 'LANE HYDERABAD', 'PATIALA', 'CHITTO0R', 'WADALA EA MUMBAI', 'KARODU', 'KORIA', 'MAHABNAGAR', 'CUTTACK', 'TRIPLICANE CHENNAI', '(W)  MUMBAI', 'BAPULAPADU', 'BAMBOLIM', 'NARELA DELHI', 'CHOWKI KAJUPADA JARIMARI MUMBAI', 'MAPUSA (GOA)', 'BEHIND YES BANK LTD PUNE', 'VASANT KUNJ SOUTH WEST DELHI', 'MAVAL DIST PUNE', 'AMARAVATI', 'HAMBURG', 'FLYWAY   NOIDA', 'MEDHASAN', 'THWAL', 'EAGAN', 'GOHNA', 'ALLAHABAD', 'DIST DURG', 'ANDAMAN', 'PANCHVATI SOC SURAT', 'PRAKASAM DISTT', 'SANTACRUZ (E) MUMBAI', 'PORVORIM BARDEZ', 'OLD GOA TISWADI', 'RD E CITY MIRA BHAYANDAR MCL THANE', 'NANDIVALI KALYAN EST', 'KICHHA UDHAM SINGH NAGAR', 'BANER PUNE', 'LALAGUDA SECUNDERABAD HYDERABAD', 'TALIPARAMBA', 'KALYAN TILAKNAGAR THANE', 'SAHIPURI', 'BAIPAS JAIPUR', 'ARARIA', 'KODAD', 'BRIDGE PUNE', 'MIRA ROAD EAST  MUMBAI', 'AMORHA', 'ANDHERI EAST UMBAI', 'ANDUL', 'POYIL', 'AMBATTUR', 'DAIRY NUBERDAR CHOWK NEW DELHI', 'CHUNABHATTI SIGNAL SION E', 'HUJURNAGAR', 'FATEHNAGAR', 'SIVAGANGAI TK', 'KOPPAL', 'CAMP PUNE', 'DISTT PUNE', 'ROADSHYDERABAD', 'MORINDA', 'DOMBIVALI  THANE', 'NO 54 VIJAYNAGAR A B ROAD INDORE', 'II FLOOR CHENNAI', 'PEN RAIGARH', 'SOUTH JAYANAGAR III BLOCK BANGALORE', 'NAGAR HIGHWAY AHMEDABAD', 'BACK SIDE BANGALORE', 'BUST STOP MIDC RD ANDHERI(E) MUMBAI', 'BARASAT', 'GUNTUR DISTRICT', 'NAME EAST KHASI HILLS SHILLONG', 'NR METRO STATION BANGALORE', 'COORG', 'BANGALORE HEBBAL', 'MUMBAI G P O MUMBAI', 'SEELAMPUR NR SUNHARI MASJID DELHI', 'SAHIBABAD', 'KHARSAWAN', 'CBE1', 'FORUM MALL HYDERABAD', 'ANDHERI LINK RD ANDHERI W MUMBAI', 'GURU VILL BUNGALOWS ANAND', 'CENTER HYDERABAD', 'OZAR(MIG) TAL NIPHAD', 'UKHRUL DIST', 'ARUPPUKKOTAI', 'BHANDUP WEST MUMBAI', 'NEDUMPURAM', 'TIRUCHIRAPPALI', 'NR JAIN TEMPLE BANGALORE RURAL', 'KOKANRATNA HOTEL KALYAN WEST', 'MALOUT', 'NOIDA EXPRESSWAY NOIDA', 'SWEILEH', 'EXTENSION MUMBAI', 'GOBI', '2ND A CROSS BENGALURU', 'VYARA', 'OFF S V RD MUMBAI', 'CANNAUGHTPLACE DELHI', 'WEST DELHI', 'KANNYAKUMARI', 'MADHYAMGRAM', 'NAGAR KANPUR', 'COMPOUND TARDEO MUMBAI', 'ABV AXIS BANK NAGPUR', 'THE ACRE CLUB CHEMBUR MUMBAI', 'TIRUPATI CHITTOOR DT', 'VIL GURGAON 1 TEH GURGAON', 'VISAKHA PATNAM', 'PILERNE', 'BENGGALOORU', 'JALGAON', 'SADAR', 'KUTTOOR PANCHAYATH', 'MARGHERITA', 'CHOOLAIMEDU', 'SCHOOL COIMBATORE', 'THANE', 'AKOLA', '1600806 BANGALORE', 'TEHSIL BHIVAPUR', 'THANE SANDUZBAUGH', 'WAYNAD', 'AL QUOZ IND 3', 'NR 6 SEC BUS ST BANGALORE', 'INDIRANAGAR BANGALORE', 'DRANNIE BESANT RD PRABHADEVI MUMBAI', 'MARY SCHOOL MIRAROAD (E) THANE', 'VLR DT', 'THANE MUMBAI', 'MALL PUNE', 'SOUTH BIDAR', 'THANE THANE', 'MANDAL LIBRARY MUMBAI', 'BHAYANDER (E) THANE', 'COLLAGE THANE', 'FREMONT', 'HISAR', 'RANNI', 'SOUTH 24 PARGANAS', 'PANCHAYATHA KOLLAM', 'JEWELLARS THANE', 'ROAD SAKINAKA MUMBAI', 'R R DIST RANGAREDDY DIST', 'DEFENCE COLONY NEW DELHI', 'SCHOOL MUMBAI', 'DIST SURENDRANAGAR', 'MAJARI', 'PANNA SHOPPING CENTRE JOGESHWARI W', 'VERNAKULAM', 'KHAGARIA', 'MUMA', 'COLONY GOREGAON E MUMBAI', 'SION MUMBAI', 'MILLENNIUM BANGALORE', 'CHIKALI CHIKALI  BULDHANA CHIKALI', 'GUTEKADI PUNE', 'CHAURACHANDPUR', 'PUTHUKKAD', 'NIDIGONDA', 'RASIPURAM', 'LOUTOLIM SALCETE', 'GANGOLIHAT', 'AMALSADA', 'EAST GODAVARI', 'PEN', 'GANA', 'SITARAM JADHAV  MARG MUMBAI', 'KOISEWADI KALYAN EAST KALYAN  EAST', 'MADIPAKKAM', 'TELANGANA', 'PATNI', 'NAGASANDRA BANGALORE', 'CHAKALA ANDHERI (EAST) MUMBAI', 'VIRGONAGAR POST BANGALORE', 'EAST GANGTOK', 'DAVANGERE', 'LAKHIMPUR-KHERI', 'SUPAUL', 'UMRETH', 'MOSES RD MAHALAXMI MUMBAI', 'DOMBIVALI WEST VISHNUNAGAR THANE', 'AKRUTI TRADE CENTRE MUMBAI', 'BHAWANI SHANKAR MUMBAI', 'PURI', 'POKHRAN ROAD NO 2 THANE', 'ROAD PUNAGAM SURAT', 'NEW PANVEL RAIGARH', 'EXPRESSWAY NOIDA', 'JAMMU', 'AMBUR VELLORE', 'TALUKA MAVAL PUNE', 'BEGUMPET', 'MUSHEERABAD MAIN RD HYDERABAD', 'DAVORLIM', 'NAGERCOIL K K DIST', 'THOOTHOKUDI'], [0.0, 1.0, 2.0, 3.0], ['Apr-Jun', 'Jul-Sept', 'Jan-Mar', 'Oct-Dec'], ['Morning', 'Afternoon', 'Night', 'Late evening'], ['Big', 'Medium', 'Small'], ['old', 'teen-ager', 'adult', 'child']]\n"
          ]
        }
      ],
      "source": [
        "all_unique_values = []\n",
        "for column in modified_df:\n",
        "  values = modified_df[column].unique().tolist()\n",
        "  set_values = set(values)\n",
        "  unique_values = list(set_values)\n",
        "  all_unique_values.append(unique_values)\n",
        "print(all_unique_values)"
      ]
    },
    {
      "cell_type": "code",
      "execution_count": 10,
      "metadata": {
        "id": "G3e9WrZGGetJ"
      },
      "outputs": [],
      "source": [
        "unique_data = [x[i] for x in all_unique_values for i in range(len(x))]"
      ]
    },
    {
      "cell_type": "code",
      "execution_count": 11,
      "metadata": {
        "colab": {
          "base_uri": "https://localhost:8080/"
        },
        "id": "c1FxCqQDKMqT",
        "outputId": "34fc07ba-d216-4991-9504-a8f60740fe31"
      },
      "outputs": [
        {
          "output_type": "stream",
          "name": "stdout",
          "text": [
            "the number of unique unigrams is:  9000\n"
          ]
        }
      ],
      "source": [
        "print('the number of unique unigrams is: ', len(unique_data))"
      ]
    },
    {
      "cell_type": "code",
      "execution_count": 12,
      "metadata": {
        "id": "a8SS0Yr62AKq"
      },
      "outputs": [],
      "source": [
        "#we want the shingles not to be ordered\n",
        "import random\n",
        "random.shuffle(unique_data)"
      ]
    },
    {
      "cell_type": "code",
      "execution_count": null,
      "metadata": {
        "colab": {
          "base_uri": "https://localhost:8080/"
        },
        "id": "oz6rqpyorR8X",
        "outputId": "7f4690e8-cac8-4864-e14b-d57d01f2e6c5"
      },
      "outputs": [
        {
          "output_type": "execute_result",
          "data": {
            "text/plain": [
              "<function BufferedWriter.close>"
            ]
          },
          "metadata": {},
          "execution_count": 11
        }
      ],
      "source": [
        "with open('shingles.pkl', 'wb') as f:\n",
        "    pickle.dump(unique_data, f)\n",
        "f.close"
      ]
    },
    {
      "cell_type": "markdown",
      "metadata": {
        "id": "SxInbyhb5GrK"
      },
      "source": [
        "#### STEP 3: Build the Characteristic matrix"
      ]
    },
    {
      "cell_type": "code",
      "execution_count": 13,
      "metadata": {
        "id": "z5ewHOGnx8RN"
      },
      "outputs": [],
      "source": [
        "import pickle\n",
        "import numpy as np\n",
        "import pandas as pd"
      ]
    },
    {
      "cell_type": "code",
      "execution_count": 14,
      "metadata": {
        "id": "nzuudvy5wXtI",
        "colab": {
          "base_uri": "https://localhost:8080/"
        },
        "outputId": "46387063-26bb-46f6-82ea-08262185b6f9"
      },
      "outputs": [
        {
          "output_type": "execute_result",
          "data": {
            "text/plain": [
              "<function BufferedReader.close>"
            ]
          },
          "metadata": {},
          "execution_count": 14
        }
      ],
      "source": [
        "#open the pickle file\n",
        "with open('modified_df.pkl', 'rb') as f:\n",
        "    modified_df = pickle.load(f)\n",
        "f.close"
      ]
    },
    {
      "cell_type": "code",
      "source": [
        "#create characteristic matrix\n",
        "#we use the panda function pd.get_dummies, which convert categorical variable into dummy/indicator variables\n",
        "#for each categorical variable we create a row of the characteristic matrix \n",
        "gender = pd.get_dummies(modified_df['CustGender'])\n",
        "balance = pd.get_dummies(modified_df['discrete_balance'])\n",
        "months = pd.get_dummies(modified_df['period_year'])\n",
        "days = pd.get_dummies(modified_df['period_day'])\n",
        "size = pd.get_dummies(modified_df['transaction_size'])\n",
        "age = pd.get_dummies(modified_df['age_group'])\n"
      ],
      "metadata": {
        "id": "rbt-lbngdizQ"
      },
      "execution_count": 15,
      "outputs": []
    },
    {
      "cell_type": "code",
      "source": [
        "char_matrix1 = np.concatenate([gender, balance, months, days, size, age], axis = 1) #horizontal_concat"
      ],
      "metadata": {
        "id": "qAq2HLUQkHe0"
      },
      "execution_count": 16,
      "outputs": []
    },
    {
      "cell_type": "code",
      "source": [
        "char_matrix1"
      ],
      "metadata": {
        "colab": {
          "base_uri": "https://localhost:8080/"
        },
        "id": "pwNeqcOybJeH",
        "outputId": "9e1e089c-b641-45f9-cd60-f395d5edb08d"
      },
      "execution_count": 17,
      "outputs": [
        {
          "output_type": "execute_result",
          "data": {
            "text/plain": [
              "array([[0, 1, 0, ..., 0, 0, 0],\n",
              "       [0, 1, 0, ..., 0, 0, 1],\n",
              "       [0, 1, 0, ..., 0, 0, 0],\n",
              "       ...,\n",
              "       [0, 1, 0, ..., 0, 0, 1],\n",
              "       [0, 1, 0, ..., 0, 0, 1],\n",
              "       [0, 1, 0, ..., 0, 0, 0]], dtype=uint8)"
            ]
          },
          "metadata": {},
          "execution_count": 17
        }
      ]
    },
    {
      "cell_type": "markdown",
      "source": [
        "I tried to add the cities as shingles but, for RAM problems I couldn't handle them. I realize it is a problem for finding similar customer but I was not able to figure out how to solve the issue. "
      ],
      "metadata": {
        "id": "l9hFqv-bZXG7"
      }
    },
    {
      "cell_type": "code",
      "source": [
        "char_m = np.transpose(char_matrix1)"
      ],
      "metadata": {
        "id": "GVOm5vURlUXz"
      },
      "execution_count": 18,
      "outputs": []
    },
    {
      "cell_type": "code",
      "source": [
        "char_m.shape"
      ],
      "metadata": {
        "colab": {
          "base_uri": "https://localhost:8080/"
        },
        "id": "A1ITAm9s6ISu",
        "outputId": "9922572f-90ff-48ff-81e1-d942d22096f2"
      },
      "execution_count": 19,
      "outputs": [
        {
          "output_type": "execute_result",
          "data": {
            "text/plain": [
              "(22, 879359)"
            ]
          },
          "metadata": {},
          "execution_count": 19
        }
      ]
    },
    {
      "cell_type": "markdown",
      "source": [
        "Now that we have the characteristic matrix we can create the signature matrix. "
      ],
      "metadata": {
        "id": "tLySsey7aSct"
      }
    },
    {
      "cell_type": "markdown",
      "metadata": {
        "id": "QM5T-rbNTxth"
      },
      "source": [
        "#### STEP 4: Create the Signature Matrix"
      ]
    },
    {
      "cell_type": "markdown",
      "metadata": {
        "id": "Bzfe-FXq67Ia"
      },
      "source": [
        "Instead of picking n random permutations of rows, we pick n randomly\n",
        "chosen hash functions $\\ h_1, h_2, . . . , h_n$ on the rows. We construct the signature\n",
        "matrix by considering each row in their given order. "
      ]
    },
    {
      "cell_type": "code",
      "execution_count": 20,
      "metadata": {
        "id": "ThlkM2J7ah1V"
      },
      "outputs": [],
      "source": [
        "import random "
      ]
    },
    {
      "cell_type": "code",
      "execution_count": 21,
      "metadata": {
        "id": "scBBXWDPG_gz"
      },
      "outputs": [],
      "source": [
        "#define a function to generate n hash function (for simulating the effect of th epermutations of the row of the characteristic matrix)\n",
        "def n_hash(row, n, p):  #p is the size of the hash table. Its value is the first prime number after the last shingle\n",
        "  hash_list = []\n",
        "  for _ in range(n):\n",
        "    h = random.randint(1, n)*(row) % p\n",
        "    hash_list.append(h)\n",
        "  return hash_list"
      ]
    },
    {
      "cell_type": "markdown",
      "metadata": {
        "id": "IUmByXx7f8fG"
      },
      "source": [
        "Now that we choose the hash functions we can construct the signature matrix. It will have as many rows as the number of hash functions. "
      ]
    },
    {
      "cell_type": "code",
      "execution_count": 22,
      "metadata": {
        "id": "IdZr9wwfrOZi"
      },
      "outputs": [],
      "source": [
        "from tqdm import tqdm"
      ]
    },
    {
      "cell_type": "code",
      "execution_count": 23,
      "metadata": {
        "id": "CHzNltWYlZCn"
      },
      "outputs": [],
      "source": [
        "import numpy as np"
      ]
    },
    {
      "cell_type": "code",
      "execution_count": 24,
      "metadata": {
        "id": "D-SAvZQWjgzK"
      },
      "outputs": [],
      "source": [
        "#pre-allocate memory for the signature matrix\n",
        "signatures = np.matrix(np.ones((22, char_m.shape[1]))* np.inf)\n",
        "#the signature matrix has a shape (22, 879359) and every element is infinity"
      ]
    },
    {
      "cell_type": "code",
      "execution_count": 25,
      "metadata": {
        "colab": {
          "base_uri": "https://localhost:8080/"
        },
        "id": "ssEcjDljls0p",
        "outputId": "216838c0-2b2f-44d0-fb0f-d99975ae288d"
      },
      "outputs": [
        {
          "output_type": "execute_result",
          "data": {
            "text/plain": [
              "matrix([[inf, inf, inf, ..., inf, inf, inf],\n",
              "        [inf, inf, inf, ..., inf, inf, inf],\n",
              "        [inf, inf, inf, ..., inf, inf, inf],\n",
              "        ...,\n",
              "        [inf, inf, inf, ..., inf, inf, inf],\n",
              "        [inf, inf, inf, ..., inf, inf, inf],\n",
              "        [inf, inf, inf, ..., inf, inf, inf]])"
            ]
          },
          "metadata": {},
          "execution_count": 25
        }
      ],
      "source": [
        "signatures"
      ]
    },
    {
      "cell_type": "code",
      "execution_count": 26,
      "metadata": {
        "id": "czKgXAt4dVNF",
        "colab": {
          "base_uri": "https://localhost:8080/"
        },
        "outputId": "564072cc-5b0b-4236-d911-8a8881868641"
      },
      "outputs": [
        {
          "output_type": "stream",
          "name": "stderr",
          "text": [
            "100%|██████████| 22/22 [03:29<00:00,  9.54s/it]\n"
          ]
        }
      ],
      "source": [
        "#scan over the row of the caracteristic matrix\n",
        "for row in tqdm(range(char_m .shape[0])):\n",
        "  \n",
        "  hash_list = n_hash(row, 750, 757)  #we choose 750 hash functions #757 is the first prime number after 500\n",
        " \n",
        "\n",
        "  #slide over the columns of the characteristic matrix\n",
        "  for col in range(char_m.shape[1]): \n",
        "    if char_m[row, col] == 1:\n",
        "      #print(char_matrix[row, col])\n",
        "      #scan over the rows of the signature matrix\n",
        "      for i in range(signatures.shape[0]): \n",
        "        signatures[i, col] = min(hash_list[i],signatures[i, col])\n"
      ]
    },
    {
      "cell_type": "code",
      "source": [
        "signatures"
      ],
      "metadata": {
        "colab": {
          "base_uri": "https://localhost:8080/"
        },
        "id": "NhDuy1E8s0Ei",
        "outputId": "2ac0a8c0-0020-48d0-d4c3-c98bf35b1bde"
      },
      "execution_count": 28,
      "outputs": [
        {
          "output_type": "execute_result",
          "data": {
            "text/plain": [
              "matrix([[ 46.,  81.,  51., ...,  81.,  81.,  51.],\n",
              "        [ 32.,  32.,  32., ...,  32.,  32.,  32.],\n",
              "        [ 19.,  70.,  19., ...,  70.,  70.,  19.],\n",
              "        ...,\n",
              "        [ 36.,  36.,  36., ...,  36.,  36.,  36.],\n",
              "        [207.,  79.,  79., ..., 503.,  79.,  79.],\n",
              "        [ 24.,  63.,  24., ..., 303.,  63.,  37.]])"
            ]
          },
          "metadata": {},
          "execution_count": 28
        }
      ]
    },
    {
      "cell_type": "markdown",
      "source": [
        "#### STEP 5: Map each consumer to its bin"
      ],
      "metadata": {
        "id": "vqbX6m5Uuuqt"
      }
    },
    {
      "cell_type": "markdown",
      "metadata": {
        "id": "bYJKge0zdPRw"
      },
      "source": [
        "\n",
        "- One general approach to LSH is to “hash” items several times, in such a way that **similar items are more likely to be hashed to the same bucket than dissimilar\n",
        "items are**. \n",
        "\n",
        "\n",
        "- We then consider any pair that hashed to the same bucket for any\n",
        "of the hashings to be a *candidate pair*. We check only the candidate pairs for\n",
        "similarity. The hope is that most of the dissimilar pairs will never hash to the\n",
        "same bucket, and therefore will never be checked. \n",
        "\n",
        "\n",
        "- If we have minhash signatures for the items, an effective way to choose the\n",
        "hashings is to divide the signature matrix into **b bands consisting of r rows**\n",
        "each."
      ]
    },
    {
      "cell_type": "markdown",
      "metadata": {
        "id": "6BSZUEwoemjY"
      },
      "source": [
        "Regardless of what those columns look like in the other three bands, this pair\n",
        "of columns will be a candidate pair. "
      ]
    },
    {
      "cell_type": "code",
      "execution_count": 29,
      "metadata": {
        "colab": {
          "base_uri": "https://localhost:8080/"
        },
        "id": "7evlUO4pxufw",
        "outputId": "fe9865f3-5b76-4644-dffb-845cb989bb84"
      },
      "outputs": [
        {
          "output_type": "execute_result",
          "data": {
            "text/plain": [
              "(22, 879359)"
            ]
          },
          "metadata": {},
          "execution_count": 29
        }
      ],
      "source": [
        "signatures.shape"
      ]
    },
    {
      "cell_type": "markdown",
      "metadata": {
        "id": "t6NRtBWLd0jF"
      },
      "source": [
        "- **Threshold choice**\n",
        "\\\n",
        "Choose a threshold t that defines how similar documents have to be in\n",
        "order for them to be regarded as a desired *“similar pair”*. \n",
        " Pick a number\n",
        "of bands b and a number of rows r such that:\n",
        "\\\n",
        "$\\ b*r = n$\n",
        "\\\n",
        " and the threshold\n",
        "t is approximately \n",
        "\\\n",
        "$ t = \\frac{1}{b}^ \\frac{1}{r}$\n",
        "\n"
      ]
    },
    {
      "cell_type": "markdown",
      "metadata": {
        "id": "WAQpmgMHeweM"
      },
      "source": [
        "We have 17 rows. The combination of r and b we can try are:\n",
        "- b = 22, r = 1;\n",
        "- b = 1, r = 22;\n",
        "- b = 2, r = 11; \n",
        " "
      ]
    },
    {
      "cell_type": "code",
      "execution_count": 30,
      "metadata": {
        "colab": {
          "base_uri": "https://localhost:8080/"
        },
        "id": "etvyLSdefzXc",
        "outputId": "ab42988b-67e6-4cf8-e40f-9c5e58cb66a5"
      },
      "outputs": [
        {
          "output_type": "stream",
          "name": "stdout",
          "text": [
            "t__22 = 0.045454545454545456\n",
            "t_1 = 1.0\n",
            "t_2 = 0.9389309106617063\n"
          ]
        }
      ],
      "source": [
        "#b = 15, r = 1\n",
        "print('t__22 =', 1/22)      #Very bad threshold\n",
        "print('t_1 =', 1**(1/22))   #Ideal one. \n",
        "print('t_2 =', (1/2)**(1/11))"
      ]
    },
    {
      "cell_type": "markdown",
      "metadata": {
        "id": "cMgURYuVh5vB"
      },
      "source": [
        "Since we preprocessed the dataset in order to have dicrete bins of values, we want customers in the same bucket to have the **exact** same values for them. Only in this way we can be sure, once we go back to the original dataframe, to have the most similar customers. "
      ]
    },
    {
      "cell_type": "markdown",
      "source": [
        "Now we have to think. The choice of discretize the dataset as we did so far was a bit risky. Moreover, by setting a threshold that allows only identical signatures to be in the same bucket (not unlikely at all, since a subset of bins can be related to more than one customer for its low specifity) we have to be sure that the number of buckets is adequate. The only thing we can do at this point is set the dimension of the hash table in order to reduce the number of false positives. \n",
        "Since the number of customers is more than 879000 we can assume that at least 40 customers should go into the same bucket."
      ],
      "metadata": {
        "id": "CmwJgxDKvvYe"
      }
    },
    {
      "cell_type": "code",
      "source": [
        "!pwd"
      ],
      "metadata": {
        "colab": {
          "base_uri": "https://localhost:8080/"
        },
        "id": "hznxpz9pyWyv",
        "outputId": "a0e42e5a-ff39-40d1-bcce-54c8394152be"
      },
      "execution_count": null,
      "outputs": [
        {
          "output_type": "stream",
          "name": "stdout",
          "text": [
            "/content/drive/MyDrive/ADM_HW_4\n"
          ]
        }
      ]
    },
    {
      "cell_type": "code",
      "execution_count": 31,
      "metadata": {
        "id": "9U7sTEkPoI5I"
      },
      "outputs": [],
      "source": [
        "from tqdm import tqdm \n",
        "import random\n",
        "import math"
      ]
    },
    {
      "cell_type": "code",
      "execution_count": 34,
      "metadata": {
        "colab": {
          "base_uri": "https://localhost:8080/"
        },
        "id": "3TjjIFrYnFk_",
        "outputId": "6046f1fd-d090-435c-ee1e-6b9d7699898e"
      },
      "outputs": [
        {
          "output_type": "stream",
          "name": "stderr",
          "text": [
            "100%|██████████| 879359/879359 [00:49<00:00, 17820.09it/s]\n"
          ]
        }
      ],
      "source": [
        "#scan over the column of the signature matrix\n",
        "buckets = {}\n",
        "b = 720 #equal elements we expect to be in the same buckets (720 = 6!)\n",
        "n = math.floor(signatures.shape[1]/b)    \n",
        "for col in tqdm(range(signatures.shape[1])):\n",
        "  bucket = 0\n",
        "  #for j in range(3):  #b = 1\n",
        "  for i in range(22):   # r = 17\n",
        "    bucket += signatures[i,col]*random.randint(1, n-1)  #hash function we apply to each column of the signature matrix\n",
        "  bucket = bucket %n\n",
        "  if bucket not in buckets.keys():\n",
        "    buckets[bucket] = [col]   \n",
        "  else: \n",
        "    buckets[bucket].append(col)\n"
      ]
    },
    {
      "cell_type": "code",
      "execution_count": 35,
      "metadata": {
        "colab": {
          "base_uri": "https://localhost:8080/"
        },
        "id": "zcpFk36Do5S9",
        "outputId": "1a67a4d7-4b33-44f4-b12b-e349135d1a57"
      },
      "outputs": [
        {
          "output_type": "execute_result",
          "data": {
            "text/plain": [
              "1221"
            ]
          },
          "metadata": {},
          "execution_count": 35
        }
      ],
      "source": [
        "len(buckets.keys())"
      ]
    },
    {
      "cell_type": "code",
      "source": [
        "len(buckets[list(buckets.keys())[2]])"
      ],
      "metadata": {
        "colab": {
          "base_uri": "https://localhost:8080/"
        },
        "id": "zh2ScKkEADwh",
        "outputId": "1ff5881a-92f3-48db-eab5-9f68a4f664ea"
      },
      "execution_count": 36,
      "outputs": [
        {
          "output_type": "execute_result",
          "data": {
            "text/plain": [
              "498"
            ]
          },
          "metadata": {},
          "execution_count": 36
        }
      ]
    },
    {
      "cell_type": "code",
      "source": [
        "bucket_test = buckets[list(buckets.keys())[0]]"
      ],
      "metadata": {
        "id": "CuuZy9Zv366f"
      },
      "execution_count": 37,
      "outputs": []
    },
    {
      "cell_type": "code",
      "source": [
        "modified_df.filter(bucket_test, axis = 0)"
      ],
      "metadata": {
        "colab": {
          "base_uri": "https://localhost:8080/",
          "height": 424
        },
        "id": "5MlJLD-i4ERR",
        "outputId": "a35c6866-bb51-4ff8-9320-84a0c0bdefc3"
      },
      "execution_count": 38,
      "outputs": [
        {
          "output_type": "execute_result",
          "data": {
            "text/plain": [
              "       CustGender         CustLocation  discrete_balance period_year  \\\n",
              "0               M            NEW DELHI               3.0    Jul-Sept   \n",
              "39              M                SURAT               0.0    Jul-Sept   \n",
              "322             M                 PUNE               3.0    Jul-Sept   \n",
              "8221            M            DHARUHERA               2.0     Jan-Mar   \n",
              "12047           M              KAITHAL               0.0    Jul-Sept   \n",
              "...           ...                  ...               ...         ...   \n",
              "870740          M            HYDERABAD               1.0     Apr-Jun   \n",
              "870973          M            PANCHKULA               2.0     Oct-Dec   \n",
              "877128          M  GAUTAM BUDDHA NAGAR               0.0     Apr-Jun   \n",
              "877539          M            BANGALORE               1.0    Jul-Sept   \n",
              "879274          M              GURGAON               0.0     Jan-Mar   \n",
              "\n",
              "          period_day transaction_size  age_group  \n",
              "0              Night           Medium      adult  \n",
              "39      Late evening            Small      adult  \n",
              "322     Late evening           Medium      adult  \n",
              "8221    Late evening           Medium      adult  \n",
              "12047   Late evening            Small      adult  \n",
              "...              ...              ...        ...  \n",
              "870740       Morning            Small      adult  \n",
              "870973  Late evening              Big      adult  \n",
              "877128       Morning            Small  teen-ager  \n",
              "877539  Late evening            Small      adult  \n",
              "879274       Morning            Small      adult  \n",
              "\n",
              "[526 rows x 7 columns]"
            ],
            "text/html": [
              "\n",
              "  <div id=\"df-21a5293f-fa60-4cbc-b48d-f3f40a533bac\">\n",
              "    <div class=\"colab-df-container\">\n",
              "      <div>\n",
              "<style scoped>\n",
              "    .dataframe tbody tr th:only-of-type {\n",
              "        vertical-align: middle;\n",
              "    }\n",
              "\n",
              "    .dataframe tbody tr th {\n",
              "        vertical-align: top;\n",
              "    }\n",
              "\n",
              "    .dataframe thead th {\n",
              "        text-align: right;\n",
              "    }\n",
              "</style>\n",
              "<table border=\"1\" class=\"dataframe\">\n",
              "  <thead>\n",
              "    <tr style=\"text-align: right;\">\n",
              "      <th></th>\n",
              "      <th>CustGender</th>\n",
              "      <th>CustLocation</th>\n",
              "      <th>discrete_balance</th>\n",
              "      <th>period_year</th>\n",
              "      <th>period_day</th>\n",
              "      <th>transaction_size</th>\n",
              "      <th>age_group</th>\n",
              "    </tr>\n",
              "  </thead>\n",
              "  <tbody>\n",
              "    <tr>\n",
              "      <th>0</th>\n",
              "      <td>M</td>\n",
              "      <td>NEW DELHI</td>\n",
              "      <td>3.0</td>\n",
              "      <td>Jul-Sept</td>\n",
              "      <td>Night</td>\n",
              "      <td>Medium</td>\n",
              "      <td>adult</td>\n",
              "    </tr>\n",
              "    <tr>\n",
              "      <th>39</th>\n",
              "      <td>M</td>\n",
              "      <td>SURAT</td>\n",
              "      <td>0.0</td>\n",
              "      <td>Jul-Sept</td>\n",
              "      <td>Late evening</td>\n",
              "      <td>Small</td>\n",
              "      <td>adult</td>\n",
              "    </tr>\n",
              "    <tr>\n",
              "      <th>322</th>\n",
              "      <td>M</td>\n",
              "      <td>PUNE</td>\n",
              "      <td>3.0</td>\n",
              "      <td>Jul-Sept</td>\n",
              "      <td>Late evening</td>\n",
              "      <td>Medium</td>\n",
              "      <td>adult</td>\n",
              "    </tr>\n",
              "    <tr>\n",
              "      <th>8221</th>\n",
              "      <td>M</td>\n",
              "      <td>DHARUHERA</td>\n",
              "      <td>2.0</td>\n",
              "      <td>Jan-Mar</td>\n",
              "      <td>Late evening</td>\n",
              "      <td>Medium</td>\n",
              "      <td>adult</td>\n",
              "    </tr>\n",
              "    <tr>\n",
              "      <th>12047</th>\n",
              "      <td>M</td>\n",
              "      <td>KAITHAL</td>\n",
              "      <td>0.0</td>\n",
              "      <td>Jul-Sept</td>\n",
              "      <td>Late evening</td>\n",
              "      <td>Small</td>\n",
              "      <td>adult</td>\n",
              "    </tr>\n",
              "    <tr>\n",
              "      <th>...</th>\n",
              "      <td>...</td>\n",
              "      <td>...</td>\n",
              "      <td>...</td>\n",
              "      <td>...</td>\n",
              "      <td>...</td>\n",
              "      <td>...</td>\n",
              "      <td>...</td>\n",
              "    </tr>\n",
              "    <tr>\n",
              "      <th>870740</th>\n",
              "      <td>M</td>\n",
              "      <td>HYDERABAD</td>\n",
              "      <td>1.0</td>\n",
              "      <td>Apr-Jun</td>\n",
              "      <td>Morning</td>\n",
              "      <td>Small</td>\n",
              "      <td>adult</td>\n",
              "    </tr>\n",
              "    <tr>\n",
              "      <th>870973</th>\n",
              "      <td>M</td>\n",
              "      <td>PANCHKULA</td>\n",
              "      <td>2.0</td>\n",
              "      <td>Oct-Dec</td>\n",
              "      <td>Late evening</td>\n",
              "      <td>Big</td>\n",
              "      <td>adult</td>\n",
              "    </tr>\n",
              "    <tr>\n",
              "      <th>877128</th>\n",
              "      <td>M</td>\n",
              "      <td>GAUTAM BUDDHA NAGAR</td>\n",
              "      <td>0.0</td>\n",
              "      <td>Apr-Jun</td>\n",
              "      <td>Morning</td>\n",
              "      <td>Small</td>\n",
              "      <td>teen-ager</td>\n",
              "    </tr>\n",
              "    <tr>\n",
              "      <th>877539</th>\n",
              "      <td>M</td>\n",
              "      <td>BANGALORE</td>\n",
              "      <td>1.0</td>\n",
              "      <td>Jul-Sept</td>\n",
              "      <td>Late evening</td>\n",
              "      <td>Small</td>\n",
              "      <td>adult</td>\n",
              "    </tr>\n",
              "    <tr>\n",
              "      <th>879274</th>\n",
              "      <td>M</td>\n",
              "      <td>GURGAON</td>\n",
              "      <td>0.0</td>\n",
              "      <td>Jan-Mar</td>\n",
              "      <td>Morning</td>\n",
              "      <td>Small</td>\n",
              "      <td>adult</td>\n",
              "    </tr>\n",
              "  </tbody>\n",
              "</table>\n",
              "<p>526 rows × 7 columns</p>\n",
              "</div>\n",
              "      <button class=\"colab-df-convert\" onclick=\"convertToInteractive('df-21a5293f-fa60-4cbc-b48d-f3f40a533bac')\"\n",
              "              title=\"Convert this dataframe to an interactive table.\"\n",
              "              style=\"display:none;\">\n",
              "        \n",
              "  <svg xmlns=\"http://www.w3.org/2000/svg\" height=\"24px\"viewBox=\"0 0 24 24\"\n",
              "       width=\"24px\">\n",
              "    <path d=\"M0 0h24v24H0V0z\" fill=\"none\"/>\n",
              "    <path d=\"M18.56 5.44l.94 2.06.94-2.06 2.06-.94-2.06-.94-.94-2.06-.94 2.06-2.06.94zm-11 1L8.5 8.5l.94-2.06 2.06-.94-2.06-.94L8.5 2.5l-.94 2.06-2.06.94zm10 10l.94 2.06.94-2.06 2.06-.94-2.06-.94-.94-2.06-.94 2.06-2.06.94z\"/><path d=\"M17.41 7.96l-1.37-1.37c-.4-.4-.92-.59-1.43-.59-.52 0-1.04.2-1.43.59L10.3 9.45l-7.72 7.72c-.78.78-.78 2.05 0 2.83L4 21.41c.39.39.9.59 1.41.59.51 0 1.02-.2 1.41-.59l7.78-7.78 2.81-2.81c.8-.78.8-2.07 0-2.86zM5.41 20L4 18.59l7.72-7.72 1.47 1.35L5.41 20z\"/>\n",
              "  </svg>\n",
              "      </button>\n",
              "      \n",
              "  <style>\n",
              "    .colab-df-container {\n",
              "      display:flex;\n",
              "      flex-wrap:wrap;\n",
              "      gap: 12px;\n",
              "    }\n",
              "\n",
              "    .colab-df-convert {\n",
              "      background-color: #E8F0FE;\n",
              "      border: none;\n",
              "      border-radius: 50%;\n",
              "      cursor: pointer;\n",
              "      display: none;\n",
              "      fill: #1967D2;\n",
              "      height: 32px;\n",
              "      padding: 0 0 0 0;\n",
              "      width: 32px;\n",
              "    }\n",
              "\n",
              "    .colab-df-convert:hover {\n",
              "      background-color: #E2EBFA;\n",
              "      box-shadow: 0px 1px 2px rgba(60, 64, 67, 0.3), 0px 1px 3px 1px rgba(60, 64, 67, 0.15);\n",
              "      fill: #174EA6;\n",
              "    }\n",
              "\n",
              "    [theme=dark] .colab-df-convert {\n",
              "      background-color: #3B4455;\n",
              "      fill: #D2E3FC;\n",
              "    }\n",
              "\n",
              "    [theme=dark] .colab-df-convert:hover {\n",
              "      background-color: #434B5C;\n",
              "      box-shadow: 0px 1px 3px 1px rgba(0, 0, 0, 0.15);\n",
              "      filter: drop-shadow(0px 1px 2px rgba(0, 0, 0, 0.3));\n",
              "      fill: #FFFFFF;\n",
              "    }\n",
              "  </style>\n",
              "\n",
              "      <script>\n",
              "        const buttonEl =\n",
              "          document.querySelector('#df-21a5293f-fa60-4cbc-b48d-f3f40a533bac button.colab-df-convert');\n",
              "        buttonEl.style.display =\n",
              "          google.colab.kernel.accessAllowed ? 'block' : 'none';\n",
              "\n",
              "        async function convertToInteractive(key) {\n",
              "          const element = document.querySelector('#df-21a5293f-fa60-4cbc-b48d-f3f40a533bac');\n",
              "          const dataTable =\n",
              "            await google.colab.kernel.invokeFunction('convertToInteractive',\n",
              "                                                     [key], {});\n",
              "          if (!dataTable) return;\n",
              "\n",
              "          const docLinkHtml = 'Like what you see? Visit the ' +\n",
              "            '<a target=\"_blank\" href=https://colab.research.google.com/notebooks/data_table.ipynb>data table notebook</a>'\n",
              "            + ' to learn more about interactive tables.';\n",
              "          element.innerHTML = '';\n",
              "          dataTable['output_type'] = 'display_data';\n",
              "          await google.colab.output.renderOutput(dataTable, element);\n",
              "          const docLink = document.createElement('div');\n",
              "          docLink.innerHTML = docLinkHtml;\n",
              "          element.appendChild(docLink);\n",
              "        }\n",
              "      </script>\n",
              "    </div>\n",
              "  </div>\n",
              "  "
            ]
          },
          "metadata": {},
          "execution_count": 38
        }
      ]
    },
    {
      "cell_type": "code",
      "execution_count": 39,
      "metadata": {
        "colab": {
          "base_uri": "https://localhost:8080/"
        },
        "id": "aerH4SgGlSJa",
        "outputId": "0c5b3c97-3c19-4c9b-a055-9ea31a99bdc9"
      },
      "outputs": [
        {
          "output_type": "execute_result",
          "data": {
            "text/plain": [
              "<function BufferedReader.close>"
            ]
          },
          "metadata": {},
          "execution_count": 39
        }
      ],
      "source": [
        "with open('modified_df.pkl', 'rb') as f:\n",
        "  df = pickle.load(f)\n",
        "f.close"
      ]
    },
    {
      "cell_type": "markdown",
      "metadata": {
        "id": "c4N0nvCjc94p"
      },
      "source": [
        "##1.3 Locality Sensitive Hashing"
      ]
    },
    {
      "cell_type": "markdown",
      "source": [
        "Now we have, given some users, find the most similar ones. "
      ],
      "metadata": {
        "id": "MXi_1xBsWBK8"
      }
    },
    {
      "cell_type": "code",
      "source": [
        "#read the query csv\n",
        "query_df =pd.read_csv('query_users.csv')"
      ],
      "metadata": {
        "id": "86jePh2BVGZK"
      },
      "execution_count": 67,
      "outputs": []
    },
    {
      "cell_type": "code",
      "source": [
        "query_df.head(15)"
      ],
      "metadata": {
        "colab": {
          "base_uri": "https://localhost:8080/",
          "height": 520
        },
        "id": "6Dglk3GvVVvZ",
        "outputId": "439e9850-74e8-4a8a-de5e-e896c4c682d3"
      },
      "execution_count": 64,
      "outputs": [
        {
          "output_type": "execute_result",
          "data": {
            "text/plain": [
              "   CustomerDOB CustGender                  CustLocation  CustAccountBalance  \\\n",
              "0      27/7/78          M                         DELHI            94695.61   \n",
              "1      6/11/92          M                     PANCHKULA             7584.09   \n",
              "2      14/8/91          M                         PATNA             7180.60   \n",
              "3       3/1/87          M                       CHENNAI            56847.75   \n",
              "4       4/1/95          M                       GURGAON            84950.13   \n",
              "5      10/1/81          M  WORLD TRADE CENTRE BANGALORE            23143.95   \n",
              "6      20/9/76          F                      CHITTOOR            15397.80   \n",
              "7      10/4/91          M                        MOHALI              426.30   \n",
              "8      19/3/90          M                        MOHALI             4609.34   \n",
              "9     19/12/70          M                     SERAMPORE          6695988.46   \n",
              "10     26/2/89          M                     BANGALORE             5974.56   \n",
              "11     22/8/84          M                     BANGALORE              268.09   \n",
              "12     21/9/79          M                      LUDHIANA            38785.44   \n",
              "13     17/6/92          F                     BANGALORE            19767.76   \n",
              "14      1/8/86          M                     HYDERABAD            21713.09   \n",
              "\n",
              "   TransactionDate  TransactionTime  TransactionAmount (INR)  \n",
              "0           2/9/16           140310                     65.0  \n",
              "1           2/9/16           120214                   6025.0  \n",
              "2          10/8/16           221732                    541.5  \n",
              "3          29/8/16           144138                   1000.0  \n",
              "4          25/9/16           233309                     80.0  \n",
              "5          11/9/16           192906                    303.0  \n",
              "6          28/8/16            92633                     20.0  \n",
              "7           2/8/16           203754                     50.0  \n",
              "8          26/8/16           184015                    300.0  \n",
              "9          27/8/16           144030                    299.0  \n",
              "10          6/8/16           220151                    300.0  \n",
              "11         11/8/16           203131                   2244.0  \n",
              "12         22/8/16           185953                    690.0  \n",
              "13         12/8/16           232822                   4912.0  \n",
              "14         11/9/16           150136                    284.0  "
            ],
            "text/html": [
              "\n",
              "  <div id=\"df-3b43fbb9-dfd3-44aa-9439-07f8715407b2\">\n",
              "    <div class=\"colab-df-container\">\n",
              "      <div>\n",
              "<style scoped>\n",
              "    .dataframe tbody tr th:only-of-type {\n",
              "        vertical-align: middle;\n",
              "    }\n",
              "\n",
              "    .dataframe tbody tr th {\n",
              "        vertical-align: top;\n",
              "    }\n",
              "\n",
              "    .dataframe thead th {\n",
              "        text-align: right;\n",
              "    }\n",
              "</style>\n",
              "<table border=\"1\" class=\"dataframe\">\n",
              "  <thead>\n",
              "    <tr style=\"text-align: right;\">\n",
              "      <th></th>\n",
              "      <th>CustomerDOB</th>\n",
              "      <th>CustGender</th>\n",
              "      <th>CustLocation</th>\n",
              "      <th>CustAccountBalance</th>\n",
              "      <th>TransactionDate</th>\n",
              "      <th>TransactionTime</th>\n",
              "      <th>TransactionAmount (INR)</th>\n",
              "    </tr>\n",
              "  </thead>\n",
              "  <tbody>\n",
              "    <tr>\n",
              "      <th>0</th>\n",
              "      <td>27/7/78</td>\n",
              "      <td>M</td>\n",
              "      <td>DELHI</td>\n",
              "      <td>94695.61</td>\n",
              "      <td>2/9/16</td>\n",
              "      <td>140310</td>\n",
              "      <td>65.0</td>\n",
              "    </tr>\n",
              "    <tr>\n",
              "      <th>1</th>\n",
              "      <td>6/11/92</td>\n",
              "      <td>M</td>\n",
              "      <td>PANCHKULA</td>\n",
              "      <td>7584.09</td>\n",
              "      <td>2/9/16</td>\n",
              "      <td>120214</td>\n",
              "      <td>6025.0</td>\n",
              "    </tr>\n",
              "    <tr>\n",
              "      <th>2</th>\n",
              "      <td>14/8/91</td>\n",
              "      <td>M</td>\n",
              "      <td>PATNA</td>\n",
              "      <td>7180.60</td>\n",
              "      <td>10/8/16</td>\n",
              "      <td>221732</td>\n",
              "      <td>541.5</td>\n",
              "    </tr>\n",
              "    <tr>\n",
              "      <th>3</th>\n",
              "      <td>3/1/87</td>\n",
              "      <td>M</td>\n",
              "      <td>CHENNAI</td>\n",
              "      <td>56847.75</td>\n",
              "      <td>29/8/16</td>\n",
              "      <td>144138</td>\n",
              "      <td>1000.0</td>\n",
              "    </tr>\n",
              "    <tr>\n",
              "      <th>4</th>\n",
              "      <td>4/1/95</td>\n",
              "      <td>M</td>\n",
              "      <td>GURGAON</td>\n",
              "      <td>84950.13</td>\n",
              "      <td>25/9/16</td>\n",
              "      <td>233309</td>\n",
              "      <td>80.0</td>\n",
              "    </tr>\n",
              "    <tr>\n",
              "      <th>5</th>\n",
              "      <td>10/1/81</td>\n",
              "      <td>M</td>\n",
              "      <td>WORLD TRADE CENTRE BANGALORE</td>\n",
              "      <td>23143.95</td>\n",
              "      <td>11/9/16</td>\n",
              "      <td>192906</td>\n",
              "      <td>303.0</td>\n",
              "    </tr>\n",
              "    <tr>\n",
              "      <th>6</th>\n",
              "      <td>20/9/76</td>\n",
              "      <td>F</td>\n",
              "      <td>CHITTOOR</td>\n",
              "      <td>15397.80</td>\n",
              "      <td>28/8/16</td>\n",
              "      <td>92633</td>\n",
              "      <td>20.0</td>\n",
              "    </tr>\n",
              "    <tr>\n",
              "      <th>7</th>\n",
              "      <td>10/4/91</td>\n",
              "      <td>M</td>\n",
              "      <td>MOHALI</td>\n",
              "      <td>426.30</td>\n",
              "      <td>2/8/16</td>\n",
              "      <td>203754</td>\n",
              "      <td>50.0</td>\n",
              "    </tr>\n",
              "    <tr>\n",
              "      <th>8</th>\n",
              "      <td>19/3/90</td>\n",
              "      <td>M</td>\n",
              "      <td>MOHALI</td>\n",
              "      <td>4609.34</td>\n",
              "      <td>26/8/16</td>\n",
              "      <td>184015</td>\n",
              "      <td>300.0</td>\n",
              "    </tr>\n",
              "    <tr>\n",
              "      <th>9</th>\n",
              "      <td>19/12/70</td>\n",
              "      <td>M</td>\n",
              "      <td>SERAMPORE</td>\n",
              "      <td>6695988.46</td>\n",
              "      <td>27/8/16</td>\n",
              "      <td>144030</td>\n",
              "      <td>299.0</td>\n",
              "    </tr>\n",
              "    <tr>\n",
              "      <th>10</th>\n",
              "      <td>26/2/89</td>\n",
              "      <td>M</td>\n",
              "      <td>BANGALORE</td>\n",
              "      <td>5974.56</td>\n",
              "      <td>6/8/16</td>\n",
              "      <td>220151</td>\n",
              "      <td>300.0</td>\n",
              "    </tr>\n",
              "    <tr>\n",
              "      <th>11</th>\n",
              "      <td>22/8/84</td>\n",
              "      <td>M</td>\n",
              "      <td>BANGALORE</td>\n",
              "      <td>268.09</td>\n",
              "      <td>11/8/16</td>\n",
              "      <td>203131</td>\n",
              "      <td>2244.0</td>\n",
              "    </tr>\n",
              "    <tr>\n",
              "      <th>12</th>\n",
              "      <td>21/9/79</td>\n",
              "      <td>M</td>\n",
              "      <td>LUDHIANA</td>\n",
              "      <td>38785.44</td>\n",
              "      <td>22/8/16</td>\n",
              "      <td>185953</td>\n",
              "      <td>690.0</td>\n",
              "    </tr>\n",
              "    <tr>\n",
              "      <th>13</th>\n",
              "      <td>17/6/92</td>\n",
              "      <td>F</td>\n",
              "      <td>BANGALORE</td>\n",
              "      <td>19767.76</td>\n",
              "      <td>12/8/16</td>\n",
              "      <td>232822</td>\n",
              "      <td>4912.0</td>\n",
              "    </tr>\n",
              "    <tr>\n",
              "      <th>14</th>\n",
              "      <td>1/8/86</td>\n",
              "      <td>M</td>\n",
              "      <td>HYDERABAD</td>\n",
              "      <td>21713.09</td>\n",
              "      <td>11/9/16</td>\n",
              "      <td>150136</td>\n",
              "      <td>284.0</td>\n",
              "    </tr>\n",
              "  </tbody>\n",
              "</table>\n",
              "</div>\n",
              "      <button class=\"colab-df-convert\" onclick=\"convertToInteractive('df-3b43fbb9-dfd3-44aa-9439-07f8715407b2')\"\n",
              "              title=\"Convert this dataframe to an interactive table.\"\n",
              "              style=\"display:none;\">\n",
              "        \n",
              "  <svg xmlns=\"http://www.w3.org/2000/svg\" height=\"24px\"viewBox=\"0 0 24 24\"\n",
              "       width=\"24px\">\n",
              "    <path d=\"M0 0h24v24H0V0z\" fill=\"none\"/>\n",
              "    <path d=\"M18.56 5.44l.94 2.06.94-2.06 2.06-.94-2.06-.94-.94-2.06-.94 2.06-2.06.94zm-11 1L8.5 8.5l.94-2.06 2.06-.94-2.06-.94L8.5 2.5l-.94 2.06-2.06.94zm10 10l.94 2.06.94-2.06 2.06-.94-2.06-.94-.94-2.06-.94 2.06-2.06.94z\"/><path d=\"M17.41 7.96l-1.37-1.37c-.4-.4-.92-.59-1.43-.59-.52 0-1.04.2-1.43.59L10.3 9.45l-7.72 7.72c-.78.78-.78 2.05 0 2.83L4 21.41c.39.39.9.59 1.41.59.51 0 1.02-.2 1.41-.59l7.78-7.78 2.81-2.81c.8-.78.8-2.07 0-2.86zM5.41 20L4 18.59l7.72-7.72 1.47 1.35L5.41 20z\"/>\n",
              "  </svg>\n",
              "      </button>\n",
              "      \n",
              "  <style>\n",
              "    .colab-df-container {\n",
              "      display:flex;\n",
              "      flex-wrap:wrap;\n",
              "      gap: 12px;\n",
              "    }\n",
              "\n",
              "    .colab-df-convert {\n",
              "      background-color: #E8F0FE;\n",
              "      border: none;\n",
              "      border-radius: 50%;\n",
              "      cursor: pointer;\n",
              "      display: none;\n",
              "      fill: #1967D2;\n",
              "      height: 32px;\n",
              "      padding: 0 0 0 0;\n",
              "      width: 32px;\n",
              "    }\n",
              "\n",
              "    .colab-df-convert:hover {\n",
              "      background-color: #E2EBFA;\n",
              "      box-shadow: 0px 1px 2px rgba(60, 64, 67, 0.3), 0px 1px 3px 1px rgba(60, 64, 67, 0.15);\n",
              "      fill: #174EA6;\n",
              "    }\n",
              "\n",
              "    [theme=dark] .colab-df-convert {\n",
              "      background-color: #3B4455;\n",
              "      fill: #D2E3FC;\n",
              "    }\n",
              "\n",
              "    [theme=dark] .colab-df-convert:hover {\n",
              "      background-color: #434B5C;\n",
              "      box-shadow: 0px 1px 3px 1px rgba(0, 0, 0, 0.15);\n",
              "      filter: drop-shadow(0px 1px 2px rgba(0, 0, 0, 0.3));\n",
              "      fill: #FFFFFF;\n",
              "    }\n",
              "  </style>\n",
              "\n",
              "      <script>\n",
              "        const buttonEl =\n",
              "          document.querySelector('#df-3b43fbb9-dfd3-44aa-9439-07f8715407b2 button.colab-df-convert');\n",
              "        buttonEl.style.display =\n",
              "          google.colab.kernel.accessAllowed ? 'block' : 'none';\n",
              "\n",
              "        async function convertToInteractive(key) {\n",
              "          const element = document.querySelector('#df-3b43fbb9-dfd3-44aa-9439-07f8715407b2');\n",
              "          const dataTable =\n",
              "            await google.colab.kernel.invokeFunction('convertToInteractive',\n",
              "                                                     [key], {});\n",
              "          if (!dataTable) return;\n",
              "\n",
              "          const docLinkHtml = 'Like what you see? Visit the ' +\n",
              "            '<a target=\"_blank\" href=https://colab.research.google.com/notebooks/data_table.ipynb>data table notebook</a>'\n",
              "            + ' to learn more about interactive tables.';\n",
              "          element.innerHTML = '';\n",
              "          dataTable['output_type'] = 'display_data';\n",
              "          await google.colab.output.renderOutput(dataTable, element);\n",
              "          const docLink = document.createElement('div');\n",
              "          docLink.innerHTML = docLinkHtml;\n",
              "          element.appendChild(docLink);\n",
              "        }\n",
              "      </script>\n",
              "    </div>\n",
              "  </div>\n",
              "  "
            ]
          },
          "metadata": {},
          "execution_count": 64
        }
      ]
    },
    {
      "cell_type": "markdown",
      "source": [
        "First thing we need to do is preprocessing query customers so that the data is consistent and similar customers can be found. \n",
        "The features we want to discretize are: \n",
        "- the balance of the customer\n",
        "- the period of the year (retrieved from the TransactionDate column)\n",
        "- the period of the day (retrieved from the TransactionTime column)\n",
        "- the amount of the transaction\n",
        "- the age of the customer \n"
      ],
      "metadata": {
        "id": "-jKoeuFObAu4"
      }
    },
    {
      "cell_type": "code",
      "execution_count": 41,
      "metadata": {
        "id": "4xyJk84Zb6Db"
      },
      "outputs": [],
      "source": [
        "from sklearn.preprocessing import KBinsDiscretizer\n",
        "import pandas as pd\n",
        "from datetime import datetime"
      ]
    },
    {
      "cell_type": "code",
      "execution_count": 42,
      "metadata": {
        "id": "yJ4PM-bve3kM"
      },
      "outputs": [],
      "source": [
        "#we divide the customer age in groups \n",
        "def age_group(age):\n",
        "  if age in range(0, 12):\n",
        "    age_group = 'child'\n",
        "  elif age in range(13, 25):\n",
        "    age_group = 'teen-ager'\n",
        "  elif age in range(25, 50):\n",
        "    age_group = 'adult'\n",
        "  else:\n",
        "    age_group = 'old'\n",
        "  return age_group"
      ]
    },
    {
      "cell_type": "code",
      "source": [
        "query_df['TransactionTime'] = query_df.TransactionTime.apply(lambda row: datetime.strptime(str(row).zfill(6), '%H%M%S'))"
      ],
      "metadata": {
        "id": "uZyWnf-0PbDF"
      },
      "execution_count": 65,
      "outputs": []
    },
    {
      "cell_type": "code",
      "execution_count": 68,
      "metadata": {
        "id": "qIokNzqoB77R"
      },
      "outputs": [],
      "source": [
        "#preprocessing function \n",
        "def query_preprocessing(df): \n",
        "\n",
        "  #account balance\n",
        "  balance = KBinsDiscretizer(n_bins = 4, encode = 'ordinal', strategy = 'quantile')\n",
        "  balance.fit(df.CustAccountBalance.to_numpy().reshape(-1,1))\n",
        "  df['discrete_balance'] = balance.transform(df.CustAccountBalance.to_numpy().reshape(-1,1))\n",
        "  \n",
        "  #period of the year\n",
        "  labels_month = ['Jan-Mar', 'Apr-Jun', 'Jul-Sept', 'Oct-Dec']\n",
        "  df['TransactionDate'] = pd.to_datetime(df.TransactionDate)\n",
        "  df['period_year'] = pd.cut(df['TransactionDate'].dt.month,  4, labels = labels_month)\n",
        "  \n",
        "  #period of the day\n",
        "  df['TransactionTime'] = df.TransactionTime.apply(lambda row: datetime.strptime(str(row).zfill(6), '%H%M%S'))\n",
        "  labels_day = ['Night','Morning', 'Afternoon', 'Late evening']\n",
        "  df['period_day'] = pd.cut(df['TransactionTime'].dt.hour, 4, labels = labels_day)\n",
        "\n",
        "  #amount of the transaction\n",
        "  labels_size = ['Small','Medium', 'Big']\n",
        "  df['transaction_size'] = pd.qcut(df['TransactionAmount (INR)'], q =3, labels = labels_size)\n",
        "\n",
        "  #customer age\n",
        "  df['CustomerDOB'] = pd.to_datetime(df.CustomerDOB)\n",
        "  df['cust_age'] = 2016 - df.CustomerDOB.dt.year\n",
        "  df['age_group'] = df.cust_age.apply(lambda x: age_group(x))\n",
        "\n",
        "  #return only discrete features\n",
        "  df = df[['CustGender', 'CustLocation', 'discrete_balance', 'period_year',\n",
        "       'period_day', 'transaction_size', 'age_group']]\n",
        "\n",
        "  return df"
      ]
    },
    {
      "cell_type": "code",
      "source": [
        "new_df = query_preprocessing(query_df)"
      ],
      "metadata": {
        "id": "lsdFJ8sFel8A"
      },
      "execution_count": 69,
      "outputs": []
    },
    {
      "cell_type": "code",
      "source": [
        "new_df.head(25)"
      ],
      "metadata": {
        "colab": {
          "base_uri": "https://localhost:8080/",
          "height": 833
        },
        "id": "UUH-OrGfh6s1",
        "outputId": "2849e6f7-ea28-4f83-eb5b-36609052af1d"
      },
      "execution_count": 136,
      "outputs": [
        {
          "output_type": "execute_result",
          "data": {
            "text/plain": [
              "   CustGender                  CustLocation  discrete_balance period_year  \\\n",
              "0           M                         DELHI               2.0     Jan-Mar   \n",
              "1           M                     PANCHKULA               0.0     Jan-Mar   \n",
              "2           M                         PATNA               0.0     Oct-Dec   \n",
              "3           M                       CHENNAI               2.0    Jul-Sept   \n",
              "4           M                       GURGAON               2.0    Jul-Sept   \n",
              "5           M  WORLD TRADE CENTRE BANGALORE               1.0     Oct-Dec   \n",
              "6           F                      CHITTOOR               1.0    Jul-Sept   \n",
              "7           M                        MOHALI               0.0     Jan-Mar   \n",
              "8           M                        MOHALI               0.0    Jul-Sept   \n",
              "9           M                     SERAMPORE               3.0    Jul-Sept   \n",
              "10          M                     BANGALORE               0.0     Apr-Jun   \n",
              "11          M                     BANGALORE               0.0     Oct-Dec   \n",
              "12          M                      LUDHIANA               2.0    Jul-Sept   \n",
              "13          F                     BANGALORE               1.0     Oct-Dec   \n",
              "14          M                     HYDERABAD               1.0     Oct-Dec   \n",
              "15          M                       GURGAON               2.0    Jul-Sept   \n",
              "16          F                        MUMBAI               0.0     Apr-Jun   \n",
              "17          M                     NEW DELHI               3.0    Jul-Sept   \n",
              "18          M                       GURGAON               2.0    Jul-Sept   \n",
              "19          M                       CHENNAI               0.0     Jan-Mar   \n",
              "20          F                         NOIDA               3.0    Jul-Sept   \n",
              "21          F                     BANGALORE               3.0    Jul-Sept   \n",
              "22          M                     NEW DELHI               3.0     Oct-Dec   \n",
              "23          M                     AHMEDABAD               2.0    Jul-Sept   \n",
              "24          M            PRAKASAM DIST (AP)               2.0     Jan-Mar   \n",
              "\n",
              "      period_day transaction_size  age_group  \n",
              "0      Afternoon            Small      adult  \n",
              "1        Morning              Big  teen-ager  \n",
              "2   Late evening           Medium      adult  \n",
              "3      Afternoon           Medium      adult  \n",
              "4   Late evening            Small  teen-ager  \n",
              "5   Late evening           Medium      adult  \n",
              "6        Morning            Small      adult  \n",
              "7   Late evening            Small      adult  \n",
              "8   Late evening           Medium      adult  \n",
              "9      Afternoon           Medium        old  \n",
              "10  Late evening           Medium      adult  \n",
              "11  Late evening              Big      adult  \n",
              "12  Late evening           Medium      adult  \n",
              "13  Late evening              Big  teen-ager  \n",
              "14     Afternoon           Medium      adult  \n",
              "15     Afternoon           Medium        old  \n",
              "16  Late evening           Medium      adult  \n",
              "17     Afternoon              Big        old  \n",
              "18         Night            Small  teen-ager  \n",
              "19  Late evening           Medium      adult  \n",
              "20       Morning              Big      adult  \n",
              "21     Afternoon              Big        old  \n",
              "22       Morning            Small      adult  \n",
              "23  Late evening              Big        old  \n",
              "24  Late evening            Small  teen-ager  "
            ],
            "text/html": [
              "\n",
              "  <div id=\"df-bab35126-2bb7-4234-86da-2d4d807a4162\">\n",
              "    <div class=\"colab-df-container\">\n",
              "      <div>\n",
              "<style scoped>\n",
              "    .dataframe tbody tr th:only-of-type {\n",
              "        vertical-align: middle;\n",
              "    }\n",
              "\n",
              "    .dataframe tbody tr th {\n",
              "        vertical-align: top;\n",
              "    }\n",
              "\n",
              "    .dataframe thead th {\n",
              "        text-align: right;\n",
              "    }\n",
              "</style>\n",
              "<table border=\"1\" class=\"dataframe\">\n",
              "  <thead>\n",
              "    <tr style=\"text-align: right;\">\n",
              "      <th></th>\n",
              "      <th>CustGender</th>\n",
              "      <th>CustLocation</th>\n",
              "      <th>discrete_balance</th>\n",
              "      <th>period_year</th>\n",
              "      <th>period_day</th>\n",
              "      <th>transaction_size</th>\n",
              "      <th>age_group</th>\n",
              "    </tr>\n",
              "  </thead>\n",
              "  <tbody>\n",
              "    <tr>\n",
              "      <th>0</th>\n",
              "      <td>M</td>\n",
              "      <td>DELHI</td>\n",
              "      <td>2.0</td>\n",
              "      <td>Jan-Mar</td>\n",
              "      <td>Afternoon</td>\n",
              "      <td>Small</td>\n",
              "      <td>adult</td>\n",
              "    </tr>\n",
              "    <tr>\n",
              "      <th>1</th>\n",
              "      <td>M</td>\n",
              "      <td>PANCHKULA</td>\n",
              "      <td>0.0</td>\n",
              "      <td>Jan-Mar</td>\n",
              "      <td>Morning</td>\n",
              "      <td>Big</td>\n",
              "      <td>teen-ager</td>\n",
              "    </tr>\n",
              "    <tr>\n",
              "      <th>2</th>\n",
              "      <td>M</td>\n",
              "      <td>PATNA</td>\n",
              "      <td>0.0</td>\n",
              "      <td>Oct-Dec</td>\n",
              "      <td>Late evening</td>\n",
              "      <td>Medium</td>\n",
              "      <td>adult</td>\n",
              "    </tr>\n",
              "    <tr>\n",
              "      <th>3</th>\n",
              "      <td>M</td>\n",
              "      <td>CHENNAI</td>\n",
              "      <td>2.0</td>\n",
              "      <td>Jul-Sept</td>\n",
              "      <td>Afternoon</td>\n",
              "      <td>Medium</td>\n",
              "      <td>adult</td>\n",
              "    </tr>\n",
              "    <tr>\n",
              "      <th>4</th>\n",
              "      <td>M</td>\n",
              "      <td>GURGAON</td>\n",
              "      <td>2.0</td>\n",
              "      <td>Jul-Sept</td>\n",
              "      <td>Late evening</td>\n",
              "      <td>Small</td>\n",
              "      <td>teen-ager</td>\n",
              "    </tr>\n",
              "    <tr>\n",
              "      <th>5</th>\n",
              "      <td>M</td>\n",
              "      <td>WORLD TRADE CENTRE BANGALORE</td>\n",
              "      <td>1.0</td>\n",
              "      <td>Oct-Dec</td>\n",
              "      <td>Late evening</td>\n",
              "      <td>Medium</td>\n",
              "      <td>adult</td>\n",
              "    </tr>\n",
              "    <tr>\n",
              "      <th>6</th>\n",
              "      <td>F</td>\n",
              "      <td>CHITTOOR</td>\n",
              "      <td>1.0</td>\n",
              "      <td>Jul-Sept</td>\n",
              "      <td>Morning</td>\n",
              "      <td>Small</td>\n",
              "      <td>adult</td>\n",
              "    </tr>\n",
              "    <tr>\n",
              "      <th>7</th>\n",
              "      <td>M</td>\n",
              "      <td>MOHALI</td>\n",
              "      <td>0.0</td>\n",
              "      <td>Jan-Mar</td>\n",
              "      <td>Late evening</td>\n",
              "      <td>Small</td>\n",
              "      <td>adult</td>\n",
              "    </tr>\n",
              "    <tr>\n",
              "      <th>8</th>\n",
              "      <td>M</td>\n",
              "      <td>MOHALI</td>\n",
              "      <td>0.0</td>\n",
              "      <td>Jul-Sept</td>\n",
              "      <td>Late evening</td>\n",
              "      <td>Medium</td>\n",
              "      <td>adult</td>\n",
              "    </tr>\n",
              "    <tr>\n",
              "      <th>9</th>\n",
              "      <td>M</td>\n",
              "      <td>SERAMPORE</td>\n",
              "      <td>3.0</td>\n",
              "      <td>Jul-Sept</td>\n",
              "      <td>Afternoon</td>\n",
              "      <td>Medium</td>\n",
              "      <td>old</td>\n",
              "    </tr>\n",
              "    <tr>\n",
              "      <th>10</th>\n",
              "      <td>M</td>\n",
              "      <td>BANGALORE</td>\n",
              "      <td>0.0</td>\n",
              "      <td>Apr-Jun</td>\n",
              "      <td>Late evening</td>\n",
              "      <td>Medium</td>\n",
              "      <td>adult</td>\n",
              "    </tr>\n",
              "    <tr>\n",
              "      <th>11</th>\n",
              "      <td>M</td>\n",
              "      <td>BANGALORE</td>\n",
              "      <td>0.0</td>\n",
              "      <td>Oct-Dec</td>\n",
              "      <td>Late evening</td>\n",
              "      <td>Big</td>\n",
              "      <td>adult</td>\n",
              "    </tr>\n",
              "    <tr>\n",
              "      <th>12</th>\n",
              "      <td>M</td>\n",
              "      <td>LUDHIANA</td>\n",
              "      <td>2.0</td>\n",
              "      <td>Jul-Sept</td>\n",
              "      <td>Late evening</td>\n",
              "      <td>Medium</td>\n",
              "      <td>adult</td>\n",
              "    </tr>\n",
              "    <tr>\n",
              "      <th>13</th>\n",
              "      <td>F</td>\n",
              "      <td>BANGALORE</td>\n",
              "      <td>1.0</td>\n",
              "      <td>Oct-Dec</td>\n",
              "      <td>Late evening</td>\n",
              "      <td>Big</td>\n",
              "      <td>teen-ager</td>\n",
              "    </tr>\n",
              "    <tr>\n",
              "      <th>14</th>\n",
              "      <td>M</td>\n",
              "      <td>HYDERABAD</td>\n",
              "      <td>1.0</td>\n",
              "      <td>Oct-Dec</td>\n",
              "      <td>Afternoon</td>\n",
              "      <td>Medium</td>\n",
              "      <td>adult</td>\n",
              "    </tr>\n",
              "    <tr>\n",
              "      <th>15</th>\n",
              "      <td>M</td>\n",
              "      <td>GURGAON</td>\n",
              "      <td>2.0</td>\n",
              "      <td>Jul-Sept</td>\n",
              "      <td>Afternoon</td>\n",
              "      <td>Medium</td>\n",
              "      <td>old</td>\n",
              "    </tr>\n",
              "    <tr>\n",
              "      <th>16</th>\n",
              "      <td>F</td>\n",
              "      <td>MUMBAI</td>\n",
              "      <td>0.0</td>\n",
              "      <td>Apr-Jun</td>\n",
              "      <td>Late evening</td>\n",
              "      <td>Medium</td>\n",
              "      <td>adult</td>\n",
              "    </tr>\n",
              "    <tr>\n",
              "      <th>17</th>\n",
              "      <td>M</td>\n",
              "      <td>NEW DELHI</td>\n",
              "      <td>3.0</td>\n",
              "      <td>Jul-Sept</td>\n",
              "      <td>Afternoon</td>\n",
              "      <td>Big</td>\n",
              "      <td>old</td>\n",
              "    </tr>\n",
              "    <tr>\n",
              "      <th>18</th>\n",
              "      <td>M</td>\n",
              "      <td>GURGAON</td>\n",
              "      <td>2.0</td>\n",
              "      <td>Jul-Sept</td>\n",
              "      <td>Night</td>\n",
              "      <td>Small</td>\n",
              "      <td>teen-ager</td>\n",
              "    </tr>\n",
              "    <tr>\n",
              "      <th>19</th>\n",
              "      <td>M</td>\n",
              "      <td>CHENNAI</td>\n",
              "      <td>0.0</td>\n",
              "      <td>Jan-Mar</td>\n",
              "      <td>Late evening</td>\n",
              "      <td>Medium</td>\n",
              "      <td>adult</td>\n",
              "    </tr>\n",
              "    <tr>\n",
              "      <th>20</th>\n",
              "      <td>F</td>\n",
              "      <td>NOIDA</td>\n",
              "      <td>3.0</td>\n",
              "      <td>Jul-Sept</td>\n",
              "      <td>Morning</td>\n",
              "      <td>Big</td>\n",
              "      <td>adult</td>\n",
              "    </tr>\n",
              "    <tr>\n",
              "      <th>21</th>\n",
              "      <td>F</td>\n",
              "      <td>BANGALORE</td>\n",
              "      <td>3.0</td>\n",
              "      <td>Jul-Sept</td>\n",
              "      <td>Afternoon</td>\n",
              "      <td>Big</td>\n",
              "      <td>old</td>\n",
              "    </tr>\n",
              "    <tr>\n",
              "      <th>22</th>\n",
              "      <td>M</td>\n",
              "      <td>NEW DELHI</td>\n",
              "      <td>3.0</td>\n",
              "      <td>Oct-Dec</td>\n",
              "      <td>Morning</td>\n",
              "      <td>Small</td>\n",
              "      <td>adult</td>\n",
              "    </tr>\n",
              "    <tr>\n",
              "      <th>23</th>\n",
              "      <td>M</td>\n",
              "      <td>AHMEDABAD</td>\n",
              "      <td>2.0</td>\n",
              "      <td>Jul-Sept</td>\n",
              "      <td>Late evening</td>\n",
              "      <td>Big</td>\n",
              "      <td>old</td>\n",
              "    </tr>\n",
              "    <tr>\n",
              "      <th>24</th>\n",
              "      <td>M</td>\n",
              "      <td>PRAKASAM DIST (AP)</td>\n",
              "      <td>2.0</td>\n",
              "      <td>Jan-Mar</td>\n",
              "      <td>Late evening</td>\n",
              "      <td>Small</td>\n",
              "      <td>teen-ager</td>\n",
              "    </tr>\n",
              "  </tbody>\n",
              "</table>\n",
              "</div>\n",
              "      <button class=\"colab-df-convert\" onclick=\"convertToInteractive('df-bab35126-2bb7-4234-86da-2d4d807a4162')\"\n",
              "              title=\"Convert this dataframe to an interactive table.\"\n",
              "              style=\"display:none;\">\n",
              "        \n",
              "  <svg xmlns=\"http://www.w3.org/2000/svg\" height=\"24px\"viewBox=\"0 0 24 24\"\n",
              "       width=\"24px\">\n",
              "    <path d=\"M0 0h24v24H0V0z\" fill=\"none\"/>\n",
              "    <path d=\"M18.56 5.44l.94 2.06.94-2.06 2.06-.94-2.06-.94-.94-2.06-.94 2.06-2.06.94zm-11 1L8.5 8.5l.94-2.06 2.06-.94-2.06-.94L8.5 2.5l-.94 2.06-2.06.94zm10 10l.94 2.06.94-2.06 2.06-.94-2.06-.94-.94-2.06-.94 2.06-2.06.94z\"/><path d=\"M17.41 7.96l-1.37-1.37c-.4-.4-.92-.59-1.43-.59-.52 0-1.04.2-1.43.59L10.3 9.45l-7.72 7.72c-.78.78-.78 2.05 0 2.83L4 21.41c.39.39.9.59 1.41.59.51 0 1.02-.2 1.41-.59l7.78-7.78 2.81-2.81c.8-.78.8-2.07 0-2.86zM5.41 20L4 18.59l7.72-7.72 1.47 1.35L5.41 20z\"/>\n",
              "  </svg>\n",
              "      </button>\n",
              "      \n",
              "  <style>\n",
              "    .colab-df-container {\n",
              "      display:flex;\n",
              "      flex-wrap:wrap;\n",
              "      gap: 12px;\n",
              "    }\n",
              "\n",
              "    .colab-df-convert {\n",
              "      background-color: #E8F0FE;\n",
              "      border: none;\n",
              "      border-radius: 50%;\n",
              "      cursor: pointer;\n",
              "      display: none;\n",
              "      fill: #1967D2;\n",
              "      height: 32px;\n",
              "      padding: 0 0 0 0;\n",
              "      width: 32px;\n",
              "    }\n",
              "\n",
              "    .colab-df-convert:hover {\n",
              "      background-color: #E2EBFA;\n",
              "      box-shadow: 0px 1px 2px rgba(60, 64, 67, 0.3), 0px 1px 3px 1px rgba(60, 64, 67, 0.15);\n",
              "      fill: #174EA6;\n",
              "    }\n",
              "\n",
              "    [theme=dark] .colab-df-convert {\n",
              "      background-color: #3B4455;\n",
              "      fill: #D2E3FC;\n",
              "    }\n",
              "\n",
              "    [theme=dark] .colab-df-convert:hover {\n",
              "      background-color: #434B5C;\n",
              "      box-shadow: 0px 1px 3px 1px rgba(0, 0, 0, 0.15);\n",
              "      filter: drop-shadow(0px 1px 2px rgba(0, 0, 0, 0.3));\n",
              "      fill: #FFFFFF;\n",
              "    }\n",
              "  </style>\n",
              "\n",
              "      <script>\n",
              "        const buttonEl =\n",
              "          document.querySelector('#df-bab35126-2bb7-4234-86da-2d4d807a4162 button.colab-df-convert');\n",
              "        buttonEl.style.display =\n",
              "          google.colab.kernel.accessAllowed ? 'block' : 'none';\n",
              "\n",
              "        async function convertToInteractive(key) {\n",
              "          const element = document.querySelector('#df-bab35126-2bb7-4234-86da-2d4d807a4162');\n",
              "          const dataTable =\n",
              "            await google.colab.kernel.invokeFunction('convertToInteractive',\n",
              "                                                     [key], {});\n",
              "          if (!dataTable) return;\n",
              "\n",
              "          const docLinkHtml = 'Like what you see? Visit the ' +\n",
              "            '<a target=\"_blank\" href=https://colab.research.google.com/notebooks/data_table.ipynb>data table notebook</a>'\n",
              "            + ' to learn more about interactive tables.';\n",
              "          element.innerHTML = '';\n",
              "          dataTable['output_type'] = 'display_data';\n",
              "          await google.colab.output.renderOutput(dataTable, element);\n",
              "          const docLink = document.createElement('div');\n",
              "          docLink.innerHTML = docLinkHtml;\n",
              "          element.appendChild(docLink);\n",
              "        }\n",
              "      </script>\n",
              "    </div>\n",
              "  </div>\n",
              "  "
            ]
          },
          "metadata": {},
          "execution_count": 136
        }
      ]
    },
    {
      "cell_type": "markdown",
      "source": [
        "Now that we preprocessed the query we can proceed with the LSH algorithm. \n",
        "We start from the signature matrix of the query customers. We use the same algorithm we used for the previous banking accounts."
      ],
      "metadata": {
        "id": "qpvdxTf0iG-i"
      }
    },
    {
      "cell_type": "code",
      "source": [
        "#create characteristic matrix\n",
        "#we use the panda function pd.get_dummies, which convert categorical variable into dummy/indicator variables\n",
        "#for each categorical variable we create a row of the characteristic matrix \n",
        "gender = pd.get_dummies(new_df['CustGender'])\n",
        "balance = pd.get_dummies(new_df['discrete_balance'])\n",
        "months = pd.get_dummies(new_df['period_year'])\n",
        "days = pd.get_dummies(new_df['period_day'])\n",
        "size = pd.get_dummies(new_df['transaction_size'])\n",
        "age = pd.get_dummies(new_df['age_group'])\n"
      ],
      "metadata": {
        "id": "3n4L_Wa4j-BT"
      },
      "execution_count": 71,
      "outputs": []
    },
    {
      "cell_type": "code",
      "source": [
        "char_matrix = np.concatenate([gender, balance, months, days, size, age], axis = 1) #horizontal_concat"
      ],
      "metadata": {
        "id": "1teOj8kFj-BU"
      },
      "execution_count": 72,
      "outputs": []
    },
    {
      "cell_type": "code",
      "source": [
        "char_m2 = np.transpose(char_matrix)"
      ],
      "metadata": {
        "id": "qyOXu0Wjj-BV"
      },
      "execution_count": 75,
      "outputs": []
    },
    {
      "cell_type": "code",
      "execution_count": 76,
      "metadata": {
        "id": "oOVBmTouj-BV"
      },
      "outputs": [],
      "source": [
        "#define a function to generate n hash function (for simulating the effect of th epermutations of the row of the characteristic matrix)\n",
        "def n_hash(row, n, p):  #p is the size of the hash table. Its value is the first prime number after the last shingle\n",
        "  hash_list = []\n",
        "  for _ in range(n):\n",
        "    h = random.randint(1, n)*(row) % p\n",
        "    hash_list.append(h)\n",
        "  return hash_list"
      ]
    },
    {
      "cell_type": "code",
      "execution_count": 77,
      "metadata": {
        "id": "_ONVoYBGj-BW"
      },
      "outputs": [],
      "source": [
        "from tqdm import tqdm"
      ]
    },
    {
      "cell_type": "code",
      "execution_count": 78,
      "metadata": {
        "id": "lrAqIFGej-BW"
      },
      "outputs": [],
      "source": [
        "#pre-allocate memory for the signature matrix\n",
        "qsignatures = np.matrix(np.ones((22, char_m2.shape[1]))* np.inf)\n",
        "#the signature matrix has a shape (17, 879359) and every element is infinity"
      ]
    },
    {
      "cell_type": "code",
      "source": [
        "qsignatures.shape"
      ],
      "metadata": {
        "colab": {
          "base_uri": "https://localhost:8080/"
        },
        "id": "7hyrR7T7kRoj",
        "outputId": "b0a6a580-806f-4f29-b413-4e3129afa792"
      },
      "execution_count": 79,
      "outputs": [
        {
          "output_type": "execute_result",
          "data": {
            "text/plain": [
              "(22, 50)"
            ]
          },
          "metadata": {},
          "execution_count": 79
        }
      ]
    },
    {
      "cell_type": "code",
      "execution_count": 80,
      "metadata": {
        "colab": {
          "base_uri": "https://localhost:8080/"
        },
        "outputId": "9855f092-6e58-44f2-d655-7c90508a034e",
        "id": "oVvcz15kj-BW"
      },
      "outputs": [
        {
          "output_type": "stream",
          "name": "stderr",
          "text": [
            "100%|██████████| 20/20 [00:00<00:00, 581.67it/s]\n"
          ]
        }
      ],
      "source": [
        "#scan over the row of the caracteristic matrix\n",
        "for row in tqdm(range(char_m2.shape[0])):\n",
        "  \n",
        "  hash_list = n_hash(row, 750, 757)  #we choose 500 hash functions #503 is the first prime number after 500\n",
        " \n",
        "\n",
        "  #slide over the columns of the characteristic matrix\n",
        "  for col in range(char_m2.shape[1]): \n",
        "    if char_m2[row, col] == 1:\n",
        "      #print(char_matrix[row, col])\n",
        "      #scan over the rows of the signature matrix\n",
        "      for i in range(qsignatures.shape[0]): \n",
        "        qsignatures[i, col] = min(hash_list[i], qsignatures[i, col])\n"
      ]
    },
    {
      "cell_type": "code",
      "source": [
        "qsignatures"
      ],
      "metadata": {
        "colab": {
          "base_uri": "https://localhost:8080/"
        },
        "id": "zWOk-_9NkaCR",
        "outputId": "dc2e0ff9-b4ce-4a14-9f54-c21adc0e5b72"
      },
      "execution_count": 81,
      "outputs": [
        {
          "output_type": "execute_result",
          "data": {
            "text/plain": [
              "matrix([[ 61.,  61.,  45., ..., 144.,   0., 148.],\n",
              "        [ 53.,  81.,  53., ...,  53.,   0.,  53.],\n",
              "        [189.,  76.,  76., ..., 189.,   0., 189.],\n",
              "        ...,\n",
              "        [167., 167., 167., ..., 167.,   0., 167.],\n",
              "        [355., 136., 156., ...,   9.,   0., 136.],\n",
              "        [217., 123.,  78., ..., 134.,   0., 217.]])"
            ]
          },
          "metadata": {},
          "execution_count": 81
        }
      ]
    },
    {
      "cell_type": "markdown",
      "source": [
        "Now, for each row of the new dataframe (i.e., each column of the signature matrix), we have to compute the similarity of the elements hashed in the same bucket. "
      ],
      "metadata": {
        "id": "QxD8rn3AkvYm"
      }
    },
    {
      "cell_type": "code",
      "execution_count": 91,
      "metadata": {
        "id": "J5-hEae1rap1"
      },
      "outputs": [],
      "source": [
        "def jaccard(doc_1, doc_2):\n",
        "  num = len(doc_1 & doc_2)\n",
        "  den = len(doc_1 | doc_2)\n",
        "  jacc = num / den\n",
        "  return jacc"
      ]
    },
    {
      "cell_type": "markdown",
      "source": [
        "#### Test with the first query "
      ],
      "metadata": {
        "id": "lPMvIFEdzUnu"
      }
    },
    {
      "cell_type": "code",
      "source": [
        "new_df.columns"
      ],
      "metadata": {
        "colab": {
          "base_uri": "https://localhost:8080/"
        },
        "id": "3kqcCxrzQmjG",
        "outputId": "ccf3b2c8-171f-4459-a7be-e3dc78dd8d06"
      },
      "execution_count": 87,
      "outputs": [
        {
          "output_type": "execute_result",
          "data": {
            "text/plain": [
              "Index(['CustGender', 'CustLocation', 'discrete_balance', 'period_year',\n",
              "       'period_day', 'transaction_size', 'age_group'],\n",
              "      dtype='object')"
            ]
          },
          "metadata": {},
          "execution_count": 87
        }
      ]
    },
    {
      "cell_type": "code",
      "source": [
        "new_df.head(1)"
      ],
      "metadata": {
        "colab": {
          "base_uri": "https://localhost:8080/",
          "height": 81
        },
        "id": "pUVFwHFwQUn6",
        "outputId": "d83c88f9-a68a-4b8c-af41-6fc233749bf6"
      },
      "execution_count": 82,
      "outputs": [
        {
          "output_type": "execute_result",
          "data": {
            "text/plain": [
              "  CustGender CustLocation  discrete_balance period_year period_day  \\\n",
              "0          M        DELHI               2.0     Jan-Mar  Afternoon   \n",
              "\n",
              "  transaction_size age_group  \n",
              "0            Small     adult  "
            ],
            "text/html": [
              "\n",
              "  <div id=\"df-fe95e09f-af08-4543-9cc3-e1dfdcfc335b\">\n",
              "    <div class=\"colab-df-container\">\n",
              "      <div>\n",
              "<style scoped>\n",
              "    .dataframe tbody tr th:only-of-type {\n",
              "        vertical-align: middle;\n",
              "    }\n",
              "\n",
              "    .dataframe tbody tr th {\n",
              "        vertical-align: top;\n",
              "    }\n",
              "\n",
              "    .dataframe thead th {\n",
              "        text-align: right;\n",
              "    }\n",
              "</style>\n",
              "<table border=\"1\" class=\"dataframe\">\n",
              "  <thead>\n",
              "    <tr style=\"text-align: right;\">\n",
              "      <th></th>\n",
              "      <th>CustGender</th>\n",
              "      <th>CustLocation</th>\n",
              "      <th>discrete_balance</th>\n",
              "      <th>period_year</th>\n",
              "      <th>period_day</th>\n",
              "      <th>transaction_size</th>\n",
              "      <th>age_group</th>\n",
              "    </tr>\n",
              "  </thead>\n",
              "  <tbody>\n",
              "    <tr>\n",
              "      <th>0</th>\n",
              "      <td>M</td>\n",
              "      <td>DELHI</td>\n",
              "      <td>2.0</td>\n",
              "      <td>Jan-Mar</td>\n",
              "      <td>Afternoon</td>\n",
              "      <td>Small</td>\n",
              "      <td>adult</td>\n",
              "    </tr>\n",
              "  </tbody>\n",
              "</table>\n",
              "</div>\n",
              "      <button class=\"colab-df-convert\" onclick=\"convertToInteractive('df-fe95e09f-af08-4543-9cc3-e1dfdcfc335b')\"\n",
              "              title=\"Convert this dataframe to an interactive table.\"\n",
              "              style=\"display:none;\">\n",
              "        \n",
              "  <svg xmlns=\"http://www.w3.org/2000/svg\" height=\"24px\"viewBox=\"0 0 24 24\"\n",
              "       width=\"24px\">\n",
              "    <path d=\"M0 0h24v24H0V0z\" fill=\"none\"/>\n",
              "    <path d=\"M18.56 5.44l.94 2.06.94-2.06 2.06-.94-2.06-.94-.94-2.06-.94 2.06-2.06.94zm-11 1L8.5 8.5l.94-2.06 2.06-.94-2.06-.94L8.5 2.5l-.94 2.06-2.06.94zm10 10l.94 2.06.94-2.06 2.06-.94-2.06-.94-.94-2.06-.94 2.06-2.06.94z\"/><path d=\"M17.41 7.96l-1.37-1.37c-.4-.4-.92-.59-1.43-.59-.52 0-1.04.2-1.43.59L10.3 9.45l-7.72 7.72c-.78.78-.78 2.05 0 2.83L4 21.41c.39.39.9.59 1.41.59.51 0 1.02-.2 1.41-.59l7.78-7.78 2.81-2.81c.8-.78.8-2.07 0-2.86zM5.41 20L4 18.59l7.72-7.72 1.47 1.35L5.41 20z\"/>\n",
              "  </svg>\n",
              "      </button>\n",
              "      \n",
              "  <style>\n",
              "    .colab-df-container {\n",
              "      display:flex;\n",
              "      flex-wrap:wrap;\n",
              "      gap: 12px;\n",
              "    }\n",
              "\n",
              "    .colab-df-convert {\n",
              "      background-color: #E8F0FE;\n",
              "      border: none;\n",
              "      border-radius: 50%;\n",
              "      cursor: pointer;\n",
              "      display: none;\n",
              "      fill: #1967D2;\n",
              "      height: 32px;\n",
              "      padding: 0 0 0 0;\n",
              "      width: 32px;\n",
              "    }\n",
              "\n",
              "    .colab-df-convert:hover {\n",
              "      background-color: #E2EBFA;\n",
              "      box-shadow: 0px 1px 2px rgba(60, 64, 67, 0.3), 0px 1px 3px 1px rgba(60, 64, 67, 0.15);\n",
              "      fill: #174EA6;\n",
              "    }\n",
              "\n",
              "    [theme=dark] .colab-df-convert {\n",
              "      background-color: #3B4455;\n",
              "      fill: #D2E3FC;\n",
              "    }\n",
              "\n",
              "    [theme=dark] .colab-df-convert:hover {\n",
              "      background-color: #434B5C;\n",
              "      box-shadow: 0px 1px 3px 1px rgba(0, 0, 0, 0.15);\n",
              "      filter: drop-shadow(0px 1px 2px rgba(0, 0, 0, 0.3));\n",
              "      fill: #FFFFFF;\n",
              "    }\n",
              "  </style>\n",
              "\n",
              "      <script>\n",
              "        const buttonEl =\n",
              "          document.querySelector('#df-fe95e09f-af08-4543-9cc3-e1dfdcfc335b button.colab-df-convert');\n",
              "        buttonEl.style.display =\n",
              "          google.colab.kernel.accessAllowed ? 'block' : 'none';\n",
              "\n",
              "        async function convertToInteractive(key) {\n",
              "          const element = document.querySelector('#df-fe95e09f-af08-4543-9cc3-e1dfdcfc335b');\n",
              "          const dataTable =\n",
              "            await google.colab.kernel.invokeFunction('convertToInteractive',\n",
              "                                                     [key], {});\n",
              "          if (!dataTable) return;\n",
              "\n",
              "          const docLinkHtml = 'Like what you see? Visit the ' +\n",
              "            '<a target=\"_blank\" href=https://colab.research.google.com/notebooks/data_table.ipynb>data table notebook</a>'\n",
              "            + ' to learn more about interactive tables.';\n",
              "          element.innerHTML = '';\n",
              "          dataTable['output_type'] = 'display_data';\n",
              "          await google.colab.output.renderOutput(dataTable, element);\n",
              "          const docLink = document.createElement('div');\n",
              "          docLink.innerHTML = docLinkHtml;\n",
              "          element.appendChild(docLink);\n",
              "        }\n",
              "      </script>\n",
              "    </div>\n",
              "  </div>\n",
              "  "
            ]
          },
          "metadata": {},
          "execution_count": 82
        }
      ]
    },
    {
      "cell_type": "code",
      "source": [
        "#try with only one query customer \n",
        "cust_signature = qsignatures[:, 0].tolist()\n",
        "cust = cust = np.unique(cust_signature)\n",
        "\n",
        "bucket = 0\n",
        "for i in range(17):   # r = 17\n",
        "  bucket += cust[i]*random.randint(1, n-1)  #hash function we apply to each column of the signature matrix\n",
        "bucket = bucket %n\n",
        "#put the customer in the corresponding bucket\n",
        "buckets[bucket].append(0)"
      ],
      "metadata": {
        "id": "I3QzXaATlkPg"
      },
      "execution_count": 139,
      "outputs": []
    },
    {
      "cell_type": "code",
      "source": [
        "no_city = ['CustGender','discrete_balance', 'period_year',\n",
        "       'period_day', 'transaction_size', 'age_group']\n",
        "query_cust = set(new_df.loc[0, :].unique())\n",
        "q_nocity = set(new_df.loc[0, no_city].unique())"
      ],
      "metadata": {
        "id": "WVbGoJO7rbw9"
      },
      "execution_count": 140,
      "outputs": []
    },
    {
      "cell_type": "code",
      "source": [
        "#list of customers in the same bucket\n",
        "near_cust = buckets[bucket]"
      ],
      "metadata": {
        "id": "RU1FfpdTl4kz"
      },
      "execution_count": 141,
      "outputs": []
    },
    {
      "cell_type": "code",
      "source": [
        "near_customers = modified_df.filter(near_cust[:-1], axis = 0)\n",
        "\n",
        "for customer, idx in zip(near_customers.values, near_customers.index):\n",
        "  sim1 = jaccard(query_cust, set(customer))   #similarity taking into account the city \n",
        "  cust_nocity = np.delete(customer, 1)\n",
        "  sim2 = jaccard(q_nocity, set(cust_nocity))      #similarity without taking into account the city\n",
        "  near_customers.loc[idx, 'similarity'] = sim1\n",
        "  near_customers.loc[idx, 'similarity without city'] = sim2\n"
      ],
      "metadata": {
        "id": "8o62jqzpl58v"
      },
      "execution_count": 149,
      "outputs": []
    },
    {
      "cell_type": "code",
      "source": [
        "near_customers.sort_values(by = 'similarity', ascending = False).head(10)"
      ],
      "metadata": {
        "colab": {
          "base_uri": "https://localhost:8080/",
          "height": 363
        },
        "id": "lQ7bpHJtwvUd",
        "outputId": "c6ba578e-b270-4170-bb6a-cced667e6229"
      },
      "execution_count": 137,
      "outputs": [
        {
          "output_type": "execute_result",
          "data": {
            "text/plain": [
              "      CustGender CustLocation  discrete_balance period_year    period_day  \\\n",
              "3781           F     LUDHIANA               0.0     Apr-Jun  Late evening   \n",
              "21008          F    HYDERABAD               0.0     Apr-Jun  Late evening   \n",
              "4404           F    BANGALORE               0.0     Apr-Jun  Late evening   \n",
              "19947          F   KARIMNAGAR               0.0     Apr-Jun  Late evening   \n",
              "15151          F       MUMBAI               0.0    Jul-Sept  Late evening   \n",
              "16854          F       MUMBAI               0.0     Apr-Jun     Afternoon   \n",
              "18442          F      GANGTOK               0.0     Apr-Jun  Late evening   \n",
              "22065          F   HOSHIARPUR               0.0     Apr-Jun  Late evening   \n",
              "24058          F       MUMBAI               0.0     Apr-Jun  Late evening   \n",
              "10635          F       MUMBAI               0.0    Jul-Sept  Late evening   \n",
              "\n",
              "      transaction_size age_group  similarity  similarity without city  \n",
              "3781            Medium     adult        0.75                 1.000000  \n",
              "21008           Medium     adult        0.75                 1.000000  \n",
              "4404            Medium     adult        0.75                 1.000000  \n",
              "19947           Medium     adult        0.75                 1.000000  \n",
              "15151           Medium     adult        0.75                 0.714286  \n",
              "16854           Medium     adult        0.75                 0.714286  \n",
              "18442           Medium     adult        0.75                 1.000000  \n",
              "22065           Medium     adult        0.75                 1.000000  \n",
              "24058              Big     adult        0.75                 0.714286  \n",
              "10635           Medium     adult        0.75                 0.714286  "
            ],
            "text/html": [
              "\n",
              "  <div id=\"df-33e3db1f-4559-4f0d-9b7e-334ce2359664\">\n",
              "    <div class=\"colab-df-container\">\n",
              "      <div>\n",
              "<style scoped>\n",
              "    .dataframe tbody tr th:only-of-type {\n",
              "        vertical-align: middle;\n",
              "    }\n",
              "\n",
              "    .dataframe tbody tr th {\n",
              "        vertical-align: top;\n",
              "    }\n",
              "\n",
              "    .dataframe thead th {\n",
              "        text-align: right;\n",
              "    }\n",
              "</style>\n",
              "<table border=\"1\" class=\"dataframe\">\n",
              "  <thead>\n",
              "    <tr style=\"text-align: right;\">\n",
              "      <th></th>\n",
              "      <th>CustGender</th>\n",
              "      <th>CustLocation</th>\n",
              "      <th>discrete_balance</th>\n",
              "      <th>period_year</th>\n",
              "      <th>period_day</th>\n",
              "      <th>transaction_size</th>\n",
              "      <th>age_group</th>\n",
              "      <th>similarity</th>\n",
              "      <th>similarity without city</th>\n",
              "    </tr>\n",
              "  </thead>\n",
              "  <tbody>\n",
              "    <tr>\n",
              "      <th>3781</th>\n",
              "      <td>F</td>\n",
              "      <td>LUDHIANA</td>\n",
              "      <td>0.0</td>\n",
              "      <td>Apr-Jun</td>\n",
              "      <td>Late evening</td>\n",
              "      <td>Medium</td>\n",
              "      <td>adult</td>\n",
              "      <td>0.75</td>\n",
              "      <td>1.000000</td>\n",
              "    </tr>\n",
              "    <tr>\n",
              "      <th>21008</th>\n",
              "      <td>F</td>\n",
              "      <td>HYDERABAD</td>\n",
              "      <td>0.0</td>\n",
              "      <td>Apr-Jun</td>\n",
              "      <td>Late evening</td>\n",
              "      <td>Medium</td>\n",
              "      <td>adult</td>\n",
              "      <td>0.75</td>\n",
              "      <td>1.000000</td>\n",
              "    </tr>\n",
              "    <tr>\n",
              "      <th>4404</th>\n",
              "      <td>F</td>\n",
              "      <td>BANGALORE</td>\n",
              "      <td>0.0</td>\n",
              "      <td>Apr-Jun</td>\n",
              "      <td>Late evening</td>\n",
              "      <td>Medium</td>\n",
              "      <td>adult</td>\n",
              "      <td>0.75</td>\n",
              "      <td>1.000000</td>\n",
              "    </tr>\n",
              "    <tr>\n",
              "      <th>19947</th>\n",
              "      <td>F</td>\n",
              "      <td>KARIMNAGAR</td>\n",
              "      <td>0.0</td>\n",
              "      <td>Apr-Jun</td>\n",
              "      <td>Late evening</td>\n",
              "      <td>Medium</td>\n",
              "      <td>adult</td>\n",
              "      <td>0.75</td>\n",
              "      <td>1.000000</td>\n",
              "    </tr>\n",
              "    <tr>\n",
              "      <th>15151</th>\n",
              "      <td>F</td>\n",
              "      <td>MUMBAI</td>\n",
              "      <td>0.0</td>\n",
              "      <td>Jul-Sept</td>\n",
              "      <td>Late evening</td>\n",
              "      <td>Medium</td>\n",
              "      <td>adult</td>\n",
              "      <td>0.75</td>\n",
              "      <td>0.714286</td>\n",
              "    </tr>\n",
              "    <tr>\n",
              "      <th>16854</th>\n",
              "      <td>F</td>\n",
              "      <td>MUMBAI</td>\n",
              "      <td>0.0</td>\n",
              "      <td>Apr-Jun</td>\n",
              "      <td>Afternoon</td>\n",
              "      <td>Medium</td>\n",
              "      <td>adult</td>\n",
              "      <td>0.75</td>\n",
              "      <td>0.714286</td>\n",
              "    </tr>\n",
              "    <tr>\n",
              "      <th>18442</th>\n",
              "      <td>F</td>\n",
              "      <td>GANGTOK</td>\n",
              "      <td>0.0</td>\n",
              "      <td>Apr-Jun</td>\n",
              "      <td>Late evening</td>\n",
              "      <td>Medium</td>\n",
              "      <td>adult</td>\n",
              "      <td>0.75</td>\n",
              "      <td>1.000000</td>\n",
              "    </tr>\n",
              "    <tr>\n",
              "      <th>22065</th>\n",
              "      <td>F</td>\n",
              "      <td>HOSHIARPUR</td>\n",
              "      <td>0.0</td>\n",
              "      <td>Apr-Jun</td>\n",
              "      <td>Late evening</td>\n",
              "      <td>Medium</td>\n",
              "      <td>adult</td>\n",
              "      <td>0.75</td>\n",
              "      <td>1.000000</td>\n",
              "    </tr>\n",
              "    <tr>\n",
              "      <th>24058</th>\n",
              "      <td>F</td>\n",
              "      <td>MUMBAI</td>\n",
              "      <td>0.0</td>\n",
              "      <td>Apr-Jun</td>\n",
              "      <td>Late evening</td>\n",
              "      <td>Big</td>\n",
              "      <td>adult</td>\n",
              "      <td>0.75</td>\n",
              "      <td>0.714286</td>\n",
              "    </tr>\n",
              "    <tr>\n",
              "      <th>10635</th>\n",
              "      <td>F</td>\n",
              "      <td>MUMBAI</td>\n",
              "      <td>0.0</td>\n",
              "      <td>Jul-Sept</td>\n",
              "      <td>Late evening</td>\n",
              "      <td>Medium</td>\n",
              "      <td>adult</td>\n",
              "      <td>0.75</td>\n",
              "      <td>0.714286</td>\n",
              "    </tr>\n",
              "  </tbody>\n",
              "</table>\n",
              "</div>\n",
              "      <button class=\"colab-df-convert\" onclick=\"convertToInteractive('df-33e3db1f-4559-4f0d-9b7e-334ce2359664')\"\n",
              "              title=\"Convert this dataframe to an interactive table.\"\n",
              "              style=\"display:none;\">\n",
              "        \n",
              "  <svg xmlns=\"http://www.w3.org/2000/svg\" height=\"24px\"viewBox=\"0 0 24 24\"\n",
              "       width=\"24px\">\n",
              "    <path d=\"M0 0h24v24H0V0z\" fill=\"none\"/>\n",
              "    <path d=\"M18.56 5.44l.94 2.06.94-2.06 2.06-.94-2.06-.94-.94-2.06-.94 2.06-2.06.94zm-11 1L8.5 8.5l.94-2.06 2.06-.94-2.06-.94L8.5 2.5l-.94 2.06-2.06.94zm10 10l.94 2.06.94-2.06 2.06-.94-2.06-.94-.94-2.06-.94 2.06-2.06.94z\"/><path d=\"M17.41 7.96l-1.37-1.37c-.4-.4-.92-.59-1.43-.59-.52 0-1.04.2-1.43.59L10.3 9.45l-7.72 7.72c-.78.78-.78 2.05 0 2.83L4 21.41c.39.39.9.59 1.41.59.51 0 1.02-.2 1.41-.59l7.78-7.78 2.81-2.81c.8-.78.8-2.07 0-2.86zM5.41 20L4 18.59l7.72-7.72 1.47 1.35L5.41 20z\"/>\n",
              "  </svg>\n",
              "      </button>\n",
              "      \n",
              "  <style>\n",
              "    .colab-df-container {\n",
              "      display:flex;\n",
              "      flex-wrap:wrap;\n",
              "      gap: 12px;\n",
              "    }\n",
              "\n",
              "    .colab-df-convert {\n",
              "      background-color: #E8F0FE;\n",
              "      border: none;\n",
              "      border-radius: 50%;\n",
              "      cursor: pointer;\n",
              "      display: none;\n",
              "      fill: #1967D2;\n",
              "      height: 32px;\n",
              "      padding: 0 0 0 0;\n",
              "      width: 32px;\n",
              "    }\n",
              "\n",
              "    .colab-df-convert:hover {\n",
              "      background-color: #E2EBFA;\n",
              "      box-shadow: 0px 1px 2px rgba(60, 64, 67, 0.3), 0px 1px 3px 1px rgba(60, 64, 67, 0.15);\n",
              "      fill: #174EA6;\n",
              "    }\n",
              "\n",
              "    [theme=dark] .colab-df-convert {\n",
              "      background-color: #3B4455;\n",
              "      fill: #D2E3FC;\n",
              "    }\n",
              "\n",
              "    [theme=dark] .colab-df-convert:hover {\n",
              "      background-color: #434B5C;\n",
              "      box-shadow: 0px 1px 3px 1px rgba(0, 0, 0, 0.15);\n",
              "      filter: drop-shadow(0px 1px 2px rgba(0, 0, 0, 0.3));\n",
              "      fill: #FFFFFF;\n",
              "    }\n",
              "  </style>\n",
              "\n",
              "      <script>\n",
              "        const buttonEl =\n",
              "          document.querySelector('#df-33e3db1f-4559-4f0d-9b7e-334ce2359664 button.colab-df-convert');\n",
              "        buttonEl.style.display =\n",
              "          google.colab.kernel.accessAllowed ? 'block' : 'none';\n",
              "\n",
              "        async function convertToInteractive(key) {\n",
              "          const element = document.querySelector('#df-33e3db1f-4559-4f0d-9b7e-334ce2359664');\n",
              "          const dataTable =\n",
              "            await google.colab.kernel.invokeFunction('convertToInteractive',\n",
              "                                                     [key], {});\n",
              "          if (!dataTable) return;\n",
              "\n",
              "          const docLinkHtml = 'Like what you see? Visit the ' +\n",
              "            '<a target=\"_blank\" href=https://colab.research.google.com/notebooks/data_table.ipynb>data table notebook</a>'\n",
              "            + ' to learn more about interactive tables.';\n",
              "          element.innerHTML = '';\n",
              "          dataTable['output_type'] = 'display_data';\n",
              "          await google.colab.output.renderOutput(dataTable, element);\n",
              "          const docLink = document.createElement('div');\n",
              "          docLink.innerHTML = docLinkHtml;\n",
              "          element.appendChild(docLink);\n",
              "        }\n",
              "      </script>\n",
              "    </div>\n",
              "  </div>\n",
              "  "
            ]
          },
          "metadata": {},
          "execution_count": 137
        }
      ]
    },
    {
      "cell_type": "code",
      "source": [
        "len(near_customers.index)"
      ],
      "metadata": {
        "colab": {
          "base_uri": "https://localhost:8080/"
        },
        "id": "2xcLY2ZpbPdP",
        "outputId": "d9bc4384-7035-49fd-bb2e-a6fbca0e90f7"
      },
      "execution_count": 145,
      "outputs": [
        {
          "output_type": "execute_result",
          "data": {
            "text/plain": [
              "513"
            ]
          },
          "metadata": {},
          "execution_count": 145
        }
      ]
    },
    {
      "cell_type": "markdown",
      "source": [
        "#### Do it with the remaining customers"
      ],
      "metadata": {
        "id": "8TVzGBzB2hxL"
      }
    },
    {
      "cell_type": "code",
      "source": [
        "from tqdm import tqdm "
      ],
      "metadata": {
        "id": "R6aXJgPV8K34"
      },
      "execution_count": 115,
      "outputs": []
    },
    {
      "cell_type": "code",
      "source": [
        "%%time\n",
        "for user in range(6):   #scan over the signature matrix of the query\n",
        "  #try with only one query customer \n",
        "  cust_signature = qsignatures[:, user].tolist()\n",
        "  cust = np.unique(cust_signature)\n",
        "  bucket = 0\n",
        "  for i in range(len(cust)):   \n",
        "    bucket += cust[i]*random.randint(1, n-1)  #hash function we apply to each column of the signature matrix\n",
        "  bucket = bucket % n\n",
        "  #put the customer in the corresponding bucket\n",
        "  \n",
        "  #near customers are in the same bucket\n",
        "  near_cust = buckets[bucket]\n",
        "  near_customers = modified_df.filter(near_cust, axis = 0)   #take from the modified dataframe the rows corresponding to the documents in the bucket\n",
        "   \n",
        "\n",
        "  #compute the similarity between the query customer and the other customers in the bucket \n",
        "  query_cust = set(new_df.loc[user, :].unique())\n",
        "  q_nocity = set(new_df.loc[user, no_city].unique())\n",
        "  #add in the dataframe a colum with the computed similarity\n",
        "  for customer, idx in zip(near_customers.values, near_customers.index):\n",
        "    sim1 = jaccard(query_cust, set(customer))   #similarity taking into account the city \n",
        "    cust_nocity = np.delete(customer, 1)\n",
        "    sim2 = jaccard(q_nocity, set(cust_nocity))      #similarity without taking into account the city\n",
        "    #print(idx)\n",
        "    near_customers.loc[idx, 'similarity'] = sim1\n",
        "    near_customers.loc[idx, 'similarity without city'] = sim2\n",
        "\n",
        "  print('\\nQuery Customer number:', user)\n",
        "  neigh = near_customers.sort_values(by = 'similarity', ascending = False).head(5)\n",
        "  print(neigh.to_markdown())"
      ],
      "metadata": {
        "colab": {
          "base_uri": "https://localhost:8080/"
        },
        "id": "lVPgujQp2neC",
        "outputId": "220186fa-d799-4ad7-bab1-20c82d8a622e"
      },
      "execution_count": 188,
      "outputs": [
        {
          "output_type": "stream",
          "name": "stdout",
          "text": [
            "\n",
            "Query Customer number: 0\n",
            "|        | CustGender   | CustLocation            |   discrete_balance | period_year   | period_day   | transaction_size   | age_group   |   similarity |   similarity without city |\n",
            "|-------:|:-------------|:------------------------|-------------------:|:--------------|:-------------|:-------------------|:------------|-------------:|--------------------------:|\n",
            "|   4146 | M            | AHMEDABAD               |                  2 | Jan-Mar       | Afternoon    | Small              | adult       |     0.75     |                  1        |\n",
            "| 671716 | M            | NEW DELHI               |                  2 | Jan-Mar       | Afternoon    | Small              | adult       |     0.75     |                  1        |\n",
            "| 397391 | M            | NO 3 KALYANI NAGAR PUNE |                  2 | Jan-Mar       | Afternoon    | Small              | adult       |     0.75     |                  1        |\n",
            "| 665264 | M            | DELHI                   |                  1 | Jul-Sept      | Afternoon    | Small              | adult       |     0.555556 |                  0.5      |\n",
            "| 689919 | M            | NEW DELHI               |                  2 | Jul-Sept      | Afternoon    | Small              | adult       |     0.555556 |                  0.714286 |\n",
            "\n",
            "Query Customer number: 1\n",
            "|        | CustGender   | CustLocation              |   discrete_balance | period_year   | period_day   | transaction_size   | age_group   |   similarity |   similarity without city |\n",
            "|-------:|:-------------|:--------------------------|-------------------:|:--------------|:-------------|:-------------------|:------------|-------------:|--------------------------:|\n",
            "| 737199 | M            | AMBERNATH AMBERNATH THANE |                  0 | Jan-Mar       | Late evening | Big                | teen-ager   |     0.555556 |                  0.714286 |\n",
            "| 166971 | M            | MUMBAI                    |                  0 | Jan-Mar       | Morning      | Small              | teen-ager   |     0.555556 |                  0.714286 |\n",
            "| 694671 | M            | KHANNA                    |                  1 | Jan-Mar       | Morning      | Small              | teen-ager   |     0.4      |                  0.5      |\n",
            "|  80223 | M            | DELHI                     |                  3 | Jan-Mar       | Afternoon    | Big                | teen-ager   |     0.4      |                  0.5      |\n",
            "| 812977 | M            | BANGALORE                 |                  1 | Jan-Mar       | Night        | Big                | teen-ager   |     0.4      |                  0.5      |\n",
            "\n",
            "Query Customer number: 2\n",
            "|        | CustGender   | CustLocation                     |   discrete_balance | period_year   | period_day   | transaction_size   | age_group   |   similarity |   similarity without city |\n",
            "|-------:|:-------------|:---------------------------------|-------------------:|:--------------|:-------------|:-------------------|:------------|-------------:|--------------------------:|\n",
            "| 638246 | M            | GURGAON                          |                  0 | Oct-Dec       | Late evening | Medium             | adult       |     0.75     |                  1        |\n",
            "| 384838 | M            | MUMBAI                           |                  0 | Oct-Dec       | Late evening | Medium             | adult       |     0.75     |                  1        |\n",
            "| 404473 | M            | TO MOTHERHOOD HOSPITAL BANGALORE |                  0 | Oct-Dec       | Late evening | Medium             | adult       |     0.75     |                  1        |\n",
            "|  73209 | M            | PATIALA                          |                  0 | Jul-Sept      | Late evening | Medium             | adult       |     0.555556 |                  0.714286 |\n",
            "| 815725 | M            | STORES MANGALORE                 |                  0 | Jul-Sept      | Late evening | Medium             | adult       |     0.555556 |                  0.714286 |\n",
            "\n",
            "Query Customer number: 3\n",
            "|        | CustGender   | CustLocation   |   discrete_balance | period_year   | period_day   | transaction_size   | age_group   |   similarity |   similarity without city |\n",
            "|-------:|:-------------|:---------------|-------------------:|:--------------|:-------------|:-------------------|:------------|-------------:|--------------------------:|\n",
            "| 668011 | M            | CHENNAI        |                  2 | Jul-Sept      | Afternoon    | Small              | adult       |         0.75 |                  0.714286 |\n",
            "| 145362 | M            | BANGALORE      |                  2 | Jul-Sept      | Afternoon    | Medium             | adult       |         0.75 |                  1        |\n",
            "|  65884 | M            | CUTTACK        |                  2 | Jul-Sept      | Afternoon    | Medium             | adult       |         0.75 |                  1        |\n",
            "| 462763 | M            | GURGAON        |                  2 | Jul-Sept      | Afternoon    | Medium             | adult       |         0.75 |                  1        |\n",
            "| 255395 | M            | DELHI          |                  2 | Jul-Sept      | Afternoon    | Medium             | adult       |         0.75 |                  1        |\n",
            "\n",
            "Query Customer number: 4\n",
            "|        | CustGender   | CustLocation                      |   discrete_balance | period_year   | period_day   | transaction_size   | age_group   |   similarity |   similarity without city |\n",
            "|-------:|:-------------|:----------------------------------|-------------------:|:--------------|:-------------|:-------------------|:------------|-------------:|--------------------------:|\n",
            "|  19483 | M            | RING ROAD VARTHUR HOBLI BANGALORE |                  2 | Jul-Sept      | Late evening | Small              | teen-ager   |     0.75     |                  1        |\n",
            "| 666831 | M            | SENAPATI                          |                  2 | Jul-Sept      | Late evening | Small              | teen-ager   |     0.75     |                  1        |\n",
            "| 130627 | M            | MYLAVARAM                         |                  1 | Jul-Sept      | Late evening | Small              | teen-ager   |     0.555556 |                  0.714286 |\n",
            "| 312783 | M            | SURAT                             |                  2 | Jul-Sept      | Late evening | Small              | adult       |     0.555556 |                  0.714286 |\n",
            "| 812442 | M            | SRIPERUMBUDUR                     |                  1 | Jul-Sept      | Late evening | Small              | teen-ager   |     0.555556 |                  0.714286 |\n",
            "\n",
            "Query Customer number: 5\n",
            "|        | CustGender   | CustLocation   |   discrete_balance | period_year   | period_day   | transaction_size   | age_group   |   similarity |   similarity without city |\n",
            "|-------:|:-------------|:---------------|-------------------:|:--------------|:-------------|:-------------------|:------------|-------------:|--------------------------:|\n",
            "| 398677 | M            | CHENNAI        |                  1 | Oct-Dec       | Late evening | Medium             | adult       |     0.75     |                  1        |\n",
            "| 262542 | M            | GREATER NOIDA  |                  1 | Oct-Dec       | Late evening | Medium             | adult       |     0.75     |                  1        |\n",
            "| 224858 | M            | MUMBAI         |                  1 | Jul-Sept      | Late evening | Medium             | adult       |     0.555556 |                  0.714286 |\n",
            "| 210171 | M            | KANGRA         |                  1 | Jan-Mar       | Late evening | Medium             | adult       |     0.555556 |                  0.714286 |\n",
            "| 466638 | M            | NOIDA          |                  1 | Jan-Mar       | Late evening | Medium             | adult       |     0.555556 |                  0.714286 |\n",
            "CPU times: user 1.48 s, sys: 35.1 ms, total: 1.52 s\n",
            "Wall time: 1.52 s\n"
          ]
        }
      ]
    },
    {
      "cell_type": "code",
      "source": [
        "%%time\n",
        "for user in range(7, 13):   #scan over the signature matrix of the query\n",
        "  #try with only one query customer \n",
        "  cust_signature = qsignatures[:, user].tolist()\n",
        "  cust = np.unique(cust_signature)\n",
        "  bucket = 0\n",
        "  for i in range(len(cust)):   \n",
        "    bucket += cust[i]*random.randint(1, n-1)  #hash function we apply to each column of the signature matrix\n",
        "  bucket = bucket % n\n",
        "  #put the customer in the corresponding bucket\n",
        "  \n",
        "  #near customers are in the same bucket\n",
        "  near_cust = buckets[bucket]\n",
        "  near_customers = modified_df.filter(near_cust, axis = 0)   #take from the modified dataframe the rows corresponding to the documents in the bucket\n",
        "   \n",
        "\n",
        "  #compute the similarity between the query customer and the other customers in the bucket \n",
        "  query_cust = set(new_df.loc[user, :].unique())\n",
        "  q_nocity = set(new_df.loc[user, no_city].unique())\n",
        "  #add in the dataframe a colum with the computed similarity\n",
        "  for customer, idx in zip(near_customers.values, near_customers.index):\n",
        "    sim1 = jaccard(query_cust, set(customer))   #similarity taking into account the city \n",
        "    cust_nocity = np.delete(customer, 1)\n",
        "    sim2 = jaccard(q_nocity, set(cust_nocity))      #similarity without taking into account the city\n",
        "    #print(idx)\n",
        "    near_customers.loc[idx, 'similarity'] = sim1\n",
        "    near_customers.loc[idx, 'similarity without city'] = sim2\n",
        "\n",
        "  print('\\nQuery Customer number:', user)\n",
        "  neigh = near_customers.sort_values(by = 'similarity', ascending = False).head(5)\n",
        "  print(neigh.to_markdown())"
      ],
      "metadata": {
        "id": "ThtsUo6x30kP",
        "colab": {
          "base_uri": "https://localhost:8080/"
        },
        "outputId": "baed1d1c-a39d-43a8-c609-b2f5fa8fd273"
      },
      "execution_count": 189,
      "outputs": [
        {
          "output_type": "stream",
          "name": "stdout",
          "text": [
            "\n",
            "Query Customer number: 7\n",
            "|        | CustGender   | CustLocation       |   discrete_balance | period_year   | period_day   | transaction_size   | age_group   |   similarity |   similarity without city |\n",
            "|-------:|:-------------|:-------------------|-------------------:|:--------------|:-------------|:-------------------|:------------|-------------:|--------------------------:|\n",
            "| 807170 | M            | CHENNAI            |                  0 | Jan-Mar       | Late evening | Small              | adult       |     0.75     |                  1        |\n",
            "| 508010 | M            | MOHALI             |                  0 | Jul-Sept      | Late evening | Small              | adult       |     0.75     |                  0.714286 |\n",
            "| 783883 | M            | SOLAN              |                  0 | Jan-Mar       | Late evening | Small              | teen-ager   |     0.555556 |                  0.714286 |\n",
            "| 498401 | M            | MOOSAPET HYDERABAD |                  0 | Oct-Dec       | Late evening | Small              | adult       |     0.555556 |                  0.714286 |\n",
            "| 373590 | M            | THANE              |                  0 | Jul-Sept      | Late evening | Small              | adult       |     0.555556 |                  0.714286 |\n",
            "\n",
            "Query Customer number: 8\n",
            "|        | CustGender   | CustLocation   |   discrete_balance | period_year   | period_day   | transaction_size   | age_group   |   similarity |   similarity without city |\n",
            "|-------:|:-------------|:---------------|-------------------:|:--------------|:-------------|:-------------------|:------------|-------------:|--------------------------:|\n",
            "| 175992 | M            | NOIDA          |                  0 | Jul-Sept      | Late evening | Medium             | adult       |         0.75 |                         1 |\n",
            "|  86658 | M            | MUMBAI         |                  0 | Jul-Sept      | Late evening | Medium             | adult       |         0.75 |                         1 |\n",
            "|  25543 | M            | HYDERABAD      |                  0 | Jul-Sept      | Late evening | Medium             | adult       |         0.75 |                         1 |\n",
            "| 104277 | M            | BANGALORE      |                  0 | Jul-Sept      | Late evening | Medium             | adult       |         0.75 |                         1 |\n",
            "| 513881 | M            | DELHI          |                  0 | Jul-Sept      | Late evening | Medium             | adult       |         0.75 |                         1 |\n",
            "\n",
            "Query Customer number: 9\n",
            "|        | CustGender   | CustLocation   |   discrete_balance | period_year   | period_day   | transaction_size   | age_group   |   similarity |   similarity without city |\n",
            "|-------:|:-------------|:---------------|-------------------:|:--------------|:-------------|:-------------------|:------------|-------------:|--------------------------:|\n",
            "| 440856 | M            | NAVI MUMBAI    |                  3 | Jul-Sept      | Afternoon    | Medium             | old         |     0.75     |                  1        |\n",
            "| 562535 | M            | MUMBAI         |                  3 | Jul-Sept      | Late evening | Medium             | old         |     0.555556 |                  0.714286 |\n",
            "| 747469 | M            | BANGALORE      |                  3 | Jul-Sept      | Afternoon    | Small              | old         |     0.555556 |                  0.714286 |\n",
            "| 118512 | M            | DELHI          |                  3 | Jul-Sept      | Afternoon    | Medium             | adult       |     0.555556 |                  0.714286 |\n",
            "| 816017 | M            | GHAZIABAD      |                  3 | Jul-Sept      | Afternoon    | Medium             | teen-ager   |     0.555556 |                  0.714286 |\n",
            "\n",
            "Query Customer number: 10\n",
            "|        | CustGender   | CustLocation   |   discrete_balance | period_year   | period_day   | transaction_size   | age_group   |   similarity |   similarity without city |\n",
            "|-------:|:-------------|:---------------|-------------------:|:--------------|:-------------|:-------------------|:------------|-------------:|--------------------------:|\n",
            "| 546327 | M            | BANGALORE      |                  0 | Oct-Dec       | Late evening | Medium             | adult       |         0.75 |                  0.714286 |\n",
            "| 154850 | M            | BANGALORE      |                  2 | Apr-Jun       | Late evening | Medium             | adult       |         0.75 |                  0.714286 |\n",
            "| 445043 | M            | BANGALORE      |                  0 | Apr-Jun       | Late evening | Small              | adult       |         0.75 |                  0.714286 |\n",
            "| 473325 | M            | MUMBAI         |                  0 | Apr-Jun       | Late evening | Medium             | adult       |         0.75 |                  1        |\n",
            "| 152970 | M            | MUMBAI         |                  0 | Apr-Jun       | Late evening | Medium             | adult       |         0.75 |                  1        |\n",
            "\n",
            "Query Customer number: 11\n",
            "|        | CustGender   | CustLocation   |   discrete_balance | period_year   | period_day   | transaction_size   | age_group   |   similarity |   similarity without city |\n",
            "|-------:|:-------------|:---------------|-------------------:|:--------------|:-------------|:-------------------|:------------|-------------:|--------------------------:|\n",
            "| 341275 | M            | BANGALORE      |                  3 | Oct-Dec       | Late evening | Big                | adult       |         0.75 |                  0.714286 |\n",
            "| 568705 | M            | BANGALORE      |                  0 | Oct-Dec       | Late evening | Medium             | adult       |         0.75 |                  0.714286 |\n",
            "| 396039 | M            | NEW DELHI      |                  0 | Oct-Dec       | Late evening | Big                | adult       |         0.75 |                  1        |\n",
            "| 746784 | M            | BANGALORE      |                  0 | Jul-Sept      | Late evening | Big                | adult       |         0.75 |                  0.714286 |\n",
            "| 756840 | M            | NOIDA          |                  0 | Oct-Dec       | Late evening | Big                | adult       |         0.75 |                  1        |\n",
            "\n",
            "Query Customer number: 12\n",
            "|        | CustGender   | CustLocation   |   discrete_balance | period_year   | period_day   | transaction_size   | age_group   |   similarity |   similarity without city |\n",
            "|-------:|:-------------|:---------------|-------------------:|:--------------|:-------------|:-------------------|:------------|-------------:|--------------------------:|\n",
            "| 367549 | M            | GURGAON        |                  2 | Jul-Sept      | Late evening | Medium             | adult       |         0.75 |                         1 |\n",
            "| 456285 | M            | PALGHAR        |                  2 | Jul-Sept      | Late evening | Medium             | adult       |         0.75 |                         1 |\n",
            "| 369145 | M            | BANGALORE      |                  2 | Jul-Sept      | Late evening | Medium             | adult       |         0.75 |                         1 |\n",
            "| 856143 | M            | THRISSUR       |                  2 | Jul-Sept      | Late evening | Medium             | adult       |         0.75 |                         1 |\n",
            "| 307225 | M            | CHENNAI        |                  2 | Jul-Sept      | Late evening | Medium             | adult       |         0.75 |                         1 |\n",
            "CPU times: user 1.51 s, sys: 39.6 ms, total: 1.55 s\n",
            "Wall time: 1.66 s\n"
          ]
        }
      ]
    },
    {
      "cell_type": "code",
      "source": [
        "%%time\n",
        "for user in range(14, 16):   #scan over the signature matrix of the query\n",
        "  #try with only one query customer \n",
        "  cust_signature = qsignatures[:, user].tolist()\n",
        "  cust = np.unique(cust_signature)\n",
        "  bucket = 0\n",
        "  for i in range(len(cust)):   \n",
        "    bucket += cust[i]*random.randint(1, n-1)  #hash function we apply to each column of the signature matrix\n",
        "  bucket = bucket % n\n",
        "  #put the customer in the corresponding bucket\n",
        "  \n",
        "  #near customers are in the same bucket\n",
        "  near_cust = buckets[bucket]\n",
        "  near_customers = modified_df.filter(near_cust, axis = 0)   #take from the modified dataframe the rows corresponding to the documents in the bucket\n",
        "   \n",
        "\n",
        "  #compute the similarity between the query customer and the other customers in the bucket \n",
        "  query_cust = set(new_df.loc[user, :].unique())\n",
        "  q_nocity = set(new_df.loc[user, no_city].unique())\n",
        "  #add in the dataframe a colum with the computed similarity\n",
        "  for customer, idx in zip(near_customers.values, near_customers.index):\n",
        "    sim1 = jaccard(query_cust, set(customer))   #similarity taking into account the city \n",
        "    cust_nocity = np.delete(customer, 1)\n",
        "    sim2 = jaccard(q_nocity, set(cust_nocity))      #similarity without taking into account the city\n",
        "    #print(idx)\n",
        "    near_customers.loc[idx, 'similarity'] = sim1\n",
        "    near_customers.loc[idx, 'similarity without city'] = sim2\n",
        "\n",
        "  print('\\nQuery Customer number:', user)\n",
        "  neigh = near_customers.sort_values(by = 'similarity', ascending = False).head(5)\n",
        "  print(neigh.to_markdown())"
      ],
      "metadata": {
        "colab": {
          "base_uri": "https://localhost:8080/"
        },
        "id": "mRvH7aNbgcJ2",
        "outputId": "773fc05c-f163-4cef-f61c-b3294ca4ace9"
      },
      "execution_count": 190,
      "outputs": [
        {
          "output_type": "stream",
          "name": "stdout",
          "text": [
            "\n",
            "Query Customer number: 14\n",
            "|        | CustGender   | CustLocation   |   discrete_balance | period_year   | period_day   | transaction_size   | age_group   |   similarity |   similarity without city |\n",
            "|-------:|:-------------|:---------------|-------------------:|:--------------|:-------------|:-------------------|:------------|-------------:|--------------------------:|\n",
            "| 210165 | M            | GHAZIABAD      |                  1 | Oct-Dec       | Afternoon    | Medium             | adult       |     0.75     |                  1        |\n",
            "| 192240 | M            | HYDERABAD      |                  1 | Apr-Jun       | Afternoon    | Medium             | adult       |     0.75     |                  0.714286 |\n",
            "| 181910 | M            | NEW DELHI      |                  1 | Oct-Dec       | Afternoon    | Medium             | adult       |     0.75     |                  1        |\n",
            "| 193567 | M            | NEW DELHI      |                  1 | Oct-Dec       | Late evening | Medium             | adult       |     0.555556 |                  0.714286 |\n",
            "| 819884 | M            | AHMEDABAD      |                  1 | Jul-Sept      | Afternoon    | Medium             | adult       |     0.555556 |                  0.714286 |\n",
            "\n",
            "Query Customer number: 15\n",
            "|        | CustGender   | CustLocation   |   discrete_balance | period_year   | period_day   | transaction_size   | age_group   |   similarity |   similarity without city |\n",
            "|-------:|:-------------|:---------------|-------------------:|:--------------|:-------------|:-------------------|:------------|-------------:|--------------------------:|\n",
            "| 477687 | M            | GURGAON        |                  2 | Jul-Sept      | Afternoon    | Medium             | adult       |     0.75     |                  0.714286 |\n",
            "| 814222 | M            | GURGAON        |                  3 | Jul-Sept      | Afternoon    | Medium             | old         |     0.75     |                  0.714286 |\n",
            "| 488980 | M            | DELHI          |                  2 | Jul-Sept      | Afternoon    | Medium             | old         |     0.75     |                  1        |\n",
            "| 833671 | M            | GURGAON        |                  2 | Oct-Dec       | Afternoon    | Medium             | adult       |     0.555556 |                  0.5      |\n",
            "| 141338 | M            | NOIDA          |                  2 | Jul-Sept      | Afternoon    | Medium             | teen-ager   |     0.555556 |                  0.714286 |\n",
            "CPU times: user 752 ms, sys: 4.53 ms, total: 756 ms\n",
            "Wall time: 1.01 s\n"
          ]
        }
      ]
    },
    {
      "cell_type": "code",
      "source": [
        "%%time\n",
        "for user in range(17, 20):   #scan over the signature matrix of the query\n",
        "  #try with only one query customer \n",
        "  cust_signature = qsignatures[:, user].tolist()\n",
        "  cust = np.unique(cust_signature)\n",
        "  bucket = 0\n",
        "  for i in range(len(cust)):   \n",
        "    bucket += cust[i]*random.randint(1, n-1)  #hash function we apply to each column of the signature matrix\n",
        "  bucket = bucket % n\n",
        "  #put the customer in the corresponding bucket\n",
        "  \n",
        "  #near customers are in the same bucket\n",
        "  near_cust = buckets[bucket]\n",
        "  near_customers = modified_df.filter(near_cust, axis = 0)   #take from the modified dataframe the rows corresponding to the documents in the bucket\n",
        "   \n",
        "\n",
        "  #compute the similarity between the query customer and the other customers in the bucket \n",
        "  query_cust = set(new_df.loc[user, :].unique())\n",
        "  q_nocity = set(new_df.loc[user, no_city].unique())\n",
        "  #add in the dataframe a colum with the computed similarity\n",
        "  for customer, idx in zip(near_customers.values, near_customers.index):\n",
        "    sim1 = jaccard(query_cust, set(customer))   #similarity taking into account the city \n",
        "    cust_nocity = np.delete(customer, 1)\n",
        "    sim2 = jaccard(q_nocity, set(cust_nocity))      #similarity without taking into account the city\n",
        "    #print(idx)\n",
        "    near_customers.loc[idx, 'similarity'] = sim1\n",
        "    near_customers.loc[idx, 'similarity without city'] = sim2\n",
        "\n",
        "  print('\\nQuery Customer number:', user)\n",
        "  neigh = near_customers.sort_values(by = 'similarity', ascending = False).head(5)\n",
        "  print(neigh.to_markdown())"
      ],
      "metadata": {
        "colab": {
          "base_uri": "https://localhost:8080/"
        },
        "id": "S1jx40IZgijl",
        "outputId": "abb1233d-2233-4204-d1ae-672f63ee1356"
      },
      "execution_count": 191,
      "outputs": [
        {
          "output_type": "stream",
          "name": "stdout",
          "text": [
            "\n",
            "Query Customer number: 17\n",
            "|        | CustGender   | CustLocation   |   discrete_balance | period_year   | period_day   | transaction_size   | age_group   |   similarity |   similarity without city |\n",
            "|-------:|:-------------|:---------------|-------------------:|:--------------|:-------------|:-------------------|:------------|-------------:|--------------------------:|\n",
            "| 609300 | M            | NEW DELHI      |                  3 | Jul-Sept      | Afternoon    | Big                | old         |         1    |                  1        |\n",
            "| 129743 | M            | NEW DELHI      |                  3 | Jul-Sept      | Afternoon    | Big                | adult       |         0.75 |                  0.714286 |\n",
            "| 298475 | M            | NEW DELHI      |                  3 | Jul-Sept      | Afternoon    | Big                | adult       |         0.75 |                  0.714286 |\n",
            "| 426989 | M            | NEW DELHI      |                  3 | Jul-Sept      | Afternoon    | Big                | adult       |         0.75 |                  0.714286 |\n",
            "| 347008 | M            | GURGAON        |                  3 | Jul-Sept      | Afternoon    | Big                | old         |         0.75 |                  1        |\n",
            "\n",
            "Query Customer number: 18\n",
            "|        | CustGender   | CustLocation      |   discrete_balance | period_year   | period_day   | transaction_size   | age_group   |   similarity |   similarity without city |\n",
            "|-------:|:-------------|:------------------|-------------------:|:--------------|:-------------|:-------------------|:------------|-------------:|--------------------------:|\n",
            "| 181727 | M            | AIRPORT BANGALORE |                  2 | Jul-Sept      | Night        | Small              | teen-ager   |     0.75     |                  1        |\n",
            "| 253505 | M            | SANGLI            |                  2 | Oct-Dec       | Night        | Small              | teen-ager   |     0.555556 |                  0.714286 |\n",
            "| 516417 | M            | SRIPERUMBUDUR     |                  0 | Jul-Sept      | Night        | Small              | teen-ager   |     0.555556 |                  0.714286 |\n",
            "| 303094 | M            | BOKARO            |                  1 | Jul-Sept      | Night        | Small              | teen-ager   |     0.555556 |                  0.714286 |\n",
            "| 412118 | M            | GURGAON           |                  2 | Jul-Sept      | Late evening | Small              | adult       |     0.555556 |                  0.5      |\n",
            "\n",
            "Query Customer number: 19\n",
            "|        | CustGender   | CustLocation   |   discrete_balance | period_year   | period_day   | transaction_size   | age_group   |   similarity |   similarity without city |\n",
            "|-------:|:-------------|:---------------|-------------------:|:--------------|:-------------|:-------------------|:------------|-------------:|--------------------------:|\n",
            "| 376049 | M            | CHENNAI        |                  0 | Jan-Mar       | Late evening | Medium             | adult       |     1        |                  1        |\n",
            "| 143654 | M            | CHENNAI        |                  0 | Jul-Sept      | Late evening | Medium             | adult       |     0.75     |                  0.714286 |\n",
            "|  42947 | M            | KHAMMAM        |                  0 | Jan-Mar       | Late evening | Small              | adult       |     0.555556 |                  0.714286 |\n",
            "| 523721 | M            | BANGALORE      |                  1 | Jan-Mar       | Late evening | Medium             | adult       |     0.555556 |                  0.714286 |\n",
            "| 197196 | M            | AHMEDABAD      |                  0 | Jan-Mar       | Morning      | Medium             | adult       |     0.555556 |                  0.714286 |\n",
            "CPU times: user 831 ms, sys: 37.5 ms, total: 868 ms\n",
            "Wall time: 817 ms\n"
          ]
        }
      ]
    },
    {
      "cell_type": "code",
      "source": [
        "%%time\n",
        "for user in range(22, 33):   #scan over the signature matrix of the query\n",
        "  #try with only one query customer \n",
        "  cust_signature = qsignatures[:, user].tolist()\n",
        "  cust = np.unique(cust_signature)\n",
        "  bucket = 0\n",
        "  for i in range(len(cust)):   \n",
        "    bucket += cust[i]*random.randint(1, n-1)  #hash function we apply to each column of the signature matrix\n",
        "  bucket = bucket % n\n",
        "  #put the customer in the corresponding bucket\n",
        "  \n",
        "  #near customers are in the same bucket\n",
        "  near_cust = buckets[bucket]\n",
        "  near_customers = modified_df.filter(near_cust, axis = 0)   #take from the modified dataframe the rows corresponding to the documents in the bucket\n",
        "   \n",
        "\n",
        "  #compute the similarity between the query customer and the other customers in the bucket \n",
        "  query_cust = set(new_df.loc[user, :].unique())\n",
        "  q_nocity = set(new_df.loc[user, no_city].unique())\n",
        "  #add in the dataframe a colum with the computed similarity\n",
        "  for customer, idx in zip(near_customers.values, near_customers.index):\n",
        "    sim1 = jaccard(query_cust, set(customer))   #similarity taking into account the city \n",
        "    cust_nocity = np.delete(customer, 1)\n",
        "    sim2 = jaccard(q_nocity, set(cust_nocity))      #similarity without taking into account the city\n",
        "    #print(idx)\n",
        "    near_customers.loc[idx, 'similarity'] = sim1\n",
        "    near_customers.loc[idx, 'similarity without city'] = sim2\n",
        "\n",
        "  print('\\nQuery Customer number:', user)\n",
        "  neigh = near_customers.sort_values(by = 'similarity', ascending = False).head(5)\n",
        "  print(neigh.to_markdown())"
      ],
      "metadata": {
        "colab": {
          "base_uri": "https://localhost:8080/"
        },
        "id": "R-j5_3oKgo6k",
        "outputId": "1f8b5419-c591-457b-d0ea-fe05d391823e"
      },
      "execution_count": 192,
      "outputs": [
        {
          "output_type": "stream",
          "name": "stdout",
          "text": [
            "\n",
            "Query Customer number: 22\n",
            "|        | CustGender   | CustLocation   |   discrete_balance | period_year   | period_day   | transaction_size   | age_group   |   similarity |   similarity without city |\n",
            "|-------:|:-------------|:---------------|-------------------:|:--------------|:-------------|:-------------------|:------------|-------------:|--------------------------:|\n",
            "| 395000 | M            | NEW DELHI      |                  3 | Apr-Jun       | Morning      | Small              | adult       |         0.75 |                  0.714286 |\n",
            "| 665163 | M            | NEW DELHI      |                  0 | Oct-Dec       | Morning      | Small              | adult       |         0.75 |                  0.714286 |\n",
            "| 479100 | M            | DELHI          |                  3 | Oct-Dec       | Morning      | Small              | adult       |         0.75 |                  1        |\n",
            "|  25741 | M            | NEW DELHI      |                  3 | Oct-Dec       | Late evening | Small              | adult       |         0.75 |                  0.714286 |\n",
            "| 648064 | M            | NEW DELHI      |                  3 | Apr-Jun       | Morning      | Small              | adult       |         0.75 |                  0.714286 |\n",
            "\n",
            "Query Customer number: 23\n",
            "|        | CustGender   | CustLocation   |   discrete_balance | period_year   | period_day   | transaction_size   | age_group   |   similarity |   similarity without city |\n",
            "|-------:|:-------------|:---------------|-------------------:|:--------------|:-------------|:-------------------|:------------|-------------:|--------------------------:|\n",
            "| 625058 | M            | GHAZIABAD      |                  2 | Jul-Sept      | Late evening | Big                | adult       |     0.555556 |                  0.714286 |\n",
            "|  38395 | M            | AHMEDABAD      |                  2 | Jul-Sept      | Late evening | Medium             | adult       |     0.555556 |                  0.5      |\n",
            "| 112195 | M            | GHAZIABAD      |                  2 | Jul-Sept      | Late evening | Big                | adult       |     0.555556 |                  0.714286 |\n",
            "| 516790 | M            | AHMEDABAD      |                  2 | Jul-Sept      | Late evening | Medium             | adult       |     0.555556 |                  0.5      |\n",
            "| 842547 | M            | GURGAON        |                  2 | Oct-Dec       | Late evening | Big                | old         |     0.555556 |                  0.714286 |\n",
            "\n",
            "Query Customer number: 24\n",
            "|        | CustGender   | CustLocation   |   discrete_balance | period_year   | period_day   | transaction_size   | age_group   |   similarity |   similarity without city |\n",
            "|-------:|:-------------|:---------------|-------------------:|:--------------|:-------------|:-------------------|:------------|-------------:|--------------------------:|\n",
            "| 399371 | M            | NEW DELHI      |                  2 | Jul-Sept      | Late evening | Small              | teen-ager   |     0.555556 |                  0.714286 |\n",
            "|  46787 | M            | AGRA           |                  2 | Jan-Mar       | Afternoon    | Small              | teen-ager   |     0.555556 |                  0.714286 |\n",
            "| 804823 | M            | MUMBAI         |                  3 | Jan-Mar       | Late evening | Small              | teen-ager   |     0.555556 |                  0.714286 |\n",
            "| 757343 | M            | RATLAM         |                  2 | Jan-Mar       | Afternoon    | Small              | teen-ager   |     0.555556 |                  0.714286 |\n",
            "| 227370 | M            | NASHIK         |                  2 | Oct-Dec       | Late evening | Small              | teen-ager   |     0.555556 |                  0.714286 |\n",
            "\n",
            "Query Customer number: 25\n",
            "|        | CustGender   | CustLocation   |   discrete_balance | period_year   | period_day   | transaction_size   | age_group   |   similarity |   similarity without city |\n",
            "|-------:|:-------------|:---------------|-------------------:|:--------------|:-------------|:-------------------|:------------|-------------:|--------------------------:|\n",
            "| 269059 | M            | BANGALORE      |                  1 | Apr-Jun       | Afternoon    | Medium             | adult       |         1    |                  1        |\n",
            "| 157085 | M            | BANGALORE      |                  1 | Apr-Jun       | Morning      | Medium             | adult       |         0.75 |                  0.714286 |\n",
            "| 821756 | M            | SCHOOL KOLKATA |                  1 | Apr-Jun       | Afternoon    | Medium             | adult       |         0.75 |                  1        |\n",
            "| 323064 | M            | BANGALORE      |                  1 | Apr-Jun       | Late evening | Medium             | adult       |         0.75 |                  0.714286 |\n",
            "| 254075 | M            | BANGALORE      |                  1 | Jul-Sept      | Afternoon    | Medium             | adult       |         0.75 |                  0.714286 |\n",
            "\n",
            "Query Customer number: 26\n",
            "|        | CustGender   | CustLocation    |   discrete_balance | period_year   | period_day   | transaction_size   | age_group   |   similarity |   similarity without city |\n",
            "|-------:|:-------------|:----------------|-------------------:|:--------------|:-------------|:-------------------|:------------|-------------:|--------------------------:|\n",
            "| 396261 | M            | THANE           |                  2 | Jul-Sept      | Late evening | Medium             | adult       |         0.75 |                         1 |\n",
            "| 668087 | M            | THANE (EAST)    |                  2 | Jul-Sept      | Late evening | Medium             | adult       |         0.75 |                         1 |\n",
            "| 612891 | M            | MUMBAI          |                  2 | Jul-Sept      | Late evening | Medium             | adult       |         0.75 |                         1 |\n",
            "| 809870 | M            | DELHI           |                  2 | Jul-Sept      | Late evening | Medium             | adult       |         0.75 |                         1 |\n",
            "|  60054 | M            | PALYA BANGALORE |                  2 | Jul-Sept      | Late evening | Medium             | adult       |         0.75 |                         1 |\n",
            "\n",
            "Query Customer number: 27\n",
            "|        | CustGender   | CustLocation   |   discrete_balance | period_year   | period_day   | transaction_size   | age_group   |   similarity |   similarity without city |\n",
            "|-------:|:-------------|:---------------|-------------------:|:--------------|:-------------|:-------------------|:------------|-------------:|--------------------------:|\n",
            "| 652509 | M            | MUMBAI         |                  2 | Jul-Sept      | Late evening | Small              | adult       |         1    |                  1        |\n",
            "| 203001 | M            | MUMBAI         |                  2 | Jul-Sept      | Late evening | Medium             | adult       |         0.75 |                  0.714286 |\n",
            "| 823373 | M            | MUMBAI         |                  2 | Apr-Jun       | Late evening | Small              | adult       |         0.75 |                  0.714286 |\n",
            "| 842103 | M            | AGRA           |                  2 | Jul-Sept      | Late evening | Small              | adult       |         0.75 |                  1        |\n",
            "| 394254 | M            | MUMBAI         |                  0 | Jul-Sept      | Late evening | Small              | adult       |         0.75 |                  0.714286 |\n",
            "\n",
            "Query Customer number: 28\n",
            "|        | CustGender   | CustLocation            |   discrete_balance | period_year   | period_day   | transaction_size   | age_group   |   similarity |   similarity without city |\n",
            "|-------:|:-------------|:------------------------|-------------------:|:--------------|:-------------|:-------------------|:------------|-------------:|--------------------------:|\n",
            "| 376047 | M            | BANGALORE               |                  1 | Jul-Sept      | Late evening | Small              | adult       |         0.75 |                         1 |\n",
            "| 377782 | M            | RANGA REDDY             |                  1 | Jul-Sept      | Late evening | Small              | adult       |         0.75 |                         1 |\n",
            "| 713691 | M            | ROAD ANDHERI (E) MUMBAI |                  1 | Jul-Sept      | Late evening | Small              | adult       |         0.75 |                         1 |\n",
            "| 387720 | M            | FARIDABAD               |                  1 | Jul-Sept      | Late evening | Small              | adult       |         0.75 |                         1 |\n",
            "| 567153 | M            | PUNE                    |                  1 | Jul-Sept      | Late evening | Small              | adult       |         0.75 |                         1 |\n",
            "\n",
            "Query Customer number: 29\n",
            "|        | CustGender   | CustLocation   |   discrete_balance | period_year   | period_day   | transaction_size   | age_group   |   similarity |   similarity without city |\n",
            "|-------:|:-------------|:---------------|-------------------:|:--------------|:-------------|:-------------------|:------------|-------------:|--------------------------:|\n",
            "| 438551 | M            | MUMBAI         |                  3 | Jul-Sept      | Afternoon    | Big                | old         |     0.75     |                  0.714286 |\n",
            "|  91920 | M            | MUMBAI         |                  3 | Jul-Sept      | Afternoon    | Big                | old         |     0.75     |                  0.714286 |\n",
            "| 109344 | M            | MUMBAI         |                  0 | Jul-Sept      | Afternoon    | Big                | adult       |     0.75     |                  0.714286 |\n",
            "| 517983 | M            | MUMBAI         |                  0 | Jul-Sept      | Afternoon    | Medium             | adult       |     0.555556 |                  0.5      |\n",
            "| 292459 | M            | SRINAGAR       |                  0 | Jul-Sept      | Afternoon    | Big                | teen-ager   |     0.555556 |                  0.714286 |\n",
            "\n",
            "Query Customer number: 30\n",
            "|        | CustGender   | CustLocation   |   discrete_balance | period_year   | period_day   | transaction_size   | age_group   |   similarity |   similarity without city |\n",
            "|-------:|:-------------|:---------------|-------------------:|:--------------|:-------------|:-------------------|:------------|-------------:|--------------------------:|\n",
            "| 193759 | M            | PUNE           |                  3 | Jul-Sept      | Late evening | Big                | adult       |         0.75 |                         1 |\n",
            "| 531686 | M            | BANGALORE      |                  3 | Jul-Sept      | Late evening | Big                | adult       |         0.75 |                         1 |\n",
            "| 806211 | M            | NEW DELHI      |                  3 | Jul-Sept      | Late evening | Big                | adult       |         0.75 |                         1 |\n",
            "|   8498 | M            | MARGAO         |                  3 | Jul-Sept      | Late evening | Big                | adult       |         0.75 |                         1 |\n",
            "| 833183 | M            | BANGALORE      |                  3 | Jul-Sept      | Late evening | Big                | adult       |         0.75 |                         1 |\n",
            "\n",
            "Query Customer number: 31\n",
            "|        | CustGender   | CustLocation   |   discrete_balance | period_year   | period_day   | transaction_size   | age_group   |   similarity |   similarity without city |\n",
            "|-------:|:-------------|:---------------|-------------------:|:--------------|:-------------|:-------------------|:------------|-------------:|--------------------------:|\n",
            "| 226031 | M            | NEW DELHI      |                  3 | Jul-Sept      | Late evening | Big                | old         |     0.555556 |                  0.714286 |\n",
            "|  90457 | M            | KOLKATA        |                  3 | Apr-Jun       | Late evening | Big                | adult       |     0.555556 |                  0.714286 |\n",
            "| 820088 | M            | POINT MUMBAI   |                  3 | Jul-Sept      | Late evening | Big                | old         |     0.555556 |                  0.714286 |\n",
            "| 112598 | M            | NEW DELHI      |                  3 | Apr-Jun       | Late evening | Big                | adult       |     0.555556 |                  0.714286 |\n",
            "| 186268 | M            | NEW DELHI      |                  2 | Jul-Sept      | Late evening | Big                | old         |     0.4      |                  0.5      |\n",
            "\n",
            "Query Customer number: 32\n",
            "|        | CustGender   | CustLocation       |   discrete_balance | period_year   | period_day   | transaction_size   | age_group   |   similarity |   similarity without city |\n",
            "|-------:|:-------------|:-------------------|-------------------:|:--------------|:-------------|:-------------------|:------------|-------------:|--------------------------:|\n",
            "| 646062 | M            | DELHI              |                  0 | Jul-Sept      | Late evening | Medium             | old         |     0.75     |                  1        |\n",
            "|  28193 | M            | LUCKNOW            |                  0 | Jul-Sept      | Late evening | Medium             | old         |     0.75     |                  1        |\n",
            "| 545366 | M            | PATIALA            |                  0 | Jul-Sept      | Late evening | Small              | old         |     0.555556 |                  0.714286 |\n",
            "| 676993 | M            | CHENNAI            |                  1 | Jul-Sept      | Late evening | Medium             | adult       |     0.555556 |                  0.5      |\n",
            "| 362534 | M            | BANDRA EAST MUMBAI |                  0 | Jul-Sept      | Late evening | Medium             | adult       |     0.555556 |                  0.714286 |\n",
            "CPU times: user 2.97 s, sys: 96.1 ms, total: 3.06 s\n",
            "Wall time: 3.71 s\n"
          ]
        }
      ]
    },
    {
      "cell_type": "code",
      "source": [
        "%%time\n",
        "for user in range(34, 35):   #scan over the signature matrix of the query\n",
        "  #try with only one query customer \n",
        "  cust_signature = qsignatures[:, user].tolist()\n",
        "  cust = np.unique(cust_signature)\n",
        "  bucket = 0\n",
        "  for i in range(len(cust)):   \n",
        "    bucket += cust[i]*random.randint(1, n-1)  #hash function we apply to each column of the signature matrix\n",
        "  bucket = bucket % n\n",
        "  #put the customer in the corresponding bucket\n",
        "  \n",
        "  #near customers are in the same bucket\n",
        "  near_cust = buckets[bucket]\n",
        "  near_customers = modified_df.filter(near_cust, axis = 0)   #take from the modified dataframe the rows corresponding to the documents in the bucket\n",
        "   \n",
        "\n",
        "  #compute the similarity between the query customer and the other customers in the bucket \n",
        "  query_cust = set(new_df.loc[user, :].unique())\n",
        "  q_nocity = set(new_df.loc[user, no_city].unique())\n",
        "  #add in the dataframe a colum with the computed similarity\n",
        "  for customer, idx in zip(near_customers.values, near_customers.index):\n",
        "    sim1 = jaccard(query_cust, set(customer))   #similarity taking into account the city \n",
        "    cust_nocity = np.delete(customer, 1)\n",
        "    sim2 = jaccard(q_nocity, set(cust_nocity))      #similarity without taking into account the city\n",
        "    #print(idx)\n",
        "    near_customers.loc[idx, 'similarity'] = sim1\n",
        "    near_customers.loc[idx, 'similarity without city'] = sim2\n",
        "\n",
        "  print('\\nQuery Customer number:', user)\n",
        "  neigh = near_customers.sort_values(by = 'similarity', ascending = False).head(5)\n",
        "  print(neigh.to_markdown())"
      ],
      "metadata": {
        "colab": {
          "base_uri": "https://localhost:8080/"
        },
        "id": "07GHv1kuhCBy",
        "outputId": "0a0ce20b-4c24-4049-cd5a-0f146b0b3020"
      },
      "execution_count": 193,
      "outputs": [
        {
          "output_type": "stream",
          "name": "stdout",
          "text": [
            "\n",
            "Query Customer number: 34\n",
            "|        | CustGender   | CustLocation   |   discrete_balance | period_year   | period_day   | transaction_size   | age_group   |   similarity |   similarity without city |\n",
            "|-------:|:-------------|:---------------|-------------------:|:--------------|:-------------|:-------------------|:------------|-------------:|--------------------------:|\n",
            "| 752362 | M            | CHENNAI        |                  3 | Oct-Dec       | Late evening | Big                | adult       |     0.75     |                  1        |\n",
            "| 201813 | M            | MUMBAI         |                  3 | Oct-Dec       | Late evening | Big                | adult       |     0.75     |                  1        |\n",
            "| 695031 | M            | SANGOLDA       |                  3 | Oct-Dec       | Late evening | Big                | adult       |     0.75     |                  1        |\n",
            "| 547206 | M            | NEW DELHI      |                  3 | Oct-Dec       | Afternoon    | Big                | adult       |     0.555556 |                  0.714286 |\n",
            "| 813314 | M            | FARIDABAD      |                  3 | Jul-Sept      | Late evening | Big                | adult       |     0.555556 |                  0.714286 |\n",
            "CPU times: user 345 ms, sys: 929 µs, total: 346 ms\n",
            "Wall time: 373 ms\n"
          ]
        }
      ]
    },
    {
      "cell_type": "code",
      "source": [
        "%%time\n",
        "for user in range(36, 42):   #scan over the signature matrix of the query\n",
        "  #try with only one query customer \n",
        "  cust_signature = qsignatures[:, user].tolist()\n",
        "  cust = np.unique(cust_signature)\n",
        "  bucket = 0\n",
        "  for i in range(len(cust)):   \n",
        "    bucket += cust[i]*random.randint(1, n-1)  #hash function we apply to each column of the signature matrix\n",
        "  bucket = bucket % n\n",
        "  #put the customer in the corresponding bucket\n",
        "  \n",
        "  #near customers are in the same bucket\n",
        "  near_cust = buckets[bucket]\n",
        "  near_customers = modified_df.filter(near_cust, axis = 0)   #take from the modified dataframe the rows corresponding to the documents in the bucket\n",
        "   \n",
        "\n",
        "  #compute the similarity between the query customer and the other customers in the bucket \n",
        "  query_cust = set(new_df.loc[user, :].unique())\n",
        "  q_nocity = set(new_df.loc[user, no_city].unique())\n",
        "  #add in the dataframe a colum with the computed similarity\n",
        "  for customer, idx in zip(near_customers.values, near_customers.index):\n",
        "    sim1 = jaccard(query_cust, set(customer))   #similarity taking into account the city \n",
        "    cust_nocity = np.delete(customer, 1)\n",
        "    sim2 = jaccard(q_nocity, set(cust_nocity))      #similarity without taking into account the city\n",
        "    #print(idx)\n",
        "    near_customers.loc[idx, 'similarity'] = sim1\n",
        "    near_customers.loc[idx, 'similarity without city'] = sim2\n",
        "\n",
        "  print('\\nQuery Customer number:', user)\n",
        "  neigh = near_customers.sort_values(by = 'similarity', ascending = False).head(5)\n",
        "  print(neigh.to_markdown())"
      ],
      "metadata": {
        "colab": {
          "base_uri": "https://localhost:8080/"
        },
        "id": "LK8elCHfhaop",
        "outputId": "dc7c49da-a682-415e-e118-ec36a866196b"
      },
      "execution_count": 194,
      "outputs": [
        {
          "output_type": "stream",
          "name": "stdout",
          "text": [
            "\n",
            "Query Customer number: 36\n",
            "|        | CustGender   | CustLocation   |   discrete_balance | period_year   | period_day   | transaction_size   | age_group   |   similarity |   similarity without city |\n",
            "|-------:|:-------------|:---------------|-------------------:|:--------------|:-------------|:-------------------|:------------|-------------:|--------------------------:|\n",
            "| 729154 | M            | NEW DELHI      |                  3 | Jan-Mar       | Late evening | Small              | adult       |     0.75     |                  0.714286 |\n",
            "| 673192 | M            | NEW DELHI      |                  3 | Jan-Mar       | Afternoon    | Big                | adult       |     0.75     |                  0.714286 |\n",
            "| 587958 | M            | NEW DELHI      |                  3 | Jan-Mar       | Late evening | Small              | adult       |     0.75     |                  0.714286 |\n",
            "|  73304 | M            | KARNAL         |                  3 | Jan-Mar       | Late evening | Big                | adult       |     0.75     |                  1        |\n",
            "| 540663 | M            | GUWAHATI       |                  3 | Jul-Sept      | Late evening | Big                | adult       |     0.555556 |                  0.714286 |\n",
            "\n",
            "Query Customer number: 37\n",
            "|        | CustGender   | CustLocation   |   discrete_balance | period_year   | period_day   | transaction_size   | age_group   |   similarity |   similarity without city |\n",
            "|-------:|:-------------|:---------------|-------------------:|:--------------|:-------------|:-------------------|:------------|-------------:|--------------------------:|\n",
            "| 524991 | M            | BANGALORE      |                  0 | Jul-Sept      | Late evening | Small              | adult       |         1    |                  1        |\n",
            "| 597355 | M            | BHUBANESHWAR   |                  0 | Jul-Sept      | Late evening | Small              | adult       |         0.75 |                  1        |\n",
            "| 701147 | M            | BANGALORE      |                  1 | Jul-Sept      | Late evening | Small              | adult       |         0.75 |                  0.714286 |\n",
            "| 619126 | M            | GURGAON        |                  0 | Jul-Sept      | Late evening | Small              | adult       |         0.75 |                  1        |\n",
            "| 151843 | M            | MUMBAI         |                  0 | Jul-Sept      | Late evening | Small              | adult       |         0.75 |                  1        |\n",
            "\n",
            "Query Customer number: 38\n",
            "|        | CustGender   | CustLocation   |   discrete_balance | period_year   | period_day   | transaction_size   | age_group   |   similarity |   similarity without city |\n",
            "|-------:|:-------------|:---------------|-------------------:|:--------------|:-------------|:-------------------|:------------|-------------:|--------------------------:|\n",
            "| 165657 | M            | NEW DELHI      |                  3 | Jan-Mar       | Afternoon    | Big                | adult       |     0.75     |                  0.714286 |\n",
            "| 109610 | M            | NEW DELHI      |                  1 | Jul-Sept      | Afternoon    | Big                | adult       |     0.75     |                  0.714286 |\n",
            "| 761207 | M            | NEW DELHI      |                  0 | Jul-Sept      | Afternoon    | Big                | adult       |     0.555556 |                  0.5      |\n",
            "| 214353 | M            | NEW DELHI      |                  1 | Jul-Sept      | Afternoon    | Medium             | adult       |     0.555556 |                  0.5      |\n",
            "| 706374 | M            | TAORU          |                  1 | Jan-Mar       | Afternoon    | Small              | adult       |     0.555556 |                  0.714286 |\n",
            "\n",
            "Query Customer number: 39\n",
            "|        | CustGender   | CustLocation   |   discrete_balance | period_year   | period_day   | transaction_size   | age_group   |   similarity |   similarity without city |\n",
            "|-------:|:-------------|:---------------|-------------------:|:--------------|:-------------|:-------------------|:------------|-------------:|--------------------------:|\n",
            "|  13361 | M            | BAHADVR GARH   |                  1 | Jan-Mar       | Afternoon    | Small              | adult       |         0.75 |                         1 |\n",
            "| 748688 | M            | VAPI           |                  1 | Jan-Mar       | Afternoon    | Small              | adult       |         0.75 |                         1 |\n",
            "| 179004 | M            | MUMBAI         |                  1 | Jan-Mar       | Afternoon    | Small              | adult       |         0.75 |                         1 |\n",
            "| 372052 | M            | HADAPSAR PUNE  |                  1 | Jan-Mar       | Afternoon    | Small              | adult       |         0.75 |                         1 |\n",
            "| 297746 | M            | BANGALORE      |                  1 | Jan-Mar       | Afternoon    | Small              | adult       |         0.75 |                         1 |\n",
            "\n",
            "Query Customer number: 40\n",
            "|        | CustGender   | CustLocation   |   discrete_balance | period_year   | period_day   | transaction_size   | age_group   |   similarity |   similarity without city |\n",
            "|-------:|:-------------|:---------------|-------------------:|:--------------|:-------------|:-------------------|:------------|-------------:|--------------------------:|\n",
            "| 240323 | M            | CHENNAI        |                  0 | Jul-Sept      | Late evening | Small              | adult       |         1    |                         1 |\n",
            "| 140603 | M            | MUMBAI         |                  0 | Jul-Sept      | Late evening | Small              | adult       |         0.75 |                         1 |\n",
            "| 342380 | M            | KOLKATA        |                  0 | Jul-Sept      | Late evening | Small              | adult       |         0.75 |                         1 |\n",
            "| 169084 | M            | MUMBAI         |                  0 | Jul-Sept      | Late evening | Small              | adult       |         0.75 |                         1 |\n",
            "| 146480 | M            | ALLAHABAD      |                  0 | Jul-Sept      | Late evening | Small              | adult       |         0.75 |                         1 |\n",
            "\n",
            "Query Customer number: 41\n",
            "|        | CustGender   | CustLocation    |   discrete_balance | period_year   | period_day   | transaction_size   | age_group   |   similarity |   similarity without city |\n",
            "|-------:|:-------------|:----------------|-------------------:|:--------------|:-------------|:-------------------|:------------|-------------:|--------------------------:|\n",
            "|  71015 | M            | THANE (WEST)    |                  2 | Jul-Sept      | Afternoon    | Small              | adult       |         0.75 |                         1 |\n",
            "| 398174 | M            | GANDHINAGAR     |                  2 | Jul-Sept      | Afternoon    | Small              | adult       |         0.75 |                         1 |\n",
            "| 545615 | M            | HOSPITAL MUMBAI |                  2 | Jul-Sept      | Afternoon    | Small              | adult       |         0.75 |                         1 |\n",
            "| 541505 | M            | BANGALORE       |                  2 | Jul-Sept      | Afternoon    | Small              | adult       |         0.75 |                         1 |\n",
            "| 315007 | M            | NOIDA           |                  2 | Jul-Sept      | Afternoon    | Small              | adult       |         0.75 |                         1 |\n",
            "CPU times: user 1.54 s, sys: 58 ms, total: 1.6 s\n",
            "Wall time: 1.54 s\n"
          ]
        }
      ]
    },
    {
      "cell_type": "code",
      "source": [
        "%%time\n",
        "for user in range(46, 48):   #scan over the signature matrix of the query\n",
        "  #try with only one query customer \n",
        "  cust_signature = qsignatures[:, user].tolist()\n",
        "  cust = np.unique(cust_signature)\n",
        "  bucket = 0\n",
        "  for i in range(len(cust)):   \n",
        "    bucket += cust[i]*random.randint(1, n-1)  #hash function we apply to each column of the signature matrix\n",
        "  bucket = bucket % n\n",
        "  #put the customer in the corresponding bucket\n",
        "  \n",
        "  #near customers are in the same bucket\n",
        "  near_cust = buckets[bucket]\n",
        "  near_customers = modified_df.filter(near_cust, axis = 0)   #take from the modified dataframe the rows corresponding to the documents in the bucket\n",
        "   \n",
        "\n",
        "  #compute the similarity between the query customer and the other customers in the bucket \n",
        "  query_cust = set(new_df.loc[user, :].unique())\n",
        "  q_nocity = set(new_df.loc[user, no_city].unique())\n",
        "  #add in the dataframe a colum with the computed similarity\n",
        "  for customer, idx in zip(near_customers.values, near_customers.index):\n",
        "    sim1 = jaccard(query_cust, set(customer))   #similarity taking into account the city \n",
        "    cust_nocity = np.delete(customer, 1)\n",
        "    sim2 = jaccard(q_nocity, set(cust_nocity))      #similarity without taking into account the city\n",
        "    #print(idx)\n",
        "    near_customers.loc[idx, 'similarity'] = sim1\n",
        "    near_customers.loc[idx, 'similarity without city'] = sim2\n",
        "\n",
        "  print('\\nQuery Customer number:', user)\n",
        "  neigh = near_customers.sort_values(by = 'similarity', ascending = False).head(5)\n",
        "  print(neigh.to_markdown())"
      ],
      "metadata": {
        "colab": {
          "base_uri": "https://localhost:8080/"
        },
        "id": "qNS59NvFhfoM",
        "outputId": "0e82ccab-4e41-4611-9dfb-5b3af0e27bc5"
      },
      "execution_count": 195,
      "outputs": [
        {
          "output_type": "stream",
          "name": "stdout",
          "text": [
            "\n",
            "Query Customer number: 46\n",
            "|        | CustGender   | CustLocation   |   discrete_balance | period_year   | period_day   | transaction_size   | age_group   |   similarity |   similarity without city |\n",
            "|-------:|:-------------|:---------------|-------------------:|:--------------|:-------------|:-------------------|:------------|-------------:|--------------------------:|\n",
            "| 160806 | M            | CHENNAI        |                  1 | Jan-Mar       | Late evening | Small              | adult       |         0.75 |                  0.714286 |\n",
            "| 193185 | M            | PONDICHERRY    |                  1 | Jul-Sept      | Late evening | Small              | adult       |         0.75 |                  1        |\n",
            "| 335643 | M            | GURGAON        |                  1 | Jul-Sept      | Late evening | Small              | adult       |         0.75 |                  1        |\n",
            "| 605776 | M            | LAXMINAGAR     |                  1 | Jul-Sept      | Late evening | Small              | adult       |         0.75 |                  1        |\n",
            "| 575398 | M            | CHENNAI        |                  1 | Jul-Sept      | Late evening | Big                | adult       |         0.75 |                  0.714286 |\n",
            "\n",
            "Query Customer number: 47\n",
            "|        | CustGender   | CustLocation   |   discrete_balance | period_year   | period_day   | transaction_size   | age_group   |   similarity |   similarity without city |\n",
            "|-------:|:-------------|:---------------|-------------------:|:--------------|:-------------|:-------------------|:------------|-------------:|--------------------------:|\n",
            "| 396588 | M            | AVINASHI       |                  3 | Jul-Sept      | Late evening | Small              | adult       |     0.75     |                  1        |\n",
            "| 865501 | M            | MUMBAI         |                  3 | Jul-Sept      | Late evening | Small              | adult       |     0.75     |                  1        |\n",
            "| 418634 | M            | NEW DELHI      |                  3 | Jul-Sept      | Late evening | Small              | adult       |     0.75     |                  1        |\n",
            "| 862376 | M            | RAMAPURAM      |                  3 | Jul-Sept      | Late evening | Small              | adult       |     0.75     |                  1        |\n",
            "| 165781 | M            | MUMBAI         |                  3 | Jul-Sept      | Afternoon    | Small              | adult       |     0.555556 |                  0.714286 |\n",
            "CPU times: user 466 ms, sys: 4.17 ms, total: 470 ms\n",
            "Wall time: 469 ms\n"
          ]
        }
      ]
    },
    {
      "cell_type": "code",
      "source": [
        "%%time\n",
        "for user in range(49, 50):   #scan over the signature matrix of the query\n",
        "  #try with only one query customer \n",
        "  cust_signature = qsignatures[:, user].tolist()\n",
        "  cust = np.unique(cust_signature)\n",
        "  bucket = 0\n",
        "  for i in range(len(cust)):   \n",
        "    bucket += cust[i]*random.randint(1, n-1)  #hash function we apply to each column of the signature matrix\n",
        "  bucket = bucket % n\n",
        "  #put the customer in the corresponding bucket\n",
        "  \n",
        "  #near customers are in the same bucket\n",
        "  near_cust = buckets[bucket]\n",
        "  near_customers = modified_df.filter(near_cust, axis = 0)   #take from the modified dataframe the rows corresponding to the documents in the bucket\n",
        "   \n",
        "\n",
        "  #compute the similarity between the query customer and the other customers in the bucket \n",
        "  query_cust = set(new_df.loc[user, :].unique())\n",
        "  q_nocity = set(new_df.loc[user, no_city].unique())\n",
        "  #add in the dataframe a colum with the computed similarity\n",
        "  for customer, idx in zip(near_customers.values, near_customers.index):\n",
        "    sim1 = jaccard(query_cust, set(customer))   #similarity taking into account the city \n",
        "    cust_nocity = np.delete(customer, 1)\n",
        "    sim2 = jaccard(q_nocity, set(cust_nocity))      #similarity without taking into account the city\n",
        "    #print(idx)\n",
        "    near_customers.loc[idx, 'similarity'] = sim1\n",
        "    near_customers.loc[idx, 'similarity without city'] = sim2\n",
        "\n",
        "  print('\\nQuery Customer number:', user)\n",
        "  neigh = near_customers.sort_values(by = 'similarity', ascending = False).head(5)\n",
        "  print(neigh.to_markdown())"
      ],
      "metadata": {
        "colab": {
          "base_uri": "https://localhost:8080/"
        },
        "id": "fSUo-QzShrcR",
        "outputId": "5c0124e9-bbcc-44dd-9642-64b23e19962e"
      },
      "execution_count": 196,
      "outputs": [
        {
          "output_type": "stream",
          "name": "stdout",
          "text": [
            "\n",
            "Query Customer number: 49\n",
            "|        | CustGender   | CustLocation            |   discrete_balance | period_year   | period_day   | transaction_size   | age_group   |   similarity |   similarity without city |\n",
            "|-------:|:-------------|:------------------------|-------------------:|:--------------|:-------------|:-------------------|:------------|-------------:|--------------------------:|\n",
            "| 690574 | M            | HOSUR                   |                  1 | Jul-Sept      | Morning      | Medium             | adult       |     0.555556 |                  0.714286 |\n",
            "| 712282 | M            | KOLKATA                 |                  1 | Apr-Jun       | Afternoon    | Medium             | adult       |     0.555556 |                  0.714286 |\n",
            "| 561278 | M            | DELHI                   |                  3 | Jul-Sept      | Morning      | Medium             | adult       |     0.555556 |                  0.5      |\n",
            "| 338433 | M            | DELHI                   |                  1 | Apr-Jun       | Morning      | Small              | teen-ager   |     0.555556 |                  0.5      |\n",
            "| 271258 | M            | MARG LOWER PAREL MUMBAI |                  1 | Oct-Dec       | Morning      | Medium             | adult       |     0.555556 |                  0.714286 |\n",
            "CPU times: user 397 ms, sys: 779 µs, total: 398 ms\n",
            "Wall time: 445 ms\n"
          ]
        }
      ]
    },
    {
      "cell_type": "markdown",
      "source": [
        "In general, the performance of the algorithm are not so bad, even if the values of b and r were set to have all equal signatures in the same bucket.\n",
        "We computed similarity with and without considering the city, since we didn't have it in the characteristic matrix; as we expected, in general, the similarity without the city is higher. \n",
        "For what concerns the computational time, finding similar costumer has been very fast since we compared only a hundreds of users instead of more than 879000. "
      ],
      "metadata": {
        "id": "pJ3fzIEziDfB"
      }
    }
  ],
  "metadata": {
    "colab": {
      "provenance": [],
      "collapsed_sections": [
        "RWvqIMdLvMgX",
        "NlEQmk5stmPs"
      ],
      "mount_file_id": "13EvyDhx-elu5A0AtAkfmXnYOzN2RjClA",
      "authorship_tag": "ABX9TyPYX30imffFUKCYPNjitKJV",
      "include_colab_link": true
    },
    "kernelspec": {
      "display_name": "Python 3",
      "name": "python3"
    },
    "language_info": {
      "name": "python"
    }
  },
  "nbformat": 4,
  "nbformat_minor": 0
}