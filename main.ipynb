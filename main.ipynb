{
  "cells": [
    {
      "cell_type": "markdown",
      "metadata": {
        "id": "view-in-github",
        "colab_type": "text"
      },
      "source": [
        "<a href=\"https://colab.research.google.com/github/lucia990/ADM_GROUP-30_HW_4/blob/main/main.ipynb\" target=\"_parent\"><img src=\"https://colab.research.google.com/assets/colab-badge.svg\" alt=\"Open In Colab\"/></a>"
      ]
    },
    {
      "cell_type": "markdown",
      "metadata": {
        "id": "bn1SBY7yrePE"
      },
      "source": [
        "###Data import"
      ]
    },
    {
      "cell_type": "code",
      "execution_count": 1,
      "metadata": {
        "id": "gm_ooIKYR92Z",
        "colab": {
          "base_uri": "https://localhost:8080/"
        },
        "outputId": "c50c6cbe-ddca-411e-994e-7601134b71c3"
      },
      "outputs": [
        {
          "output_type": "stream",
          "name": "stdout",
          "text": [
            "Drive already mounted at /content/drive; to attempt to forcibly remount, call drive.mount(\"/content/drive\", force_remount=True).\n"
          ]
        }
      ],
      "source": [
        "from google.colab import drive\n",
        "drive.mount('/content/drive')"
      ]
    },
    {
      "cell_type": "code",
      "execution_count": 2,
      "metadata": {
        "id": "t_kAfwtZjfJh"
      },
      "outputs": [],
      "source": [
        "import os\n",
        "os.chdir('/content/drive/MyDrive/ADM_HW_4')"
      ]
    },
    {
      "cell_type": "code",
      "execution_count": 3,
      "metadata": {
        "id": "7X4hRnzbjxyk",
        "colab": {
          "base_uri": "https://localhost:8080/"
        },
        "outputId": "b1e6ec6a-d4b3-444e-89e2-2a1a6e709fb7"
      },
      "outputs": [
        {
          "output_type": "stream",
          "name": "stdout",
          "text": [
            "/content/drive/MyDrive/ADM_HW_4\n"
          ]
        }
      ],
      "source": [
        "!pwd"
      ]
    },
    {
      "cell_type": "code",
      "execution_count": null,
      "metadata": {
        "colab": {
          "base_uri": "https://localhost:8080/"
        },
        "id": "7Fm9VikojEfY",
        "outputId": "a7eb9116-e520-43d6-d12a-3b95122355e1"
      },
      "outputs": [
        {
          "name": "stdout",
          "output_type": "stream",
          "text": [
            "Traceback (most recent call last):\n",
            "  File \"/usr/local/bin/kaggle\", line 5, in <module>\n",
            "    from kaggle.cli import main\n",
            "  File \"/usr/local/lib/python3.8/dist-packages/kaggle/__init__.py\", line 23, in <module>\n",
            "    api.authenticate()\n",
            "  File \"/usr/local/lib/python3.8/dist-packages/kaggle/api/kaggle_api_extended.py\", line 164, in authenticate\n",
            "    raise IOError('Could not find {}. Make sure it\\'s located in'\n",
            "OSError: Could not find kaggle.json. Make sure it's located in /root/.kaggle. Or use the environment method.\n"
          ]
        }
      ],
      "source": [
        "!kaggle datasets download -d shivamb/bank-customer-segmentation"
      ]
    },
    {
      "cell_type": "code",
      "execution_count": null,
      "metadata": {
        "colab": {
          "base_uri": "https://localhost:8080/"
        },
        "id": "3OXwBiYojOLD",
        "outputId": "ec65f217-26bc-48c3-8d45-e877c3c670c3"
      },
      "outputs": [
        {
          "name": "stdout",
          "output_type": "stream",
          "text": [
            "Archive:  bank-customer-segmentation.zip\n",
            "  inflating: bank_transactions.csv   \n"
          ]
        }
      ],
      "source": [
        "!unzip bank-customer-segmentation.zip"
      ]
    },
    {
      "cell_type": "markdown",
      "metadata": {
        "id": "4rLOICi6rkzb"
      },
      "source": [
        "###Inspect the dataset"
      ]
    },
    {
      "cell_type": "code",
      "execution_count": null,
      "metadata": {
        "id": "7rB3mbVojRQK"
      },
      "outputs": [],
      "source": [
        "#create the dataframe\n",
        "import pandas as pd\n",
        "data = pd.read_csv('bank_transactions.csv', usecols = ['CustomerID', 'CustomerDOB','CustGender',\t'CustLocation',\t'CustAccountBalance', 'TransactionDate', 'TransactionTime',\t'TransactionAmount (INR)'])\n",
        "#drop the columns containing transaction and customer IDs since they are not useful information for similarity detection "
      ]
    },
    {
      "cell_type": "code",
      "execution_count": null,
      "metadata": {
        "id": "2VvEDeFWj598"
      },
      "outputs": [],
      "source": [
        "#group by the customer id. For each of them we pick the last transaction\n",
        "customer_data = data.groupby('CustomerID').last()\n",
        "customer_data.reset_index(drop = True, inplace = True)"
      ]
    },
    {
      "cell_type": "code",
      "execution_count": null,
      "metadata": {
        "colab": {
          "base_uri": "https://localhost:8080/"
        },
        "id": "ivdfxmh-j7Eh",
        "outputId": "b83c0feb-f7a4-499e-faaa-e82218f57ce6"
      },
      "outputs": [
        {
          "data": {
            "text/plain": [
              "CustomerDOB                2372\n",
              "CustGender                  803\n",
              "CustLocation                114\n",
              "CustAccountBalance         1665\n",
              "TransactionDate               0\n",
              "TransactionTime               0\n",
              "TransactionAmount (INR)       0\n",
              "dtype: int64"
            ]
          },
          "execution_count": 20,
          "metadata": {},
          "output_type": "execute_result"
        }
      ],
      "source": [
        "#check how many missing values there are in the dataset\n",
        "customer_data.isna().sum()"
      ]
    },
    {
      "cell_type": "code",
      "execution_count": null,
      "metadata": {
        "id": "TymgE_sCZw1T"
      },
      "outputs": [],
      "source": [
        "customer_data.dropna(inplace= True)\n",
        "customer_data.reset_index(drop = True, inplace = True)"
      ]
    },
    {
      "cell_type": "code",
      "execution_count": null,
      "metadata": {
        "colab": {
          "base_uri": "https://localhost:8080/"
        },
        "id": "j8ralHWTowU0",
        "outputId": "1791d3ba-52d0-4fc9-a73c-e0fc8a63d97b"
      },
      "outputs": [
        {
          "data": {
            "text/plain": [
              "CustomerDOB                0\n",
              "CustGender                 0\n",
              "CustLocation               0\n",
              "CustAccountBalance         0\n",
              "TransactionDate            0\n",
              "TransactionTime            0\n",
              "TransactionAmount (INR)    0\n",
              "dtype: int64"
            ]
          },
          "execution_count": 22,
          "metadata": {},
          "output_type": "execute_result"
        }
      ],
      "source": [
        "customer_data.isna().sum()"
      ]
    },
    {
      "cell_type": "markdown",
      "metadata": {
        "id": "krPXQusAu9W6"
      },
      "source": [
        "Now we want the data in each column to be of the types we can manipulate better. \n"
      ]
    },
    {
      "cell_type": "markdown",
      "metadata": {
        "id": "QWcG0VR61L86"
      },
      "source": [
        "#### Transaction Date"
      ]
    },
    {
      "cell_type": "code",
      "execution_count": null,
      "metadata": {
        "id": "JusgdPue1Ocf"
      },
      "outputs": [],
      "source": [
        "#we want the date to be of datetime type\n",
        "customer_data['TransactionDate'] = pd.to_datetime(customer_data.TransactionDate)"
      ]
    },
    {
      "cell_type": "code",
      "execution_count": null,
      "metadata": {
        "colab": {
          "base_uri": "https://localhost:8080/"
        },
        "id": "vn9KvgHM1Y5B",
        "outputId": "cb2b7839-916b-471e-dd88-117f5c95f186"
      },
      "outputs": [
        {
          "data": {
            "text/plain": [
              "0        2016-09-08\n",
              "1        2016-08-14\n",
              "2        2016-07-08\n",
              "3        2016-09-15\n",
              "4        2016-08-18\n",
              "            ...    \n",
              "879354   2016-07-08\n",
              "879355   2016-09-15\n",
              "879356   2016-08-18\n",
              "879357   2016-08-28\n",
              "879358   2016-09-25\n",
              "Name: TransactionDate, Length: 879359, dtype: datetime64[ns]"
            ]
          },
          "execution_count": 24,
          "metadata": {},
          "output_type": "execute_result"
        }
      ],
      "source": [
        "customer_data.TransactionDate"
      ]
    },
    {
      "cell_type": "code",
      "execution_count": null,
      "metadata": {
        "colab": {
          "base_uri": "https://localhost:8080/"
        },
        "id": "HFcARKS41hHX",
        "outputId": "1e5b3eb1-9528-43cb-b6a1-e567f219016d"
      },
      "outputs": [
        {
          "data": {
            "text/plain": [
              "2016    879359\n",
              "Name: TransactionDate, dtype: int64"
            ]
          },
          "execution_count": 25,
          "metadata": {},
          "output_type": "execute_result"
        }
      ],
      "source": [
        "customer_data.TransactionDate.dt.year.value_counts()"
      ]
    },
    {
      "cell_type": "markdown",
      "metadata": {
        "id": "ckdaShus1l6m"
      },
      "source": [
        "We see that our dataset deals with transactions in 2016. "
      ]
    },
    {
      "cell_type": "markdown",
      "metadata": {
        "id": "RWvqIMdLvMgX"
      },
      "source": [
        "#### Date of Birth"
      ]
    },
    {
      "cell_type": "code",
      "execution_count": null,
      "metadata": {
        "id": "p9BkM5_yvaRY"
      },
      "outputs": [],
      "source": [
        "#we want the date to be of datetime type\n",
        "customer_data['CustomerDOB'] = pd.to_datetime(customer_data.CustomerDOB)"
      ]
    },
    {
      "cell_type": "code",
      "execution_count": null,
      "metadata": {
        "colab": {
          "base_uri": "https://localhost:8080/",
          "height": 282
        },
        "id": "ADa0Dphny1KI",
        "outputId": "0d96a00d-73b9-4ef0-d08f-7aa595709a5b"
      },
      "outputs": [
        {
          "data": {
            "text/plain": [
              "<matplotlib.axes._subplots.AxesSubplot at 0x7f2995ea1280>"
            ]
          },
          "execution_count": 27,
          "metadata": {},
          "output_type": "execute_result"
        },
        {
          "data": {
            "image/png": "[encoded data removed]",
            "text/plain": [
              "<Figure size 432x288 with 1 Axes>"
            ]
          },
          "metadata": {},
          "output_type": "display_data"
        }
      ],
      "source": [
        "customer_data.CustomerDOB.dt.year.hist(bins= 50)"
      ]
    },
    {
      "cell_type": "code",
      "execution_count": null,
      "metadata": {
        "colab": {
          "base_uri": "https://localhost:8080/"
        },
        "id": "Lk9u4JBt0UDP",
        "outputId": "5f327a60-1043-4e56-e38b-f89e8c1a0063"
      },
      "outputs": [
        {
          "data": {
            "text/plain": [
              "16       1800-01-01\n",
              "28       1800-01-01\n",
              "49       1800-01-01\n",
              "78       1800-01-01\n",
              "85       1800-01-01\n",
              "            ...    \n",
              "879309   1800-01-01\n",
              "879311   1800-01-01\n",
              "879317   1800-01-01\n",
              "879325   1800-01-01\n",
              "879328   1800-01-01\n",
              "Name: CustomerDOB, Length: 47541, dtype: datetime64[ns]"
            ]
          },
          "execution_count": 28,
          "metadata": {},
          "output_type": "execute_result"
        }
      ],
      "source": [
        "customer_data.loc[customer_data.CustomerDOB.dt.year == 1800, 'CustomerDOB']"
      ]
    },
    {
      "cell_type": "code",
      "execution_count": null,
      "metadata": {
        "colab": {
          "base_uri": "https://localhost:8080/"
        },
        "id": "Np0OGGp_1BdS",
        "outputId": "e3f06f09-47bf-45dd-a0ea-2e96cc3ee537"
      },
      "outputs": [
        {
          "data": {
            "text/plain": [
              "181206   2018-03-05\n",
              "210272   2019-12-15\n",
              "427436   2019-12-15\n",
              "4230     2019-12-15\n",
              "177641   2019-12-15\n",
              "            ...    \n",
              "872086   2071-12-30\n",
              "500052   2071-12-30\n",
              "315875   2071-12-30\n",
              "464861   2071-12-31\n",
              "334142   2071-12-31\n",
              "Name: CustomerDOB, Length: 63124, dtype: datetime64[ns]"
            ]
          },
          "execution_count": 29,
          "metadata": {},
          "output_type": "execute_result"
        }
      ],
      "source": [
        "customer_data.loc[customer_data.CustomerDOB.dt.year > 2016, 'CustomerDOB'].sort_values()"
      ]
    },
    {
      "cell_type": "markdown",
      "metadata": {
        "id": "iXExwyS7y76q"
      },
      "source": [
        "We notice something weird: according to this dataset there are customer born in 1800 and after 2016. This is very unlikely: maybe for that customer the date of birth was missing and replaced with a default one. What we can do is dropping the corresponding rows (but we see that in this way we are going to lose more than 130000 transactions) or \"fix\" the data. Since we have to hash the customer, we want the data to be fixed in a way that does not compromise the results of the hashing operation. \n",
        "\n",
        "We notice also that the DOB in 1800 have the same exact date, unlike the successive DOB, so maybe it is better to correct them with different approaches:\n",
        "- for DOB > 2016 we simply subtract 100 years in order to assign a likely date of birth. Of course this represents an issue for finding similar customers, but better than dropping all the information related to these transactions. \n",
        "- for DOB = **1800-01-01** we need to replace the date of birth with the customer resulting the most similar to the customers whos DOB is wrong. "
      ]
    },
    {
      "cell_type": "code",
      "execution_count": null,
      "metadata": {
        "id": "8WDJqSxEy0dZ"
      },
      "outputs": [],
      "source": [
        "customer_data.loc[customer_data.CustomerDOB.dt.year > 2016, 'CustomerDOB'] = customer_data.loc[customer_data.CustomerDOB.dt.year > 2016, 'CustomerDOB'] - pd.DateOffset(years = 100)"
      ]
    },
    {
      "cell_type": "code",
      "execution_count": null,
      "metadata": {
        "colab": {
          "base_uri": "https://localhost:8080/"
        },
        "id": "JxIHxx-K7zg4",
        "outputId": "2c841d70-4ffc-4023-931f-82d40e58170e"
      },
      "outputs": [
        {
          "data": {
            "text/plain": [
              "0"
            ]
          },
          "execution_count": 31,
          "metadata": {},
          "output_type": "execute_result"
        }
      ],
      "source": [
        "customer_data.loc[customer_data.CustomerDOB.dt.year > 2016, 'CustomerDOB'].count()"
      ]
    },
    {
      "cell_type": "markdown",
      "metadata": {
        "id": "ZZSOY9iI8Iha"
      },
      "source": [
        "We fixed the first problem. We want to find a way to fix the second. If we find some common feature for all those transactions with equal DOB we can deduct a solution for dealing with them. \n",
        "In this part, we create a subset of the dataframe containing only the transactions with the wrong date of birth and find common features among them. The chosen date of birth chosen for all these transactions will be the DOB of the customer having these common features.  "
      ]
    },
    {
      "cell_type": "code",
      "execution_count": null,
      "metadata": {
        "id": "eFmhPfc98S0K"
      },
      "outputs": [],
      "source": [
        "#dataframe containing only the data with the wrong date of birth\n",
        "#This dataframe will help us finding similar behaviors among the customers\n",
        "sub_data = customer_data.loc[customer_data.CustomerDOB.dt.year == 1800]"
      ]
    },
    {
      "cell_type": "markdown",
      "metadata": {
        "id": "RO7etQ4__XON"
      },
      "source": [
        "For the majority, the wrong date are related to male customers. "
      ]
    },
    {
      "cell_type": "code",
      "execution_count": null,
      "metadata": {
        "colab": {
          "base_uri": "https://localhost:8080/"
        },
        "id": "_NRd2zYh9Bx4",
        "outputId": "d133c698-8c04-4185-92cf-a1d6ccf1c8e4"
      },
      "outputs": [
        {
          "data": {
            "text/plain": [
              "268667.53402389516"
            ]
          },
          "execution_count": 90,
          "metadata": {},
          "output_type": "execute_result"
        }
      ],
      "source": [
        "sub_data.CustAccountBalance.mean()"
      ]
    },
    {
      "cell_type": "code",
      "execution_count": null,
      "metadata": {
        "colab": {
          "base_uri": "https://localhost:8080/"
        },
        "id": "UxQ1eCBSEbm2",
        "outputId": "81a0872b-9e9b-46d2-89b1-8782482a0d53"
      },
      "outputs": [
        {
          "data": {
            "text/plain": [
              "NEW DELHI                             6560\n",
              "MUMBAI                                3700\n",
              "BANGALORE                             3044\n",
              "DELHI                                 2685\n",
              "GURGAON                               2628\n",
              "                                      ... \n",
              "COLLEGE KEMPAPURA HEBBAL BANGALORE       1\n",
              "CHINCHWAD PUNE                           1\n",
              "RAMDEV TEMPLE RANGAREDDY                 1\n",
              "DARYA GANJ NEW DELHI                     1\n",
              "NARNAUL                                  1\n",
              "Name: CustLocation, Length: 1603, dtype: int64"
            ]
          },
          "execution_count": 91,
          "metadata": {},
          "output_type": "execute_result"
        }
      ],
      "source": [
        "sub_data.CustLocation.value_counts()\n"
      ]
    },
    {
      "cell_type": "code",
      "execution_count": null,
      "metadata": {
        "colab": {
          "base_uri": "https://localhost:8080/"
        },
        "id": "MrpdrGf0-eAC",
        "outputId": "9ec148be-10ab-4b4a-ef88-5849a62b6d89"
      },
      "outputs": [
        {
          "data": {
            "text/plain": [
              "1000.00    2293\n",
              "500.00     1755\n",
              "2000.00     950\n",
              "200.00      910\n",
              "100.00      845\n",
              "           ... \n",
              "5446.00       1\n",
              "9426.00       1\n",
              "1165.50       1\n",
              "7209.68       1\n",
              "9511.36       1\n",
              "Name: TransactionAmount (INR), Length: 12652, dtype: int64"
            ]
          },
          "execution_count": 106,
          "metadata": {},
          "output_type": "execute_result"
        }
      ],
      "source": [
        "sub_data['TransactionAmount (INR)'].value_counts()"
      ]
    },
    {
      "cell_type": "markdown",
      "metadata": {
        "id": "YGe1SXXW8D7f"
      },
      "source": [
        "We look for a male customer, located in New Delhi, with a transaction amount of 1000. "
      ]
    },
    {
      "cell_type": "code",
      "execution_count": null,
      "metadata": {
        "colab": {
          "base_uri": "https://localhost:8080/"
        },
        "id": "NY97yjXpFoRD",
        "outputId": "4b4c9a3c-c4b0-4d61-92dc-239ed00bbf99"
      },
      "outputs": [
        {
          "name": "stderr",
          "output_type": "stream",
          "text": [
            "<ipython-input-33-742b9d1d76d5>:2: UserWarning: Boolean Series key will be reindexed to match DataFrame index.\n",
            "  sub_data1 = customer_data[customer_data['CustAccountBalance'] >= 268667 ][customer_data['CustLocation'] == 'NEW DELHI'][customer_data['TransactionAmount (INR)'] == 1000][customer_data['CustGender'] == 'M']\n"
          ]
        }
      ],
      "source": [
        "#create the dataframe containing the info we need\n",
        "sub_data1 = customer_data[customer_data['CustAccountBalance'] >= 268667 ][customer_data['CustLocation'] == 'NEW DELHI'][customer_data['TransactionAmount (INR)'] == 1000][customer_data['CustGender'] == 'M']"
      ]
    },
    {
      "cell_type": "code",
      "execution_count": null,
      "metadata": {
        "id": "p1D5eYwXjLeY"
      },
      "outputs": [],
      "source": [
        "#we want to keep only correct data\n",
        "sub_data1 = sub_data1[sub_data1['CustomerDOB'] != '1800-01-01' ]"
      ]
    },
    {
      "cell_type": "code",
      "execution_count": null,
      "metadata": {
        "colab": {
          "base_uri": "https://localhost:8080/",
          "height": 505
        },
        "id": "qQWdG6Eqj_RL",
        "outputId": "ecb7ab26-cf9e-42df-a209-35a6504f5f5a"
      },
      "outputs": [
        {
          "data": {
            "text/html": [
              "\n",
              "  <div id=\"df-733556d9-9ff8-4e9f-a3e6-bd791b8ebca1\">\n",
              "    <div class=\"colab-df-container\">\n",
              "      <div>\n",
              "<style scoped>\n",
              "    .dataframe tbody tr th:only-of-type {\n",
              "        vertical-align: middle;\n",
              "    }\n",
              "\n",
              "    .dataframe tbody tr th {\n",
              "        vertical-align: top;\n",
              "    }\n",
              "\n",
              "    .dataframe thead th {\n",
              "        text-align: right;\n",
              "    }\n",
              "</style>\n",
              "<table border=\"1\" class=\"dataframe\">\n",
              "  <thead>\n",
              "    <tr style=\"text-align: right;\">\n",
              "      <th></th>\n",
              "      <th>CustomerDOB</th>\n",
              "      <th>CustGender</th>\n",
              "      <th>CustLocation</th>\n",
              "      <th>CustAccountBalance</th>\n",
              "      <th>TransactionDate</th>\n",
              "      <th>TransactionTime</th>\n",
              "      <th>TransactionAmount (INR)</th>\n",
              "    </tr>\n",
              "  </thead>\n",
              "  <tbody>\n",
              "    <tr>\n",
              "      <th>152571</th>\n",
              "      <td>1981-11-09</td>\n",
              "      <td>M</td>\n",
              "      <td>NEW DELHI</td>\n",
              "      <td>271640.32</td>\n",
              "      <td>2016-10-08</td>\n",
              "      <td>81147</td>\n",
              "      <td>1000.0</td>\n",
              "    </tr>\n",
              "    <tr>\n",
              "      <th>762459</th>\n",
              "      <td>1989-04-08</td>\n",
              "      <td>M</td>\n",
              "      <td>NEW DELHI</td>\n",
              "      <td>278652.44</td>\n",
              "      <td>2016-02-09</td>\n",
              "      <td>95939</td>\n",
              "      <td>1000.0</td>\n",
              "    </tr>\n",
              "    <tr>\n",
              "      <th>455370</th>\n",
              "      <td>1991-02-08</td>\n",
              "      <td>M</td>\n",
              "      <td>NEW DELHI</td>\n",
              "      <td>287095.41</td>\n",
              "      <td>2016-05-09</td>\n",
              "      <td>211627</td>\n",
              "      <td>1000.0</td>\n",
              "    </tr>\n",
              "    <tr>\n",
              "      <th>237811</th>\n",
              "      <td>1962-12-17</td>\n",
              "      <td>M</td>\n",
              "      <td>NEW DELHI</td>\n",
              "      <td>288077.41</td>\n",
              "      <td>2016-03-08</td>\n",
              "      <td>72831</td>\n",
              "      <td>1000.0</td>\n",
              "    </tr>\n",
              "    <tr>\n",
              "      <th>20736</th>\n",
              "      <td>1962-12-17</td>\n",
              "      <td>M</td>\n",
              "      <td>NEW DELHI</td>\n",
              "      <td>288077.41</td>\n",
              "      <td>2016-10-08</td>\n",
              "      <td>72658</td>\n",
              "      <td>1000.0</td>\n",
              "    </tr>\n",
              "    <tr>\n",
              "      <th>...</th>\n",
              "      <td>...</td>\n",
              "      <td>...</td>\n",
              "      <td>...</td>\n",
              "      <td>...</td>\n",
              "      <td>...</td>\n",
              "      <td>...</td>\n",
              "      <td>...</td>\n",
              "    </tr>\n",
              "    <tr>\n",
              "      <th>52547</th>\n",
              "      <td>1987-09-24</td>\n",
              "      <td>M</td>\n",
              "      <td>NEW DELHI</td>\n",
              "      <td>5554571.47</td>\n",
              "      <td>2016-08-14</td>\n",
              "      <td>182403</td>\n",
              "      <td>1000.0</td>\n",
              "    </tr>\n",
              "    <tr>\n",
              "      <th>758068</th>\n",
              "      <td>1987-09-24</td>\n",
              "      <td>M</td>\n",
              "      <td>NEW DELHI</td>\n",
              "      <td>5554571.47</td>\n",
              "      <td>2016-08-08</td>\n",
              "      <td>191104</td>\n",
              "      <td>1000.0</td>\n",
              "    </tr>\n",
              "    <tr>\n",
              "      <th>367354</th>\n",
              "      <td>1987-09-24</td>\n",
              "      <td>M</td>\n",
              "      <td>NEW DELHI</td>\n",
              "      <td>5554571.47</td>\n",
              "      <td>2016-06-08</td>\n",
              "      <td>195010</td>\n",
              "      <td>1000.0</td>\n",
              "    </tr>\n",
              "    <tr>\n",
              "      <th>226530</th>\n",
              "      <td>1968-01-13</td>\n",
              "      <td>M</td>\n",
              "      <td>NEW DELHI</td>\n",
              "      <td>6781360.50</td>\n",
              "      <td>2016-08-13</td>\n",
              "      <td>120214</td>\n",
              "      <td>1000.0</td>\n",
              "    </tr>\n",
              "    <tr>\n",
              "      <th>229325</th>\n",
              "      <td>1953-09-30</td>\n",
              "      <td>M</td>\n",
              "      <td>NEW DELHI</td>\n",
              "      <td>37254856.90</td>\n",
              "      <td>2016-01-08</td>\n",
              "      <td>103741</td>\n",
              "      <td>1000.0</td>\n",
              "    </tr>\n",
              "  </tbody>\n",
              "</table>\n",
              "<p>139 rows × 7 columns</p>\n",
              "</div>\n",
              "      <button class=\"colab-df-convert\" onclick=\"convertToInteractive('df-733556d9-9ff8-4e9f-a3e6-bd791b8ebca1')\"\n",
              "              title=\"Convert this dataframe to an interactive table.\"\n",
              "              style=\"display:none;\">\n",
              "        \n",
              "  <svg xmlns=\"http://www.w3.org/2000/svg\" height=\"24px\"viewBox=\"0 0 24 24\"\n",
              "       width=\"24px\">\n",
              "    <path d=\"M0 0h24v24H0V0z\" fill=\"none\"/>\n",
              "    <path d=\"M18.56 5.44l.94 2.06.94-2.06 2.06-.94-2.06-.94-.94-2.06-.94 2.06-2.06.94zm-11 1L8.5 8.5l.94-2.06 2.06-.94-2.06-.94L8.5 2.5l-.94 2.06-2.06.94zm10 10l.94 2.06.94-2.06 2.06-.94-2.06-.94-.94-2.06-.94 2.06-2.06.94z\"/><path d=\"M17.41 7.96l-1.37-1.37c-.4-.4-.92-.59-1.43-.59-.52 0-1.04.2-1.43.59L10.3 9.45l-7.72 7.72c-.78.78-.78 2.05 0 2.83L4 21.41c.39.39.9.59 1.41.59.51 0 1.02-.2 1.41-.59l7.78-7.78 2.81-2.81c.8-.78.8-2.07 0-2.86zM5.41 20L4 18.59l7.72-7.72 1.47 1.35L5.41 20z\"/>\n",
              "  </svg>\n",
              "      </button>\n",
              "      \n",
              "  <style>\n",
              "    .colab-df-container {\n",
              "      display:flex;\n",
              "      flex-wrap:wrap;\n",
              "      gap: 12px;\n",
              "    }\n",
              "\n",
              "    .colab-df-convert {\n",
              "      background-color: #E8F0FE;\n",
              "      border: none;\n",
              "      border-radius: 50%;\n",
              "      cursor: pointer;\n",
              "      display: none;\n",
              "      fill: #1967D2;\n",
              "      height: 32px;\n",
              "      padding: 0 0 0 0;\n",
              "      width: 32px;\n",
              "    }\n",
              "\n",
              "    .colab-df-convert:hover {\n",
              "      background-color: #E2EBFA;\n",
              "      box-shadow: 0px 1px 2px rgba(60, 64, 67, 0.3), 0px 1px 3px 1px rgba(60, 64, 67, 0.15);\n",
              "      fill: #174EA6;\n",
              "    }\n",
              "\n",
              "    [theme=dark] .colab-df-convert {\n",
              "      background-color: #3B4455;\n",
              "      fill: #D2E3FC;\n",
              "    }\n",
              "\n",
              "    [theme=dark] .colab-df-convert:hover {\n",
              "      background-color: #434B5C;\n",
              "      box-shadow: 0px 1px 3px 1px rgba(0, 0, 0, 0.15);\n",
              "      filter: drop-shadow(0px 1px 2px rgba(0, 0, 0, 0.3));\n",
              "      fill: #FFFFFF;\n",
              "    }\n",
              "  </style>\n",
              "\n",
              "      <script>\n",
              "        const buttonEl =\n",
              "          document.querySelector('#df-733556d9-9ff8-4e9f-a3e6-bd791b8ebca1 button.colab-df-convert');\n",
              "        buttonEl.style.display =\n",
              "          google.colab.kernel.accessAllowed ? 'block' : 'none';\n",
              "\n",
              "        async function convertToInteractive(key) {\n",
              "          const element = document.querySelector('#df-733556d9-9ff8-4e9f-a3e6-bd791b8ebca1');\n",
              "          const dataTable =\n",
              "            await google.colab.kernel.invokeFunction('convertToInteractive',\n",
              "                                                     [key], {});\n",
              "          if (!dataTable) return;\n",
              "\n",
              "          const docLinkHtml = 'Like what you see? Visit the ' +\n",
              "            '<a target=\"_blank\" href=https://colab.research.google.com/notebooks/data_table.ipynb>data table notebook</a>'\n",
              "            + ' to learn more about interactive tables.';\n",
              "          element.innerHTML = '';\n",
              "          dataTable['output_type'] = 'display_data';\n",
              "          await google.colab.output.renderOutput(dataTable, element);\n",
              "          const docLink = document.createElement('div');\n",
              "          docLink.innerHTML = docLinkHtml;\n",
              "          element.appendChild(docLink);\n",
              "        }\n",
              "      </script>\n",
              "    </div>\n",
              "  </div>\n",
              "  "
            ],
            "text/plain": [
              "       CustomerDOB CustGender CustLocation  CustAccountBalance  \\\n",
              "152571  1981-11-09          M    NEW DELHI           271640.32   \n",
              "762459  1989-04-08          M    NEW DELHI           278652.44   \n",
              "455370  1991-02-08          M    NEW DELHI           287095.41   \n",
              "237811  1962-12-17          M    NEW DELHI           288077.41   \n",
              "20736   1962-12-17          M    NEW DELHI           288077.41   \n",
              "...            ...        ...          ...                 ...   \n",
              "52547   1987-09-24          M    NEW DELHI          5554571.47   \n",
              "758068  1987-09-24          M    NEW DELHI          5554571.47   \n",
              "367354  1987-09-24          M    NEW DELHI          5554571.47   \n",
              "226530  1968-01-13          M    NEW DELHI          6781360.50   \n",
              "229325  1953-09-30          M    NEW DELHI         37254856.90   \n",
              "\n",
              "       TransactionDate  TransactionTime  TransactionAmount (INR)  \n",
              "152571      2016-10-08            81147                   1000.0  \n",
              "762459      2016-02-09            95939                   1000.0  \n",
              "455370      2016-05-09           211627                   1000.0  \n",
              "237811      2016-03-08            72831                   1000.0  \n",
              "20736       2016-10-08            72658                   1000.0  \n",
              "...                ...              ...                      ...  \n",
              "52547       2016-08-14           182403                   1000.0  \n",
              "758068      2016-08-08           191104                   1000.0  \n",
              "367354      2016-06-08           195010                   1000.0  \n",
              "226530      2016-08-13           120214                   1000.0  \n",
              "229325      2016-01-08           103741                   1000.0  \n",
              "\n",
              "[139 rows x 7 columns]"
            ]
          },
          "execution_count": 35,
          "metadata": {},
          "output_type": "execute_result"
        }
      ],
      "source": [
        "sub_data1.sort_values(by = 'CustAccountBalance')"
      ]
    },
    {
      "cell_type": "markdown",
      "metadata": {
        "id": "S0h-u9gfkVHs"
      },
      "source": [
        "The customer that is most similar to the mean of customers whose date of birth is wrong is the first one. We can compare, for instance, the bar plots"
      ]
    },
    {
      "cell_type": "markdown",
      "metadata": {
        "id": "TmWeMV38lDxQ"
      },
      "source": [
        "We replace the date **1800-01-01** with **1981-11-09**\t"
      ]
    },
    {
      "cell_type": "code",
      "execution_count": null,
      "metadata": {
        "id": "7_JCrZKnlDDD"
      },
      "outputs": [],
      "source": [
        "data1 = customer_data.replace(['1800-01-01'], '1981-11-09' )"
      ]
    },
    {
      "cell_type": "code",
      "execution_count": null,
      "metadata": {
        "id": "4y7O3dV9tLD2"
      },
      "outputs": [],
      "source": [
        "data1.reset_index(drop=True, inplace = True)"
      ]
    },
    {
      "cell_type": "code",
      "execution_count": null,
      "metadata": {
        "id": "cnO-zYY9op_P"
      },
      "outputs": [],
      "source": [
        "data1['CustomerDOB'] = pd.to_datetime(data1['CustomerDOB'])"
      ]
    },
    {
      "cell_type": "code",
      "execution_count": null,
      "metadata": {
        "colab": {
          "base_uri": "https://localhost:8080/",
          "height": 282
        },
        "id": "ZPR3f_NkosRr",
        "outputId": "1e233ddb-7d23-4686-a6b5-4531519f71e4"
      },
      "outputs": [
        {
          "data": {
            "text/plain": [
              "<matplotlib.axes._subplots.AxesSubplot at 0x7f2995dba6a0>"
            ]
          },
          "execution_count": 39,
          "metadata": {},
          "output_type": "execute_result"
        },
        {
          "data": {
            "image/png": "[encoded data removed]",
            "text/plain": [
              "<Figure size 432x288 with 1 Axes>"
            ]
          },
          "metadata": {},
          "output_type": "display_data"
        }
      ],
      "source": [
        "data1.CustomerDOB.hist(bins = 50)"
      ]
    },
    {
      "cell_type": "markdown",
      "metadata": {
        "id": "tjcRHnl3s4Ua"
      },
      "source": [
        "Now the distribution of birthdays makes sense. As we expected, there is a peak in 1981. However, this shouldn't compromise the hashing procedure. "
      ]
    },
    {
      "cell_type": "markdown",
      "metadata": {
        "id": "KHVTmoC7v9lL"
      },
      "source": [
        "#### Transaction Time"
      ]
    },
    {
      "cell_type": "code",
      "execution_count": null,
      "metadata": {
        "id": "KwYjIegvymnF"
      },
      "outputs": [],
      "source": [
        "from datetime import datetime"
      ]
    },
    {
      "cell_type": "code",
      "execution_count": null,
      "metadata": {
        "id": "0W5bEywcyiVU"
      },
      "outputs": [],
      "source": [
        "#Transaction time is not in the format we want\n",
        "data1['TransactionTime'] = data1.TransactionTime.apply(lambda row: datetime.strptime(str(row).zfill(6), '%H%M%S'))"
      ]
    },
    {
      "cell_type": "code",
      "execution_count": null,
      "metadata": {
        "colab": {
          "base_uri": "https://localhost:8080/"
        },
        "id": "ul9l4rR08ebo",
        "outputId": "d1bcaea4-775d-48c2-e0e3-43b6c69efbe3"
      },
      "outputs": [
        {
          "data": {
            "text/plain": [
              "0         01:12:29\n",
              "1         20:44:09\n",
              "2         22:03:05\n",
              "3         17:02:54\n",
              "4         14:11:03\n",
              "            ...   \n",
              "879354    00:51:22\n",
              "879355    12:02:55\n",
              "879356    12:25:33\n",
              "879357    21:37:22\n",
              "879358    22:57:32\n",
              "Name: TransactionTime, Length: 879359, dtype: object"
            ]
          },
          "execution_count": 42,
          "metadata": {},
          "output_type": "execute_result"
        }
      ],
      "source": [
        "data1.TransactionTime.dt.time"
      ]
    },
    {
      "cell_type": "markdown",
      "metadata": {
        "id": "NlEQmk5stmPs"
      },
      "source": [
        "#### Transaction Date"
      ]
    },
    {
      "cell_type": "code",
      "execution_count": null,
      "metadata": {
        "id": "GnZuop4itlyP"
      },
      "outputs": [],
      "source": [
        "data1['TransactionDate'] = pd.to_datetime(data1.TransactionDate)"
      ]
    },
    {
      "cell_type": "markdown",
      "metadata": {
        "id": "uWBj41V2vGfg"
      },
      "source": [
        "# 1.Finding Similar Costumers"
      ]
    },
    {
      "cell_type": "markdown",
      "metadata": {
        "id": "AzZaVHCJvKoX"
      },
      "source": [
        "Companies nowadays are implementing product suggestions to provide users with things they are likely to buy. The process often starts by **finding similar behaviours** among consumers; for this task, we will focus on this part in the specific.\n",
        "Here you will implement an algorithm to find the most similar match to a consumer given his bank account information. In particular, you will implement your version of the LSH algorithm that takes as input information about a consumer and finds people similar to the one in the study"
      ]
    },
    {
      "cell_type": "markdown",
      "metadata": {
        "id": "kEq8ZLj4vc6D"
      },
      "source": [
        "## 1.1 Set up the data"
      ]
    },
    {
      "cell_type": "code",
      "execution_count": null,
      "metadata": {
        "colab": {
          "base_uri": "https://localhost:8080/",
          "height": 679
        },
        "id": "IzMAG3L_vKRA",
        "outputId": "f5d36c14-1a9d-406a-e973-97a1ae75bd34"
      },
      "outputs": [
        {
          "data": {
            "text/html": [
              "\n",
              "  <div id=\"df-244408b3-10fb-4b44-ae10-8ceb6bd72de7\">\n",
              "    <div class=\"colab-df-container\">\n",
              "      <div>\n",
              "<style scoped>\n",
              "    .dataframe tbody tr th:only-of-type {\n",
              "        vertical-align: middle;\n",
              "    }\n",
              "\n",
              "    .dataframe tbody tr th {\n",
              "        vertical-align: top;\n",
              "    }\n",
              "\n",
              "    .dataframe thead th {\n",
              "        text-align: right;\n",
              "    }\n",
              "</style>\n",
              "<table border=\"1\" class=\"dataframe\">\n",
              "  <thead>\n",
              "    <tr style=\"text-align: right;\">\n",
              "      <th></th>\n",
              "      <th>CustomerDOB</th>\n",
              "      <th>CustGender</th>\n",
              "      <th>CustLocation</th>\n",
              "      <th>CustAccountBalance</th>\n",
              "      <th>TransactionDate</th>\n",
              "      <th>TransactionTime</th>\n",
              "      <th>TransactionAmount (INR)</th>\n",
              "    </tr>\n",
              "  </thead>\n",
              "  <tbody>\n",
              "    <tr>\n",
              "      <th>0</th>\n",
              "      <td>1983-05-08</td>\n",
              "      <td>M</td>\n",
              "      <td>NEW DELHI</td>\n",
              "      <td>120180.54</td>\n",
              "      <td>2016-09-08</td>\n",
              "      <td>1900-01-01 01:12:29</td>\n",
              "      <td>356.0</td>\n",
              "    </tr>\n",
              "    <tr>\n",
              "      <th>1</th>\n",
              "      <td>1994-07-28</td>\n",
              "      <td>M</td>\n",
              "      <td>MUMBAI</td>\n",
              "      <td>24204.49</td>\n",
              "      <td>2016-08-14</td>\n",
              "      <td>1900-01-01 20:44:09</td>\n",
              "      <td>1499.0</td>\n",
              "    </tr>\n",
              "    <tr>\n",
              "      <th>2</th>\n",
              "      <td>1984-08-19</td>\n",
              "      <td>M</td>\n",
              "      <td>MUMBAI</td>\n",
              "      <td>161848.76</td>\n",
              "      <td>2016-07-08</td>\n",
              "      <td>1900-01-01 22:03:05</td>\n",
              "      <td>250.0</td>\n",
              "    </tr>\n",
              "    <tr>\n",
              "      <th>3</th>\n",
              "      <td>1990-05-29</td>\n",
              "      <td>F</td>\n",
              "      <td>CHAMPARAN</td>\n",
              "      <td>496.18</td>\n",
              "      <td>2016-09-15</td>\n",
              "      <td>1900-01-01 17:02:54</td>\n",
              "      <td>30.0</td>\n",
              "    </tr>\n",
              "    <tr>\n",
              "      <th>4</th>\n",
              "      <td>1965-06-21</td>\n",
              "      <td>M</td>\n",
              "      <td>KOLKATA</td>\n",
              "      <td>87058.65</td>\n",
              "      <td>2016-08-18</td>\n",
              "      <td>1900-01-01 14:11:03</td>\n",
              "      <td>5000.0</td>\n",
              "    </tr>\n",
              "    <tr>\n",
              "      <th>...</th>\n",
              "      <td>...</td>\n",
              "      <td>...</td>\n",
              "      <td>...</td>\n",
              "      <td>...</td>\n",
              "      <td>...</td>\n",
              "      <td>...</td>\n",
              "      <td>...</td>\n",
              "    </tr>\n",
              "    <tr>\n",
              "      <th>879354</th>\n",
              "      <td>1990-12-24</td>\n",
              "      <td>M</td>\n",
              "      <td>BHIWANDI</td>\n",
              "      <td>133067.23</td>\n",
              "      <td>2016-07-08</td>\n",
              "      <td>1900-01-01 00:51:22</td>\n",
              "      <td>691.0</td>\n",
              "    </tr>\n",
              "    <tr>\n",
              "      <th>879355</th>\n",
              "      <td>1996-09-06</td>\n",
              "      <td>M</td>\n",
              "      <td>BANGALORE</td>\n",
              "      <td>96063.46</td>\n",
              "      <td>2016-09-15</td>\n",
              "      <td>1900-01-01 12:02:55</td>\n",
              "      <td>222.0</td>\n",
              "    </tr>\n",
              "    <tr>\n",
              "      <th>879356</th>\n",
              "      <td>1993-10-21</td>\n",
              "      <td>M</td>\n",
              "      <td>GUNTUR</td>\n",
              "      <td>5559.75</td>\n",
              "      <td>2016-08-18</td>\n",
              "      <td>1900-01-01 12:25:33</td>\n",
              "      <td>126.0</td>\n",
              "    </tr>\n",
              "    <tr>\n",
              "      <th>879357</th>\n",
              "      <td>1995-04-22</td>\n",
              "      <td>M</td>\n",
              "      <td>CHENNAI</td>\n",
              "      <td>35295.92</td>\n",
              "      <td>2016-08-28</td>\n",
              "      <td>1900-01-01 21:37:22</td>\n",
              "      <td>50.0</td>\n",
              "    </tr>\n",
              "    <tr>\n",
              "      <th>879358</th>\n",
              "      <td>1982-11-09</td>\n",
              "      <td>M</td>\n",
              "      <td>MUSSOORIE</td>\n",
              "      <td>6968.93</td>\n",
              "      <td>2016-09-25</td>\n",
              "      <td>1900-01-01 22:57:32</td>\n",
              "      <td>855.0</td>\n",
              "    </tr>\n",
              "  </tbody>\n",
              "</table>\n",
              "<p>879359 rows × 7 columns</p>\n",
              "</div>\n",
              "      <button class=\"colab-df-convert\" onclick=\"convertToInteractive('df-244408b3-10fb-4b44-ae10-8ceb6bd72de7')\"\n",
              "              title=\"Convert this dataframe to an interactive table.\"\n",
              "              style=\"display:none;\">\n",
              "        \n",
              "  <svg xmlns=\"http://www.w3.org/2000/svg\" height=\"24px\"viewBox=\"0 0 24 24\"\n",
              "       width=\"24px\">\n",
              "    <path d=\"M0 0h24v24H0V0z\" fill=\"none\"/>\n",
              "    <path d=\"M18.56 5.44l.94 2.06.94-2.06 2.06-.94-2.06-.94-.94-2.06-.94 2.06-2.06.94zm-11 1L8.5 8.5l.94-2.06 2.06-.94-2.06-.94L8.5 2.5l-.94 2.06-2.06.94zm10 10l.94 2.06.94-2.06 2.06-.94-2.06-.94-.94-2.06-.94 2.06-2.06.94z\"/><path d=\"M17.41 7.96l-1.37-1.37c-.4-.4-.92-.59-1.43-.59-.52 0-1.04.2-1.43.59L10.3 9.45l-7.72 7.72c-.78.78-.78 2.05 0 2.83L4 21.41c.39.39.9.59 1.41.59.51 0 1.02-.2 1.41-.59l7.78-7.78 2.81-2.81c.8-.78.8-2.07 0-2.86zM5.41 20L4 18.59l7.72-7.72 1.47 1.35L5.41 20z\"/>\n",
              "  </svg>\n",
              "      </button>\n",
              "      \n",
              "  <style>\n",
              "    .colab-df-container {\n",
              "      display:flex;\n",
              "      flex-wrap:wrap;\n",
              "      gap: 12px;\n",
              "    }\n",
              "\n",
              "    .colab-df-convert {\n",
              "      background-color: #E8F0FE;\n",
              "      border: none;\n",
              "      border-radius: 50%;\n",
              "      cursor: pointer;\n",
              "      display: none;\n",
              "      fill: #1967D2;\n",
              "      height: 32px;\n",
              "      padding: 0 0 0 0;\n",
              "      width: 32px;\n",
              "    }\n",
              "\n",
              "    .colab-df-convert:hover {\n",
              "      background-color: #E2EBFA;\n",
              "      box-shadow: 0px 1px 2px rgba(60, 64, 67, 0.3), 0px 1px 3px 1px rgba(60, 64, 67, 0.15);\n",
              "      fill: #174EA6;\n",
              "    }\n",
              "\n",
              "    [theme=dark] .colab-df-convert {\n",
              "      background-color: #3B4455;\n",
              "      fill: #D2E3FC;\n",
              "    }\n",
              "\n",
              "    [theme=dark] .colab-df-convert:hover {\n",
              "      background-color: #434B5C;\n",
              "      box-shadow: 0px 1px 3px 1px rgba(0, 0, 0, 0.15);\n",
              "      filter: drop-shadow(0px 1px 2px rgba(0, 0, 0, 0.3));\n",
              "      fill: #FFFFFF;\n",
              "    }\n",
              "  </style>\n",
              "\n",
              "      <script>\n",
              "        const buttonEl =\n",
              "          document.querySelector('#df-244408b3-10fb-4b44-ae10-8ceb6bd72de7 button.colab-df-convert');\n",
              "        buttonEl.style.display =\n",
              "          google.colab.kernel.accessAllowed ? 'block' : 'none';\n",
              "\n",
              "        async function convertToInteractive(key) {\n",
              "          const element = document.querySelector('#df-244408b3-10fb-4b44-ae10-8ceb6bd72de7');\n",
              "          const dataTable =\n",
              "            await google.colab.kernel.invokeFunction('convertToInteractive',\n",
              "                                                     [key], {});\n",
              "          if (!dataTable) return;\n",
              "\n",
              "          const docLinkHtml = 'Like what you see? Visit the ' +\n",
              "            '<a target=\"_blank\" href=https://colab.research.google.com/notebooks/data_table.ipynb>data table notebook</a>'\n",
              "            + ' to learn more about interactive tables.';\n",
              "          element.innerHTML = '';\n",
              "          dataTable['output_type'] = 'display_data';\n",
              "          await google.colab.output.renderOutput(dataTable, element);\n",
              "          const docLink = document.createElement('div');\n",
              "          docLink.innerHTML = docLinkHtml;\n",
              "          element.appendChild(docLink);\n",
              "        }\n",
              "      </script>\n",
              "    </div>\n",
              "  </div>\n",
              "  "
            ],
            "text/plain": [
              "       CustomerDOB CustGender CustLocation  CustAccountBalance  \\\n",
              "0       1983-05-08          M    NEW DELHI           120180.54   \n",
              "1       1994-07-28          M       MUMBAI            24204.49   \n",
              "2       1984-08-19          M       MUMBAI           161848.76   \n",
              "3       1990-05-29          F    CHAMPARAN              496.18   \n",
              "4       1965-06-21          M      KOLKATA            87058.65   \n",
              "...            ...        ...          ...                 ...   \n",
              "879354  1990-12-24          M     BHIWANDI           133067.23   \n",
              "879355  1996-09-06          M    BANGALORE            96063.46   \n",
              "879356  1993-10-21          M       GUNTUR             5559.75   \n",
              "879357  1995-04-22          M      CHENNAI            35295.92   \n",
              "879358  1982-11-09          M    MUSSOORIE             6968.93   \n",
              "\n",
              "       TransactionDate     TransactionTime  TransactionAmount (INR)  \n",
              "0           2016-09-08 1900-01-01 01:12:29                    356.0  \n",
              "1           2016-08-14 1900-01-01 20:44:09                   1499.0  \n",
              "2           2016-07-08 1900-01-01 22:03:05                    250.0  \n",
              "3           2016-09-15 1900-01-01 17:02:54                     30.0  \n",
              "4           2016-08-18 1900-01-01 14:11:03                   5000.0  \n",
              "...                ...                 ...                      ...  \n",
              "879354      2016-07-08 1900-01-01 00:51:22                    691.0  \n",
              "879355      2016-09-15 1900-01-01 12:02:55                    222.0  \n",
              "879356      2016-08-18 1900-01-01 12:25:33                    126.0  \n",
              "879357      2016-08-28 1900-01-01 21:37:22                     50.0  \n",
              "879358      2016-09-25 1900-01-01 22:57:32                    855.0  \n",
              "\n",
              "[879359 rows x 7 columns]"
            ]
          },
          "execution_count": 45,
          "metadata": {},
          "output_type": "execute_result"
        }
      ],
      "source": [
        "#the dataset we are going to use has been already prepared\n",
        "data1"
      ]
    },
    {
      "cell_type": "code",
      "execution_count": null,
      "metadata": {
        "colab": {
          "base_uri": "https://localhost:8080/"
        },
        "id": "wQOeVYwek9CF",
        "outputId": "1ab03d21-355a-48b3-c51f-e4d95ad18560"
      },
      "outputs": [
        {
          "data": {
            "text/plain": [
              "<function BufferedWriter.close>"
            ]
          },
          "execution_count": 46,
          "metadata": {},
          "output_type": "execute_result"
        }
      ],
      "source": [
        "import pickle\n",
        "with open('clean_df.pkl', 'wb') as f:\n",
        "  pickle.dump(data1, f)\n",
        "f.close"
      ]
    },
    {
      "cell_type": "markdown",
      "metadata": {
        "id": "lsXmgcnCvqRD"
      },
      "source": [
        "## 1.2 Fingerprint hashing"
      ]
    },
    {
      "cell_type": "markdown",
      "metadata": {
        "id": "FXybVBdqv6Fu"
      },
      "source": [
        "*1. Implement your minhash function from scratch*"
      ]
    },
    {
      "cell_type": "markdown",
      "metadata": {
        "id": "aWycD2slxPYT"
      },
      "source": [
        "The min-hash function has as input a set of shingles and, as output, the so-called **signature matrix**. We want to create it.The signatures we desire to construct for sets are composed of the results of a\n",
        "large number of calculations, say several hundred, each of which is a “minhash”\n",
        "of the characteristic matrix.\n",
        "Hence, the first thing we need to do is obtaining the characteristic matrix associated to our dataset. "
      ]
    },
    {
      "cell_type": "markdown",
      "source": [
        "What we have decided to do, since there is no way of obtaining k-shingles from our dataset, i.e. bank transactions, is dividing the variables in bins in a way that the features are discretized at the end.\n",
        "\\\n",
        "The characteristic matrix will have a small number of rows and as many columns as the number of customers. In each cell of the matrix there will be a one if the customer feature belongs to the bin corresponding to the row. \n"
      ],
      "metadata": {
        "id": "aGJp5BF5Vaz5"
      }
    },
    {
      "cell_type": "markdown",
      "metadata": {
        "id": "-fjI5NwP6BC-"
      },
      "source": [
        "#### STEP 1: Feature discretization"
      ]
    },
    {
      "cell_type": "markdown",
      "metadata": {
        "id": "44p3xmLjganp"
      },
      "source": [
        "The features we want to discretize are: \n",
        "- the balance of the customer\n",
        "- the period of the year (retrieved from the TransactionDate column)\n",
        "- the period of the day (retrieved from the TransactionTime column)\n",
        "- the amount of the transaction\n",
        "- the age of the customer \n"
      ]
    },
    {
      "cell_type": "markdown",
      "source": [
        "- **Customer balance**"
      ],
      "metadata": {
        "id": "8_UlG2V7YZWI"
      }
    },
    {
      "cell_type": "markdown",
      "metadata": {
        "id": "e_0utDrifHvn"
      },
      "source": [
        "Since what we want is creating a finite set of shingles (we will use unigrams), we need to discretize the features. It's the same principle of what we did in the previous cell: instead of a quantitative feature (that seems to specific for each customer) we need a set of few qualitative features. For doing it, we use a sklearn function: sklearn.preprocessing.KBinsDiscetizer"
      ]
    },
    {
      "cell_type": "code",
      "execution_count": null,
      "metadata": {
        "id": "LpLuRmbvVneN"
      },
      "outputs": [],
      "source": [
        "from sklearn.preprocessing import KBinsDiscretizer\n",
        "import pandas as pd"
      ]
    },
    {
      "cell_type": "code",
      "execution_count": null,
      "metadata": {
        "id": "ZsJU7Y1cgaVv"
      },
      "outputs": [],
      "source": [
        "#balance account\n",
        "balance = KBinsDiscretizer(n_bins = 4, encode = 'ordinal', strategy = 'quantile')"
      ]
    },
    {
      "cell_type": "code",
      "execution_count": null,
      "metadata": {
        "colab": {
          "base_uri": "https://localhost:8080/"
        },
        "id": "yUWia2ESj3qd",
        "outputId": "30286e54-a358-4177-b025-94cc5470e063"
      },
      "outputs": [
        {
          "output_type": "execute_result",
          "data": {
            "text/plain": [
              "KBinsDiscretizer(encode='ordinal', n_bins=4)"
            ]
          },
          "metadata": {},
          "execution_count": 8
        }
      ],
      "source": [
        "balance.fit(data1.CustAccountBalance.to_numpy().reshape(-1,1))"
      ]
    },
    {
      "cell_type": "code",
      "execution_count": null,
      "metadata": {
        "id": "zlCoFUwrkC6c"
      },
      "outputs": [],
      "source": [
        "data1['discrete_balance'] = balance.transform(data1.CustAccountBalance.to_numpy().reshape(-1,1))"
      ]
    },
    {
      "cell_type": "code",
      "execution_count": null,
      "metadata": {
        "colab": {
          "base_uri": "https://localhost:8080/"
        },
        "id": "6l5O-BzZknJN",
        "outputId": "6a11d94d-4f57-49f7-e358-7770631be8b9"
      },
      "outputs": [
        {
          "output_type": "execute_result",
          "data": {
            "text/plain": [
              "1.0    219851\n",
              "3.0    219844\n",
              "2.0    219836\n",
              "0.0    219828\n",
              "Name: discrete_balance, dtype: int64"
            ]
          },
          "metadata": {},
          "execution_count": 10
        }
      ],
      "source": [
        "data1.discrete_balance.value_counts()\n"
      ]
    },
    {
      "cell_type": "code",
      "execution_count": null,
      "metadata": {
        "colab": {
          "base_uri": "https://localhost:8080/"
        },
        "id": "k9k-FovKkqBo",
        "outputId": "42d2a0fa-9dff-4cd2-e65b-95cfae06b4ff"
      },
      "outputs": [
        {
          "output_type": "stream",
          "name": "stdout",
          "text": [
            "min_class 0: 0.0\n",
            "max_class 0: 4741.91\n",
            "min_class 1: 4742.35\n",
            "max_class 1: 16782.63\n",
            "min_class 2: 16783.58\n",
            "max_class 2: 57484.17\n",
            "min_class 3: 57486.74\n",
            "max_class 3: 115035495.1\n"
          ]
        }
      ],
      "source": [
        "print('min_class 0:', data1.loc[data1['discrete_balance'] == 0.0, 'CustAccountBalance'].min())\n",
        "print('max_class 0:', data1.loc[data1['discrete_balance'] == 0.0, 'CustAccountBalance'].max())\n",
        "print('min_class 1:', data1.loc[data1['discrete_balance'] == 1.0, 'CustAccountBalance'].min())\n",
        "print('max_class 1:', data1.loc[data1['discrete_balance'] == 1.0, 'CustAccountBalance'].max())\n",
        "print('min_class 2:', data1.loc[data1['discrete_balance'] == 2.0, 'CustAccountBalance'].min())\n",
        "print('max_class 2:', data1.loc[data1['discrete_balance'] == 2.0, 'CustAccountBalance'].max())\n",
        "print('min_class 3:', data1.loc[data1['discrete_balance'] == 3.0, 'CustAccountBalance'].min())\n",
        "print('max_class 3:', data1.loc[data1['discrete_balance'] == 3.0, 'CustAccountBalance'].max())\n"
      ]
    },
    {
      "cell_type": "markdown",
      "metadata": {
        "id": "33FDOL3wn_dn"
      },
      "source": [
        "We split the account balances in 4 bins 0, 1, 2 and 3, from the lowest to the greatest balances. "
      ]
    },
    {
      "cell_type": "markdown",
      "metadata": {
        "id": "KYSOmUuWodBH"
      },
      "source": [
        "The function we used is useful but in practice we can't use it for each feature. As a matter of fact, there is no way to give labels to bins. To avoid ambiguity among shingles we use another method. "
      ]
    },
    {
      "cell_type": "markdown",
      "source": [
        "- **Period of the Year**"
      ],
      "metadata": {
        "id": "Ky2DduToYoDJ"
      }
    },
    {
      "cell_type": "markdown",
      "metadata": {
        "id": "bwXhZd1vE4qg"
      },
      "source": [
        "For what concern the transaction date it is not interesting to keep all the info for finding similar customers. Two customers can be related if they do transactions in the same period of the year, so we can consider for example the month of the transaction (e.g. customers buying something during Christmas are considered similar). \n",
        "Also for the transaction time the reasoning is similar: we keep only the transaction hour. \n"
      ]
    },
    {
      "cell_type": "code",
      "execution_count": null,
      "metadata": {
        "colab": {
          "base_uri": "https://localhost:8080/"
        },
        "id": "QyZl4L1hrm2X",
        "outputId": "b53b84b7-ec16-44c7-ba8b-fe730d734990"
      },
      "outputs": [
        {
          "data": {
            "text/plain": [
              "Index(['CustomerDOB', 'CustGender', 'CustLocation', 'CustAccountBalance',\n",
              "       'TransactionDate', 'TransactionTime', 'TransactionAmount (INR)',\n",
              "       'discrete_balance'],\n",
              "      dtype='object')"
            ]
          },
          "execution_count": 127,
          "metadata": {},
          "output_type": "execute_result"
        }
      ],
      "source": [
        "data1.columns"
      ]
    },
    {
      "cell_type": "code",
      "execution_count": null,
      "metadata": {
        "id": "80uLEUNymOov"
      },
      "outputs": [],
      "source": [
        "#period of the year\n",
        "labels = ['Jan-Mar', 'Apr-Jun', 'Jul-Sept', 'Oct-Dec']\n",
        "data1['period_year'] = pd.cut(data1['TransactionDate'].dt.month,  4, labels = labels)"
      ]
    },
    {
      "cell_type": "code",
      "execution_count": null,
      "metadata": {
        "colab": {
          "base_uri": "https://localhost:8080/"
        },
        "id": "pUxzS0Ck6_je",
        "outputId": "13286cfe-b0b1-4073-a8dd-7dfbbfe27f08"
      },
      "outputs": [
        {
          "data": {
            "text/plain": [
              "Jul-Sept    537647\n",
              "Oct-Dec     122379\n",
              "Apr-Jun     111939\n",
              "Jan-Mar     107394\n",
              "Name: period_year, dtype: int64"
            ]
          },
          "execution_count": 30,
          "metadata": {},
          "output_type": "execute_result"
        }
      ],
      "source": [
        "data1.period_year.value_counts()"
      ]
    },
    {
      "cell_type": "code",
      "execution_count": null,
      "metadata": {
        "colab": {
          "base_uri": "https://localhost:8080/"
        },
        "id": "RXQ5F_DP8Xp3",
        "outputId": "11b6440c-ad8a-423a-d772-dc1da214f469"
      },
      "outputs": [
        {
          "data": {
            "text/plain": [
              "10    44195\n",
              "11    41258\n",
              "12    36926\n",
              "Name: TransactionDate, dtype: int64"
            ]
          },
          "execution_count": 31,
          "metadata": {},
          "output_type": "execute_result"
        }
      ],
      "source": [
        "data1.loc[data1['period_year']=='Oct-Dec', 'TransactionDate' ].dt.month.value_counts()"
      ]
    },
    {
      "cell_type": "markdown",
      "source": [
        "- **Period of the day**"
      ],
      "metadata": {
        "id": "IpCJm64wY4X1"
      }
    },
    {
      "cell_type": "markdown",
      "metadata": {
        "id": "fcy30MjFHLv4"
      },
      "source": [
        "For reducing the number of the shingles without losing any important information (and for avoiding ambiguous shingles) we can use as shingles the period of the day.\n",
        "For example, we replace the range of hours from 6 to 13 simply in morning (two customers are considered similar if they prefer to do trasaction during the morning. It is not important if one did it at 11 and the other at 12!). "
      ]
    },
    {
      "cell_type": "code",
      "execution_count": null,
      "metadata": {
        "id": "945TisKU4_yi"
      },
      "outputs": [],
      "source": [
        "#period of the day\n",
        "labels = ['Night','Morning', 'Afternoon', 'Late evening']\n",
        "data1['period_day'] = pd.cut(data1['TransactionTime'].dt.hour, 4, labels = labels)"
      ]
    },
    {
      "cell_type": "code",
      "execution_count": null,
      "metadata": {
        "colab": {
          "base_uri": "https://localhost:8080/"
        },
        "id": "5VCNJxSP9MvJ",
        "outputId": "de001e68-c334-4c89-f293-c35acf5bfb26"
      },
      "outputs": [
        {
          "data": {
            "text/plain": [
              "0    15240\n",
              "1     7453\n",
              "2     4647\n",
              "5     4398\n",
              "3     3883\n",
              "4     3706\n",
              "Name: TransactionTime, dtype: int64"
            ]
          },
          "execution_count": 33,
          "metadata": {},
          "output_type": "execute_result"
        }
      ],
      "source": [
        "data1.loc[data1['period_day']=='Night', 'TransactionTime' ].dt.hour.value_counts()"
      ]
    },
    {
      "cell_type": "code",
      "execution_count": null,
      "metadata": {
        "colab": {
          "base_uri": "https://localhost:8080/"
        },
        "id": "BFIFyB2-9a8-",
        "outputId": "f0aa76a5-59ec-4d92-95d8-e7b0d650e24e"
      },
      "outputs": [
        {
          "data": {
            "text/plain": [
              "Late evening    366148\n",
              "Afternoon       327389\n",
              "Morning         146495\n",
              "Night            39327\n",
              "Name: period_day, dtype: int64"
            ]
          },
          "execution_count": 133,
          "metadata": {},
          "output_type": "execute_result"
        }
      ],
      "source": [
        "data1.period_day.value_counts()"
      ]
    },
    {
      "cell_type": "markdown",
      "source": [
        "- **Amount of the transaction**"
      ],
      "metadata": {
        "id": "1lf-ZKCdZNt-"
      }
    },
    {
      "cell_type": "code",
      "execution_count": null,
      "metadata": {
        "colab": {
          "base_uri": "https://localhost:8080/"
        },
        "id": "fZCQXDV_9ucX",
        "outputId": "9afb346d-bbdf-4260-c5d2-679d74481fd3"
      },
      "outputs": [
        {
          "data": {
            "text/plain": [
              "count    8.793590e+05\n",
              "mean     1.564485e+03\n",
              "std      6.637781e+03\n",
              "min      0.000000e+00\n",
              "25%      1.600000e+02\n",
              "50%      4.560000e+02\n",
              "75%      1.200000e+03\n",
              "max      1.560035e+06\n",
              "Name: TransactionAmount (INR), dtype: float64"
            ]
          },
          "execution_count": 134,
          "metadata": {},
          "output_type": "execute_result"
        }
      ],
      "source": [
        "data1['TransactionAmount (INR)'].describe()"
      ]
    },
    {
      "cell_type": "code",
      "execution_count": null,
      "metadata": {
        "id": "qLKM1A1j-wJB"
      },
      "outputs": [],
      "source": [
        "#amount of the transaction\n",
        "labels = ['Small','Medium', 'Big']\n",
        "data1['transaction_size'] = pd.qcut(data1['TransactionAmount (INR)'], q =3, labels = labels)"
      ]
    },
    {
      "cell_type": "code",
      "execution_count": null,
      "metadata": {
        "colab": {
          "base_uri": "https://localhost:8080/"
        },
        "id": "GkUSHH-uAHAp",
        "outputId": "8929ff54-033a-48c8-d41b-39fed6980e3e"
      },
      "outputs": [
        {
          "data": {
            "text/plain": [
              "Small     294800\n",
              "Big       292901\n",
              "Medium    291658\n",
              "Name: transaction_size, dtype: int64"
            ]
          },
          "execution_count": 35,
          "metadata": {},
          "output_type": "execute_result"
        }
      ],
      "source": [
        "data1.transaction_size.value_counts()"
      ]
    },
    {
      "cell_type": "code",
      "execution_count": null,
      "metadata": {
        "colab": {
          "base_uri": "https://localhost:8080/"
        },
        "id": "33RVC_wOAQHF",
        "outputId": "57f67f86-8538-4b5e-e1bf-e2673c54dbb5"
      },
      "outputs": [
        {
          "data": {
            "text/plain": [
              "count    291658.000000\n",
              "mean        471.446172\n",
              "std         172.043970\n",
              "min         230.020000\n",
              "25%         309.000000\n",
              "50%         459.500000\n",
              "75%         600.000000\n",
              "max         860.000000\n",
              "Name: TransactionAmount (INR), dtype: float64"
            ]
          },
          "execution_count": 137,
          "metadata": {},
          "output_type": "execute_result"
        }
      ],
      "source": [
        "#Medium transactions\n",
        "data1.loc[data1['transaction_size']=='Medium', 'TransactionAmount (INR)' ].describe()"
      ]
    },
    {
      "cell_type": "code",
      "execution_count": null,
      "metadata": {
        "colab": {
          "base_uri": "https://localhost:8080/"
        },
        "id": "MxhddigSAtxt",
        "outputId": "caea3f37-12d2-4880-c4ed-6c88f9de1521"
      },
      "outputs": [
        {
          "data": {
            "text/plain": [
              "count    294800.000000\n",
              "mean        103.874653\n",
              "std          67.527207\n",
              "min           0.000000\n",
              "25%          50.000000\n",
              "50%         100.000000\n",
              "75%         164.000000\n",
              "max         230.000000\n",
              "Name: TransactionAmount (INR), dtype: float64"
            ]
          },
          "execution_count": 138,
          "metadata": {},
          "output_type": "execute_result"
        }
      ],
      "source": [
        "#Small transactions\n",
        "data1.loc[data1['transaction_size']=='Small', 'TransactionAmount (INR)' ].describe()"
      ]
    },
    {
      "cell_type": "code",
      "execution_count": null,
      "metadata": {
        "colab": {
          "base_uri": "https://localhost:8080/"
        },
        "id": "wgF9K5VVBEiD",
        "outputId": "1c268f9e-4755-4380-922f-6e7beb9d8890"
      },
      "outputs": [
        {
          "data": {
            "text/plain": [
              "count    2.929010e+05\n",
              "mean     4.122966e+03\n",
              "std      1.106176e+04\n",
              "min      8.600100e+02\n",
              "25%      1.200000e+03\n",
              "50%      1.890000e+03\n",
              "75%      3.400000e+03\n",
              "max      1.560035e+06\n",
              "Name: TransactionAmount (INR), dtype: float64"
            ]
          },
          "execution_count": 139,
          "metadata": {},
          "output_type": "execute_result"
        }
      ],
      "source": [
        "#Big transactions\n",
        "data1.loc[data1['transaction_size']=='Big', 'TransactionAmount (INR)' ].describe()"
      ]
    },
    {
      "cell_type": "markdown",
      "source": [
        "- **Customer Age**"
      ],
      "metadata": {
        "id": "tICJb5l4ZeLB"
      }
    },
    {
      "cell_type": "markdown",
      "metadata": {
        "id": "fdCRL1cGLaQ4"
      },
      "source": [
        "For what concerns the date of birth, it is not very useful to keep the whole date, but maybe the age of the customer is more useful. "
      ]
    },
    {
      "cell_type": "code",
      "execution_count": null,
      "metadata": {
        "id": "CsjM3JNPLta7"
      },
      "outputs": [],
      "source": [
        "data1['cust_age'] = 2016 - data1.CustomerDOB.dt.year "
      ]
    },
    {
      "cell_type": "code",
      "execution_count": null,
      "metadata": {
        "colab": {
          "base_uri": "https://localhost:8080/"
        },
        "id": "W5SaJrPvMB4w",
        "outputId": "a03802a3-85bb-4b4d-ec6b-2d780571c196"
      },
      "outputs": [
        {
          "data": {
            "text/plain": [
              "35    70658\n",
              "26    61325\n",
              "25    60122\n",
              "27    58292\n",
              "24    56254\n",
              "      ...  \n",
              "0         2\n",
              "96        2\n",
              "98        1\n",
              "91        1\n",
              "5         1\n",
              "Name: cust_age, Length: 99, dtype: int64"
            ]
          },
          "execution_count": 42,
          "metadata": {},
          "output_type": "execute_result"
        }
      ],
      "source": [
        "data1.cust_age.value_counts()"
      ]
    },
    {
      "cell_type": "code",
      "execution_count": null,
      "metadata": {
        "id": "IDBUfDsg7QdN"
      },
      "outputs": [],
      "source": [
        "#we divide the customer age in groups \n",
        "def age_group(age):\n",
        "  if age in range(0, 12):\n",
        "    age_group = 'child'\n",
        "  elif age in range(13, 25):\n",
        "    age_group = 'teen-ager'\n",
        "  elif age in range(25, 50):\n",
        "    age_group = 'adult'\n",
        "  else:\n",
        "    age_group = 'old'\n",
        "  return age_group"
      ]
    },
    {
      "cell_type": "code",
      "execution_count": null,
      "metadata": {
        "id": "fyPYlEM18SWQ"
      },
      "outputs": [],
      "source": [
        "data1['age_group'] = data1.cust_age.apply(lambda x: age_group(x))"
      ]
    },
    {
      "cell_type": "code",
      "execution_count": null,
      "metadata": {
        "colab": {
          "base_uri": "https://localhost:8080/"
        },
        "id": "jtEDJ2pH8n-n",
        "outputId": "4e8a426c-3308-4954-d846-c90ce8ea37b0"
      },
      "outputs": [
        {
          "output_type": "execute_result",
          "data": {
            "text/plain": [
              "adult        673818\n",
              "teen-ager    168332\n",
              "old           37009\n",
              "child           200\n",
              "Name: age_group, dtype: int64"
            ]
          },
          "metadata": {},
          "execution_count": 36
        }
      ],
      "source": [
        "data1.age_group.value_counts()"
      ]
    },
    {
      "cell_type": "markdown",
      "metadata": {
        "id": "RNEYTAVABe83"
      },
      "source": [
        "Now, for each column, the values are categorical. Keep only discrete "
      ]
    },
    {
      "cell_type": "code",
      "source": [
        "with open('custom_df.pkl', 'wb') as f: \n",
        "  pickle.dump(data1, f)\n",
        "f.close"
      ],
      "metadata": {
        "colab": {
          "base_uri": "https://localhost:8080/"
        },
        "id": "-PVgQrfEilm7",
        "outputId": "91b4561c-6775-43e2-8224-aae27238c353"
      },
      "execution_count": null,
      "outputs": [
        {
          "output_type": "execute_result",
          "data": {
            "text/plain": [
              "<function BufferedWriter.close>"
            ]
          },
          "metadata": {},
          "execution_count": 19
        }
      ]
    },
    {
      "cell_type": "code",
      "source": [
        "import pickle\n",
        "with open('custom_df.pkl', 'rb') as f:\n",
        "  data1 = pickle.load(f)\n",
        "f.close"
      ],
      "metadata": {
        "colab": {
          "base_uri": "https://localhost:8080/"
        },
        "id": "S5KU1DdYd8JL",
        "outputId": "93d1c43e-d39a-4350-92e8-14d516492a45"
      },
      "execution_count": null,
      "outputs": [
        {
          "output_type": "execute_result",
          "data": {
            "text/plain": [
              "<function BufferedReader.close>"
            ]
          },
          "metadata": {},
          "execution_count": 3
        }
      ]
    },
    {
      "cell_type": "code",
      "execution_count": null,
      "metadata": {
        "id": "S2ldjolQBRWb"
      },
      "outputs": [],
      "source": [
        "# Keep only discrete features\n",
        "discr_df = data1[['CustGender', 'CustLocation', 'discrete_balance', 'period_year', 'period_day', 'transaction_size', 'age_group' ]]"
      ]
    },
    {
      "cell_type": "code",
      "execution_count": null,
      "metadata": {
        "colab": {
          "base_uri": "https://localhost:8080/"
        },
        "id": "Yhy-AcNYwJ67",
        "outputId": "d1b5a8c9-de6a-4c0f-e201-93472002c6e5"
      },
      "outputs": [
        {
          "output_type": "execute_result",
          "data": {
            "text/plain": [
              "<function BufferedWriter.close>"
            ]
          },
          "metadata": {},
          "execution_count": 23
        }
      ],
      "source": [
        "#create a pickle file containing the modified dataset\n",
        "import pickle\n",
        "with open('modified_df.pkl', 'wb') as f:\n",
        "    pickle.dump(discr_df, f)\n",
        "f.close"
      ]
    },
    {
      "cell_type": "code",
      "execution_count": 4,
      "metadata": {
        "colab": {
          "base_uri": "https://localhost:8080/"
        },
        "id": "PYJvAd7R2RoW",
        "outputId": "c435d195-fb7d-47a5-dd12-6221dfc90ac1"
      },
      "outputs": [
        {
          "output_type": "execute_result",
          "data": {
            "text/plain": [
              "<function BufferedReader.close>"
            ]
          },
          "metadata": {},
          "execution_count": 4
        }
      ],
      "source": [
        "import pickle\n",
        "with open('modified_df.pkl', 'rb') as f:\n",
        "  modified_df = pickle.load(f)\n",
        "f.close"
      ]
    },
    {
      "cell_type": "code",
      "execution_count": null,
      "metadata": {
        "colab": {
          "base_uri": "https://localhost:8080/",
          "height": 468
        },
        "id": "Awe9AtFQCX-q",
        "outputId": "5c24d23e-e439-4e60-cc8e-aaaa92aef96e"
      },
      "outputs": [
        {
          "output_type": "execute_result",
          "data": {
            "text/plain": [
              "       CustGender CustLocation  discrete_balance period_year    period_day  \\\n",
              "0               M    NEW DELHI               3.0    Jul-Sept         Night   \n",
              "1               M       MUMBAI               2.0    Jul-Sept  Late evening   \n",
              "2               M       MUMBAI               3.0    Jul-Sept  Late evening   \n",
              "3               F    CHAMPARAN               0.0    Jul-Sept     Afternoon   \n",
              "4               M      KOLKATA               3.0    Jul-Sept     Afternoon   \n",
              "...           ...          ...               ...         ...           ...   \n",
              "879354          M     BHIWANDI               3.0    Jul-Sept         Night   \n",
              "879355          M    BANGALORE               3.0    Jul-Sept     Afternoon   \n",
              "879356          M       GUNTUR               1.0    Jul-Sept     Afternoon   \n",
              "879357          M      CHENNAI               2.0    Jul-Sept  Late evening   \n",
              "879358          M    MUSSOORIE               1.0    Jul-Sept  Late evening   \n",
              "\n",
              "       transaction_size  age_group  \n",
              "0                Medium      adult  \n",
              "1                   Big  teen-ager  \n",
              "2                Medium      adult  \n",
              "3                 Small      adult  \n",
              "4                   Big        old  \n",
              "...                 ...        ...  \n",
              "879354           Medium      adult  \n",
              "879355            Small  teen-ager  \n",
              "879356            Small  teen-ager  \n",
              "879357            Small  teen-ager  \n",
              "879358           Medium      adult  \n",
              "\n",
              "[879359 rows x 7 columns]"
            ],
            "text/html": [
              "\n",
              "  <div id=\"df-1323ce07-01d8-45fb-8c4f-8a1021d92b40\">\n",
              "    <div class=\"colab-df-container\">\n",
              "      <div>\n",
              "<style scoped>\n",
              "    .dataframe tbody tr th:only-of-type {\n",
              "        vertical-align: middle;\n",
              "    }\n",
              "\n",
              "    .dataframe tbody tr th {\n",
              "        vertical-align: top;\n",
              "    }\n",
              "\n",
              "    .dataframe thead th {\n",
              "        text-align: right;\n",
              "    }\n",
              "</style>\n",
              "<table border=\"1\" class=\"dataframe\">\n",
              "  <thead>\n",
              "    <tr style=\"text-align: right;\">\n",
              "      <th></th>\n",
              "      <th>CustGender</th>\n",
              "      <th>CustLocation</th>\n",
              "      <th>discrete_balance</th>\n",
              "      <th>period_year</th>\n",
              "      <th>period_day</th>\n",
              "      <th>transaction_size</th>\n",
              "      <th>age_group</th>\n",
              "    </tr>\n",
              "  </thead>\n",
              "  <tbody>\n",
              "    <tr>\n",
              "      <th>0</th>\n",
              "      <td>M</td>\n",
              "      <td>NEW DELHI</td>\n",
              "      <td>3.0</td>\n",
              "      <td>Jul-Sept</td>\n",
              "      <td>Night</td>\n",
              "      <td>Medium</td>\n",
              "      <td>adult</td>\n",
              "    </tr>\n",
              "    <tr>\n",
              "      <th>1</th>\n",
              "      <td>M</td>\n",
              "      <td>MUMBAI</td>\n",
              "      <td>2.0</td>\n",
              "      <td>Jul-Sept</td>\n",
              "      <td>Late evening</td>\n",
              "      <td>Big</td>\n",
              "      <td>teen-ager</td>\n",
              "    </tr>\n",
              "    <tr>\n",
              "      <th>2</th>\n",
              "      <td>M</td>\n",
              "      <td>MUMBAI</td>\n",
              "      <td>3.0</td>\n",
              "      <td>Jul-Sept</td>\n",
              "      <td>Late evening</td>\n",
              "      <td>Medium</td>\n",
              "      <td>adult</td>\n",
              "    </tr>\n",
              "    <tr>\n",
              "      <th>3</th>\n",
              "      <td>F</td>\n",
              "      <td>CHAMPARAN</td>\n",
              "      <td>0.0</td>\n",
              "      <td>Jul-Sept</td>\n",
              "      <td>Afternoon</td>\n",
              "      <td>Small</td>\n",
              "      <td>adult</td>\n",
              "    </tr>\n",
              "    <tr>\n",
              "      <th>4</th>\n",
              "      <td>M</td>\n",
              "      <td>KOLKATA</td>\n",
              "      <td>3.0</td>\n",
              "      <td>Jul-Sept</td>\n",
              "      <td>Afternoon</td>\n",
              "      <td>Big</td>\n",
              "      <td>old</td>\n",
              "    </tr>\n",
              "    <tr>\n",
              "      <th>...</th>\n",
              "      <td>...</td>\n",
              "      <td>...</td>\n",
              "      <td>...</td>\n",
              "      <td>...</td>\n",
              "      <td>...</td>\n",
              "      <td>...</td>\n",
              "      <td>...</td>\n",
              "    </tr>\n",
              "    <tr>\n",
              "      <th>879354</th>\n",
              "      <td>M</td>\n",
              "      <td>BHIWANDI</td>\n",
              "      <td>3.0</td>\n",
              "      <td>Jul-Sept</td>\n",
              "      <td>Night</td>\n",
              "      <td>Medium</td>\n",
              "      <td>adult</td>\n",
              "    </tr>\n",
              "    <tr>\n",
              "      <th>879355</th>\n",
              "      <td>M</td>\n",
              "      <td>BANGALORE</td>\n",
              "      <td>3.0</td>\n",
              "      <td>Jul-Sept</td>\n",
              "      <td>Afternoon</td>\n",
              "      <td>Small</td>\n",
              "      <td>teen-ager</td>\n",
              "    </tr>\n",
              "    <tr>\n",
              "      <th>879356</th>\n",
              "      <td>M</td>\n",
              "      <td>GUNTUR</td>\n",
              "      <td>1.0</td>\n",
              "      <td>Jul-Sept</td>\n",
              "      <td>Afternoon</td>\n",
              "      <td>Small</td>\n",
              "      <td>teen-ager</td>\n",
              "    </tr>\n",
              "    <tr>\n",
              "      <th>879357</th>\n",
              "      <td>M</td>\n",
              "      <td>CHENNAI</td>\n",
              "      <td>2.0</td>\n",
              "      <td>Jul-Sept</td>\n",
              "      <td>Late evening</td>\n",
              "      <td>Small</td>\n",
              "      <td>teen-ager</td>\n",
              "    </tr>\n",
              "    <tr>\n",
              "      <th>879358</th>\n",
              "      <td>M</td>\n",
              "      <td>MUSSOORIE</td>\n",
              "      <td>1.0</td>\n",
              "      <td>Jul-Sept</td>\n",
              "      <td>Late evening</td>\n",
              "      <td>Medium</td>\n",
              "      <td>adult</td>\n",
              "    </tr>\n",
              "  </tbody>\n",
              "</table>\n",
              "<p>879359 rows × 7 columns</p>\n",
              "</div>\n",
              "      <button class=\"colab-df-convert\" onclick=\"convertToInteractive('df-1323ce07-01d8-45fb-8c4f-8a1021d92b40')\"\n",
              "              title=\"Convert this dataframe to an interactive table.\"\n",
              "              style=\"display:none;\">\n",
              "        \n",
              "  <svg xmlns=\"http://www.w3.org/2000/svg\" height=\"24px\"viewBox=\"0 0 24 24\"\n",
              "       width=\"24px\">\n",
              "    <path d=\"M0 0h24v24H0V0z\" fill=\"none\"/>\n",
              "    <path d=\"M18.56 5.44l.94 2.06.94-2.06 2.06-.94-2.06-.94-.94-2.06-.94 2.06-2.06.94zm-11 1L8.5 8.5l.94-2.06 2.06-.94-2.06-.94L8.5 2.5l-.94 2.06-2.06.94zm10 10l.94 2.06.94-2.06 2.06-.94-2.06-.94-.94-2.06-.94 2.06-2.06.94z\"/><path d=\"M17.41 7.96l-1.37-1.37c-.4-.4-.92-.59-1.43-.59-.52 0-1.04.2-1.43.59L10.3 9.45l-7.72 7.72c-.78.78-.78 2.05 0 2.83L4 21.41c.39.39.9.59 1.41.59.51 0 1.02-.2 1.41-.59l7.78-7.78 2.81-2.81c.8-.78.8-2.07 0-2.86zM5.41 20L4 18.59l7.72-7.72 1.47 1.35L5.41 20z\"/>\n",
              "  </svg>\n",
              "      </button>\n",
              "      \n",
              "  <style>\n",
              "    .colab-df-container {\n",
              "      display:flex;\n",
              "      flex-wrap:wrap;\n",
              "      gap: 12px;\n",
              "    }\n",
              "\n",
              "    .colab-df-convert {\n",
              "      background-color: #E8F0FE;\n",
              "      border: none;\n",
              "      border-radius: 50%;\n",
              "      cursor: pointer;\n",
              "      display: none;\n",
              "      fill: #1967D2;\n",
              "      height: 32px;\n",
              "      padding: 0 0 0 0;\n",
              "      width: 32px;\n",
              "    }\n",
              "\n",
              "    .colab-df-convert:hover {\n",
              "      background-color: #E2EBFA;\n",
              "      box-shadow: 0px 1px 2px rgba(60, 64, 67, 0.3), 0px 1px 3px 1px rgba(60, 64, 67, 0.15);\n",
              "      fill: #174EA6;\n",
              "    }\n",
              "\n",
              "    [theme=dark] .colab-df-convert {\n",
              "      background-color: #3B4455;\n",
              "      fill: #D2E3FC;\n",
              "    }\n",
              "\n",
              "    [theme=dark] .colab-df-convert:hover {\n",
              "      background-color: #434B5C;\n",
              "      box-shadow: 0px 1px 3px 1px rgba(0, 0, 0, 0.15);\n",
              "      filter: drop-shadow(0px 1px 2px rgba(0, 0, 0, 0.3));\n",
              "      fill: #FFFFFF;\n",
              "    }\n",
              "  </style>\n",
              "\n",
              "      <script>\n",
              "        const buttonEl =\n",
              "          document.querySelector('#df-1323ce07-01d8-45fb-8c4f-8a1021d92b40 button.colab-df-convert');\n",
              "        buttonEl.style.display =\n",
              "          google.colab.kernel.accessAllowed ? 'block' : 'none';\n",
              "\n",
              "        async function convertToInteractive(key) {\n",
              "          const element = document.querySelector('#df-1323ce07-01d8-45fb-8c4f-8a1021d92b40');\n",
              "          const dataTable =\n",
              "            await google.colab.kernel.invokeFunction('convertToInteractive',\n",
              "                                                     [key], {});\n",
              "          if (!dataTable) return;\n",
              "\n",
              "          const docLinkHtml = 'Like what you see? Visit the ' +\n",
              "            '<a target=\"_blank\" href=https://colab.research.google.com/notebooks/data_table.ipynb>data table notebook</a>'\n",
              "            + ' to learn more about interactive tables.';\n",
              "          element.innerHTML = '';\n",
              "          dataTable['output_type'] = 'display_data';\n",
              "          await google.colab.output.renderOutput(dataTable, element);\n",
              "          const docLink = document.createElement('div');\n",
              "          docLink.innerHTML = docLinkHtml;\n",
              "          element.appendChild(docLink);\n",
              "        }\n",
              "      </script>\n",
              "    </div>\n",
              "  </div>\n",
              "  "
            ]
          },
          "metadata": {},
          "execution_count": 5
        }
      ],
      "source": [
        "modified_df"
      ]
    },
    {
      "cell_type": "markdown",
      "metadata": {
        "id": "9GXu9c4YE7XG"
      },
      "source": [
        "We have 879359 rows. Through them we have to retrieve the \"shingles\", i.e. the unique values a customer can have."
      ]
    },
    {
      "cell_type": "markdown",
      "metadata": {
        "id": "ooCAN_UpFVAg"
      },
      "source": [
        "#### STEP 2: Find unique values"
      ]
    },
    {
      "cell_type": "code",
      "execution_count": null,
      "metadata": {
        "id": "IQWMc31WCZiJ"
      },
      "outputs": [],
      "source": [
        "all_unique_values = []\n",
        "for column in modified_df:\n",
        "  values = modified_df[column].unique().tolist()\n",
        "  set_values = set(values)\n",
        "  unique_values = list(set_values)\n",
        "  all_unique_values.append(unique_values)\n",
        "print(all_unique_values)"
      ]
    },
    {
      "cell_type": "code",
      "execution_count": 10,
      "metadata": {
        "id": "G3e9WrZGGetJ"
      },
      "outputs": [],
      "source": [
        "unique_data = [x[i] for x in all_unique_values for i in range(len(x))]"
      ]
    },
    {
      "cell_type": "code",
      "execution_count": 11,
      "metadata": {
        "colab": {
          "base_uri": "https://localhost:8080/"
        },
        "id": "c1FxCqQDKMqT",
        "outputId": "34fc07ba-d216-4991-9504-a8f60740fe31"
      },
      "outputs": [
        {
          "output_type": "stream",
          "name": "stdout",
          "text": [
            "the number of unique unigrams is:  9000\n"
          ]
        }
      ],
      "source": [
        "print('the number of unique unigrams is: ', len(unique_data))"
      ]
    },
    {
      "cell_type": "code",
      "execution_count": 12,
      "metadata": {
        "id": "a8SS0Yr62AKq"
      },
      "outputs": [],
      "source": [
        "#we want the shingles not to be ordered\n",
        "import random\n",
        "random.shuffle(unique_data)"
      ]
    },
    {
      "cell_type": "code",
      "execution_count": null,
      "metadata": {
        "colab": {
          "base_uri": "https://localhost:8080/"
        },
        "id": "oz6rqpyorR8X",
        "outputId": "7f4690e8-cac8-4864-e14b-d57d01f2e6c5"
      },
      "outputs": [
        {
          "output_type": "execute_result",
          "data": {
            "text/plain": [
              "<function BufferedWriter.close>"
            ]
          },
          "metadata": {},
          "execution_count": 11
        }
      ],
      "source": [
        "with open('shingles.pkl', 'wb') as f:\n",
        "    pickle.dump(unique_data, f)\n",
        "f.close"
      ]
    },
    {
      "cell_type": "markdown",
      "metadata": {
        "id": "SxInbyhb5GrK"
      },
      "source": [
        "#### STEP 3: Build the Characteristic matrix"
      ]
    },
    {
      "cell_type": "code",
      "execution_count": 13,
      "metadata": {
        "id": "z5ewHOGnx8RN"
      },
      "outputs": [],
      "source": [
        "import pickle\n",
        "import numpy as np\n",
        "import pandas as pd"
      ]
    },
    {
      "cell_type": "code",
      "execution_count": 14,
      "metadata": {
        "id": "nzuudvy5wXtI",
        "colab": {
          "base_uri": "https://localhost:8080/"
        },
        "outputId": "46387063-26bb-46f6-82ea-08262185b6f9"
      },
      "outputs": [
        {
          "output_type": "execute_result",
          "data": {
            "text/plain": [
              "<function BufferedReader.close>"
            ]
          },
          "metadata": {},
          "execution_count": 14
        }
      ],
      "source": [
        "#open the pickle file\n",
        "with open('modified_df.pkl', 'rb') as f:\n",
        "    modified_df = pickle.load(f)\n",
        "f.close"
      ]
    },
    {
      "cell_type": "code",
      "source": [
        "#create characteristic matrix\n",
        "#we use the panda function pd.get_dummies, which convert categorical variable into dummy/indicator variables\n",
        "#for each categorical variable we create a row of the characteristic matrix \n",
        "gender = pd.get_dummies(modified_df['CustGender'])\n",
        "balance = pd.get_dummies(modified_df['discrete_balance'])\n",
        "months = pd.get_dummies(modified_df['period_year'])\n",
        "days = pd.get_dummies(modified_df['period_day'])\n",
        "size = pd.get_dummies(modified_df['transaction_size'])\n",
        "age = pd.get_dummies(modified_df['age_group'])\n"
      ],
      "metadata": {
        "id": "rbt-lbngdizQ"
      },
      "execution_count": 15,
      "outputs": []
    },
    {
      "cell_type": "code",
      "source": [
        "char_matrix1 = np.concatenate([gender, balance, months, days, size, age], axis = 1) #horizontal_concat"
      ],
      "metadata": {
        "id": "qAq2HLUQkHe0"
      },
      "execution_count": 16,
      "outputs": []
    },
    {
      "cell_type": "code",
      "source": [
        "char_matrix1"
      ],
      "metadata": {
        "colab": {
          "base_uri": "https://localhost:8080/"
        },
        "id": "pwNeqcOybJeH",
        "outputId": "9e1e089c-b641-45f9-cd60-f395d5edb08d"
      },
      "execution_count": 17,
      "outputs": [
        {
          "output_type": "execute_result",
          "data": {
            "text/plain": [
              "array([[0, 1, 0, ..., 0, 0, 0],\n",
              "       [0, 1, 0, ..., 0, 0, 1],\n",
              "       [0, 1, 0, ..., 0, 0, 0],\n",
              "       ...,\n",
              "       [0, 1, 0, ..., 0, 0, 1],\n",
              "       [0, 1, 0, ..., 0, 0, 1],\n",
              "       [0, 1, 0, ..., 0, 0, 0]], dtype=uint8)"
            ]
          },
          "metadata": {},
          "execution_count": 17
        }
      ]
    },
    {
      "cell_type": "markdown",
      "source": [
        "I tried to add the cities as shingles but, for RAM problems I couldn't handle them. I realize it is a problem for finding similar customer but I was not able to figure out how to solve the issue. "
      ],
      "metadata": {
        "id": "l9hFqv-bZXG7"
      }
    },
    {
      "cell_type": "code",
      "source": [
        "char_m = np.transpose(char_matrix1)"
      ],
      "metadata": {
        "id": "GVOm5vURlUXz"
      },
      "execution_count": 18,
      "outputs": []
    },
    {
      "cell_type": "code",
      "source": [
        "char_m.shape"
      ],
      "metadata": {
        "colab": {
          "base_uri": "https://localhost:8080/"
        },
        "id": "A1ITAm9s6ISu",
        "outputId": "9922572f-90ff-48ff-81e1-d942d22096f2"
      },
      "execution_count": 19,
      "outputs": [
        {
          "output_type": "execute_result",
          "data": {
            "text/plain": [
              "(22, 879359)"
            ]
          },
          "metadata": {},
          "execution_count": 19
        }
      ]
    },
    {
      "cell_type": "markdown",
      "source": [
        "Now that we have the characteristic matrix we can create the signature matrix. "
      ],
      "metadata": {
        "id": "tLySsey7aSct"
      }
    },
    {
      "cell_type": "markdown",
      "metadata": {
        "id": "QM5T-rbNTxth"
      },
      "source": [
        "#### STEP 4: Create the Signature Matrix"
      ]
    },
    {
      "cell_type": "markdown",
      "metadata": {
        "id": "Bzfe-FXq67Ia"
      },
      "source": [
        "Instead of picking n random permutations of rows, we pick n randomly\n",
        "chosen hash functions $\\ h_1, h_2, . . . , h_n$ on the rows. We construct the signature\n",
        "matrix by considering each row in their given order. "
      ]
    },
    {
      "cell_type": "code",
      "execution_count": 20,
      "metadata": {
        "id": "ThlkM2J7ah1V"
      },
      "outputs": [],
      "source": [
        "import random "
      ]
    },
    {
      "cell_type": "code",
      "execution_count": 21,
      "metadata": {
        "id": "scBBXWDPG_gz"
      },
      "outputs": [],
      "source": [
        "#define a function to generate n hash function (for simulating the effect of th epermutations of the row of the characteristic matrix)\n",
        "def n_hash(row, n, p):  #p is the size of the hash table. Its value is the first prime number after the last shingle\n",
        "  hash_list = []\n",
        "  for _ in range(n):\n",
        "    h = random.randint(1, n)*(row) % p\n",
        "    hash_list.append(h)\n",
        "  return hash_list"
      ]
    },
    {
      "cell_type": "markdown",
      "metadata": {
        "id": "IUmByXx7f8fG"
      },
      "source": [
        "Now that we choose the hash functions we can construct the signature matrix. It will have as many rows as the number of hash functions. "
      ]
    },
    {
      "cell_type": "code",
      "execution_count": 22,
      "metadata": {
        "id": "IdZr9wwfrOZi"
      },
      "outputs": [],
      "source": [
        "from tqdm import tqdm"
      ]
    },
    {
      "cell_type": "code",
      "execution_count": 23,
      "metadata": {
        "id": "CHzNltWYlZCn"
      },
      "outputs": [],
      "source": [
        "import numpy as np"
      ]
    },
    {
      "cell_type": "code",
      "execution_count": 24,
      "metadata": {
        "id": "D-SAvZQWjgzK"
      },
      "outputs": [],
      "source": [
        "#pre-allocate memory for the signature matrix\n",
        "signatures = np.matrix(np.ones((22, char_m.shape[1]))* np.inf)\n",
        "#the signature matrix has a shape (22, 879359) and every element is infinity"
      ]
    },
    {
      "cell_type": "code",
      "execution_count": 25,
      "metadata": {
        "colab": {
          "base_uri": "https://localhost:8080/"
        },
        "id": "ssEcjDljls0p",
        "outputId": "216838c0-2b2f-44d0-fb0f-d99975ae288d"
      },
      "outputs": [
        {
          "output_type": "execute_result",
          "data": {
            "text/plain": [
              "matrix([[inf, inf, inf, ..., inf, inf, inf],\n",
              "        [inf, inf, inf, ..., inf, inf, inf],\n",
              "        [inf, inf, inf, ..., inf, inf, inf],\n",
              "        ...,\n",
              "        [inf, inf, inf, ..., inf, inf, inf],\n",
              "        [inf, inf, inf, ..., inf, inf, inf],\n",
              "        [inf, inf, inf, ..., inf, inf, inf]])"
            ]
          },
          "metadata": {},
          "execution_count": 25
        }
      ],
      "source": [
        "signatures"
      ]
    },
    {
      "cell_type": "code",
      "execution_count": 26,
      "metadata": {
        "id": "czKgXAt4dVNF",
        "colab": {
          "base_uri": "https://localhost:8080/"
        },
        "outputId": "564072cc-5b0b-4236-d911-8a8881868641"
      },
      "outputs": [
        {
          "output_type": "stream",
          "name": "stderr",
          "text": [
            "100%|██████████| 22/22 [03:29<00:00,  9.54s/it]\n"
          ]
        }
      ],
      "source": [
        "#scan over the row of the caracteristic matrix\n",
        "for row in tqdm(range(char_m .shape[0])):\n",
        "  \n",
        "  hash_list = n_hash(row, 750, 757)  #we choose 750 hash functions #757 is the first prime number after 500\n",
        " \n",
        "\n",
        "  #slide over the columns of the characteristic matrix\n",
        "  for col in range(char_m.shape[1]): \n",
        "    if char_m[row, col] == 1:\n",
        "      #print(char_matrix[row, col])\n",
        "      #scan over the rows of the signature matrix\n",
        "      for i in range(signatures.shape[0]): \n",
        "        signatures[i, col] = min(hash_list[i],signatures[i, col])\n"
      ]
    },
    {
      "cell_type": "code",
      "source": [
        "signatures"
      ],
      "metadata": {
        "colab": {
          "base_uri": "https://localhost:8080/"
        },
        "id": "NhDuy1E8s0Ei",
        "outputId": "2ac0a8c0-0020-48d0-d4c3-c98bf35b1bde"
      },
      "execution_count": 28,
      "outputs": [
        {
          "output_type": "execute_result",
          "data": {
            "text/plain": [
              "matrix([[ 46.,  81.,  51., ...,  81.,  81.,  51.],\n",
              "        [ 32.,  32.,  32., ...,  32.,  32.,  32.],\n",
              "        [ 19.,  70.,  19., ...,  70.,  70.,  19.],\n",
              "        ...,\n",
              "        [ 36.,  36.,  36., ...,  36.,  36.,  36.],\n",
              "        [207.,  79.,  79., ..., 503.,  79.,  79.],\n",
              "        [ 24.,  63.,  24., ..., 303.,  63.,  37.]])"
            ]
          },
          "metadata": {},
          "execution_count": 28
        }
      ]
    },
    {
      "cell_type": "markdown",
      "source": [
        "#### STEP 5: Map each consumer to its bin"
      ],
      "metadata": {
        "id": "vqbX6m5Uuuqt"
      }
    },
    {
      "cell_type": "markdown",
      "metadata": {
        "id": "bYJKge0zdPRw"
      },
      "source": [
        "\n",
        "- One general approach to LSH is to “hash” items several times, in such a way that **similar items are more likely to be hashed to the same bucket than dissimilar\n",
        "items are**. \n",
        "\n",
        "\n",
        "- We then consider any pair that hashed to the same bucket for any\n",
        "of the hashings to be a *candidate pair*. We check only the candidate pairs for\n",
        "similarity. The hope is that most of the dissimilar pairs will never hash to the\n",
        "same bucket, and therefore will never be checked. \n",
        "\n",
        "\n",
        "- If we have minhash signatures for the items, an effective way to choose the\n",
        "hashings is to divide the signature matrix into **b bands consisting of r rows**\n",
        "each."
      ]
    },
    {
      "cell_type": "markdown",
      "metadata": {
        "id": "6BSZUEwoemjY"
      },
      "source": [
        "Regardless of what those columns look like in the other three bands, this pair\n",
        "of columns will be a candidate pair. "
      ]
    },
    {
      "cell_type": "code",
      "execution_count": 29,
      "metadata": {
        "colab": {
          "base_uri": "https://localhost:8080/"
        },
        "id": "7evlUO4pxufw",
        "outputId": "fe9865f3-5b76-4644-dffb-845cb989bb84"
      },
      "outputs": [
        {
          "output_type": "execute_result",
          "data": {
            "text/plain": [
              "(22, 879359)"
            ]
          },
          "metadata": {},
          "execution_count": 29
        }
      ],
      "source": [
        "signatures.shape"
      ]
    },
    {
      "cell_type": "markdown",
      "metadata": {
        "id": "t6NRtBWLd0jF"
      },
      "source": [
        "- **Threshold choice**\n",
        "\\\n",
        "Choose a threshold t that defines how similar documents have to be in\n",
        "order for them to be regarded as a desired *“similar pair”*. \n",
        " Pick a number\n",
        "of bands b and a number of rows r such that:\n",
        "\\\n",
        "$\\ b*r = n$\n",
        "\\\n",
        " and the threshold\n",
        "t is approximately \n",
        "\\\n",
        "$ t = \\frac{1}{b}^ \\frac{1}{r}$\n",
        "\n"
      ]
    },
    {
      "cell_type": "markdown",
      "metadata": {
        "id": "WAQpmgMHeweM"
      },
      "source": [
        "We have 17 rows. The combination of r and b we can try are:\n",
        "- b = 22, r = 1;\n",
        "- b = 1, r = 22;\n",
        "- b = 2, r = 11; \n",
        " "
      ]
    },
    {
      "cell_type": "code",
      "execution_count": 30,
      "metadata": {
        "colab": {
          "base_uri": "https://localhost:8080/"
        },
        "id": "etvyLSdefzXc",
        "outputId": "ab42988b-67e6-4cf8-e40f-9c5e58cb66a5"
      },
      "outputs": [
        {
          "output_type": "stream",
          "name": "stdout",
          "text": [
            "t__22 = 0.045454545454545456\n",
            "t_1 = 1.0\n",
            "t_2 = 0.9389309106617063\n"
          ]
        }
      ],
      "source": [
        "#b = 15, r = 1\n",
        "print('t__22 =', 1/22)      #Very bad threshold\n",
        "print('t_1 =', 1**(1/22))   #Ideal one. \n",
        "print('t_2 =', (1/2)**(1/11))"
      ]
    },
    {
      "cell_type": "markdown",
      "metadata": {
        "id": "cMgURYuVh5vB"
      },
      "source": [
        "Since we preprocessed the dataset in order to have dicrete bins of values, we want customers in the same bucket to have the **exact** same values for them. Only in this way we can be sure, once we go back to the original dataframe, to have the most similar customers. "
      ]
    },
    {
      "cell_type": "markdown",
      "source": [
        "Now we have to think. The choice of discretize the dataset as we did so far was a bit risky. Moreover, by setting a threshold that allows only identical signatures to be in the same bucket (not unlikely at all, since a subset of bins can be related to more than one customer for its low specifity) we have to be sure that the number of buckets is adequate. The only thing we can do at this point is set the dimension of the hash table in order to reduce the number of false positives. \n",
        "Since the number of customers is more than 879000 we can assume that at least 40 customers should go into the same bucket."
      ],
      "metadata": {
        "id": "CmwJgxDKvvYe"
      }
    },
    {
      "cell_type": "code",
      "source": [
        "!pwd"
      ],
      "metadata": {
        "colab": {
          "base_uri": "https://localhost:8080/"
        },
        "id": "hznxpz9pyWyv",
        "outputId": "a0e42e5a-ff39-40d1-bcce-54c8394152be"
      },
      "execution_count": null,
      "outputs": [
        {
          "output_type": "stream",
          "name": "stdout",
          "text": [
            "/content/drive/MyDrive/ADM_HW_4\n"
          ]
        }
      ]
    },
    {
      "cell_type": "code",
      "execution_count": 31,
      "metadata": {
        "id": "9U7sTEkPoI5I"
      },
      "outputs": [],
      "source": [
        "from tqdm import tqdm \n",
        "import random\n",
        "import math"
      ]
    },
    {
      "cell_type": "code",
      "execution_count": 34,
      "metadata": {
        "colab": {
          "base_uri": "https://localhost:8080/"
        },
        "id": "3TjjIFrYnFk_",
        "outputId": "6046f1fd-d090-435c-ee1e-6b9d7699898e"
      },
      "outputs": [
        {
          "output_type": "stream",
          "name": "stderr",
          "text": [
            "100%|██████████| 879359/879359 [00:49<00:00, 17820.09it/s]\n"
          ]
        }
      ],
      "source": [
        "#scan over the column of the signature matrix\n",
        "buckets = {}\n",
        "b = 720 #equal elements we expect to be in the same buckets (720 = 6!)\n",
        "n = math.floor(signatures.shape[1]/b)    \n",
        "for col in tqdm(range(signatures.shape[1])):\n",
        "  bucket = 0\n",
        "  #for j in range(3):  #b = 1\n",
        "  for i in range(22):   # r = 17\n",
        "    bucket += signatures[i,col]*random.randint(1, n-1)  #hash function we apply to each column of the signature matrix\n",
        "  bucket = bucket %n\n",
        "  if bucket not in buckets.keys():\n",
        "    buckets[bucket] = [col]   \n",
        "  else: \n",
        "    buckets[bucket].append(col)\n"
      ]
    },
    {
      "cell_type": "code",
      "execution_count": 35,
      "metadata": {
        "colab": {
          "base_uri": "https://localhost:8080/"
        },
        "id": "zcpFk36Do5S9",
        "outputId": "1a67a4d7-4b33-44f4-b12b-e349135d1a57"
      },
      "outputs": [
        {
          "output_type": "execute_result",
          "data": {
            "text/plain": [
              "1221"
            ]
          },
          "metadata": {},
          "execution_count": 35
        }
      ],
      "source": [
        "len(buckets.keys())"
      ]
    },
    {
      "cell_type": "code",
      "source": [
        "len(buckets[list(buckets.keys())[2]])"
      ],
      "metadata": {
        "colab": {
          "base_uri": "https://localhost:8080/"
        },
        "id": "zh2ScKkEADwh",
        "outputId": "1ff5881a-92f3-48db-eab5-9f68a4f664ea"
      },
      "execution_count": 36,
      "outputs": [
        {
          "output_type": "execute_result",
          "data": {
            "text/plain": [
              "498"
            ]
          },
          "metadata": {},
          "execution_count": 36
        }
      ]
    },
    {
      "cell_type": "code",
      "source": [
        "bucket_test = buckets[list(buckets.keys())[0]]"
      ],
      "metadata": {
        "id": "CuuZy9Zv366f"
      },
      "execution_count": 37,
      "outputs": []
    },
    {
      "cell_type": "code",
      "source": [
        "modified_df.filter(bucket_test, axis = 0)"
      ],
      "metadata": {
        "colab": {
          "base_uri": "https://localhost:8080/",
          "height": 424
        },
        "id": "5MlJLD-i4ERR",
        "outputId": "a35c6866-bb51-4ff8-9320-84a0c0bdefc3"
      },
      "execution_count": 38,
      "outputs": [
        {
          "output_type": "execute_result",
          "data": {
            "text/plain": [
              "       CustGender         CustLocation  discrete_balance period_year  \\\n",
              "0               M            NEW DELHI               3.0    Jul-Sept   \n",
              "39              M                SURAT               0.0    Jul-Sept   \n",
              "322             M                 PUNE               3.0    Jul-Sept   \n",
              "8221            M            DHARUHERA               2.0     Jan-Mar   \n",
              "12047           M              KAITHAL               0.0    Jul-Sept   \n",
              "...           ...                  ...               ...         ...   \n",
              "870740          M            HYDERABAD               1.0     Apr-Jun   \n",
              "870973          M            PANCHKULA               2.0     Oct-Dec   \n",
              "877128          M  GAUTAM BUDDHA NAGAR               0.0     Apr-Jun   \n",
              "877539          M            BANGALORE               1.0    Jul-Sept   \n",
              "879274          M              GURGAON               0.0     Jan-Mar   \n",
              "\n",
              "          period_day transaction_size  age_group  \n",
              "0              Night           Medium      adult  \n",
              "39      Late evening            Small      adult  \n",
              "322     Late evening           Medium      adult  \n",
              "8221    Late evening           Medium      adult  \n",
              "12047   Late evening            Small      adult  \n",
              "...              ...              ...        ...  \n",
              "870740       Morning            Small      adult  \n",
              "870973  Late evening              Big      adult  \n",
              "877128       Morning            Small  teen-ager  \n",
              "877539  Late evening            Small      adult  \n",
              "879274       Morning            Small      adult  \n",
              "\n",
              "[526 rows x 7 columns]"
            ],
            "text/html": [
              "\n",
              "  <div id=\"df-21a5293f-fa60-4cbc-b48d-f3f40a533bac\">\n",
              "    <div class=\"colab-df-container\">\n",
              "      <div>\n",
              "<style scoped>\n",
              "    .dataframe tbody tr th:only-of-type {\n",
              "        vertical-align: middle;\n",
              "    }\n",
              "\n",
              "    .dataframe tbody tr th {\n",
              "        vertical-align: top;\n",
              "    }\n",
              "\n",
              "    .dataframe thead th {\n",
              "        text-align: right;\n",
              "    }\n",
              "</style>\n",
              "<table border=\"1\" class=\"dataframe\">\n",
              "  <thead>\n",
              "    <tr style=\"text-align: right;\">\n",
              "      <th></th>\n",
              "      <th>CustGender</th>\n",
              "      <th>CustLocation</th>\n",
              "      <th>discrete_balance</th>\n",
              "      <th>period_year</th>\n",
              "      <th>period_day</th>\n",
              "      <th>transaction_size</th>\n",
              "      <th>age_group</th>\n",
              "    </tr>\n",
              "  </thead>\n",
              "  <tbody>\n",
              "    <tr>\n",
              "      <th>0</th>\n",
              "      <td>M</td>\n",
              "      <td>NEW DELHI</td>\n",
              "      <td>3.0</td>\n",
              "      <td>Jul-Sept</td>\n",
              "      <td>Night</td>\n",
              "      <td>Medium</td>\n",
              "      <td>adult</td>\n",
              "    </tr>\n",
              "    <tr>\n",
              "      <th>39</th>\n",
              "      <td>M</td>\n",
              "      <td>SURAT</td>\n",
              "      <td>0.0</td>\n",
              "      <td>Jul-Sept</td>\n",
              "      <td>Late evening</td>\n",
              "      <td>Small</td>\n",
              "      <td>adult</td>\n",
              "    </tr>\n",
              "    <tr>\n",
              "      <th>322</th>\n",
              "      <td>M</td>\n",
              "      <td>PUNE</td>\n",
              "      <td>3.0</td>\n",
              "      <td>Jul-Sept</td>\n",
              "      <td>Late evening</td>\n",
              "      <td>Medium</td>\n",
              "      <td>adult</td>\n",
              "    </tr>\n",
              "    <tr>\n",
              "      <th>8221</th>\n",
              "      <td>M</td>\n",
              "      <td>DHARUHERA</td>\n",
              "      <td>2.0</td>\n",
              "      <td>Jan-Mar</td>\n",
              "      <td>Late evening</td>\n",
              "      <td>Medium</td>\n",
              "      <td>adult</td>\n",
              "    </tr>\n",
              "    <tr>\n",
              "      <th>12047</th>\n",
              "      <td>M</td>\n",
              "      <td>KAITHAL</td>\n",
              "      <td>0.0</td>\n",
              "      <td>Jul-Sept</td>\n",
              "      <td>Late evening</td>\n",
              "      <td>Small</td>\n",
              "      <td>adult</td>\n",
              "    </tr>\n",
              "    <tr>\n",
              "      <th>...</th>\n",
              "      <td>...</td>\n",
              "      <td>...</td>\n",
              "      <td>...</td>\n",
              "      <td>...</td>\n",
              "      <td>...</td>\n",
              "      <td>...</td>\n",
              "      <td>...</td>\n",
              "    </tr>\n",
              "    <tr>\n",
              "      <th>870740</th>\n",
              "      <td>M</td>\n",
              "      <td>HYDERABAD</td>\n",
              "      <td>1.0</td>\n",
              "      <td>Apr-Jun</td>\n",
              "      <td>Morning</td>\n",
              "      <td>Small</td>\n",
              "      <td>adult</td>\n",
              "    </tr>\n",
              "    <tr>\n",
              "      <th>870973</th>\n",
              "      <td>M</td>\n",
              "      <td>PANCHKULA</td>\n",
              "      <td>2.0</td>\n",
              "      <td>Oct-Dec</td>\n",
              "      <td>Late evening</td>\n",
              "      <td>Big</td>\n",
              "      <td>adult</td>\n",
              "    </tr>\n",
              "    <tr>\n",
              "      <th>877128</th>\n",
              "      <td>M</td>\n",
              "      <td>GAUTAM BUDDHA NAGAR</td>\n",
              "      <td>0.0</td>\n",
              "      <td>Apr-Jun</td>\n",
              "      <td>Morning</td>\n",
              "      <td>Small</td>\n",
              "      <td>teen-ager</td>\n",
              "    </tr>\n",
              "    <tr>\n",
              "      <th>877539</th>\n",
              "      <td>M</td>\n",
              "      <td>BANGALORE</td>\n",
              "      <td>1.0</td>\n",
              "      <td>Jul-Sept</td>\n",
              "      <td>Late evening</td>\n",
              "      <td>Small</td>\n",
              "      <td>adult</td>\n",
              "    </tr>\n",
              "    <tr>\n",
              "      <th>879274</th>\n",
              "      <td>M</td>\n",
              "      <td>GURGAON</td>\n",
              "      <td>0.0</td>\n",
              "      <td>Jan-Mar</td>\n",
              "      <td>Morning</td>\n",
              "      <td>Small</td>\n",
              "      <td>adult</td>\n",
              "    </tr>\n",
              "  </tbody>\n",
              "</table>\n",
              "<p>526 rows × 7 columns</p>\n",
              "</div>\n",
              "      <button class=\"colab-df-convert\" onclick=\"convertToInteractive('df-21a5293f-fa60-4cbc-b48d-f3f40a533bac')\"\n",
              "              title=\"Convert this dataframe to an interactive table.\"\n",
              "              style=\"display:none;\">\n",
              "        \n",
              "  <svg xmlns=\"http://www.w3.org/2000/svg\" height=\"24px\"viewBox=\"0 0 24 24\"\n",
              "       width=\"24px\">\n",
              "    <path d=\"M0 0h24v24H0V0z\" fill=\"none\"/>\n",
              "    <path d=\"M18.56 5.44l.94 2.06.94-2.06 2.06-.94-2.06-.94-.94-2.06-.94 2.06-2.06.94zm-11 1L8.5 8.5l.94-2.06 2.06-.94-2.06-.94L8.5 2.5l-.94 2.06-2.06.94zm10 10l.94 2.06.94-2.06 2.06-.94-2.06-.94-.94-2.06-.94 2.06-2.06.94z\"/><path d=\"M17.41 7.96l-1.37-1.37c-.4-.4-.92-.59-1.43-.59-.52 0-1.04.2-1.43.59L10.3 9.45l-7.72 7.72c-.78.78-.78 2.05 0 2.83L4 21.41c.39.39.9.59 1.41.59.51 0 1.02-.2 1.41-.59l7.78-7.78 2.81-2.81c.8-.78.8-2.07 0-2.86zM5.41 20L4 18.59l7.72-7.72 1.47 1.35L5.41 20z\"/>\n",
              "  </svg>\n",
              "      </button>\n",
              "      \n",
              "  <style>\n",
              "    .colab-df-container {\n",
              "      display:flex;\n",
              "      flex-wrap:wrap;\n",
              "      gap: 12px;\n",
              "    }\n",
              "\n",
              "    .colab-df-convert {\n",
              "      background-color: #E8F0FE;\n",
              "      border: none;\n",
              "      border-radius: 50%;\n",
              "      cursor: pointer;\n",
              "      display: none;\n",
              "      fill: #1967D2;\n",
              "      height: 32px;\n",
              "      padding: 0 0 0 0;\n",
              "      width: 32px;\n",
              "    }\n",
              "\n",
              "    .colab-df-convert:hover {\n",
              "      background-color: #E2EBFA;\n",
              "      box-shadow: 0px 1px 2px rgba(60, 64, 67, 0.3), 0px 1px 3px 1px rgba(60, 64, 67, 0.15);\n",
              "      fill: #174EA6;\n",
              "    }\n",
              "\n",
              "    [theme=dark] .colab-df-convert {\n",
              "      background-color: #3B4455;\n",
              "      fill: #D2E3FC;\n",
              "    }\n",
              "\n",
              "    [theme=dark] .colab-df-convert:hover {\n",
              "      background-color: #434B5C;\n",
              "      box-shadow: 0px 1px 3px 1px rgba(0, 0, 0, 0.15);\n",
              "      filter: drop-shadow(0px 1px 2px rgba(0, 0, 0, 0.3));\n",
              "      fill: #FFFFFF;\n",
              "    }\n",
              "  </style>\n",
              "\n",
              "      <script>\n",
              "        const buttonEl =\n",
              "          document.querySelector('#df-21a5293f-fa60-4cbc-b48d-f3f40a533bac button.colab-df-convert');\n",
              "        buttonEl.style.display =\n",
              "          google.colab.kernel.accessAllowed ? 'block' : 'none';\n",
              "\n",
              "        async function convertToInteractive(key) {\n",
              "          const element = document.querySelector('#df-21a5293f-fa60-4cbc-b48d-f3f40a533bac');\n",
              "          const dataTable =\n",
              "            await google.colab.kernel.invokeFunction('convertToInteractive',\n",
              "                                                     [key], {});\n",
              "          if (!dataTable) return;\n",
              "\n",
              "          const docLinkHtml = 'Like what you see? Visit the ' +\n",
              "            '<a target=\"_blank\" href=https://colab.research.google.com/notebooks/data_table.ipynb>data table notebook</a>'\n",
              "            + ' to learn more about interactive tables.';\n",
              "          element.innerHTML = '';\n",
              "          dataTable['output_type'] = 'display_data';\n",
              "          await google.colab.output.renderOutput(dataTable, element);\n",
              "          const docLink = document.createElement('div');\n",
              "          docLink.innerHTML = docLinkHtml;\n",
              "          element.appendChild(docLink);\n",
              "        }\n",
              "      </script>\n",
              "    </div>\n",
              "  </div>\n",
              "  "
            ]
          },
          "metadata": {},
          "execution_count": 38
        }
      ]
    },
    {
      "cell_type": "code",
      "execution_count": 39,
      "metadata": {
        "colab": {
          "base_uri": "https://localhost:8080/"
        },
        "id": "aerH4SgGlSJa",
        "outputId": "0c5b3c97-3c19-4c9b-a055-9ea31a99bdc9"
      },
      "outputs": [
        {
          "output_type": "execute_result",
          "data": {
            "text/plain": [
              "<function BufferedReader.close>"
            ]
          },
          "metadata": {},
          "execution_count": 39
        }
      ],
      "source": [
        "with open('modified_df.pkl', 'rb') as f:\n",
        "  df = pickle.load(f)\n",
        "f.close"
      ]
    },
    {
      "cell_type": "markdown",
      "metadata": {
        "id": "c4N0nvCjc94p"
      },
      "source": [
        "##1.3 Locality Sensitive Hashing"
      ]
    },
    {
      "cell_type": "markdown",
      "source": [
        "Now we have, given some users, find the most similar ones. "
      ],
      "metadata": {
        "id": "MXi_1xBsWBK8"
      }
    },
    {
      "cell_type": "code",
      "source": [
        "#read the query csv\n",
        "query_df =pd.read_csv('query_users.csv')"
      ],
      "metadata": {
        "id": "86jePh2BVGZK"
      },
      "execution_count": 67,
      "outputs": []
    },
    {
      "cell_type": "code",
      "source": [
        "query_df.head(15)"
      ],
      "metadata": {
        "colab": {
          "base_uri": "https://localhost:8080/",
          "height": 520
        },
        "id": "6Dglk3GvVVvZ",
        "outputId": "439e9850-74e8-4a8a-de5e-e896c4c682d3"
      },
      "execution_count": 64,
      "outputs": [
        {
          "output_type": "execute_result",
          "data": {
            "text/plain": [
              "   CustomerDOB CustGender                  CustLocation  CustAccountBalance  \\\n",
              "0      27/7/78          M                         DELHI            94695.61   \n",
              "1      6/11/92          M                     PANCHKULA             7584.09   \n",
              "2      14/8/91          M                         PATNA             7180.60   \n",
              "3       3/1/87          M                       CHENNAI            56847.75   \n",
              "4       4/1/95          M                       GURGAON            84950.13   \n",
              "5      10/1/81          M  WORLD TRADE CENTRE BANGALORE            23143.95   \n",
              "6      20/9/76          F                      CHITTOOR            15397.80   \n",
              "7      10/4/91          M                        MOHALI              426.30   \n",
              "8      19/3/90          M                        MOHALI             4609.34   \n",
              "9     19/12/70          M                     SERAMPORE          6695988.46   \n",
              "10     26/2/89          M                     BANGALORE             5974.56   \n",
              "11     22/8/84          M                     BANGALORE              268.09   \n",
              "12     21/9/79          M                      LUDHIANA            38785.44   \n",
              "13     17/6/92          F                     BANGALORE            19767.76   \n",
              "14      1/8/86          M                     HYDERABAD            21713.09   \n",
              "\n",
              "   TransactionDate  TransactionTime  TransactionAmount (INR)  \n",
              "0           2/9/16           140310                     65.0  \n",
              "1           2/9/16           120214                   6025.0  \n",
              "2          10/8/16           221732                    541.5  \n",
              "3          29/8/16           144138                   1000.0  \n",
              "4          25/9/16           233309                     80.0  \n",
              "5          11/9/16           192906                    303.0  \n",
              "6          28/8/16            92633                     20.0  \n",
              "7           2/8/16           203754                     50.0  \n",
              "8          26/8/16           184015                    300.0  \n",
              "9          27/8/16           144030                    299.0  \n",
              "10          6/8/16           220151                    300.0  \n",
              "11         11/8/16           203131                   2244.0  \n",
              "12         22/8/16           185953                    690.0  \n",
              "13         12/8/16           232822                   4912.0  \n",
              "14         11/9/16           150136                    284.0  "
            ],
            "text/html": [
              "\n",
              "  <div id=\"df-3b43fbb9-dfd3-44aa-9439-07f8715407b2\">\n",
              "    <div class=\"colab-df-container\">\n",
              "      <div>\n",
              "<style scoped>\n",
              "    .dataframe tbody tr th:only-of-type {\n",
              "        vertical-align: middle;\n",
              "    }\n",
              "\n",
              "    .dataframe tbody tr th {\n",
              "        vertical-align: top;\n",
              "    }\n",
              "\n",
              "    .dataframe thead th {\n",
              "        text-align: right;\n",
              "    }\n",
              "</style>\n",
              "<table border=\"1\" class=\"dataframe\">\n",
              "  <thead>\n",
              "    <tr style=\"text-align: right;\">\n",
              "      <th></th>\n",
              "      <th>CustomerDOB</th>\n",
              "      <th>CustGender</th>\n",
              "      <th>CustLocation</th>\n",
              "      <th>CustAccountBalance</th>\n",
              "      <th>TransactionDate</th>\n",
              "      <th>TransactionTime</th>\n",
              "      <th>TransactionAmount (INR)</th>\n",
              "    </tr>\n",
              "  </thead>\n",
              "  <tbody>\n",
              "    <tr>\n",
              "      <th>0</th>\n",
              "      <td>27/7/78</td>\n",
              "      <td>M</td>\n",
              "      <td>DELHI</td>\n",
              "      <td>94695.61</td>\n",
              "      <td>2/9/16</td>\n",
              "      <td>140310</td>\n",
              "      <td>65.0</td>\n",
              "    </tr>\n",
              "    <tr>\n",
              "      <th>1</th>\n",
              "      <td>6/11/92</td>\n",
              "      <td>M</td>\n",
              "      <td>PANCHKULA</td>\n",
              "      <td>7584.09</td>\n",
              "      <td>2/9/16</td>\n",
              "      <td>120214</td>\n",
              "      <td>6025.0</td>\n",
              "    </tr>\n",
              "    <tr>\n",
              "      <th>2</th>\n",
              "      <td>14/8/91</td>\n",
              "      <td>M</td>\n",
              "      <td>PATNA</td>\n",
              "      <td>7180.60</td>\n",
              "      <td>10/8/16</td>\n",
              "      <td>221732</td>\n",
              "      <td>541.5</td>\n",
              "    </tr>\n",
              "    <tr>\n",
              "      <th>3</th>\n",
              "      <td>3/1/87</td>\n",
              "      <td>M</td>\n",
              "      <td>CHENNAI</td>\n",
              "      <td>56847.75</td>\n",
              "      <td>29/8/16</td>\n",
              "      <td>144138</td>\n",
              "      <td>1000.0</td>\n",
              "    </tr>\n",
              "    <tr>\n",
              "      <th>4</th>\n",
              "      <td>4/1/95</td>\n",
              "      <td>M</td>\n",
              "      <td>GURGAON</td>\n",
              "      <td>84950.13</td>\n",
              "      <td>25/9/16</td>\n",
              "      <td>233309</td>\n",
              "      <td>80.0</td>\n",
              "    </tr>\n",
              "    <tr>\n",
              "      <th>5</th>\n",
              "      <td>10/1/81</td>\n",
              "      <td>M</td>\n",
              "      <td>WORLD TRADE CENTRE BANGALORE</td>\n",
              "      <td>23143.95</td>\n",
              "      <td>11/9/16</td>\n",
              "      <td>192906</td>\n",
              "      <td>303.0</td>\n",
              "    </tr>\n",
              "    <tr>\n",
              "      <th>6</th>\n",
              "      <td>20/9/76</td>\n",
              "      <td>F</td>\n",
              "      <td>CHITTOOR</td>\n",
              "      <td>15397.80</td>\n",
              "      <td>28/8/16</td>\n",
              "      <td>92633</td>\n",
              "      <td>20.0</td>\n",
              "    </tr>\n",
              "    <tr>\n",
              "      <th>7</th>\n",
              "      <td>10/4/91</td>\n",
              "      <td>M</td>\n",
              "      <td>MOHALI</td>\n",
              "      <td>426.30</td>\n",
              "      <td>2/8/16</td>\n",
              "      <td>203754</td>\n",
              "      <td>50.0</td>\n",
              "    </tr>\n",
              "    <tr>\n",
              "      <th>8</th>\n",
              "      <td>19/3/90</td>\n",
              "      <td>M</td>\n",
              "      <td>MOHALI</td>\n",
              "      <td>4609.34</td>\n",
              "      <td>26/8/16</td>\n",
              "      <td>184015</td>\n",
              "      <td>300.0</td>\n",
              "    </tr>\n",
              "    <tr>\n",
              "      <th>9</th>\n",
              "      <td>19/12/70</td>\n",
              "      <td>M</td>\n",
              "      <td>SERAMPORE</td>\n",
              "      <td>6695988.46</td>\n",
              "      <td>27/8/16</td>\n",
              "      <td>144030</td>\n",
              "      <td>299.0</td>\n",
              "    </tr>\n",
              "    <tr>\n",
              "      <th>10</th>\n",
              "      <td>26/2/89</td>\n",
              "      <td>M</td>\n",
              "      <td>BANGALORE</td>\n",
              "      <td>5974.56</td>\n",
              "      <td>6/8/16</td>\n",
              "      <td>220151</td>\n",
              "      <td>300.0</td>\n",
              "    </tr>\n",
              "    <tr>\n",
              "      <th>11</th>\n",
              "      <td>22/8/84</td>\n",
              "      <td>M</td>\n",
              "      <td>BANGALORE</td>\n",
              "      <td>268.09</td>\n",
              "      <td>11/8/16</td>\n",
              "      <td>203131</td>\n",
              "      <td>2244.0</td>\n",
              "    </tr>\n",
              "    <tr>\n",
              "      <th>12</th>\n",
              "      <td>21/9/79</td>\n",
              "      <td>M</td>\n",
              "      <td>LUDHIANA</td>\n",
              "      <td>38785.44</td>\n",
              "      <td>22/8/16</td>\n",
              "      <td>185953</td>\n",
              "      <td>690.0</td>\n",
              "    </tr>\n",
              "    <tr>\n",
              "      <th>13</th>\n",
              "      <td>17/6/92</td>\n",
              "      <td>F</td>\n",
              "      <td>BANGALORE</td>\n",
              "      <td>19767.76</td>\n",
              "      <td>12/8/16</td>\n",
              "      <td>232822</td>\n",
              "      <td>4912.0</td>\n",
              "    </tr>\n",
              "    <tr>\n",
              "      <th>14</th>\n",
              "      <td>1/8/86</td>\n",
              "      <td>M</td>\n",
              "      <td>HYDERABAD</td>\n",
              "      <td>21713.09</td>\n",
              "      <td>11/9/16</td>\n",
              "      <td>150136</td>\n",
              "      <td>284.0</td>\n",
              "    </tr>\n",
              "  </tbody>\n",
              "</table>\n",
              "</div>\n",
              "      <button class=\"colab-df-convert\" onclick=\"convertToInteractive('df-3b43fbb9-dfd3-44aa-9439-07f8715407b2')\"\n",
              "              title=\"Convert this dataframe to an interactive table.\"\n",
              "              style=\"display:none;\">\n",
              "        \n",
              "  <svg xmlns=\"http://www.w3.org/2000/svg\" height=\"24px\"viewBox=\"0 0 24 24\"\n",
              "       width=\"24px\">\n",
              "    <path d=\"M0 0h24v24H0V0z\" fill=\"none\"/>\n",
              "    <path d=\"M18.56 5.44l.94 2.06.94-2.06 2.06-.94-2.06-.94-.94-2.06-.94 2.06-2.06.94zm-11 1L8.5 8.5l.94-2.06 2.06-.94-2.06-.94L8.5 2.5l-.94 2.06-2.06.94zm10 10l.94 2.06.94-2.06 2.06-.94-2.06-.94-.94-2.06-.94 2.06-2.06.94z\"/><path d=\"M17.41 7.96l-1.37-1.37c-.4-.4-.92-.59-1.43-.59-.52 0-1.04.2-1.43.59L10.3 9.45l-7.72 7.72c-.78.78-.78 2.05 0 2.83L4 21.41c.39.39.9.59 1.41.59.51 0 1.02-.2 1.41-.59l7.78-7.78 2.81-2.81c.8-.78.8-2.07 0-2.86zM5.41 20L4 18.59l7.72-7.72 1.47 1.35L5.41 20z\"/>\n",
              "  </svg>\n",
              "      </button>\n",
              "      \n",
              "  <style>\n",
              "    .colab-df-container {\n",
              "      display:flex;\n",
              "      flex-wrap:wrap;\n",
              "      gap: 12px;\n",
              "    }\n",
              "\n",
              "    .colab-df-convert {\n",
              "      background-color: #E8F0FE;\n",
              "      border: none;\n",
              "      border-radius: 50%;\n",
              "      cursor: pointer;\n",
              "      display: none;\n",
              "      fill: #1967D2;\n",
              "      height: 32px;\n",
              "      padding: 0 0 0 0;\n",
              "      width: 32px;\n",
              "    }\n",
              "\n",
              "    .colab-df-convert:hover {\n",
              "      background-color: #E2EBFA;\n",
              "      box-shadow: 0px 1px 2px rgba(60, 64, 67, 0.3), 0px 1px 3px 1px rgba(60, 64, 67, 0.15);\n",
              "      fill: #174EA6;\n",
              "    }\n",
              "\n",
              "    [theme=dark] .colab-df-convert {\n",
              "      background-color: #3B4455;\n",
              "      fill: #D2E3FC;\n",
              "    }\n",
              "\n",
              "    [theme=dark] .colab-df-convert:hover {\n",
              "      background-color: #434B5C;\n",
              "      box-shadow: 0px 1px 3px 1px rgba(0, 0, 0, 0.15);\n",
              "      filter: drop-shadow(0px 1px 2px rgba(0, 0, 0, 0.3));\n",
              "      fill: #FFFFFF;\n",
              "    }\n",
              "  </style>\n",
              "\n",
              "      <script>\n",
              "        const buttonEl =\n",
              "          document.querySelector('#df-3b43fbb9-dfd3-44aa-9439-07f8715407b2 button.colab-df-convert');\n",
              "        buttonEl.style.display =\n",
              "          google.colab.kernel.accessAllowed ? 'block' : 'none';\n",
              "\n",
              "        async function convertToInteractive(key) {\n",
              "          const element = document.querySelector('#df-3b43fbb9-dfd3-44aa-9439-07f8715407b2');\n",
              "          const dataTable =\n",
              "            await google.colab.kernel.invokeFunction('convertToInteractive',\n",
              "                                                     [key], {});\n",
              "          if (!dataTable) return;\n",
              "\n",
              "          const docLinkHtml = 'Like what you see? Visit the ' +\n",
              "            '<a target=\"_blank\" href=https://colab.research.google.com/notebooks/data_table.ipynb>data table notebook</a>'\n",
              "            + ' to learn more about interactive tables.';\n",
              "          element.innerHTML = '';\n",
              "          dataTable['output_type'] = 'display_data';\n",
              "          await google.colab.output.renderOutput(dataTable, element);\n",
              "          const docLink = document.createElement('div');\n",
              "          docLink.innerHTML = docLinkHtml;\n",
              "          element.appendChild(docLink);\n",
              "        }\n",
              "      </script>\n",
              "    </div>\n",
              "  </div>\n",
              "  "
            ]
          },
          "metadata": {},
          "execution_count": 64
        }
      ]
    },
    {
      "cell_type": "markdown",
      "source": [
        "First thing we need to do is preprocessing query customers so that the data is consistent and similar customers can be found. \n",
        "The features we want to discretize are: \n",
        "- the balance of the customer\n",
        "- the period of the year (retrieved from the TransactionDate column)\n",
        "- the period of the day (retrieved from the TransactionTime column)\n",
        "- the amount of the transaction\n",
        "- the age of the customer \n"
      ],
      "metadata": {
        "id": "-jKoeuFObAu4"
      }
    },
    {
      "cell_type": "code",
      "execution_count": 41,
      "metadata": {
        "id": "4xyJk84Zb6Db"
      },
      "outputs": [],
      "source": [
        "from sklearn.preprocessing import KBinsDiscretizer\n",
        "import pandas as pd\n",
        "from datetime import datetime"
      ]
    },
    {
      "cell_type": "code",
      "execution_count": 42,
      "metadata": {
        "id": "yJ4PM-bve3kM"
      },
      "outputs": [],
      "source": [
        "#we divide the customer age in groups \n",
        "def age_group(age):\n",
        "  if age in range(0, 12):\n",
        "    age_group = 'child'\n",
        "  elif age in range(13, 25):\n",
        "    age_group = 'teen-ager'\n",
        "  elif age in range(25, 50):\n",
        "    age_group = 'adult'\n",
        "  else:\n",
        "    age_group = 'old'\n",
        "  return age_group"
      ]
    },
    {
      "cell_type": "code",
      "source": [
        "query_df['TransactionTime'] = query_df.TransactionTime.apply(lambda row: datetime.strptime(str(row).zfill(6), '%H%M%S'))"
      ],
      "metadata": {
        "id": "uZyWnf-0PbDF"
      },
      "execution_count": 65,
      "outputs": []
    },
    {
      "cell_type": "code",
      "execution_count": 68,
      "metadata": {
        "id": "qIokNzqoB77R"
      },
      "outputs": [],
      "source": [
        "#preprocessing function \n",
        "def query_preprocessing(df): \n",
        "\n",
        "  #account balance\n",
        "  balance = KBinsDiscretizer(n_bins = 4, encode = 'ordinal', strategy = 'quantile')\n",
        "  balance.fit(df.CustAccountBalance.to_numpy().reshape(-1,1))\n",
        "  df['discrete_balance'] = balance.transform(df.CustAccountBalance.to_numpy().reshape(-1,1))\n",
        "  \n",
        "  #period of the year\n",
        "  labels_month = ['Jan-Mar', 'Apr-Jun', 'Jul-Sept', 'Oct-Dec']\n",
        "  df['TransactionDate'] = pd.to_datetime(df.TransactionDate)\n",
        "  df['period_year'] = pd.cut(df['TransactionDate'].dt.month,  4, labels = labels_month)\n",
        "  \n",
        "  #period of the day\n",
        "  df['TransactionTime'] = df.TransactionTime.apply(lambda row: datetime.strptime(str(row).zfill(6), '%H%M%S'))\n",
        "  labels_day = ['Night','Morning', 'Afternoon', 'Late evening']\n",
        "  df['period_day'] = pd.cut(df['TransactionTime'].dt.hour, 4, labels = labels_day)\n",
        "\n",
        "  #amount of the transaction\n",
        "  labels_size = ['Small','Medium', 'Big']\n",
        "  df['transaction_size'] = pd.qcut(df['TransactionAmount (INR)'], q =3, labels = labels_size)\n",
        "\n",
        "  #customer age\n",
        "  df['CustomerDOB'] = pd.to_datetime(df.CustomerDOB)\n",
        "  df['cust_age'] = 2016 - df.CustomerDOB.dt.year\n",
        "  df['age_group'] = df.cust_age.apply(lambda x: age_group(x))\n",
        "\n",
        "  #return only discrete features\n",
        "  df = df[['CustGender', 'CustLocation', 'discrete_balance', 'period_year',\n",
        "       'period_day', 'transaction_size', 'age_group']]\n",
        "\n",
        "  return df"
      ]
    },
    {
      "cell_type": "code",
      "source": [
        "new_df = query_preprocessing(query_df)"
      ],
      "metadata": {
        "id": "lsdFJ8sFel8A"
      },
      "execution_count": 69,
      "outputs": []
    },
    {
      "cell_type": "code",
      "source": [
        "new_df.head(25)"
      ],
      "metadata": {
        "colab": {
          "base_uri": "https://localhost:8080/",
          "height": 833
        },
        "id": "UUH-OrGfh6s1",
        "outputId": "2849e6f7-ea28-4f83-eb5b-36609052af1d"
      },
      "execution_count": 136,
      "outputs": [
        {
          "output_type": "execute_result",
          "data": {
            "text/plain": [
              "   CustGender                  CustLocation  discrete_balance period_year  \\\n",
              "0           M                         DELHI               2.0     Jan-Mar   \n",
              "1           M                     PANCHKULA               0.0     Jan-Mar   \n",
              "2           M                         PATNA               0.0     Oct-Dec   \n",
              "3           M                       CHENNAI               2.0    Jul-Sept   \n",
              "4           M                       GURGAON               2.0    Jul-Sept   \n",
              "5           M  WORLD TRADE CENTRE BANGALORE               1.0     Oct-Dec   \n",
              "6           F                      CHITTOOR               1.0    Jul-Sept   \n",
              "7           M                        MOHALI               0.0     Jan-Mar   \n",
              "8           M                        MOHALI               0.0    Jul-Sept   \n",
              "9           M                     SERAMPORE               3.0    Jul-Sept   \n",
              "10          M                     BANGALORE               0.0     Apr-Jun   \n",
              "11          M                     BANGALORE               0.0     Oct-Dec   \n",
              "12          M                      LUDHIANA               2.0    Jul-Sept   \n",
              "13          F                     BANGALORE               1.0     Oct-Dec   \n",
              "14          M                     HYDERABAD               1.0     Oct-Dec   \n",
              "15          M                       GURGAON               2.0    Jul-Sept   \n",
              "16          F                        MUMBAI               0.0     Apr-Jun   \n",
              "17          M                     NEW DELHI               3.0    Jul-Sept   \n",
              "18          M                       GURGAON               2.0    Jul-Sept   \n",
              "19          M                       CHENNAI               0.0     Jan-Mar   \n",
              "20          F                         NOIDA               3.0    Jul-Sept   \n",
              "21          F                     BANGALORE               3.0    Jul-Sept   \n",
              "22          M                     NEW DELHI               3.0     Oct-Dec   \n",
              "23          M                     AHMEDABAD               2.0    Jul-Sept   \n",
              "24          M            PRAKASAM DIST (AP)               2.0     Jan-Mar   \n",
              "\n",
              "      period_day transaction_size  age_group  \n",
              "0      Afternoon            Small      adult  \n",
              "1        Morning              Big  teen-ager  \n",
              "2   Late evening           Medium      adult  \n",
              "3      Afternoon           Medium      adult  \n",
              "4   Late evening            Small  teen-ager  \n",
              "5   Late evening           Medium      adult  \n",
              "6        Morning            Small      adult  \n",
              "7   Late evening            Small      adult  \n",
              "8   Late evening           Medium      adult  \n",
              "9      Afternoon           Medium        old  \n",
              "10  Late evening           Medium      adult  \n",
              "11  Late evening              Big      adult  \n",
              "12  Late evening           Medium      adult  \n",
              "13  Late evening              Big  teen-ager  \n",
              "14     Afternoon           Medium      adult  \n",
              "15     Afternoon           Medium        old  \n",
              "16  Late evening           Medium      adult  \n",
              "17     Afternoon              Big        old  \n",
              "18         Night            Small  teen-ager  \n",
              "19  Late evening           Medium      adult  \n",
              "20       Morning              Big      adult  \n",
              "21     Afternoon              Big        old  \n",
              "22       Morning            Small      adult  \n",
              "23  Late evening              Big        old  \n",
              "24  Late evening            Small  teen-ager  "
            ],
            "text/html": [
              "\n",
              "  <div id=\"df-bab35126-2bb7-4234-86da-2d4d807a4162\">\n",
              "    <div class=\"colab-df-container\">\n",
              "      <div>\n",
              "<style scoped>\n",
              "    .dataframe tbody tr th:only-of-type {\n",
              "        vertical-align: middle;\n",
              "    }\n",
              "\n",
              "    .dataframe tbody tr th {\n",
              "        vertical-align: top;\n",
              "    }\n",
              "\n",
              "    .dataframe thead th {\n",
              "        text-align: right;\n",
              "    }\n",
              "</style>\n",
              "<table border=\"1\" class=\"dataframe\">\n",
              "  <thead>\n",
              "    <tr style=\"text-align: right;\">\n",
              "      <th></th>\n",
              "      <th>CustGender</th>\n",
              "      <th>CustLocation</th>\n",
              "      <th>discrete_balance</th>\n",
              "      <th>period_year</th>\n",
              "      <th>period_day</th>\n",
              "      <th>transaction_size</th>\n",
              "      <th>age_group</th>\n",
              "    </tr>\n",
              "  </thead>\n",
              "  <tbody>\n",
              "    <tr>\n",
              "      <th>0</th>\n",
              "      <td>M</td>\n",
              "      <td>DELHI</td>\n",
              "      <td>2.0</td>\n",
              "      <td>Jan-Mar</td>\n",
              "      <td>Afternoon</td>\n",
              "      <td>Small</td>\n",
              "      <td>adult</td>\n",
              "    </tr>\n",
              "    <tr>\n",
              "      <th>1</th>\n",
              "      <td>M</td>\n",
              "      <td>PANCHKULA</td>\n",
              "      <td>0.0</td>\n",
              "      <td>Jan-Mar</td>\n",
              "      <td>Morning</td>\n",
              "      <td>Big</td>\n",
              "      <td>teen-ager</td>\n",
              "    </tr>\n",
              "    <tr>\n",
              "      <th>2</th>\n",
              "      <td>M</td>\n",
              "      <td>PATNA</td>\n",
              "      <td>0.0</td>\n",
              "      <td>Oct-Dec</td>\n",
              "      <td>Late evening</td>\n",
              "      <td>Medium</td>\n",
              "      <td>adult</td>\n",
              "    </tr>\n",
              "    <tr>\n",
              "      <th>3</th>\n",
              "      <td>M</td>\n",
              "      <td>CHENNAI</td>\n",
              "      <td>2.0</td>\n",
              "      <td>Jul-Sept</td>\n",
              "      <td>Afternoon</td>\n",
              "      <td>Medium</td>\n",
              "      <td>adult</td>\n",
              "    </tr>\n",
              "    <tr>\n",
              "      <th>4</th>\n",
              "      <td>M</td>\n",
              "      <td>GURGAON</td>\n",
              "      <td>2.0</td>\n",
              "      <td>Jul-Sept</td>\n",
              "      <td>Late evening</td>\n",
              "      <td>Small</td>\n",
              "      <td>teen-ager</td>\n",
              "    </tr>\n",
              "    <tr>\n",
              "      <th>5</th>\n",
              "      <td>M</td>\n",
              "      <td>WORLD TRADE CENTRE BANGALORE</td>\n",
              "      <td>1.0</td>\n",
              "      <td>Oct-Dec</td>\n",
              "      <td>Late evening</td>\n",
              "      <td>Medium</td>\n",
              "      <td>adult</td>\n",
              "    </tr>\n",
              "    <tr>\n",
              "      <th>6</th>\n",
              "      <td>F</td>\n",
              "      <td>CHITTOOR</td>\n",
              "      <td>1.0</td>\n",
              "      <td>Jul-Sept</td>\n",
              "      <td>Morning</td>\n",
              "      <td>Small</td>\n",
              "      <td>adult</td>\n",
              "    </tr>\n",
              "    <tr>\n",
              "      <th>7</th>\n",
              "      <td>M</td>\n",
              "      <td>MOHALI</td>\n",
              "      <td>0.0</td>\n",
              "      <td>Jan-Mar</td>\n",
              "      <td>Late evening</td>\n",
              "      <td>Small</td>\n",
              "      <td>adult</td>\n",
              "    </tr>\n",
              "    <tr>\n",
              "      <th>8</th>\n",
              "      <td>M</td>\n",
              "      <td>MOHALI</td>\n",
              "      <td>0.0</td>\n",
              "      <td>Jul-Sept</td>\n",
              "      <td>Late evening</td>\n",
              "      <td>Medium</td>\n",
              "      <td>adult</td>\n",
              "    </tr>\n",
              "    <tr>\n",
              "      <th>9</th>\n",
              "      <td>M</td>\n",
              "      <td>SERAMPORE</td>\n",
              "      <td>3.0</td>\n",
              "      <td>Jul-Sept</td>\n",
              "      <td>Afternoon</td>\n",
              "      <td>Medium</td>\n",
              "      <td>old</td>\n",
              "    </tr>\n",
              "    <tr>\n",
              "      <th>10</th>\n",
              "      <td>M</td>\n",
              "      <td>BANGALORE</td>\n",
              "      <td>0.0</td>\n",
              "      <td>Apr-Jun</td>\n",
              "      <td>Late evening</td>\n",
              "      <td>Medium</td>\n",
              "      <td>adult</td>\n",
              "    </tr>\n",
              "    <tr>\n",
              "      <th>11</th>\n",
              "      <td>M</td>\n",
              "      <td>BANGALORE</td>\n",
              "      <td>0.0</td>\n",
              "      <td>Oct-Dec</td>\n",
              "      <td>Late evening</td>\n",
              "      <td>Big</td>\n",
              "      <td>adult</td>\n",
              "    </tr>\n",
              "    <tr>\n",
              "      <th>12</th>\n",
              "      <td>M</td>\n",
              "      <td>LUDHIANA</td>\n",
              "      <td>2.0</td>\n",
              "      <td>Jul-Sept</td>\n",
              "      <td>Late evening</td>\n",
              "      <td>Medium</td>\n",
              "      <td>adult</td>\n",
              "    </tr>\n",
              "    <tr>\n",
              "      <th>13</th>\n",
              "      <td>F</td>\n",
              "      <td>BANGALORE</td>\n",
              "      <td>1.0</td>\n",
              "      <td>Oct-Dec</td>\n",
              "      <td>Late evening</td>\n",
              "      <td>Big</td>\n",
              "      <td>teen-ager</td>\n",
              "    </tr>\n",
              "    <tr>\n",
              "      <th>14</th>\n",
              "      <td>M</td>\n",
              "      <td>HYDERABAD</td>\n",
              "      <td>1.0</td>\n",
              "      <td>Oct-Dec</td>\n",
              "      <td>Afternoon</td>\n",
              "      <td>Medium</td>\n",
              "      <td>adult</td>\n",
              "    </tr>\n",
              "    <tr>\n",
              "      <th>15</th>\n",
              "      <td>M</td>\n",
              "      <td>GURGAON</td>\n",
              "      <td>2.0</td>\n",
              "      <td>Jul-Sept</td>\n",
              "      <td>Afternoon</td>\n",
              "      <td>Medium</td>\n",
              "      <td>old</td>\n",
              "    </tr>\n",
              "    <tr>\n",
              "      <th>16</th>\n",
              "      <td>F</td>\n",
              "      <td>MUMBAI</td>\n",
              "      <td>0.0</td>\n",
              "      <td>Apr-Jun</td>\n",
              "      <td>Late evening</td>\n",
              "      <td>Medium</td>\n",
              "      <td>adult</td>\n",
              "    </tr>\n",
              "    <tr>\n",
              "      <th>17</th>\n",
              "      <td>M</td>\n",
              "      <td>NEW DELHI</td>\n",
              "      <td>3.0</td>\n",
              "      <td>Jul-Sept</td>\n",
              "      <td>Afternoon</td>\n",
              "      <td>Big</td>\n",
              "      <td>old</td>\n",
              "    </tr>\n",
              "    <tr>\n",
              "      <th>18</th>\n",
              "      <td>M</td>\n",
              "      <td>GURGAON</td>\n",
              "      <td>2.0</td>\n",
              "      <td>Jul-Sept</td>\n",
              "      <td>Night</td>\n",
              "      <td>Small</td>\n",
              "      <td>teen-ager</td>\n",
              "    </tr>\n",
              "    <tr>\n",
              "      <th>19</th>\n",
              "      <td>M</td>\n",
              "      <td>CHENNAI</td>\n",
              "      <td>0.0</td>\n",
              "      <td>Jan-Mar</td>\n",
              "      <td>Late evening</td>\n",
              "      <td>Medium</td>\n",
              "      <td>adult</td>\n",
              "    </tr>\n",
              "    <tr>\n",
              "      <th>20</th>\n",
              "      <td>F</td>\n",
              "      <td>NOIDA</td>\n",
              "      <td>3.0</td>\n",
              "      <td>Jul-Sept</td>\n",
              "      <td>Morning</td>\n",
              "      <td>Big</td>\n",
              "      <td>adult</td>\n",
              "    </tr>\n",
              "    <tr>\n",
              "      <th>21</th>\n",
              "      <td>F</td>\n",
              "      <td>BANGALORE</td>\n",
              "      <td>3.0</td>\n",
              "      <td>Jul-Sept</td>\n",
              "      <td>Afternoon</td>\n",
              "      <td>Big</td>\n",
              "      <td>old</td>\n",
              "    </tr>\n",
              "    <tr>\n",
              "      <th>22</th>\n",
              "      <td>M</td>\n",
              "      <td>NEW DELHI</td>\n",
              "      <td>3.0</td>\n",
              "      <td>Oct-Dec</td>\n",
              "      <td>Morning</td>\n",
              "      <td>Small</td>\n",
              "      <td>adult</td>\n",
              "    </tr>\n",
              "    <tr>\n",
              "      <th>23</th>\n",
              "      <td>M</td>\n",
              "      <td>AHMEDABAD</td>\n",
              "      <td>2.0</td>\n",
              "      <td>Jul-Sept</td>\n",
              "      <td>Late evening</td>\n",
              "      <td>Big</td>\n",
              "      <td>old</td>\n",
              "    </tr>\n",
              "    <tr>\n",
              "      <th>24</th>\n",
              "      <td>M</td>\n",
              "      <td>PRAKASAM DIST (AP)</td>\n",
              "      <td>2.0</td>\n",
              "      <td>Jan-Mar</td>\n",
              "      <td>Late evening</td>\n",
              "      <td>Small</td>\n",
              "      <td>teen-ager</td>\n",
              "    </tr>\n",
              "  </tbody>\n",
              "</table>\n",
              "</div>\n",
              "      <button class=\"colab-df-convert\" onclick=\"convertToInteractive('df-bab35126-2bb7-4234-86da-2d4d807a4162')\"\n",
              "              title=\"Convert this dataframe to an interactive table.\"\n",
              "              style=\"display:none;\">\n",
              "        \n",
              "  <svg xmlns=\"http://www.w3.org/2000/svg\" height=\"24px\"viewBox=\"0 0 24 24\"\n",
              "       width=\"24px\">\n",
              "    <path d=\"M0 0h24v24H0V0z\" fill=\"none\"/>\n",
              "    <path d=\"M18.56 5.44l.94 2.06.94-2.06 2.06-.94-2.06-.94-.94-2.06-.94 2.06-2.06.94zm-11 1L8.5 8.5l.94-2.06 2.06-.94-2.06-.94L8.5 2.5l-.94 2.06-2.06.94zm10 10l.94 2.06.94-2.06 2.06-.94-2.06-.94-.94-2.06-.94 2.06-2.06.94z\"/><path d=\"M17.41 7.96l-1.37-1.37c-.4-.4-.92-.59-1.43-.59-.52 0-1.04.2-1.43.59L10.3 9.45l-7.72 7.72c-.78.78-.78 2.05 0 2.83L4 21.41c.39.39.9.59 1.41.59.51 0 1.02-.2 1.41-.59l7.78-7.78 2.81-2.81c.8-.78.8-2.07 0-2.86zM5.41 20L4 18.59l7.72-7.72 1.47 1.35L5.41 20z\"/>\n",
              "  </svg>\n",
              "      </button>\n",
              "      \n",
              "  <style>\n",
              "    .colab-df-container {\n",
              "      display:flex;\n",
              "      flex-wrap:wrap;\n",
              "      gap: 12px;\n",
              "    }\n",
              "\n",
              "    .colab-df-convert {\n",
              "      background-color: #E8F0FE;\n",
              "      border: none;\n",
              "      border-radius: 50%;\n",
              "      cursor: pointer;\n",
              "      display: none;\n",
              "      fill: #1967D2;\n",
              "      height: 32px;\n",
              "      padding: 0 0 0 0;\n",
              "      width: 32px;\n",
              "    }\n",
              "\n",
              "    .colab-df-convert:hover {\n",
              "      background-color: #E2EBFA;\n",
              "      box-shadow: 0px 1px 2px rgba(60, 64, 67, 0.3), 0px 1px 3px 1px rgba(60, 64, 67, 0.15);\n",
              "      fill: #174EA6;\n",
              "    }\n",
              "\n",
              "    [theme=dark] .colab-df-convert {\n",
              "      background-color: #3B4455;\n",
              "      fill: #D2E3FC;\n",
              "    }\n",
              "\n",
              "    [theme=dark] .colab-df-convert:hover {\n",
              "      background-color: #434B5C;\n",
              "      box-shadow: 0px 1px 3px 1px rgba(0, 0, 0, 0.15);\n",
              "      filter: drop-shadow(0px 1px 2px rgba(0, 0, 0, 0.3));\n",
              "      fill: #FFFFFF;\n",
              "    }\n",
              "  </style>\n",
              "\n",
              "      <script>\n",
              "        const buttonEl =\n",
              "          document.querySelector('#df-bab35126-2bb7-4234-86da-2d4d807a4162 button.colab-df-convert');\n",
              "        buttonEl.style.display =\n",
              "          google.colab.kernel.accessAllowed ? 'block' : 'none';\n",
              "\n",
              "        async function convertToInteractive(key) {\n",
              "          const element = document.querySelector('#df-bab35126-2bb7-4234-86da-2d4d807a4162');\n",
              "          const dataTable =\n",
              "            await google.colab.kernel.invokeFunction('convertToInteractive',\n",
              "                                                     [key], {});\n",
              "          if (!dataTable) return;\n",
              "\n",
              "          const docLinkHtml = 'Like what you see? Visit the ' +\n",
              "            '<a target=\"_blank\" href=https://colab.research.google.com/notebooks/data_table.ipynb>data table notebook</a>'\n",
              "            + ' to learn more about interactive tables.';\n",
              "          element.innerHTML = '';\n",
              "          dataTable['output_type'] = 'display_data';\n",
              "          await google.colab.output.renderOutput(dataTable, element);\n",
              "          const docLink = document.createElement('div');\n",
              "          docLink.innerHTML = docLinkHtml;\n",
              "          element.appendChild(docLink);\n",
              "        }\n",
              "      </script>\n",
              "    </div>\n",
              "  </div>\n",
              "  "
            ]
          },
          "metadata": {},
          "execution_count": 136
        }
      ]
    },
    {
      "cell_type": "markdown",
      "source": [
        "Now that we preprocessed the query we can proceed with the LSH algorithm. \n",
        "We start from the signature matrix of the query customers. We use the same algorithm we used for the previous banking accounts."
      ],
      "metadata": {
        "id": "qpvdxTf0iG-i"
      }
    },
    {
      "cell_type": "code",
      "source": [
        "#create characteristic matrix\n",
        "#we use the panda function pd.get_dummies, which convert categorical variable into dummy/indicator variables\n",
        "#for each categorical variable we create a row of the characteristic matrix \n",
        "gender = pd.get_dummies(new_df['CustGender'])\n",
        "balance = pd.get_dummies(new_df['discrete_balance'])\n",
        "months = pd.get_dummies(new_df['period_year'])\n",
        "days = pd.get_dummies(new_df['period_day'])\n",
        "size = pd.get_dummies(new_df['transaction_size'])\n",
        "age = pd.get_dummies(new_df['age_group'])\n"
      ],
      "metadata": {
        "id": "3n4L_Wa4j-BT"
      },
      "execution_count": 71,
      "outputs": []
    },
    {
      "cell_type": "code",
      "source": [
        "char_matrix = np.concatenate([gender, balance, months, days, size, age], axis = 1) #horizontal_concat"
      ],
      "metadata": {
        "id": "1teOj8kFj-BU"
      },
      "execution_count": 72,
      "outputs": []
    },
    {
      "cell_type": "code",
      "source": [
        "char_m2 = np.transpose(char_matrix)"
      ],
      "metadata": {
        "id": "qyOXu0Wjj-BV"
      },
      "execution_count": 75,
      "outputs": []
    },
    {
      "cell_type": "code",
      "execution_count": 76,
      "metadata": {
        "id": "oOVBmTouj-BV"
      },
      "outputs": [],
      "source": [
        "#define a function to generate n hash function (for simulating the effect of th epermutations of the row of the characteristic matrix)\n",
        "def n_hash(row, n, p):  #p is the size of the hash table. Its value is the first prime number after the last shingle\n",
        "  hash_list = []\n",
        "  for _ in range(n):\n",
        "    h = random.randint(1, n)*(row) % p\n",
        "    hash_list.append(h)\n",
        "  return hash_list"
      ]
    },
    {
      "cell_type": "code",
      "execution_count": 77,
      "metadata": {
        "id": "_ONVoYBGj-BW"
      },
      "outputs": [],
      "source": [
        "from tqdm import tqdm"
      ]
    },
    {
      "cell_type": "code",
      "execution_count": 78,
      "metadata": {
        "id": "lrAqIFGej-BW"
      },
      "outputs": [],
      "source": [
        "#pre-allocate memory for the signature matrix\n",
        "qsignatures = np.matrix(np.ones((22, char_m2.shape[1]))* np.inf)\n",
        "#the signature matrix has a shape (17, 879359) and every element is infinity"
      ]
    },
    {
      "cell_type": "code",
      "source": [
        "qsignatures.shape"
      ],
      "metadata": {
        "colab": {
          "base_uri": "https://localhost:8080/"
        },
        "id": "7hyrR7T7kRoj",
        "outputId": "b0a6a580-806f-4f29-b413-4e3129afa792"
      },
      "execution_count": 79,
      "outputs": [
        {
          "output_type": "execute_result",
          "data": {
            "text/plain": [
              "(22, 50)"
            ]
          },
          "metadata": {},
          "execution_count": 79
        }
      ]
    },
    {
      "cell_type": "code",
      "execution_count": 80,
      "metadata": {
        "colab": {
          "base_uri": "https://localhost:8080/"
        },
        "outputId": "9855f092-6e58-44f2-d655-7c90508a034e",
        "id": "oVvcz15kj-BW"
      },
      "outputs": [
        {
          "output_type": "stream",
          "name": "stderr",
          "text": [
            "100%|██████████| 20/20 [00:00<00:00, 581.67it/s]\n"
          ]
        }
      ],
      "source": [
        "#scan over the row of the caracteristic matrix\n",
        "for row in tqdm(range(char_m2.shape[0])):\n",
        "  \n",
        "  hash_list = n_hash(row, 750, 757)  #we choose 500 hash functions #503 is the first prime number after 500\n",
        " \n",
        "\n",
        "  #slide over the columns of the characteristic matrix\n",
        "  for col in range(char_m2.shape[1]): \n",
        "    if char_m2[row, col] == 1:\n",
        "      #print(char_matrix[row, col])\n",
        "      #scan over the rows of the signature matrix\n",
        "      for i in range(qsignatures.shape[0]): \n",
        "        qsignatures[i, col] = min(hash_list[i], qsignatures[i, col])\n"
      ]
    },
    {
      "cell_type": "code",
      "source": [
        "qsignatures"
      ],
      "metadata": {
        "colab": {
          "base_uri": "https://localhost:8080/"
        },
        "id": "zWOk-_9NkaCR",
        "outputId": "dc2e0ff9-b4ce-4a14-9f54-c21adc0e5b72"
      },
      "execution_count": 81,
      "outputs": [
        {
          "output_type": "execute_result",
          "data": {
            "text/plain": [
              "matrix([[ 61.,  61.,  45., ..., 144.,   0., 148.],\n",
              "        [ 53.,  81.,  53., ...,  53.,   0.,  53.],\n",
              "        [189.,  76.,  76., ..., 189.,   0., 189.],\n",
              "        ...,\n",
              "        [167., 167., 167., ..., 167.,   0., 167.],\n",
              "        [355., 136., 156., ...,   9.,   0., 136.],\n",
              "        [217., 123.,  78., ..., 134.,   0., 217.]])"
            ]
          },
          "metadata": {},
          "execution_count": 81
        }
      ]
    },
    {
      "cell_type": "markdown",
      "source": [
        "Now, for each row of the new dataframe (i.e., each column of the signature matrix), we have to compute the similarity of the elements hashed in the same bucket. "
      ],
      "metadata": {
        "id": "QxD8rn3AkvYm"
      }
    },
    {
      "cell_type": "code",
      "execution_count": 91,
      "metadata": {
        "id": "J5-hEae1rap1"
      },
      "outputs": [],
      "source": [
        "def jaccard(doc_1, doc_2):\n",
        "  num = len(doc_1 & doc_2)\n",
        "  den = len(doc_1 | doc_2)\n",
        "  jacc = num / den\n",
        "  return jacc"
      ]
    },
    {
      "cell_type": "markdown",
      "source": [
        "#### Test with the first query "
      ],
      "metadata": {
        "id": "lPMvIFEdzUnu"
      }
    },
    {
      "cell_type": "code",
      "source": [
        "new_df.columns"
      ],
      "metadata": {
        "colab": {
          "base_uri": "https://localhost:8080/"
        },
        "id": "3kqcCxrzQmjG",
        "outputId": "ccf3b2c8-171f-4459-a7be-e3dc78dd8d06"
      },
      "execution_count": 87,
      "outputs": [
        {
          "output_type": "execute_result",
          "data": {
            "text/plain": [
              "Index(['CustGender', 'CustLocation', 'discrete_balance', 'period_year',\n",
              "       'period_day', 'transaction_size', 'age_group'],\n",
              "      dtype='object')"
            ]
          },
          "metadata": {},
          "execution_count": 87
        }
      ]
    },
    {
      "cell_type": "code",
      "source": [
        "new_df.head(1)"
      ],
      "metadata": {
        "colab": {
          "base_uri": "https://localhost:8080/",
          "height": 81
        },
        "id": "pUVFwHFwQUn6",
        "outputId": "d83c88f9-a68a-4b8c-af41-6fc233749bf6"
      },
      "execution_count": 82,
      "outputs": [
        {
          "output_type": "execute_result",
          "data": {
            "text/plain": [
              "  CustGender CustLocation  discrete_balance period_year period_day  \\\n",
              "0          M        DELHI               2.0     Jan-Mar  Afternoon   \n",
              "\n",
              "  transaction_size age_group  \n",
              "0            Small     adult  "
            ],
            "text/html": [
              "\n",
              "  <div id=\"df-fe95e09f-af08-4543-9cc3-e1dfdcfc335b\">\n",
              "    <div class=\"colab-df-container\">\n",
              "      <div>\n",
              "<style scoped>\n",
              "    .dataframe tbody tr th:only-of-type {\n",
              "        vertical-align: middle;\n",
              "    }\n",
              "\n",
              "    .dataframe tbody tr th {\n",
              "        vertical-align: top;\n",
              "    }\n",
              "\n",
              "    .dataframe thead th {\n",
              "        text-align: right;\n",
              "    }\n",
              "</style>\n",
              "<table border=\"1\" class=\"dataframe\">\n",
              "  <thead>\n",
              "    <tr style=\"text-align: right;\">\n",
              "      <th></th>\n",
              "      <th>CustGender</th>\n",
              "      <th>CustLocation</th>\n",
              "      <th>discrete_balance</th>\n",
              "      <th>period_year</th>\n",
              "      <th>period_day</th>\n",
              "      <th>transaction_size</th>\n",
              "      <th>age_group</th>\n",
              "    </tr>\n",
              "  </thead>\n",
              "  <tbody>\n",
              "    <tr>\n",
              "      <th>0</th>\n",
              "      <td>M</td>\n",
              "      <td>DELHI</td>\n",
              "      <td>2.0</td>\n",
              "      <td>Jan-Mar</td>\n",
              "      <td>Afternoon</td>\n",
              "      <td>Small</td>\n",
              "      <td>adult</td>\n",
              "    </tr>\n",
              "  </tbody>\n",
              "</table>\n",
              "</div>\n",
              "      <button class=\"colab-df-convert\" onclick=\"convertToInteractive('df-fe95e09f-af08-4543-9cc3-e1dfdcfc335b')\"\n",
              "              title=\"Convert this dataframe to an interactive table.\"\n",
              "              style=\"display:none;\">\n",
              "        \n",
              "  <svg xmlns=\"http://www.w3.org/2000/svg\" height=\"24px\"viewBox=\"0 0 24 24\"\n",
              "       width=\"24px\">\n",
              "    <path d=\"M0 0h24v24H0V0z\" fill=\"none\"/>\n",
              "    <path d=\"M18.56 5.44l.94 2.06.94-2.06 2.06-.94-2.06-.94-.94-2.06-.94 2.06-2.06.94zm-11 1L8.5 8.5l.94-2.06 2.06-.94-2.06-.94L8.5 2.5l-.94 2.06-2.06.94zm10 10l.94 2.06.94-2.06 2.06-.94-2.06-.94-.94-2.06-.94 2.06-2.06.94z\"/><path d=\"M17.41 7.96l-1.37-1.37c-.4-.4-.92-.59-1.43-.59-.52 0-1.04.2-1.43.59L10.3 9.45l-7.72 7.72c-.78.78-.78 2.05 0 2.83L4 21.41c.39.39.9.59 1.41.59.51 0 1.02-.2 1.41-.59l7.78-7.78 2.81-2.81c.8-.78.8-2.07 0-2.86zM5.41 20L4 18.59l7.72-7.72 1.47 1.35L5.41 20z\"/>\n",
              "  </svg>\n",
              "      </button>\n",
              "      \n",
              "  <style>\n",
              "    .colab-df-container {\n",
              "      display:flex;\n",
              "      flex-wrap:wrap;\n",
              "      gap: 12px;\n",
              "    }\n",
              "\n",
              "    .colab-df-convert {\n",
              "      background-color: #E8F0FE;\n",
              "      border: none;\n",
              "      border-radius: 50%;\n",
              "      cursor: pointer;\n",
              "      display: none;\n",
              "      fill: #1967D2;\n",
              "      height: 32px;\n",
              "      padding: 0 0 0 0;\n",
              "      width: 32px;\n",
              "    }\n",
              "\n",
              "    .colab-df-convert:hover {\n",
              "      background-color: #E2EBFA;\n",
              "      box-shadow: 0px 1px 2px rgba(60, 64, 67, 0.3), 0px 1px 3px 1px rgba(60, 64, 67, 0.15);\n",
              "      fill: #174EA6;\n",
              "    }\n",
              "\n",
              "    [theme=dark] .colab-df-convert {\n",
              "      background-color: #3B4455;\n",
              "      fill: #D2E3FC;\n",
              "    }\n",
              "\n",
              "    [theme=dark] .colab-df-convert:hover {\n",
              "      background-color: #434B5C;\n",
              "      box-shadow: 0px 1px 3px 1px rgba(0, 0, 0, 0.15);\n",
              "      filter: drop-shadow(0px 1px 2px rgba(0, 0, 0, 0.3));\n",
              "      fill: #FFFFFF;\n",
              "    }\n",
              "  </style>\n",
              "\n",
              "      <script>\n",
              "        const buttonEl =\n",
              "          document.querySelector('#df-fe95e09f-af08-4543-9cc3-e1dfdcfc335b button.colab-df-convert');\n",
              "        buttonEl.style.display =\n",
              "          google.colab.kernel.accessAllowed ? 'block' : 'none';\n",
              "\n",
              "        async function convertToInteractive(key) {\n",
              "          const element = document.querySelector('#df-fe95e09f-af08-4543-9cc3-e1dfdcfc335b');\n",
              "          const dataTable =\n",
              "            await google.colab.kernel.invokeFunction('convertToInteractive',\n",
              "                                                     [key], {});\n",
              "          if (!dataTable) return;\n",
              "\n",
              "          const docLinkHtml = 'Like what you see? Visit the ' +\n",
              "            '<a target=\"_blank\" href=https://colab.research.google.com/notebooks/data_table.ipynb>data table notebook</a>'\n",
              "            + ' to learn more about interactive tables.';\n",
              "          element.innerHTML = '';\n",
              "          dataTable['output_type'] = 'display_data';\n",
              "          await google.colab.output.renderOutput(dataTable, element);\n",
              "          const docLink = document.createElement('div');\n",
              "          docLink.innerHTML = docLinkHtml;\n",
              "          element.appendChild(docLink);\n",
              "        }\n",
              "      </script>\n",
              "    </div>\n",
              "  </div>\n",
              "  "
            ]
          },
          "metadata": {},
          "execution_count": 82
        }
      ]
    },
    {
      "cell_type": "code",
      "source": [
        "#try with only one query customer \n",
        "cust_signature = qsignatures[:, 0].tolist()\n",
        "cust = cust = np.unique(cust_signature)\n",
        "\n",
        "bucket = 0\n",
        "for i in range(17):   # r = 17\n",
        "  bucket += cust[i]*random.randint(1, n-1)  #hash function we apply to each column of the signature matrix\n",
        "bucket = bucket %n\n",
        "#put the customer in the corresponding bucket\n",
        "buckets[bucket].append(0)"
      ],
      "metadata": {
        "id": "I3QzXaATlkPg"
      },
      "execution_count": 139,
      "outputs": []
    },
    {
      "cell_type": "code",
      "source": [
        "no_city = ['CustGender','discrete_balance', 'period_year',\n",
        "       'period_day', 'transaction_size', 'age_group']\n",
        "query_cust = set(new_df.loc[0, :].unique())\n",
        "q_nocity = set(new_df.loc[0, no_city].unique())"
      ],
      "metadata": {
        "id": "WVbGoJO7rbw9"
      },
      "execution_count": 140,
      "outputs": []
    },
    {
      "cell_type": "code",
      "source": [
        "#list of customers in the same bucket\n",
        "near_cust = buckets[bucket]"
      ],
      "metadata": {
        "id": "RU1FfpdTl4kz"
      },
      "execution_count": 141,
      "outputs": []
    },
    {
      "cell_type": "code",
      "source": [
        "near_customers = modified_df.filter(near_cust[:-1], axis = 0)\n",
        "\n",
        "for customer, idx in zip(near_customers.values, near_customers.index):\n",
        "  sim1 = jaccard(query_cust, set(customer))   #similarity taking into account the city \n",
        "  cust_nocity = np.delete(customer, 1)\n",
        "  sim2 = jaccard(q_nocity, set(cust_nocity))      #similarity without taking into account the city\n",
        "  near_customers.loc[idx, 'similarity'] = sim1\n",
        "  near_customers.loc[idx, 'similarity without city'] = sim2\n"
      ],
      "metadata": {
        "id": "8o62jqzpl58v"
      },
      "execution_count": 149,
      "outputs": []
    },
    {
      "cell_type": "code",
      "source": [
        "near_customers.sort_values(by = 'similarity', ascending = False).head(10)"
      ],
      "metadata": {
        "colab": {
          "base_uri": "https://localhost:8080/",
          "height": 363
        },
        "id": "lQ7bpHJtwvUd",
        "outputId": "c6ba578e-b270-4170-bb6a-cced667e6229"
      },
      "execution_count": 137,
      "outputs": [
        {
          "output_type": "execute_result",
          "data": {
            "text/plain": [
              "      CustGender CustLocation  discrete_balance period_year    period_day  \\\n",
              "3781           F     LUDHIANA               0.0     Apr-Jun  Late evening   \n",
              "21008          F    HYDERABAD               0.0     Apr-Jun  Late evening   \n",
              "4404           F    BANGALORE               0.0     Apr-Jun  Late evening   \n",
              "19947          F   KARIMNAGAR               0.0     Apr-Jun  Late evening   \n",
              "15151          F       MUMBAI               0.0    Jul-Sept  Late evening   \n",
              "16854          F       MUMBAI               0.0     Apr-Jun     Afternoon   \n",
              "18442          F      GANGTOK               0.0     Apr-Jun  Late evening   \n",
              "22065          F   HOSHIARPUR               0.0     Apr-Jun  Late evening   \n",
              "24058          F       MUMBAI               0.0     Apr-Jun  Late evening   \n",
              "10635          F       MUMBAI               0.0    Jul-Sept  Late evening   \n",
              "\n",
              "      transaction_size age_group  similarity  similarity without city  \n",
              "3781            Medium     adult        0.75                 1.000000  \n",
              "21008           Medium     adult        0.75                 1.000000  \n",
              "4404            Medium     adult        0.75                 1.000000  \n",
              "19947           Medium     adult        0.75                 1.000000  \n",
              "15151           Medium     adult        0.75                 0.714286  \n",
              "16854           Medium     adult        0.75                 0.714286  \n",
              "18442           Medium     adult        0.75                 1.000000  \n",
              "22065           Medium     adult        0.75                 1.000000  \n",
              "24058              Big     adult        0.75                 0.714286  \n",
              "10635           Medium     adult        0.75                 0.714286  "
            ],
            "text/html": [
              "\n",
              "  <div id=\"df-33e3db1f-4559-4f0d-9b7e-334ce2359664\">\n",
              "    <div class=\"colab-df-container\">\n",
              "      <div>\n",
              "<style scoped>\n",
              "    .dataframe tbody tr th:only-of-type {\n",
              "        vertical-align: middle;\n",
              "    }\n",
              "\n",
              "    .dataframe tbody tr th {\n",
              "        vertical-align: top;\n",
              "    }\n",
              "\n",
              "    .dataframe thead th {\n",
              "        text-align: right;\n",
              "    }\n",
              "</style>\n",
              "<table border=\"1\" class=\"dataframe\">\n",
              "  <thead>\n",
              "    <tr style=\"text-align: right;\">\n",
              "      <th></th>\n",
              "      <th>CustGender</th>\n",
              "      <th>CustLocation</th>\n",
              "      <th>discrete_balance</th>\n",
              "      <th>period_year</th>\n",
              "      <th>period_day</th>\n",
              "      <th>transaction_size</th>\n",
              "      <th>age_group</th>\n",
              "      <th>similarity</th>\n",
              "      <th>similarity without city</th>\n",
              "    </tr>\n",
              "  </thead>\n",
              "  <tbody>\n",
              "    <tr>\n",
              "      <th>3781</th>\n",
              "      <td>F</td>\n",
              "      <td>LUDHIANA</td>\n",
              "      <td>0.0</td>\n",
              "      <td>Apr-Jun</td>\n",
              "      <td>Late evening</td>\n",
              "      <td>Medium</td>\n",
              "      <td>adult</td>\n",
              "      <td>0.75</td>\n",
              "      <td>1.000000</td>\n",
              "    </tr>\n",
              "    <tr>\n",
              "      <th>21008</th>\n",
              "      <td>F</td>\n",
              "      <td>HYDERABAD</td>\n",
              "      <td>0.0</td>\n",
              "      <td>Apr-Jun</td>\n",
              "      <td>Late evening</td>\n",
              "      <td>Medium</td>\n",
              "      <td>adult</td>\n",
              "      <td>0.75</td>\n",
              "      <td>1.000000</td>\n",
              "    </tr>\n",
              "    <tr>\n",
              "      <th>4404</th>\n",
              "      <td>F</td>\n",
              "      <td>BANGALORE</td>\n",
              "      <td>0.0</td>\n",
              "      <td>Apr-Jun</td>\n",
              "      <td>Late evening</td>\n",
              "      <td>Medium</td>\n",
              "      <td>adult</td>\n",
              "      <td>0.75</td>\n",
              "      <td>1.000000</td>\n",
              "    </tr>\n",
              "    <tr>\n",
              "      <th>19947</th>\n",
              "      <td>F</td>\n",
              "      <td>KARIMNAGAR</td>\n",
              "      <td>0.0</td>\n",
              "      <td>Apr-Jun</td>\n",
              "      <td>Late evening</td>\n",
              "      <td>Medium</td>\n",
              "      <td>adult</td>\n",
              "      <td>0.75</td>\n",
              "      <td>1.000000</td>\n",
              "    </tr>\n",
              "    <tr>\n",
              "      <th>15151</th>\n",
              "      <td>F</td>\n",
              "      <td>MUMBAI</td>\n",
              "      <td>0.0</td>\n",
              "      <td>Jul-Sept</td>\n",
              "      <td>Late evening</td>\n",
              "      <td>Medium</td>\n",
              "      <td>adult</td>\n",
              "      <td>0.75</td>\n",
              "      <td>0.714286</td>\n",
              "    </tr>\n",
              "    <tr>\n",
              "      <th>16854</th>\n",
              "      <td>F</td>\n",
              "      <td>MUMBAI</td>\n",
              "      <td>0.0</td>\n",
              "      <td>Apr-Jun</td>\n",
              "      <td>Afternoon</td>\n",
              "      <td>Medium</td>\n",
              "      <td>adult</td>\n",
              "      <td>0.75</td>\n",
              "      <td>0.714286</td>\n",
              "    </tr>\n",
              "    <tr>\n",
              "      <th>18442</th>\n",
              "      <td>F</td>\n",
              "      <td>GANGTOK</td>\n",
              "      <td>0.0</td>\n",
              "      <td>Apr-Jun</td>\n",
              "      <td>Late evening</td>\n",
              "      <td>Medium</td>\n",
              "      <td>adult</td>\n",
              "      <td>0.75</td>\n",
              "      <td>1.000000</td>\n",
              "    </tr>\n",
              "    <tr>\n",
              "      <th>22065</th>\n",
              "      <td>F</td>\n",
              "      <td>HOSHIARPUR</td>\n",
              "      <td>0.0</td>\n",
              "      <td>Apr-Jun</td>\n",
              "      <td>Late evening</td>\n",
              "      <td>Medium</td>\n",
              "      <td>adult</td>\n",
              "      <td>0.75</td>\n",
              "      <td>1.000000</td>\n",
              "    </tr>\n",
              "    <tr>\n",
              "      <th>24058</th>\n",
              "      <td>F</td>\n",
              "      <td>MUMBAI</td>\n",
              "      <td>0.0</td>\n",
              "      <td>Apr-Jun</td>\n",
              "      <td>Late evening</td>\n",
              "      <td>Big</td>\n",
              "      <td>adult</td>\n",
              "      <td>0.75</td>\n",
              "      <td>0.714286</td>\n",
              "    </tr>\n",
              "    <tr>\n",
              "      <th>10635</th>\n",
              "      <td>F</td>\n",
              "      <td>MUMBAI</td>\n",
              "      <td>0.0</td>\n",
              "      <td>Jul-Sept</td>\n",
              "      <td>Late evening</td>\n",
              "      <td>Medium</td>\n",
              "      <td>adult</td>\n",
              "      <td>0.75</td>\n",
              "      <td>0.714286</td>\n",
              "    </tr>\n",
              "  </tbody>\n",
              "</table>\n",
              "</div>\n",
              "      <button class=\"colab-df-convert\" onclick=\"convertToInteractive('df-33e3db1f-4559-4f0d-9b7e-334ce2359664')\"\n",
              "              title=\"Convert this dataframe to an interactive table.\"\n",
              "              style=\"display:none;\">\n",
              "        \n",
              "  <svg xmlns=\"http://www.w3.org/2000/svg\" height=\"24px\"viewBox=\"0 0 24 24\"\n",
              "       width=\"24px\">\n",
              "    <path d=\"M0 0h24v24H0V0z\" fill=\"none\"/>\n",
              "    <path d=\"M18.56 5.44l.94 2.06.94-2.06 2.06-.94-2.06-.94-.94-2.06-.94 2.06-2.06.94zm-11 1L8.5 8.5l.94-2.06 2.06-.94-2.06-.94L8.5 2.5l-.94 2.06-2.06.94zm10 10l.94 2.06.94-2.06 2.06-.94-2.06-.94-.94-2.06-.94 2.06-2.06.94z\"/><path d=\"M17.41 7.96l-1.37-1.37c-.4-.4-.92-.59-1.43-.59-.52 0-1.04.2-1.43.59L10.3 9.45l-7.72 7.72c-.78.78-.78 2.05 0 2.83L4 21.41c.39.39.9.59 1.41.59.51 0 1.02-.2 1.41-.59l7.78-7.78 2.81-2.81c.8-.78.8-2.07 0-2.86zM5.41 20L4 18.59l7.72-7.72 1.47 1.35L5.41 20z\"/>\n",
              "  </svg>\n",
              "      </button>\n",
              "      \n",
              "  <style>\n",
              "    .colab-df-container {\n",
              "      display:flex;\n",
              "      flex-wrap:wrap;\n",
              "      gap: 12px;\n",
              "    }\n",
              "\n",
              "    .colab-df-convert {\n",
              "      background-color: #E8F0FE;\n",
              "      border: none;\n",
              "      border-radius: 50%;\n",
              "      cursor: pointer;\n",
              "      display: none;\n",
              "      fill: #1967D2;\n",
              "      height: 32px;\n",
              "      padding: 0 0 0 0;\n",
              "      width: 32px;\n",
              "    }\n",
              "\n",
              "    .colab-df-convert:hover {\n",
              "      background-color: #E2EBFA;\n",
              "      box-shadow: 0px 1px 2px rgba(60, 64, 67, 0.3), 0px 1px 3px 1px rgba(60, 64, 67, 0.15);\n",
              "      fill: #174EA6;\n",
              "    }\n",
              "\n",
              "    [theme=dark] .colab-df-convert {\n",
              "      background-color: #3B4455;\n",
              "      fill: #D2E3FC;\n",
              "    }\n",
              "\n",
              "    [theme=dark] .colab-df-convert:hover {\n",
              "      background-color: #434B5C;\n",
              "      box-shadow: 0px 1px 3px 1px rgba(0, 0, 0, 0.15);\n",
              "      filter: drop-shadow(0px 1px 2px rgba(0, 0, 0, 0.3));\n",
              "      fill: #FFFFFF;\n",
              "    }\n",
              "  </style>\n",
              "\n",
              "      <script>\n",
              "        const buttonEl =\n",
              "          document.querySelector('#df-33e3db1f-4559-4f0d-9b7e-334ce2359664 button.colab-df-convert');\n",
              "        buttonEl.style.display =\n",
              "          google.colab.kernel.accessAllowed ? 'block' : 'none';\n",
              "\n",
              "        async function convertToInteractive(key) {\n",
              "          const element = document.querySelector('#df-33e3db1f-4559-4f0d-9b7e-334ce2359664');\n",
              "          const dataTable =\n",
              "            await google.colab.kernel.invokeFunction('convertToInteractive',\n",
              "                                                     [key], {});\n",
              "          if (!dataTable) return;\n",
              "\n",
              "          const docLinkHtml = 'Like what you see? Visit the ' +\n",
              "            '<a target=\"_blank\" href=https://colab.research.google.com/notebooks/data_table.ipynb>data table notebook</a>'\n",
              "            + ' to learn more about interactive tables.';\n",
              "          element.innerHTML = '';\n",
              "          dataTable['output_type'] = 'display_data';\n",
              "          await google.colab.output.renderOutput(dataTable, element);\n",
              "          const docLink = document.createElement('div');\n",
              "          docLink.innerHTML = docLinkHtml;\n",
              "          element.appendChild(docLink);\n",
              "        }\n",
              "      </script>\n",
              "    </div>\n",
              "  </div>\n",
              "  "
            ]
          },
          "metadata": {},
          "execution_count": 137
        }
      ]
    },
    {
      "cell_type": "code",
      "source": [
        "len(near_customers.index)"
      ],
      "metadata": {
        "colab": {
          "base_uri": "https://localhost:8080/"
        },
        "id": "2xcLY2ZpbPdP",
        "outputId": "d9bc4384-7035-49fd-bb2e-a6fbca0e90f7"
      },
      "execution_count": 145,
      "outputs": [
        {
          "output_type": "execute_result",
          "data": {
            "text/plain": [
              "513"
            ]
          },
          "metadata": {},
          "execution_count": 145
        }
      ]
    },
    {
      "cell_type": "markdown",
      "source": [
        "#### Do it with the remaining customers"
      ],
      "metadata": {
        "id": "8TVzGBzB2hxL"
      }
    },
    {
      "cell_type": "code",
      "source": [
        "from tqdm import tqdm "
      ],
      "metadata": {
        "id": "R6aXJgPV8K34"
      },
      "execution_count": 115,
      "outputs": []
    },
    {
      "cell_type": "code",
      "source": [
        "%%time\n",
        "for user in range(6):   #scan over the signature matrix of the query\n",
        "  #try with only one query customer \n",
        "  cust_signature = qsignatures[:, user].tolist()\n",
        "  cust = np.unique(cust_signature)\n",
        "  bucket = 0\n",
        "  for i in range(len(cust)):   \n",
        "    bucket += cust[i]*random.randint(1, n-1)  #hash function we apply to each column of the signature matrix\n",
        "  bucket = bucket % n\n",
        "  #put the customer in the corresponding bucket\n",
        "  \n",
        "  #near customers are in the same bucket\n",
        "  near_cust = buckets[bucket]\n",
        "  near_customers = modified_df.filter(near_cust, axis = 0)   #take from the modified dataframe the rows corresponding to the documents in the bucket\n",
        "   \n",
        "\n",
        "  #compute the similarity between the query customer and the other customers in the bucket \n",
        "  query_cust = set(new_df.loc[user, :].unique())\n",
        "  q_nocity = set(new_df.loc[user, no_city].unique())\n",
        "  #add in the dataframe a colum with the computed similarity\n",
        "  for customer, idx in zip(near_customers.values, near_customers.index):\n",
        "    sim1 = jaccard(query_cust, set(customer))   #similarity taking into account the city \n",
        "    cust_nocity = np.delete(customer, 1)\n",
        "    sim2 = jaccard(q_nocity, set(cust_nocity))      #similarity without taking into account the city\n",
        "    #print(idx)\n",
        "    near_customers.loc[idx, 'similarity'] = sim1\n",
        "    near_customers.loc[idx, 'similarity without city'] = sim2\n",
        "\n",
        "  print('\\nQuery Customer number:', user)\n",
        "  neigh = near_customers.sort_values(by = 'similarity', ascending = False).head(5)\n",
        "  print(neigh.to_markdown())"
      ],
      "metadata": {
        "colab": {
          "base_uri": "https://localhost:8080/"
        },
        "id": "lVPgujQp2neC",
        "outputId": "220186fa-d799-4ad7-bab1-20c82d8a622e"
      },
      "execution_count": 188,
      "outputs": [
        {
          "output_type": "stream",
          "name": "stdout",
          "text": [
            "\n",
            "Query Customer number: 0\n",
            "|        | CustGender   | CustLocation            |   discrete_balance | period_year   | period_day   | transaction_size   | age_group   |   similarity |   similarity without city |\n",
            "|-------:|:-------------|:------------------------|-------------------:|:--------------|:-------------|:-------------------|:------------|-------------:|--------------------------:|\n",
            "|   4146 | M            | AHMEDABAD               |                  2 | Jan-Mar       | Afternoon    | Small              | adult       |     0.75     |                  1        |\n",
            "| 671716 | M            | NEW DELHI               |                  2 | Jan-Mar       | Afternoon    | Small              | adult       |     0.75     |                  1        |\n",
            "| 397391 | M            | NO 3 KALYANI NAGAR PUNE |                  2 | Jan-Mar       | Afternoon    | Small              | adult       |     0.75     |                  1        |\n",
            "| 665264 | M            | DELHI                   |                  1 | Jul-Sept      | Afternoon    | Small              | adult       |     0.555556 |                  0.5      |\n",
            "| 689919 | M            | NEW DELHI               |                  2 | Jul-Sept      | Afternoon    | Small              | adult       |     0.555556 |                  0.714286 |\n",
            "\n",
            "Query Customer number: 1\n",
            "|        | CustGender   | CustLocation              |   discrete_balance | period_year   | period_day   | transaction_size   | age_group   |   similarity |   similarity without city |\n",
            "|-------:|:-------------|:--------------------------|-------------------:|:--------------|:-------------|:-------------------|:------------|-------------:|--------------------------:|\n",
            "| 737199 | M            | AMBERNATH AMBERNATH THANE |                  0 | Jan-Mar       | Late evening | Big                | teen-ager   |     0.555556 |                  0.714286 |\n",
            "| 166971 | M            | MUMBAI                    |                  0 | Jan-Mar       | Morning      | Small              | teen-ager   |     0.555556 |                  0.714286 |\n",
            "| 694671 | M            | KHANNA                    |                  1 | Jan-Mar       | Morning      | Small              | teen-ager   |     0.4      |                  0.5      |\n",
            "|  80223 | M            | DELHI                     |                  3 | Jan-Mar       | Afternoon    | Big                | teen-ager   |     0.4      |                  0.5      |\n",
            "| 812977 | M            | BANGALORE                 |                  1 | Jan-Mar       | Night        | Big                | teen-ager   |     0.4      |                  0.5      |\n",
            "\n",
            "Query Customer number: 2\n",
            "|        | CustGender   | CustLocation                     |   discrete_balance | period_year   | period_day   | transaction_size   | age_group   |   similarity |   similarity without city |\n",
            "|-------:|:-------------|:---------------------------------|-------------------:|:--------------|:-------------|:-------------------|:------------|-------------:|--------------------------:|\n",
            "| 638246 | M            | GURGAON                          |                  0 | Oct-Dec       | Late evening | Medium             | adult       |     0.75     |                  1        |\n",
            "| 384838 | M            | MUMBAI                           |                  0 | Oct-Dec       | Late evening | Medium             | adult       |     0.75     |                  1        |\n",
            "| 404473 | M            | TO MOTHERHOOD HOSPITAL BANGALORE |                  0 | Oct-Dec       | Late evening | Medium             | adult       |     0.75     |                  1        |\n",
            "|  73209 | M            | PATIALA                          |                  0 | Jul-Sept      | Late evening | Medium             | adult       |     0.555556 |                  0.714286 |\n",
            "| 815725 | M            | STORES MANGALORE                 |                  0 | Jul-Sept      | Late evening | Medium             | adult       |     0.555556 |                  0.714286 |\n",
            "\n",
            "Query Customer number: 3\n",
            "|        | CustGender   | CustLocation   |   discrete_balance | period_year   | period_day   | transaction_size   | age_group   |   similarity |   similarity without city |\n",
            "|-------:|:-------------|:---------------|-------------------:|:--------------|:-------------|:-------------------|:------------|-------------:|--------------------------:|\n",
            "| 668011 | M            | CHENNAI        |                  2 | Jul-Sept      | Afternoon    | Small              | adult       |         0.75 |                  0.714286 |\n",
            "| 145362 | M            | BANGALORE      |                  2 | Jul-Sept      | Afternoon    | Medium             | adult       |         0.75 |                  1        |\n",
            "|  65884 | M            | CUTTACK        |                  2 | Jul-Sept      | Afternoon    | Medium             | adult       |         0.75 |                  1        |\n",
            "| 462763 | M            | GURGAON        |                  2 | Jul-Sept      | Afternoon    | Medium             | adult       |         0.75 |                  1        |\n",
            "| 255395 | M            | DELHI          |                  2 | Jul-Sept      | Afternoon    | Medium             | adult       |         0.75 |                  1        |\n",
            "\n",
            "Query Customer number: 4\n",
            "|        | CustGender   | CustLocation                      |   discrete_balance | period_year   | period_day   | transaction_size   | age_group   |   similarity |   similarity without city |\n",
            "|-------:|:-------------|:----------------------------------|-------------------:|:--------------|:-------------|:-------------------|:------------|-------------:|--------------------------:|\n",
            "|  19483 | M            | RING ROAD VARTHUR HOBLI BANGALORE |                  2 | Jul-Sept      | Late evening | Small              | teen-ager   |     0.75     |                  1        |\n",
            "| 666831 | M            | SENAPATI                          |                  2 | Jul-Sept      | Late evening | Small              | teen-ager   |     0.75     |                  1        |\n",
            "| 130627 | M            | MYLAVARAM                         |                  1 | Jul-Sept      | Late evening | Small              | teen-ager   |     0.555556 |                  0.714286 |\n",
            "| 312783 | M            | SURAT                             |                  2 | Jul-Sept      | Late evening | Small              | adult       |     0.555556 |                  0.714286 |\n",
            "| 812442 | M            | SRIPERUMBUDUR                     |                  1 | Jul-Sept      | Late evening | Small              | teen-ager   |     0.555556 |                  0.714286 |\n",
            "\n",
            "Query Customer number: 5\n",
            "|        | CustGender   | CustLocation   |   discrete_balance | period_year   | period_day   | transaction_size   | age_group   |   similarity |   similarity without city |\n",
            "|-------:|:-------------|:---------------|-------------------:|:--------------|:-------------|:-------------------|:------------|-------------:|--------------------------:|\n",
            "| 398677 | M            | CHENNAI        |                  1 | Oct-Dec       | Late evening | Medium             | adult       |     0.75     |                  1        |\n",
            "| 262542 | M            | GREATER NOIDA  |                  1 | Oct-Dec       | Late evening | Medium             | adult       |     0.75     |                  1        |\n",
            "| 224858 | M            | MUMBAI         |                  1 | Jul-Sept      | Late evening | Medium             | adult       |     0.555556 |                  0.714286 |\n",
            "| 210171 | M            | KANGRA         |                  1 | Jan-Mar       | Late evening | Medium             | adult       |     0.555556 |                  0.714286 |\n",
            "| 466638 | M            | NOIDA          |                  1 | Jan-Mar       | Late evening | Medium             | adult       |     0.555556 |                  0.714286 |\n",
            "CPU times: user 1.48 s, sys: 35.1 ms, total: 1.52 s\n",
            "Wall time: 1.52 s\n"
          ]
        }
      ]
    },
    {
      "cell_type": "code",
      "source": [
        "%%time\n",
        "for user in range(7, 13):   #scan over the signature matrix of the query\n",
        "  #try with only one query customer \n",
        "  cust_signature = qsignatures[:, user].tolist()\n",
        "  cust = np.unique(cust_signature)\n",
        "  bucket = 0\n",
        "  for i in range(len(cust)):   \n",
        "    bucket += cust[i]*random.randint(1, n-1)  #hash function we apply to each column of the signature matrix\n",
        "  bucket = bucket % n\n",
        "  #put the customer in the corresponding bucket\n",
        "  \n",
        "  #near customers are in the same bucket\n",
        "  near_cust = buckets[bucket]\n",
        "  near_customers = modified_df.filter(near_cust, axis = 0)   #take from the modified dataframe the rows corresponding to the documents in the bucket\n",
        "   \n",
        "\n",
        "  #compute the similarity between the query customer and the other customers in the bucket \n",
        "  query_cust = set(new_df.loc[user, :].unique())\n",
        "  q_nocity = set(new_df.loc[user, no_city].unique())\n",
        "  #add in the dataframe a colum with the computed similarity\n",
        "  for customer, idx in zip(near_customers.values, near_customers.index):\n",
        "    sim1 = jaccard(query_cust, set(customer))   #similarity taking into account the city \n",
        "    cust_nocity = np.delete(customer, 1)\n",
        "    sim2 = jaccard(q_nocity, set(cust_nocity))      #similarity without taking into account the city\n",
        "    #print(idx)\n",
        "    near_customers.loc[idx, 'similarity'] = sim1\n",
        "    near_customers.loc[idx, 'similarity without city'] = sim2\n",
        "\n",
        "  print('\\nQuery Customer number:', user)\n",
        "  neigh = near_customers.sort_values(by = 'similarity', ascending = False).head(5)\n",
        "  print(neigh.to_markdown())"
      ],
      "metadata": {
        "id": "ThtsUo6x30kP",
        "colab": {
          "base_uri": "https://localhost:8080/"
        },
        "outputId": "baed1d1c-a39d-43a8-c609-b2f5fa8fd273"
      },
      "execution_count": 189,
      "outputs": [
        {
          "output_type": "stream",
          "name": "stdout",
          "text": [
            "\n",
            "Query Customer number: 7\n",
            "|        | CustGender   | CustLocation       |   discrete_balance | period_year   | period_day   | transaction_size   | age_group   |   similarity |   similarity without city |\n",
            "|-------:|:-------------|:-------------------|-------------------:|:--------------|:-------------|:-------------------|:------------|-------------:|--------------------------:|\n",
            "| 807170 | M            | CHENNAI            |                  0 | Jan-Mar       | Late evening | Small              | adult       |     0.75     |                  1        |\n",
            "| 508010 | M            | MOHALI             |                  0 | Jul-Sept      | Late evening | Small              | adult       |     0.75     |                  0.714286 |\n",
            "| 783883 | M            | SOLAN              |                  0 | Jan-Mar       | Late evening | Small              | teen-ager   |     0.555556 |                  0.714286 |\n",
            "| 498401 | M            | MOOSAPET HYDERABAD |                  0 | Oct-Dec       | Late evening | Small              | adult       |     0.555556 |                  0.714286 |\n",
            "| 373590 | M            | THANE              |                  0 | Jul-Sept      | Late evening | Small              | adult       |     0.555556 |                  0.714286 |\n",
            "\n",
            "Query Customer number: 8\n",
            "|        | CustGender   | CustLocation   |   discrete_balance | period_year   | period_day   | transaction_size   | age_group   |   similarity |   similarity without city |\n",
            "|-------:|:-------------|:---------------|-------------------:|:--------------|:-------------|:-------------------|:------------|-------------:|--------------------------:|\n",
            "| 175992 | M            | NOIDA          |                  0 | Jul-Sept      | Late evening | Medium             | adult       |         0.75 |                         1 |\n",
            "|  86658 | M            | MUMBAI         |                  0 | Jul-Sept      | Late evening | Medium             | adult       |         0.75 |                         1 |\n",
            "|  25543 | M            | HYDERABAD      |                  0 | Jul-Sept      | Late evening | Medium             | adult       |         0.75 |                         1 |\n",
            "| 104277 | M            | BANGALORE      |                  0 | Jul-Sept      | Late evening | Medium             | adult       |         0.75 |                         1 |\n",
            "| 513881 | M            | DELHI          |                  0 | Jul-Sept      | Late evening | Medium             | adult       |         0.75 |                         1 |\n",
            "\n",
            "Query Customer number: 9\n",
            "|        | CustGender   | CustLocation   |   discrete_balance | period_year   | period_day   | transaction_size   | age_group   |   similarity |   similarity without city |\n",
            "|-------:|:-------------|:---------------|-------------------:|:--------------|:-------------|:-------------------|:------------|-------------:|--------------------------:|\n",
            "| 440856 | M            | NAVI MUMBAI    |                  3 | Jul-Sept      | Afternoon    | Medium             | old         |     0.75     |                  1        |\n",
            "| 562535 | M            | MUMBAI         |                  3 | Jul-Sept      | Late evening | Medium             | old         |     0.555556 |                  0.714286 |\n",
            "| 747469 | M            | BANGALORE      |                  3 | Jul-Sept      | Afternoon    | Small              | old         |     0.555556 |                  0.714286 |\n",
            "| 118512 | M            | DELHI          |                  3 | Jul-Sept      | Afternoon    | Medium             | adult       |     0.555556 |                  0.714286 |\n",
            "| 816017 | M            | GHAZIABAD      |                  3 | Jul-Sept      | Afternoon    | Medium             | teen-ager   |     0.555556 |                  0.714286 |\n",
            "\n",
            "Query Customer number: 10\n",
            "|        | CustGender   | CustLocation   |   discrete_balance | period_year   | period_day   | transaction_size   | age_group   |   similarity |   similarity without city |\n",
            "|-------:|:-------------|:---------------|-------------------:|:--------------|:-------------|:-------------------|:------------|-------------:|--------------------------:|\n",
            "| 546327 | M            | BANGALORE      |                  0 | Oct-Dec       | Late evening | Medium             | adult       |         0.75 |                  0.714286 |\n",
            "| 154850 | M            | BANGALORE      |                  2 | Apr-Jun       | Late evening | Medium             | adult       |         0.75 |                  0.714286 |\n",
            "| 445043 | M            | BANGALORE      |                  0 | Apr-Jun       | Late evening | Small              | adult       |         0.75 |                  0.714286 |\n",
            "| 473325 | M            | MUMBAI         |                  0 | Apr-Jun       | Late evening | Medium             | adult       |         0.75 |                  1        |\n",
            "| 152970 | M            | MUMBAI         |                  0 | Apr-Jun       | Late evening | Medium             | adult       |         0.75 |                  1        |\n",
            "\n",
            "Query Customer number: 11\n",
            "|        | CustGender   | CustLocation   |   discrete_balance | period_year   | period_day   | transaction_size   | age_group   |   similarity |   similarity without city |\n",
            "|-------:|:-------------|:---------------|-------------------:|:--------------|:-------------|:-------------------|:------------|-------------:|--------------------------:|\n",
            "| 341275 | M            | BANGALORE      |                  3 | Oct-Dec       | Late evening | Big                | adult       |         0.75 |                  0.714286 |\n",
            "| 568705 | M            | BANGALORE      |                  0 | Oct-Dec       | Late evening | Medium             | adult       |         0.75 |                  0.714286 |\n",
            "| 396039 | M            | NEW DELHI      |                  0 | Oct-Dec       | Late evening | Big                | adult       |         0.75 |                  1        |\n",
            "| 746784 | M            | BANGALORE      |                  0 | Jul-Sept      | Late evening | Big                | adult       |         0.75 |                  0.714286 |\n",
            "| 756840 | M            | NOIDA          |                  0 | Oct-Dec       | Late evening | Big                | adult       |         0.75 |                  1        |\n",
            "\n",
            "Query Customer number: 12\n",
            "|        | CustGender   | CustLocation   |   discrete_balance | period_year   | period_day   | transaction_size   | age_group   |   similarity |   similarity without city |\n",
            "|-------:|:-------------|:---------------|-------------------:|:--------------|:-------------|:-------------------|:------------|-------------:|--------------------------:|\n",
            "| 367549 | M            | GURGAON        |                  2 | Jul-Sept      | Late evening | Medium             | adult       |         0.75 |                         1 |\n",
            "| 456285 | M            | PALGHAR        |                  2 | Jul-Sept      | Late evening | Medium             | adult       |         0.75 |                         1 |\n",
            "| 369145 | M            | BANGALORE      |                  2 | Jul-Sept      | Late evening | Medium             | adult       |         0.75 |                         1 |\n",
            "| 856143 | M            | THRISSUR       |                  2 | Jul-Sept      | Late evening | Medium             | adult       |         0.75 |                         1 |\n",
            "| 307225 | M            | CHENNAI        |                  2 | Jul-Sept      | Late evening | Medium             | adult       |         0.75 |                         1 |\n",
            "CPU times: user 1.51 s, sys: 39.6 ms, total: 1.55 s\n",
            "Wall time: 1.66 s\n"
          ]
        }
      ]
    },
    {
      "cell_type": "code",
      "source": [
        "%%time\n",
        "for user in range(14, 16):   #scan over the signature matrix of the query\n",
        "  #try with only one query customer \n",
        "  cust_signature = qsignatures[:, user].tolist()\n",
        "  cust = np.unique(cust_signature)\n",
        "  bucket = 0\n",
        "  for i in range(len(cust)):   \n",
        "    bucket += cust[i]*random.randint(1, n-1)  #hash function we apply to each column of the signature matrix\n",
        "  bucket = bucket % n\n",
        "  #put the customer in the corresponding bucket\n",
        "  \n",
        "  #near customers are in the same bucket\n",
        "  near_cust = buckets[bucket]\n",
        "  near_customers = modified_df.filter(near_cust, axis = 0)   #take from the modified dataframe the rows corresponding to the documents in the bucket\n",
        "   \n",
        "\n",
        "  #compute the similarity between the query customer and the other customers in the bucket \n",
        "  query_cust = set(new_df.loc[user, :].unique())\n",
        "  q_nocity = set(new_df.loc[user, no_city].unique())\n",
        "  #add in the dataframe a colum with the computed similarity\n",
        "  for customer, idx in zip(near_customers.values, near_customers.index):\n",
        "    sim1 = jaccard(query_cust, set(customer))   #similarity taking into account the city \n",
        "    cust_nocity = np.delete(customer, 1)\n",
        "    sim2 = jaccard(q_nocity, set(cust_nocity))      #similarity without taking into account the city\n",
        "    #print(idx)\n",
        "    near_customers.loc[idx, 'similarity'] = sim1\n",
        "    near_customers.loc[idx, 'similarity without city'] = sim2\n",
        "\n",
        "  print('\\nQuery Customer number:', user)\n",
        "  neigh = near_customers.sort_values(by = 'similarity', ascending = False).head(5)\n",
        "  print(neigh.to_markdown())"
      ],
      "metadata": {
        "colab": {
          "base_uri": "https://localhost:8080/"
        },
        "id": "mRvH7aNbgcJ2",
        "outputId": "773fc05c-f163-4cef-f61c-b3294ca4ace9"
      },
      "execution_count": 190,
      "outputs": [
        {
          "output_type": "stream",
          "name": "stdout",
          "text": [
            "\n",
            "Query Customer number: 14\n",
            "|        | CustGender   | CustLocation   |   discrete_balance | period_year   | period_day   | transaction_size   | age_group   |   similarity |   similarity without city |\n",
            "|-------:|:-------------|:---------------|-------------------:|:--------------|:-------------|:-------------------|:------------|-------------:|--------------------------:|\n",
            "| 210165 | M            | GHAZIABAD      |                  1 | Oct-Dec       | Afternoon    | Medium             | adult       |     0.75     |                  1        |\n",
            "| 192240 | M            | HYDERABAD      |                  1 | Apr-Jun       | Afternoon    | Medium             | adult       |     0.75     |                  0.714286 |\n",
            "| 181910 | M            | NEW DELHI      |                  1 | Oct-Dec       | Afternoon    | Medium             | adult       |     0.75     |                  1        |\n",
            "| 193567 | M            | NEW DELHI      |                  1 | Oct-Dec       | Late evening | Medium             | adult       |     0.555556 |                  0.714286 |\n",
            "| 819884 | M            | AHMEDABAD      |                  1 | Jul-Sept      | Afternoon    | Medium             | adult       |     0.555556 |                  0.714286 |\n",
            "\n",
            "Query Customer number: 15\n",
            "|        | CustGender   | CustLocation   |   discrete_balance | period_year   | period_day   | transaction_size   | age_group   |   similarity |   similarity without city |\n",
            "|-------:|:-------------|:---------------|-------------------:|:--------------|:-------------|:-------------------|:------------|-------------:|--------------------------:|\n",
            "| 477687 | M            | GURGAON        |                  2 | Jul-Sept      | Afternoon    | Medium             | adult       |     0.75     |                  0.714286 |\n",
            "| 814222 | M            | GURGAON        |                  3 | Jul-Sept      | Afternoon    | Medium             | old         |     0.75     |                  0.714286 |\n",
            "| 488980 | M            | DELHI          |                  2 | Jul-Sept      | Afternoon    | Medium             | old         |     0.75     |                  1        |\n",
            "| 833671 | M            | GURGAON        |                  2 | Oct-Dec       | Afternoon    | Medium             | adult       |     0.555556 |                  0.5      |\n",
            "| 141338 | M            | NOIDA          |                  2 | Jul-Sept      | Afternoon    | Medium             | teen-ager   |     0.555556 |                  0.714286 |\n",
            "CPU times: user 752 ms, sys: 4.53 ms, total: 756 ms\n",
            "Wall time: 1.01 s\n"
          ]
        }
      ]
    },
    {
      "cell_type": "code",
      "source": [
        "%%time\n",
        "for user in range(17, 20):   #scan over the signature matrix of the query\n",
        "  #try with only one query customer \n",
        "  cust_signature = qsignatures[:, user].tolist()\n",
        "  cust = np.unique(cust_signature)\n",
        "  bucket = 0\n",
        "  for i in range(len(cust)):   \n",
        "    bucket += cust[i]*random.randint(1, n-1)  #hash function we apply to each column of the signature matrix\n",
        "  bucket = bucket % n\n",
        "  #put the customer in the corresponding bucket\n",
        "  \n",
        "  #near customers are in the same bucket\n",
        "  near_cust = buckets[bucket]\n",
        "  near_customers = modified_df.filter(near_cust, axis = 0)   #take from the modified dataframe the rows corresponding to the documents in the bucket\n",
        "   \n",
        "\n",
        "  #compute the similarity between the query customer and the other customers in the bucket \n",
        "  query_cust = set(new_df.loc[user, :].unique())\n",
        "  q_nocity = set(new_df.loc[user, no_city].unique())\n",
        "  #add in the dataframe a colum with the computed similarity\n",
        "  for customer, idx in zip(near_customers.values, near_customers.index):\n",
        "    sim1 = jaccard(query_cust, set(customer))   #similarity taking into account the city \n",
        "    cust_nocity = np.delete(customer, 1)\n",
        "    sim2 = jaccard(q_nocity, set(cust_nocity))      #similarity without taking into account the city\n",
        "    #print(idx)\n",
        "    near_customers.loc[idx, 'similarity'] = sim1\n",
        "    near_customers.loc[idx, 'similarity without city'] = sim2\n",
        "\n",
        "  print('\\nQuery Customer number:', user)\n",
        "  neigh = near_customers.sort_values(by = 'similarity', ascending = False).head(5)\n",
        "  print(neigh.to_markdown())"
      ],
      "metadata": {
        "colab": {
          "base_uri": "https://localhost:8080/"
        },
        "id": "S1jx40IZgijl",
        "outputId": "abb1233d-2233-4204-d1ae-672f63ee1356"
      },
      "execution_count": 191,
      "outputs": [
        {
          "output_type": "stream",
          "name": "stdout",
          "text": [
            "\n",
            "Query Customer number: 17\n",
            "|        | CustGender   | CustLocation   |   discrete_balance | period_year   | period_day   | transaction_size   | age_group   |   similarity |   similarity without city |\n",
            "|-------:|:-------------|:---------------|-------------------:|:--------------|:-------------|:-------------------|:------------|-------------:|--------------------------:|\n",
            "| 609300 | M            | NEW DELHI      |                  3 | Jul-Sept      | Afternoon    | Big                | old         |         1    |                  1        |\n",
            "| 129743 | M            | NEW DELHI      |                  3 | Jul-Sept      | Afternoon    | Big                | adult       |         0.75 |                  0.714286 |\n",
            "| 298475 | M            | NEW DELHI      |                  3 | Jul-Sept      | Afternoon    | Big                | adult       |         0.75 |                  0.714286 |\n",
            "| 426989 | M            | NEW DELHI      |                  3 | Jul-Sept      | Afternoon    | Big                | adult       |         0.75 |                  0.714286 |\n",
            "| 347008 | M            | GURGAON        |                  3 | Jul-Sept      | Afternoon    | Big                | old         |         0.75 |                  1        |\n",
            "\n",
            "Query Customer number: 18\n",
            "|        | CustGender   | CustLocation      |   discrete_balance | period_year   | period_day   | transaction_size   | age_group   |   similarity |   similarity without city |\n",
            "|-------:|:-------------|:------------------|-------------------:|:--------------|:-------------|:-------------------|:------------|-------------:|--------------------------:|\n",
            "| 181727 | M            | AIRPORT BANGALORE |                  2 | Jul-Sept      | Night        | Small              | teen-ager   |     0.75     |                  1        |\n",
            "| 253505 | M            | SANGLI            |                  2 | Oct-Dec       | Night        | Small              | teen-ager   |     0.555556 |                  0.714286 |\n",
            "| 516417 | M            | SRIPERUMBUDUR     |                  0 | Jul-Sept      | Night        | Small              | teen-ager   |     0.555556 |                  0.714286 |\n",
            "| 303094 | M            | BOKARO            |                  1 | Jul-Sept      | Night        | Small              | teen-ager   |     0.555556 |                  0.714286 |\n",
            "| 412118 | M            | GURGAON           |                  2 | Jul-Sept      | Late evening | Small              | adult       |     0.555556 |                  0.5      |\n",
            "\n",
            "Query Customer number: 19\n",
            "|        | CustGender   | CustLocation   |   discrete_balance | period_year   | period_day   | transaction_size   | age_group   |   similarity |   similarity without city |\n",
            "|-------:|:-------------|:---------------|-------------------:|:--------------|:-------------|:-------------------|:------------|-------------:|--------------------------:|\n",
            "| 376049 | M            | CHENNAI        |                  0 | Jan-Mar       | Late evening | Medium             | adult       |     1        |                  1        |\n",
            "| 143654 | M            | CHENNAI        |                  0 | Jul-Sept      | Late evening | Medium             | adult       |     0.75     |                  0.714286 |\n",
            "|  42947 | M            | KHAMMAM        |                  0 | Jan-Mar       | Late evening | Small              | adult       |     0.555556 |                  0.714286 |\n",
            "| 523721 | M            | BANGALORE      |                  1 | Jan-Mar       | Late evening | Medium             | adult       |     0.555556 |                  0.714286 |\n",
            "| 197196 | M            | AHMEDABAD      |                  0 | Jan-Mar       | Morning      | Medium             | adult       |     0.555556 |                  0.714286 |\n",
            "CPU times: user 831 ms, sys: 37.5 ms, total: 868 ms\n",
            "Wall time: 817 ms\n"
          ]
        }
      ]
    },
    {
      "cell_type": "code",
      "source": [
        "%%time\n",
        "for user in range(22, 33):   #scan over the signature matrix of the query\n",
        "  #try with only one query customer \n",
        "  cust_signature = qsignatures[:, user].tolist()\n",
        "  cust = np.unique(cust_signature)\n",
        "  bucket = 0\n",
        "  for i in range(len(cust)):   \n",
        "    bucket += cust[i]*random.randint(1, n-1)  #hash function we apply to each column of the signature matrix\n",
        "  bucket = bucket % n\n",
        "  #put the customer in the corresponding bucket\n",
        "  \n",
        "  #near customers are in the same bucket\n",
        "  near_cust = buckets[bucket]\n",
        "  near_customers = modified_df.filter(near_cust, axis = 0)   #take from the modified dataframe the rows corresponding to the documents in the bucket\n",
        "   \n",
        "\n",
        "  #compute the similarity between the query customer and the other customers in the bucket \n",
        "  query_cust = set(new_df.loc[user, :].unique())\n",
        "  q_nocity = set(new_df.loc[user, no_city].unique())\n",
        "  #add in the dataframe a colum with the computed similarity\n",
        "  for customer, idx in zip(near_customers.values, near_customers.index):\n",
        "    sim1 = jaccard(query_cust, set(customer))   #similarity taking into account the city \n",
        "    cust_nocity = np.delete(customer, 1)\n",
        "    sim2 = jaccard(q_nocity, set(cust_nocity))      #similarity without taking into account the city\n",
        "    #print(idx)\n",
        "    near_customers.loc[idx, 'similarity'] = sim1\n",
        "    near_customers.loc[idx, 'similarity without city'] = sim2\n",
        "\n",
        "  print('\\nQuery Customer number:', user)\n",
        "  neigh = near_customers.sort_values(by = 'similarity', ascending = False).head(5)\n",
        "  print(neigh.to_markdown())"
      ],
      "metadata": {
        "colab": {
          "base_uri": "https://localhost:8080/"
        },
        "id": "R-j5_3oKgo6k",
        "outputId": "1f8b5419-c591-457b-d0ea-fe05d391823e"
      },
      "execution_count": 192,
      "outputs": [
        {
          "output_type": "stream",
          "name": "stdout",
          "text": [
            "\n",
            "Query Customer number: 22\n",
            "|        | CustGender   | CustLocation   |   discrete_balance | period_year   | period_day   | transaction_size   | age_group   |   similarity |   similarity without city |\n",
            "|-------:|:-------------|:---------------|-------------------:|:--------------|:-------------|:-------------------|:------------|-------------:|--------------------------:|\n",
            "| 395000 | M            | NEW DELHI      |                  3 | Apr-Jun       | Morning      | Small              | adult       |         0.75 |                  0.714286 |\n",
            "| 665163 | M            | NEW DELHI      |                  0 | Oct-Dec       | Morning      | Small              | adult       |         0.75 |                  0.714286 |\n",
            "| 479100 | M            | DELHI          |                  3 | Oct-Dec       | Morning      | Small              | adult       |         0.75 |                  1        |\n",
            "|  25741 | M            | NEW DELHI      |                  3 | Oct-Dec       | Late evening | Small              | adult       |         0.75 |                  0.714286 |\n",
            "| 648064 | M            | NEW DELHI      |                  3 | Apr-Jun       | Morning      | Small              | adult       |         0.75 |                  0.714286 |\n",
            "\n",
            "Query Customer number: 23\n",
            "|        | CustGender   | CustLocation   |   discrete_balance | period_year   | period_day   | transaction_size   | age_group   |   similarity |   similarity without city |\n",
            "|-------:|:-------------|:---------------|-------------------:|:--------------|:-------------|:-------------------|:------------|-------------:|--------------------------:|\n",
            "| 625058 | M            | GHAZIABAD      |                  2 | Jul-Sept      | Late evening | Big                | adult       |     0.555556 |                  0.714286 |\n",
            "|  38395 | M            | AHMEDABAD      |                  2 | Jul-Sept      | Late evening | Medium             | adult       |     0.555556 |                  0.5      |\n",
            "| 112195 | M            | GHAZIABAD      |                  2 | Jul-Sept      | Late evening | Big                | adult       |     0.555556 |                  0.714286 |\n",
            "| 516790 | M            | AHMEDABAD      |                  2 | Jul-Sept      | Late evening | Medium             | adult       |     0.555556 |                  0.5      |\n",
            "| 842547 | M            | GURGAON        |                  2 | Oct-Dec       | Late evening | Big                | old         |     0.555556 |                  0.714286 |\n",
            "\n",
            "Query Customer number: 24\n",
            "|        | CustGender   | CustLocation   |   discrete_balance | period_year   | period_day   | transaction_size   | age_group   |   similarity |   similarity without city |\n",
            "|-------:|:-------------|:---------------|-------------------:|:--------------|:-------------|:-------------------|:------------|-------------:|--------------------------:|\n",
            "| 399371 | M            | NEW DELHI      |                  2 | Jul-Sept      | Late evening | Small              | teen-ager   |     0.555556 |                  0.714286 |\n",
            "|  46787 | M            | AGRA           |                  2 | Jan-Mar       | Afternoon    | Small              | teen-ager   |     0.555556 |                  0.714286 |\n",
            "| 804823 | M            | MUMBAI         |                  3 | Jan-Mar       | Late evening | Small              | teen-ager   |     0.555556 |                  0.714286 |\n",
            "| 757343 | M            | RATLAM         |                  2 | Jan-Mar       | Afternoon    | Small              | teen-ager   |     0.555556 |                  0.714286 |\n",
            "| 227370 | M            | NASHIK         |                  2 | Oct-Dec       | Late evening | Small              | teen-ager   |     0.555556 |                  0.714286 |\n",
            "\n",
            "Query Customer number: 25\n",
            "|        | CustGender   | CustLocation   |   discrete_balance | period_year   | period_day   | transaction_size   | age_group   |   similarity |   similarity without city |\n",
            "|-------:|:-------------|:---------------|-------------------:|:--------------|:-------------|:-------------------|:------------|-------------:|--------------------------:|\n",
            "| 269059 | M            | BANGALORE      |                  1 | Apr-Jun       | Afternoon    | Medium             | adult       |         1    |                  1        |\n",
            "| 157085 | M            | BANGALORE      |                  1 | Apr-Jun       | Morning      | Medium             | adult       |         0.75 |                  0.714286 |\n",
            "| 821756 | M            | SCHOOL KOLKATA |                  1 | Apr-Jun       | Afternoon    | Medium             | adult       |         0.75 |                  1        |\n",
            "| 323064 | M            | BANGALORE      |                  1 | Apr-Jun       | Late evening | Medium             | adult       |         0.75 |                  0.714286 |\n",
            "| 254075 | M            | BANGALORE      |                  1 | Jul-Sept      | Afternoon    | Medium             | adult       |         0.75 |                  0.714286 |\n",
            "\n",
            "Query Customer number: 26\n",
            "|        | CustGender   | CustLocation    |   discrete_balance | period_year   | period_day   | transaction_size   | age_group   |   similarity |   similarity without city |\n",
            "|-------:|:-------------|:----------------|-------------------:|:--------------|:-------------|:-------------------|:------------|-------------:|--------------------------:|\n",
            "| 396261 | M            | THANE           |                  2 | Jul-Sept      | Late evening | Medium             | adult       |         0.75 |                         1 |\n",
            "| 668087 | M            | THANE (EAST)    |                  2 | Jul-Sept      | Late evening | Medium             | adult       |         0.75 |                         1 |\n",
            "| 612891 | M            | MUMBAI          |                  2 | Jul-Sept      | Late evening | Medium             | adult       |         0.75 |                         1 |\n",
            "| 809870 | M            | DELHI           |                  2 | Jul-Sept      | Late evening | Medium             | adult       |         0.75 |                         1 |\n",
            "|  60054 | M            | PALYA BANGALORE |                  2 | Jul-Sept      | Late evening | Medium             | adult       |         0.75 |                         1 |\n",
            "\n",
            "Query Customer number: 27\n",
            "|        | CustGender   | CustLocation   |   discrete_balance | period_year   | period_day   | transaction_size   | age_group   |   similarity |   similarity without city |\n",
            "|-------:|:-------------|:---------------|-------------------:|:--------------|:-------------|:-------------------|:------------|-------------:|--------------------------:|\n",
            "| 652509 | M            | MUMBAI         |                  2 | Jul-Sept      | Late evening | Small              | adult       |         1    |                  1        |\n",
            "| 203001 | M            | MUMBAI         |                  2 | Jul-Sept      | Late evening | Medium             | adult       |         0.75 |                  0.714286 |\n",
            "| 823373 | M            | MUMBAI         |                  2 | Apr-Jun       | Late evening | Small              | adult       |         0.75 |                  0.714286 |\n",
            "| 842103 | M            | AGRA           |                  2 | Jul-Sept      | Late evening | Small              | adult       |         0.75 |                  1        |\n",
            "| 394254 | M            | MUMBAI         |                  0 | Jul-Sept      | Late evening | Small              | adult       |         0.75 |                  0.714286 |\n",
            "\n",
            "Query Customer number: 28\n",
            "|        | CustGender   | CustLocation            |   discrete_balance | period_year   | period_day   | transaction_size   | age_group   |   similarity |   similarity without city |\n",
            "|-------:|:-------------|:------------------------|-------------------:|:--------------|:-------------|:-------------------|:------------|-------------:|--------------------------:|\n",
            "| 376047 | M            | BANGALORE               |                  1 | Jul-Sept      | Late evening | Small              | adult       |         0.75 |                         1 |\n",
            "| 377782 | M            | RANGA REDDY             |                  1 | Jul-Sept      | Late evening | Small              | adult       |         0.75 |                         1 |\n",
            "| 713691 | M            | ROAD ANDHERI (E) MUMBAI |                  1 | Jul-Sept      | Late evening | Small              | adult       |         0.75 |                         1 |\n",
            "| 387720 | M            | FARIDABAD               |                  1 | Jul-Sept      | Late evening | Small              | adult       |         0.75 |                         1 |\n",
            "| 567153 | M            | PUNE                    |                  1 | Jul-Sept      | Late evening | Small              | adult       |         0.75 |                         1 |\n",
            "\n",
            "Query Customer number: 29\n",
            "|        | CustGender   | CustLocation   |   discrete_balance | period_year   | period_day   | transaction_size   | age_group   |   similarity |   similarity without city |\n",
            "|-------:|:-------------|:---------------|-------------------:|:--------------|:-------------|:-------------------|:------------|-------------:|--------------------------:|\n",
            "| 438551 | M            | MUMBAI         |                  3 | Jul-Sept      | Afternoon    | Big                | old         |     0.75     |                  0.714286 |\n",
            "|  91920 | M            | MUMBAI         |                  3 | Jul-Sept      | Afternoon    | Big                | old         |     0.75     |                  0.714286 |\n",
            "| 109344 | M            | MUMBAI         |                  0 | Jul-Sept      | Afternoon    | Big                | adult       |     0.75     |                  0.714286 |\n",
            "| 517983 | M            | MUMBAI         |                  0 | Jul-Sept      | Afternoon    | Medium             | adult       |     0.555556 |                  0.5      |\n",
            "| 292459 | M            | SRINAGAR       |                  0 | Jul-Sept      | Afternoon    | Big                | teen-ager   |     0.555556 |                  0.714286 |\n",
            "\n",
            "Query Customer number: 30\n",
            "|        | CustGender   | CustLocation   |   discrete_balance | period_year   | period_day   | transaction_size   | age_group   |   similarity |   similarity without city |\n",
            "|-------:|:-------------|:---------------|-------------------:|:--------------|:-------------|:-------------------|:------------|-------------:|--------------------------:|\n",
            "| 193759 | M            | PUNE           |                  3 | Jul-Sept      | Late evening | Big                | adult       |         0.75 |                         1 |\n",
            "| 531686 | M            | BANGALORE      |                  3 | Jul-Sept      | Late evening | Big                | adult       |         0.75 |                         1 |\n",
            "| 806211 | M            | NEW DELHI      |                  3 | Jul-Sept      | Late evening | Big                | adult       |         0.75 |                         1 |\n",
            "|   8498 | M            | MARGAO         |                  3 | Jul-Sept      | Late evening | Big                | adult       |         0.75 |                         1 |\n",
            "| 833183 | M            | BANGALORE      |                  3 | Jul-Sept      | Late evening | Big                | adult       |         0.75 |                         1 |\n",
            "\n",
            "Query Customer number: 31\n",
            "|        | CustGender   | CustLocation   |   discrete_balance | period_year   | period_day   | transaction_size   | age_group   |   similarity |   similarity without city |\n",
            "|-------:|:-------------|:---------------|-------------------:|:--------------|:-------------|:-------------------|:------------|-------------:|--------------------------:|\n",
            "| 226031 | M            | NEW DELHI      |                  3 | Jul-Sept      | Late evening | Big                | old         |     0.555556 |                  0.714286 |\n",
            "|  90457 | M            | KOLKATA        |                  3 | Apr-Jun       | Late evening | Big                | adult       |     0.555556 |                  0.714286 |\n",
            "| 820088 | M            | POINT MUMBAI   |                  3 | Jul-Sept      | Late evening | Big                | old         |     0.555556 |                  0.714286 |\n",
            "| 112598 | M            | NEW DELHI      |                  3 | Apr-Jun       | Late evening | Big                | adult       |     0.555556 |                  0.714286 |\n",
            "| 186268 | M            | NEW DELHI      |                  2 | Jul-Sept      | Late evening | Big                | old         |     0.4      |                  0.5      |\n",
            "\n",
            "Query Customer number: 32\n",
            "|        | CustGender   | CustLocation       |   discrete_balance | period_year   | period_day   | transaction_size   | age_group   |   similarity |   similarity without city |\n",
            "|-------:|:-------------|:-------------------|-------------------:|:--------------|:-------------|:-------------------|:------------|-------------:|--------------------------:|\n",
            "| 646062 | M            | DELHI              |                  0 | Jul-Sept      | Late evening | Medium             | old         |     0.75     |                  1        |\n",
            "|  28193 | M            | LUCKNOW            |                  0 | Jul-Sept      | Late evening | Medium             | old         |     0.75     |                  1        |\n",
            "| 545366 | M            | PATIALA            |                  0 | Jul-Sept      | Late evening | Small              | old         |     0.555556 |                  0.714286 |\n",
            "| 676993 | M            | CHENNAI            |                  1 | Jul-Sept      | Late evening | Medium             | adult       |     0.555556 |                  0.5      |\n",
            "| 362534 | M            | BANDRA EAST MUMBAI |                  0 | Jul-Sept      | Late evening | Medium             | adult       |     0.555556 |                  0.714286 |\n",
            "CPU times: user 2.97 s, sys: 96.1 ms, total: 3.06 s\n",
            "Wall time: 3.71 s\n"
          ]
        }
      ]
    },
    {
      "cell_type": "code",
      "source": [
        "%%time\n",
        "for user in range(34, 35):   #scan over the signature matrix of the query\n",
        "  #try with only one query customer \n",
        "  cust_signature = qsignatures[:, user].tolist()\n",
        "  cust = np.unique(cust_signature)\n",
        "  bucket = 0\n",
        "  for i in range(len(cust)):   \n",
        "    bucket += cust[i]*random.randint(1, n-1)  #hash function we apply to each column of the signature matrix\n",
        "  bucket = bucket % n\n",
        "  #put the customer in the corresponding bucket\n",
        "  \n",
        "  #near customers are in the same bucket\n",
        "  near_cust = buckets[bucket]\n",
        "  near_customers = modified_df.filter(near_cust, axis = 0)   #take from the modified dataframe the rows corresponding to the documents in the bucket\n",
        "   \n",
        "\n",
        "  #compute the similarity between the query customer and the other customers in the bucket \n",
        "  query_cust = set(new_df.loc[user, :].unique())\n",
        "  q_nocity = set(new_df.loc[user, no_city].unique())\n",
        "  #add in the dataframe a colum with the computed similarity\n",
        "  for customer, idx in zip(near_customers.values, near_customers.index):\n",
        "    sim1 = jaccard(query_cust, set(customer))   #similarity taking into account the city \n",
        "    cust_nocity = np.delete(customer, 1)\n",
        "    sim2 = jaccard(q_nocity, set(cust_nocity))      #similarity without taking into account the city\n",
        "    #print(idx)\n",
        "    near_customers.loc[idx, 'similarity'] = sim1\n",
        "    near_customers.loc[idx, 'similarity without city'] = sim2\n",
        "\n",
        "  print('\\nQuery Customer number:', user)\n",
        "  neigh = near_customers.sort_values(by = 'similarity', ascending = False).head(5)\n",
        "  print(neigh.to_markdown())"
      ],
      "metadata": {
        "colab": {
          "base_uri": "https://localhost:8080/"
        },
        "id": "07GHv1kuhCBy",
        "outputId": "0a0ce20b-4c24-4049-cd5a-0f146b0b3020"
      },
      "execution_count": 193,
      "outputs": [
        {
          "output_type": "stream",
          "name": "stdout",
          "text": [
            "\n",
            "Query Customer number: 34\n",
            "|        | CustGender   | CustLocation   |   discrete_balance | period_year   | period_day   | transaction_size   | age_group   |   similarity |   similarity without city |\n",
            "|-------:|:-------------|:---------------|-------------------:|:--------------|:-------------|:-------------------|:------------|-------------:|--------------------------:|\n",
            "| 752362 | M            | CHENNAI        |                  3 | Oct-Dec       | Late evening | Big                | adult       |     0.75     |                  1        |\n",
            "| 201813 | M            | MUMBAI         |                  3 | Oct-Dec       | Late evening | Big                | adult       |     0.75     |                  1        |\n",
            "| 695031 | M            | SANGOLDA       |                  3 | Oct-Dec       | Late evening | Big                | adult       |     0.75     |                  1        |\n",
            "| 547206 | M            | NEW DELHI      |                  3 | Oct-Dec       | Afternoon    | Big                | adult       |     0.555556 |                  0.714286 |\n",
            "| 813314 | M            | FARIDABAD      |                  3 | Jul-Sept      | Late evening | Big                | adult       |     0.555556 |                  0.714286 |\n",
            "CPU times: user 345 ms, sys: 929 µs, total: 346 ms\n",
            "Wall time: 373 ms\n"
          ]
        }
      ]
    },
    {
      "cell_type": "code",
      "source": [
        "%%time\n",
        "for user in range(36, 42):   #scan over the signature matrix of the query\n",
        "  #try with only one query customer \n",
        "  cust_signature = qsignatures[:, user].tolist()\n",
        "  cust = np.unique(cust_signature)\n",
        "  bucket = 0\n",
        "  for i in range(len(cust)):   \n",
        "    bucket += cust[i]*random.randint(1, n-1)  #hash function we apply to each column of the signature matrix\n",
        "  bucket = bucket % n\n",
        "  #put the customer in the corresponding bucket\n",
        "  \n",
        "  #near customers are in the same bucket\n",
        "  near_cust = buckets[bucket]\n",
        "  near_customers = modified_df.filter(near_cust, axis = 0)   #take from the modified dataframe the rows corresponding to the documents in the bucket\n",
        "   \n",
        "\n",
        "  #compute the similarity between the query customer and the other customers in the bucket \n",
        "  query_cust = set(new_df.loc[user, :].unique())\n",
        "  q_nocity = set(new_df.loc[user, no_city].unique())\n",
        "  #add in the dataframe a colum with the computed similarity\n",
        "  for customer, idx in zip(near_customers.values, near_customers.index):\n",
        "    sim1 = jaccard(query_cust, set(customer))   #similarity taking into account the city \n",
        "    cust_nocity = np.delete(customer, 1)\n",
        "    sim2 = jaccard(q_nocity, set(cust_nocity))      #similarity without taking into account the city\n",
        "    #print(idx)\n",
        "    near_customers.loc[idx, 'similarity'] = sim1\n",
        "    near_customers.loc[idx, 'similarity without city'] = sim2\n",
        "\n",
        "  print('\\nQuery Customer number:', user)\n",
        "  neigh = near_customers.sort_values(by = 'similarity', ascending = False).head(5)\n",
        "  print(neigh.to_markdown())"
      ],
      "metadata": {
        "colab": {
          "base_uri": "https://localhost:8080/"
        },
        "id": "LK8elCHfhaop",
        "outputId": "dc7c49da-a682-415e-e118-ec36a866196b"
      },
      "execution_count": 194,
      "outputs": [
        {
          "output_type": "stream",
          "name": "stdout",
          "text": [
            "\n",
            "Query Customer number: 36\n",
            "|        | CustGender   | CustLocation   |   discrete_balance | period_year   | period_day   | transaction_size   | age_group   |   similarity |   similarity without city |\n",
            "|-------:|:-------------|:---------------|-------------------:|:--------------|:-------------|:-------------------|:------------|-------------:|--------------------------:|\n",
            "| 729154 | M            | NEW DELHI      |                  3 | Jan-Mar       | Late evening | Small              | adult       |     0.75     |                  0.714286 |\n",
            "| 673192 | M            | NEW DELHI      |                  3 | Jan-Mar       | Afternoon    | Big                | adult       |     0.75     |                  0.714286 |\n",
            "| 587958 | M            | NEW DELHI      |                  3 | Jan-Mar       | Late evening | Small              | adult       |     0.75     |                  0.714286 |\n",
            "|  73304 | M            | KARNAL         |                  3 | Jan-Mar       | Late evening | Big                | adult       |     0.75     |                  1        |\n",
            "| 540663 | M            | GUWAHATI       |                  3 | Jul-Sept      | Late evening | Big                | adult       |     0.555556 |                  0.714286 |\n",
            "\n",
            "Query Customer number: 37\n",
            "|        | CustGender   | CustLocation   |   discrete_balance | period_year   | period_day   | transaction_size   | age_group   |   similarity |   similarity without city |\n",
            "|-------:|:-------------|:---------------|-------------------:|:--------------|:-------------|:-------------------|:------------|-------------:|--------------------------:|\n",
            "| 524991 | M            | BANGALORE      |                  0 | Jul-Sept      | Late evening | Small              | adult       |         1    |                  1        |\n",
            "| 597355 | M            | BHUBANESHWAR   |                  0 | Jul-Sept      | Late evening | Small              | adult       |         0.75 |                  1        |\n",
            "| 701147 | M            | BANGALORE      |                  1 | Jul-Sept      | Late evening | Small              | adult       |         0.75 |                  0.714286 |\n",
            "| 619126 | M            | GURGAON        |                  0 | Jul-Sept      | Late evening | Small              | adult       |         0.75 |                  1        |\n",
            "| 151843 | M            | MUMBAI         |                  0 | Jul-Sept      | Late evening | Small              | adult       |         0.75 |                  1        |\n",
            "\n",
            "Query Customer number: 38\n",
            "|        | CustGender   | CustLocation   |   discrete_balance | period_year   | period_day   | transaction_size   | age_group   |   similarity |   similarity without city |\n",
            "|-------:|:-------------|:---------------|-------------------:|:--------------|:-------------|:-------------------|:------------|-------------:|--------------------------:|\n",
            "| 165657 | M            | NEW DELHI      |                  3 | Jan-Mar       | Afternoon    | Big                | adult       |     0.75     |                  0.714286 |\n",
            "| 109610 | M            | NEW DELHI      |                  1 | Jul-Sept      | Afternoon    | Big                | adult       |     0.75     |                  0.714286 |\n",
            "| 761207 | M            | NEW DELHI      |                  0 | Jul-Sept      | Afternoon    | Big                | adult       |     0.555556 |                  0.5      |\n",
            "| 214353 | M            | NEW DELHI      |                  1 | Jul-Sept      | Afternoon    | Medium             | adult       |     0.555556 |                  0.5      |\n",
            "| 706374 | M            | TAORU          |                  1 | Jan-Mar       | Afternoon    | Small              | adult       |     0.555556 |                  0.714286 |\n",
            "\n",
            "Query Customer number: 39\n",
            "|        | CustGender   | CustLocation   |   discrete_balance | period_year   | period_day   | transaction_size   | age_group   |   similarity |   similarity without city |\n",
            "|-------:|:-------------|:---------------|-------------------:|:--------------|:-------------|:-------------------|:------------|-------------:|--------------------------:|\n",
            "|  13361 | M            | BAHADVR GARH   |                  1 | Jan-Mar       | Afternoon    | Small              | adult       |         0.75 |                         1 |\n",
            "| 748688 | M            | VAPI           |                  1 | Jan-Mar       | Afternoon    | Small              | adult       |         0.75 |                         1 |\n",
            "| 179004 | M            | MUMBAI         |                  1 | Jan-Mar       | Afternoon    | Small              | adult       |         0.75 |                         1 |\n",
            "| 372052 | M            | HADAPSAR PUNE  |                  1 | Jan-Mar       | Afternoon    | Small              | adult       |         0.75 |                         1 |\n",
            "| 297746 | M            | BANGALORE      |                  1 | Jan-Mar       | Afternoon    | Small              | adult       |         0.75 |                         1 |\n",
            "\n",
            "Query Customer number: 40\n",
            "|        | CustGender   | CustLocation   |   discrete_balance | period_year   | period_day   | transaction_size   | age_group   |   similarity |   similarity without city |\n",
            "|-------:|:-------------|:---------------|-------------------:|:--------------|:-------------|:-------------------|:------------|-------------:|--------------------------:|\n",
            "| 240323 | M            | CHENNAI        |                  0 | Jul-Sept      | Late evening | Small              | adult       |         1    |                         1 |\n",
            "| 140603 | M            | MUMBAI         |                  0 | Jul-Sept      | Late evening | Small              | adult       |         0.75 |                         1 |\n",
            "| 342380 | M            | KOLKATA        |                  0 | Jul-Sept      | Late evening | Small              | adult       |         0.75 |                         1 |\n",
            "| 169084 | M            | MUMBAI         |                  0 | Jul-Sept      | Late evening | Small              | adult       |         0.75 |                         1 |\n",
            "| 146480 | M            | ALLAHABAD      |                  0 | Jul-Sept      | Late evening | Small              | adult       |         0.75 |                         1 |\n",
            "\n",
            "Query Customer number: 41\n",
            "|        | CustGender   | CustLocation    |   discrete_balance | period_year   | period_day   | transaction_size   | age_group   |   similarity |   similarity without city |\n",
            "|-------:|:-------------|:----------------|-------------------:|:--------------|:-------------|:-------------------|:------------|-------------:|--------------------------:|\n",
            "|  71015 | M            | THANE (WEST)    |                  2 | Jul-Sept      | Afternoon    | Small              | adult       |         0.75 |                         1 |\n",
            "| 398174 | M            | GANDHINAGAR     |                  2 | Jul-Sept      | Afternoon    | Small              | adult       |         0.75 |                         1 |\n",
            "| 545615 | M            | HOSPITAL MUMBAI |                  2 | Jul-Sept      | Afternoon    | Small              | adult       |         0.75 |                         1 |\n",
            "| 541505 | M            | BANGALORE       |                  2 | Jul-Sept      | Afternoon    | Small              | adult       |         0.75 |                         1 |\n",
            "| 315007 | M            | NOIDA           |                  2 | Jul-Sept      | Afternoon    | Small              | adult       |         0.75 |                         1 |\n",
            "CPU times: user 1.54 s, sys: 58 ms, total: 1.6 s\n",
            "Wall time: 1.54 s\n"
          ]
        }
      ]
    },
    {
      "cell_type": "code",
      "source": [
        "%%time\n",
        "for user in range(46, 48):   #scan over the signature matrix of the query\n",
        "  #try with only one query customer \n",
        "  cust_signature = qsignatures[:, user].tolist()\n",
        "  cust = np.unique(cust_signature)\n",
        "  bucket = 0\n",
        "  for i in range(len(cust)):   \n",
        "    bucket += cust[i]*random.randint(1, n-1)  #hash function we apply to each column of the signature matrix\n",
        "  bucket = bucket % n\n",
        "  #put the customer in the corresponding bucket\n",
        "  \n",
        "  #near customers are in the same bucket\n",
        "  near_cust = buckets[bucket]\n",
        "  near_customers = modified_df.filter(near_cust, axis = 0)   #take from the modified dataframe the rows corresponding to the documents in the bucket\n",
        "   \n",
        "\n",
        "  #compute the similarity between the query customer and the other customers in the bucket \n",
        "  query_cust = set(new_df.loc[user, :].unique())\n",
        "  q_nocity = set(new_df.loc[user, no_city].unique())\n",
        "  #add in the dataframe a colum with the computed similarity\n",
        "  for customer, idx in zip(near_customers.values, near_customers.index):\n",
        "    sim1 = jaccard(query_cust, set(customer))   #similarity taking into account the city \n",
        "    cust_nocity = np.delete(customer, 1)\n",
        "    sim2 = jaccard(q_nocity, set(cust_nocity))      #similarity without taking into account the city\n",
        "    #print(idx)\n",
        "    near_customers.loc[idx, 'similarity'] = sim1\n",
        "    near_customers.loc[idx, 'similarity without city'] = sim2\n",
        "\n",
        "  print('\\nQuery Customer number:', user)\n",
        "  neigh = near_customers.sort_values(by = 'similarity', ascending = False).head(5)\n",
        "  print(neigh.to_markdown())"
      ],
      "metadata": {
        "colab": {
          "base_uri": "https://localhost:8080/"
        },
        "id": "qNS59NvFhfoM",
        "outputId": "0e82ccab-4e41-4611-9dfb-5b3af0e27bc5"
      },
      "execution_count": 195,
      "outputs": [
        {
          "output_type": "stream",
          "name": "stdout",
          "text": [
            "\n",
            "Query Customer number: 46\n",
            "|        | CustGender   | CustLocation   |   discrete_balance | period_year   | period_day   | transaction_size   | age_group   |   similarity |   similarity without city |\n",
            "|-------:|:-------------|:---------------|-------------------:|:--------------|:-------------|:-------------------|:------------|-------------:|--------------------------:|\n",
            "| 160806 | M            | CHENNAI        |                  1 | Jan-Mar       | Late evening | Small              | adult       |         0.75 |                  0.714286 |\n",
            "| 193185 | M            | PONDICHERRY    |                  1 | Jul-Sept      | Late evening | Small              | adult       |         0.75 |                  1        |\n",
            "| 335643 | M            | GURGAON        |                  1 | Jul-Sept      | Late evening | Small              | adult       |         0.75 |                  1        |\n",
            "| 605776 | M            | LAXMINAGAR     |                  1 | Jul-Sept      | Late evening | Small              | adult       |         0.75 |                  1        |\n",
            "| 575398 | M            | CHENNAI        |                  1 | Jul-Sept      | Late evening | Big                | adult       |         0.75 |                  0.714286 |\n",
            "\n",
            "Query Customer number: 47\n",
            "|        | CustGender   | CustLocation   |   discrete_balance | period_year   | period_day   | transaction_size   | age_group   |   similarity |   similarity without city |\n",
            "|-------:|:-------------|:---------------|-------------------:|:--------------|:-------------|:-------------------|:------------|-------------:|--------------------------:|\n",
            "| 396588 | M            | AVINASHI       |                  3 | Jul-Sept      | Late evening | Small              | adult       |     0.75     |                  1        |\n",
            "| 865501 | M            | MUMBAI         |                  3 | Jul-Sept      | Late evening | Small              | adult       |     0.75     |                  1        |\n",
            "| 418634 | M            | NEW DELHI      |                  3 | Jul-Sept      | Late evening | Small              | adult       |     0.75     |                  1        |\n",
            "| 862376 | M            | RAMAPURAM      |                  3 | Jul-Sept      | Late evening | Small              | adult       |     0.75     |                  1        |\n",
            "| 165781 | M            | MUMBAI         |                  3 | Jul-Sept      | Afternoon    | Small              | adult       |     0.555556 |                  0.714286 |\n",
            "CPU times: user 466 ms, sys: 4.17 ms, total: 470 ms\n",
            "Wall time: 469 ms\n"
          ]
        }
      ]
    },
    {
      "cell_type": "code",
      "source": [
        "%%time\n",
        "for user in range(49, 50):   #scan over the signature matrix of the query\n",
        "  #try with only one query customer \n",
        "  cust_signature = qsignatures[:, user].tolist()\n",
        "  cust = np.unique(cust_signature)\n",
        "  bucket = 0\n",
        "  for i in range(len(cust)):   \n",
        "    bucket += cust[i]*random.randint(1, n-1)  #hash function we apply to each column of the signature matrix\n",
        "  bucket = bucket % n\n",
        "  #put the customer in the corresponding bucket\n",
        "  \n",
        "  #near customers are in the same bucket\n",
        "  near_cust = buckets[bucket]\n",
        "  near_customers = modified_df.filter(near_cust, axis = 0)   #take from the modified dataframe the rows corresponding to the documents in the bucket\n",
        "   \n",
        "\n",
        "  #compute the similarity between the query customer and the other customers in the bucket \n",
        "  query_cust = set(new_df.loc[user, :].unique())\n",
        "  q_nocity = set(new_df.loc[user, no_city].unique())\n",
        "  #add in the dataframe a colum with the computed similarity\n",
        "  for customer, idx in zip(near_customers.values, near_customers.index):\n",
        "    sim1 = jaccard(query_cust, set(customer))   #similarity taking into account the city \n",
        "    cust_nocity = np.delete(customer, 1)\n",
        "    sim2 = jaccard(q_nocity, set(cust_nocity))      #similarity without taking into account the city\n",
        "    #print(idx)\n",
        "    near_customers.loc[idx, 'similarity'] = sim1\n",
        "    near_customers.loc[idx, 'similarity without city'] = sim2\n",
        "\n",
        "  print('\\nQuery Customer number:', user)\n",
        "  neigh = near_customers.sort_values(by = 'similarity', ascending = False).head(5)\n",
        "  print(neigh.to_markdown())"
      ],
      "metadata": {
        "colab": {
          "base_uri": "https://localhost:8080/"
        },
        "id": "fSUo-QzShrcR",
        "outputId": "5c0124e9-bbcc-44dd-9642-64b23e19962e"
      },
      "execution_count": 196,
      "outputs": [
        {
          "output_type": "stream",
          "name": "stdout",
          "text": [
            "\n",
            "Query Customer number: 49\n",
            "|        | CustGender   | CustLocation            |   discrete_balance | period_year   | period_day   | transaction_size   | age_group   |   similarity |   similarity without city |\n",
            "|-------:|:-------------|:------------------------|-------------------:|:--------------|:-------------|:-------------------|:------------|-------------:|--------------------------:|\n",
            "| 690574 | M            | HOSUR                   |                  1 | Jul-Sept      | Morning      | Medium             | adult       |     0.555556 |                  0.714286 |\n",
            "| 712282 | M            | KOLKATA                 |                  1 | Apr-Jun       | Afternoon    | Medium             | adult       |     0.555556 |                  0.714286 |\n",
            "| 561278 | M            | DELHI                   |                  3 | Jul-Sept      | Morning      | Medium             | adult       |     0.555556 |                  0.5      |\n",
            "| 338433 | M            | DELHI                   |                  1 | Apr-Jun       | Morning      | Small              | teen-ager   |     0.555556 |                  0.5      |\n",
            "| 271258 | M            | MARG LOWER PAREL MUMBAI |                  1 | Oct-Dec       | Morning      | Medium             | adult       |     0.555556 |                  0.714286 |\n",
            "CPU times: user 397 ms, sys: 779 µs, total: 398 ms\n",
            "Wall time: 445 ms\n"
          ]
        }
      ]
    },
    {
      "cell_type": "markdown",
      "source": [
        "In general, the performance of the algorithm are not so bad, even if the values of b and r were set to have all equal signatures in the same bucket.\n",
        "We computed similarity with and without considering the city, since we didn't have it in the characteristic matrix; as we expected, in general, the similarity without the city is higher. \n",
        "For what concerns the computational time, finding similar costumer has been very fast since we compared only a hundreds of users instead of more than 879000. "
      ],
      "metadata": {
        "id": "pJ3fzIEziDfB"
      }
    }
  ],
  "metadata": {
    "colab": {
      "provenance": [],
      "collapsed_sections": [
        "RWvqIMdLvMgX",
        "NlEQmk5stmPs"
      ],
      "mount_file_id": "13EvyDhx-elu5A0AtAkfmXnYOzN2RjClA",
      "authorship_tag": "ABX9TyPYX30imffFUKCYPNjitKJV",
      "include_colab_link": true
    },
    "kernelspec": {
      "display_name": "Python 3",
      "name": "python3"
    },
    "language_info": {
      "name": "python"
    }
  },
  "nbformat": 4,
  "nbformat_minor": 0
}